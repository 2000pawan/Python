def calculate_string(string):
    count=0
    for i in string:
        count+=1
    return count
string='I am Pawan Yadav. I am AI Engineer'
print(calculate_string(string))


def count_frequency_char(str1):
    freq={}
    for i in str1:
        keys=freq.keys()
        if i in keys:
            freq[i]+=1
        else:
            freq[i]=1
    return freq
str1='google.com'
print(count_frequency_char(str1))


def string_char(str1):
    if len(str1)<2:
        return '" "'
    return str1[:2]+str1[-2::]
str1='w3resource'
print(string_char(str1))
str1='w3'
print(string_char(str1))
str1='w'
print(string_char(str1))


def char_swap(str1):
    x=str1[0]
    str1=str1.replace(x,'$')
    str1=x+str1[1:]
    return str1
str1='restart'
print(char_swap(str1))


def swap_two_string(str1,str2):
    char=str2[:2]+str1[2:]+' '+str1[:2]+str2[2]
    return char
str1='abc'
str2='xyz'
print(swap_two_string(str1,str2))


def change_char(str1):
    if len(str1)<3:
        return str1
    if str1[-3::1]=='ing':
        str1+='ly'
    else:
        str1+='ing'
    return str1
str1='abc'
print(change_char(str1))
str1='string'
print(change_char(str1))
str1='ab'
print(change_char(str1))


def remove_char(str1):
    snot=str1.find('not')
    spoor=str1.find('poor')
    if spoor>snot and snot>0 and spoor >0:
        str1=str1.replace(str1[snot:(spoor+4)],'good')
        return str1
    else:
        return str1
str1='The lyrics is not that poor!'
print(remove_char(str1))
str1='The lyrics is poor!'
print(remove_char(str1))


def find_max_len(str1):
    list=[]
    for i in str1:
        list.append((len(i),i))
    list.sort()
    return list[-1][0],list[-1][1]
str1=['pawan','ram','exercise']
result=find_max_len(str1)
print("Longest word: ", result[1])
print("Length of the longest word: ", result[0])


def remove_char(str1,n):
    first=str1[:n]
    last=str1[n+1::]
    return first+last
print(remove_char('Python', 0))  
print(remove_char('Python', 3))  
print(remove_char('Python', 5))


def change_str(str1):
    return str1[-1:] + str1[1:-1] + str1[:1]
print(change_str('abcd'))   # Output: 'dbca'
print(change_str('12345'))






