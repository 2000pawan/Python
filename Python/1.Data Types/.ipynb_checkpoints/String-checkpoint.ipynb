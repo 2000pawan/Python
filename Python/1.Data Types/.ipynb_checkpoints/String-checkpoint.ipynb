{
 "cells": [
  {
   "cell_type": "code",
   "execution_count": 5,
   "id": "81e9120a-3f24-4ab4-8418-d9b8c72df839",
   "metadata": {},
   "outputs": [
    {
     "name": "stdout",
     "output_type": "stream",
     "text": [
      "34\n"
     ]
    }
   ],
   "source": [
    "def calculate_string(string):\n",
    "    count=0\n",
    "    for i in string:\n",
    "        count+=1\n",
    "    return count\n",
    "string='I am Pawan Yadav. I am AI Engineer'\n",
    "print(calculate_string(string))"
   ]
  },
  {
   "cell_type": "code",
   "execution_count": 7,
   "id": "2d4a372c-bde8-4731-8e0c-59854adc556a",
   "metadata": {},
   "outputs": [
    {
     "name": "stdout",
     "output_type": "stream",
     "text": [
      "{'g': 2, 'o': 3, 'l': 1, 'e': 1, '.': 1, 'c': 1, 'm': 1}\n"
     ]
    }
   ],
   "source": [
    "def count_frequency_char(str1):\n",
    "    freq={}\n",
    "    for i in str1:\n",
    "        keys=freq.keys()\n",
    "        if i in keys:\n",
    "            freq[i]+=1\n",
    "        else:\n",
    "            freq[i]=1\n",
    "    return freq\n",
    "str1='google.com'\n",
    "print(count_frequency_char(str1))"
   ]
  },
  {
   "cell_type": "code",
   "execution_count": 20,
   "id": "416bdfa5-8027-4052-966d-b88c7d0d9d5f",
   "metadata": {},
   "outputs": [
    {
     "name": "stdout",
     "output_type": "stream",
     "text": [
      "w3ce\n",
      "w3w3\n",
      "\" \"\n"
     ]
    }
   ],
   "source": [
    "def string_char(str1):\n",
    "    if len(str1)<2:\n",
    "        return '\" \"'\n",
    "    return str1[:2]+str1[-2::]\n",
    "str1='w3resource'\n",
    "print(string_char(str1))\n",
    "str1='w3'\n",
    "print(string_char(str1))\n",
    "str1='w'\n",
    "print(string_char(str1))"
   ]
  },
  {
   "cell_type": "code",
   "execution_count": 36,
   "id": "9973860d-5f26-4afa-b2a5-692d37533ce9",
   "metadata": {},
   "outputs": [
    {
     "name": "stdout",
     "output_type": "stream",
     "text": [
      "resta$t\n"
     ]
    }
   ],
   "source": [
    "def char_swap(str1):\n",
    "    x=str1[0]\n",
    "    str1=str1.replace(x,'$')\n",
    "    str1=x+str1[1:]\n",
    "    return str1\n",
    "str1='restart'\n",
    "print(char_swap(str1))"
   ]
  },
  {
   "cell_type": "code",
   "execution_count": 37,
   "id": "3a3efaa0-86b5-4cda-8587-83d2557ecc16",
   "metadata": {},
   "outputs": [
    {
     "name": "stdout",
     "output_type": "stream",
     "text": [
      "xyc abz\n"
     ]
    }
   ],
   "source": [
    "def swap_two_string(str1,str2):\n",
    "    char=str2[:2]+str1[2:]+' '+str1[:2]+str2[2]\n",
    "    return char\n",
    "str1='abc'\n",
    "str2='xyz'\n",
    "print(swap_two_string(str1,str2))"
   ]
  },
  {
   "cell_type": "code",
   "execution_count": 40,
   "id": "034eb72c-e478-45d3-b764-5d8876076c6c",
   "metadata": {},
   "outputs": [
    {
     "name": "stdout",
     "output_type": "stream",
     "text": [
      "abcing\n",
      "stringly\n",
      "ab\n"
     ]
    }
   ],
   "source": [
    "def change_char(str1):\n",
    "    if len(str1)<3:\n",
    "        return str1\n",
    "    if str1[-3::1]=='ing':\n",
    "        str1+='ly'\n",
    "    else:\n",
    "        str1+='ing'\n",
    "    return str1\n",
    "str1='abc'\n",
    "print(change_char(str1))\n",
    "str1='string'\n",
    "print(change_char(str1))\n",
    "str1='ab'\n",
    "print(change_char(str1))"
   ]
  },
  {
   "cell_type": "code",
   "execution_count": 44,
   "id": "09f6a229-0018-4746-882c-fe666a7fe5e9",
   "metadata": {},
   "outputs": [
    {
     "name": "stdout",
     "output_type": "stream",
     "text": [
      "The lyrics is good!\n",
      "The lyrics is poor!\n"
     ]
    }
   ],
   "source": [
    "def remove_char(str1):\n",
    "    snot=str1.find('not')\n",
    "    spoor=str1.find('poor')\n",
    "    if spoor>snot and snot>0 and spoor >0:\n",
    "        str1=str1.replace(str1[snot:(spoor+4)],'good')\n",
    "        return str1\n",
    "    else:\n",
    "        return str1\n",
    "str1='The lyrics is not that poor!'\n",
    "print(remove_char(str1))\n",
    "str1='The lyrics is poor!'\n",
    "print(remove_char(str1))"
   ]
  },
  {
   "cell_type": "code",
   "execution_count": 51,
   "id": "86dc33aa-5996-4490-b132-60a03fa9e8b4",
   "metadata": {},
   "outputs": [
    {
     "name": "stdout",
     "output_type": "stream",
     "text": [
      "Longest word:  exercise\n",
      "Length of the longest word:  8\n"
     ]
    }
   ],
   "source": [
    "def find_max_len(str1):\n",
    "    list=[]\n",
    "    for i in str1:\n",
    "        list.append((len(i),i))\n",
    "    list.sort()\n",
    "    return list[-1][0],list[-1][1]\n",
    "str1=['pawan','ram','exercise']\n",
    "result=find_max_len(str1)\n",
    "print(\"Longest word: \", result[1])\n",
    "print(\"Length of the longest word: \", result[0])"
   ]
  },
  {
   "cell_type": "code",
   "execution_count": 53,
   "id": "9ca0f723-e5e8-4037-aef3-b2eadd0f3607",
   "metadata": {},
   "outputs": [
    {
     "name": "stdout",
     "output_type": "stream",
     "text": [
      "ython\n",
      "Pyton\n",
      "Pytho\n"
     ]
    }
   ],
   "source": [
    "def remove_char(str1,n):\n",
    "    first=str1[:n]\n",
    "    last=str1[n+1::]\n",
    "    return first+last\n",
    "print(remove_char('Python', 0))  \n",
    "print(remove_char('Python', 3))  \n",
    "print(remove_char('Python', 5))"
   ]
  },
  {
   "cell_type": "code",
   "execution_count": 55,
   "id": "ed441c33-220e-4fe6-b067-df0e44a2b82e",
   "metadata": {},
   "outputs": [
    {
     "name": "stdout",
     "output_type": "stream",
     "text": [
      "dbca\n",
      "52341\n"
     ]
    }
   ],
   "source": [
    "def change_str(str1):\n",
    "    return str1[-1:] + str1[1:-1] + str1[:1]\n",
    "print(change_str('abcd'))   # Output: 'dbca'\n",
    "print(change_str('12345'))"
   ]
  },
  {
   "cell_type": "code",
   "execution_count": null,
   "id": "672d10b2-2765-4c5b-83b3-d7c6d2a95a51",
   "metadata": {},
   "outputs": [],
   "source": []
  },
  {
   "cell_type": "code",
   "execution_count": null,
   "id": "800d3bb9-00b1-4124-998f-85eba832a098",
   "metadata": {},
   "outputs": [],
   "source": []
  }
 ],
 "metadata": {
  "kernelspec": {
   "display_name": "Python 3 (ipykernel)",
   "language": "python",
   "name": "python3"
  },
  "language_info": {
   "codemirror_mode": {
    "name": "ipython",
    "version": 3
   },
   "file_extension": ".py",
   "mimetype": "text/x-python",
   "name": "python",
   "nbconvert_exporter": "python",
   "pygments_lexer": "ipython3",
   "version": "3.11.7"
  },
  "widgets": {
   "application/vnd.jupyter.widget-state+json": {
    "state": {},
    "version_major": 2,
    "version_minor": 0
   }
  }
 },
 "nbformat": 4,
 "nbformat_minor": 5
}
