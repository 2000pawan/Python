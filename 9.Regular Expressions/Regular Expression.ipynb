{
 "cells": [
  {
   "cell_type": "code",
   "execution_count": 5,
   "id": "0e2b18bb-d7bb-4772-913b-2b5e869b25c4",
   "metadata": {
    "tags": []
   },
   "outputs": [
    {
     "name": "stdout",
     "output_type": "stream",
     "text": [
      "True\n",
      "False\n"
     ]
    }
   ],
   "source": [
    "import re\n",
    "def is_allowed(string):\n",
    "    c=re.compile(r'[^a-zA-z0-9]')\n",
    "    string=c.search(string)\n",
    "    return not bool(string)\n",
    "print(is_allowed('ABCDEFabcdef123450'))\n",
    "print(is_allowed(\"''*&%@#!}{\"\"}\"))"
   ]
  },
  {
   "cell_type": "code",
   "execution_count": 7,
   "id": "eb79add1-9acf-4a55-b65c-02016ae4c63d",
   "metadata": {
    "tags": []
   },
   "outputs": [
    {
     "name": "stdout",
     "output_type": "stream",
     "text": [
      "Not matched!\n",
      "Not matched!\n",
      "Found a match!\n",
      "Found a match!\n",
      "Found a match!\n"
     ]
    }
   ],
   "source": [
    "import re\n",
    "def text_match(text):\n",
    "        patterns = '^a(b*)$'\n",
    "        if re.search(patterns,  text):\n",
    "                return 'Found a match!'\n",
    "        else:\n",
    "                return('Not matched!')\n",
    "print(text_match(\"ac\"))\n",
    "print(text_match(\"abc\"))\n",
    "print(text_match(\"a\"))\n",
    "print(text_match(\"ab\"))\n",
    "print(text_match(\"abb\"))"
   ]
  },
  {
   "cell_type": "code",
   "execution_count": 1,
   "id": "7dcb9e6a-df1a-48ff-952a-960544ce8844",
   "metadata": {},
   "outputs": [
    {
     "name": "stdout",
     "output_type": "stream",
     "text": [
      "Not matched!\n",
      "Found a match!\n",
      "Not matched!\n",
      "Found a match!\n",
      "Found a match!\n"
     ]
    }
   ],
   "source": [
    "import re\n",
    "def text_match(text):\n",
    "        patterns = '^ab+?'\n",
    "        if re.search(patterns,  text):\n",
    "                return 'Found a match!'\n",
    "        else:\n",
    "                return('Not matched!')\n",
    "print(text_match(\"ac\"))\n",
    "print(text_match(\"abc\"))\n",
    "print(text_match(\"a\"))\n",
    "print(text_match(\"ab\"))\n",
    "print(text_match(\"abb\"))"
   ]
  },
  {
   "cell_type": "code",
   "execution_count": 9,
   "id": "5e241c15-fe92-4c16-bd6c-b5ab3bef7c54",
   "metadata": {
    "tags": []
   },
   "outputs": [
    {
     "name": "stdout",
     "output_type": "stream",
     "text": [
      "Found a match!\n",
      "Found a match!\n",
      "Found a match!\n",
      "Found a match!\n",
      "Found a match!\n"
     ]
    }
   ],
   "source": [
    "import re\n",
    "def text_match(text):\n",
    "        patterns = '^ab?'\n",
    "        if re.search(patterns,  text):\n",
    "                return 'Found a match!'\n",
    "        else:\n",
    "                return('Not matched!')\n",
    "print(text_match(\"ac\"))\n",
    "print(text_match(\"abc\"))\n",
    "print(text_match(\"a\"))\n",
    "print(text_match(\"ab\"))\n",
    "print(text_match(\"abb\"))"
   ]
  },
  {
   "cell_type": "code",
   "execution_count": 14,
   "id": "c97233cf-e63f-4db4-9e61-78674e54416b",
   "metadata": {
    "tags": []
   },
   "outputs": [
    {
     "name": "stdout",
     "output_type": "stream",
     "text": [
      "Not matched!\n",
      "Not matched!\n",
      "Not matched!\n",
      "Found a match!\n",
      "Found a match!\n"
     ]
    }
   ],
   "source": [
    "import re\n",
    "def text_match(text):\n",
    "        patterns = '^ab{3}?'\n",
    "        if re.search(patterns,  text):\n",
    "                return 'Found a match!'\n",
    "        else:\n",
    "                return('Not matched!')\n",
    "print(text_match(\"ac\"))\n",
    "print(text_match(\"abc\"))\n",
    "print(text_match(\"a\"))\n",
    "print(text_match(\"abbb\"))\n",
    "print(text_match(\"abbbbbbc\"))"
   ]
  },
  {
   "cell_type": "code",
   "execution_count": 18,
   "id": "22e80a12-2888-48c9-8c49-a51f02066531",
   "metadata": {
    "tags": []
   },
   "outputs": [
    {
     "name": "stdout",
     "output_type": "stream",
     "text": [
      "Not matched!\n",
      "Not matched!\n",
      "Not matched!\n",
      "Found a match!\n",
      "Found a match!\n"
     ]
    }
   ],
   "source": [
    "import re\n",
    "def text_match(text):\n",
    "        patterns = '^ab{2,3}?'\n",
    "        if re.search(patterns,  text):\n",
    "                return 'Found a match!'\n",
    "        else:\n",
    "                return('Not matched!')\n",
    "print(text_match(\"ac\"))\n",
    "print(text_match(\"abc\"))\n",
    "print(text_match(\"a\"))\n",
    "print(text_match(\"abbb\"))\n",
    "print(text_match(\"abb\"))"
   ]
  },
  {
   "cell_type": "code",
   "execution_count": 19,
   "id": "3cdbc9b8-724f-453a-ba57-fdf14538af90",
   "metadata": {
    "tags": []
   },
   "outputs": [
    {
     "name": "stdout",
     "output_type": "stream",
     "text": [
      "Found a Match!\n",
      "Not Matched!\n",
      "Not Matched!\n"
     ]
    }
   ],
   "source": [
    "import re\n",
    "def text_match(text):\n",
    "    patterns='^[a-z]+_[a-z]+$'\n",
    "    if re.search(patterns,text):\n",
    "        return 'Found a Match!'\n",
    "    else:\n",
    "        return 'Not Matched!'\n",
    "print(text_match('aab_cbbbc'))\n",
    "print(text_match('aab_Abbbc'))\n",
    "print(text_match('Aaab_abbbc'))"
   ]
  },
  {
   "cell_type": "code",
   "execution_count": 26,
   "id": "58e43bb8-9d08-46b7-a555-6dd591d9b31a",
   "metadata": {
    "tags": []
   },
   "outputs": [
    {
     "name": "stdout",
     "output_type": "stream",
     "text": [
      "Not Matched!\n",
      "Found a Match!\n",
      "Not Matched!\n",
      "Not Matched!\n",
      "Found a Match!\n",
      "Found a Match!\n",
      "Not Matched!\n",
      "Not Matched!\n",
      "Not Matched!\n",
      "Found a Match!\n"
     ]
    }
   ],
   "source": [
    "import re\n",
    "def main(x):\n",
    "    patterns='[A-Z]+[a-z]+$'\n",
    "    if re.search(patterns,x):\n",
    "        return 'Found a Match!'\n",
    "    else:\n",
    "        return \"Not Matched!\"\n",
    "print(main('aabbcdAB'))\n",
    "print(main('ABCabced'))\n",
    "print(main('AbbcaZXASDD'))\n",
    "print(main('acxdchABCDV'))\n",
    "print(main(\"AaBbGg\"))\n",
    "print(main(\"Python\"))\n",
    "print(main(\"python\"))\n",
    "print(main(\"PYTHON\"))\n",
    "print(main(\"aA\"))\n",
    "print(main(\"Aa\"))"
   ]
  },
  {
   "cell_type": "code",
   "execution_count": 30,
   "id": "f875c599-9bb4-45be-b365-cb82bbd7a454",
   "metadata": {
    "tags": []
   },
   "outputs": [
    {
     "name": "stdout",
     "output_type": "stream",
     "text": [
      "Not Match!\n",
      "Found a Match!\n",
      "Not Match!\n",
      "Found a Match!\n"
     ]
    }
   ],
   "source": [
    "import re\n",
    "def main(x):\n",
    "    pattern='a.*?b$'\n",
    "    if re.search(pattern,x):\n",
    "        return 'Found a Match!'\n",
    "    else:\n",
    "        return 'Not Match!'\n",
    "print(main('aabbcdAB'))\n",
    "print(main('ABCabcedb'))\n",
    "print(main(\"aA\"))\n",
    "print(main(\"aAab\"))"
   ]
  },
  {
   "cell_type": "code",
   "execution_count": null,
   "id": "9f0c1357-d908-4390-9b46-0d2a232e0c53",
   "metadata": {},
   "outputs": [],
   "source": []
  }
 ],
 "metadata": {
  "kernelspec": {
   "display_name": "Python 3 (ipykernel)",
   "language": "python",
   "name": "python3"
  },
  "language_info": {
   "codemirror_mode": {
    "name": "ipython",
    "version": 3
   },
   "file_extension": ".py",
   "mimetype": "text/x-python",
   "name": "python",
   "nbconvert_exporter": "python",
   "pygments_lexer": "ipython3",
   "version": "3.11.3"
  }
 },
 "nbformat": 4,
 "nbformat_minor": 5
}
