{
 "cells": [
  {
   "cell_type": "code",
   "execution_count": 5,
   "id": "0e2b18bb-d7bb-4772-913b-2b5e869b25c4",
   "metadata": {
    "tags": []
   },
   "outputs": [
    {
     "name": "stdout",
     "output_type": "stream",
     "text": [
      "True\n",
      "False\n"
     ]
    }
   ],
   "source": [
    "import re\n",
    "def is_allowed(string):\n",
    "    c=re.compile(r'[^a-zA-z0-9]')\n",
    "    string=c.search(string)\n",
    "    return not bool(string)\n",
    "print(is_allowed('ABCDEFabcdef123450'))\n",
    "print(is_allowed(\"''*&%@#!}{\"\"}\"))"
   ]
  },
  {
   "cell_type": "code",
   "execution_count": 7,
   "id": "eb79add1-9acf-4a55-b65c-02016ae4c63d",
   "metadata": {
    "tags": []
   },
   "outputs": [
    {
     "name": "stdout",
     "output_type": "stream",
     "text": [
      "Not matched!\n",
      "Not matched!\n",
      "Found a match!\n",
      "Found a match!\n",
      "Found a match!\n"
     ]
    }
   ],
   "source": [
    "import re\n",
    "def text_match(text):\n",
    "        patterns = '^a(b*)$'\n",
    "        if re.search(patterns,  text):\n",
    "                return 'Found a match!'\n",
    "        else:\n",
    "                return('Not matched!')\n",
    "print(text_match(\"ac\"))\n",
    "print(text_match(\"abc\"))\n",
    "print(text_match(\"a\"))\n",
    "print(text_match(\"ab\"))\n",
    "print(text_match(\"abb\"))"
   ]
  },
  {
   "cell_type": "code",
   "execution_count": 1,
   "id": "7dcb9e6a-df1a-48ff-952a-960544ce8844",
   "metadata": {},
   "outputs": [
    {
     "name": "stdout",
     "output_type": "stream",
     "text": [
      "Not matched!\n",
      "Found a match!\n",
      "Not matched!\n",
      "Found a match!\n",
      "Found a match!\n"
     ]
    }
   ],
   "source": [
    "import re\n",
    "def text_match(text):\n",
    "        patterns = '^ab+?'\n",
    "        if re.search(patterns,  text):\n",
    "                return 'Found a match!'\n",
    "        else:\n",
    "                return('Not matched!')\n",
    "print(text_match(\"ac\"))\n",
    "print(text_match(\"abc\"))\n",
    "print(text_match(\"a\"))\n",
    "print(text_match(\"ab\"))\n",
    "print(text_match(\"abb\"))"
   ]
  },
  {
   "cell_type": "code",
   "execution_count": 9,
   "id": "5e241c15-fe92-4c16-bd6c-b5ab3bef7c54",
   "metadata": {
    "tags": []
   },
   "outputs": [
    {
     "name": "stdout",
     "output_type": "stream",
     "text": [
      "Found a match!\n",
      "Found a match!\n",
      "Found a match!\n",
      "Found a match!\n",
      "Found a match!\n"
     ]
    }
   ],
   "source": [
    "import re\n",
    "def text_match(text):\n",
    "        patterns = '^ab?'\n",
    "        if re.search(patterns,  text):\n",
    "                return 'Found a match!'\n",
    "        else:\n",
    "                return('Not matched!')\n",
    "print(text_match(\"ac\"))\n",
    "print(text_match(\"abc\"))\n",
    "print(text_match(\"a\"))\n",
    "print(text_match(\"ab\"))\n",
    "print(text_match(\"abb\"))"
   ]
  },
  {
   "cell_type": "code",
   "execution_count": 14,
   "id": "c97233cf-e63f-4db4-9e61-78674e54416b",
   "metadata": {
    "tags": []
   },
   "outputs": [
    {
     "name": "stdout",
     "output_type": "stream",
     "text": [
      "Not matched!\n",
      "Not matched!\n",
      "Not matched!\n",
      "Found a match!\n",
      "Found a match!\n"
     ]
    }
   ],
   "source": [
    "import re\n",
    "def text_match(text):\n",
    "        patterns = '^ab{3}?'\n",
    "        if re.search(patterns,  text):\n",
    "                return 'Found a match!'\n",
    "        else:\n",
    "                return('Not matched!')\n",
    "print(text_match(\"ac\"))\n",
    "print(text_match(\"abc\"))\n",
    "print(text_match(\"a\"))\n",
    "print(text_match(\"abbb\"))\n",
    "print(text_match(\"abbbbbbc\"))"
   ]
  },
  {
   "cell_type": "code",
   "execution_count": 18,
   "id": "22e80a12-2888-48c9-8c49-a51f02066531",
   "metadata": {
    "tags": []
   },
   "outputs": [
    {
     "name": "stdout",
     "output_type": "stream",
     "text": [
      "Not matched!\n",
      "Not matched!\n",
      "Not matched!\n",
      "Found a match!\n",
      "Found a match!\n"
     ]
    }
   ],
   "source": [
    "import re\n",
    "def text_match(text):\n",
    "        patterns = '^ab{2,3}?'\n",
    "        if re.search(patterns,  text):\n",
    "                return 'Found a match!'\n",
    "        else:\n",
    "                return('Not matched!')\n",
    "print(text_match(\"ac\"))\n",
    "print(text_match(\"abc\"))\n",
    "print(text_match(\"a\"))\n",
    "print(text_match(\"abbb\"))\n",
    "print(text_match(\"abb\"))"
   ]
  },
  {
   "cell_type": "code",
   "execution_count": 19,
   "id": "3cdbc9b8-724f-453a-ba57-fdf14538af90",
   "metadata": {
    "tags": []
   },
   "outputs": [
    {
     "name": "stdout",
     "output_type": "stream",
     "text": [
      "Found a Match!\n",
      "Not Matched!\n",
      "Not Matched!\n"
     ]
    }
   ],
   "source": [
    "import re\n",
    "def text_match(text):\n",
    "    patterns='^[a-z]+_[a-z]+$'\n",
    "    if re.search(patterns,text):\n",
    "        return 'Found a Match!'\n",
    "    else:\n",
    "        return 'Not Matched!'\n",
    "print(text_match('aab_cbbbc'))\n",
    "print(text_match('aab_Abbbc'))\n",
    "print(text_match('Aaab_abbbc'))"
   ]
  },
  {
   "cell_type": "code",
   "execution_count": 26,
   "id": "58e43bb8-9d08-46b7-a555-6dd591d9b31a",
   "metadata": {
    "tags": []
   },
   "outputs": [
    {
     "name": "stdout",
     "output_type": "stream",
     "text": [
      "Not Matched!\n",
      "Found a Match!\n",
      "Not Matched!\n",
      "Not Matched!\n",
      "Found a Match!\n",
      "Found a Match!\n",
      "Not Matched!\n",
      "Not Matched!\n",
      "Not Matched!\n",
      "Found a Match!\n"
     ]
    }
   ],
   "source": [
    "import re\n",
    "def main(x):\n",
    "    patterns='[A-Z]+[a-z]+$'\n",
    "    if re.search(patterns,x):\n",
    "        return 'Found a Match!'\n",
    "    else:\n",
    "        return \"Not Matched!\"\n",
    "print(main('aabbcdAB'))\n",
    "print(main('ABCabced'))\n",
    "print(main('AbbcaZXASDD'))\n",
    "print(main('acxdchABCDV'))\n",
    "print(main(\"AaBbGg\"))\n",
    "print(main(\"Python\"))\n",
    "print(main(\"python\"))\n",
    "print(main(\"PYTHON\"))\n",
    "print(main(\"aA\"))\n",
    "print(main(\"Aa\"))"
   ]
  },
  {
   "cell_type": "code",
   "execution_count": 30,
   "id": "f875c599-9bb4-45be-b365-cb82bbd7a454",
   "metadata": {
    "tags": []
   },
   "outputs": [
    {
     "name": "stdout",
     "output_type": "stream",
     "text": [
      "Not Match!\n",
      "Found a Match!\n",
      "Not Match!\n",
      "Found a Match!\n"
     ]
    }
   ],
   "source": [
    "import re\n",
    "def main(x):\n",
    "    pattern='a.*?b$'\n",
    "    if re.search(pattern,x):\n",
    "        return 'Found a Match!'\n",
    "    else:\n",
    "        return 'Not Match!'\n",
    "print(main('aabbcdAB'))\n",
    "print(main('ABCabcedb'))\n",
    "print(main(\"aA\"))\n",
    "print(main(\"aAab\"))"
   ]
  },
  {
   "cell_type": "code",
   "execution_count": 37,
   "id": "9f0c1357-d908-4390-9b46-0d2a232e0c53",
   "metadata": {
    "tags": []
   },
   "outputs": [
    {
     "name": "stdout",
     "output_type": "stream",
     "text": [
      "Found a Match!\n",
      "Not Match!\n",
      "Not Match!\n",
      "Found a Match!\n",
      "Found a Match!\n",
      "Not Match!\n"
     ]
    }
   ],
   "source": [
    "import re\n",
    "def main(x):\n",
    "    pattern='^\\w+'\n",
    "    if re.search(pattern,x):\n",
    "        return 'Found a Match!'\n",
    "    else:\n",
    "        return 'Not Match!'\n",
    "print(main('aaaaPawan'))\n",
    "print(main(' byadav'))\n",
    "print(main(' 0abc'))\n",
    "print(main('Abc'))\n",
    "print(main(\"The quick brown fox jumps over the lazy dog.\"))\n",
    "print(main(\" The quick brown fox jumps over the lazy dog.\"))"
   ]
  },
  {
   "cell_type": "code",
   "execution_count": 44,
   "id": "536ab0b6-9e34-4b8f-86c2-4e8991d5da8a",
   "metadata": {
    "tags": []
   },
   "outputs": [
    {
     "name": "stdout",
     "output_type": "stream",
     "text": [
      "Not Match!\n",
      "Found a Match!\n",
      "Not Match!\n",
      "Not Match!\n",
      "Not Match!\n",
      "Found a Match!\n"
     ]
    }
   ],
   "source": [
    "import re\n",
    "def main(x):\n",
    "    pattern='\\w+\\S*$'\n",
    "    if re.search(pattern,x):\n",
    "        return 'Found a Match!'\n",
    "    else:\n",
    "        return 'Not Match!'\n",
    "print(main('aaaaPawan '))\n",
    "print(main(' byadav....'))\n",
    "print(main(' 0abc '))\n",
    "print(main('Abc '))\n",
    "print(main(\"The quick brown fox jumps over the lazy dog. \"))\n",
    "print(main(\" The quick brown fox jumps over the lazy dog.\"))"
   ]
  },
  {
   "cell_type": "code",
   "execution_count": 48,
   "id": "d316985f-a83e-46e4-ae30-3d01d3fdfc07",
   "metadata": {
    "tags": []
   },
   "outputs": [
    {
     "name": "stdout",
     "output_type": "stream",
     "text": [
      "Not Match!\n",
      "Not Match!\n",
      "Not Match!\n",
      "Found a Match!\n",
      "Not Match!\n"
     ]
    }
   ],
   "source": [
    "import re\n",
    "def main(x):\n",
    "    pattern='\\w*z.\\W*'\n",
    "    if re.search(pattern,x):\n",
    "        return 'Found a Match!'\n",
    "    else:\n",
    "        return 'Not Match!'\n",
    "print(main(' byadav....'))\n",
    "print(main(' 0abc '))\n",
    "print(main('Abc '))\n",
    "print(main(\"The quick brown fox jumps over the lazy dog. \"))\n",
    "print(main(\"Python Exercises.\"))"
   ]
  },
  {
   "cell_type": "code",
   "execution_count": 54,
   "id": "6662cd7c-8dff-4714-9cb0-352f78bfdc40",
   "metadata": {
    "tags": []
   },
   "outputs": [
    {
     "name": "stdout",
     "output_type": "stream",
     "text": [
      "Not Match!\n",
      "Not Match!\n",
      "Not Match!\n",
      "Found a Match!\n",
      "Not Match!\n"
     ]
    }
   ],
   "source": [
    "import re\n",
    "def main(x):\n",
    "    pattern='\\Bz\\B'\n",
    "    if re.search(pattern,x):\n",
    "        return 'Found a Match!'\n",
    "    else:\n",
    "        return 'Not Match!'\n",
    "print(main(' byadav....'))\n",
    "print(main(' 0abcz'))\n",
    "print(main('Abc '))\n",
    "print(main(\"The quick brown fox jumps over the lazy dog. \"))\n",
    "print(main(\"z Python Exercises.\"))"
   ]
  },
  {
   "cell_type": "code",
   "execution_count": 80,
   "id": "44bdd710-479a-4e13-af96-00d427653083",
   "metadata": {
    "tags": []
   },
   "outputs": [
    {
     "name": "stdout",
     "output_type": "stream",
     "text": [
      "Not Match!\n",
      "Found a Match!\n",
      "Found a Match!\n"
     ]
    }
   ],
   "source": [
    "import re\n",
    "def main(x):\n",
    "    pattern='^[a-zA-Z0-9_]*$'\n",
    "    if re.search(pattern,x):\n",
    "        return 'Found a Match!'\n",
    "    else:\n",
    "        return 'Not Match!'\n",
    "print(main('Pawan.'))\n",
    "print(main('2pawan'))\n",
    "print(main('Pawan_22'))"
   ]
  },
  {
   "cell_type": "code",
   "execution_count": 89,
   "id": "6d77ddd4-b453-48ae-98bb-8ad23b83ae76",
   "metadata": {
    "tags": []
   },
   "outputs": [
    {
     "name": "stdout",
     "output_type": "stream",
     "text": [
      "False\n",
      "True\n"
     ]
    }
   ],
   "source": [
    "import re\n",
    "def main(x):\n",
    "    pattern=re.compile(r'^6')\n",
    "    if pattern.match(x):\n",
    "        return True\n",
    "    else:\n",
    "        return False\n",
    "print(main('5-2345861'))\n",
    "print(main('6-2345861'))"
   ]
  },
  {
   "cell_type": "code",
   "execution_count": 97,
   "id": "6a155610-d2c6-4abe-b619-2fa08888c2dd",
   "metadata": {
    "tags": []
   },
   "outputs": [
    {
     "name": "stdout",
     "output_type": "stream",
     "text": [
      "216.8.94.296\n"
     ]
    }
   ],
   "source": [
    "import re\n",
    "ip='216.08.094.296'\n",
    "x=re.sub('\\.[0]*', '.',ip)\n",
    "print(x)"
   ]
  },
  {
   "cell_type": "code",
   "execution_count": 98,
   "id": "732a95d3-4643-4833-85d9-17ae296fd909",
   "metadata": {
    "tags": []
   },
   "outputs": [
    {
     "name": "stdout",
     "output_type": "stream",
     "text": [
      "False\n",
      "True\n"
     ]
    }
   ],
   "source": [
    "import re\n",
    "def end_num(string):\n",
    "    x=re.compile(r'.*[0-9]$')\n",
    "    if x.match(string):\n",
    "        return True\n",
    "    else:\n",
    "        return False\n",
    "print(end_num('PawanYadav'))\n",
    "print(end_num('PawanYadav22'))"
   ]
  },
  {
   "cell_type": "code",
   "execution_count": 102,
   "id": "2d68e84c-5c14-4e48-8849-9c2a689b40fc",
   "metadata": {
    "tags": []
   },
   "outputs": [
    {
     "name": "stdout",
     "output_type": "stream",
     "text": [
      "Number of length 1 to 3\n",
      "111\n",
      "2\n",
      "12\n",
      "13\n",
      "345\n"
     ]
    }
   ],
   "source": [
    "import re\n",
    "r=re.finditer(r'([0-9]{1,3})','Exercise number 1112,12,13,and 345 are importtant')\n",
    "print('Number of length 1 to 3')\n",
    "for i in r:\n",
    "    print(i.group(0))"
   ]
  },
  {
   "cell_type": "code",
   "execution_count": 107,
   "id": "e8a28fb1-129b-4c19-b8a5-a43016da4963",
   "metadata": {
    "tags": []
   },
   "outputs": [
    {
     "name": "stdout",
     "output_type": "stream",
     "text": [
      "Searching for \"fox\" in \"The quick fox jumps over the lazy dog.\" ->\n",
      "Matched!\n",
      "Searching for \"dog\" in \"The quick fox jumps over the lazy dog.\" ->\n",
      "Matched!\n",
      "Searching for \"horse\" in \"The quick fox jumps over the lazy dog.\" ->\n",
      "Not Matched!\n"
     ]
    }
   ],
   "source": [
    "import re\n",
    "patterns=['fox','dog','horse']\n",
    "x='The quick fox jumps over the lazy dog.'\n",
    "for i in patterns:\n",
    "    print('Searching for \"%s\" in \"%s\" ->'%(i,x),)\n",
    "    if re.search(i,x):\n",
    "        print('Matched!')\n",
    "    else:\n",
    "        print('Not Matched!')"
   ]
  },
  {
   "cell_type": "code",
   "execution_count": 116,
   "id": "4104db07-38e9-472a-b114-c4f39dc0a95f",
   "metadata": {
    "tags": []
   },
   "outputs": [
    {
     "name": "stdout",
     "output_type": "stream",
     "text": [
      "Found \"fox\" in \"The quick brown fox jumps over the lazy dog.\" from 16 to 19 \n"
     ]
    }
   ],
   "source": [
    "import re\n",
    "patterns='fox'\n",
    "x='The quick brown fox jumps over the lazy dog.'\n",
    "match=re.search(patterns,x)\n",
    "s=match.start()\n",
    "e=match.end()\n",
    "print('Found \"%s\" in \"%s\" from %d to %d ' %\\\n",
    "      (match.re.pattern, match.string,s,e))"
   ]
  },
  {
   "cell_type": "code",
   "execution_count": null,
   "id": "34ecd855-10df-4ab8-8470-72202276da58",
   "metadata": {},
   "outputs": [],
   "source": []
  }
 ],
 "metadata": {
  "kernelspec": {
   "display_name": "Python 3 (ipykernel)",
   "language": "python",
   "name": "python3"
  },
  "language_info": {
   "codemirror_mode": {
    "name": "ipython",
    "version": 3
   },
   "file_extension": ".py",
   "mimetype": "text/x-python",
   "name": "python",
   "nbconvert_exporter": "python",
   "pygments_lexer": "ipython3",
   "version": "3.11.3"
  }
 },
 "nbformat": 4,
 "nbformat_minor": 5
}
