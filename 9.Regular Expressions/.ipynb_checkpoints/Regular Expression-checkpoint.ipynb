{
 "cells": [
  {
   "cell_type": "code",
   "execution_count": 5,
   "id": "0e2b18bb-d7bb-4772-913b-2b5e869b25c4",
   "metadata": {
    "tags": []
   },
   "outputs": [
    {
     "name": "stdout",
     "output_type": "stream",
     "text": [
      "True\n",
      "False\n"
     ]
    }
   ],
   "source": [
    "import re\n",
    "def is_allowed(string):\n",
    "    c=re.compile(r'[^a-zA-z0-9]')\n",
    "    string=c.search(string)\n",
    "    return not bool(string)\n",
    "print(is_allowed('ABCDEFabcdef123450'))\n",
    "print(is_allowed(\"''*&%@#!}{\"\"}\"))"
   ]
  },
  {
   "cell_type": "code",
   "execution_count": 7,
   "id": "eb79add1-9acf-4a55-b65c-02016ae4c63d",
   "metadata": {
    "tags": []
   },
   "outputs": [
    {
     "name": "stdout",
     "output_type": "stream",
     "text": [
      "Not matched!\n",
      "Not matched!\n",
      "Found a match!\n",
      "Found a match!\n",
      "Found a match!\n"
     ]
    }
   ],
   "source": [
    "import re\n",
    "def text_match(text):\n",
    "        patterns = '^a(b*)$'\n",
    "        if re.search(patterns,  text):\n",
    "                return 'Found a match!'\n",
    "        else:\n",
    "                return('Not matched!')\n",
    "print(text_match(\"ac\"))\n",
    "print(text_match(\"abc\"))\n",
    "print(text_match(\"a\"))\n",
    "print(text_match(\"ab\"))\n",
    "print(text_match(\"abb\"))"
   ]
  },
  {
   "cell_type": "code",
   "execution_count": 1,
   "id": "7dcb9e6a-df1a-48ff-952a-960544ce8844",
   "metadata": {},
   "outputs": [
    {
     "name": "stdout",
     "output_type": "stream",
     "text": [
      "Not matched!\n",
      "Found a match!\n",
      "Not matched!\n",
      "Found a match!\n",
      "Found a match!\n"
     ]
    }
   ],
   "source": [
    "import re\n",
    "def text_match(text):\n",
    "        patterns = '^ab+?'\n",
    "        if re.search(patterns,  text):\n",
    "                return 'Found a match!'\n",
    "        else:\n",
    "                return('Not matched!')\n",
    "print(text_match(\"ac\"))\n",
    "print(text_match(\"abc\"))\n",
    "print(text_match(\"a\"))\n",
    "print(text_match(\"ab\"))\n",
    "print(text_match(\"abb\"))"
   ]
  },
  {
   "cell_type": "code",
   "execution_count": 9,
   "id": "5e241c15-fe92-4c16-bd6c-b5ab3bef7c54",
   "metadata": {
    "tags": []
   },
   "outputs": [
    {
     "name": "stdout",
     "output_type": "stream",
     "text": [
      "Found a match!\n",
      "Found a match!\n",
      "Found a match!\n",
      "Found a match!\n",
      "Found a match!\n"
     ]
    }
   ],
   "source": [
    "import re\n",
    "def text_match(text):\n",
    "        patterns = '^ab?'\n",
    "        if re.search(patterns,  text):\n",
    "                return 'Found a match!'\n",
    "        else:\n",
    "                return('Not matched!')\n",
    "print(text_match(\"ac\"))\n",
    "print(text_match(\"abc\"))\n",
    "print(text_match(\"a\"))\n",
    "print(text_match(\"ab\"))\n",
    "print(text_match(\"abb\"))"
   ]
  },
  {
   "cell_type": "code",
   "execution_count": 14,
   "id": "c97233cf-e63f-4db4-9e61-78674e54416b",
   "metadata": {
    "tags": []
   },
   "outputs": [
    {
     "name": "stdout",
     "output_type": "stream",
     "text": [
      "Not matched!\n",
      "Not matched!\n",
      "Not matched!\n",
      "Found a match!\n",
      "Found a match!\n"
     ]
    }
   ],
   "source": [
    "import re\n",
    "def text_match(text):\n",
    "        patterns = '^ab{3}?'\n",
    "        if re.search(patterns,  text):\n",
    "                return 'Found a match!'\n",
    "        else:\n",
    "                return('Not matched!')\n",
    "print(text_match(\"ac\"))\n",
    "print(text_match(\"abc\"))\n",
    "print(text_match(\"a\"))\n",
    "print(text_match(\"abbb\"))\n",
    "print(text_match(\"abbbbbbc\"))"
   ]
  },
  {
   "cell_type": "code",
   "execution_count": 18,
   "id": "22e80a12-2888-48c9-8c49-a51f02066531",
   "metadata": {
    "tags": []
   },
   "outputs": [
    {
     "name": "stdout",
     "output_type": "stream",
     "text": [
      "Not matched!\n",
      "Not matched!\n",
      "Not matched!\n",
      "Found a match!\n",
      "Found a match!\n"
     ]
    }
   ],
   "source": [
    "import re\n",
    "def text_match(text):\n",
    "        patterns = '^ab{2,3}?'\n",
    "        if re.search(patterns,  text):\n",
    "                return 'Found a match!'\n",
    "        else:\n",
    "                return('Not matched!')\n",
    "print(text_match(\"ac\"))\n",
    "print(text_match(\"abc\"))\n",
    "print(text_match(\"a\"))\n",
    "print(text_match(\"abbb\"))\n",
    "print(text_match(\"abb\"))"
   ]
  },
  {
   "cell_type": "code",
   "execution_count": 19,
   "id": "3cdbc9b8-724f-453a-ba57-fdf14538af90",
   "metadata": {
    "tags": []
   },
   "outputs": [
    {
     "name": "stdout",
     "output_type": "stream",
     "text": [
      "Found a Match!\n",
      "Not Matched!\n",
      "Not Matched!\n"
     ]
    }
   ],
   "source": [
    "import re\n",
    "def text_match(text):\n",
    "    patterns='^[a-z]+_[a-z]+$'\n",
    "    if re.search(patterns,text):\n",
    "        return 'Found a Match!'\n",
    "    else:\n",
    "        return 'Not Matched!'\n",
    "print(text_match('aab_cbbbc'))\n",
    "print(text_match('aab_Abbbc'))\n",
    "print(text_match('Aaab_abbbc'))"
   ]
  },
  {
   "cell_type": "code",
   "execution_count": 26,
   "id": "58e43bb8-9d08-46b7-a555-6dd591d9b31a",
   "metadata": {
    "tags": []
   },
   "outputs": [
    {
     "name": "stdout",
     "output_type": "stream",
     "text": [
      "Not Matched!\n",
      "Found a Match!\n",
      "Not Matched!\n",
      "Not Matched!\n",
      "Found a Match!\n",
      "Found a Match!\n",
      "Not Matched!\n",
      "Not Matched!\n",
      "Not Matched!\n",
      "Found a Match!\n"
     ]
    }
   ],
   "source": [
    "import re\n",
    "def main(x):\n",
    "    patterns='[A-Z]+[a-z]+$'\n",
    "    if re.search(patterns,x):\n",
    "        return 'Found a Match!'\n",
    "    else:\n",
    "        return \"Not Matched!\"\n",
    "print(main('aabbcdAB'))\n",
    "print(main('ABCabced'))\n",
    "print(main('AbbcaZXASDD'))\n",
    "print(main('acxdchABCDV'))\n",
    "print(main(\"AaBbGg\"))\n",
    "print(main(\"Python\"))\n",
    "print(main(\"python\"))\n",
    "print(main(\"PYTHON\"))\n",
    "print(main(\"aA\"))\n",
    "print(main(\"Aa\"))"
   ]
  },
  {
   "cell_type": "code",
   "execution_count": 30,
   "id": "f875c599-9bb4-45be-b365-cb82bbd7a454",
   "metadata": {
    "tags": []
   },
   "outputs": [
    {
     "name": "stdout",
     "output_type": "stream",
     "text": [
      "Not Match!\n",
      "Found a Match!\n",
      "Not Match!\n",
      "Found a Match!\n"
     ]
    }
   ],
   "source": [
    "import re\n",
    "def main(x):\n",
    "    pattern='a.*?b$'\n",
    "    if re.search(pattern,x):\n",
    "        return 'Found a Match!'\n",
    "    else:\n",
    "        return 'Not Match!'\n",
    "print(main('aabbcdAB'))\n",
    "print(main('ABCabcedb'))\n",
    "print(main(\"aA\"))\n",
    "print(main(\"aAab\"))"
   ]
  },
  {
   "cell_type": "code",
   "execution_count": 37,
   "id": "9f0c1357-d908-4390-9b46-0d2a232e0c53",
   "metadata": {
    "tags": []
   },
   "outputs": [
    {
     "name": "stdout",
     "output_type": "stream",
     "text": [
      "Found a Match!\n",
      "Not Match!\n",
      "Not Match!\n",
      "Found a Match!\n",
      "Found a Match!\n",
      "Not Match!\n"
     ]
    }
   ],
   "source": [
    "import re\n",
    "def main(x):\n",
    "    pattern='^\\w+'\n",
    "    if re.search(pattern,x):\n",
    "        return 'Found a Match!'\n",
    "    else:\n",
    "        return 'Not Match!'\n",
    "print(main('aaaaPawan'))\n",
    "print(main(' byadav'))\n",
    "print(main(' 0abc'))\n",
    "print(main('Abc'))\n",
    "print(main(\"The quick brown fox jumps over the lazy dog.\"))\n",
    "print(main(\" The quick brown fox jumps over the lazy dog.\"))"
   ]
  },
  {
   "cell_type": "code",
   "execution_count": 44,
   "id": "536ab0b6-9e34-4b8f-86c2-4e8991d5da8a",
   "metadata": {
    "tags": []
   },
   "outputs": [
    {
     "name": "stdout",
     "output_type": "stream",
     "text": [
      "Not Match!\n",
      "Found a Match!\n",
      "Not Match!\n",
      "Not Match!\n",
      "Not Match!\n",
      "Found a Match!\n"
     ]
    }
   ],
   "source": [
    "import re\n",
    "def main(x):\n",
    "    pattern='\\w+\\S*$'\n",
    "    if re.search(pattern,x):\n",
    "        return 'Found a Match!'\n",
    "    else:\n",
    "        return 'Not Match!'\n",
    "print(main('aaaaPawan '))\n",
    "print(main(' byadav....'))\n",
    "print(main(' 0abc '))\n",
    "print(main('Abc '))\n",
    "print(main(\"The quick brown fox jumps over the lazy dog. \"))\n",
    "print(main(\" The quick brown fox jumps over the lazy dog.\"))"
   ]
  },
  {
   "cell_type": "code",
   "execution_count": 48,
   "id": "d316985f-a83e-46e4-ae30-3d01d3fdfc07",
   "metadata": {
    "tags": []
   },
   "outputs": [
    {
     "name": "stdout",
     "output_type": "stream",
     "text": [
      "Not Match!\n",
      "Not Match!\n",
      "Not Match!\n",
      "Found a Match!\n",
      "Not Match!\n"
     ]
    }
   ],
   "source": [
    "import re\n",
    "def main(x):\n",
    "    pattern='\\w*z.\\W*'\n",
    "    if re.search(pattern,x):\n",
    "        return 'Found a Match!'\n",
    "    else:\n",
    "        return 'Not Match!'\n",
    "print(main(' byadav....'))\n",
    "print(main(' 0abc '))\n",
    "print(main('Abc '))\n",
    "print(main(\"The quick brown fox jumps over the lazy dog. \"))\n",
    "print(main(\"Python Exercises.\"))"
   ]
  },
  {
   "cell_type": "code",
   "execution_count": 54,
   "id": "6662cd7c-8dff-4714-9cb0-352f78bfdc40",
   "metadata": {
    "tags": []
   },
   "outputs": [
    {
     "name": "stdout",
     "output_type": "stream",
     "text": [
      "Not Match!\n",
      "Not Match!\n",
      "Not Match!\n",
      "Found a Match!\n",
      "Not Match!\n"
     ]
    }
   ],
   "source": [
    "import re\n",
    "def main(x):\n",
    "    pattern='\\Bz\\B'\n",
    "    if re.search(pattern,x):\n",
    "        return 'Found a Match!'\n",
    "    else:\n",
    "        return 'Not Match!'\n",
    "print(main(' byadav....'))\n",
    "print(main(' 0abcz'))\n",
    "print(main('Abc '))\n",
    "print(main(\"The quick brown fox jumps over the lazy dog. \"))\n",
    "print(main(\"z Python Exercises.\"))"
   ]
  },
  {
   "cell_type": "code",
   "execution_count": 80,
   "id": "44bdd710-479a-4e13-af96-00d427653083",
   "metadata": {
    "tags": []
   },
   "outputs": [
    {
     "name": "stdout",
     "output_type": "stream",
     "text": [
      "Not Match!\n",
      "Found a Match!\n",
      "Found a Match!\n"
     ]
    }
   ],
   "source": [
    "import re\n",
    "def main(x):\n",
    "    pattern='^[a-zA-Z0-9_]*$'\n",
    "    if re.search(pattern,x):\n",
    "        return 'Found a Match!'\n",
    "    else:\n",
    "        return 'Not Match!'\n",
    "print(main('Pawan.'))\n",
    "print(main('2pawan'))\n",
    "print(main('Pawan_22'))"
   ]
  },
  {
   "cell_type": "code",
   "execution_count": 89,
   "id": "6d77ddd4-b453-48ae-98bb-8ad23b83ae76",
   "metadata": {
    "tags": []
   },
   "outputs": [
    {
     "name": "stdout",
     "output_type": "stream",
     "text": [
      "False\n",
      "True\n"
     ]
    }
   ],
   "source": [
    "import re\n",
    "def main(x):\n",
    "    pattern=re.compile(r'^6')\n",
    "    if pattern.match(x):\n",
    "        return True\n",
    "    else:\n",
    "        return False\n",
    "print(main('5-2345861'))\n",
    "print(main('6-2345861'))"
   ]
  },
  {
   "cell_type": "code",
   "execution_count": 97,
   "id": "6a155610-d2c6-4abe-b619-2fa08888c2dd",
   "metadata": {
    "tags": []
   },
   "outputs": [
    {
     "name": "stdout",
     "output_type": "stream",
     "text": [
      "216.8.94.296\n"
     ]
    }
   ],
   "source": [
    "import re\n",
    "ip='216.08.094.296'\n",
    "x=re.sub('\\.[0]*', '.',ip)\n",
    "print(x)"
   ]
  },
  {
   "cell_type": "code",
   "execution_count": 98,
   "id": "732a95d3-4643-4833-85d9-17ae296fd909",
   "metadata": {
    "tags": []
   },
   "outputs": [
    {
     "name": "stdout",
     "output_type": "stream",
     "text": [
      "False\n",
      "True\n"
     ]
    }
   ],
   "source": [
    "import re\n",
    "def end_num(string):\n",
    "    x=re.compile(r'.*[0-9]$')\n",
    "    if x.match(string):\n",
    "        return True\n",
    "    else:\n",
    "        return False\n",
    "print(end_num('PawanYadav'))\n",
    "print(end_num('PawanYadav22'))"
   ]
  },
  {
   "cell_type": "code",
   "execution_count": 102,
   "id": "2d68e84c-5c14-4e48-8849-9c2a689b40fc",
   "metadata": {
    "tags": []
   },
   "outputs": [
    {
     "name": "stdout",
     "output_type": "stream",
     "text": [
      "Number of length 1 to 3\n",
      "111\n",
      "2\n",
      "12\n",
      "13\n",
      "345\n"
     ]
    }
   ],
   "source": [
    "import re\n",
    "r=re.finditer(r'([0-9]{1,3})','Exercise number 1112,12,13,and 345 are importtant')\n",
    "print('Number of length 1 to 3')\n",
    "for i in r:\n",
    "    print(i.group(0))"
   ]
  },
  {
   "cell_type": "code",
   "execution_count": 107,
   "id": "e8a28fb1-129b-4c19-b8a5-a43016da4963",
   "metadata": {
    "tags": []
   },
   "outputs": [
    {
     "name": "stdout",
     "output_type": "stream",
     "text": [
      "Searching for \"fox\" in \"The quick fox jumps over the lazy dog.\" ->\n",
      "Matched!\n",
      "Searching for \"dog\" in \"The quick fox jumps over the lazy dog.\" ->\n",
      "Matched!\n",
      "Searching for \"horse\" in \"The quick fox jumps over the lazy dog.\" ->\n",
      "Not Matched!\n"
     ]
    }
   ],
   "source": [
    "import re\n",
    "patterns=['fox','dog','horse']\n",
    "x='The quick fox jumps over the lazy dog.'\n",
    "for i in patterns:\n",
    "    print('Searching for \"%s\" in \"%s\" ->'%(i,x),)\n",
    "    if re.search(i,x):\n",
    "        print('Matched!')\n",
    "    else:\n",
    "        print('Not Matched!')"
   ]
  },
  {
   "cell_type": "code",
   "execution_count": 116,
   "id": "4104db07-38e9-472a-b114-c4f39dc0a95f",
   "metadata": {
    "tags": []
   },
   "outputs": [
    {
     "name": "stdout",
     "output_type": "stream",
     "text": [
      "Found \"fox\" in \"The quick brown fox jumps over the lazy dog.\" from 16 to 19 \n"
     ]
    }
   ],
   "source": [
    "import re\n",
    "patterns='fox'\n",
    "x='The quick brown fox jumps over the lazy dog.'\n",
    "match=re.search(patterns,x)\n",
    "s=match.start()\n",
    "e=match.end()\n",
    "print('Found \"%s\" in \"%s\" from %d to %d ' %\\\n",
    "      (match.re.pattern, match.string,s,e))"
   ]
  },
  {
   "cell_type": "code",
   "execution_count": 4,
   "id": "34ecd855-10df-4ab8-8470-72202276da58",
   "metadata": {},
   "outputs": [
    {
     "name": "stdout",
     "output_type": "stream",
     "text": [
      "Found \"exercise\"\n",
      "Found \"exercise\"\n",
      "Found \"exercise\"\n"
     ]
    }
   ],
   "source": [
    "import re\n",
    "pattern='exercise'\n",
    "x='Python exercises, PHP exercises, C# exercises, Pawan Yadav'\n",
    "match=re.findall(pattern,x)\n",
    "for i in match:\n",
    "    print('Found \"%s\"' %i)"
   ]
  },
  {
   "cell_type": "code",
   "execution_count": 6,
   "id": "bb7d73c8-63cf-4d8f-8673-d149830d7021",
   "metadata": {
    "tags": []
   },
   "outputs": [
    {
     "name": "stdout",
     "output_type": "stream",
     "text": [
      "Found \"exercise\" at 7:15\n",
      "Found \"exercise\" at 22:30\n",
      "Found \"exercise\" at 36:44\n"
     ]
    }
   ],
   "source": [
    "import re\n",
    "pattern='exercise'\n",
    "x='Python exercises, PHP exercises, C# exercises, Pawan Yadav'\n",
    "match=re.finditer(pattern,x)\n",
    "for i in match:\n",
    "    s=i.start()\n",
    "    e=i.end()\n",
    "    print('Found \"%s\" at %d:%d'%(x[s:e],s,e))"
   ]
  },
  {
   "cell_type": "code",
   "execution_count": 10,
   "id": "0cd3bdc9-9e4c-4b6c-b1d6-06894ae6e50a",
   "metadata": {
    "tags": []
   },
   "outputs": [
    {
     "name": "stdout",
     "output_type": "stream",
     "text": [
      "Python_Exercises\n",
      "Python Exercises\n"
     ]
    }
   ],
   "source": [
    "import re\n",
    "x='Python Exercises'\n",
    "x=x.replace(' ','_')\n",
    "print(x)\n",
    "x=x.replace('_',' ')\n",
    "print(x)"
   ]
  },
  {
   "cell_type": "code",
   "execution_count": 12,
   "id": "2b9039f9-638d-4fad-b6fa-742651774532",
   "metadata": {
    "tags": []
   },
   "outputs": [
    {
     "name": "stdout",
     "output_type": "stream",
     "text": [
      "[('2016', '09', '02')]\n"
     ]
    }
   ],
   "source": [
    "import re\n",
    "def extract_date(url):\n",
    "    return re.findall(r'/(\\d{4})/(\\d{1,2})/(\\d{1,2})/',url)\n",
    "url1=\"https://www.washingtonpost.com/news/football-insider/wp/2016/09/02/odell-beckhams-fame-rests-on-one-stupid-little-ball-josh-norman-tells-author/\"\n",
    "print(extract_date(url1))"
   ]
  },
  {
   "cell_type": "code",
   "execution_count": 27,
   "id": "a2c6a0a8-488a-4bd6-ab36-69515007cdf7",
   "metadata": {
    "tags": []
   },
   "outputs": [
    {
     "name": "stdout",
     "output_type": "stream",
     "text": [
      "Original date in YYY-MM-DD Format:  2023-12-28\n",
      "New date in DD-MM-YYYY Format:  28-12-2023\n"
     ]
    }
   ],
   "source": [
    "import re\n",
    "def change_date_format(dt):\n",
    "    return re.sub(r'(\\d{4})-(\\d{1,2})-(\\d{1,2})','\\\\3-\\\\2-\\\\1',dt)\n",
    "dt1='2023-12-28'\n",
    "print(\"Original date in YYY-MM-DD Format: \",dt1)\n",
    "print(\"New date in DD-MM-YYYY Format: \",change_date_format(dt1))"
   ]
  },
  {
   "cell_type": "code",
   "execution_count": 29,
   "id": "87db50a2-d247-490d-ad7b-1009d31e4146",
   "metadata": {
    "tags": []
   },
   "outputs": [
    {
     "name": "stdout",
     "output_type": "stream",
     "text": [
      "('Python', 'PHP')\n"
     ]
    }
   ],
   "source": [
    "import re\n",
    "x=['Python PHP','Java JavaScript','c c++']\n",
    "for i in x:\n",
    "    m=re.match('(P\\w+)\\W(P\\w+)',i)\n",
    "    if m:\n",
    "        print(m.groups())"
   ]
  },
  {
   "cell_type": "code",
   "execution_count": 31,
   "id": "f20bcc59-4db7-48c3-a6f7-21e30adcf900",
   "metadata": {
    "tags": []
   },
   "outputs": [
    {
     "name": "stdout",
     "output_type": "stream",
     "text": [
      "\n",
      "10\n",
      "20\n",
      "30\n",
      "40\n"
     ]
    }
   ],
   "source": [
    "import re\n",
    "x='Ten 10, Twenty 20, Thirty 30, Forty 40'\n",
    "r=re.split('\\D+',x)\n",
    "for i in r:\n",
    "    print(i)"
   ]
  },
  {
   "cell_type": "code",
   "execution_count": 34,
   "id": "b2df0910-dfbb-43dd-87ed-11a1ed681472",
   "metadata": {
    "tags": []
   },
   "outputs": [
    {
     "name": "stdout",
     "output_type": "stream",
     "text": [
      "['example', 'eates', 'an', 'ayList', 'apacity', 'elements', 'elements', 'are', 'en', 'added', 'ayList', 'and', 'ayList', 'ed', 'accordingly']\n"
     ]
    }
   ],
   "source": [
    "import re\n",
    "text = \"The following example creates an ArrayList with a capacity of 50 elements. Four elements are then added to the ArrayList and the ArrayList is trimmed accordingly.\"\n",
    "list=re.findall('[ae]\\w+',text)\n",
    "print(list)"
   ]
  },
  {
   "cell_type": "code",
   "execution_count": 36,
   "id": "d9dd70fd-361e-4974-9051-b2efb9707203",
   "metadata": {
    "tags": []
   },
   "outputs": [
    {
     "name": "stdout",
     "output_type": "stream",
     "text": [
      "50\n",
      "Index Position: 62\n"
     ]
    }
   ],
   "source": [
    "import re\n",
    "text = \"The following example creates an ArrayList with a capacity of 50 elements. Four elements are then added to the ArrayList and the ArrayList is trimmed accordingly.\"\n",
    "for i in re.finditer('\\d+',text):\n",
    "    print(i.group(0))\n",
    "    print('Index Position:',i.start())"
   ]
  },
  {
   "cell_type": "code",
   "execution_count": 37,
   "id": "53de7abe-afe5-49ec-b196-34de0fa1a223",
   "metadata": {
    "tags": []
   },
   "outputs": [
    {
     "name": "stdout",
     "output_type": "stream",
     "text": [
      "21 Ramakrishna Rd.\n"
     ]
    }
   ],
   "source": [
    "import re\n",
    "street='21 Ramakrishna Road'\n",
    "print(re.sub('Road$','Rd.',street))"
   ]
  },
  {
   "cell_type": "code",
   "execution_count": 38,
   "id": "10f5efed-a96f-4f0d-98d1-b7faae879c91",
   "metadata": {
    "tags": []
   },
   "outputs": [
    {
     "name": "stdout",
     "output_type": "stream",
     "text": [
      "Python:Exercises::PHP:exercises:\n"
     ]
    }
   ],
   "source": [
    "import re\n",
    "text='Python Exercises, PHP exercises.'\n",
    "print(re.sub('[ ,.]',':',text))"
   ]
  },
  {
   "cell_type": "code",
   "execution_count": 39,
   "id": "f5fc64f4-4b39-4403-90cf-f0cea2a30ab6",
   "metadata": {
    "tags": []
   },
   "outputs": [
    {
     "name": "stdout",
     "output_type": "stream",
     "text": [
      "Python:Exercises: PHP exercises.\n"
     ]
    }
   ],
   "source": [
    "import re\n",
    "text='Python Exercises, PHP exercises.'\n",
    "print(re.sub('[ ,.]',':',text,2))"
   ]
  },
  {
   "cell_type": "code",
   "execution_count": 40,
   "id": "8ec496fe-2e6e-4466-a5db-b2e0cd32527c",
   "metadata": {
    "tags": []
   },
   "outputs": [
    {
     "name": "stdout",
     "output_type": "stream",
     "text": [
      "['quick', 'brown', 'jumps']\n"
     ]
    }
   ],
   "source": [
    "import re\n",
    "text='The quick brown fox jumps over the lazy dog.'\n",
    "print(re.findall(r'\\b\\w{5}\\b',text))"
   ]
  },
  {
   "cell_type": "code",
   "execution_count": 41,
   "id": "5fdb7731-3fd8-4c89-9c96-f20203ee6285",
   "metadata": {
    "tags": []
   },
   "outputs": [
    {
     "name": "stdout",
     "output_type": "stream",
     "text": [
      "['The', 'quick', 'brown', 'fox', 'jumps', 'over', 'the', 'lazy', 'dog']\n"
     ]
    }
   ],
   "source": [
    "import re\n",
    "text='The quick brown fox jumps over the lazy dog.'\n",
    "print(re.findall(r'\\b\\w{3,5}\\b',text))"
   ]
  },
  {
   "cell_type": "code",
   "execution_count": 43,
   "id": "704e759e-6c65-453d-8642-6e817eca4264",
   "metadata": {
    "tags": []
   },
   "outputs": [
    {
     "name": "stdout",
     "output_type": "stream",
     "text": [
      "['quick', 'brown', 'jumps', 'over', 'lazy']\n"
     ]
    }
   ],
   "source": [
    "import re\n",
    "text='The quick brown fox jumps over the lazy dog.'\n",
    "print(re.findall(r'\\b\\w{4,}\\b',text))"
   ]
  },
  {
   "cell_type": "code",
   "execution_count": 44,
   "id": "8aaca5d1-2a2d-4106-ae56-a7cd4526e52e",
   "metadata": {
    "tags": []
   },
   "outputs": [
    {
     "name": "stdout",
     "output_type": "stream",
     "text": [
      "python_exercises\n"
     ]
    }
   ],
   "source": [
    "def camel_to_snake(text):\n",
    "    import re\n",
    "    str1 = re.sub('(.)([A-Z][a-z]+)', r'\\1_\\2', text)\n",
    "    return re.sub('([a-z0-9])([A-Z])', r'\\1_\\2', str1).lower()\n",
    "print(camel_to_snake('PythonExercises'))"
   ]
  },
  {
   "cell_type": "code",
   "execution_count": 46,
   "id": "799048c3-31fa-45f5-9aa9-d33b6a9e06e4",
   "metadata": {
    "tags": []
   },
   "outputs": [
    {
     "name": "stdout",
     "output_type": "stream",
     "text": [
      "['Python', 'PHP', 'Java']\n"
     ]
    }
   ],
   "source": [
    "import re\n",
    "text1='\"Python\",\"PHP\",\"Java\"'\n",
    "print(re.findall(r'\"(.*?)\"',text1))"
   ]
  },
  {
   "cell_type": "code",
   "execution_count": 48,
   "id": "afc7dae3-1a44-41bd-9f16-943e689ecfd5",
   "metadata": {
    "tags": []
   },
   "outputs": [
    {
     "name": "stdout",
     "output_type": "stream",
     "text": [
      "Original String: Python    Exercises\n",
      "Without extra spaces: Python Exercises\n"
     ]
    }
   ],
   "source": [
    "import re\n",
    "text1='Python    Exercises'\n",
    "print('Original String:',text1)\n",
    "print('Without extra spaces:',re.sub(' +',' ',text1))"
   ]
  },
  {
   "cell_type": "code",
   "execution_count": 49,
   "id": "d4d194cc-cda8-4b34-b8e0-085902c2908c",
   "metadata": {
    "tags": []
   },
   "outputs": [
    {
     "name": "stdout",
     "output_type": "stream",
     "text": [
      "Original String: Python    Exercises\n",
      "Without extra spaces: PythonExercises\n"
     ]
    }
   ],
   "source": [
    "import re\n",
    "text1='Python    Exercises'\n",
    "print('Original String:',text1)\n",
    "print('Without extra spaces:',re.sub(r'\\s+','',text1))"
   ]
  },
  {
   "cell_type": "code",
   "execution_count": 50,
   "id": "f40f21a5-d4ba-43ca-a382-03adecd03055",
   "metadata": {
    "tags": []
   },
   "outputs": [
    {
     "name": "stdout",
     "output_type": "stream",
     "text": [
      "PythonExercises12\n"
     ]
    }
   ],
   "source": [
    "import re\n",
    "text1='**//Python Exercises// - 12. '\n",
    "pattern=re.compile('[\\W_]+')\n",
    "print(pattern.sub('',text1))"
   ]
  },
  {
   "cell_type": "code",
   "execution_count": 52,
   "id": "78dcfd59-149a-45bb-a09e-f2fabd652916",
   "metadata": {
    "tags": []
   },
   "outputs": [
    {
     "name": "stdout",
     "output_type": "stream",
     "text": [
      "Original String: <p>Contents :</p><a href=\"https://w3resource.com\">Python Examples</a><a href=\"http://github.com\">Even More Examples</a>\n",
      "Urls: ['https://w3resource.com', 'http://github.com']\n"
     ]
    }
   ],
   "source": [
    "import re\n",
    "text='<p>Contents :</p><a href=\"https://w3resource.com\">Python Examples</a><a href=\"http://github.com\">Even More Examples</a>'\n",
    "urls=re.findall('http[s]?://(?:[a-zA-Z]|[0-9]|[$-_@.&+]|[!*\\(\\),]|(?:%[0-9a-fA-F][0-9a-fA-F]))+', text)\n",
    "print('Original String:',text)\n",
    "print('Urls:',urls)"
   ]
  },
  {
   "cell_type": "code",
   "execution_count": 53,
   "id": "c625e061-d4ae-4a84-9bac-1a05defe30c2",
   "metadata": {
    "tags": []
   },
   "outputs": [
    {
     "name": "stdout",
     "output_type": "stream",
     "text": [
      "['Python', 'Tutorial', 'And', 'Execrises']\n"
     ]
    }
   ],
   "source": [
    "import re\n",
    "text='PythonTutorialAndExecrises'\n",
    "print(re.findall('[A-Z][^A-Z]*',text))"
   ]
  },
  {
   "cell_type": "code",
   "execution_count": 3,
   "id": "a3afc893-ec37-4eef-841e-068cb617d163",
   "metadata": {
    "tags": []
   },
   "outputs": [
    {
     "name": "stdout",
     "output_type": "stream",
     "text": [
      "Original Text: PHP Exercises\n",
      "Using 'php' replace PHP\n",
      "New Text: php Exercise\n"
     ]
    }
   ],
   "source": [
    "import re\n",
    "text='PHP Exercises'\n",
    "print('Original Text:',text)\n",
    "redata=re.compile(re.escape('php'),re.IGNORECASE)\n",
    "new_text=redata.sub('php','PHP Exercise')\n",
    "print(\"Using 'php' replace PHP\")\n",
    "print('New Text:',new_text)"
   ]
  },
  {
   "cell_type": "code",
   "execution_count": 4,
   "id": "18d8666a-f5e8-4a42-b7d2-cf4470c33fc7",
   "metadata": {
    "tags": []
   },
   "outputs": [
    {
     "name": "stdout",
     "output_type": "stream",
     "text": [
      "Original Text:  \t\u001b[0;35mgoogle.com\u001b[0m \u001b[0;36m216.58.218.206\u001b[0m\n",
      "New Text:  \tgoogle.com 216.58.218.206\n"
     ]
    }
   ],
   "source": [
    "import re\n",
    "text = \"\\t\\u001b[0;35mgoogle.com\\u001b[0m \\u001b[0;36m216.58.218.206\\u001b[0m\"\n",
    "print(\"Original Text: \",text)\n",
    "reaesc = re.compile(r'\\x1b[^m]*m')\n",
    "new_text = reaesc.sub('', text)\n",
    "print(\"New Text: \",new_text)"
   ]
  },
  {
   "cell_type": "code",
   "execution_count": 5,
   "id": "72e52eed-d4ac-49da-9ec5-13daf2729ffe",
   "metadata": {
    "tags": []
   },
   "outputs": [
    {
     "name": "stdout",
     "output_type": "stream",
     "text": [
      "0-7: Clearly\n"
     ]
    }
   ],
   "source": [
    "import re\n",
    "text = \"Clearly, he has no excuse for such behavior.\"\n",
    "for m in re.finditer(r\"\\w+ly\", text):\n",
    "    print('%d-%d: %s' % (m.start(), m.end(), m.group(0)))"
   ]
  },
  {
   "cell_type": "code",
   "execution_count": 6,
   "id": "365b8fb8-ca3a-4b8d-9d70-8e31e5e01ad3",
   "metadata": {
    "tags": []
   },
   "outputs": [
    {
     "name": "stdout",
     "output_type": "stream",
     "text": [
      "['The quick bown', 'fox jumps', 'over the lazy dog.']\n"
     ]
    }
   ],
   "source": [
    "import re\n",
    "text='The quick bown\\nfox jumps*over the lazy dog.'\n",
    "print(re.split('; |, |\\*|\\n',text))"
   ]
  },
  {
   "cell_type": "code",
   "execution_count": 8,
   "id": "a8bb0394-04e1-4ef3-903c-b9e142f16829",
   "metadata": {
    "tags": []
   },
   "outputs": [
    {
     "name": "stdout",
     "output_type": "stream",
     "text": [
      "True\n",
      "True\n",
      "True\n",
      "True\n",
      "False\n",
      "False\n",
      "False\n"
     ]
    }
   ],
   "source": [
    "def is_decimal(num):\n",
    "    import re\n",
    "    dnumre = re.compile(r\"\"\"^[0-9]+(\\.[0-9]{1,2})?$\"\"\")\n",
    "    result = dnumre.search(num)\n",
    "    return bool(result)\n",
    "print(is_decimal('123.11'))\n",
    "print(is_decimal('123.1'))\n",
    "print(is_decimal('123'))\n",
    "print(is_decimal('0.21'))\n",
    "print(is_decimal('123.1214'))\n",
    "print(is_decimal('3.124587'))\n",
    "print(is_decimal('e666.86'))\n"
   ]
  },
  {
   "cell_type": "code",
   "execution_count": 9,
   "id": "da46d116-c7ba-48bd-9eeb-ee784442887e",
   "metadata": {
    "tags": []
   },
   "outputs": [
    {
     "name": "stdout",
     "output_type": "stream",
     "text": [
      " quick brown jumps over lazy.\n"
     ]
    }
   ],
   "source": [
    "import re\n",
    "text = \"The quick brown fox jumps over the lazy dog.\"\n",
    "shortword = re.compile(r'\\W*\\b\\w{1,3}\\b')\n",
    "print(shortword.sub('', text))"
   ]
  },
  {
   "cell_type": "code",
   "execution_count": 10,
   "id": "cf1e5454-a4b9-4390-a47f-251fd7768d19",
   "metadata": {
    "tags": []
   },
   "outputs": [
    {
     "name": "stdout",
     "output_type": "stream",
     "text": [
      "example\n",
      "w3resource\n",
      "github\n",
      "stackoverflow\n"
     ]
    }
   ],
   "source": [
    "import re\n",
    "items = [\"example (.com)\", \"w3resource\", \"github (.com)\", \"stackoverflow (.com)\"]\n",
    "for item in items:\n",
    "    print(re.sub(r\" ?\\([^)]+\\)\", \"\", item))"
   ]
  },
  {
   "cell_type": "code",
   "execution_count": 11,
   "id": "4adfc991-facf-4a89-a8af-f52e7566776e",
   "metadata": {
    "tags": []
   },
   "outputs": [
    {
     "name": "stdout",
     "output_type": "stream",
     "text": [
      "Python\n",
      "Python Exercises\n",
      "Python Exercises Practice Solution\n"
     ]
    }
   ],
   "source": [
    "import re\n",
    "def capital_words_spaces(str1):\n",
    "    return re.sub(r\"(\\w)([A-Z])\", r\"\\1 \\2\", str1)\n",
    "print(capital_words_spaces(\"Python\"))\n",
    "print(capital_words_spaces(\"PythonExercises\"))\n",
    "print(capital_words_spaces(\"PythonExercisesPracticeSolution\"))"
   ]
  },
  {
   "cell_type": "code",
   "execution_count": 13,
   "id": "75de2462-7c0b-464f-a0d6-cb3b5a46f52f",
   "metadata": {
    "tags": []
   },
   "outputs": [
    {
     "name": "stdout",
     "output_type": "stream",
     "text": [
      "Input number of data sets:\n"
     ]
    },
    {
     "name": "stdin",
     "output_type": "stream",
     "text": [
      " 2\n"
     ]
    },
    {
     "name": "stdout",
     "output_type": "stream",
     "text": [
      "Input an expression:\n"
     ]
    },
    {
     "name": "stdin",
     "output_type": "stream",
     "text": [
      " 4-2*3=\n"
     ]
    },
    {
     "name": "stdout",
     "output_type": "stream",
     "text": [
      "-2\n",
      "Input an expression:\n"
     ]
    },
    {
     "name": "stdin",
     "output_type": "stream",
     "text": [
      " 4*(8+4+3)=\n"
     ]
    },
    {
     "name": "stdout",
     "output_type": "stream",
     "text": [
      "60\n"
     ]
    }
   ],
   "source": [
    "import re\n",
    "print(\"Input number of data sets:\")\n",
    "class c(int):\n",
    "    def __add__(self,n):\n",
    "        return c(int(self)+int(n))\n",
    "    def __sub__(self,n):\n",
    "        return c(int(self)-int(n))\n",
    "    def __mul__(self,n):\n",
    "        return c(int(self)*int(n))\n",
    "    def __truediv__(self,n):\n",
    "        return c(int(int(self)/int(n)))\n",
    "for _ in range(int(input())):\n",
    "    print(\"Input an expression:\")\n",
    "    print(eval(re.sub(r'(\\d+)',r'c(\\1)',input()[:-1])))"
   ]
  },
  {
   "cell_type": "code",
   "execution_count": 16,
   "id": "2b8b8568-18d9-400a-90fa-0960de62dc40",
   "metadata": {
    "tags": []
   },
   "outputs": [
    {
     "name": "stdout",
     "output_type": "stream",
     "text": [
      "Original string:\n",
      "KDeoALOklOOHserfLoAJSIskdsf\n",
      "After removing lowercase letters, above string becomes:\n",
      "KDALOOOHLAJSI\n"
     ]
    }
   ],
   "source": [
    "import re\n",
    "str1 = 'KDeoALOklOOHserfLoAJSIskdsf'\n",
    "print(\"Original string:\")\n",
    "print(str1)\n",
    "print(\"After removing lowercase letters, above string becomes:\")\n",
    "remove_lower = lambda text: re.sub('[a-z]', '', text)\n",
    "result =  remove_lower(str1)\n",
    "print(result)"
   ]
  },
  {
   "cell_type": "code",
   "execution_count": 17,
   "id": "cff3e058-eca4-40b5-a91d-d58974d2c295",
   "metadata": {
    "tags": []
   },
   "outputs": [
    {
     "name": "stdout",
     "output_type": "stream",
     "text": [
      "Original string:\n",
      "Enter at 1 20 Kearny Street. The security desk can direct you to floor 1 6. Please have your identification ready.\n",
      "\n",
      "After concatenating the consecutive numbers in the said string:\n",
      "Enter at 120 Kearny Street. The security desk can direct you to floor 16. Please have your identification ready.\n"
     ]
    }
   ],
   "source": [
    "import re\n",
    "txt = \"Enter at 1 20 Kearny Street. The security desk can direct you to floor 1 6. Please have your identification ready.\"\n",
    "print(\"Original string:\")\n",
    "print(txt)\n",
    "new_txt = re.sub(r\"(?<=\\d)\\s(?=\\d)\", '', txt)\n",
    "print('\\nAfter concatenating the consecutive numbers in the said string:')\n",
    "print(new_txt)"
   ]
  },
  {
   "cell_type": "code",
   "execution_count": 18,
   "id": "fe340994-62d9-49b1-aaab-6d2892ad2650",
   "metadata": {
    "tags": []
   },
   "outputs": [
    {
     "name": "stdout",
     "output_type": "stream",
     "text": [
      "java-script\n",
      "gd-script\n",
      "btw...-what-*-do*-you-call-that-naming-style?-snake-case?\n"
     ]
    }
   ],
   "source": [
    "from re import sub\n",
    "def snake_case(s):\n",
    "    return '-'.join(\n",
    "    sub(r\"(\\s|_|-)+\",\" \",\n",
    "    sub(r\"[A-Z]{2,}(?=[A-Z][a-z]+[0-9]*|\\b)|[A-Z]?[a-z]+[0-9]*|[A-Z]|[0-9]+\",\n",
    "    lambda mo: ' ' + mo.group(0).lower(), s)).split())\n",
    "print(snake_case('JavaScript'))\n",
    "print(snake_case('GDScript'))\n",
    "print(snake_case('BTW...what *do* you call that naming style? snake_case? '))"
   ]
  },
  {
   "cell_type": "code",
   "execution_count": 19,
   "id": "cfc50239-3221-435c-94a7-a19abfae15f6",
   "metadata": {
    "tags": []
   },
   "outputs": [
    {
     "name": "stdout",
     "output_type": "stream",
     "text": [
      "Orange\n",
      "[1, 2, 3, 4, 5]\n",
      "Java\n",
      "Python\n"
     ]
    }
   ],
   "source": [
    "def longest_item(*args):\n",
    "    return max(args, key = len)\n",
    "print(longest_item('Red', 'Green', 'Black', 'Orange'))\n",
    "print(longest_item([1, 2, 3], [1, 2, 3, 4], [1, 2, 3, 4, 5]))\n",
    "print(longest_item([1, 2, 3], 'Java'))\n",
    "print(longest_item({10, 100}, 'Python'))"
   ]
  },
  {
   "cell_type": "code",
   "execution_count": 20,
   "id": "12df59d6-1646-49a8-b6f8-2e7bc50ab0e9",
   "metadata": {
    "tags": []
   },
   "outputs": [
    {
     "name": "stdout",
     "output_type": "stream",
     "text": [
      "Original string: Red Orange White\n",
      "Check beginning and end of a word in the said string with a vowel:\n",
      "True\n",
      "\n",
      "Original string: Red White Black\n",
      "Check beginning and end of a word in the said string with a vowel:\n",
      "False\n",
      "\n",
      "Original string: abcd dkise eosksu\n",
      "Check beginning and end of a word in the said string with a vowel:\n",
      "True\n"
     ]
    }
   ],
   "source": [
    "import re\n",
    "def test(text):\n",
    "\treturn bool(re.findall('[/^[aeiou]$|^([aeiou]).*\\1$/', text))\n",
    "text =\"Red Orange White\"\n",
    "print(\"Original string:\", text)\n",
    "print(\"Check beginning and end of a word in the said string with a vowel:\")\n",
    "print(test(text))\n",
    "text =\"Red White Black\"\n",
    "print(\"\\nOriginal string:\", text)\n",
    "print(\"Check beginning and end of a word in the said string with a vowel:\")\n",
    "print(test(text))\n",
    "text =\"abcd dkise eosksu\"\n",
    "print(\"\\nOriginal string:\", text)\n",
    "print(\"Check beginning and end of a word in the said string with a vowel:\")\n",
    "print(test(text))"
   ]
  },
  {
   "cell_type": "code",
   "execution_count": 21,
   "id": "9d51a824-96f3-4443-9944-c3a618895bef",
   "metadata": {
    "tags": []
   },
   "outputs": [
    {
     "name": "stdout",
     "output_type": "stream",
     "text": [
      "Original string: These exercises can be used for practice.\n",
      "Two following words begin and end with a vowel in the said string:\n",
      "True\n",
      "\n",
      "Original string: Following exercises should be removed for practice.\n",
      "Two following words begin and end with a vowel in the said string:\n",
      "False\n",
      "\n",
      "Original string: I use these stories in my  classroom.\n",
      "Two following words begin and end with a vowel in the said string:\n",
      "True\n"
     ]
    }
   ],
   "source": [
    "import re\n",
    "def test(text):\n",
    "\treturn bool(re.findall('[AEIOUaeiou] [AEIOUaeiou]', text))\n",
    "text =\"These exercises can be used for practice.\"\n",
    "print(\"Original string:\", text)\n",
    "print(\"Two following words begin and end with a vowel in the said string:\")\n",
    "print(test(text))\n",
    "text =\"Following exercises should be removed for practice.\"\n",
    "print(\"\\nOriginal string:\", text)\n",
    "print(\"Two following words begin and end with a vowel in the said string:\")\n",
    "print(test(text))\n",
    "text =\"I use these stories in my  classroom.\"\n",
    "print(\"\\nOriginal string:\", text)\n",
    "print(\"Two following words begin and end with a vowel in the said string:\")\n",
    "print(test(text))"
   ]
  },
  {
   "cell_type": "code",
   "execution_count": null,
   "id": "83991659-8370-4312-8436-d393c8fa0f74",
   "metadata": {},
   "outputs": [],
   "source": []
  }
 ],
 "metadata": {
  "kernelspec": {
   "display_name": "Python 3 (ipykernel)",
   "language": "python",
   "name": "python3"
  },
  "language_info": {
   "codemirror_mode": {
    "name": "ipython",
    "version": 3
   },
   "file_extension": ".py",
   "mimetype": "text/x-python",
   "name": "python",
   "nbconvert_exporter": "python",
   "pygments_lexer": "ipython3",
   "version": "3.11.3"
  }
 },
 "nbformat": 4,
 "nbformat_minor": 5
}
