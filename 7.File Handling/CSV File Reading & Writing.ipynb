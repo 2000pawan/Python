{
 "cells": [
  {
   "cell_type": "code",
   "execution_count": 2,
   "id": "21dfbabd-5b7b-403e-af2d-8c4880395c47",
   "metadata": {},
   "outputs": [
    {
     "name": "stdout",
     "output_type": "stream",
     "text": [
      "department_id,department_name,manager_id,location_id\n",
      "10,Administration,200,1700\n",
      "20,Marketing,201,1800\n",
      "30,Purchasing,114,1700\n",
      "40,Human,Resources,203,2400\n",
      "50,Shipping,121,1500\n",
      "60,IT,103,1400\n",
      "70,Public,Relations,204,2700\n",
      "80,Sales,145,2500\n",
      "90,Executive,100,1700\n",
      "100,Finance,108,1700\n",
      "110,Accounting,205,1700\n",
      "120,Treasury,,1700\n",
      "130,Corporate,Tax,,1700\n",
      "140,Control,And,Credit,,1700\n",
      "150,Shareholder,Services,,1700\n",
      "160,Benefits,,1700\n",
      "170,Manufacturing,,1700\n",
      "180,Construction,,1700\n",
      "190,Contracting,,1700\n",
      "200,Operations,,1700\n",
      "210,IT,Support,,1700\n",
      "220,NOC,,1700\n",
      "230,IT,Helpdesk,,1700\n",
      "240,Government,Sales,,1700\n",
      "250,Retail,Sales,,1700\n",
      "260,Recruiting,,1700\n",
      "270,Payroll,,1700\n"
     ]
    }
   ],
   "source": [
    "import csv\n",
    "with open('depart.csv',newline='') as csvfile:\n",
    "    data=csv.reader(csvfile,delimiter=' ',quotechar='|')\n",
    "    for i in data:\n",
    "        print(','.join(i))"
   ]
  },
  {
   "cell_type": "code",
   "execution_count": 3,
   "id": "f3eca34c-e081-48cd-9041-aba4c8a3aa24",
   "metadata": {
    "tags": []
   },
   "outputs": [
    {
     "name": "stdout",
     "output_type": "stream",
     "text": [
      "country_id country_name region_id\n",
      "AR Argentina 2\n",
      "AU Australia 3\n",
      "BE Belgium 1\n",
      "BR Brazil 2\n",
      "CA Canada 2\n",
      "CH Switzerland 1\n",
      "CN China 3\n",
      "DE Germany 1\n",
      "DK Denmark 1\n",
      "EG Egypt 4\n",
      "FR France 1\n",
      "HK HongKong 3\n",
      "IL Israel 4\n",
      "IN India 3\n",
      "IT Italy 1\n",
      "JP Japan 3\n",
      "KW Kuwait 4\n",
      "MX Mexico 2\n",
      "NG Nigeria 4\n",
      "N Netherlands 1\n",
      "SG Singapore 3\n",
      "UK United Kingdom 1\n",
      "US United States of America 2\n",
      "ZM Zambia 4\n",
      "ZW Zimbabwe 4\n"
     ]
    }
   ],
   "source": [
    "import csv\n",
    "with open('country.csv',newline='') as csvfile:\n",
    "    data=csv.reader(csvfile,delimiter='\\t')\n",
    "    for row in data:\n",
    "        print(', '.join(row))"
   ]
  },
  {
   "cell_type": "code",
   "execution_count": 4,
   "id": "b365c693-0230-457e-8a7a-552639c2cad4",
   "metadata": {
    "tags": []
   },
   "outputs": [
    {
     "name": "stdout",
     "output_type": "stream",
     "text": [
      "[['country_id country_name region_id'], ['AR Argentina 2'], ['AU Australia 3'], ['BE Belgium 1'], ['BR Brazil 2'], ['CA Canada 2'], ['CH Switzerland 1'], ['CN China 3'], ['DE Germany 1'], ['DK Denmark 1'], ['EG Egypt 4'], ['FR France 1'], ['HK HongKong 3'], ['IL Israel 4'], ['IN India 3'], ['IT Italy 1'], ['JP Japan 3'], ['KW Kuwait 4'], ['MX Mexico 2'], ['NG Nigeria 4'], ['N Netherlands 1'], ['SG Singapore 3'], ['UK United Kingdom 1'], ['US United States of America 2'], ['ZM Zambia 4'], ['ZW Zimbabwe 4']]\n"
     ]
    }
   ],
   "source": [
    "import csv\n",
    "with open('country.csv', newline='') as f:\n",
    "   reader = csv.reader(f)\n",
    "   data_list = list(reader)\n",
    "print(data_list)"
   ]
  },
  {
   "cell_type": "code",
   "execution_count": 6,
   "id": "2abb4b1f-26d4-4c0c-942c-72fcc542767b",
   "metadata": {
    "tags": []
   },
   "outputs": [
    {
     "name": "stdout",
     "output_type": "stream",
     "text": [
      "CSV File as a Dictionary:\n",
      "\n",
      "{'country_id country_name region_id': 'AR Argentina 2'}\n",
      "{'country_id country_name region_id': 'AU Australia 3'}\n",
      "{'country_id country_name region_id': 'BE Belgium 1'}\n",
      "{'country_id country_name region_id': 'BR Brazil 2'}\n",
      "{'country_id country_name region_id': 'CA Canada 2'}\n",
      "{'country_id country_name region_id': 'CH Switzerland 1'}\n",
      "{'country_id country_name region_id': 'CN China 3'}\n",
      "{'country_id country_name region_id': 'DE Germany 1'}\n",
      "{'country_id country_name region_id': 'DK Denmark 1'}\n",
      "{'country_id country_name region_id': 'EG Egypt 4'}\n",
      "{'country_id country_name region_id': 'FR France 1'}\n",
      "{'country_id country_name region_id': 'HK HongKong 3'}\n",
      "{'country_id country_name region_id': 'IL Israel 4'}\n",
      "{'country_id country_name region_id': 'IN India 3'}\n",
      "{'country_id country_name region_id': 'IT Italy 1'}\n",
      "{'country_id country_name region_id': 'JP Japan 3'}\n",
      "{'country_id country_name region_id': 'KW Kuwait 4'}\n",
      "{'country_id country_name region_id': 'MX Mexico 2'}\n",
      "{'country_id country_name region_id': 'NG Nigeria 4'}\n",
      "{'country_id country_name region_id': 'N Netherlands 1'}\n",
      "{'country_id country_name region_id': 'SG Singapore 3'}\n",
      "{'country_id country_name region_id': 'UK United Kingdom 1'}\n",
      "{'country_id country_name region_id': 'US United States of America 2'}\n",
      "{'country_id country_name region_id': 'ZM Zambia 4'}\n",
      "{'country_id country_name region_id': 'ZW Zimbabwe 4'}\n"
     ]
    }
   ],
   "source": [
    "import csv\n",
    "data=csv.DictReader(open('country.csv'))\n",
    "print('CSV File as a Dictionary:\\n')\n",
    "for i in data:\n",
    "    print(i)"
   ]
  },
  {
   "cell_type": "code",
   "execution_count": 8,
   "id": "b04654ab-3515-4487-a78a-759707c929a6",
   "metadata": {
    "tags": []
   },
   "outputs": [
    {
     "name": "stdout",
     "output_type": "stream",
     "text": [
      "\n",
      "With initial spaces after a delimiter:\n",
      "\n",
      "department_id, department_name, manager_id, location_id\n",
      "10, Administration, 200, 1700\n",
      "20, Marketing, 201, 1800\n",
      "30, Purchasing, 114, 1700\n",
      "40, Human Resources, 203, 2400\n",
      "50, Shipping, 121, 1500\n",
      "60, IT, 103, 1400\n",
      "70, Public Relations, 204, 2700\n",
      "80, Sales, 145, 2500\n",
      "90, Executive, 100, 1700\n",
      "100, Finance, 108, 1700\n",
      "110, Accounting, 205, 1700\n",
      "120, Treasury, , 1700\n",
      "130, Corporate Tax, , 1700\n",
      "140, Control And Credit, , 1700\n",
      "150, Shareholder Services, , 1700\n",
      "160, Benefits, , 1700\n",
      "170, Manufacturing, , 1700\n",
      "180, Construction, , 1700\n",
      "190, Contracting, , 1700\n",
      "200, Operations, , 1700\n",
      "210, IT Support, , 1700\n",
      "220, NOC, , 1700\n",
      "230, IT Helpdesk, , 1700\n",
      "240, Government Sales, , 1700\n",
      "250, Retail Sales, , 1700\n",
      "260, Recruiting, , 1700\n",
      "270, Payroll, , 1700\n",
      "\n",
      "\n",
      "Without initial spaces after a delimiter:\n",
      "\n",
      "department_id, department_name, manager_id, location_id\n",
      "10, Administration, 200, 1700\n",
      "20, Marketing, 201, 1800\n",
      "30, Purchasing, 114, 1700\n",
      "40, Human Resources, 203, 2400\n",
      "50, Shipping, 121, 1500\n",
      "60, IT, 103, 1400\n",
      "70, Public Relations, 204, 2700\n",
      "80, Sales, 145, 2500\n",
      "90, Executive, 100, 1700\n",
      "100, Finance, 108, 1700\n",
      "110, Accounting, 205, 1700\n",
      "120, Treasury, , 1700\n",
      "130, Corporate Tax, , 1700\n",
      "140, Control And Credit, , 1700\n",
      "150, Shareholder Services, , 1700\n",
      "160, Benefits, , 1700\n",
      "170, Manufacturing, , 1700\n",
      "180, Construction, , 1700\n",
      "190, Contracting, , 1700\n",
      "200, Operations, , 1700\n",
      "210, IT Support, , 1700\n",
      "220, NOC, , 1700\n",
      "230, IT Helpdesk, , 1700\n",
      "240, Government Sales, , 1700\n",
      "250, Retail Sales, , 1700\n",
      "260, Recruiting, , 1700\n",
      "270, Payroll, , 1700\n"
     ]
    }
   ],
   "source": [
    "import csv\n",
    "print(\"\\nWith initial spaces after a delimiter:\\n\")\n",
    "with open('depart.csv', 'r') as csvfile:\n",
    "   data = csv.reader(csvfile, skipinitialspace=False)\n",
    "   for row in data:\n",
    "     print(', '.join(row))\n",
    "print(\"\\n\\nWithout initial spaces after a delimiter:\\n\")\n",
    "with open('depart.csv', 'r') as csvfile:\n",
    "   data = csv.reader(csvfile, skipinitialspace=True)\n",
    "   for row in data:\n",
    "     print(', '.join(row))"
   ]
  },
  {
   "cell_type": "code",
   "execution_count": 10,
   "id": "9689e35a-f2f6-4749-ab92-b4324355a914",
   "metadata": {
    "tags": []
   },
   "outputs": [
    {
     "name": "stdout",
     "output_type": "stream",
     "text": [
      "['country_id', 'country_name', 'region_id']\n",
      "['AR', 'Argentina', '2']\n",
      "['AU', 'Australia', '3']\n",
      "['BE', 'Belgium', '1']\n",
      "['BR', 'Brazil', '2']\n",
      "['CA', 'Canada', '2']\n"
     ]
    }
   ],
   "source": [
    "import csv\n",
    "csv.register_dialect('csv_dialect',\n",
    "                    delimiter='|',\n",
    "                    skipinitialspace=True,\n",
    "                    quoting=csv.QUOTE_ALL)\n",
    "with open('temp.csv', 'r') as csvfile:\n",
    "   reader = csv.reader(csvfile, dialect='csv_dialect')\n",
    "   for row in reader:\n",
    "       print(row)"
   ]
  },
  {
   "cell_type": "code",
   "execution_count": 11,
   "id": "6c67d6fd-d186-4de5-a97c-6e2eb56f4fa7",
   "metadata": {
    "tags": []
   },
   "outputs": [
    {
     "name": "stdout",
     "output_type": "stream",
     "text": [
      "ID Department Name\n",
      "---------------------------------\n",
      "10 Administration\n",
      "20 Marketing\n",
      "30 Purchasing\n",
      "40 Human Resources\n",
      "50 Shipping\n",
      "60 IT\n",
      "70 Public Relations\n",
      "80 Sales\n",
      "90 Executive\n",
      "100 Finance\n",
      "110 Accounting\n",
      "120 Treasury\n",
      "130 Corporate Tax\n",
      "140 Control And Credit\n",
      "150 Shareholder Services\n",
      "160 Benefits\n",
      "170 Manufacturing\n",
      "180 Construction\n",
      "190 Contracting\n",
      "200 Operations\n",
      "210 IT Support\n",
      "220 NOC\n",
      "230 IT Helpdesk\n",
      "240 Government Sales\n",
      "250 Retail Sales\n",
      "260 Recruiting\n",
      "270 Payroll\n"
     ]
    }
   ],
   "source": [
    "import csv\n",
    "with open('depart.csv', newline='') as csvfile:\n",
    " data = csv.DictReader(csvfile)\n",
    " print(\"ID Department Name\")\n",
    " print(\"---------------------------------\")\n",
    " for row in data:\n",
    "   print(row['department_id'], row['department_name'])"
   ]
  },
  {
   "cell_type": "code",
   "execution_count": 12,
   "id": "5e9a6248-4b6c-41b5-8e12-bfb2059112d2",
   "metadata": {
    "tags": []
   },
   "outputs": [
    {
     "name": "stdout",
     "output_type": "stream",
     "text": [
      "10,Administration,200,1700\n",
      "20,Marketing,201,1800\n",
      "30,Purchasing,114,1700\n",
      "40,Human, Resources,203,2400\n",
      "50,Shipping,121,1500\n",
      "60,IT,103,1400\n",
      "70,Public, Relations,204,2700\n",
      "80,Sales,145,2500\n",
      "90,Executive,100,1700\n",
      "100,Finance,108,1700\n",
      "110,Accounting,205,1700\n",
      "120,Treasury,,1700\n",
      "130,Corporate, Tax,,1700\n",
      "140,Control, And, Credit,,1700\n",
      "150,Shareholder, Services,,1700\n",
      "160,Benefits,,1700\n",
      "170,Manufacturing,,1700\n",
      "180,Construction,,1700\n",
      "190,Contracting,,1700\n",
      "200,Operations,,1700\n",
      "210,IT, Support,,1700\n",
      "220,NOC,,1700\n",
      "230,IT, Helpdesk,,1700\n",
      "240,Government, Sales,,1700\n",
      "250,Retail, Sales,,1700\n",
      "260,Recruiting,,1700\n",
      "270,Payroll,,1700\n",
      "\n",
      "Total no. of rows: 28\n",
      "Field names are:\n",
      "department_id,department_name,manager_id,location_id\n"
     ]
    }
   ],
   "source": [
    "import csv\n",
    "fields = []\n",
    "rows = []\n",
    "with open('depart.csv', newline='') as csvfile:\n",
    " data = csv.reader(csvfile, delimiter=' ', quotechar=',')\n",
    " fields = next(data)\n",
    " for row in data:\n",
    "   print(', '.join(row))\n",
    "print(\"\\nTotal no. of rows: %d\"%(data.line_num))\n",
    "print('Field names are:')\n",
    "print(', '.join(field for field in fields))"
   ]
  },
  {
   "cell_type": "code",
   "execution_count": 17,
   "id": "a722599c-b381-4811-a5db-882637a83afb",
   "metadata": {
    "tags": []
   },
   "outputs": [
    {
     "name": "stdout",
     "output_type": "stream",
     "text": [
      "id1,id2,date\n",
      "\n",
      "1,a,01/01/2019\n",
      "\n",
      "2,b,01/02/2019\n",
      "\n",
      "3,c,01/03/2019\n",
      "\n",
      "\n"
     ]
    }
   ],
   "source": [
    "import csv\n",
    "import sys\n",
    "with open('temp.csv', 'wt') as f:\n",
    "    writer = csv.writer(f)\n",
    "    writer.writerow(('id1', 'id2', 'date'))\n",
    "    for i in range(3):\n",
    "        row = (\n",
    "            i + 1,\n",
    "            chr(ord('a') + i),\n",
    "            '01/{:02d}/2019'.format(i + 1),)\n",
    "        writer.writerow(row)\n",
    "print(open('temp.csv', 'rt').read())"
   ]
  },
  {
   "cell_type": "code",
   "execution_count": 18,
   "id": "fa779cf5-1438-44fe-b22d-1e6f80a93f3f",
   "metadata": {
    "tags": []
   },
   "outputs": [
    {
     "name": "stdout",
     "output_type": "stream",
     "text": [
      "10,a1,1\n",
      "12,a2,3\n",
      "14,a3,5\n",
      "16,a4,7\n",
      "18,a5,9\n"
     ]
    }
   ],
   "source": [
    "import csv\n",
    "data = [[10,'a1', 1], [12,'a2', 3], [14, 'a3', 5], [16, 'a4', 7], [18, 'a5', 9]]\n",
    "with open(\"temp.csv\", \"w\", newline=\"\") as f:\n",
    "   writer = csv.writer(f)\n",
    "   writer.writerows(data)\n",
    "with open('temp.csv', newline='') as csvfile:\n",
    " data = csv.reader(csvfile, delimiter=' ')\n",
    " for row in data:\n",
    "   print(', '.join(row))"
   ]
  },
  {
   "cell_type": "code",
   "execution_count": 19,
   "id": "f0c2267d-2877-42fd-a621-3bbf6b1d0fd2",
   "metadata": {
    "tags": []
   },
   "outputs": [
    {
     "name": "stdout",
     "output_type": "stream",
     "text": [
      "CSV file as a dictionary:\n",
      "\n",
      "{'id': \"['1', '2', '3']\", 'Column1': '[33, 25, 56]', 'Column2': '[35, 30, 30]', 'Column3': '[21, 40, 55]', 'Column4': '[71, 25, 55]', 'Column5': '[10, 10, 40]'}\n",
      "{'id': \"['1', '2', '3']\", 'Column1': '[33, 25, 56]', 'Column2': '[35, 30, 30]', 'Column3': '[21, 40, 55]', 'Column4': '[71, 25, 55]', 'Column5': '[10, 10, 40]'}\n",
      "{'id': \"['1', '2', '3']\", 'Column1': '[33, 25, 56]', 'Column2': '[35, 30, 30]', 'Column3': '[21, 40, 55]', 'Column4': '[71, 25, 55]', 'Column5': '[10, 10, 40]'}\n",
      "{'id': \"['1', '2', '3']\", 'Column1': '[33, 25, 56]', 'Column2': '[35, 30, 30]', 'Column3': '[21, 40, 55]', 'Column4': '[71, 25, 55]', 'Column5': '[10, 10, 40]'}\n",
      "{'id': \"['1', '2', '3']\", 'Column1': '[33, 25, 56]', 'Column2': '[35, 30, 30]', 'Column3': '[21, 40, 55]', 'Column4': '[71, 25, 55]', 'Column5': '[10, 10, 40]'}\n",
      "{'id': \"['1', '2', '3']\", 'Column1': '[33, 25, 56]', 'Column2': '[35, 30, 30]', 'Column3': '[21, 40, 55]', 'Column4': '[71, 25, 55]', 'Column5': '[10, 10, 40]'}\n"
     ]
    }
   ],
   "source": [
    "import csv\n",
    "csv_columns = ['id','Column1', 'Column2', 'Column3', 'Column4', 'Column5']\n",
    "dict_data = {'id':['1', '2', '3'],\n",
    "    'Column1':[33, 25, 56],\n",
    "    'Column2':[35, 30, 30],\n",
    "    'Column3':[21, 40, 55],\n",
    "    'Column4':[71, 25, 55],\n",
    "    'Column5':[10, 10, 40], }\n",
    "csv_file = \"temp.csv\"\n",
    "try:\n",
    "   with open(csv_file, 'w') as csvfile:\n",
    "       writer = csv.DictWriter(csvfile, fieldnames=csv_columns)\n",
    "       writer.writeheader()\n",
    "       for data in dict_data:\n",
    "           writer.writerow(dict_data)\n",
    "except IOError:\n",
    "   print(\"I/O error\")\n",
    "data = csv.DictReader(open(csv_file))\n",
    "print(\"CSV file as a dictionary:\\n\")\n",
    "for row in data:\n",
    "   print(row)"
   ]
  },
  {
   "cell_type": "code",
   "execution_count": null,
   "id": "c774e8e9-5eec-4b2c-96ec-bfd13373d30d",
   "metadata": {},
   "outputs": [],
   "source": []
  }
 ],
 "metadata": {
  "kernelspec": {
   "display_name": "Python 3 (ipykernel)",
   "language": "python",
   "name": "python3"
  },
  "language_info": {
   "codemirror_mode": {
    "name": "ipython",
    "version": 3
   },
   "file_extension": ".py",
   "mimetype": "text/x-python",
   "name": "python",
   "nbconvert_exporter": "python",
   "pygments_lexer": "ipython3",
   "version": "3.11.3"
  }
 },
 "nbformat": 4,
 "nbformat_minor": 5
}
