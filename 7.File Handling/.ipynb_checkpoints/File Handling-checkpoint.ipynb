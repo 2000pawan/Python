{
 "cells": [
  {
   "cell_type": "code",
   "execution_count": 34,
   "id": "275cef55-911c-4778-bd60-28530d34afcd",
   "metadata": {},
   "outputs": [
    {
     "name": "stdout",
     "output_type": "stream",
     "text": [
      "I am Pawan Yadav, I am an AI Developer!\n",
      " I complete my Graduation!\n",
      "\n"
     ]
    }
   ],
   "source": [
    "def fileread(fname):\n",
    "    txt=open(fname)\n",
    "    print(txt.read())\n",
    "fileread('abc.txt')"
   ]
  },
  {
   "cell_type": "code",
   "execution_count": 35,
   "id": "1712638b-e49f-4868-9b01-ba7db2f8ec3f",
   "metadata": {
    "tags": []
   },
   "outputs": [
    {
     "name": "stdout",
     "output_type": "stream",
     "text": [
      "I am Pawan Yadav, I am an AI Developer!\n",
      "\n",
      " I complete my Graduation!\n",
      "\n"
     ]
    }
   ],
   "source": [
    "def file_read_from_head(fname,n):\n",
    "    from itertools import islice\n",
    "    with open(fname) as f:\n",
    "        for line in islice(f,n):\n",
    "            print(line)\n",
    "file_read_from_head('abc.txt',2)"
   ]
  },
  {
   "cell_type": "code",
   "execution_count": 36,
   "id": "d63619f6-2acf-465b-9684-df974dcee238",
   "metadata": {},
   "outputs": [
    {
     "name": "stdout",
     "output_type": "stream",
     "text": [
      "I Complete My Graduation\n",
      "In 2023!\n"
     ]
    }
   ],
   "source": [
    "def append(x):\n",
    "    with open(x,'w') as f:\n",
    "        f.write('I Complete My Graduation\\n')\n",
    "        f.write('In 2023!')\n",
    "    txt=open(x)\n",
    "    print(txt.read())\n",
    "append('abc.txt')"
   ]
  },
  {
   "cell_type": "code",
   "execution_count": 37,
   "id": "dad032ee-ce48-4492-ad52-e8171754dfe4",
   "metadata": {
    "tags": []
   },
   "outputs": [
    {
     "name": "stdout",
     "output_type": "stream",
     "text": [
      " Complete My Graduation\n",
      "In 2023!\n"
     ]
    }
   ],
   "source": [
    "import sys\n",
    "import os\n",
    "def file_read_from_tail(fname,lines):\n",
    "        bufsize = 8192\n",
    "        fsize = os.stat(fname).st_size\n",
    "        iter = 0\n",
    "        with open(fname) as f:\n",
    "                if bufsize > fsize:\n",
    "                        bufsize = fsize-1\n",
    "                        data = []\n",
    "                        while True:\n",
    "                                iter +=1\n",
    "                                f.seek(fsize-bufsize*iter)\n",
    "                                data.extend(f.readlines())\n",
    "                                if len(data) >= lines or f.tell() == 0:\n",
    "                                        print(''.join(data[-lines:]))\n",
    "                                        break\n",
    "\n",
    "file_read_from_tail('abc.txt',2)\n"
   ]
  },
  {
   "cell_type": "code",
   "execution_count": 38,
   "id": "824a0225-88f5-4db0-862f-49549c2a912c",
   "metadata": {
    "tags": []
   },
   "outputs": [
    {
     "name": "stdout",
     "output_type": "stream",
     "text": [
      "['I Complete My Graduation\\n', 'In 2023!']\n",
      "......................................................................\n",
      "['I Complete My Graduation\\n', 'In 2023!']\n"
     ]
    }
   ],
   "source": [
    "def fileread(fname):\n",
    "    txt=open(fname)\n",
    "    return (txt.readlines())\n",
    "y=fileread('abc.txt')\n",
    "z=[]\n",
    "for i in y:\n",
    "    z.append(i)\n",
    "print(z)\n",
    "#############################################################################\n",
    "print('......................................................................')\n",
    "def file_read(fname):\n",
    "        with open(fname) as f:  \n",
    "                content_list = f.readlines()\n",
    "                print(content_list)\n",
    "file_read('abc.txt')"
   ]
  },
  {
   "cell_type": "code",
   "execution_count": 39,
   "id": "d79883b0-1385-4265-9aeb-e5cc842a65b4",
   "metadata": {
    "tags": []
   },
   "outputs": [
    {
     "name": "stdout",
     "output_type": "stream",
     "text": [
      "['I Complete My Graduation\\n', 'In 2023!']\n"
     ]
    }
   ],
   "source": [
    "def file_read(x):\n",
    "    with open (x,'r')as f:\n",
    "        data=f.readlines()\n",
    "        print(data)\n",
    "file_read('abc.txt')"
   ]
  },
  {
   "cell_type": "code",
   "execution_count": 40,
   "id": "b7c5f0a5-786f-4517-8fdb-2389cc1f23a8",
   "metadata": {
    "tags": []
   },
   "outputs": [
    {
     "name": "stdout",
     "output_type": "stream",
     "text": [
      "['I Complete My Graduation\\n', 'In 2023!']\n"
     ]
    }
   ],
   "source": [
    "def file_read(x):\n",
    "    y=[]\n",
    "    with open (x,'r')as f:\n",
    "        for i in f:\n",
    "            y.append(i)\n",
    "        print(y)\n",
    "file_read('abc.txt')"
   ]
  },
  {
   "cell_type": "code",
   "execution_count": 41,
   "id": "d144d912-fc4f-4827-9855-037559595cfc",
   "metadata": {
    "tags": []
   },
   "outputs": [
    {
     "name": "stdout",
     "output_type": "stream",
     "text": [
      "['Graduation']\n"
     ]
    }
   ],
   "source": [
    "def file_read(x):\n",
    "    with open (x,'r')as f:\n",
    "        w=f.read().split()\n",
    "    max_len=len(max(w,key=len))\n",
    "    return [i for i in w if len(i)==max_len]\n",
    "print(file_read('abc.txt'))"
   ]
  },
  {
   "cell_type": "code",
   "execution_count": 42,
   "id": "86a98920-17db-4edb-b2d5-303feb08fb98",
   "metadata": {
    "tags": []
   },
   "outputs": [
    {
     "name": "stdout",
     "output_type": "stream",
     "text": [
      "2\n"
     ]
    }
   ],
   "source": [
    "def file_read(x):\n",
    "    with open (x,'r')as f:\n",
    "        for i,j in enumerate(f):\n",
    "            pass\n",
    "        return i+1\n",
    "print(file_read('abc.txt'))"
   ]
  },
  {
   "cell_type": "code",
   "execution_count": 43,
   "id": "86a85edf-b7b2-4129-8540-c6e1f799fa1f",
   "metadata": {},
   "outputs": [
    {
     "name": "stdout",
     "output_type": "stream",
     "text": [
      "Counter({'I': 1, 'Complete': 1, 'My': 1, 'Graduation': 1, 'In': 1, '2023!': 1})\n"
     ]
    }
   ],
   "source": [
    "from collections import Counter\n",
    "def word_count(x):\n",
    "    with open(x) as f:\n",
    "        return Counter(f.read().split())\n",
    "print(word_count('abc.txt'))"
   ]
  },
  {
   "cell_type": "code",
   "execution_count": 44,
   "id": "441a02a5-42b0-4b8a-ab27-16a685ebcb59",
   "metadata": {
    "tags": []
   },
   "outputs": [
    {
     "name": "stdout",
     "output_type": "stream",
     "text": [
      "34\n"
     ]
    }
   ],
   "source": [
    "def file_size(x):\n",
    "    import os\n",
    "    statinfo=os.stat(x)\n",
    "    return statinfo.st_size\n",
    "print(file_size('abc.txt'))"
   ]
  },
  {
   "cell_type": "code",
   "execution_count": 47,
   "id": "de786727-5615-469c-8e3a-22eefa6471dd",
   "metadata": {
    "tags": []
   },
   "outputs": [
    {
     "data": {
      "text/plain": [
       "'I am Pawan Yadav, I Want to become Indian Army Officer!, I am an AI Developer!\\n I complete my Graduation!\\n'"
      ]
     },
     "execution_count": 47,
     "metadata": {},
     "output_type": "execute_result"
    }
   ],
   "source": [
    "def list_write_file(x):\n",
    "    l=['I am Pawan Yadav, I Want to become Indian Army Officer!, I am an AI Developer!', ' I complete my Graduation!']\n",
    "    with open(x,'w') as f:\n",
    "        for i in l:\n",
    "            f.write('%s\\n'%i)\n",
    "list_write_file('ab.txt')\n",
    "d=open('ab.txt','r')\n",
    "d.read()"
   ]
  },
  {
   "cell_type": "code",
   "execution_count": 46,
   "id": "3514f6bf-8e24-43a2-988c-52ca65b8c94a",
   "metadata": {
    "tags": []
   },
   "outputs": [
    {
     "data": {
      "text/plain": [
       "'abc.txt'"
      ]
     },
     "execution_count": 46,
     "metadata": {},
     "output_type": "execute_result"
    }
   ],
   "source": [
    "from shutil import copyfile\n",
    "copyfile('ab.txt','abc.txt')"
   ]
  },
  {
   "cell_type": "code",
   "execution_count": 48,
   "id": "c3aa7948-6b20-4f20-a8d2-588e03659f40",
   "metadata": {
    "tags": []
   },
   "outputs": [
    {
     "name": "stdout",
     "output_type": "stream",
     "text": [
      "I am Pawan Yadav, I Want to become Indian Army Officer!, I am an AI Developer!\n",
      "I am Pawan Yadav, I am an AI Developer!\n",
      "\n",
      " I complete my Graduation!\n",
      " I complete my Graduation!\n",
      "\n"
     ]
    }
   ],
   "source": [
    "with open('ab.txt') as f, open('abc.txt') as f1:\n",
    "    for i,j in zip(f,f1):\n",
    "        print(i+j)"
   ]
  },
  {
   "cell_type": "code",
   "execution_count": 58,
   "id": "3e084a44-faf9-480d-af70-58d5b56ba154",
   "metadata": {
    "tags": []
   },
   "outputs": [
    {
     "name": "stdout",
     "output_type": "stream",
     "text": [
      "I am Pawan Yadav, I Want to become Indian Army Officer!, I am an AI Developer!\n"
     ]
    }
   ],
   "source": [
    "import random\n",
    "def random_read(x):\n",
    "    l=open(x).read().splitlines()\n",
    "    return random.choice(l)\n",
    "print(random_read('ab.txt'))"
   ]
  },
  {
   "cell_type": "code",
   "execution_count": 59,
   "id": "de2fb984-3a7f-4f05-9ef1-3ce7f0fcc75a",
   "metadata": {
    "tags": []
   },
   "outputs": [
    {
     "name": "stdout",
     "output_type": "stream",
     "text": [
      "False\n",
      "True\n"
     ]
    }
   ],
   "source": [
    "f= open('abc.txt','r')\n",
    "print(f.closed)\n",
    "f.close()\n",
    "print(f.closed)"
   ]
  },
  {
   "cell_type": "code",
   "execution_count": 62,
   "id": "4a074483-b977-44b9-b0bb-ddb1e2101e7d",
   "metadata": {
    "tags": []
   },
   "outputs": [
    {
     "name": "stdout",
     "output_type": "stream",
     "text": [
      "['I am Pawan Yadav, I Want to become Indian Army Officer!, I am an AI Developer!', ' I complete my Graduation!']\n"
     ]
    }
   ],
   "source": [
    "def remove_newlines(x):\n",
    "    f=open(x).readlines()\n",
    "    return [s.rstrip('\\n') for s in f]\n",
    "print(remove_newlines(\"ab.txt\"))"
   ]
  },
  {
   "cell_type": "code",
   "execution_count": 63,
   "id": "27de4a31-a5aa-4238-867b-b832975ef9b0",
   "metadata": {
    "tags": []
   },
   "outputs": [
    {
     "name": "stdout",
     "output_type": "stream",
     "text": [
      "20\n"
     ]
    }
   ],
   "source": [
    "def count_words(f):\n",
    "    with open(f) as x:\n",
    "        data=x.read()\n",
    "        data.replace(',', ' ')\n",
    "        return len(data.split(' '))\n",
    "print(count_words('ab.txt'))"
   ]
  },
  {
   "cell_type": "code",
   "execution_count": 67,
   "id": "9679558e-039e-4bc4-ab7f-5910e755d11a",
   "metadata": {
    "tags": []
   },
   "outputs": [
    {
     "name": "stdout",
     "output_type": "stream",
     "text": [
      "['I am Pawan Yadav, I Want to become Indian Army Officer!, I am an AI Developer!\\n I complete my Graduation!\\n', 'I am Pawan Yadav, I am an AI Developer!\\n I complete my Graduation!\\n', 'Welcome to the Python Wiki, a user-editable compendium of knowledge\\nbased around the Python programming language. Some pages are protected\\nagainst casual editing - see WikiEditingGuidelines for more information\\nabout editing content.', \"Python is a great object-oriented, interpreted, and interactive\\nprogramming language. It is often compared (favorably of course :-) )\\nto Lisp, Tcl, Perl, Ruby, C#, Visual Basic, Visual Fox Pro, Scheme or Java...\\nand it's much more fun.\"]\n"
     ]
    }
   ],
   "source": [
    "import glob\n",
    "c=[]\n",
    "f=glob.glob('*.txt')\n",
    "for i in f:\n",
    "    with open(i,'r') as j:\n",
    "        c.append(j.read())\n",
    "print(c)"
   ]
  },
  {
   "cell_type": "code",
   "execution_count": 71,
   "id": "1b72d862-8157-454e-8499-72c7e11549c3",
   "metadata": {
    "tags": []
   },
   "outputs": [
    {
     "data": {
      "text/plain": [
       "'Pawan Yadav'"
      ]
     },
     "execution_count": 71,
     "metadata": {},
     "output_type": "execute_result"
    }
   ],
   "source": [
    "import string,os\n",
    "if not os.path.exists('letters'):\n",
    "    os.makedirs('letters')\n",
    "for letter in string.ascii_uppercase:\n",
    "    with open(letter + '.txt','w') as f:\n",
    "        f.write('Pawan Yadav')\n",
    "p=open('P.txt','r')\n",
    "p.read()"
   ]
  },
  {
   "cell_type": "code",
   "execution_count": 75,
   "id": "eb576c44-1c13-4b97-acbd-7a484e51d93f",
   "metadata": {
    "tags": []
   },
   "outputs": [
    {
     "data": {
      "text/plain": [
       "'ABC\\nDEF\\nGHI\\nJKL\\nMNO\\nPQR\\nSTU\\nVWX\\nYZ\\n'"
      ]
     },
     "execution_count": 75,
     "metadata": {},
     "output_type": "execute_result"
    }
   ],
   "source": [
    "import string\n",
    "def letters_file(n):\n",
    "    with open('pawan.txt','w') as f:\n",
    "        alphabet=string.ascii_uppercase\n",
    "        letters=[alphabet[i:i+n] + '\\n' for i in range(0,len(alphabet),n)]\n",
    "        f.writelines(letters)\n",
    "letters_file(3)\n",
    "d=open('pawan.txt','r')\n",
    "d.read()"
   ]
  },
  {
   "cell_type": "code",
   "execution_count": null,
   "id": "675511f2-a8e0-4923-bdc4-e4e8077895b3",
   "metadata": {},
   "outputs": [],
   "source": []
  }
 ],
 "metadata": {
  "kernelspec": {
   "display_name": "Python 3 (ipykernel)",
   "language": "python",
   "name": "python3"
  },
  "language_info": {
   "codemirror_mode": {
    "name": "ipython",
    "version": 3
   },
   "file_extension": ".py",
   "mimetype": "text/x-python",
   "name": "python",
   "nbconvert_exporter": "python",
   "pygments_lexer": "ipython3",
   "version": "3.11.3"
  }
 },
 "nbformat": 4,
 "nbformat_minor": 5
}
