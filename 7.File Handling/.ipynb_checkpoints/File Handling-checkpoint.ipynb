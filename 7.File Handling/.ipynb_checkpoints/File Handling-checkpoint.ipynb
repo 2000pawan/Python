{
 "cells": [
  {
   "cell_type": "code",
   "execution_count": 3,
   "id": "275cef55-911c-4778-bd60-28530d34afcd",
   "metadata": {},
   "outputs": [
    {
     "name": "stdout",
     "output_type": "stream",
     "text": [
      "I am Pawan Yadav \n",
      "AI & ML Engineer! Data Scientist! & Python Developer.\n"
     ]
    }
   ],
   "source": [
    "def fileread(fname):\n",
    "    txt=open(fname)\n",
    "    print(txt.read())\n",
    "fileread('abc.txt')"
   ]
  },
  {
   "cell_type": "code",
   "execution_count": 9,
   "id": "1712638b-e49f-4868-9b01-ba7db2f8ec3f",
   "metadata": {
    "tags": []
   },
   "outputs": [
    {
     "name": "stdout",
     "output_type": "stream",
     "text": [
      "I am Pawan Yadav \n",
      "\n",
      "AI & ML Engineer! Data Scientist! & Python Developer.\n"
     ]
    }
   ],
   "source": [
    "def file_read_from_head(fname,n):\n",
    "    from itertools import islice\n",
    "    with open(fname) as f:\n",
    "        for line in islice(f,n):\n",
    "            print(line)\n",
    "file_read_from_head('abc.txt',2)"
   ]
  },
  {
   "cell_type": "code",
   "execution_count": null,
   "id": "d63619f6-2acf-465b-9684-df974dcee238",
   "metadata": {},
   "outputs": [],
   "source": []
  }
 ],
 "metadata": {
  "kernelspec": {
   "display_name": "Python 3 (ipykernel)",
   "language": "python",
   "name": "python3"
  },
  "language_info": {
   "codemirror_mode": {
    "name": "ipython",
    "version": 3
   },
   "file_extension": ".py",
   "mimetype": "text/x-python",
   "name": "python",
   "nbconvert_exporter": "python",
   "pygments_lexer": "ipython3",
   "version": "3.11.3"
  }
 },
 "nbformat": 4,
 "nbformat_minor": 5
}
