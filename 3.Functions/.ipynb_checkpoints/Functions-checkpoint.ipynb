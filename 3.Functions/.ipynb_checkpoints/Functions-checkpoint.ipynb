{
 "cells": [
  {
   "cell_type": "code",
   "execution_count": 2,
   "id": "80cbf37f-05ca-4228-85cc-2328c224af1b",
   "metadata": {},
   "outputs": [
    {
     "name": "stdout",
     "output_type": "stream",
     "text": [
      "6\n"
     ]
    }
   ],
   "source": [
    "def max_three(x):\n",
    "    return max(x)\n",
    "x=3,6,-5\n",
    "print(max_three(x))"
   ]
  },
  {
   "cell_type": "code",
   "execution_count": 4,
   "id": "80fb7e3c-3818-4fa1-adae-a915d8389790",
   "metadata": {
    "tags": []
   },
   "outputs": [
    {
     "name": "stdout",
     "output_type": "stream",
     "text": [
      "20\n"
     ]
    }
   ],
   "source": [
    "x=[8, 2, 3, 0, 7]\n",
    "def sum_list(x):\n",
    "    y=0\n",
    "    for i in x:\n",
    "       y+=i\n",
    "    return y\n",
    "print(sum_list(x))"
   ]
  },
  {
   "cell_type": "code",
   "execution_count": 5,
   "id": "0f690ab6-a8eb-4756-a336-ec6da8cedaa1",
   "metadata": {
    "tags": []
   },
   "outputs": [
    {
     "name": "stdout",
     "output_type": "stream",
     "text": [
      "-336\n"
     ]
    }
   ],
   "source": [
    "x=[8,2,3,-1,7]\n",
    "def product(x):\n",
    "    y=1\n",
    "    for i in x:\n",
    "        y=y*i\n",
    "    return y\n",
    "print(product(x))"
   ]
  },
  {
   "cell_type": "code",
   "execution_count": 9,
   "id": "3a8eb919-9730-4db0-b0db-493ee9a84c8f",
   "metadata": {
    "tags": []
   },
   "outputs": [
    {
     "name": "stdout",
     "output_type": "stream",
     "text": [
      "dcba4321\n"
     ]
    }
   ],
   "source": [
    "x= \"1234abcd\"\n",
    "def reverse_str(x):\n",
    "    return x[::-1]\n",
    "print(reverse_str(x))"
   ]
  },
  {
   "cell_type": "code",
   "execution_count": 15,
   "id": "a8437a8b-267b-4eab-8f19-a8a1d0c92dfa",
   "metadata": {
    "tags": []
   },
   "outputs": [
    {
     "name": "stdout",
     "output_type": "stream",
     "text": [
      "120\n",
      "24\n",
      "40320\n"
     ]
    }
   ],
   "source": [
    "def factorial(x):\n",
    "    y=1\n",
    "    for i in range(1,x+1):\n",
    "        y=y*i\n",
    "    return y\n",
    "print(factorial(5))\n",
    "print(factorial(4))\n",
    "print(factorial(8))"
   ]
  },
  {
   "cell_type": "code",
   "execution_count": 27,
   "id": "f0e19584-51c8-45e2-b376-b2da14c571a9",
   "metadata": {
    "tags": []
   },
   "outputs": [
    {
     "name": "stdin",
     "output_type": "stream",
     "text": [
      " 20\n"
     ]
    },
    {
     "name": "stdout",
     "output_type": "stream",
     "text": [
      "20 is in the range!.\n"
     ]
    }
   ],
   "source": [
    "def test(x):\n",
    "    if x in range(10,100):\n",
    "        print(x,'is in the range!.')\n",
    "    else:\n",
    "        print(\"The number is outside the given range.\")\n",
    "(test(int(input())))"
   ]
  },
  {
   "cell_type": "code",
   "execution_count": 47,
   "id": "8bf1e2b0-2397-4b2a-a52a-bfb0ef738a5a",
   "metadata": {
    "tags": []
   },
   "outputs": [
    {
     "name": "stdout",
     "output_type": "stream",
     "text": [
      "The quick Brown Fox\n",
      "(('No. of Upper case characters: ', 3), ('No. of Lower case Characters: ', 13))\n"
     ]
    }
   ],
   "source": [
    "def count_str(x):\n",
    "    y=0\n",
    "    z=0\n",
    "    for i in x:\n",
    "        if i.isupper():\n",
    "            y+=1\n",
    "        elif i.islower():\n",
    "            z+=1\n",
    "        else:\n",
    "            pass\n",
    "    return (\"No. of Upper case characters: \", y), (\"No. of Lower case Characters: \", z)\n",
    "x='The quick Brown Fox'\n",
    "print(x)\n",
    "print(count_str(x))"
   ]
  },
  {
   "cell_type": "code",
   "execution_count": 52,
   "id": "2b4e5947-f353-414d-89ac-c5583649ad4b",
   "metadata": {
    "tags": []
   },
   "outputs": [
    {
     "name": "stdout",
     "output_type": "stream",
     "text": [
      "[1, 2, 3, 3, 3, 3, 4, 5]\n",
      "[1, 2, 3, 4, 5]\n",
      "...................................................\n",
      "[1, 2, 3, 4, 5]\n"
     ]
    }
   ],
   "source": [
    "x=[1,2,3,3,3,3,4,5]\n",
    "def new_list(x):\n",
    "    return list(set(x))\n",
    "print(x)\n",
    "print(new_list(x))\n",
    "########################################################\n",
    "print('...................................................')\n",
    "def new(x):\n",
    "    y=[]\n",
    "    for i in x:\n",
    "        if not i in y:\n",
    "            y.append(i)\n",
    "    return y\n",
    "print(new(x))"
   ]
  },
  {
   "cell_type": "code",
   "execution_count": 55,
   "id": "b39d642d-eeef-43a2-868d-a845520d05c8",
   "metadata": {
    "tags": []
   },
   "outputs": [
    {
     "name": "stdout",
     "output_type": "stream",
     "text": [
      "True\n"
     ]
    }
   ],
   "source": [
    "def prime(x):\n",
    "    if x==1:\n",
    "        return False\n",
    "    elif x==2:\n",
    "        return True\n",
    "    else:\n",
    "        for i in range(2,x):\n",
    "            if x%i ==0:\n",
    "                return False\n",
    "        return True\n",
    "print(prime(5))"
   ]
  },
  {
   "cell_type": "code",
   "execution_count": 59,
   "id": "e01c04ca-3d2a-42e3-af96-3aef310e865a",
   "metadata": {
    "tags": []
   },
   "outputs": [
    {
     "name": "stdout",
     "output_type": "stream",
     "text": [
      "[1, 2, 3, 4, 5, 6, 7, 8, 9]\n",
      "[2, 4, 6, 8]\n"
     ]
    }
   ],
   "source": [
    "def even(x):\n",
    "    y=[]\n",
    "    for i in x:\n",
    "        if i%2==0:\n",
    "            y.append(i)\n",
    "    return y\n",
    "x=[1, 2, 3, 4, 5, 6, 7, 8, 9]\n",
    "print(x)\n",
    "print(even(x))"
   ]
  },
  {
   "cell_type": "code",
   "execution_count": 68,
   "id": "45b6d8a4-5a7b-43a2-84a3-33d4546895c0",
   "metadata": {
    "tags": []
   },
   "outputs": [
    {
     "name": "stdout",
     "output_type": "stream",
     "text": [
      "True\n"
     ]
    }
   ],
   "source": [
    "def perfect(x):\n",
    "    n=0\n",
    "    for i in range(1,x):\n",
    "        if x%i==0:\n",
    "            n+=i\n",
    "    return n==x\n",
    "print(perfect(6))"
   ]
  },
  {
   "cell_type": "code",
   "execution_count": 4,
   "id": "7fd66344-2a3d-4ef5-ad93-1dd81b1dac09",
   "metadata": {},
   "outputs": [
    {
     "name": "stdout",
     "output_type": "stream",
     "text": [
      "True\n",
      "True\n",
      "True\n",
      "False\n",
      "True\n"
     ]
    }
   ],
   "source": [
    "def palindrome(x):\n",
    "    l=0\n",
    "    r=len(x)-1\n",
    "    while r>=l:\n",
    "        if not x[l]==x[r]:\n",
    "            return False\n",
    "        l+=1\n",
    "        r-=1\n",
    "    return True\n",
    "print(palindrome('aza'))\n",
    "print(palindrome('kanak'))\n",
    "print(palindrome('mom'))\n",
    "print(palindrome('marry'))\n",
    "print(palindrome('malayalam'))"
   ]
  },
  {
   "cell_type": "code",
   "execution_count": 7,
   "id": "207003a1-01a9-4769-bde1-ac7b1caa05ff",
   "metadata": {
    "tags": []
   },
   "outputs": [
    {
     "name": "stdout",
     "output_type": "stream",
     "text": [
      "[1]\n",
      "[1, 1]\n",
      "[1, 2, 1]\n",
      "[1, 3, 3, 1]\n",
      "[1, 4, 6, 4, 1]\n",
      "[1, 5, 10, 10, 5, 1]\n"
     ]
    },
    {
     "data": {
      "text/plain": [
       "True"
      ]
     },
     "execution_count": 7,
     "metadata": {},
     "output_type": "execute_result"
    }
   ],
   "source": [
    "def pascal_triangle(x):\n",
    "    y=[1]\n",
    "    z=[0]\n",
    "    for i in range(max(x,0)):\n",
    "        print(y)\n",
    "        y=[j+k for j,k in zip(y+z,z+y)]\n",
    "    return x>=1\n",
    "pascal_triangle(6)"
   ]
  },
  {
   "cell_type": "code",
   "execution_count": 16,
   "id": "95643ce5-cc56-46e3-986e-ea352e15eb3f",
   "metadata": {
    "tags": []
   },
   "outputs": [
    {
     "name": "stdout",
     "output_type": "stream",
     "text": [
      "False\n"
     ]
    }
   ],
   "source": [
    "import string\n",
    "import sys\n",
    "def panagram(x,a=string.ascii_lowercase):\n",
    "    y=set(a)\n",
    "    z=set(x.lower())\n",
    "    return y<=z\n",
    "x=\"The quick brown fox jumps over the lazy dog\"\n",
    "print(panagram(x))"
   ]
  },
  {
   "cell_type": "code",
   "execution_count": 22,
   "id": "2920972d-e719-4454-9efb-30e896a78568",
   "metadata": {
    "tags": []
   },
   "outputs": [
    {
     "name": "stdout",
     "output_type": "stream",
     "text": [
      "green-red-yellow-black-white\n",
      "black-green-red-white-yellow\n"
     ]
    }
   ],
   "source": [
    "def sorted_list(x):\n",
    "    y=[i for i in x.split('-')]\n",
    "    y.sort()\n",
    "    return ('-'.join(y))\n",
    "x='green-red-yellow-black-white'\n",
    "print(x)\n",
    "print(sorted_list(x))"
   ]
  },
  {
   "cell_type": "code",
   "execution_count": 25,
   "id": "82960bf1-1ff5-43e9-9804-8726530cb1eb",
   "metadata": {
    "tags": []
   },
   "outputs": [
    {
     "name": "stdout",
     "output_type": "stream",
     "text": [
      "[1, 4, 9, 16, 25, 36, 49, 64, 81, 100, 121, 144, 169, 196, 225, 256, 289, 324, 361, 400, 441, 484, 529, 576, 625, 676, 729, 784, 841, 900]\n"
     ]
    }
   ],
   "source": [
    "def sqrt():\n",
    "    x=[i*i for i in range(1,31)]\n",
    "    return x\n",
    "print(sqrt())"
   ]
  },
  {
   "cell_type": "code",
   "execution_count": 29,
   "id": "109612fb-e9e0-4235-b94f-4e1be2c8cc67",
   "metadata": {
    "tags": []
   },
   "outputs": [
    {
     "name": "stdout",
     "output_type": "stream",
     "text": [
      "<b><i><u>hello world</u></i></b>\n"
     ]
    }
   ],
   "source": [
    "def make_bold(fn):\n",
    "    def wrapped():\n",
    "        return \"<b>\" + fn() + \"</b>\"\n",
    "    return wrapped\n",
    "def make_italic(fn):\n",
    "    def wrapped():\n",
    "        return \"<i>\" + fn() + \"</i>\"\n",
    "    return wrapped\n",
    "def make_underline(fn):\n",
    "    def wrapped():\n",
    "        return \"<u>\" + fn() + \"</u>\"\n",
    "    return wrapped\n",
    "@make_bold\n",
    "@make_italic\n",
    "@make_underline\n",
    "def hello():\n",
    "    return \"hello world\"\n",
    "print(hello())"
   ]
  },
  {
   "cell_type": "code",
   "execution_count": 30,
   "id": "8bd7f5a9-a120-4a89-9ab7-8b440a8391a0",
   "metadata": {
    "tags": []
   },
   "outputs": [
    {
     "name": "stdout",
     "output_type": "stream",
     "text": [
      "hello world\n",
      "6\n"
     ]
    }
   ],
   "source": [
    "x='print(\"hello world\")'\n",
    "code='''\n",
    "def multiply(y,z):\n",
    "    return y*z\n",
    "print(multiply(3,2))'''\n",
    "exec(x)\n",
    "exec(code)"
   ]
  },
  {
   "cell_type": "code",
   "execution_count": 33,
   "id": "fe6c7f29-02ec-4549-8be8-146c5f5e37d1",
   "metadata": {
    "tags": []
   },
   "outputs": [
    {
     "name": "stdout",
     "output_type": "stream",
     "text": [
      "9\n"
     ]
    }
   ],
   "source": [
    "def test(a):\n",
    "    def add(b):\n",
    "        nonlocal a\n",
    "        a+=1\n",
    "        return a+b\n",
    "    return add\n",
    "f=test(4)\n",
    "print(f(4))"
   ]
  },
  {
   "cell_type": "code",
   "execution_count": 36,
   "id": "020c1a23-d078-4217-a7bb-5d57e253084c",
   "metadata": {
    "tags": []
   },
   "outputs": [
    {
     "name": "stdout",
     "output_type": "stream",
     "text": [
      "3\n"
     ]
    }
   ],
   "source": [
    "def abc():\n",
    "    a=1\n",
    "    b=2\n",
    "    s='w3resorce'\n",
    "    print('Python Exercsie')\n",
    "print(abc.__code__.co_nlocals)"
   ]
  },
  {
   "cell_type": "code",
   "execution_count": 1,
   "id": "109a90ab-73f4-4701-b57f-ffcac464751c",
   "metadata": {
    "tags": []
   },
   "outputs": [
    {
     "name": "stdout",
     "output_type": "stream",
     "text": [
      "Square root after specific milliseconds:\n",
      "4.0\n",
      "10.0\n",
      "158.42979517754858\n"
     ]
    }
   ],
   "source": [
    "from time import sleep\n",
    "import math\n",
    "def delay(fn, ms, *args):\n",
    "    sleep(ms/1000)\n",
    "    return fn(*args)\n",
    "print(\"Square root after specific milliseconds:\")\n",
    "print(delay(lambda x: math.sqrt(x), 100,16))\n",
    "print(delay(lambda x: math.sqrt(x), 1000,100))\n",
    "print(delay(lambda x: math.sqrt(x), 2000,25100))"
   ]
  },
  {
   "cell_type": "code",
   "execution_count": null,
   "id": "5031cc65-44c5-4d32-bcc0-4d1bdb1e89bf",
   "metadata": {},
   "outputs": [],
   "source": []
  }
 ],
 "metadata": {
  "kernelspec": {
   "display_name": "Python 3 (ipykernel)",
   "language": "python",
   "name": "python3"
  },
  "language_info": {
   "codemirror_mode": {
    "name": "ipython",
    "version": 3
   },
   "file_extension": ".py",
   "mimetype": "text/x-python",
   "name": "python",
   "nbconvert_exporter": "python",
   "pygments_lexer": "ipython3",
   "version": "3.11.3"
  }
 },
 "nbformat": 4,
 "nbformat_minor": 5
}
