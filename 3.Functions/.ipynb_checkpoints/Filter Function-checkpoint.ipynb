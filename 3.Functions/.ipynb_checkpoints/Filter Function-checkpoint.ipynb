{
 "cells": [
  {
   "cell_type": "code",
   "execution_count": 4,
   "id": "76fe6da6-0559-4519-a818-993e5f859ac1",
   "metadata": {},
   "outputs": [
    {
     "name": "stdout",
     "output_type": "stream",
     "text": [
      "[1, 3, 5, 7, 9, 3, 121]\n"
     ]
    }
   ],
   "source": [
    "x=[1,3,5,2,7,4,8,9,6,3,121,22,24,26,50]\n",
    "r=filter(lambda i: i%2!=0,x)\n",
    "print(list(r))"
   ]
  },
  {
   "cell_type": "code",
   "execution_count": 13,
   "id": "899b16df-f5ee-4b2d-92f6-4909f39d3fe7",
   "metadata": {
    "tags": []
   },
   "outputs": [
    {
     "name": "stdout",
     "output_type": "stream",
     "text": [
      "['H', 'P', 'F', 'L']\n"
     ]
    }
   ],
   "source": [
    "x=[\"Hello\", \"w3resource\", \"Python\", \"Filter\", \"Learning\"]\n",
    "r=list(filter(lambda i:i.isupper(),''.join(x)))\n",
    "print(r)"
   ]
  },
  {
   "cell_type": "code",
   "execution_count": 23,
   "id": "c0b483b0-f2f3-412f-a71e-50408297b09e",
   "metadata": {
    "tags": []
   },
   "outputs": [
    {
     "name": "stdout",
     "output_type": "stream",
     "text": [
      "[1, 3, 5, 2, 4, 6, 3]\n"
     ]
    }
   ],
   "source": [
    "x=[1,3,5,2,7,4,8,9,6,3,121,22,24,26,50]\n",
    "r=list(filter(lambda i: i<=6 ,x))\n",
    "print(r)"
   ]
  },
  {
   "cell_type": "code",
   "execution_count": 38,
   "id": "a73e623c-77d0-403d-b728-6d5a528cf0c1",
   "metadata": {
    "tags": []
   },
   "outputs": [
    {
     "name": "stdout",
     "output_type": "stream",
     "text": [
      "['Elita', 'Audovacar', 'Iolanda']\n"
     ]
    }
   ],
   "source": [
    "x=[\"Elita\", \"Vitold\", \"Audovacar\", \"Kerensa\", \"Ramana\", \"Iolanda\", \"Landyn\"]\n",
    "r=list(filter(lambda i: i[0].lower() in ['a','e','i','o','u'],x))\n",
    "print(r)"
   ]
  },
  {
   "cell_type": "code",
   "execution_count": 48,
   "id": "4e2a4c0a-4ae0-44d5-8298-760d47d81c23",
   "metadata": {
    "tags": []
   },
   "outputs": [
    {
     "name": "stdout",
     "output_type": "stream",
     "text": [
      "Original list of strings: ['', '', '']\n",
      "\n",
      "A new list containing only non-empty strings:\n",
      "['w3resource', 'Filter', 'Python']\n"
     ]
    }
   ],
   "source": [
    "x=[\"\", \"w3resource\", \"Filter\", \"\", \"Python\", \"\"]\n",
    "r=list(filter(lambda i:i==\"\",x ))\n",
    "p=list(filter(lambda i:i!=\"\",x ))\n",
    "print(\"Original list of strings:\",r)\n",
    "print(\"\\nA new list containing only non-empty strings:\\n\",p,sep='')"
   ]
  },
  {
   "cell_type": "code",
   "execution_count": 57,
   "id": "936ad178-beb6-4645-87d5-cbc47aba7390",
   "metadata": {
    "tags": []
   },
   "outputs": [
    {
     "name": "stdout",
     "output_type": "stream",
     "text": [
      "Student information:\n",
      "[{'name': 'Denis Helio', 'age': 17, 'grade': 97}, {'name': 'Hania Mehtap', 'age': 16, 'grade': 92}, {'name': 'Kelan Stasys', 'age': 17, 'grade': 90}, {'name': 'Velvet Mirko', 'age': 16, 'grade': 94}, {'name': 'Delores Aeneas', 'age': 17, 'grade': 100}]\n",
      "\n",
      "Students with high grades:\n",
      "[{'name': 'Denis Helio', 'age': 17, 'grade': 97}, {'name': 'Delores Aeneas', 'age': 17, 'grade': 100}]\n"
     ]
    }
   ],
   "source": [
    "x= [\n",
    "    {\"name\": \"Denis Helio\", \"age\": 17, \"grade\": 97},\n",
    "    {\"name\": \"Hania Mehtap\", \"age\": 16, \"grade\": 92},\n",
    "    {\"name\": \"Kelan Stasys\", \"age\": 17, \"grade\": 90},\n",
    "    {\"name\": \"Velvet Mirko\", \"age\": 16, \"grade\": 94},\n",
    "    {\"name\": \"Delores Aeneas\", \"age\": 17, \"grade\": 100},\n",
    "]\n",
    "print(\"Student information:\\n\",x,sep='')\n",
    "r=list(filter(lambda i: i['grade']>=95,x))\n",
    "print(\"\\nStudents with high grades:\\n\",r,sep='')"
   ]
  },
  {
   "cell_type": "code",
   "execution_count": 59,
   "id": "8a99a56c-95a6-45f9-86d3-1ed4737b0516",
   "metadata": {
    "tags": []
   },
   "outputs": [
    {
     "name": "stdout",
     "output_type": "stream",
     "text": [
      "[2, 3, 5, 7, 11, 13, 17]\n"
     ]
    }
   ],
   "source": [
    "n=[1, 2, 3, 4, 5, 6, 7, 8, 9, 10, 11, 12, 13, 14, 15, 16, 17]\n",
    "def is_prime(n):\n",
    "    if n <= 1:\n",
    "        return False\n",
    "    if n <= 3:\n",
    "        return True\n",
    "    if n % 2 == 0 or n % 3 == 0:\n",
    "        return False\n",
    "    i = 5\n",
    "    while i * i <= n:\n",
    "        if n % i == 0 or n % (i + 2) == 0:\n",
    "            return False\n",
    "        i += 6\n",
    "    return True\n",
    "r=list(filter(is_prime,n))\n",
    "print(r)"
   ]
  },
  {
   "cell_type": "code",
   "execution_count": 63,
   "id": "0ccd9efe-b453-44f0-8ca6-2df7d2e9d5fa",
   "metadata": {
    "tags": []
   },
   "outputs": [
    {
     "name": "stdout",
     "output_type": "stream",
     "text": [
      "['Vitold', 'Audovacar', 'Kerensa', 'Ramana', 'Iolanda', 'Landyn']\n",
      "['Elita', 'pawan', 'yadav']\n"
     ]
    }
   ],
   "source": [
    "x=[\"Elita\", \"Vitold\", \"Audovacar\", \"Kerensa\", \"Ramana\", \"Iolanda\", \"Landyn\",'pawan','yadav']\n",
    "r=list(filter(lambda i: len(i)>5,x))\n",
    "print(r)\n",
    "r=list(filter(lambda i: len(i)<=5,x))\n",
    "print(r)"
   ]
  },
  {
   "cell_type": "code",
   "execution_count": 73,
   "id": "af3419b3-b186-4e7d-98d5-39d252110a7c",
   "metadata": {
    "tags": []
   },
   "outputs": [
    {
     "name": "stdin",
     "output_type": "stream",
     "text": [
      " o\n"
     ]
    },
    {
     "name": "stdout",
     "output_type": "stream",
     "text": [
      "['Orange', 'Yellow']\n"
     ]
    }
   ],
   "source": [
    "x=['Red', 'Green', 'Orange', 'White', 'Black', 'Pink', 'Yellow']\n",
    "y=input()\n",
    "r=list(filter(lambda i: y in i.lower() ,x))\n",
    "print(r)"
   ]
  },
  {
   "cell_type": "code",
   "execution_count": 75,
   "id": "05aec5a8-d835-421f-9be3-21265dccfa34",
   "metadata": {
    "tags": []
   },
   "outputs": [
    {
     "name": "stdout",
     "output_type": "stream",
     "text": [
      "Current date: 2023-12-20 14:23:31.378152\n",
      "\n",
      "Check if a date is in the future!\n",
      "['2024-05-11', '2025-12-31']\n"
     ]
    }
   ],
   "source": [
    "from datetime import datetime\n",
    "x=[\"2023-07-11\", \"2022-02-22\", \"2024-05-11\", \"2025-12-31\", \"2021-01-01\"]\n",
    "dates = [datetime.strptime(date, \"%Y-%m-%d\") for date in x]\n",
    "current_date = datetime.now()\n",
    "print(\"Current date:\",current_date)\n",
    "def is_date_in_future(date):\n",
    "    return date > current_date\n",
    "dates_in_past = list(filter(is_date_in_future, dates))\n",
    "filtered_date_strings = [date.strftime(\"%Y-%m-%d\") for date in dates_in_past]\n",
    "print(\"\\nCheck if a date is in the future!\")\n",
    "print(filtered_date_strings)"
   ]
  },
  {
   "cell_type": "code",
   "execution_count": 78,
   "id": "7024257f-1da8-484e-8357-b340b0f0f2f0",
   "metadata": {
    "tags": []
   },
   "outputs": [
    {
     "name": "stdout",
     "output_type": "stream",
     "text": [
      "[('New York', 8500000), ('Los Angeles', 4000000), ('Chicago', 2700000), ('Houston', 2300000)]\n"
     ]
    }
   ],
   "source": [
    "x= [\n",
    "    (\"New York\", 8500000),\n",
    "    (\"Los Angeles\", 4000000),\n",
    "    (\"Chicago\", 2700000),\n",
    "    (\"Houston\", 2300000),\n",
    "    (\"Phoenix\", 1600000),\n",
    "    (\"Philadelphia\", 1500000),\n",
    "    (\"San Antonio\", 1500000),\n",
    "]\n",
    "r=list(filter(lambda i: i[1]>2000000,x))\n",
    "print(r)"
   ]
  },
  {
   "cell_type": "code",
   "execution_count": null,
   "id": "32efb6e5-95e6-4990-8701-82ee751741b2",
   "metadata": {},
   "outputs": [],
   "source": []
  }
 ],
 "metadata": {
  "kernelspec": {
   "display_name": "Python 3 (ipykernel)",
   "language": "python",
   "name": "python3"
  },
  "language_info": {
   "codemirror_mode": {
    "name": "ipython",
    "version": 3
   },
   "file_extension": ".py",
   "mimetype": "text/x-python",
   "name": "python",
   "nbconvert_exporter": "python",
   "pygments_lexer": "ipython3",
   "version": "3.11.3"
  }
 },
 "nbformat": 4,
 "nbformat_minor": 5
}
