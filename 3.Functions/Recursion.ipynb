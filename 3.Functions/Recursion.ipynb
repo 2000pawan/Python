{
 "cells": [
  {
   "cell_type": "code",
   "execution_count": 6,
   "id": "820d666a-3171-407b-ae53-d044190315d2",
   "metadata": {},
   "outputs": [
    {
     "name": "stdout",
     "output_type": "stream",
     "text": [
      "24\n"
     ]
    }
   ],
   "source": [
    "def list_sum(x):\n",
    "    if len(x)==1:\n",
    "        return x[0]\n",
    "    else:\n",
    "        return x[0]+list_sum(x[1:])\n",
    "print(list_sum([2,4,5,6,7]))"
   ]
  },
  {
   "cell_type": "code",
   "execution_count": 9,
   "id": "6a149a5b-02ad-4e44-8719-7114ba7a2a2b",
   "metadata": {
    "tags": []
   },
   "outputs": [
    {
     "name": "stdout",
     "output_type": "stream",
     "text": [
      "B13\n"
     ]
    }
   ],
   "source": [
    "def to_string(n,base):\n",
    "    con_string='0123456789ABCDEF'\n",
    "    if n<base:\n",
    "        return con_string[n]\n",
    "    else:\n",
    "        return to_string(n//base,base)+con_string[n%base]\n",
    "print(to_string(2835,16))"
   ]
  },
  {
   "cell_type": "code",
   "execution_count": 2,
   "id": "febb470f-ac36-497b-a937-e65621d99b1e",
   "metadata": {
    "tags": []
   },
   "outputs": [
    {
     "name": "stdout",
     "output_type": "stream",
     "text": [
      "21\n"
     ]
    }
   ],
   "source": [
    "def test(x):\n",
    "    t=0\n",
    "    for i in x:\n",
    "        if type(i) == type([]):\n",
    "            t=t+test(i)\n",
    "        else:\n",
    "            t=t+i\n",
    "    return t\n",
    "print(test([1, 2, [3,4], [5,6]]))"
   ]
  },
  {
   "cell_type": "code",
   "execution_count": 16,
   "id": "7f0fc004-476d-431c-b234-018ce753c417",
   "metadata": {
    "tags": []
   },
   "outputs": [
    {
     "name": "stdout",
     "output_type": "stream",
     "text": [
      "120\n"
     ]
    }
   ],
   "source": [
    "def factorial_x(x):\n",
    "    if x<=1:\n",
    "        return 1\n",
    "    else:\n",
    "        return x * (factorial_x(x - 1))\n",
    "print(factorial_x(5))"
   ]
  },
  {
   "cell_type": "code",
   "execution_count": 92,
   "id": "b008336f-60e5-4ec4-b58a-539c7af9787d",
   "metadata": {
    "tags": []
   },
   "outputs": [
    {
     "name": "stdout",
     "output_type": "stream",
     "text": [
      "13\n"
     ]
    }
   ],
   "source": [
    "def fibonacci(n):\n",
    "    if n == 1 or n == 2:\n",
    "        return 1\n",
    "    else:\n",
    "        return (fibonacci(n - 1) + (fibonacci(n - 2)))\n",
    "\n",
    "print(fibonacci(7))"
   ]
  },
  {
   "cell_type": "code",
   "execution_count": 27,
   "id": "c4604059-244f-437e-b192-2fc2ba7150ca",
   "metadata": {
    "tags": []
   },
   "outputs": [
    {
     "name": "stdout",
     "output_type": "stream",
     "text": [
      "12\n",
      "9\n"
     ]
    }
   ],
   "source": [
    "def test(x):\n",
    "    if x==0:\n",
    "        return 0\n",
    "    else:\n",
    "        return x%10 +test(int(x/10))\n",
    "print(test(345))\n",
    "print(test(45))"
   ]
  },
  {
   "cell_type": "code",
   "execution_count": 31,
   "id": "5bd35a6c-4c9e-4399-b695-196b01846041",
   "metadata": {
    "tags": []
   },
   "outputs": [
    {
     "name": "stdout",
     "output_type": "stream",
     "text": [
      "12\n",
      "30\n"
     ]
    }
   ],
   "source": [
    "def test(x):\n",
    "    if x<1:\n",
    "        return 0\n",
    "    else:\n",
    "        return x+test(x-2)\n",
    "print(test(6))\n",
    "print(test(10))"
   ]
  },
  {
   "cell_type": "code",
   "execution_count": 2,
   "id": "43192bac-2877-47fa-bbf0-121fa9aff55e",
   "metadata": {},
   "outputs": [
    {
     "name": "stdout",
     "output_type": "stream",
     "text": [
      "2.5928571428571425\n",
      "2.083333333333333\n"
     ]
    }
   ],
   "source": [
    "def harmonic_sum(n):\n",
    "    if n<2:\n",
    "        return 1\n",
    "    else:\n",
    "        return 1/n+(harmonic_sum(n-1))\n",
    "print(harmonic_sum(7))\n",
    "print(harmonic_sum(4))"
   ]
  },
  {
   "cell_type": "code",
   "execution_count": 61,
   "id": "ace5e499-eea1-4977-963d-ca9a8f20ed02",
   "metadata": {
    "tags": []
   },
   "outputs": [
    {
     "name": "stdout",
     "output_type": "stream",
     "text": [
      "1.9921875\n",
      "1.9375\n"
     ]
    }
   ],
   "source": [
    "def geometric_sum(n):\n",
    "    if n<0:\n",
    "        return 0\n",
    "    else:\n",
    "        return 1/(pow(2,n))+geometric_sum(n-1)\n",
    "print(geometric_sum(7))\n",
    "print(geometric_sum(4))"
   ]
  },
  {
   "cell_type": "code",
   "execution_count": 69,
   "id": "e9890c82-1b14-4c41-8a8e-86e90c1b48ed",
   "metadata": {
    "tags": []
   },
   "outputs": [
    {
     "data": {
      "text/plain": [
       "1.9375"
      ]
     },
     "execution_count": 69,
     "metadata": {},
     "output_type": "execute_result"
    }
   ],
   "source": [
    "1/(pow(2,4))+1/(pow(2,3))+1/(pow(2,2))+1/(pow(2,1))+1/(pow(2,0))"
   ]
  },
  {
   "cell_type": "code",
   "execution_count": 79,
   "id": "97e90b5f-24c3-4964-b601-b694c774ade6",
   "metadata": {
    "tags": []
   },
   "outputs": [
    {
     "name": "stdout",
     "output_type": "stream",
     "text": [
      "81\n"
     ]
    }
   ],
   "source": [
    "def power(a,b):\n",
    "    if b==0:\n",
    "        return 1\n",
    "    elif a==0:\n",
    "        return 0\n",
    "    elif b==1:\n",
    "        return a\n",
    "    else:\n",
    "        return a*(power(a,b-1))\n",
    "print(power(3,4))"
   ]
  },
  {
   "cell_type": "code",
   "execution_count": 89,
   "id": "25578b5f-31df-4c5a-9c86-85d6df7650d3",
   "metadata": {
    "tags": []
   },
   "outputs": [
    {
     "name": "stdout",
     "output_type": "stream",
     "text": [
      "2\n"
     ]
    }
   ],
   "source": [
    "def gcd(a,b):\n",
    "    low = min(a,b)\n",
    "    high=max(a,b)\n",
    "    if low ==0:\n",
    "        return high\n",
    "    elif low==1:\n",
    "        return 1\n",
    "    else:\n",
    "        return gcd(low, high%low)\n",
    "print(gcd(14,18))"
   ]
  },
  {
   "cell_type": "code",
   "execution_count": 101,
   "id": "b9891d9e-5b2c-4156-a96b-9a7115bae979",
   "metadata": {
    "tags": []
   },
   "outputs": [
    {
     "name": "stdout",
     "output_type": "stream",
     "text": [
      "1\n",
      "2\n",
      "3\n",
      "4\n",
      "5\n",
      "6\n",
      "7\n",
      "8\n",
      "9\n",
      "10\n"
     ]
    }
   ],
   "source": [
    "def test(x):\n",
    "    if x>=1:\n",
    "        test(x-1)\n",
    "        print(x)\n",
    "test(10)"
   ]
  },
  {
   "cell_type": "code",
   "execution_count": 111,
   "id": "400172d2-2efb-4a1f-bffd-fea89077007d",
   "metadata": {
    "tags": []
   },
   "outputs": [
    {
     "name": "stdout",
     "output_type": "stream",
     "text": [
      "1\n",
      "3\n",
      "6\n",
      "10\n",
      "15\n",
      "21\n"
     ]
    },
    {
     "data": {
      "text/plain": [
       "21"
      ]
     },
     "execution_count": 111,
     "metadata": {},
     "output_type": "execute_result"
    }
   ],
   "source": [
    "def test(x):\n",
    "    if (x>0):\n",
    "        r=x + test(x-1)\n",
    "        print(r)\n",
    "    else:\n",
    "        r=0\n",
    "    return r\n",
    "test(6)"
   ]
  },
  {
   "cell_type": "code",
   "execution_count": null,
   "id": "7e15f2cc-fa9f-4740-9915-a68d4fe404d2",
   "metadata": {},
   "outputs": [],
   "source": []
  }
 ],
 "metadata": {
  "kernelspec": {
   "display_name": "Python 3 (ipykernel)",
   "language": "python",
   "name": "python3"
  },
  "language_info": {
   "codemirror_mode": {
    "name": "ipython",
    "version": 3
   },
   "file_extension": ".py",
   "mimetype": "text/x-python",
   "name": "python",
   "nbconvert_exporter": "python",
   "pygments_lexer": "ipython3",
   "version": "3.11.3"
  }
 },
 "nbformat": 4,
 "nbformat_minor": 5
}
