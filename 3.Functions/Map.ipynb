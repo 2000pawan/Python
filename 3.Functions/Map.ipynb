{
 "cells": [
  {
   "cell_type": "code",
   "execution_count": 1,
   "id": "6dce0e43-e9d5-498e-a689-4ee25f8170df",
   "metadata": {},
   "outputs": [
    {
     "name": "stdout",
     "output_type": "stream",
     "text": [
      "(1, 2, 3, 4, 5, 6, 7, 8)\n",
      "[3, 6, 9, 12, 15, 18, 21, 24]\n"
     ]
    }
   ],
   "source": [
    "x=(1,2,3,4,5,6,7,8)\n",
    "print(x)\n",
    "r=map(lambda i:i+i+i,x)\n",
    "print(list(r))"
   ]
  },
  {
   "cell_type": "code",
   "execution_count": 8,
   "id": "1fcf0fd5-12b1-4ff6-90a7-e67ebad9f35e",
   "metadata": {
    "tags": []
   },
   "outputs": [
    {
     "name": "stdout",
     "output_type": "stream",
     "text": [
      "[20, 23, 26, 29, 32, 35]\n"
     ]
    }
   ],
   "source": [
    "x=[1,2,3,4,5,6]\n",
    "y=[7,8,9,10,11,12]\n",
    "z=[12,13,14,15,16,17]\n",
    "r=map(lambda i,j,k: i+j+k ,x,y,z)\n",
    "print(list(r))"
   ]
  },
  {
   "cell_type": "code",
   "execution_count": 9,
   "id": "907052e9-39b2-4d3b-a8e1-d1ad610df8b8",
   "metadata": {
    "tags": []
   },
   "outputs": [
    {
     "name": "stdout",
     "output_type": "stream",
     "text": [
      "[['R', 'e', 'd'], ['B', 'l', 'u', 'e'], ['B', 'l', 'a', 'c', 'k'], ['W', 'h', 'i', 't', 'e'], ['P', 'i', 'n', 'k']]\n"
     ]
    }
   ],
   "source": [
    "color = ['Red', 'Blue', 'Black', 'White', 'Pink'] \n",
    "r=list(map(list,color))\n",
    "print(r)"
   ]
  },
  {
   "cell_type": "code",
   "execution_count": 11,
   "id": "0b3ca363-d216-4aa7-ac67-b3eaaff19ee0",
   "metadata": {
    "tags": []
   },
   "outputs": [
    {
     "name": "stdout",
     "output_type": "stream",
     "text": [
      "[10, 400, 27000, 2560000, 312500000, 46656000000, 8235430000000, 1677721600000000, 387420489000000000, 100000000000000000000]\n"
     ]
    }
   ],
   "source": [
    "bases_num = [10, 20, 30, 40, 50, 60, 70, 80, 90, 100]\n",
    "index = [1, 2, 3, 4, 5, 6, 7, 8, 9, 10]\n",
    "r=list(map(pow,bases_num,index))\n",
    "print(r)"
   ]
  },
  {
   "cell_type": "code",
   "execution_count": 15,
   "id": "23008570-d87f-4978-8aed-aa6fd520e97b",
   "metadata": {
    "tags": []
   },
   "outputs": [
    {
     "name": "stdout",
     "output_type": "stream",
     "text": [
      "[1, 4, 9, 16, 25, 36, 49, 64, 81, 100]\n",
      "..................................................\n",
      "Original List:  [4, 5, 2, 9]\n",
      "Square the elements of the said list using map():\n",
      "[16, 25, 4, 81]\n"
     ]
    }
   ],
   "source": [
    "x=[1, 2, 3, 4, 5, 6, 7, 8, 9, 10]\n",
    "r=list(map(lambda i: i**2,x))\n",
    "print(r)\n",
    "######################################################\n",
    "print('..................................................')\n",
    "def square_num(n):\n",
    "    return n * n\n",
    "nums = [4, 5, 2, 9]\n",
    "print(\"Original List: \",nums)\n",
    "result = map(square_num, nums)\n",
    "print(\"Square the elements of the said list using map():\")\n",
    "print(list(result))\n"
   ]
  },
  {
   "cell_type": "code",
   "execution_count": 20,
   "id": "468b1c0a-020f-4243-828a-d57481bcf242",
   "metadata": {
    "tags": []
   },
   "outputs": [
    {
     "name": "stdout",
     "output_type": "stream",
     "text": [
      "Original Characters:\n",
      "{'a', 'E', 'U', 'o', 'i', 'f', 'b'}\n",
      "\n",
      "{('A', 'a'), ('F', 'f'), ('I', 'i'), ('O', 'o'), ('E', 'e'), ('U', 'u'), ('B', 'b')}\n"
     ]
    }
   ],
   "source": [
    "def change_cases(s):\n",
    "    return str(s).upper(),str(s).lower()\n",
    "chars = {'a', 'b', 'E', 'f', 'a', 'i', 'o', 'U', 'a'}\n",
    "print(\"Original Characters:\\n\",chrars,sep='')\n",
    "r=map(change_cases, chars)\n",
    "print('\\n',set(r),sep='')"
   ]
  },
  {
   "cell_type": "code",
   "execution_count": 22,
   "id": "ef9faa0b-d5b1-4462-a7ad-960b1f0c18da",
   "metadata": {
    "tags": []
   },
   "outputs": [
    {
     "name": "stdout",
     "output_type": "stream",
     "text": [
      "[(11, 9), (22, 18), (33, 27), (44, 36), (55, 45), (66, 54), (77, 63), (88, 72), (99, 81), (110, 90)]\n"
     ]
    }
   ],
   "source": [
    "def addition_subtraction(x,y):\n",
    "    return x+y, x-y\n",
    "\n",
    "x=[10, 20, 30, 40, 50, 60, 70, 80, 90, 100]\n",
    "y=[1, 2, 3, 4, 5, 6, 7, 8, 9, 10]\n",
    "r=map(addition_subtraction, x,y)\n",
    "print(list(r))"
   ]
  },
  {
   "cell_type": "code",
   "execution_count": 23,
   "id": "5150ab7c-3406-4428-997a-afab6524fef4",
   "metadata": {
    "tags": []
   },
   "outputs": [
    {
     "name": "stdout",
     "output_type": "stream",
     "text": [
      "['1', '2', '3', '4', '5', '6']\n",
      "('1', '2', '3', '4', '5', '6')\n"
     ]
    }
   ],
   "source": [
    "x=[1,2,3,4,5,6]\n",
    "y=(1,2,3,4,5,6)\n",
    "r=list(map(str,x))\n",
    "p=tuple(map(str,y))\n",
    "print(r)\n",
    "print(p)"
   ]
  },
  {
   "cell_type": "code",
   "execution_count": 28,
   "id": "171b3358-35ea-46a5-a908-799d6e2a62bd",
   "metadata": {
    "tags": []
   },
   "outputs": [
    {
     "name": "stdout",
     "output_type": "stream",
     "text": [
      "[1, 2, 3, 4, 5, 6]\n",
      ".......................................\n",
      "['Alberto Franco', 'Gino Mcneill', 'Ryan Parkes', 'Eesha Hinton']\n",
      "['15/05/2002', '17/05/2002', '16/02/1999', '25/09/1998']\n",
      "['35kg', '37kg', '39kg', '35kg']\n"
     ]
    }
   ],
   "source": [
    "x=('1', '2', '3', '4', '5', '6')\n",
    "r=list(map(int,x))\n",
    "print(r)\n",
    "##############################################\n",
    "print('.......................................')\n",
    "y=[('Alberto Franco','15/05/2002','35kg'), ('Gino Mcneill','17/05/2002','37kg'), ('Ryan Parkes','16/02/1999', '39kg'), ('Eesha Hinton','25/09/1998', '35kg')]\n",
    "p=list(map(lambda i:i[0], y))\n",
    "q=list(map(lambda i:i[1], y))\n",
    "n=list(map(lambda i:i[2], y))\n",
    "print(p)\n",
    "print(q)\n",
    "print(n)"
   ]
  },
  {
   "cell_type": "code",
   "execution_count": 34,
   "id": "33be25b6-cca6-4bea-b908-d43699da31ee",
   "metadata": {
    "tags": []
   },
   "outputs": [
    {
     "name": "stdout",
     "output_type": "stream",
     "text": [
      "First 10 Fibonacci numbers:\n",
      "[0, 1, 1, 2, 3, 5, 8, 13, 21, 34]\n",
      "[0, 1, 1, 4, 9, 25, 64, 169, 441, 1156]\n"
     ]
    }
   ],
   "source": [
    "#Important \n",
    "import itertools\n",
    "n=10\n",
    "def fibonacci_num(x=0,y=1):\n",
    "    yield x\n",
    "    while True:\n",
    "        yield y\n",
    "        x,y=y,x+y\n",
    "print(\"First 10 Fibonacci numbers:\")\n",
    "r=list(itertools.islice(fibonacci_num(),n))\n",
    "print(r)\n",
    "s=lambda x:x*x\n",
    "print(list(map(s,r)))"
   ]
  },
  {
   "cell_type": "code",
   "execution_count": 38,
   "id": "35b642ab-57c5-41fe-b439-c72874b4a603",
   "metadata": {
    "tags": []
   },
   "outputs": [
    {
     "name": "stdout",
     "output_type": "stream",
     "text": [
      "Original array: array('i', [1, 2, 3, 4, 5, -15])\n",
      "Sum of all elements of the said array:\n",
      "0\n"
     ]
    }
   ],
   "source": [
    "from array import array\n",
    "def array_sum(num_array):\n",
    "    sum_n=0\n",
    "    for n in num_array:\n",
    "        sum_n+=n\n",
    "    return sum_n\n",
    "nums=array('i',[1,2,3,4,5,-15])\n",
    "print(\"Original array:\",nums)\n",
    "nums_array = list(map(int, nums))\n",
    "result = array_sum(nums_array)\n",
    "print(\"Sum of all elements of the said array:\")\n",
    "print(result)"
   ]
  },
  {
   "cell_type": "code",
   "execution_count": 44,
   "id": "556f2efa-02a6-4e2f-a0dc-891abdcb5904",
   "metadata": {
    "tags": []
   },
   "outputs": [
    {
     "name": "stdout",
     "output_type": "stream",
     "text": [
      "Original array: array('i', [0, 1, 2, -1, -5, 6, 0, -3, -2, 3, 4, 6, 8])\n",
      "Ratio of positive numbers, negative numbers and zeroes:\n",
      "(0.54, 0.0, 0.46)\n",
      "\n",
      "Original array: array('i', [0, 1, 2, -1, -5, 6, 0, -3, -2, 3, 4, 6, 8])\n",
      "Ratio of positive numbers, negative numbers and zeroes:\n",
      "(0.54, 0.0, 0.46)\n"
     ]
    }
   ],
   "source": [
    "from array import array\n",
    "def plusminus(n):\n",
    "    x=len(n)\n",
    "    x1=x2=x3=0\n",
    "    for i in n:\n",
    "        if i>0:\n",
    "            x1+=1\n",
    "        elif x<0:\n",
    "            x2+=1\n",
    "        else:\n",
    "            x3+=1\n",
    "    return round(x1/x,2),round(x2/x,2),round(x3/x,2)\n",
    "n= array('i', [0, 1, 2, -1, -5, 6, 0, -3, -2, 3, 4, 6, 8])\n",
    "print(\"Original array:\",n)\n",
    "nums_arr = list(map(int, n))\n",
    "result = plusminus(nums_arr)\n",
    "print(\"Ratio of positive numbers, negative numbers and zeroes:\")\n",
    "print(result)\n",
    "nums = array('i', [2, 1, 2, -1, -5, 6, 4, -3, -2, 3, 4, 6, 8])\n",
    "print(\"\\nOriginal array:\",n)\n",
    "nums_arr = list(map(int, n))\n",
    "result = plusminus(nums_arr)\n",
    "print(\"Ratio of positive numbers, negative numbers and zeroes:\")\n",
    "print(result)"
   ]
  },
  {
   "cell_type": "code",
   "execution_count": 47,
   "id": "035e64fd-30c7-4ffc-9a2a-7eeca71c243f",
   "metadata": {
    "tags": []
   },
   "outputs": [
    {
     "name": "stdout",
     "output_type": "stream",
     "text": [
      "Original lists:\n",
      "[1, 2, 3, 4, 5, 6]\n",
      "[1, 2, 5, 6, 4, 6]\n",
      "\n",
      "Number of same pair of the said two given lists:\n",
      "3\n"
     ]
    }
   ],
   "source": [
    "from operator import eq\n",
    "def count_same_pair(x,y):\n",
    "    r=sum(map(eq,x,y))\n",
    "    return r\n",
    "x=[1,2,3,4,5,6]\n",
    "y=[1,2,5,6,4,6]\n",
    "print(\"Original lists:\")\n",
    "print(x)\n",
    "print(y)\n",
    "print(\"\\nNumber of same pair of the said two given lists:\")\n",
    "print(count_same_pair(x,y))"
   ]
  },
  {
   "cell_type": "code",
   "execution_count": 51,
   "id": "ff1a90e7-b735-45ad-9953-4c30c4d73b75",
   "metadata": {
    "tags": []
   },
   "outputs": [
    {
     "name": "stdout",
     "output_type": "stream",
     "text": [
      "Original lists:\n",
      "[1, 2, 7, 8, 3, 7]\n",
      "[4, 3, 8, 9, 4, 3, 8, 9]\n",
      "\n",
      "Interleave two given list into another list randomly:\n",
      "[1, 2, 4, 7, 3, 8, 9, 4, 8, 3, 3, 7, 8, 9]\n"
     ]
    }
   ],
   "source": [
    "import random\n",
    "def randomly_interleave(x,y):\n",
    "    r=list(map(next,random.sample([iter(x)]*len(x)+[iter(y)]*len(y),len(x)+len(y))))\n",
    "    return r\n",
    "x = [1,2,7,8,3,7]\n",
    "y = [4,3,8,9,4,3,8,9]\n",
    "print(\"Original lists:\") \n",
    "print(x)\n",
    "print(y)\n",
    "print(\"\\nInterleave two given list into another list randomly:\")\n",
    "print(randomly_interleave(x,y))"
   ]
  },
  {
   "cell_type": "code",
   "execution_count": 55,
   "id": "8ece3c99-12dc-4c54-8eab-ba6932f4a4ee",
   "metadata": {
    "tags": []
   },
   "outputs": [
    {
     "name": "stdout",
     "output_type": "stream",
     "text": [
      "Original list of strings:\n",
      "['Red', 'Green', 'Black', 'Orange']\n",
      "\n",
      "Convert the said list of strings into list of lists:\n",
      "[['R', 'e', 'd'], ['G', 'r', 'e', 'e', 'n'], ['B', 'l', 'a', 'c', 'k'], ['O', 'r', 'a', 'n', 'g', 'e']]\n"
     ]
    }
   ],
   "source": [
    "def list_of_string_to_list(x):\n",
    "    r=map(list,x)\n",
    "    return list(r)\n",
    "x = [\"Red\", \"Green\", \"Black\", \"Orange\"]\n",
    "print('Original list of strings:')\n",
    "print(x)\n",
    "print(\"\\nConvert the said list of strings into list of lists:\")\n",
    "print(list_of_string_to_list(x))"
   ]
  },
  {
   "cell_type": "code",
   "execution_count": 58,
   "id": "a38f8952-871a-4802-841f-ab8d8b270dd3",
   "metadata": {
    "tags": []
   },
   "outputs": [
    {
     "name": "stdout",
     "output_type": "stream",
     "text": [
      "['red pink', 'white black', 'orange green']\n",
      "['Sheridan Gentry', 'Laila Mckee', 'Ahsan Rivas', 'Conna Gonzalez']\n"
     ]
    }
   ],
   "source": [
    "def list_of_tuple_to_string(x):\n",
    "    r=map(' '.join,x)\n",
    "    return list(r)\n",
    "x=[('red', 'pink'), ('white', 'black'), ('orange', 'green')]\n",
    "print(list_of_tuple_to_string(x))\n",
    "x=[('Sheridan','Gentry'), ('Laila','Mckee'), ('Ahsan','Rivas'), ('Conna','Gonzalez')]\n",
    "print(list_of_tuple_to_string(x))"
   ]
  },
  {
   "cell_type": "code",
   "execution_count": null,
   "id": "f14bad2b-e50c-4430-bdbe-a1581aba2c25",
   "metadata": {},
   "outputs": [],
   "source": []
  }
 ],
 "metadata": {
  "kernelspec": {
   "display_name": "Python 3 (ipykernel)",
   "language": "python",
   "name": "python3"
  },
  "language_info": {
   "codemirror_mode": {
    "name": "ipython",
    "version": 3
   },
   "file_extension": ".py",
   "mimetype": "text/x-python",
   "name": "python",
   "nbconvert_exporter": "python",
   "pygments_lexer": "ipython3",
   "version": "3.11.3"
  }
 },
 "nbformat": 4,
 "nbformat_minor": 5
}
