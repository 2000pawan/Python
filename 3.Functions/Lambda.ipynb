{
 "cells": [
  {
   "cell_type": "code",
   "execution_count": 5,
   "id": "8c8b7a0d-fff3-4343-adb7-06ec796be27e",
   "metadata": {},
   "outputs": [
    {
     "name": "stdout",
     "output_type": "stream",
     "text": [
      "25\n",
      "48\n"
     ]
    }
   ],
   "source": [
    "r= lambda a:a+15\n",
    "print(r(10))\n",
    "r=lambda x,y:x*y\n",
    "print(r(12,4))"
   ]
  },
  {
   "cell_type": "code",
   "execution_count": 8,
   "id": "8ba4f18d-548b-4425-9b7b-c69046117fb4",
   "metadata": {
    "tags": []
   },
   "outputs": [
    {
     "name": "stdout",
     "output_type": "stream",
     "text": [
      "30\n",
      "45\n",
      "60\n",
      "75\n",
      "...........................................................................\n",
      "Double the number of 15 = 30\n",
      "Triple the number of 15 = 45\n",
      "Quadruple the number of 15 = 60\n",
      "Quintuple the number 15 = 75\n"
     ]
    }
   ],
   "source": [
    "r=lambda x,y:x*y\n",
    "print(r(15,2))\n",
    "print(r(15,3))\n",
    "print(r(15,4))\n",
    "print(r(15,5))\n",
    "##############################################################################\n",
    "print('...........................................................................')\n",
    "def func_compute(n):\n",
    "    return lambda x: x * n\n",
    "result = func_compute(2)\n",
    "print(\"Double the number of 15 =\", result(15))\n",
    "result = func_compute(3)\n",
    "print(\"Triple the number of 15 =\", result(15))\n",
    "result = func_compute(4)\n",
    "print(\"Quadruple the number of 15 =\", result(15))\n",
    "result = func_compute(5)\n",
    "print(\"Quintuple the number 15 =\", result(15))"
   ]
  },
  {
   "cell_type": "code",
   "execution_count": 12,
   "id": "d2ad32b9-8c35-4b3a-b198-3f88938fc8e4",
   "metadata": {
    "tags": []
   },
   "outputs": [
    {
     "name": "stdout",
     "output_type": "stream",
     "text": [
      "[('Social sciences', 82), ('English', 88), ('Science', 90), ('Maths', 97)]\n"
     ]
    }
   ],
   "source": [
    "x=[('English', 88), ('Science', 90), ('Maths', 97), ('Social sciences', 82)]\n",
    "x.sort(key=lambda x: x[1])\n",
    "print(x)"
   ]
  },
  {
   "cell_type": "code",
   "execution_count": 16,
   "id": "7d18cee9-6025-48de-b2dc-218755408489",
   "metadata": {
    "tags": []
   },
   "outputs": [
    {
     "name": "stdout",
     "output_type": "stream",
     "text": [
      "[{'make': 'Nokia', 'model': 216, 'color': 'Black'}, {'make': 'Samsung', 'model': 7, 'color': 'Blue'}, {'make': 'Mi Max', 'model': '2', 'color': 'Gold'}]\n"
     ]
    }
   ],
   "source": [
    "x=[{'make': 'Nokia', 'model': 216, 'color': 'Black'}, {'make': 'Mi Max', 'model': '2', 'color': 'Gold'}, {'make': 'Samsung', 'model': 7, 'color': 'Blue'}]\n",
    "r=sorted(x,key=lambda x: x['color'])\n",
    "print(r)"
   ]
  },
  {
   "cell_type": "code",
   "execution_count": 23,
   "id": "c510b993-5dff-46e7-bcdf-00a9fc947be7",
   "metadata": {
    "tags": []
   },
   "outputs": [
    {
     "name": "stdout",
     "output_type": "stream",
     "text": [
      "[1, 2, 3, 4, 5, 6, 7, 8, 9, 10]\n",
      "[2, 4, 6, 8, 10]\n",
      "[1, 3, 5, 7, 9]\n"
     ]
    }
   ],
   "source": [
    "x=[1, 2, 3, 4, 5, 6, 7, 8, 9, 10]\n",
    "y=list(filter(lambda x: x%2==0, x))\n",
    "z=list(filter(lambda x: x%2==1,x))\n",
    "print(x)\n",
    "print(y)\n",
    "print(z)"
   ]
  },
  {
   "cell_type": "code",
   "execution_count": 31,
   "id": "e65fe5b9-44e5-450e-ad17-9858c27ef0c1",
   "metadata": {
    "tags": []
   },
   "outputs": [
    {
     "name": "stdout",
     "output_type": "stream",
     "text": [
      "[1, 2, 3, 4, 5, 6, 7, 8, 9, 10]\n",
      "[1, 4, 9, 16, 25, 36, 49, 64, 81, 100]\n",
      "[1, 8, 27, 64, 125, 216, 343, 512, 729, 1000]\n"
     ]
    }
   ],
   "source": [
    "x=[1, 2, 3, 4, 5, 6, 7, 8, 9, 10]\n",
    "y=list(map(lambda x: x**2,x))\n",
    "z=list(map(lambda x: x**3,x))\n",
    "print(x)\n",
    "print(y)\n",
    "print(z)"
   ]
  },
  {
   "cell_type": "code",
   "execution_count": 32,
   "id": "334a3093-5454-4df9-a2a8-c7d82739c994",
   "metadata": {
    "tags": []
   },
   "outputs": [
    {
     "name": "stdout",
     "output_type": "stream",
     "text": [
      "True\n",
      "False\n"
     ]
    }
   ],
   "source": [
    "x=lambda x: True if x.startswith('P') else False\n",
    "print(x('Python'))\n",
    "print(x('python'))"
   ]
  },
  {
   "cell_type": "code",
   "execution_count": 42,
   "id": "c30e688c-5285-477e-844b-a49e390cd26a",
   "metadata": {
    "tags": []
   },
   "outputs": [
    {
     "name": "stdout",
     "output_type": "stream",
     "text": [
      "2023-12-12 17:40:16.050182\n",
      "2023\n",
      "12\n",
      "12\n",
      "17:40:16.050182\n"
     ]
    }
   ],
   "source": [
    "import datetime\n",
    "now=datetime.datetime.now()\n",
    "print(now)\n",
    "year=lambda x:x.year\n",
    "month=lambda x:x.month\n",
    "day=lambda x:x.day\n",
    "time=lambda x:x.time()\n",
    "print(year(now))\n",
    "print(month(now))\n",
    "print(day(now))\n",
    "print(time(now))"
   ]
  },
  {
   "cell_type": "code",
   "execution_count": 54,
   "id": "b76cc890-f7ae-4d41-88a4-5f01c4a54cc2",
   "metadata": {
    "tags": []
   },
   "outputs": [
    {
     "name": "stdout",
     "output_type": "stream",
     "text": [
      "True\n",
      "True\n",
      "True\n",
      "True\n",
      "................................................................\n",
      "False\n",
      "True\n",
      "................................................................\n",
      "True\n"
     ]
    }
   ],
   "source": [
    "x= lambda x: True if x.isdigit() else False\n",
    "print(x('22'))\n",
    "print(x('26587'))\n",
    "print(x('00'))\n",
    "print(x('001'))\n",
    "print('................................................................')\n",
    "p=lambda x: x.replace('.','',1).isdigit()\n",
    "print(p('A001'))\n",
    "print(p('4.2365'))\n",
    "print('................................................................')\n",
    "z=lambda r: p(r[1:]) if r[0] == '-' else p(r)\n",
    "print(z('-12547'))"
   ]
  },
  {
   "cell_type": "code",
   "execution_count": 57,
   "id": "19e585ae-c7ca-491f-9053-2df1ad5ca329",
   "metadata": {
    "tags": []
   },
   "outputs": [
    {
     "name": "stdout",
     "output_type": "stream",
     "text": [
      "Fibonacci series upto 2:\n",
      "[0, 1]\n",
      "Fibonacci series upto 5:\n",
      "[0, 1, 1, 2, 3]\n",
      "Fibonacci series upto 6:\n",
      "[0, 1, 1, 2, 3, 5]\n",
      "Fibonacci series upto 9:\n",
      "[0, 1, 1, 2, 3, 5, 8, 13, 21]\n"
     ]
    }
   ],
   "source": [
    "from functools import reduce\n",
    "fib_series=lambda n: reduce(lambda x, _: x + [x[-1]+x[-2]],range(n-2),[0,1])\n",
    "print(\"Fibonacci series upto 2:\")\n",
    "print(fib_series(2))\n",
    "print(\"Fibonacci series upto 5:\")\n",
    "print(fib_series(5))\n",
    "print(\"Fibonacci series upto 6:\")\n",
    "print(fib_series(6))\n",
    "print(\"Fibonacci series upto 9:\")\n",
    "print(fib_series(9))"
   ]
  },
  {
   "cell_type": "code",
   "execution_count": 23,
   "id": "752e1d69-3e81-4840-823b-9fee38c0f01a",
   "metadata": {
    "tags": []
   },
   "outputs": [
    {
     "name": "stdout",
     "output_type": "stream",
     "text": [
      "[1, 2, 8, 9]\n",
      "........................................................\n",
      "[1, 2, 8, 9]\n"
     ]
    }
   ],
   "source": [
    "x=[1, 2, 3, 5, 7, 8, 9, 10]\n",
    "y=[1, 2, 4, 8, 9]\n",
    "r=list(filter(lambda i:i in x,y))\n",
    "print(r)\n",
    "#############################################################\n",
    "print('........................................................')\n",
    "x=[1, 2, 3, 5, 7, 8, 9, 10]\n",
    "y=[1, 2, 4, 8, 9]\n",
    "def intersection(x,y):\n",
    "    return list(sorted(set(x) & set(y)))\n",
    "print(intersection(x,y))"
   ]
  },
  {
   "cell_type": "code",
   "execution_count": 31,
   "id": "188d6771-71d2-4e17-af15-1ef592b3dba3",
   "metadata": {
    "tags": []
   },
   "outputs": [
    {
     "name": "stdout",
     "output_type": "stream",
     "text": [
      "[2, 5, 7, 8, 9, -10, -3, -1]\n"
     ]
    }
   ],
   "source": [
    "x=[-1, 2, -3, 5, 7, 8, 9, -10]\n",
    "y=sorted(x,key=lambda i:0 if i==0 else -1/i)\n",
    "print(y)"
   ]
  },
  {
   "cell_type": "code",
   "execution_count": 50,
   "id": "b048f4a6-f658-451c-abc5-353051556ffe",
   "metadata": {
    "tags": []
   },
   "outputs": [
    {
     "name": "stdout",
     "output_type": "stream",
     "text": [
      "Number of even numbers in the above array: 3\n",
      "Number of odd numbers in the above array: 5\n"
     ]
    }
   ],
   "source": [
    "x=[1, 2, 3, 5, 7, 8, 9, 10]\n",
    "print('Number of even numbers in the above array:',len(list(filter(lambda i: i%2==0,x))))\n",
    "print('Number of odd numbers in the above array:',len(list(filter(lambda i: i%2!=0,x))))"
   ]
  },
  {
   "cell_type": "code",
   "execution_count": 59,
   "id": "ef756d4c-fe7f-4553-b666-bb2fbd18b4e3",
   "metadata": {
    "tags": []
   },
   "outputs": [
    {
     "name": "stdout",
     "output_type": "stream",
     "text": [
      "Monday\n",
      "Friday\n",
      "Sunday\n"
     ]
    }
   ],
   "source": [
    "x=['Monday','Tuesday','Wednesday','Thursday','Friday','Saturday','Sunday']\n",
    "r=(filter(lambda i: len(i)==6,x))\n",
    "for j in r:\n",
    "    print(j)"
   ]
  },
  {
   "cell_type": "code",
   "execution_count": 64,
   "id": "9f17832a-60c6-4f31-87ef-ba0514465e5a",
   "metadata": {
    "tags": []
   },
   "outputs": [
    {
     "name": "stdout",
     "output_type": "stream",
     "text": [
      "Result: after adding two list:\n",
      "[5, 7, 9]\n"
     ]
    }
   ],
   "source": [
    "x=[1, 2, 3]\n",
    "y=[4, 5, 6]\n",
    "z=list(map(lambda i,j : i+j,x,y))\n",
    "print('Result: after adding two list:\\n',z,sep='')"
   ]
  },
  {
   "cell_type": "code",
   "execution_count": 81,
   "id": "083cdd13-fa68-443d-8a64-e8a9b0fbfff4",
   "metadata": {
    "tags": []
   },
   "outputs": [
    {
     "name": "stdin",
     "output_type": "stream",
     "text": [
      "Input number of students: 5\n",
      "Name:  PAWAN YADAV\n",
      "Grade:  2\n",
      "Name:  PANKAJ YADAV\n",
      "Grade:  5\n",
      "Name:  AMIT\n",
      "Grade:  4\n",
      "Name:  ANIL\n",
      "Grade:  1\n",
      "Name:  RAVI\n",
      "Grade:  3\n"
     ]
    },
    {
     "name": "stdout",
     "output_type": "stream",
     "text": [
      "Names and Grades of all students:\n",
      "[['PAWAN YADAV', 2], ['PANKAJ YADAV', 5], ['AMIT', 4], ['ANIL', 1], ['RAVI', 3]]\n",
      "Second lowest grade: 2\n",
      "Names: PAWAN YADAV\n"
     ]
    }
   ],
   "source": [
    "x=int(input('Input number of students:'))\n",
    "p=[]\n",
    "for _ in range(x):\n",
    "    y=input('Name: ')\n",
    "    z=int(input('Grade: '))\n",
    "    p.append([y,z])\n",
    "q=sorted(p,key=lambda i: i[1])\n",
    "print('Names and Grades of all students:\\n',p,sep='')\n",
    "print('Second lowest grade:',q[1][1])\n",
    "print('Names:',q[1][0])"
   ]
  },
  {
   "cell_type": "code",
   "execution_count": 88,
   "id": "bd1318e2-e42f-47cf-9144-e6af9f7ebcbf",
   "metadata": {
    "tags": []
   },
   "outputs": [
    {
     "name": "stdout",
     "output_type": "stream",
     "text": [
      "[19, 65, 57, 39, 152, 639, 121, 44, 90, 190]\n",
      "Numbers of the above list divisible by nineteen or thirteen:\n",
      "[19, 65, 57, 39, 152, 190]\n"
     ]
    }
   ],
   "source": [
    "x=[19, 65, 57, 39, 152, 639, 121, 44, 90, 190]\n",
    "y=list(filter(lambda i: i%13==0 or i%19==0,x))\n",
    "print(x,'\\nNumbers of the above list divisible by nineteen or thirteen:\\n',y,sep='')"
   ]
  },
  {
   "cell_type": "code",
   "execution_count": 91,
   "id": "36102b6c-3f48-43c5-abbe-5b22b8233d7a",
   "metadata": {
    "tags": []
   },
   "outputs": [
    {
     "name": "stdout",
     "output_type": "stream",
     "text": [
      "List of palindromes:\n",
      "['php', 'aaa']\n"
     ]
    }
   ],
   "source": [
    "x=['php', 'w3r', 'Python', 'abcd', 'Java', 'aaa']\n",
    "y=list(filter(lambda i: (i== ''.join(reversed(i))),x))\n",
    "print('List of palindromes:\\n',y,sep='')"
   ]
  },
  {
   "cell_type": "code",
   "execution_count": 104,
   "id": "f3907e38-3186-44f8-879d-dff7fc8ff40a",
   "metadata": {
    "tags": []
   },
   "outputs": [
    {
     "name": "stdout",
     "output_type": "stream",
     "text": [
      "['bcda', 'abce', 'cbda', 'cbea', 'adcb']\n",
      "Anagrams of 'abcd' in the above string:\n",
      "['bcda', 'cbda', 'adcb']\n"
     ]
    }
   ],
   "source": [
    "from collections import Counter\n",
    "x=['bcda', 'abce', 'cbda', 'cbea', 'adcb']\n",
    "str='abcd'\n",
    "y=list(filter(lambda i: (Counter(str) == Counter(i)), x))\n",
    "print(x,\"\\nAnagrams of 'abcd' in the above string:\\n\",y,sep='')"
   ]
  },
  {
   "cell_type": "code",
   "execution_count": 117,
   "id": "f1f1e905-4440-4164-aca2-dc4470c0b5fe",
   "metadata": {
    "tags": []
   },
   "outputs": [
    {
     "name": "stdout",
     "output_type": "stream",
     "text": [
      "[5, 5, 20, 23, 56]\n",
      "Numbers in sorted form:\n",
      "20 23 56 "
     ]
    }
   ],
   "source": [
    "x='sdf 23 safs8 5 sdfsd8 sdfs 56 21sfs 20 5'\n",
    "y=[i for i in x.split(' ')]\n",
    "l=len(y)\n",
    "n=sorted([int(j) for j in y if j.isdigit()])\n",
    "print(n)\n",
    "print('Numbers in sorted form:')\n",
    "for q in (filter(lambda p: p>l,n)):\n",
    "    print(q,end=' ')"
   ]
  },
  {
   "cell_type": "code",
   "execution_count": 1,
   "id": "ca52d872-214d-4ddb-ae43-da94ee45402d",
   "metadata": {
    "tags": []
   },
   "outputs": [
    {
     "name": "stdin",
     "output_type": "stream",
     "text": [
      " 2\n"
     ]
    },
    {
     "name": "stdout",
     "output_type": "stream",
     "text": [
      "4 8 12 18 22\n"
     ]
    }
   ],
   "source": [
    "x=[2, 4, 6, 9, 11]\n",
    "z=int(input())\n",
    "y=list(map(lambda i: i*z,x))\n",
    "print(' '.join(map(str,y)))"
   ]
  },
  {
   "cell_type": "code",
   "execution_count": 12,
   "id": "61cd8308-a732-4486-be18-20687f64abfe",
   "metadata": {
    "tags": []
   },
   "outputs": [
    {
     "name": "stdout",
     "output_type": "stream",
     "text": [
      "['Dylan', 'Diana', 'Joanne'] = 16\n"
     ]
    }
   ],
   "source": [
    "x=['sally', 'Dylan', 'rebecca', 'Diana', 'Joanne', 'keith']\n",
    "y=list(filter(lambda i: i[0].isupper() and i[1:].islower(),x))\n",
    "print(y,'=',len(''.join(y)))"
   ]
  },
  {
   "cell_type": "code",
   "execution_count": 36,
   "id": "b27d5e50-ebfe-41eb-88bb-f16a300fca5e",
   "metadata": {
    "tags": []
   },
   "outputs": [
    {
     "name": "stdout",
     "output_type": "stream",
     "text": [
      "Original list: [2, 4, -6, -9, 11, -12, 14, -5, 17] \n",
      "Sum of the positive numbers: [2, 4, 11, 14, 17] = 48\n",
      "Sum of the negative numbers: [-6, -9, -12, -5] = -32\n"
     ]
    }
   ],
   "source": [
    "x=[2, 4, -6, -9, 11, -12, 14, -5, 17]\n",
    "y=list(filter(lambda i: i>0,x))\n",
    "z=list(filter(lambda i: i<0,x))\n",
    "print('Original list:',x,'\\nSum of the positive numbers:',y,'=',sum(y))\n",
    "print('Sum of the negative numbers:',z,'=',sum(z))"
   ]
  },
  {
   "cell_type": "code",
   "execution_count": 37,
   "id": "fc9a552a-6f5b-4f73-808e-ff52fddfbb22",
   "metadata": {
    "tags": []
   },
   "outputs": [
    {
     "name": "stdout",
     "output_type": "stream",
     "text": [
      "[1, 2, 3, 4, 5, 6, 7, 8, 9, 11, 12, 15, 22]\n"
     ]
    }
   ],
   "source": [
    "def divisible_by_digit(x,y):\n",
    "    return [i for i in range(x,y+1) if not any(map(lambda j: int(j)==0 or i%int(j)!=0,str(i)))]\n",
    "print(divisible_by_digit(1,22))"
   ]
  },
  {
   "cell_type": "code",
   "execution_count": 45,
   "id": "48bdffee-f732-4607-a00d-77624274bc16",
   "metadata": {
    "tags": []
   },
   "outputs": [
    {
     "name": "stdout",
     "output_type": "stream",
     "text": [
      "Original number: 12\n",
      "2\n",
      "Next bigger number: 21\n",
      "\n",
      "Original number: 10\n",
      "2\n",
      "Next bigger number: False\n",
      "\n",
      "Original number: 201\n",
      "3\n",
      "Next bigger number: 210\n",
      "\n",
      "Original number: 102\n",
      "3\n",
      "Next bigger number: 120\n",
      "\n",
      "Original number: 445\n",
      "3\n",
      "Next bigger number: 454\n"
     ]
    }
   ],
   "source": [
    "def rearrange_bigger(n):\n",
    "    n=list(str(n))\n",
    "    for i in range(len(n)-2,-1,-1):\n",
    "        if n[i]<n[i+1]:\n",
    "            z=n[i:]\n",
    "            y=min(filter(lambda x:x>z[0],z))\n",
    "            z.remove(y)\n",
    "            z.sort()\n",
    "            n[i:]=[y]+z\n",
    "            return int(''.join(n))\n",
    "    return False\n",
    "n = 12\n",
    "print(\"Original number:\", n)\n",
    "print(\"Next bigger number:\", rearrange_bigger(n))\n",
    "\n",
    "n = 10\n",
    "print(\"\\nOriginal number:\", n)\n",
    "print(\"Next bigger number:\", rearrange_bigger(n))\n",
    "\n",
    "n = 201\n",
    "print(\"\\nOriginal number:\", n)\n",
    "print(\"Next bigger number:\", rearrange_bigger(n))\n",
    "\n",
    "n = 102\n",
    "print(\"\\nOriginal number:\", n)\n",
    "print(\"Next bigger number:\", rearrange_bigger(n))\n",
    "\n",
    "n = 445\n",
    "print(\"\\nOriginal number:\", n)\n",
    "print(\"Next bigger number:\", rearrange_bigger(n)) "
   ]
  },
  {
   "cell_type": "code",
   "execution_count": 59,
   "id": "46744076-0925-4538-aa67-5b8047ca83dd",
   "metadata": {
    "tags": []
   },
   "outputs": [
    {
     "name": "stdout",
     "output_type": "stream",
     "text": [
      "List with maximum length of lists:\n",
      "(3, [13, 15, 17])\n",
      "List with minimum length of lists:\n",
      "(1, [0])\n"
     ]
    }
   ],
   "source": [
    "x=[[0], [1, 3], [5, 7], [9, 11], [13, 15, 17]]\n",
    "y=max(list(filter(lambda i: (i),x)))\n",
    "z=min(list(filter(lambda i: (i),x)))\n",
    "print('List with maximum length of lists:\\n',(len(y),y),sep='')\n",
    "print('List with minimum length of lists:\\n',(len(z),z),sep='')"
   ]
  },
  {
   "cell_type": "code",
   "execution_count": null,
   "id": "bb33029a-33a8-4d4f-b645-be0a3db9a151",
   "metadata": {},
   "outputs": [],
   "source": []
  }
 ],
 "metadata": {
  "kernelspec": {
   "display_name": "Python 3 (ipykernel)",
   "language": "python",
   "name": "python3"
  },
  "language_info": {
   "codemirror_mode": {
    "name": "ipython",
    "version": 3
   },
   "file_extension": ".py",
   "mimetype": "text/x-python",
   "name": "python",
   "nbconvert_exporter": "python",
   "pygments_lexer": "ipython3",
   "version": "3.11.3"
  }
 },
 "nbformat": 4,
 "nbformat_minor": 5
}
