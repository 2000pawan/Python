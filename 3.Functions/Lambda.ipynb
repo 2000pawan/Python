{
 "cells": [
  {
   "cell_type": "code",
   "execution_count": 5,
   "id": "8c8b7a0d-fff3-4343-adb7-06ec796be27e",
   "metadata": {},
   "outputs": [
    {
     "name": "stdout",
     "output_type": "stream",
     "text": [
      "25\n",
      "48\n"
     ]
    }
   ],
   "source": [
    "r= lambda a:a+15\n",
    "print(r(10))\n",
    "r=lambda x,y:x*y\n",
    "print(r(12,4))"
   ]
  },
  {
   "cell_type": "code",
   "execution_count": 8,
   "id": "8ba4f18d-548b-4425-9b7b-c69046117fb4",
   "metadata": {
    "tags": []
   },
   "outputs": [
    {
     "name": "stdout",
     "output_type": "stream",
     "text": [
      "30\n",
      "45\n",
      "60\n",
      "75\n",
      "...........................................................................\n",
      "Double the number of 15 = 30\n",
      "Triple the number of 15 = 45\n",
      "Quadruple the number of 15 = 60\n",
      "Quintuple the number 15 = 75\n"
     ]
    }
   ],
   "source": [
    "r=lambda x,y:x*y\n",
    "print(r(15,2))\n",
    "print(r(15,3))\n",
    "print(r(15,4))\n",
    "print(r(15,5))\n",
    "##############################################################################\n",
    "print('...........................................................................')\n",
    "def func_compute(n):\n",
    "    return lambda x: x * n\n",
    "result = func_compute(2)\n",
    "print(\"Double the number of 15 =\", result(15))\n",
    "result = func_compute(3)\n",
    "print(\"Triple the number of 15 =\", result(15))\n",
    "result = func_compute(4)\n",
    "print(\"Quadruple the number of 15 =\", result(15))\n",
    "result = func_compute(5)\n",
    "print(\"Quintuple the number 15 =\", result(15))"
   ]
  },
  {
   "cell_type": "code",
   "execution_count": 12,
   "id": "d2ad32b9-8c35-4b3a-b198-3f88938fc8e4",
   "metadata": {
    "tags": []
   },
   "outputs": [
    {
     "name": "stdout",
     "output_type": "stream",
     "text": [
      "[('Social sciences', 82), ('English', 88), ('Science', 90), ('Maths', 97)]\n"
     ]
    }
   ],
   "source": [
    "x=[('English', 88), ('Science', 90), ('Maths', 97), ('Social sciences', 82)]\n",
    "x.sort(key=lambda x: x[1])\n",
    "print(x)"
   ]
  },
  {
   "cell_type": "code",
   "execution_count": 16,
   "id": "7d18cee9-6025-48de-b2dc-218755408489",
   "metadata": {
    "tags": []
   },
   "outputs": [
    {
     "name": "stdout",
     "output_type": "stream",
     "text": [
      "[{'make': 'Nokia', 'model': 216, 'color': 'Black'}, {'make': 'Samsung', 'model': 7, 'color': 'Blue'}, {'make': 'Mi Max', 'model': '2', 'color': 'Gold'}]\n"
     ]
    }
   ],
   "source": [
    "x=[{'make': 'Nokia', 'model': 216, 'color': 'Black'}, {'make': 'Mi Max', 'model': '2', 'color': 'Gold'}, {'make': 'Samsung', 'model': 7, 'color': 'Blue'}]\n",
    "r=sorted(x,key=lambda x: x['color'])\n",
    "print(r)"
   ]
  },
  {
   "cell_type": "code",
   "execution_count": 23,
   "id": "c510b993-5dff-46e7-bcdf-00a9fc947be7",
   "metadata": {
    "tags": []
   },
   "outputs": [
    {
     "name": "stdout",
     "output_type": "stream",
     "text": [
      "[1, 2, 3, 4, 5, 6, 7, 8, 9, 10]\n",
      "[2, 4, 6, 8, 10]\n",
      "[1, 3, 5, 7, 9]\n"
     ]
    }
   ],
   "source": [
    "x=[1, 2, 3, 4, 5, 6, 7, 8, 9, 10]\n",
    "y=list(filter(lambda x: x%2==0, x))\n",
    "z=list(filter(lambda x: x%2==1,x))\n",
    "print(x)\n",
    "print(y)\n",
    "print(z)"
   ]
  },
  {
   "cell_type": "code",
   "execution_count": 31,
   "id": "e65fe5b9-44e5-450e-ad17-9858c27ef0c1",
   "metadata": {
    "tags": []
   },
   "outputs": [
    {
     "name": "stdout",
     "output_type": "stream",
     "text": [
      "[1, 2, 3, 4, 5, 6, 7, 8, 9, 10]\n",
      "[1, 4, 9, 16, 25, 36, 49, 64, 81, 100]\n",
      "[1, 8, 27, 64, 125, 216, 343, 512, 729, 1000]\n"
     ]
    }
   ],
   "source": [
    "x=[1, 2, 3, 4, 5, 6, 7, 8, 9, 10]\n",
    "y=list(map(lambda x: x**2,x))\n",
    "z=list(map(lambda x: x**3,x))\n",
    "print(x)\n",
    "print(y)\n",
    "print(z)"
   ]
  },
  {
   "cell_type": "code",
   "execution_count": 32,
   "id": "334a3093-5454-4df9-a2a8-c7d82739c994",
   "metadata": {
    "tags": []
   },
   "outputs": [
    {
     "name": "stdout",
     "output_type": "stream",
     "text": [
      "True\n",
      "False\n"
     ]
    }
   ],
   "source": [
    "x=lambda x: True if x.startswith('P') else False\n",
    "print(x('Python'))\n",
    "print(x('python'))"
   ]
  },
  {
   "cell_type": "code",
   "execution_count": 42,
   "id": "c30e688c-5285-477e-844b-a49e390cd26a",
   "metadata": {
    "tags": []
   },
   "outputs": [
    {
     "name": "stdout",
     "output_type": "stream",
     "text": [
      "2023-12-12 17:40:16.050182\n",
      "2023\n",
      "12\n",
      "12\n",
      "17:40:16.050182\n"
     ]
    }
   ],
   "source": [
    "import datetime\n",
    "now=datetime.datetime.now()\n",
    "print(now)\n",
    "year=lambda x:x.year\n",
    "month=lambda x:x.month\n",
    "day=lambda x:x.day\n",
    "time=lambda x:x.time()\n",
    "print(year(now))\n",
    "print(month(now))\n",
    "print(day(now))\n",
    "print(time(now))"
   ]
  },
  {
   "cell_type": "code",
   "execution_count": 54,
   "id": "b76cc890-f7ae-4d41-88a4-5f01c4a54cc2",
   "metadata": {
    "tags": []
   },
   "outputs": [
    {
     "name": "stdout",
     "output_type": "stream",
     "text": [
      "True\n",
      "True\n",
      "True\n",
      "True\n",
      "................................................................\n",
      "False\n",
      "True\n",
      "................................................................\n",
      "True\n"
     ]
    }
   ],
   "source": [
    "x= lambda x: True if x.isdigit() else False\n",
    "print(x('22'))\n",
    "print(x('26587'))\n",
    "print(x('00'))\n",
    "print(x('001'))\n",
    "print('................................................................')\n",
    "p=lambda x: x.replace('.','',1).isdigit()\n",
    "print(p('A001'))\n",
    "print(p('4.2365'))\n",
    "print('................................................................')\n",
    "z=lambda r: p(r[1:]) if r[0] == '-' else p(r)\n",
    "print(z('-12547'))"
   ]
  },
  {
   "cell_type": "code",
   "execution_count": 57,
   "id": "19e585ae-c7ca-491f-9053-2df1ad5ca329",
   "metadata": {
    "tags": []
   },
   "outputs": [
    {
     "name": "stdout",
     "output_type": "stream",
     "text": [
      "Fibonacci series upto 2:\n",
      "[0, 1]\n",
      "Fibonacci series upto 5:\n",
      "[0, 1, 1, 2, 3]\n",
      "Fibonacci series upto 6:\n",
      "[0, 1, 1, 2, 3, 5]\n",
      "Fibonacci series upto 9:\n",
      "[0, 1, 1, 2, 3, 5, 8, 13, 21]\n"
     ]
    }
   ],
   "source": [
    "from functools import reduce\n",
    "fib_series=lambda n: reduce(lambda x, _: x + [x[-1]+x[-2]],range(n-2),[0,1])\n",
    "print(\"Fibonacci series upto 2:\")\n",
    "print(fib_series(2))\n",
    "print(\"Fibonacci series upto 5:\")\n",
    "print(fib_series(5))\n",
    "print(\"Fibonacci series upto 6:\")\n",
    "print(fib_series(6))\n",
    "print(\"Fibonacci series upto 9:\")\n",
    "print(fib_series(9))"
   ]
  },
  {
   "cell_type": "code",
   "execution_count": null,
   "id": "383e4a14-1ef8-4267-a917-a4845cd9918f",
   "metadata": {},
   "outputs": [],
   "source": []
  }
 ],
 "metadata": {
  "kernelspec": {
   "display_name": "Python 3 (ipykernel)",
   "language": "python",
   "name": "python3"
  },
  "language_info": {
   "codemirror_mode": {
    "name": "ipython",
    "version": 3
   },
   "file_extension": ".py",
   "mimetype": "text/x-python",
   "name": "python",
   "nbconvert_exporter": "python",
   "pygments_lexer": "ipython3",
   "version": "3.11.3"
  }
 },
 "nbformat": 4,
 "nbformat_minor": 5
}
