{
 "cells": [
  {
   "cell_type": "code",
   "execution_count": 146,
   "id": "8c8b7a0d-fff3-4343-adb7-06ec796be27e",
   "metadata": {},
   "outputs": [
    {
     "name": "stdout",
     "output_type": "stream",
     "text": [
      "25\n",
      "48\n"
     ]
    }
   ],
   "source": [
    "r= lambda a:a+15\n",
    "print(r(10))\n",
    "r=lambda x,y:x*y\n",
    "print(r(12,4))"
   ]
  },
  {
   "cell_type": "code",
   "execution_count": 147,
   "id": "8ba4f18d-548b-4425-9b7b-c69046117fb4",
   "metadata": {
    "tags": []
   },
   "outputs": [
    {
     "name": "stdout",
     "output_type": "stream",
     "text": [
      "30\n",
      "45\n",
      "60\n",
      "75\n",
      "...........................................................................\n",
      "Double the number of 15 = 30\n",
      "Triple the number of 15 = 45\n",
      "Quadruple the number of 15 = 60\n",
      "Quintuple the number 15 = 75\n"
     ]
    }
   ],
   "source": [
    "r=lambda x,y:x*y\n",
    "print(r(15,2))\n",
    "print(r(15,3))\n",
    "print(r(15,4))\n",
    "print(r(15,5))\n",
    "##############################################################################\n",
    "print('...........................................................................')\n",
    "def func_compute(n):\n",
    "    return lambda x: x * n\n",
    "result = func_compute(2)\n",
    "print(\"Double the number of 15 =\", result(15))\n",
    "result = func_compute(3)\n",
    "print(\"Triple the number of 15 =\", result(15))\n",
    "result = func_compute(4)\n",
    "print(\"Quadruple the number of 15 =\", result(15))\n",
    "result = func_compute(5)\n",
    "print(\"Quintuple the number 15 =\", result(15))"
   ]
  },
  {
   "cell_type": "code",
   "execution_count": 12,
   "id": "d2ad32b9-8c35-4b3a-b198-3f88938fc8e4",
   "metadata": {
    "tags": []
   },
   "outputs": [
    {
     "name": "stdout",
     "output_type": "stream",
     "text": [
      "[('Social sciences', 82), ('English', 88), ('Science', 90), ('Maths', 97)]\n"
     ]
    }
   ],
   "source": [
    "x=[('English', 88), ('Science', 90), ('Maths', 97), ('Social sciences', 82)]\n",
    "x.sort(key=lambda x: x[1])\n",
    "print(x)"
   ]
  },
  {
   "cell_type": "code",
   "execution_count": 16,
   "id": "7d18cee9-6025-48de-b2dc-218755408489",
   "metadata": {
    "tags": []
   },
   "outputs": [
    {
     "name": "stdout",
     "output_type": "stream",
     "text": [
      "[{'make': 'Nokia', 'model': 216, 'color': 'Black'}, {'make': 'Samsung', 'model': 7, 'color': 'Blue'}, {'make': 'Mi Max', 'model': '2', 'color': 'Gold'}]\n"
     ]
    }
   ],
   "source": [
    "x=[{'make': 'Nokia', 'model': 216, 'color': 'Black'}, {'make': 'Mi Max', 'model': '2', 'color': 'Gold'}, {'make': 'Samsung', 'model': 7, 'color': 'Blue'}]\n",
    "r=sorted(x,key=lambda x: x['color'])\n",
    "print(r)"
   ]
  },
  {
   "cell_type": "code",
   "execution_count": 23,
   "id": "c510b993-5dff-46e7-bcdf-00a9fc947be7",
   "metadata": {
    "tags": []
   },
   "outputs": [
    {
     "name": "stdout",
     "output_type": "stream",
     "text": [
      "[1, 2, 3, 4, 5, 6, 7, 8, 9, 10]\n",
      "[2, 4, 6, 8, 10]\n",
      "[1, 3, 5, 7, 9]\n"
     ]
    }
   ],
   "source": [
    "x=[1, 2, 3, 4, 5, 6, 7, 8, 9, 10]\n",
    "y=list(filter(lambda x: x%2==0, x))\n",
    "z=list(filter(lambda x: x%2==1,x))\n",
    "print(x)\n",
    "print(y)\n",
    "print(z)"
   ]
  },
  {
   "cell_type": "code",
   "execution_count": 31,
   "id": "e65fe5b9-44e5-450e-ad17-9858c27ef0c1",
   "metadata": {
    "tags": []
   },
   "outputs": [
    {
     "name": "stdout",
     "output_type": "stream",
     "text": [
      "[1, 2, 3, 4, 5, 6, 7, 8, 9, 10]\n",
      "[1, 4, 9, 16, 25, 36, 49, 64, 81, 100]\n",
      "[1, 8, 27, 64, 125, 216, 343, 512, 729, 1000]\n"
     ]
    }
   ],
   "source": [
    "x=[1, 2, 3, 4, 5, 6, 7, 8, 9, 10]\n",
    "y=list(map(lambda x: x**2,x))\n",
    "z=list(map(lambda x: x**3,x))\n",
    "print(x)\n",
    "print(y)\n",
    "print(z)"
   ]
  },
  {
   "cell_type": "code",
   "execution_count": 32,
   "id": "334a3093-5454-4df9-a2a8-c7d82739c994",
   "metadata": {
    "tags": []
   },
   "outputs": [
    {
     "name": "stdout",
     "output_type": "stream",
     "text": [
      "True\n",
      "False\n"
     ]
    }
   ],
   "source": [
    "x=lambda x: True if x.startswith('P') else False\n",
    "print(x('Python'))\n",
    "print(x('python'))"
   ]
  },
  {
   "cell_type": "code",
   "execution_count": 42,
   "id": "c30e688c-5285-477e-844b-a49e390cd26a",
   "metadata": {
    "tags": []
   },
   "outputs": [
    {
     "name": "stdout",
     "output_type": "stream",
     "text": [
      "2023-12-12 17:40:16.050182\n",
      "2023\n",
      "12\n",
      "12\n",
      "17:40:16.050182\n"
     ]
    }
   ],
   "source": [
    "import datetime\n",
    "now=datetime.datetime.now()\n",
    "print(now)\n",
    "year=lambda x:x.year\n",
    "month=lambda x:x.month\n",
    "day=lambda x:x.day\n",
    "time=lambda x:x.time()\n",
    "print(year(now))\n",
    "print(month(now))\n",
    "print(day(now))\n",
    "print(time(now))"
   ]
  },
  {
   "cell_type": "code",
   "execution_count": 54,
   "id": "b76cc890-f7ae-4d41-88a4-5f01c4a54cc2",
   "metadata": {
    "tags": []
   },
   "outputs": [
    {
     "name": "stdout",
     "output_type": "stream",
     "text": [
      "True\n",
      "True\n",
      "True\n",
      "True\n",
      "................................................................\n",
      "False\n",
      "True\n",
      "................................................................\n",
      "True\n"
     ]
    }
   ],
   "source": [
    "x= lambda x: True if x.isdigit() else False\n",
    "print(x('22'))\n",
    "print(x('26587'))\n",
    "print(x('00'))\n",
    "print(x('001'))\n",
    "print('................................................................')\n",
    "p=lambda x: x.replace('.','',1).isdigit()\n",
    "print(p('A001'))\n",
    "print(p('4.2365'))\n",
    "print('................................................................')\n",
    "z=lambda r: p(r[1:]) if r[0] == '-' else p(r)\n",
    "print(z('-12547'))"
   ]
  },
  {
   "cell_type": "code",
   "execution_count": 57,
   "id": "19e585ae-c7ca-491f-9053-2df1ad5ca329",
   "metadata": {
    "tags": []
   },
   "outputs": [
    {
     "name": "stdout",
     "output_type": "stream",
     "text": [
      "Fibonacci series upto 2:\n",
      "[0, 1]\n",
      "Fibonacci series upto 5:\n",
      "[0, 1, 1, 2, 3]\n",
      "Fibonacci series upto 6:\n",
      "[0, 1, 1, 2, 3, 5]\n",
      "Fibonacci series upto 9:\n",
      "[0, 1, 1, 2, 3, 5, 8, 13, 21]\n"
     ]
    }
   ],
   "source": [
    "from functools import reduce\n",
    "fib_series=lambda n: reduce(lambda x, _: x + [x[-1]+x[-2]],range(n-2),[0,1])\n",
    "print(\"Fibonacci series upto 2:\")\n",
    "print(fib_series(2))\n",
    "print(\"Fibonacci series upto 5:\")\n",
    "print(fib_series(5))\n",
    "print(\"Fibonacci series upto 6:\")\n",
    "print(fib_series(6))\n",
    "print(\"Fibonacci series upto 9:\")\n",
    "print(fib_series(9))"
   ]
  },
  {
   "cell_type": "code",
   "execution_count": 23,
   "id": "752e1d69-3e81-4840-823b-9fee38c0f01a",
   "metadata": {
    "tags": []
   },
   "outputs": [
    {
     "name": "stdout",
     "output_type": "stream",
     "text": [
      "[1, 2, 8, 9]\n",
      "........................................................\n",
      "[1, 2, 8, 9]\n"
     ]
    }
   ],
   "source": [
    "x=[1, 2, 3, 5, 7, 8, 9, 10]\n",
    "y=[1, 2, 4, 8, 9]\n",
    "r=list(filter(lambda i:i in x,y))\n",
    "print(r)\n",
    "#############################################################\n",
    "print('........................................................')\n",
    "x=[1, 2, 3, 5, 7, 8, 9, 10]\n",
    "y=[1, 2, 4, 8, 9]\n",
    "def intersection(x,y):\n",
    "    return list(sorted(set(x) & set(y)))\n",
    "print(intersection(x,y))"
   ]
  },
  {
   "cell_type": "code",
   "execution_count": 31,
   "id": "188d6771-71d2-4e17-af15-1ef592b3dba3",
   "metadata": {
    "tags": []
   },
   "outputs": [
    {
     "name": "stdout",
     "output_type": "stream",
     "text": [
      "[2, 5, 7, 8, 9, -10, -3, -1]\n"
     ]
    }
   ],
   "source": [
    "x=[-1, 2, -3, 5, 7, 8, 9, -10]\n",
    "y=sorted(x,key=lambda i:0 if i==0 else -1/i)\n",
    "print(y)"
   ]
  },
  {
   "cell_type": "code",
   "execution_count": 50,
   "id": "b048f4a6-f658-451c-abc5-353051556ffe",
   "metadata": {
    "tags": []
   },
   "outputs": [
    {
     "name": "stdout",
     "output_type": "stream",
     "text": [
      "Number of even numbers in the above array: 3\n",
      "Number of odd numbers in the above array: 5\n"
     ]
    }
   ],
   "source": [
    "x=[1, 2, 3, 5, 7, 8, 9, 10]\n",
    "print('Number of even numbers in the above array:',len(list(filter(lambda i: i%2==0,x))))\n",
    "print('Number of odd numbers in the above array:',len(list(filter(lambda i: i%2!=0,x))))"
   ]
  },
  {
   "cell_type": "code",
   "execution_count": 59,
   "id": "ef756d4c-fe7f-4553-b666-bb2fbd18b4e3",
   "metadata": {
    "tags": []
   },
   "outputs": [
    {
     "name": "stdout",
     "output_type": "stream",
     "text": [
      "Monday\n",
      "Friday\n",
      "Sunday\n"
     ]
    }
   ],
   "source": [
    "x=['Monday','Tuesday','Wednesday','Thursday','Friday','Saturday','Sunday']\n",
    "r=(filter(lambda i: len(i)==6,x))\n",
    "for j in r:\n",
    "    print(j)"
   ]
  },
  {
   "cell_type": "code",
   "execution_count": 64,
   "id": "9f17832a-60c6-4f31-87ef-ba0514465e5a",
   "metadata": {
    "tags": []
   },
   "outputs": [
    {
     "name": "stdout",
     "output_type": "stream",
     "text": [
      "Result: after adding two list:\n",
      "[5, 7, 9]\n"
     ]
    }
   ],
   "source": [
    "x=[1, 2, 3]\n",
    "y=[4, 5, 6]\n",
    "z=list(map(lambda i,j : i+j,x,y))\n",
    "print('Result: after adding two list:\\n',z,sep='')"
   ]
  },
  {
   "cell_type": "code",
   "execution_count": 81,
   "id": "083cdd13-fa68-443d-8a64-e8a9b0fbfff4",
   "metadata": {
    "tags": []
   },
   "outputs": [
    {
     "name": "stdin",
     "output_type": "stream",
     "text": [
      "Input number of students: 5\n",
      "Name:  PAWAN YADAV\n",
      "Grade:  2\n",
      "Name:  PANKAJ YADAV\n",
      "Grade:  5\n",
      "Name:  AMIT\n",
      "Grade:  4\n",
      "Name:  ANIL\n",
      "Grade:  1\n",
      "Name:  RAVI\n",
      "Grade:  3\n"
     ]
    },
    {
     "name": "stdout",
     "output_type": "stream",
     "text": [
      "Names and Grades of all students:\n",
      "[['PAWAN YADAV', 2], ['PANKAJ YADAV', 5], ['AMIT', 4], ['ANIL', 1], ['RAVI', 3]]\n",
      "Second lowest grade: 2\n",
      "Names: PAWAN YADAV\n"
     ]
    }
   ],
   "source": [
    "x=int(input('Input number of students:'))\n",
    "p=[]\n",
    "for _ in range(x):\n",
    "    y=input('Name: ')\n",
    "    z=int(input('Grade: '))\n",
    "    p.append([y,z])\n",
    "q=sorted(p,key=lambda i: i[1])\n",
    "print('Names and Grades of all students:\\n',p,sep='')\n",
    "print('Second lowest grade:',q[1][1])\n",
    "print('Names:',q[1][0])"
   ]
  },
  {
   "cell_type": "code",
   "execution_count": 88,
   "id": "bd1318e2-e42f-47cf-9144-e6af9f7ebcbf",
   "metadata": {
    "tags": []
   },
   "outputs": [
    {
     "name": "stdout",
     "output_type": "stream",
     "text": [
      "[19, 65, 57, 39, 152, 639, 121, 44, 90, 190]\n",
      "Numbers of the above list divisible by nineteen or thirteen:\n",
      "[19, 65, 57, 39, 152, 190]\n"
     ]
    }
   ],
   "source": [
    "x=[19, 65, 57, 39, 152, 639, 121, 44, 90, 190]\n",
    "y=list(filter(lambda i: i%13==0 or i%19==0,x))\n",
    "print(x,'\\nNumbers of the above list divisible by nineteen or thirteen:\\n',y,sep='')"
   ]
  },
  {
   "cell_type": "code",
   "execution_count": 91,
   "id": "36102b6c-3f48-43c5-abbe-5b22b8233d7a",
   "metadata": {
    "tags": []
   },
   "outputs": [
    {
     "name": "stdout",
     "output_type": "stream",
     "text": [
      "List of palindromes:\n",
      "['php', 'aaa']\n"
     ]
    }
   ],
   "source": [
    "x=['php', 'w3r', 'Python', 'abcd', 'Java', 'aaa']\n",
    "y=list(filter(lambda i: (i== ''.join(reversed(i))),x))\n",
    "print('List of palindromes:\\n',y,sep='')"
   ]
  },
  {
   "cell_type": "code",
   "execution_count": 104,
   "id": "f3907e38-3186-44f8-879d-dff7fc8ff40a",
   "metadata": {
    "tags": []
   },
   "outputs": [
    {
     "name": "stdout",
     "output_type": "stream",
     "text": [
      "['bcda', 'abce', 'cbda', 'cbea', 'adcb']\n",
      "Anagrams of 'abcd' in the above string:\n",
      "['bcda', 'cbda', 'adcb']\n"
     ]
    }
   ],
   "source": [
    "from collections import Counter\n",
    "x=['bcda', 'abce', 'cbda', 'cbea', 'adcb']\n",
    "str='abcd'\n",
    "y=list(filter(lambda i: (Counter(str) == Counter(i)), x))\n",
    "print(x,\"\\nAnagrams of 'abcd' in the above string:\\n\",y,sep='')"
   ]
  },
  {
   "cell_type": "code",
   "execution_count": 117,
   "id": "f1f1e905-4440-4164-aca2-dc4470c0b5fe",
   "metadata": {
    "tags": []
   },
   "outputs": [
    {
     "name": "stdout",
     "output_type": "stream",
     "text": [
      "[5, 5, 20, 23, 56]\n",
      "Numbers in sorted form:\n",
      "20 23 56 "
     ]
    }
   ],
   "source": [
    "x='sdf 23 safs8 5 sdfsd8 sdfs 56 21sfs 20 5'\n",
    "y=[i for i in x.split(' ')]\n",
    "l=len(y)\n",
    "n=sorted([int(j) for j in y if j.isdigit()])\n",
    "print(n)\n",
    "print('Numbers in sorted form:')\n",
    "for q in (filter(lambda p: p>l,n)):\n",
    "    print(q,end=' ')"
   ]
  },
  {
   "cell_type": "code",
   "execution_count": 1,
   "id": "ca52d872-214d-4ddb-ae43-da94ee45402d",
   "metadata": {
    "tags": []
   },
   "outputs": [
    {
     "name": "stdin",
     "output_type": "stream",
     "text": [
      " 2\n"
     ]
    },
    {
     "name": "stdout",
     "output_type": "stream",
     "text": [
      "4 8 12 18 22\n"
     ]
    }
   ],
   "source": [
    "x=[2, 4, 6, 9, 11]\n",
    "z=int(input())\n",
    "y=list(map(lambda i: i*z,x))\n",
    "print(' '.join(map(str,y)))"
   ]
  },
  {
   "cell_type": "code",
   "execution_count": 12,
   "id": "61cd8308-a732-4486-be18-20687f64abfe",
   "metadata": {
    "tags": []
   },
   "outputs": [
    {
     "name": "stdout",
     "output_type": "stream",
     "text": [
      "['Dylan', 'Diana', 'Joanne'] = 16\n"
     ]
    }
   ],
   "source": [
    "x=['sally', 'Dylan', 'rebecca', 'Diana', 'Joanne', 'keith']\n",
    "y=list(filter(lambda i: i[0].isupper() and i[1:].islower(),x))\n",
    "print(y,'=',len(''.join(y)))"
   ]
  },
  {
   "cell_type": "code",
   "execution_count": 36,
   "id": "b27d5e50-ebfe-41eb-88bb-f16a300fca5e",
   "metadata": {
    "tags": []
   },
   "outputs": [
    {
     "name": "stdout",
     "output_type": "stream",
     "text": [
      "Original list: [2, 4, -6, -9, 11, -12, 14, -5, 17] \n",
      "Sum of the positive numbers: [2, 4, 11, 14, 17] = 48\n",
      "Sum of the negative numbers: [-6, -9, -12, -5] = -32\n"
     ]
    }
   ],
   "source": [
    "x=[2, 4, -6, -9, 11, -12, 14, -5, 17]\n",
    "y=list(filter(lambda i: i>0,x))\n",
    "z=list(filter(lambda i: i<0,x))\n",
    "print('Original list:',x,'\\nSum of the positive numbers:',y,'=',sum(y))\n",
    "print('Sum of the negative numbers:',z,'=',sum(z))"
   ]
  },
  {
   "cell_type": "code",
   "execution_count": 37,
   "id": "fc9a552a-6f5b-4f73-808e-ff52fddfbb22",
   "metadata": {
    "tags": []
   },
   "outputs": [
    {
     "name": "stdout",
     "output_type": "stream",
     "text": [
      "[1, 2, 3, 4, 5, 6, 7, 8, 9, 11, 12, 15, 22]\n"
     ]
    }
   ],
   "source": [
    "def divisible_by_digit(x,y):\n",
    "    return [i for i in range(x,y+1) if not any(map(lambda j: int(j)==0 or i%int(j)!=0,str(i)))]\n",
    "print(divisible_by_digit(1,22))"
   ]
  },
  {
   "cell_type": "code",
   "execution_count": 45,
   "id": "48bdffee-f732-4607-a00d-77624274bc16",
   "metadata": {
    "tags": []
   },
   "outputs": [
    {
     "name": "stdout",
     "output_type": "stream",
     "text": [
      "Original number: 12\n",
      "2\n",
      "Next bigger number: 21\n",
      "\n",
      "Original number: 10\n",
      "2\n",
      "Next bigger number: False\n",
      "\n",
      "Original number: 201\n",
      "3\n",
      "Next bigger number: 210\n",
      "\n",
      "Original number: 102\n",
      "3\n",
      "Next bigger number: 120\n",
      "\n",
      "Original number: 445\n",
      "3\n",
      "Next bigger number: 454\n"
     ]
    }
   ],
   "source": [
    "def rearrange_bigger(n):\n",
    "    n=list(str(n))\n",
    "    for i in range(len(n)-2,-1,-1):\n",
    "        if n[i]<n[i+1]:\n",
    "            z=n[i:]\n",
    "            y=min(filter(lambda x:x>z[0],z))\n",
    "            z.remove(y)\n",
    "            z.sort()\n",
    "            n[i:]=[y]+z\n",
    "            return int(''.join(n))\n",
    "    return False\n",
    "n = 12\n",
    "print(\"Original number:\", n)\n",
    "print(\"Next bigger number:\", rearrange_bigger(n))\n",
    "\n",
    "n = 10\n",
    "print(\"\\nOriginal number:\", n)\n",
    "print(\"Next bigger number:\", rearrange_bigger(n))\n",
    "\n",
    "n = 201\n",
    "print(\"\\nOriginal number:\", n)\n",
    "print(\"Next bigger number:\", rearrange_bigger(n))\n",
    "\n",
    "n = 102\n",
    "print(\"\\nOriginal number:\", n)\n",
    "print(\"Next bigger number:\", rearrange_bigger(n))\n",
    "\n",
    "n = 445\n",
    "print(\"\\nOriginal number:\", n)\n",
    "print(\"Next bigger number:\", rearrange_bigger(n)) "
   ]
  },
  {
   "cell_type": "code",
   "execution_count": 59,
   "id": "46744076-0925-4538-aa67-5b8047ca83dd",
   "metadata": {
    "tags": []
   },
   "outputs": [
    {
     "name": "stdout",
     "output_type": "stream",
     "text": [
      "List with maximum length of lists:\n",
      "(3, [13, 15, 17])\n",
      "List with minimum length of lists:\n",
      "(1, [0])\n"
     ]
    }
   ],
   "source": [
    "x=[[0], [1, 3], [5, 7], [9, 11], [13, 15, 17]]\n",
    "y=max(list(filter(lambda i: (i),x)))\n",
    "z=min(list(filter(lambda i: (i),x)))\n",
    "print('List with maximum length of lists:\\n',(len(y),y),sep='')\n",
    "print('List with minimum length of lists:\\n',(len(z),z),sep='')"
   ]
  },
  {
   "cell_type": "code",
   "execution_count": 12,
   "id": "bb33029a-33a8-4d4f-b645-be0a3db9a151",
   "metadata": {},
   "outputs": [
    {
     "name": "stdout",
     "output_type": "stream",
     "text": [
      "After sorting each sublist of the said list of lists:\n",
      "[['green', 'orange'], ['black', 'white'], ['black', 'orange', 'white']]\n"
     ]
    }
   ],
   "source": [
    "x=[['green', 'orange'], ['black', 'white'], ['white', 'black', 'orange']]\n",
    "y=[sorted(i,key=lambda i: i[0]) for i in x]\n",
    "print('After sorting each sublist of the said list of lists:\\n',y,sep='')"
   ]
  },
  {
   "cell_type": "code",
   "execution_count": 19,
   "id": "ae4c3141-a549-4040-a7f9-3f802bcf7a17",
   "metadata": {
    "tags": []
   },
   "outputs": [
    {
     "name": "stdout",
     "output_type": "stream",
     "text": [
      "Sort the list of lists by length and value:\n",
      "[[0], [2], [0, 7], [1, 3], [9, 11], [13, 15, 17]]\n"
     ]
    }
   ],
   "source": [
    "x=[[2], [0], [1, 3], [0, 7], [9, 11], [13, 15, 17]]\n",
    "x.sort()\n",
    "y=sorted(x,key=lambda i: len(i))\n",
    "print('Sort the list of lists by length and value:\\n',y,sep='')"
   ]
  },
  {
   "cell_type": "code",
   "execution_count": 29,
   "id": "ab2243fa-7d91-4257-8bd5-2ec9caa4d282",
   "metadata": {
    "tags": []
   },
   "outputs": [
    {
     "name": "stdout",
     "output_type": "stream",
     "text": [
      "Original list:\n",
      "['Python', 3, 2, 4, 5, 'version']\n",
      "\n",
      "Maximum values in the said list using lambda:\n",
      "5\n"
     ]
    }
   ],
   "source": [
    "x=['Python', 3, 2, 4, 5, 'version']\n",
    "y=max(x,key=lambda i: (isinstance(i,int),i))\n",
    "print(\"Original list:\")\n",
    "print(x)\n",
    "print(\"\\nMaximum values in the said list using lambda:\")\n",
    "print(y)"
   ]
  },
  {
   "cell_type": "code",
   "execution_count": 8,
   "id": "f3dfa122-dd9e-4133-bbc9-f4bb33902019",
   "metadata": {
    "tags": []
   },
   "outputs": [
    {
     "name": "stdout",
     "output_type": "stream",
     "text": [
      "Sort the said matrix in ascending order according to the sum of its rows:\n",
      "[[1, 1, 1], [1, 2, 3], [2, 4, 5]]\n",
      "\n",
      "Sort the said matrix in ascending order according to the sum of its rows:\n",
      "[[-2, 4, -5], [1, -1, 1], [1, 2, 3]]\n"
     ]
    }
   ],
   "source": [
    "x=[[1, 2, 3], [2, 4, 5], [1, 1, 1]]\n",
    "y=sorted(x,key=(lambda i: sum(i)))\n",
    "print('Sort the said matrix in ascending order according to the sum of its rows:\\n',y,sep='')\n",
    "x=[[1, 2, 3], [-2, 4, -5], [1, -1, 1]]\n",
    "y=sorted(x,key=(lambda i: sum(i)))\n",
    "print('\\nSort the said matrix in ascending order according to the sum of its rows:\\n',y,sep='')"
   ]
  },
  {
   "cell_type": "code",
   "execution_count": 18,
   "id": "8d04517d-543a-4aca-bd99-fd826740dad7",
   "metadata": {
    "tags": []
   },
   "outputs": [
    {
     "name": "stdin",
     "output_type": "stream",
     "text": [
      "length of the string to extract: 8\n"
     ]
    },
    {
     "name": "stdout",
     "output_type": "stream",
     "text": [
      "After extracting strings of specified length from the said list:\n",
      "['practice', 'solution']\n"
     ]
    }
   ],
   "source": [
    "x=['Python', 'list', 'exercises', 'practice', 'solution']\n",
    "y=int(input('length of the string to extract:'))\n",
    "z=list(filter(lambda i: len(i)==y,x))\n",
    "print('After extracting strings of specified length from the said list:\\n',z,sep='')"
   ]
  },
  {
   "cell_type": "code",
   "execution_count": 21,
   "id": "b5a0236f-30ee-4de4-9093-a8828d8ffff1",
   "metadata": {
    "tags": []
   },
   "outputs": [
    {
     "name": "stdout",
     "output_type": "stream",
     "text": [
      "Number of floats in the said mixed list:\n",
      "3\n"
     ]
    }
   ],
   "source": [
    "x=[1, 'abcd', 3.12, 1.2, 4, 'xyz', 5, 'pqr', 7, -5, -12.22]\n",
    "y=list(filter(lambda i: isinstance(i,float),x))\n",
    "print('Number of floats in the said mixed list:\\n',len(y),sep='')"
   ]
  },
  {
   "cell_type": "code",
   "execution_count": 29,
   "id": "c4b3f60d-c49f-4287-893f-048c50293a32",
   "metadata": {
    "tags": []
   },
   "outputs": [
    {
     "name": "stdin",
     "output_type": "stream",
     "text": [
      "Input a String: Pawan@22\n",
      "Minimum length: 8\n"
     ]
    },
    {
     "name": "stdout",
     "output_type": "stream",
     "text": [
      "['Valid String']\n"
     ]
    }
   ],
   "source": [
    "x=input('Input a String:')\n",
    "y=int(input('Minimum length:'))\n",
    "z=[\n",
    "    lambda x: any(i.isupper() for i in x),\n",
    "    lambda x: any(i.islower() for i in x),\n",
    "    lambda x: any(i.isdigit() for i in x),\n",
    "    lambda x: len(x)==y]\n",
    "r=[j for j in [k(x) for k in z] if j != True]\n",
    "if not r:\n",
    "    r.append('Valid String')\n",
    "print(r)"
   ]
  },
  {
   "cell_type": "code",
   "execution_count": 4,
   "id": "ea6cd014-1e9f-48e6-b674-302033189f2a",
   "metadata": {
    "tags": []
   },
   "outputs": [
    {
     "name": "stdout",
     "output_type": "stream",
     "text": [
      "Original Dictionary:\n",
      "{'Cierra Vega': (6.2, 70), 'Alden Cantrell': (5.9, 65), 'Kierra Gentry': (6.0, 68), 'Pierre Cox': (5.8, 66)}\n",
      "\n",
      "Height > 6ft and Weight > 70kg:\n",
      "{'Cierra Vega': (6.2, 70)}\n"
     ]
    }
   ],
   "source": [
    "x={'Cierra Vega': (6.2, 70), 'Alden Cantrell': (5.9, 65), 'Kierra Gentry': (6.0, 68), 'Pierre Cox': (5.8, 66)}\n",
    "y=dict(filter(lambda i: (i[1][0], i[1][1])> (6.0,70),x.items()))\n",
    "print(\"Original Dictionary:\")\n",
    "print(x)\n",
    "print(\"\\nHeight > 6ft and Weight > 70kg:\")\n",
    "print(y)"
   ]
  },
  {
   "cell_type": "code",
   "execution_count": 14,
   "id": "5a0a7d28-60b5-48e2-a92b-9d957e096530",
   "metadata": {
    "tags": []
   },
   "outputs": [
    {
     "name": "stdout",
     "output_type": "stream",
     "text": [
      "Is the said list is sorted!\n",
      "True\n",
      "\n",
      "Is the said list is sorted!\n",
      "False\n"
     ]
    }
   ],
   "source": [
    "x=[1, 2, 4, 6, 8, 10, 12, 14, 16, 17]\n",
    "key=(lambda i:i)\n",
    "def is_sort_list(x,key):\n",
    "    for i , e in enumerate(x[1:]):\n",
    "        if key(e) < key(x[i]):\n",
    "            return (False)\n",
    "    return (True)  \n",
    "y=[2, 3, 8, 4, 7, 9, 8, 2, 6, 5, 1, 6, 1, 2, 3, 4, 6, 9, 1, 2]\n",
    "print('Is the said list is sorted!\\n',is_sort_list(x,key),sep='')\n",
    "print('\\nIs the said list is sorted!\\n',is_sort_list(y,key),sep='')"
   ]
  },
  {
   "cell_type": "code",
   "execution_count": 38,
   "id": "dc41c581-c047-4cd1-8b91-633ea3ea78cb",
   "metadata": {
    "tags": []
   },
   "outputs": [
    {
     "name": "stdin",
     "output_type": "stream",
     "text": [
      "Input nth element you want to be extract: 0\n"
     ]
    },
    {
     "name": "stdout",
     "output_type": "stream",
     "text": [
      "Extract nth element ( n = 0 ) from the said list of tuples:\n",
      "['Greyson Fulton', 'Brady Kent', 'Wyatt Knott', 'Beau Turnbull']\n"
     ]
    },
    {
     "name": "stdin",
     "output_type": "stream",
     "text": [
      "Input nth element you want to be extract: 2\n"
     ]
    },
    {
     "name": "stdout",
     "output_type": "stream",
     "text": [
      "Extract nth element ( n = 2 ) from the said list of tuples:\n",
      "[99, 96, 94, 98]\n"
     ]
    }
   ],
   "source": [
    "x=[('Greyson Fulton', 98, 99), ('Brady Kent', 97, 96), ('Wyatt Knott', 91, 94), ('Beau Turnbull', 94, 98)]\n",
    "y=int(input('Input nth element you want to be extract:'))\n",
    "z=list(map(lambda i: i[y],x))\n",
    "print('Extract nth element ( n = ', y ,' )',' from the said list of tuples:\\n',z,sep='')\n",
    "y=int(input('Input nth element you want to be extract:'))\n",
    "z=list(map(lambda i: i[y],x))\n",
    "print('Extract nth element ( n = ', y ,' )',' from the said list of tuples:\\n',z,sep='')"
   ]
  },
  {
   "cell_type": "code",
   "execution_count": 155,
   "id": "d102596d-0979-4932-ab71-dcd42ee82806",
   "metadata": {
    "tags": []
   },
   "outputs": [
    {
     "name": "stdin",
     "output_type": "stream",
     "text": [
      "Input nth element you want to be extract: 1\n"
     ]
    },
    {
     "name": "stdout",
     "output_type": "stream",
     "text": [
      "Extract nth element ( n = 1 ) from the said list of tuples:\n",
      "[('Wyatt Knott', 91, 94), ('Beau Turnbull', 94, 98), ('Brady Kent', 97, 96), ('Greyson Fulton', 98, 99)]\n"
     ]
    },
    {
     "name": "stdin",
     "output_type": "stream",
     "text": [
      "Input nth element you want to be extract: 0\n"
     ]
    },
    {
     "name": "stdout",
     "output_type": "stream",
     "text": [
      "Extract nth element ( n = 0 ) from the said list of tuples:\n",
      "[('Beau Turnbull', 94, 98), ('Brady Kent', 97, 96), ('Greyson Fulton', 98, 99), ('Wyatt Knott', 91, 94)]\n"
     ]
    }
   ],
   "source": [
    "x=[('Greyson Fulton', 98, 99), ('Brady Kent', 97, 96), ('Wyatt Knott', 91, 94), ('Beau Turnbull', 94, 98)]\n",
    "y=int(input('Input nth element you want to be extract:'))\n",
    "z=sorted(x,key=lambda i: i[y])\n",
    "print('Extract nth element ( n = ', y ,' )',' from the said list of tuples:\\n',z,sep='')\n",
    "y=int(input('Input nth element you want to be extract:'))\n",
    "z=sorted(x,key=lambda i: i[y])\n",
    "print('Extract nth element ( n = ', y ,' )',' from the said list of tuples:\\n',z,sep='')"
   ]
  },
  {
   "cell_type": "code",
   "execution_count": 153,
   "id": "f687667c-fc7e-4cdb-8dd3-b343a623d529",
   "metadata": {
    "tags": []
   },
   "outputs": [
    {
     "name": "stdout",
     "output_type": "stream",
     "text": [
      "Remove all elements from list1 present in list2:\n",
      "[1, 3, 5, 7, 9, 10]\n"
     ]
    }
   ],
   "source": [
    "list1=[1, 2, 3, 4, 5, 6, 7, 8, 9, 10]\n",
    "list2=[2, 4, 6, 8]\n",
    "list3=list(filter(lambda i: i not in list2,list1))\n",
    "print('Remove all elements from list1 present in list2:\\n',list3,sep='')"
   ]
  },
  {
   "cell_type": "code",
   "execution_count": 51,
   "id": "55e9d6f5-1a78-4312-a489-2a93bdc3c510",
   "metadata": {
    "tags": []
   },
   "outputs": [
    {
     "name": "stdin",
     "output_type": "stream",
     "text": [
      "Input Substrings: ack\n"
     ]
    },
    {
     "name": "stdout",
     "output_type": "stream",
     "text": [
      "Elements of the said list that contain specific substring:\n",
      "['black']\n"
     ]
    },
    {
     "name": "stdin",
     "output_type": "stream",
     "text": [
      "\n",
      "Input Substrings: abc\n"
     ]
    },
    {
     "name": "stdout",
     "output_type": "stream",
     "text": [
      "Elements of the said list that contain specific substring:\n",
      "[]\n"
     ]
    }
   ],
   "source": [
    "x=['red', 'black', 'white', 'green', 'orange']\n",
    "y=input('Input Substrings:')\n",
    "z=list(filter(lambda i: y in i,x))\n",
    "print('Elements of the said list that contain specific substring:\\n',z,sep='')\n",
    "y=input('\\nInput Substrings:')\n",
    "z=list(filter(lambda i: y in i,x))\n",
    "print('Elements of the said list that contain specific substring:\\n',z,sep='')"
   ]
  },
  {
   "cell_type": "code",
   "execution_count": 56,
   "id": "bf1daa56-d079-4e79-9bf0-0de9a58483cc",
   "metadata": {
    "tags": []
   },
   "outputs": [
    {
     "name": "stdout",
     "output_type": "stream",
     "text": [
      "Intersection of said nested lists:\n",
      "[[12], [7, 11], [1, 5, 8]]\n"
     ]
    }
   ],
   "source": [
    "x=[1, 2, 3, 4, 5, 6, 7, 8, 9, 10, 11, 12, 13, 14]\n",
    "y=[[12, 18, 23, 25, 45], [7, 11, 19, 24, 28], [1, 5, 8, 18, 15, 16]]\n",
    "z=[list(filter(lambda i: i in x, j)) for j in y]\n",
    "print('Intersection of said nested lists:\\n',z,sep='')"
   ]
  },
  {
   "cell_type": "code",
   "execution_count": 64,
   "id": "be9a893f-6736-4fce-a489-291b1f1930dd",
   "metadata": {
    "tags": []
   },
   "outputs": [
    {
     "name": "stdout",
     "output_type": "stream",
     "text": [
      "Reverse strings of the said given list:\n",
      "['deR', 'neerG', 'eulB', 'etihW', 'kcalB']\n",
      "\n",
      "...........................................................\n",
      "\n",
      "Reverse strings of the said given list:\n",
      "['deR', 'neerG', 'eulB', 'etihW', 'kcalB']\n"
     ]
    }
   ],
   "source": [
    "x=['Red', 'Green', 'Blue', 'White', 'Black']\n",
    "y=list(map(lambda i: i[::-1],x))\n",
    "print('Reverse strings of the said given list:\\n',y,sep='')\n",
    "###################################################################\n",
    "print('\\n...........................................................')\n",
    "result = list(map(lambda i: \"\".join(reversed(i)), x))\n",
    "print('\\nReverse strings of the said given list:\\n',result,sep='')"
   ]
  },
  {
   "cell_type": "code",
   "execution_count": 72,
   "id": "5b505d7b-67b6-4cb9-b86c-35955dae758a",
   "metadata": {
    "tags": []
   },
   "outputs": [
    {
     "name": "stdout",
     "output_type": "stream",
     "text": [
      "Product of the said list numbers:\n",
      "3628800\n",
      "\n",
      "Product of the said list numbers:\n",
      "4021.8599520000007\n"
     ]
    }
   ],
   "source": [
    "from functools import reduce\n",
    "list1=[1, 2, 3, 4, 5, 6, 7, 8, 9, 10]\n",
    "y=reduce(lambda i,j: i*j,list1)\n",
    "print('Product of the said list numbers:\\n',y,sep='')\n",
    "list2=[2.2, 4.12, 6.6, 8.1, 8.3]\n",
    "y=reduce(lambda i,j: i*j,list2)\n",
    "print('\\nProduct of the said list numbers:\\n',y,sep='')"
   ]
  },
  {
   "cell_type": "code",
   "execution_count": 71,
   "id": "509665d7-72ca-4aa0-b9d3-52c4f67c26a2",
   "metadata": {
    "tags": []
   },
   "outputs": [
    {
     "name": "stdout",
     "output_type": "stream",
     "text": [
      "Multiply all the numbers of the said list: -864\n",
      "\n",
      "Multiply all the numbers of the said list: 27648\n"
     ]
    }
   ],
   "source": [
    "from functools import reduce\n",
    "x=[4, 3, 2, 2, -1, 18]\n",
    "y=reduce(lambda i,j: i*j,x)\n",
    "print('Multiply all the numbers of the said list:',y)\n",
    "x=[2, 4, 8, 8, 3, 2, 9]\n",
    "y=reduce(lambda i,j: i*j,x)\n",
    "print('\\nMultiply all the numbers of the said list:',y)"
   ]
  },
  {
   "cell_type": "code",
   "execution_count": 86,
   "id": "947bd221-7eee-4d3b-a0d3-414254e12c74",
   "metadata": {
    "tags": []
   },
   "outputs": [
    {
     "name": "stdout",
     "output_type": "stream",
     "text": [
      "Average value of the numbers of the said tuple of tuples:\n",
      "(30.5, 34.25, 27.0)\n",
      "\n",
      "Average value of the numbers of the said tuple of tuples:\n",
      "(25.5, -18.0, 3.75)\n"
     ]
    }
   ],
   "source": [
    "x=((10, 10, 10), (30, 45, 56), (81, 80, 39), (1, 2, 3))\n",
    "y=tuple(map(lambda i: sum(i)/len(i),zip(*x)))\n",
    "print('Average value of the numbers of the said tuple of tuples:\\n',y,sep='')\n",
    "x=((1, 1, -5), (30, -15, 56), (81, -60, -39), (-10, 2, 3))\n",
    "y=tuple(map(lambda i: sum(i)/len(i),zip(*x)))\n",
    "print('\\nAverage value of the numbers of the said tuple of tuples:\\n',y,sep='')"
   ]
  },
  {
   "cell_type": "code",
   "execution_count": 92,
   "id": "a88c5913-c6c2-4baa-84bd-57b6f9e9c480",
   "metadata": {
    "tags": []
   },
   "outputs": [
    {
     "name": "stdout",
     "output_type": "stream",
     "text": [
      "New tuple values:\n",
      "((233, 33), (1416, 55), (2345, 34))\n"
     ]
    }
   ],
   "source": [
    "x=(('233', 'ABCD', '33'), ('1416', 'EFGH', '55'), ('2345', 'WERT', '34'))\n",
    "y=tuple(map(lambda i: (int(i[0]),int(i[2])),x))\n",
    "print('New tuple values:\\n',y,sep='')"
   ]
  },
  {
   "cell_type": "code",
   "execution_count": 101,
   "id": "7a2afafd-a657-4b9f-bec6-4f46ca284f02",
   "metadata": {
    "tags": []
   },
   "outputs": [
    {
     "name": "stdout",
     "output_type": "stream",
     "text": [
      "Index position and value of the maximum value of the said list:\n",
      "(5, 89)\n",
      "\n",
      "Index position and value of the maximum value of the said list:\n",
      "(3, 10.11)\n"
     ]
    }
   ],
   "source": [
    "x=[12, 33, 23, 10.11, 67, 89, 45, 66.7, 23, 12, 11, 10.25, 54]\n",
    "y=max(enumerate(x),key=(lambda i: i[1]))\n",
    "print('Index position and value of the maximum value of the said list:\\n',y,sep='')\n",
    "y=min(enumerate(x),key=(lambda i: i[1]))\n",
    "print('\\nIndex position and value of the maximum value of the said list:\\n',y,sep='')"
   ]
  },
  {
   "cell_type": "code",
   "execution_count": 116,
   "id": "b440b463-c420-4825-9d7a-5b9a573edc07",
   "metadata": {
    "tags": []
   },
   "outputs": [
    {
     "data": {
      "text/plain": [
       "[1, 10, 12, 19, 'blue', 'green', 'green', 'red', 'white']"
      ]
     },
     "execution_count": 116,
     "metadata": {},
     "output_type": "execute_result"
    }
   ],
   "source": [
    "x=[19, 'red', 12, 'green', 'blue', 10, 'white', 'green', 1]\n",
    "x.sort(key= lambda i: (isinstance(i,str),i))\n",
    "x"
   ]
  },
  {
   "cell_type": "code",
   "execution_count": 123,
   "id": "651ed30d-4ade-481d-a927-dcc1de8b8816",
   "metadata": {
    "tags": []
   },
   "outputs": [
    {
     "name": "stdout",
     "output_type": "stream",
     "text": [
      "Sort the said list of strings(numbers) numerically:\n",
      "['-500', '-12', '0', '4', '7', '12', '45', '100', '200']\n"
     ]
    }
   ],
   "source": [
    "x=['4', '12', '45', '7', '0', '100', '200', '-12', '-500']\n",
    "y=sorted(x,key=lambda i: int(i))\n",
    "print('Sort the said list of strings(numbers) numerically:\\n',y,sep='')"
   ]
  },
  {
   "cell_type": "code",
   "execution_count": 125,
   "id": "50b9cbe8-9af1-453e-ba32-b504c97ed2dd",
   "metadata": {
    "tags": []
   },
   "outputs": [
    {
     "name": "stdout",
     "output_type": "stream",
     "text": [
      "Count the occurrences of the items in the said list:\n",
      "{3: 4, 4: 2, 5: 3, 8: 2, 0: 2, 1: 1, 2: 2}\n"
     ]
    }
   ],
   "source": [
    "x=[3, 4, 5, 8, 0, 3, 8, 5, 0, 3, 1, 5, 2, 3, 4, 2]\n",
    "y=dict(map(lambda i: (i, list(x).count(i)),x))\n",
    "print('Count the occurrences of the items in the said list:\\n',y,sep='')"
   ]
  },
  {
   "cell_type": "code",
   "execution_count": 130,
   "id": "a6fb892f-954c-4064-961a-d8acb26716de",
   "metadata": {
    "tags": []
   },
   "outputs": [
    {
     "name": "stdout",
     "output_type": "stream",
     "text": [
      "After removing the specified words from the said list:\n",
      "['red', 'green', 'blue', 'white']\n"
     ]
    }
   ],
   "source": [
    "x=['orange', 'red', 'green', 'blue', 'white', 'black']\n",
    "y=['orange', 'black']\n",
    "z=list(filter(lambda i: i not in y,x))\n",
    "print('After removing the specified words from the said list:\\n',z,sep='')"
   ]
  },
  {
   "cell_type": "code",
   "execution_count": 136,
   "id": "84e31be7-8081-48fc-8b44-72bafff38bb6",
   "metadata": {
    "tags": []
   },
   "outputs": [
    {
     "name": "stdout",
     "output_type": "stream",
     "text": [
      "Maximum and minimum values of the said list of tuples:\n",
      "(74, 62)\n"
     ]
    }
   ],
   "source": [
    "x=[('V', 62), ('VI', 68), ('VII', 72), ('VIII', 70), ('IX', 74), ('X', 65)]\n",
    "y=(max(map(lambda i: i[1], x)),min(map(lambda i: i[1], x)))\n",
    "print(\"Maximum and minimum values of the said list of tuples:\\n\",y,sep='')"
   ]
  },
  {
   "cell_type": "code",
   "execution_count": 145,
   "id": "43870b8b-4355-4a9e-b72d-a8686cafae6f",
   "metadata": {
    "tags": []
   },
   "outputs": [
    {
     "name": "stdout",
     "output_type": "stream",
     "text": [
      "Remove None value from the said list:\n",
      "[12, 0, 23, -55, 234, 89, 0, 6, -12]\n"
     ]
    }
   ],
   "source": [
    "x=[12, 0, None, 23, None, -55, 234, 89, None, 0, 6, -12]\n",
    "y=list(filter(lambda i: i is not None,x))\n",
    "print('Remove None value from the said list:\\n',y,sep='')"
   ]
  },
  {
   "cell_type": "code",
   "execution_count": null,
   "id": "ee3d872f-7870-40e4-af3e-06765087376b",
   "metadata": {},
   "outputs": [],
   "source": []
  }
 ],
 "metadata": {
  "kernelspec": {
   "display_name": "Python 3 (ipykernel)",
   "language": "python",
   "name": "python3"
  },
  "language_info": {
   "codemirror_mode": {
    "name": "ipython",
    "version": 3
   },
   "file_extension": ".py",
   "mimetype": "text/x-python",
   "name": "python",
   "nbconvert_exporter": "python",
   "pygments_lexer": "ipython3",
   "version": "3.11.3"
  }
 },
 "nbformat": 4,
 "nbformat_minor": 5
}
