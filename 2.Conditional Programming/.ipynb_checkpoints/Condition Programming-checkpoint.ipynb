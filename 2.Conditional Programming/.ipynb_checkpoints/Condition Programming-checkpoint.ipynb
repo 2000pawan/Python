{
 "cells": [
  {
   "cell_type": "code",
   "execution_count": 26,
   "id": "2461bc6e-4811-41f5-9c40-7c755410e512",
   "metadata": {
    "tags": []
   },
   "outputs": [
    {
     "name": "stdout",
     "output_type": "stream",
     "text": [
      "[1505, 1540, 1575, 1610, 1645, 1680, 1715, 1750, 1785, 1820, 1855, 1890, 1925, 1960, 1995, 2030, 2065, 2100, 2135, 2170, 2205, 2240, 2275, 2310, 2345, 2380, 2415, 2450, 2485, 2520, 2555, 2590, 2625, 2660, 2695]\n"
     ]
    }
   ],
   "source": [
    "x=[]\n",
    "for i in range(1500,2701):\n",
    "    if i%7==0 and i%5==0:\n",
    "        x.append(i)\n",
    "print(x)"
   ]
  },
  {
   "cell_type": "code",
   "execution_count": 14,
   "id": "307331ed-8ea5-44bf-9526-da3d2e697d10",
   "metadata": {
    "tags": []
   },
   "outputs": [
    {
     "name": "stdin",
     "output_type": "stream",
     "text": [
      "Enter Temperature you want to convert in \"C\" and \"F\":- 45f\n"
     ]
    },
    {
     "name": "stdout",
     "output_type": "stream",
     "text": [
      "The temperature in Celsius is:- 7 °C .\n"
     ]
    },
    {
     "name": "stdin",
     "output_type": "stream",
     "text": [
      "Enter Temperature you want to convert in \"C\" and \"F\":- 60c\n"
     ]
    },
    {
     "name": "stdout",
     "output_type": "stream",
     "text": [
      "The temperature in Fahrenheit is:- 140 °F .\n"
     ]
    }
   ],
   "source": [
    "for x in range(2):\n",
    "    x=(input('Enter Temperature you want to convert in \"C\" and \"F\":-'))\n",
    "    z=int(x[:-1])\n",
    "    y=x[-1]\n",
    "    if y.upper()=='C':\n",
    "        r=(((9*z)/5)+32)\n",
    "        convention = \"Fahrenheit\"\n",
    "        d='°F'\n",
    "    elif y.upper()=='F':\n",
    "        r=((5/9)*(z-32))\n",
    "        convention = \"Celsius\"\n",
    "        d='°C'\n",
    "    else:\n",
    "        print('Input proper convention')\n",
    "    print(\"The temperature in\",convention,\"is:-\", int(r),d,'.') "
   ]
  },
  {
   "cell_type": "code",
   "execution_count": 4,
   "id": "ccb8a4fc-bacf-4eff-b91b-c141ea1629c7",
   "metadata": {
    "tags": []
   },
   "outputs": [
    {
     "name": "stdin",
     "output_type": "stream",
     "text": [
      "Enter to guess a number:- 1\n",
      "Enter to guess a number:- 5\n",
      "Enter to guess a number:- 2\n",
      "Enter to guess a number:- 2\n",
      "Enter to guess a number:- 1\n",
      "Enter to guess a number:- 3\n",
      "Enter to guess a number:- 1\n",
      "Enter to guess a number:- 4\n",
      "Enter to guess a number:- 6\n",
      "Enter to guess a number:- 5\n",
      "Enter to guess a number:- 7\n"
     ]
    },
    {
     "name": "stdout",
     "output_type": "stream",
     "text": [
      "Well Guessed!\n"
     ]
    }
   ],
   "source": [
    "import random\n",
    "x=t,g=random.randint(1,10),0\n",
    "while t!=g:\n",
    "    g=int(input('Enter to guess a number:-'))\n",
    "print('Well Guessed!')"
   ]
  },
  {
   "cell_type": "code",
   "execution_count": 2,
   "id": "dd09dfcf-f65a-4228-93c0-d215bd0ac717",
   "metadata": {
    "tags": []
   },
   "outputs": [
    {
     "name": "stdout",
     "output_type": "stream",
     "text": [
      "\n",
      "*  \n",
      "*  *  \n",
      "*  *  *  \n",
      "*  *  *  *  \n",
      "*  *  *  *  *  \n",
      "*  *  *  *  \n",
      "*  *  *  \n",
      "*  *  \n",
      "*  \n"
     ]
    }
   ],
   "source": [
    "n=5\n",
    "for i in range(n):\n",
    "    for j in range(i):\n",
    "        print('*  ',end='')\n",
    "    print('')\n",
    "for i in range(n,0,-1):\n",
    "    for j in range(i):\n",
    "        print('*  ',end='')\n",
    "    print('')"
   ]
  },
  {
   "cell_type": "code",
   "execution_count": 4,
   "id": "7fcad820-54c8-44ba-a965-b6a4cba036f0",
   "metadata": {},
   "outputs": [
    {
     "name": "stdin",
     "output_type": "stream",
     "text": [
      "Enter a word:- vadaY nawaP\n"
     ]
    },
    {
     "name": "stdout",
     "output_type": "stream",
     "text": [
      "Pawan Yadav\n"
     ]
    }
   ],
   "source": [
    "x=input('Enter a word:-')\n",
    "print(x[::-1])"
   ]
  },
  {
   "cell_type": "code",
   "execution_count": 12,
   "id": "0e917e71-f807-4661-824f-a06d8605effa",
   "metadata": {
    "tags": []
   },
   "outputs": [
    {
     "name": "stdout",
     "output_type": "stream",
     "text": [
      "Number of even numbers is:- 4\n",
      "Number of Odd numbers is:- 5\n"
     ]
    }
   ],
   "source": [
    "x=(1, 2, 3, 4, 5, 6, 7, 8, 9)\n",
    "y=[]\n",
    "z=[]\n",
    "for i in x:\n",
    "    if i%2==0:\n",
    "        y.append(i)\n",
    "    elif i%2!=0:\n",
    "        z.append(i)\n",
    "print('Number of even numbers is:-', len(y)) \n",
    "print('Number of Odd numbers is:-', len(z))"
   ]
  },
  {
   "cell_type": "code",
   "execution_count": 13,
   "id": "f63ee57d-6168-4148-9e52-9a46519343e8",
   "metadata": {
    "tags": []
   },
   "outputs": [
    {
     "name": "stdout",
     "output_type": "stream",
     "text": [
      "1452 :- <class 'int'>\n",
      "11.23 :- <class 'float'>\n",
      "(1+2j) :- <class 'complex'>\n",
      "True :- <class 'bool'>\n",
      "w3resource :- <class 'str'>\n",
      "(0, -1) :- <class 'tuple'>\n",
      "[5, 12] :- <class 'list'>\n",
      "{'class': 'V', 'section': 'A'} :- <class 'dict'>\n"
     ]
    }
   ],
   "source": [
    "datalist = [1452, 11.23, 1+2j, True, 'w3resource', (0, -1), [5, 12], {\"class\":'V', \"section\":'A'}]\n",
    "for i in datalist:\n",
    "    print(i,':-', type(i))"
   ]
  },
  {
   "cell_type": "code",
   "execution_count": 22,
   "id": "3ebd4711-1ed2-4226-8755-280c96bb1e13",
   "metadata": {
    "tags": []
   },
   "outputs": [
    {
     "name": "stdout",
     "output_type": "stream",
     "text": [
      "0  1  2  4  5  "
     ]
    }
   ],
   "source": [
    "for i in range(6):\n",
    "    if i ==3:\n",
    "        continue\n",
    "    print(i,end='  ')"
   ]
  },
  {
   "cell_type": "code",
   "execution_count": 2,
   "id": "5d6ea7ff-c758-4ede-b89c-4e6393ffa2fb",
   "metadata": {
    "tags": []
   },
   "outputs": [
    {
     "name": "stdout",
     "output_type": "stream",
     "text": [
      "1  1  2  3  5  8  13  21  34  "
     ]
    }
   ],
   "source": [
    "x,y=0,1\n",
    "while y<50:\n",
    "    print(y,end='  ')\n",
    "    x,y=y,x+y"
   ]
  },
  {
   "cell_type": "code",
   "execution_count": 11,
   "id": "eccac1eb-3181-4c28-a806-c3b9e33250ec",
   "metadata": {},
   "outputs": [
    {
     "name": "stdout",
     "output_type": "stream",
     "text": [
      "fizzbuzz  1  2  Fizz  4  Buzz  Fizz  7  8  Fizz  Buzz  11  Fizz  13  14  fizzbuzz  16  17  Fizz  19  Buzz  Fizz  22  23  Fizz  Buzz  26  Fizz  28  29  fizzbuzz  31  32  Fizz  34  Buzz  Fizz  37  38  Fizz  Buzz  41  Fizz  43  44  fizzbuzz  46  47  Fizz  49  Buzz  "
     ]
    }
   ],
   "source": [
    "for i in range(51):\n",
    "    if i%3==0 and i%5==0:\n",
    "        print('fizzbuzz',end='  ')\n",
    "    elif i%3==0:\n",
    "        print('Fizz',end='  ')\n",
    "    elif i%5==0:\n",
    "        print('Buzz',end='  ')\n",
    "    else:\n",
    "        print(i,end='  ')"
   ]
  },
  {
   "cell_type": "code",
   "execution_count": 19,
   "id": "cf2aa78b-c7e7-49d0-bb09-b49c08f3f3fc",
   "metadata": {
    "tags": []
   },
   "outputs": [
    {
     "name": "stdin",
     "output_type": "stream",
     "text": [
      "Rows:-  3\n",
      "Column:-  4\n"
     ]
    },
    {
     "name": "stdout",
     "output_type": "stream",
     "text": [
      "[[0, 0, 0, 0], [0, 0, 0, 0], [0, 0, 0, 0]]\n",
      "[[0, 0, 0, 0], [0, 1, 2, 3], [0, 2, 4, 6]]\n"
     ]
    }
   ],
   "source": [
    "m=int(input('Rows:- '))\n",
    "n=int(input('Column:- '))\n",
    "x=[[0 for j in range(n)]for i in range(m)]\n",
    "for i in range(0,m):\n",
    "    for j in range(0,n):\n",
    "        x[i][j]=i*j\n",
    "print(x)"
   ]
  },
  {
   "cell_type": "code",
   "execution_count": 22,
   "id": "8e354902-0922-4642-bc69-4d905e37333b",
   "metadata": {
    "tags": []
   },
   "outputs": [
    {
     "name": "stdin",
     "output_type": "stream",
     "text": [
      " pawan\n",
      " yadav\n",
      " yaduvanshi\n",
      " \n"
     ]
    },
    {
     "name": "stdout",
     "output_type": "stream",
     "text": [
      "PAWAN YADAV YADUVANSHI "
     ]
    }
   ],
   "source": [
    "x=[]\n",
    "while True:\n",
    "    l=input()\n",
    "    if l:\n",
    "        x.append(l.upper())\n",
    "    else:\n",
    "        break\n",
    "for i in x:\n",
    "    print(i,end=' ')"
   ]
  },
  {
   "cell_type": "code",
   "execution_count": 77,
   "id": "1275a544-3197-4ff9-8943-c21b39ad9a0e",
   "metadata": {
    "tags": []
   },
   "outputs": [
    {
     "name": "stdin",
     "output_type": "stream",
     "text": [
      " 0001 0010 0011 0100 0101 0110 0111\n"
     ]
    },
    {
     "name": "stdout",
     "output_type": "stream",
     "text": [
      "0101\n"
     ]
    }
   ],
   "source": [
    "items = []\n",
    "num = [x for x in input().split(' ')]\n",
    "for p in num:\n",
    "    x = int(p, 2)\n",
    "    if not x % 5:\n",
    "        items.append(p)\n",
    "print(','.join(items))"
   ]
  },
  {
   "cell_type": "code",
   "execution_count": 84,
   "id": "0f1d9020-bb4e-4d3a-8412-90a369ad91b6",
   "metadata": {
    "tags": []
   },
   "outputs": [
    {
     "name": "stdin",
     "output_type": "stream",
     "text": [
      "Enter a string:- w3resource\n"
     ]
    },
    {
     "name": "stdout",
     "output_type": "stream",
     "text": [
      "Letters:-  9\n",
      "Digits:-  1\n"
     ]
    }
   ],
   "source": [
    "x=input('Enter a string:-')\n",
    "y=[j for j in x if j.isalpha()]\n",
    "z=[i for i in x if i.isdigit()]\n",
    "print('Letters:- ',len(y))\n",
    "print('Digits:- ',len(z))"
   ]
  },
  {
   "cell_type": "code",
   "execution_count": 112,
   "id": "5f8e7ac6-9206-4874-babc-30aaff2e3a20",
   "metadata": {
    "tags": []
   },
   "outputs": [
    {
     "name": "stdin",
     "output_type": "stream",
     "text": [
      "Enter a Password length (6-8) and including small,capital,digit,special character:- Pa2#Pa2*\n"
     ]
    },
    {
     "name": "stdout",
     "output_type": "stream",
     "text": [
      "Password is strong!👍\n"
     ]
    }
   ],
   "source": [
    "import re\n",
    "x=input('Enter a Password length (6-8) and including small,capital,digit,special character:-')\n",
    "z=True\n",
    "while z:\n",
    "    if (len(x) <6 or len(x) >8):\n",
    "        break\n",
    "    elif not re.search('[a-z]',x):\n",
    "        break\n",
    "    elif not re.search('[0-9]',x):\n",
    "        break\n",
    "    elif not re.search('[A-Z]',x):\n",
    "        break\n",
    "    elif not re.search('[$#@]',x):\n",
    "        break\n",
    "    elif re.search('\\s',x):\n",
    "        break\n",
    "    else:\n",
    "        print('Password is strong!👍')\n",
    "        x=False\n",
    "        break\n",
    "if x:\n",
    "    print('Enter a Vaild password!')"
   ]
  },
  {
   "cell_type": "code",
   "execution_count": 123,
   "id": "48f533b1-8ad2-4111-9b0c-75bd6c6d8fa9",
   "metadata": {
    "tags": []
   },
   "outputs": [
    {
     "name": "stdout",
     "output_type": "stream",
     "text": [
      "200,202,204,206,208,220,222,224,226,228,240,242,244,246,248,260,262,264,266,268,280,282,284,286,288,400\n"
     ]
    }
   ],
   "source": [
    "x=[]\n",
    "for i in range(100,401):\n",
    "    s=str(i)\n",
    "    if (int(s[0])%2==0) and (int(s[1])%2==0) and (int(s[2])%2==0):\n",
    "        x.append(s)\n",
    "print(','.join(x))"
   ]
  },
  {
   "cell_type": "code",
   "execution_count": 165,
   "id": "80ef4e1c-a54f-4807-846e-db4a9a2a9a07",
   "metadata": {
    "tags": []
   },
   "outputs": [
    {
     "name": "stdout",
     "output_type": "stream",
     "text": [
      "  ***\n",
      " *   *\n",
      " *   *\n",
      " *****\n",
      " *   *\n",
      " *   *\n",
      " *   *\n",
      ".................................................................\n",
      "  ***  \n",
      " *   * \n",
      " *   * \n",
      " ***** \n",
      " *   * \n",
      " *   * \n",
      " *   * \n",
      "\n"
     ]
    }
   ],
   "source": [
    "print('  ',end='')\n",
    "for i in range(3):\n",
    "    print('*',end='')\n",
    "print('')\n",
    "for j in range(2):\n",
    "    print(' *   *',sep='')\n",
    "print(' ',end='')\n",
    "for i in range(5):\n",
    "    print('*',end='')\n",
    "print('')\n",
    "for j in range(3):\n",
    "    print(' *   *',sep='')\n",
    "#################################################################\n",
    "print(\".................................................................\")\n",
    "r=''\n",
    "for i in range(0,7):\n",
    "    for j in range(0,7):\n",
    "        if (((j==1 or j==5) and i!=0) or ((i==0 or i==3)and(j>1 and j<5))):\n",
    "            r=r+'*'\n",
    "        else:\n",
    "            r=r+' '\n",
    "    r=r+'\\n'\n",
    "print(r)"
   ]
  },
  {
   "cell_type": "code",
   "execution_count": 236,
   "id": "77d07265-c335-4ce5-af16-551eabe87dd5",
   "metadata": {
    "tags": []
   },
   "outputs": [
    {
     "name": "stdout",
     "output_type": "stream",
     "text": [
      " ****\n",
      " *   *\n",
      " *   *\n",
      " *   *\n",
      " *   *\n",
      " *   *\n",
      " ****\n",
      ".................................................................\n",
      " ****  \n",
      " *   * \n",
      " *   * \n",
      " *   * \n",
      " *   * \n",
      " *   * \n",
      " ****  \n",
      "\n"
     ]
    }
   ],
   "source": [
    "print(' ',end='')\n",
    "for i in range(4):\n",
    "    print('*',end='')\n",
    "print('')\n",
    "for j in range(5):\n",
    "    print(' *   *')\n",
    "print(' ',end='')\n",
    "for i in range(4):\n",
    "    print('*',end='')\n",
    "print('')\n",
    "#################################################################\n",
    "print(\".................................................................\")\n",
    "r=''\n",
    "for i in range(0,7):\n",
    "    for j in range(0,7):\n",
    "        if (j==1 or ((i==0 or i==6) and (j>1 and j<5)) or (j==5 and i!=0 and i!=6)):\n",
    "            r=r+'*'\n",
    "        else:\n",
    "            r=r+' '\n",
    "    r=r+'\\n'\n",
    "print(r)"
   ]
  },
  {
   "cell_type": "code",
   "execution_count": 15,
   "id": "7669d0d5-cf74-43b3-8f3d-89f8c407e53b",
   "metadata": {
    "tags": []
   },
   "outputs": [
    {
     "name": "stdout",
     "output_type": "stream",
     "text": [
      "*****\n",
      "*\n",
      "*\n",
      "****\n",
      "*\n",
      "*\n",
      "*****.................................................................\n",
      " ***** \n",
      " *     \n",
      " *     \n",
      " ****  \n",
      " *     \n",
      " *     \n",
      " ***** \n",
      "\n"
     ]
    }
   ],
   "source": [
    "for i in range(5):\n",
    "    print('*',end='')\n",
    "print('')\n",
    "for j in range(2):\n",
    "    print('*',sep='')\n",
    "for i in range(4):\n",
    "    print('*',end='')\n",
    "print('')\n",
    "for j in range(2):\n",
    "    print('*',sep='')\n",
    "for i in range(5):\n",
    "    print('*',end='')\n",
    "#################################################################\n",
    "print(\".................................................................\")\n",
    "r=''\n",
    "for i in range(0,7):\n",
    "    for j in range(0,7):\n",
    "        if (j==1 or ((i==0 or i==6) and (j>1 and j<6)) or (i==3 and j>1 and j<5)):\n",
    "            r=r+'*'\n",
    "        else:\n",
    "            r=r+' '\n",
    "    r=r+'\\n'\n",
    "print(r)"
   ]
  },
  {
   "cell_type": "code",
   "execution_count": 22,
   "id": "8f4ff5a5-d2f2-4110-aef0-e6c65ce70eb5",
   "metadata": {
    "tags": []
   },
   "outputs": [
    {
     "name": "stdout",
     "output_type": "stream",
     "text": [
      "  ***  \n",
      " *   * \n",
      " *     \n",
      " * *** \n",
      " *   * \n",
      " *   * \n",
      "  ***  \n",
      "\n"
     ]
    }
   ],
   "source": [
    "r=''\n",
    "for i in range(0,7):\n",
    "    for j in range(0,7):\n",
    "        if ((j == 1 and i != 0 and i != 6) or ((i == 0 or i == 6) and j > 1 and j < 5) or (i== 3 and j > 2 and j < 6) or (j== 5 and i != 0 and i != 2 and i != 6)):\n",
    "            r=r+'*'\n",
    "        else:\n",
    "            r=r+' '\n",
    "    r=r+'\\n'\n",
    "print(r)"
   ]
  },
  {
   "cell_type": "code",
   "execution_count": 32,
   "id": "8bd1c5cb-94a2-45bc-a357-f25d5a1b2cec",
   "metadata": {},
   "outputs": [
    {
     "name": "stdout",
     "output_type": "stream",
     "text": [
      " *     \n",
      " *     \n",
      " *     \n",
      " *     \n",
      " *     \n",
      " *     \n",
      " ***** \n",
      "\n"
     ]
    }
   ],
   "source": [
    "r=''\n",
    "for i in range(0,7):\n",
    "    for j in range(0,7):\n",
    "        if (j==1 or (i==6 and j!=0 and j<6)):\n",
    "            r=r+'*'\n",
    "        else:\n",
    "            r=r+' '\n",
    "    r=r+'\\n'\n",
    "print(r)"
   ]
  },
  {
   "cell_type": "code",
   "execution_count": 70,
   "id": "5f2c39b3-6f5d-43bc-8626-80275ec756b2",
   "metadata": {
    "tags": []
   },
   "outputs": [
    {
     "name": "stdout",
     "output_type": "stream",
     "text": [
      " *     *\n",
      " *     *\n",
      " * * * *\n",
      " *  *  *\n",
      " *     *\n",
      " *     *\n",
      " *     *\n",
      "\n",
      ".................................................................\n",
      " *   *  \n",
      " *   *  \n",
      " ** **  \n",
      " * * *  \n",
      " *   *  \n",
      " *   *  \n",
      " *   *  \n",
      "\n"
     ]
    }
   ],
   "source": [
    "r=''\n",
    "for i in range(0,7):\n",
    "    for j in range(0,8):\n",
    "        if (j==1 or (i==2 and j!=0 and j!=4 and j>1 and j<6 and j!=2 )or j==7) or (i==3 and j==4):\n",
    "            r=r+'*'\n",
    "        else:\n",
    "            r=r+' '\n",
    "    r=r+'\\n'\n",
    "print(r)\n",
    "#################################################################\n",
    "print(\".................................................................\")\n",
    "r=''\n",
    "for i in range(0,7):\n",
    "    for j in range(0,8):\n",
    "        if (j==1 or j==5 or (i==2 and (j==2 or j==4)) or (i==3 and j==3)):\n",
    "            r=r+'*'\n",
    "        else:\n",
    "            r=r+' '\n",
    "    r=r+'\\n'\n",
    "print(r)"
   ]
  },
  {
   "cell_type": "code",
   "execution_count": 82,
   "id": "450b7c95-06b0-4184-ae01-6f6c6f49e4ee",
   "metadata": {
    "tags": []
   },
   "outputs": [
    {
     "name": "stdout",
     "output_type": "stream",
     "text": [
      "  ***  \n",
      " *   * \n",
      " *   * \n",
      " *   * \n",
      " *   * \n",
      " *   * \n",
      "  ***  \n",
      "\n"
     ]
    }
   ],
   "source": [
    "r=''\n",
    "for i in range(0,7):\n",
    "    for j in range(0,7):\n",
    "        if ((i!=0 and (j==1 or j==5) and i!=6) or ((i == 0 or i == 6) and j > 1 and j < 5)):\n",
    "            r=r+'*'\n",
    "        else:\n",
    "            r=r+' '\n",
    "    r=r+'\\n'\n",
    "print(r)"
   ]
  },
  {
   "cell_type": "code",
   "execution_count": 107,
   "id": "b133401a-f173-4b63-97ca-d606eef47796",
   "metadata": {
    "tags": []
   },
   "outputs": [
    {
     "name": "stdout",
     "output_type": "stream",
     "text": [
      " ****  \n",
      " *   * \n",
      " *   * \n",
      " ****  \n",
      " *     \n",
      " *     \n",
      " *     \n",
      "\n"
     ]
    }
   ],
   "source": [
    "r=''\n",
    "for i in range(0,7):\n",
    "    for j in range(0,7):\n",
    "        if (((i == 0 or i==3) and j > 1 and j < 5) or j==1 or ((i==1 or i==2) and j==5)):\n",
    "            r=r+'*'\n",
    "        else:\n",
    "            r=r+' '\n",
    "    r=r+'\\n'\n",
    "print(r)"
   ]
  },
  {
   "cell_type": "code",
   "execution_count": 114,
   "id": "03d4d9ab-c5cc-40b1-bee1-131332dc38dc",
   "metadata": {
    "tags": []
   },
   "outputs": [
    {
     "name": "stdout",
     "output_type": "stream",
     "text": [
      " ****  \n",
      " *   * \n",
      " *   * \n",
      " ****  \n",
      " * *   \n",
      " *  *  \n",
      " *   * \n",
      "\n"
     ]
    }
   ],
   "source": [
    "r=''\n",
    "for i in range(0,7):\n",
    "    for j in range(0,7):\n",
    "        if (((i == 0 or i==3) and j > 1 and j < 5) or j==1 or ((i==1 or i==2) and j==5) or (i==6 and j==5) or (i==5 and j==4) or (i==4 and j==3)):\n",
    "            r=r+'*'\n",
    "        else:\n",
    "            r=r+' '\n",
    "    r=r+'\\n'\n",
    "print(r)"
   ]
  },
  {
   "cell_type": "code",
   "execution_count": 181,
   "id": "702927f6-c50a-45d4-bfb3-1a1c86de40f6",
   "metadata": {
    "tags": []
   },
   "outputs": [
    {
     "name": "stdout",
     "output_type": "stream",
     "text": [
      "   ****\n",
      " *     \n",
      " *     \n",
      "   *** \n",
      "      *\n",
      "      *\n",
      "  **** \n",
      "\n",
      ".................................................................\n",
      "                   \n",
      " 000000000000000000\n",
      " 000000000000000000\n",
      " 000000000000000000\n",
      " 0000              \n",
      " 0000              \n",
      " 0000              \n",
      " 000000000000000000\n",
      " 000000000000000000\n",
      " 000000000000000000\n",
      " 000000000000000000\n",
      "               0000\n",
      "               0000\n",
      "               0000\n",
      " 000000000000000000\n",
      " 000000000000000000\n",
      " 000000000000000000\n",
      "\n"
     ]
    }
   ],
   "source": [
    "r=''\n",
    "for i in range(0,7):\n",
    "    for j in range(0,7):\n",
    "        if (i==0 and j>2 and j<7) or ((i==1 or i==2) and j==1) or (i==3 and j>2 and j<6) or ((i>3 and i<6) and j==6) or (i==6 and j>1 and j<6):\n",
    "            r=r+'*'\n",
    "        else:\n",
    "            r=r+' '\n",
    "    r=r+'\\n'\n",
    "print(r)\n",
    "#################################################################\n",
    "print(\".................................................................\")\n",
    "r=''\n",
    "for i in range(17):\n",
    "    for j in range(19):\n",
    "        if ((i>0 and i<4) and j>0 and j<19 or (i>3 and i<7) and j>0 and j<5 or (i>6 and i<11) and j>0 and j<19 or (i>10 and i<14) and j>14 and j<19 or (i>13 and i<17) and j>0 and j<19):\n",
    "            r=r+'0'\n",
    "        else:\n",
    "            r=r+' '\n",
    "    r=r+'\\n'\n",
    "print(r)"
   ]
  },
  {
   "cell_type": "code",
   "execution_count": 200,
   "id": "3bbe9cf5-6514-41b9-9dc0-81e5ca18bc86",
   "metadata": {
    "tags": []
   },
   "outputs": [
    {
     "name": "stdout",
     "output_type": "stream",
     "text": [
      "    *  *  *  *  *    \n",
      "          *          \n",
      "          *          \n",
      "          *          \n",
      "          *          \n",
      "          *          \n",
      "          *          \n",
      "\n"
     ]
    }
   ],
   "source": [
    "r=''\n",
    "for i in range(0,7):\n",
    "    for j in range(0,7):\n",
    "        if (i==0 and j>0 and j<6) or j==3:\n",
    "            r=r+' * '\n",
    "        else:\n",
    "            r=r+'   '\n",
    "    r=r+'\\n'\n",
    "print(r)"
   ]
  },
  {
   "cell_type": "code",
   "execution_count": 226,
   "id": "5bf2f399-e030-4b39-a05c-62f69e049231",
   "metadata": {
    "tags": []
   },
   "outputs": [
    {
     "name": "stdout",
     "output_type": "stream",
     "text": [
      "*     *\n",
      "*     *\n",
      "*     *\n",
      "*     *\n",
      "*     *\n",
      "*     *\n",
      "*     *\n",
      "  ***  \n",
      "\n"
     ]
    }
   ],
   "source": [
    "r=''\n",
    "for i in range(0,8):\n",
    "    for j in range(0,7):\n",
    "        if (i==7 and j>1 and j<5) or (i!=7) and j==0 or i!=7 and j==6:\n",
    "            r=r+'*'\n",
    "        else:\n",
    "            r=r+' '\n",
    "    r=r+'\\n'\n",
    "print(r)"
   ]
  },
  {
   "cell_type": "code",
   "execution_count": 260,
   "id": "956e256e-9025-48ce-91f3-5bc84b0b05fd",
   "metadata": {
    "tags": []
   },
   "outputs": [
    {
     "name": "stdout",
     "output_type": "stream",
     "text": [
      "*   *\n",
      "*   *\n",
      " * * \n",
      "  *  \n",
      " * * \n",
      "*   *\n",
      "*   *\n",
      "\n"
     ]
    }
   ],
   "source": [
    "r=''\n",
    "for i in range(0,7):\n",
    "    for j in range(0,5):\n",
    "        if (i>=0 and i<=1) and (j==0 or j==4) or (i==2 and (j==1 or j==3)) or (i>=5 and i<=7) and (j==0 or j==4) or (i==4 and (j==1 or j==3)) or (i==3 and j==2):\n",
    "            r=r+'*'\n",
    "        else:\n",
    "            r=r+' '\n",
    "    r=r+'\\n'\n",
    "print(r)"
   ]
  },
  {
   "cell_type": "code",
   "execution_count": 274,
   "id": "c6d69cfe-4dbe-43b7-be49-739c8ee88527",
   "metadata": {
    "tags": []
   },
   "outputs": [
    {
     "name": "stdout",
     "output_type": "stream",
     "text": [
      "*******\n",
      "     * \n",
      "    *  \n",
      "   *   \n",
      "  *    \n",
      " *     \n",
      "*******\n",
      "\n"
     ]
    }
   ],
   "source": [
    "r=''\n",
    "for i in range(0,7):\n",
    "    for j in range(0,7):\n",
    "        if (i==0 or i==6) or (j>=0 and j<=6) and j+i==6:\n",
    "            r=r+'*'\n",
    "        else:\n",
    "            r=r+' '\n",
    "    r=r+'\\n'\n",
    "print(r)"
   ]
  },
  {
   "cell_type": "code",
   "execution_count": 303,
   "id": "eb0f72ac-8917-48d6-af38-be423d4f9663",
   "metadata": {
    "tags": []
   },
   "outputs": [
    {
     "name": "stdout",
     "output_type": "stream",
     "text": [
      "*          *\n",
      " *        * \n",
      "  *      *  \n",
      "   *    *   \n",
      "    *  *    \n",
      "      *     \n",
      "            \n",
      "\n"
     ]
    }
   ],
   "source": [
    "r=''\n",
    "for i in range(0,7):\n",
    "    for j in range(0,12):\n",
    "        if (i==0 and j==0 or i==1 and j==1 or i==2 and j==2 or i==3 and j==3 or i==4 and j==4 or i==5 and j==6) or (i==0 and j==11 or i==1 and j==10 or i==2 and j==9 or i==3 and j==8 or i==4 and j==7):\n",
    "            r=r+'*'\n",
    "        else:\n",
    "            r=r+' '\n",
    "    r=r+'\\n'\n",
    "print(r)"
   ]
  },
  {
   "cell_type": "code",
   "execution_count": 323,
   "id": "ff7e91bc-e176-4589-9924-ae80e3a72b41",
   "metadata": {
    "tags": []
   },
   "outputs": [
    {
     "name": "stdin",
     "output_type": "stream",
     "text": [
      "Enter dog age in human year:- 15\n"
     ]
    },
    {
     "name": "stdout",
     "output_type": "stream",
     "text": [
      "The dog age in dog years is :- 73\n"
     ]
    }
   ],
   "source": [
    "x=int(input('Enter dog age in human year:-'))\n",
    "if x==2:\n",
    "    print('The dog age in dog years is :-',int(x*10.5))\n",
    "elif x>2:\n",
    "    print('The dog age in dog years is :-',(int(((x-2)*4)+10.5*2)))"
   ]
  },
  {
   "cell_type": "code",
   "execution_count": 334,
   "id": "fba12560-9301-4eab-a5c5-50648557ccc4",
   "metadata": {
    "tags": []
   },
   "outputs": [
    {
     "name": "stdin",
     "output_type": "stream",
     "text": [
      "Enter a letter of the alphabet:- K\n"
     ]
    },
    {
     "name": "stdout",
     "output_type": "stream",
     "text": [
      "K is a Consonant Letter!\n"
     ]
    }
   ],
   "source": [
    "x=input('Enter a letter of the alphabet:-')\n",
    "if x.lower() in ('aeiou'):\n",
    "    print(x,'is a Vowel Letter!')\n",
    "else:\n",
    "    print(x,'is a Consonant Letter!')"
   ]
  },
  {
   "cell_type": "code",
   "execution_count": 347,
   "id": "0282995f-85ae-4860-9bea-80d363251cab",
   "metadata": {
    "tags": []
   },
   "outputs": [
    {
     "name": "stdout",
     "output_type": "stream",
     "text": [
      "List of months: January, February, March, April, May, June, July, August, September, October, November, December\n"
     ]
    },
    {
     "name": "stdin",
     "output_type": "stream",
     "text": [
      "Enter the name of Month:- may\n"
     ]
    },
    {
     "name": "stdout",
     "output_type": "stream",
     "text": [
      "MAY have:- 31 days\n"
     ]
    }
   ],
   "source": [
    "print(\"List of months: January, February, March, April, May, June, July, August, September, October, November, December\")\n",
    "y=input('Enter the name of Month:-')\n",
    "if y.lower() in ('january','march', 'may', 'july', 'august','october','december' ):\n",
    "    print(y.upper(),'have:- 31 days')\n",
    "elif y.lower() in ('april','june','september','november'):\n",
    "    print(y.upper(),'have:- 30 days')\n",
    "elif y.lower() in ('february'):\n",
    "    print(y.upper(),'have:- 28/29 days')\n",
    "else:\n",
    "    print('Enter a Vaild Month Name!')"
   ]
  },
  {
   "cell_type": "code",
   "execution_count": 355,
   "id": "56202267-a222-4350-aff3-4050b7cff01b",
   "metadata": {
    "tags": []
   },
   "outputs": [
    {
     "name": "stdin",
     "output_type": "stream",
     "text": [
      "Enter a number:- 15\n",
      "Enter a number:- 5\n"
     ]
    },
    {
     "name": "stdout",
     "output_type": "stream",
     "text": [
      "20\n"
     ]
    }
   ],
   "source": [
    "x=eval(input('Enter a number:-'))\n",
    "y=eval(input('Enter a number:-'))\n",
    "z=x+y\n",
    "if z in range(15,21):\n",
    "    print(20)\n",
    "else:\n",
    "    print(z)"
   ]
  },
  {
   "cell_type": "code",
   "execution_count": 360,
   "id": "c7b4e3b4-6308-4153-99a4-7905ac33dcf1",
   "metadata": {
    "tags": []
   },
   "outputs": [
    {
     "name": "stdin",
     "output_type": "stream",
     "text": [
      "Enter a string:- python\n"
     ]
    },
    {
     "name": "stdout",
     "output_type": "stream",
     "text": [
      "The string is not an integer!\n"
     ]
    }
   ],
   "source": [
    "x=input('Enter a string:-')\n",
    "if x.isalpha():\n",
    "    print('The string is not an integer!')\n",
    "elif x.isdigit():\n",
    "    print('The string is an integer!')\n",
    "elif x.isalnum():\n",
    "    print('The string is contain both alphbet an integer!')"
   ]
  },
  {
   "cell_type": "code",
   "execution_count": 372,
   "id": "6430d5d1-8eea-40e2-9f6a-57e08e981bb7",
   "metadata": {
    "tags": []
   },
   "outputs": [
    {
     "name": "stdin",
     "output_type": "stream",
     "text": [
      "a:- 6\n",
      "b:- 8\n",
      "c:- 12\n"
     ]
    },
    {
     "name": "stdout",
     "output_type": "stream",
     "text": [
      "The triangle is :- Scalene Triangle\n"
     ]
    }
   ],
   "source": [
    "a=int(input('a:-'))\n",
    "b=int(input('b:-'))\n",
    "c=int(input('c:-'))\n",
    "if a==b==c:\n",
    "    print('The triangle is :- Equilateral Triangle')\n",
    "elif (a==c) or (a==b) or (b==c):\n",
    "    print('The triangle is :- Isosceles Triangle')\n",
    "else:\n",
    "    print('The triangle is :- Scalene Triangle')"
   ]
  },
  {
   "cell_type": "code",
   "execution_count": 383,
   "id": "f5230db9-6bdc-4494-a248-bc5a2e00c125",
   "metadata": {
    "tags": []
   },
   "outputs": [
    {
     "name": "stdin",
     "output_type": "stream",
     "text": [
      "Enter month name:- september\n",
      "Enter month days :- 19\n"
     ]
    },
    {
     "name": "stdout",
     "output_type": "stream",
     "text": [
      "Season is Autumn!\n"
     ]
    }
   ],
   "source": [
    "x=input('Enter month name:-')\n",
    "y=int(input('Enter month days :-'))\n",
    "if x in ('december','january','february'):\n",
    "    Season = 'Winter!'\n",
    "elif x in ('march', 'april','may','june'):\n",
    "    Season ='Summer!'\n",
    "elif x in ('july','august'):\n",
    "    Season ='Autumn!'\n",
    "elif x in ('september','october','november'):\n",
    "    Season ='Spring!'\n",
    "else:\n",
    "    print('Enter a Vaild Month Name!')\n",
    "if (x == 'march') and (y < 19):\n",
    "    Season = 'Winter!'\n",
    "elif (x == 'june') and (y < 20):\n",
    "    Season = 'Summer!'\n",
    "elif (x == 'september') and (y < 21):\n",
    "    Season = 'Autumn!'\n",
    "elif (x == 'december') and (y < 20):\n",
    "    Season = 'Spring!'\n",
    "print(\"Season is\", Season)"
   ]
  },
  {
   "cell_type": "code",
   "execution_count": 403,
   "id": "df23403b-4ead-4f9f-94fb-e64083a84556",
   "metadata": {
    "tags": []
   },
   "outputs": [
    {
     "name": "stdin",
     "output_type": "stream",
     "text": [
      "Enter birthday month name:- august\n",
      "Enter birthday date :- 22\n"
     ]
    },
    {
     "name": "stdout",
     "output_type": "stream",
     "text": [
      "Your Astrological sign is : Leo\n"
     ]
    }
   ],
   "source": [
    "x=input('Enter birthday month name:-')\n",
    "y=int(input('Enter birthday date :-'))\n",
    "if x=='march':\n",
    "    sign='Pisces' if (y<21) else 'Aries'\n",
    "elif x=='april' :\n",
    "    sign='Aries' if (y<20) else 'Taurus'\n",
    "elif x=='may':\n",
    "    sign='Taurus' if (y<21) else 'Gemini'\n",
    "elif x=='june':\n",
    "    sign='Gemini' if (y<22) else 'Cancer'\n",
    "elif x=='july':\n",
    "    sign='Cancer' if (y<23) else 'Leo'\n",
    "elif x=='august':\n",
    "    sign='Leo' if (y<23) else 'Virgo'\n",
    "elif x=='september':\n",
    "    sign='Virgo' if (y<23) else 'Libra'\n",
    "elif x=='october':\n",
    "    sign='Libra' if (y<24) else 'Scorpius'\n",
    "elif x=='november':\n",
    "    sign='Scorpius' if (y<22) else 'Sagittarius'\n",
    "elif x=='december':\n",
    "    sign='Sagittarius' if (y<22) else 'Capricorn'\n",
    "elif x=='january':\n",
    "    sign='Capricorn' if (y<20) else 'Aquarius'\n",
    "elif x=='february':\n",
    "    sign='Aquarius' if (y<19) else 'Pisces'\n",
    "print('Your Astrological sign is :',sign)"
   ]
  },
  {
   "cell_type": "code",
   "execution_count": 407,
   "id": "64d1ff3c-47c3-4eea-aee3-d26a5fe96fba",
   "metadata": {
    "tags": []
   },
   "outputs": [
    {
     "name": "stdin",
     "output_type": "stream",
     "text": [
      "Enter your birth year:- 1973\n"
     ]
    },
    {
     "name": "stdout",
     "output_type": "stream",
     "text": [
      "Your Zodiac sign :-  Ox\n"
     ]
    }
   ],
   "source": [
    "x=int(input('Enter your birth year:-'))\n",
    "if x in (1924, 1936, 1948, 1960, 1972, 1984, 1996, 2008, 2020):\n",
    "    sign='Rat'\n",
    "elif x in (1925, 1937, 1949, 1961, 1973, 1985, 1997, 2009, 2021):\n",
    "    sign='Ox'\n",
    "elif x in (1926, 1938, 1950, 1962, 1974, 1986, 1998, 2010, 2022):\n",
    "    sign='Tiger'\n",
    "elif x in (1927, 1939, 1951, 1963, 1975, 1987, 1999, 2011, 2023):\n",
    "    sign='Rabbit'\n",
    "elif x in (1928, 1940, 1952, 1964, 1976, 1988, 2000, 2012, 2024):\n",
    "    sign='Dragon'\n",
    "elif x in (1929, 1941, 1953, 1965, 1977, 1989, 2001, 2013, 2025):\n",
    "    sign='Snake'\n",
    "elif x in (1930, 1942, 1954, 1966, 1978, 1990, 2002, 2014, 2026):\n",
    "    sign='Horse'\n",
    "elif x in (1931, 1943, 1955, 1967, 1979, 1991, 2003, 2015, 2027):\n",
    "    sign='Goat'\n",
    "elif x in (1932, 1944, 1956, 1968, 1980, 1992, 2004, 2016, 2028):\n",
    "    sign='Monkey' \n",
    "elif x in (1933, 1945, 1957, 1969, 1981, 1993, 2005, 2017, 2029):\n",
    "    sign='Rooster' \n",
    "elif x in (1934, 1946, 1958, 1970, 1982, 1994, 2006, 2018, 2030):\n",
    "    sign='Dog' \n",
    "elif x in (1935, 1947, 1959, 1971, 1983, 1995, 2007, 2019, 2031):\n",
    "    sign='Pig' \n",
    "print('Your Zodiac sign :- ',sign)"
   ]
  },
  {
   "cell_type": "code",
   "execution_count": 409,
   "id": "a1196950-6842-45ab-aa21-988f776d6f24",
   "metadata": {
    "tags": []
   },
   "outputs": [
    {
     "name": "stdin",
     "output_type": "stream",
     "text": [
      "Input your birth year:  2000\n"
     ]
    },
    {
     "name": "stdout",
     "output_type": "stream",
     "text": [
      "Your Zodiac sign : Dragon\n"
     ]
    }
   ],
   "source": [
    "# Request input from the user for the birth year and convert it to an integer, assigning it to the variable 'year'\n",
    "year = int(input(\"Input your birth year: \"))\n",
    "\n",
    "# Determine the Chinese zodiac sign based on the provided birth year\n",
    "\n",
    "# Check if the year corresponds to the Chinese zodiac sign 'Dragon'\n",
    "if (year - 2000) % 12 == 0:\n",
    "    sign = 'Dragon'\n",
    "# Check if the year corresponds to the Chinese zodiac sign 'Snake'\n",
    "elif (year - 2000) % 12 == 1:\n",
    "    sign = 'Snake'\n",
    "# Check if the year corresponds to the Chinese zodiac sign 'Horse'\n",
    "elif (year - 2000) % 12 == 2:\n",
    "    sign = 'Horse'\n",
    "# Check if the year corresponds to the Chinese zodiac sign 'Sheep'\n",
    "elif (year - 2000) % 12 == 3:\n",
    "    sign = 'Sheep'\n",
    "# Check if the year corresponds to the Chinese zodiac sign 'Monkey'\n",
    "elif (year - 2000) % 12 == 4:\n",
    "    sign = 'Monkey'\n",
    "# Check if the year corresponds to the Chinese zodiac sign 'Rooster'\n",
    "elif (year - 2000) % 12 == 5:\n",
    "    sign = 'Rooster'\n",
    "# Check if the year corresponds to the Chinese zodiac sign 'Dog'\n",
    "elif (year - 2000) % 12 == 6:\n",
    "    sign = 'Dog'\n",
    "# Check if the year corresponds to the Chinese zodiac sign 'Pig'\n",
    "elif (year - 2000) % 12 == 7:\n",
    "    sign = 'Pig'\n",
    "# Check if the year corresponds to the Chinese zodiac sign 'Rat'\n",
    "elif (year - 2000) % 12 == 8:\n",
    "    sign = 'Rat'\n",
    "# Check if the year corresponds to the Chinese zodiac sign 'Ox'\n",
    "elif (year - 2000) % 12 == 9:\n",
    "    sign = 'Ox'\n",
    "# Check if the year corresponds to the Chinese zodiac sign 'Tiger'\n",
    "elif (year - 2000) % 12 == 10:\n",
    "    sign = 'Tiger'\n",
    "# If the year doesn't correspond to any specific sign, assign it to 'Hare'\n",
    "else:\n",
    "    sign = 'Hare'\n",
    "\n",
    "# Display the determined Chinese zodiac sign based on the provided birth year\n",
    "print(\"Your Zodiac sign :\", sign) \n"
   ]
  },
  {
   "cell_type": "code",
   "execution_count": 423,
   "id": "ca808361-af7c-445c-84a7-266df4f70c24",
   "metadata": {
    "tags": []
   },
   "outputs": [
    {
     "name": "stdin",
     "output_type": "stream",
     "text": [
      "a:- 25\n",
      "b:- 55\n",
      "c:- 65\n"
     ]
    },
    {
     "name": "stdout",
     "output_type": "stream",
     "text": [
      "The median is:-  55.0\n"
     ]
    }
   ],
   "source": [
    "a=int(input('a:-'))\n",
    "b=int(input('b:-'))\n",
    "c=int(input('c:-'))\n",
    "if a>b and a<c:\n",
    "    print('The median is:- ',float(a))\n",
    "elif b>a and b<c:\n",
    "    print('The median is:- ',float(b))\n",
    "elif c>a and c<b:\n",
    "    print('The median is:- ',float(c))   "
   ]
  },
  {
   "cell_type": "code",
   "execution_count": 432,
   "id": "60ca8645-0d69-49d2-ba7f-6b53ab9f3826",
   "metadata": {
    "tags": []
   },
   "outputs": [
    {
     "name": "stdin",
     "output_type": "stream",
     "text": [
      "Enter a Year:- 2023\n",
      "Enter a Month [1-12]:- 12\n",
      "Enter a day [1-31]:- 31\n"
     ]
    },
    {
     "name": "stdout",
     "output_type": "stream",
     "text": [
      "The next date is [yyyy-mm-dd] 2024-1-1.\n"
     ]
    }
   ],
   "source": [
    "y=int(input('Enter a Year:-'))\n",
    "if (y % 400)==0:\n",
    "    leap_year=True\n",
    "elif (y % 100)==0:\n",
    "    leap_year=False\n",
    "elif (y%4)==0:\n",
    "    leap_year=True\n",
    "else:\n",
    "    leap_year=False\n",
    "    \n",
    "m=int(input('Enter a Month [1-12]:-'))\n",
    "if m in (1,3,5,7,8,10,12):\n",
    "    month_length =31\n",
    "elif m==2:\n",
    "    if leap_year:\n",
    "        month_length=29\n",
    "    else:\n",
    "        month_length=28\n",
    "else:\n",
    "    month_length=30\n",
    "\n",
    "d=int(input('Enter a day [1-31]:-'))\n",
    "if d<month_length:\n",
    "    d+=1\n",
    "else:\n",
    "    d=1\n",
    "    if m==12:\n",
    "        m=1\n",
    "        y+=1\n",
    "    else:\n",
    "        m+=1 \n",
    "print('The next date is [yyyy-mm-dd] %d-%d-%d.' % (y,m,d))"
   ]
  },
  {
   "cell_type": "code",
   "execution_count": 443,
   "id": "91f37583-b784-4c5e-8e59-80b0216f229e",
   "metadata": {
    "tags": []
   },
   "outputs": [
    {
     "name": "stdin",
     "output_type": "stream",
     "text": [
      "Enter number using , seperated:- 15 16 12\n"
     ]
    },
    {
     "name": "stdout",
     "output_type": "stream",
     "text": [
      "Sum of numbers:-  43\n",
      "Average of numbers:-  14.333333333333334\n"
     ]
    }
   ],
   "source": [
    "x=input('Enter number using , seperated:-')\n",
    "y=[int(i) for i in (x.split(' '))]\n",
    "s=0\n",
    "for j in y:\n",
    "    s+=j\n",
    "print('Sum of numbers:- ',s)\n",
    "print('Average of numbers:- ',s/len(y))"
   ]
  },
  {
   "cell_type": "code",
   "execution_count": 446,
   "id": "5785e7e2-746d-4b06-a72c-96e4055c7e2e",
   "metadata": {
    "tags": []
   },
   "outputs": [
    {
     "name": "stdout",
     "output_type": "stream",
     "text": [
      "Input some integers to calculate their sum and average. Input 0 to exit.\n"
     ]
    },
    {
     "name": "stdin",
     "output_type": "stream",
     "text": [
      " 15\n",
      " 16\n",
      " 12\n",
      " 0\n"
     ]
    },
    {
     "name": "stdout",
     "output_type": "stream",
     "text": [
      "Average and Sum of the above numbers are:  14.333333333333334 43.0\n"
     ]
    }
   ],
   "source": [
    "# Display a prompt asking the user to input integers to calculate their sum and average,\n",
    "# specifying that entering 0 will exit the program\n",
    "print(\"Input some integers to calculate their sum and average. Input 0 to exit.\")\n",
    "\n",
    "# Initialize variables for count, sum, and the first number to 1\n",
    "count = 0\n",
    "sum = 0.0\n",
    "number = 1\n",
    "\n",
    "# Iterate until the user inputs 0\n",
    "while number != 0:\n",
    "    # Prompt the user to input a number and convert it to an integer\n",
    "    number = int(input(''))\n",
    "    \n",
    "    # Add the entered number to the sum\n",
    "    sum = sum + number\n",
    "    \n",
    "    # Increment the count of entered numbers\n",
    "    count += 1\n",
    "\n",
    "# Check if no numbers were entered\n",
    "if count == 0:\n",
    "    print(\"Input some numbers\")\n",
    "else:\n",
    "    # Calculate and display the average and sum of the entered numbers\n",
    "    print(\"Average and Sum of the above numbers are: \", sum / (count-1), sum)\n",
    "\t"
   ]
  },
  {
   "cell_type": "code",
   "execution_count": 453,
   "id": "bd8850ff-b238-4c37-83f4-1e74f62e91dc",
   "metadata": {
    "tags": []
   },
   "outputs": [
    {
     "name": "stdin",
     "output_type": "stream",
     "text": [
      "Inupt a number:- 10\n"
     ]
    },
    {
     "name": "stdout",
     "output_type": "stream",
     "text": [
      "10  x  1  =  10\n",
      "10  x  2  =  20\n",
      "10  x  3  =  30\n",
      "10  x  4  =  40\n",
      "10  x  5  =  50\n",
      "10  x  6  =  60\n",
      "10  x  7  =  70\n",
      "10  x  8  =  80\n",
      "10  x  9  =  90\n",
      "10  x  10  =  100\n",
      ".................................................................\n"
     ]
    },
    {
     "name": "stdin",
     "output_type": "stream",
     "text": [
      "Inupt a number:- 20\n"
     ]
    },
    {
     "name": "stdout",
     "output_type": "stream",
     "text": [
      "20  x  1  =  20\n",
      "20  x  2  =  40\n",
      "20  x  3  =  60\n",
      "20  x  4  =  80\n",
      "20  x  5  =  100\n",
      "20  x  6  =  120\n",
      "20  x  7  =  140\n",
      "20  x  8  =  160\n",
      "20  x  9  =  180\n",
      "20  x  10  =  200\n"
     ]
    }
   ],
   "source": [
    "x=int(input('Inupt a number:-'))\n",
    "y=1\n",
    "while y<11:\n",
    "    print(x,' x ',y,' = ',x*y)\n",
    "    y+=1\n",
    "######################################################################\n",
    "print('.................................................................')\n",
    "x=int(input('Inupt a number:-'))\n",
    "for y in range(1,11):\n",
    "    print(x,' x ',y,' = ',x*y)"
   ]
  },
  {
   "cell_type": "code",
   "execution_count": 456,
   "id": "3db9cd39-accc-4254-9ae1-971d149754b7",
   "metadata": {
    "tags": []
   },
   "outputs": [
    {
     "name": "stdout",
     "output_type": "stream",
     "text": [
      "\n",
      "1\n",
      "22\n",
      "333\n",
      "4444\n",
      "55555\n",
      "666666\n",
      "7777777\n",
      "88888888\n",
      "999999999\n"
     ]
    }
   ],
   "source": [
    "for i in range(10):\n",
    "    print(str(i)*i)"
   ]
  },
  {
   "cell_type": "code",
   "execution_count": null,
   "id": "eca71a75-2dcd-4a4c-8ec9-ea067cbc530c",
   "metadata": {},
   "outputs": [],
   "source": []
  }
 ],
 "metadata": {
  "kernelspec": {
   "display_name": "Python 3 (ipykernel)",
   "language": "python",
   "name": "python3"
  },
  "language_info": {
   "codemirror_mode": {
    "name": "ipython",
    "version": 3
   },
   "file_extension": ".py",
   "mimetype": "text/x-python",
   "name": "python",
   "nbconvert_exporter": "python",
   "pygments_lexer": "ipython3",
   "version": "3.11.3"
  }
 },
 "nbformat": 4,
 "nbformat_minor": 5
}
