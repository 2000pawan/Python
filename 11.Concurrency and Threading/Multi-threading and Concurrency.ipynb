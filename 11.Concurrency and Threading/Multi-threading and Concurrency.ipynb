{
 "cells": [
  {
   "cell_type": "code",
   "execution_count": 1,
   "id": "008886da-b2aa-46f5-ab9f-7372979fafa4",
   "metadata": {
    "tags": []
   },
   "outputs": [
    {
     "name": "stdout",
     "output_type": "stream",
     "text": [
      "Current thread name:  Thread-5 (print_thread_names)\n",
      "Current thread name:  Thread-6 (print_thread_names)\n",
      "Current thread name:  Thread-7 (print_thread_names)\n",
      "Current thread name:  Thread-8 (print_thread_names)\n",
      "Current thread name:  Thread-9 (print_thread_names)\n",
      "Current thread name:  Thread-10 (print_thread_names)\n",
      "Current thread name:  Thread-11 (print_thread_names)\n"
     ]
    }
   ],
   "source": [
    "import threading\n",
    "def print_thread_names():\n",
    "    print('Current thread name: ',threading.current_thread().name)\n",
    "threads=[]\n",
    "for i in range(7):\n",
    "    thread=threading.Thread(target=print_thread_names)\n",
    "    threads.append(thread)\n",
    "    thread.start()\n",
    "for thread in threads:\n",
    "    thread.join()"
   ]
  },
  {
   "cell_type": "code",
   "execution_count": 7,
   "id": "9d48f19b-73f2-4d00-b5c8-9286f6cf132d",
   "metadata": {
    "tags": []
   },
   "outputs": [
    {
     "name": "stdout",
     "output_type": "stream",
     "text": [
      "\n",
      "Downloading f:\\wfile1.jpg from https://media.istockphoto.com/id/1317752940/photo/statue-of-meditating-hindu-god-shiva-on-the-ganges-river-at-rishikesh-village-in-india.jpg?s=612x612&w=is&k=20&c=pP7XPF3-uxHo-pY0qSbJJrbul6Z_rJ-i8QnqEscxk8o=...\n",
      "\n",
      "Downloading f:\\Graph_abstract_data_type from https://en.wikipedia.org/wiki/Graph_(abstract_data_type)...\n",
      "\n",
      "Downloading f:\\example from https://example.com/...\n",
      "\n",
      "f:\\wfile1.jpg downloaded successfully.\n",
      "\n",
      "f:\\Graph_abstract_data_type downloaded successfully.\n",
      "\n",
      "f:\\example downloaded successfully.\n"
     ]
    }
   ],
   "source": [
    "import threading\n",
    "import urllib.request\n",
    "def download_file(url,filename):\n",
    "    print(f'\\nDownloading {filename} from {url}...')\n",
    "    urllib.request.urlretrieve(url,filename)\n",
    "    print(f'\\n{filename} downloaded successfully.')\n",
    "files_to_download =[\n",
    "    {\"url\": \"https://media.istockphoto.com/id/1317752940/photo/statue-of-meditating-hindu-god-shiva-on-the-ganges-river-at-rishikesh-village-in-india.jpg?s=612x612&w=is&k=20&c=pP7XPF3-uxHo-pY0qSbJJrbul6Z_rJ-i8QnqEscxk8o=\", \"filename\": \"f:\\wfile1.jpg\"},\n",
    "    {\"url\": \"https://en.wikipedia.org/wiki/Graph_(abstract_data_type)\", \"filename\": \"f:\\Graph_abstract_data_type\"},\n",
    "    {\"url\": \"https://example.com/\", \"filename\": \"f:\\example\"}\n",
    "]\n",
    "threads = []\n",
    "for file_info in files_to_download:\n",
    "    thread = threading.Thread(\n",
    "        target=download_file,\n",
    "        args=(file_info[\"url\"], file_info[\"filename\"])\n",
    "    )\n",
    "    thread.start()\n",
    "    threads.append(thread)\n",
    "for thread in threads:\n",
    "    thread.join()"
   ]
  },
  {
   "cell_type": "code",
   "execution_count": 13,
   "id": "2493aa16-84db-4647-95bb-704817ffc893",
   "metadata": {
    "tags": []
   },
   "outputs": [
    {
     "name": "stdout",
     "output_type": "stream",
     "text": [
      "List of even numbers:\n",
      "[30, 32, 34, 36, 38, 40, 42, 44, 46, 48, 50]\n",
      "\n",
      "List of odd numbers:\n",
      "[31, 33, 35, 37, 39, 41, 43, 45, 47, 49]\n"
     ]
    }
   ],
   "source": [
    "import threading\n",
    "even=[]\n",
    "odd=[]\n",
    "for i in range(30,51):\n",
    "    if i%2==0:\n",
    "        even.append(i)\n",
    "    else:\n",
    "        odd.append(i)\n",
    "print(\"List of even numbers:\")\n",
    "even_thread=threading.Thread(target=print(even))\n",
    "print(\"\\nList of odd numbers:\")\n",
    "odd_thread=threading.Thread(target=print(odd))\n",
    "even_thread.start()\n",
    "odd_thread.start()\n",
    "even_thread.join()\n",
    "odd_thread.join()"
   ]
  },
  {
   "cell_type": "code",
   "execution_count": 28,
   "id": "3110d807-fe2a-4780-acf8-ec542789f14f",
   "metadata": {
    "tags": []
   },
   "outputs": [
    {
     "name": "stdin",
     "output_type": "stream",
     "text": [
      "Enter a number: 5\n",
      "Enter a number: 4\n"
     ]
    },
    {
     "name": "stdout",
     "output_type": "stream",
     "text": [
      "120 MainThread\n",
      "24 MainThread\n"
     ]
    }
   ],
   "source": [
    "import threading\n",
    "x=int(input('Enter a number:'))\n",
    "y=int(input('Enter a number:'))\n",
    "for i in range(1,x):\n",
    "    x*=i\n",
    "for j in range(1,y):\n",
    "    y*=j\n",
    "x_factorial=threading.Thread(target=print(x,threading.current_thread().name))\n",
    "y_factorial=threading.Thread(target=print(y,threading.current_thread().name))\n",
    "x_factorial.start()\n",
    "y_factorial.start()\n",
    "x_factorial.join()\n",
    "y_factorial.join()"
   ]
  },
  {
   "cell_type": "code",
   "execution_count": 30,
   "id": "1d586937-5cf0-4ff6-ac54-16f226758df8",
   "metadata": {
    "tags": []
   },
   "outputs": [
    {
     "name": "stdout",
     "output_type": "stream",
     "text": [
      "Original List: [4, 5, 8, 3, 0, 5, 3, 9, 4, 3]\n",
      "Sorted list: [0, 3, 3, 3, 4, 4, 5, 5, 8, 9]\n"
     ]
    }
   ],
   "source": [
    "import threading\n",
    "def merge_sort(arr):\n",
    "    if len(arr) <= 1:\n",
    "        return arr\n",
    "    mid = len(arr) // 2\n",
    "    left = arr[:mid]\n",
    "    right = arr[mid:]\n",
    "    left = merge_sort(left)\n",
    "    right = merge_sort(right)\n",
    "    return merge(left, right)\n",
    "def merge(left, right):\n",
    "    merged = []\n",
    "    i = j = 0\n",
    "    while i < len(left) and j < len(right):\n",
    "        if left[i] <= right[j]:\n",
    "            merged.append(left[i])\n",
    "            i += 1\n",
    "        else:\n",
    "            merged.append(right[j])\n",
    "            j += 1\n",
    "    while i < len(left):\n",
    "        merged.append(left[i])\n",
    "        i += 1\n",
    "    while j < len(right):\n",
    "        merged.append(right[j])\n",
    "        j += 1\n",
    "    return merged\n",
    "def multi_threaded_merge_sort(arr, num_threads):\n",
    "    if num_threads <= 1:\n",
    "        return merge_sort(arr)\n",
    "    size = len(arr) // num_threads\n",
    "    sublists = [arr[i:i+size] for i in range(0, len(arr), size)]\n",
    "    threads = []\n",
    "    sorted_sublists = []\n",
    "    for sublist in sublists:\n",
    "        thread = threading.Thread(target=lambda sublist: sorted_sublists.append(merge_sort(sublist)), args=(sublist,))\n",
    "        thread.start()\n",
    "        threads.append(thread)\n",
    "    for thread in threads:\n",
    "        thread.join()\n",
    "    merged = sorted_sublists[0]\n",
    "    for sublist in sorted_sublists[1:]:\n",
    "        merged = merge(merged, sublist)\n",
    "    return merged\n",
    "input_list = [ 4,5,8,3,0,5,3,9,4,3]\n",
    "num_threads = 2\n",
    "print(\"Original List:\", input_list )\n",
    "sorted_list = multi_threaded_merge_sort(input_list, num_threads)\n",
    "print(\"Sorted list:\", sorted_list)"
   ]
  },
  {
   "cell_type": "code",
   "execution_count": 32,
   "id": "d43603d4-bc2d-4092-bb18-0302b0e2bf47",
   "metadata": {
    "tags": []
   },
   "outputs": [
    {
     "name": "stdout",
     "output_type": "stream",
     "text": [
      "Original array: [4, 5, 8, 3, 0, 5, 3, 9, 4, 3]\n",
      "Sorted array: [0, 3, 3, 3, 4, 4, 5, 5, 8, 9]\n"
     ]
    }
   ],
   "source": [
    "import threading\n",
    "def partition(nums, low, high):\n",
    "    i = low - 1\n",
    "    pivot = nums[high]\n",
    "    for j in range(low, high):\n",
    "        if nums[j] <= pivot:\n",
    "            i = i + 1\n",
    "            nums[i], nums[j] = nums[j], nums[i]\n",
    "    nums[i + 1], nums[high] = nums[high], nums[i + 1]\n",
    "    return i + 1\n",
    "def quick_sort(nums, low, high):\n",
    "    if low < high:\n",
    "        pi = partition(nums, low, high)\n",
    "        left_thread = threading.Thread(target=quick_sort, args=(nums, low, pi - 1))\n",
    "        right_thread = threading.Thread(target=quick_sort, args=(nums, pi + 1, high))\n",
    "        left_thread.start()\n",
    "        right_thread.start()\n",
    "        left_thread.join()\n",
    "        right_thread.join()\n",
    "arr = [4, 5, 8, 3, 0, 5, 3, 9, 4, 3]\n",
    "print(\"Original array:\", arr)\n",
    "quick_sort(arr, 0, len(arr) - 1)\n",
    "print(\"Sorted array:\", arr)"
   ]
  },
  {
   "cell_type": "code",
   "execution_count": 33,
   "id": "a43398e2-80b1-4f30-abcd-25edd49c6c3e",
   "metadata": {
    "tags": []
   },
   "outputs": [
    {
     "name": "stdout",
     "output_type": "stream",
     "text": [
      "Response from https://www.python.org: 200\n",
      "Response from https://www.wikipedia.org: 200\n",
      "Response from https://www.google.com: 200\n",
      "Response from https://www.example.com: 200\n"
     ]
    }
   ],
   "source": [
    "import requests\n",
    "import threading\n",
    "def make_request(url):\n",
    "    response = requests.get(url)\n",
    "    print(f\"Response from {url}: {response.status_code}\")\n",
    "urls = [\n",
    "    \"https://www.example.com\",\n",
    "    \"https://www.google.com\",\n",
    "    \"https://www.wikipedia.org\",\n",
    "    \"https://www.python.org\"\n",
    "]\n",
    "threads = []\n",
    "for url in urls:\n",
    "    thread = threading.Thread(target=make_request, args=(url,))\n",
    "    thread.start()\n",
    "    threads.append(thread)\n",
    "for thread in threads:\n",
    "    thread.join()"
   ]
  },
  {
   "cell_type": "code",
   "execution_count": null,
   "id": "1bb51be7-c164-4f32-aaf3-958878a145d5",
   "metadata": {},
   "outputs": [],
   "source": []
  }
 ],
 "metadata": {
  "kernelspec": {
   "display_name": "Python 3 (ipykernel)",
   "language": "python",
   "name": "python3"
  },
  "language_info": {
   "codemirror_mode": {
    "name": "ipython",
    "version": 3
   },
   "file_extension": ".py",
   "mimetype": "text/x-python",
   "name": "python",
   "nbconvert_exporter": "python",
   "pygments_lexer": "ipython3",
   "version": "3.11.3"
  }
 },
 "nbformat": 4,
 "nbformat_minor": 5
}
