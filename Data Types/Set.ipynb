{
 "cells": [
  {
   "cell_type": "code",
   "execution_count": 2,
   "id": "a28793c0-b46d-42fb-a0aa-286198435fb2",
   "metadata": {},
   "outputs": [
    {
     "name": "stdout",
     "output_type": "stream",
     "text": [
      "set() ---- <class 'set'>\n",
      "{1, 2, 3} ---- <class 'set'>\n"
     ]
    }
   ],
   "source": [
    "x=set()\n",
    "print(x,'----',type(x))\n",
    "x={1,2,3}\n",
    "print(x,'----',type(x))"
   ]
  },
  {
   "cell_type": "code",
   "execution_count": 5,
   "id": "12fc426e-c944-40a4-854b-2f312129790c",
   "metadata": {
    "tags": []
   },
   "outputs": [
    {
     "name": "stdout",
     "output_type": "stream",
     "text": [
      "1 2 3 "
     ]
    }
   ],
   "source": [
    "x={1,2,3}\n",
    "for i in x:\n",
    "    print(i,end=' ')"
   ]
  },
  {
   "cell_type": "code",
   "execution_count": 7,
   "id": "ec3a5542-b302-4445-921b-ad0fd4a4dc30",
   "metadata": {
    "tags": []
   },
   "outputs": [
    {
     "data": {
      "text/plain": [
       "{1, 2, 3, 5}"
      ]
     },
     "execution_count": 7,
     "metadata": {},
     "output_type": "execute_result"
    }
   ],
   "source": [
    "x={1,2,3}\n",
    "x.add(5)\n",
    "x"
   ]
  },
  {
   "cell_type": "code",
   "execution_count": 19,
   "id": "70e7e45d-4d26-4ed3-b029-c58fcff8b6a1",
   "metadata": {
    "tags": []
   },
   "outputs": [
    {
     "data": {
      "text/plain": [
       "{2, 3}"
      ]
     },
     "execution_count": 19,
     "metadata": {},
     "output_type": "execute_result"
    }
   ],
   "source": [
    "x={1,2,3,5}\n",
    "x.remove(5)  #this .remove method give error if value not present in it\n",
    "x.pop()\n",
    "x"
   ]
  },
  {
   "cell_type": "code",
   "execution_count": 18,
   "id": "69ba2221-3ee8-4fb3-b876-2b678537f6ba",
   "metadata": {
    "tags": []
   },
   "outputs": [
    {
     "data": {
      "text/plain": [
       "{1, 2, 3, 5}"
      ]
     },
     "execution_count": 18,
     "metadata": {},
     "output_type": "execute_result"
    }
   ],
   "source": [
    "x={1,2,3,5}\n",
    "x.discard(7)\n",
    "#This .discard method not given error if value not present in it\n",
    "x"
   ]
  },
  {
   "cell_type": "code",
   "execution_count": 23,
   "id": "497b7a89-bc24-4d25-a96a-260c55a149d4",
   "metadata": {
    "tags": []
   },
   "outputs": [
    {
     "name": "stdout",
     "output_type": "stream",
     "text": [
      "{'Blue'}\n",
      "{'Blue'}\n"
     ]
    }
   ],
   "source": [
    "x={'Green','Blue'}\n",
    "y={'Blue','Yellow'}\n",
    "print(x.intersection(y))\n",
    "print(x & y)"
   ]
  },
  {
   "cell_type": "code",
   "execution_count": 28,
   "id": "e64698f2-ff97-48f4-b644-1430afc3cd2d",
   "metadata": {
    "tags": []
   },
   "outputs": [
    {
     "name": "stdout",
     "output_type": "stream",
     "text": [
      "{'Yellow', 'Green', 'Blue'}\n",
      "{'Yellow', 'Green', 'Blue'}\n",
      "{1, 2, 3, 4, 5, 6, 7, 8, 9}\n",
      "{1, 2, 3, 4, 5, 6, 7, 8, 9}\n",
      "\n",
      "{1, 5}\n"
     ]
    }
   ],
   "source": [
    "x={'Green','Blue'}\n",
    "y={'Blue','Yellow'}\n",
    "print(x.union(y))\n",
    "print(x | y)\n",
    "s1 = set([1, 1, 2, 3, 4, 5])\n",
    "s2 = set([1, 5, 6, 7, 8, 9])\n",
    "print(s1.union(s2))\n",
    "print(s1 | s2)\n",
    "print('')\n",
    "print(s1 & s2)"
   ]
  },
  {
   "cell_type": "code",
   "execution_count": 32,
   "id": "721bbcc7-bf23-4cf3-9002-b156e387b49b",
   "metadata": {
    "tags": []
   },
   "outputs": [
    {
     "name": "stdout",
     "output_type": "stream",
     "text": [
      "{1, 2, 3, 4, 5}\n",
      "{2, 3, 4}\n",
      "{2, 3, 4}\n",
      "\n",
      "{8, 9, 6, 7}\n"
     ]
    }
   ],
   "source": [
    "s1= set([1, 2, 3, 4, 5])\n",
    "s2 = set([1, 5, 6, 7, 8, 9])\n",
    "print(s1.difference(s2))\n",
    "print(s1 - s2)\n",
    "print('')\n",
    "print(s2 - s1)"
   ]
  },
  {
   "cell_type": "code",
   "execution_count": 36,
   "id": "014a4a81-5ada-4f2b-90dc-62b51389fc91",
   "metadata": {
    "tags": []
   },
   "outputs": [
    {
     "name": "stdout",
     "output_type": "stream",
     "text": [
      "{2, 3, 4, 6, 7, 8, 9}\n",
      "{2, 3, 4, 6, 7, 8, 9}\n"
     ]
    }
   ],
   "source": [
    "s1= set([1, 2, 3, 4, 5])\n",
    "s2 = set([1, 5, 6, 7, 8, 9])\n",
    "print(s1.symmetric_difference(s2))\n",
    "print(s2.symmetric_difference(s1))"
   ]
  },
  {
   "cell_type": "code",
   "execution_count": 42,
   "id": "49cff51c-e256-4ca4-b664-50fd3a7694b7",
   "metadata": {
    "tags": []
   },
   "outputs": [
    {
     "name": "stdout",
     "output_type": "stream",
     "text": [
      "False\n",
      "x is subset of y<= False\n",
      "z is subset of y<= True\n",
      "x is subset of z<= False\n",
      "z is subset of x<= True\n",
      "y is subset of x<= False\n",
      "y is subset of z<= False\n"
     ]
    }
   ],
   "source": [
    "s1= set([1, 2, 3, 4, 5])\n",
    "s2 = set([1, 5, 6, 7, 8, 9])\n",
    "print(s1.issubset(s2))\n",
    "x = set([\"apple\", \"mango\"])\n",
    "y = set([\"mango\", \"orange\"])\n",
    "z = set([\"mango\"])\n",
    "print('x is subset of y<=',x <= y)\n",
    "print('z is subset of y<=',z <= y)\n",
    "print('x is subset of z<=',x <= z)\n",
    "print('z is subset of x<=',z <= x)\n",
    "print('y is subset of x<=',y <= x)\n",
    "print('y is subset of z<=',y <= z)"
   ]
  },
  {
   "cell_type": "code",
   "execution_count": 14,
   "id": "af0fe053-e2c0-4794-8e96-768558d08b85",
   "metadata": {},
   "outputs": [
    {
     "name": "stdout",
     "output_type": "stream",
     "text": [
      "{1, 2, 3, 4, 5}\n",
      "1192455682784\n",
      "{1, 2, 3, 4, 5}\n",
      "1192455683456\n",
      "{1, 2, 3, 4, 5}\n",
      "1192455682784\n"
     ]
    }
   ],
   "source": [
    "s1= set([1, 2, 3, 4, 5])\n",
    "s2=s1.copy()\n",
    "s3=s1\n",
    "print(s1)\n",
    "print(id(s1))\n",
    "print(s2)\n",
    "print(id(s2))\n",
    "print(s3)\n",
    "print(id(s3))"
   ]
  },
  {
   "cell_type": "code",
   "execution_count": 18,
   "id": "12d30972-19c3-4ea7-95fb-6ea278b15de1",
   "metadata": {
    "tags": []
   },
   "outputs": [
    {
     "name": "stdout",
     "output_type": "stream",
     "text": [
      "{1, 2, 3, 4, 5}\n",
      "set()\n"
     ]
    }
   ],
   "source": [
    "s1= set([1, 2, 3, 4, 5])\n",
    "print(s1)\n",
    "s1.clear()\n",
    "print(s1)"
   ]
  },
  {
   "cell_type": "code",
   "execution_count": 27,
   "id": "1e1f5105-f9a8-429a-b266-ecb762f67a76",
   "metadata": {
    "tags": []
   },
   "outputs": [
    {
     "name": "stdout",
     "output_type": "stream",
     "text": [
      "{1, 2, 3, 4, 5}\n",
      "{1, 2, 3, 4, 5, 10}\n",
      "frozenset({1, 2, 3, 4, 5, 10})\n",
      "False\n",
      "frozenset({10, 2, 3, 4})\n",
      "frozenset({1, 2, 3, 4, 5, 10})\n"
     ]
    }
   ],
   "source": [
    "s1= set([1, 2, 3, 4, 5])\n",
    "print(s1)\n",
    "s1.add(10)\n",
    "print(s1)\n",
    "s3 = frozenset([1, 5, 6, 7, 8, 9])\n",
    "s2=frozenset(s1)\n",
    "print(s2)\n",
    "print(s2.isdisjoint(s3))\n",
    "print(s2.difference(s3))\n",
    "print(s2 | s1)"
   ]
  },
  {
   "cell_type": "code",
   "execution_count": 31,
   "id": "2267ba2a-483d-4090-b920-2a255aaf4d9a",
   "metadata": {
    "tags": []
   },
   "outputs": [
    {
     "name": "stdout",
     "output_type": "stream",
     "text": [
      "{1, 5, 6, 7, 8, 9}\n",
      "<class 'set'>\n",
      "9\n",
      "1\n"
     ]
    }
   ],
   "source": [
    "s2 = set([1, 5, 6, 7, 8, 9])\n",
    "print(s2)\n",
    "print(type(s2))\n",
    "print(max(s2))\n",
    "print(min(s2))"
   ]
  },
  {
   "cell_type": "code",
   "execution_count": 33,
   "id": "1090155a-2ad7-414c-943b-0565e4352836",
   "metadata": {
    "tags": []
   },
   "outputs": [
    {
     "name": "stdout",
     "output_type": "stream",
     "text": [
      "{1, 5, 6, 7, 8, 9}\n",
      "6\n",
      "<class 'set'>\n"
     ]
    }
   ],
   "source": [
    "s2 = set([1, 5, 6, 7, 8, 9])\n",
    "print(s2)\n",
    "print(len(s2))\n",
    "print(type(s2))"
   ]
  },
  {
   "cell_type": "code",
   "execution_count": 28,
   "id": "ecf013a9-3122-4963-a4b7-0065d1c9ec84",
   "metadata": {
    "tags": []
   },
   "outputs": [
    {
     "name": "stdout",
     "output_type": "stream",
     "text": [
      "True\n",
      "False\n"
     ]
    },
    {
     "name": "stdin",
     "output_type": "stream",
     "text": [
      "Enter a number you want to check this number: 10\n"
     ]
    },
    {
     "name": "stdout",
     "output_type": "stream",
     "text": [
      "The value you enter 10 is not present in the given SET.....\n"
     ]
    },
    {
     "name": "stdin",
     "output_type": "stream",
     "text": [
      "Enter a number you want to check this number: 21\n"
     ]
    },
    {
     "name": "stdout",
     "output_type": "stream",
     "text": [
      "The value you enter 21 is not present in the given SET.....\n"
     ]
    },
    {
     "name": "stdin",
     "output_type": "stream",
     "text": [
      "Enter a number you want to check this number: 11\n"
     ]
    },
    {
     "name": "stdout",
     "output_type": "stream",
     "text": [
      "The value you enter 11 is not present in the given SET.....\n"
     ]
    },
    {
     "name": "stdin",
     "output_type": "stream",
     "text": [
      "Enter a number you want to check this number: 10\n"
     ]
    },
    {
     "name": "stdout",
     "output_type": "stream",
     "text": [
      "The value you enter 10 is not present in the given SET.....\n"
     ]
    },
    {
     "name": "stdin",
     "output_type": "stream",
     "text": [
      "Enter a number you want to check this number: 1\n"
     ]
    },
    {
     "name": "stdout",
     "output_type": "stream",
     "text": [
      "The value 1 is present in the given SET.....\n"
     ]
    }
   ],
   "source": [
    "s2 = set([1, 5, 6, 7, 8, 9])\n",
    "print(7 in s2)\n",
    "print(10 in s2)\n",
    "j=int(input('Enter a number you want to check this number:'))\n",
    "while j not in s2:\n",
    "    print('The value you enter',j,'is not present in the given SET.....')\n",
    "    j=int(input('Enter a number you want to check this number:'))\n",
    "else:\n",
    "    print('The value',j,'is present in the given SET.....')"
   ]
  },
  {
   "cell_type": "code",
   "execution_count": 29,
   "id": "e05fd8f2-209d-4686-a01c-284c1e050524",
   "metadata": {
    "tags": []
   },
   "outputs": [
    {
     "name": "stdout",
     "output_type": "stream",
     "text": [
      "{1, 2, 3, 4, 5}\n",
      "{5, 6, 7, 8, 9}\n",
      "{8}\n",
      "False\n",
      "True\n"
     ]
    }
   ],
   "source": [
    "s1= set([1, 2, 3, 4, 5])\n",
    "s2 = set([5, 6, 7, 8, 9])\n",
    "s3={8}\n",
    "print(s1)\n",
    "print(s2)\n",
    "print(s3)\n",
    "print(s2.isdisjoint(s1))\n",
    "print(s3.isdisjoint(s1))"
   ]
  },
  {
   "cell_type": "code",
   "execution_count": 36,
   "id": "64cb9022-3aa9-4f3d-a964-7e598ace2120",
   "metadata": {
    "tags": []
   },
   "outputs": [
    {
     "name": "stdout",
     "output_type": "stream",
     "text": [
      "True\n",
      "False\n",
      "False\n",
      "False\n",
      "True\n"
     ]
    }
   ],
   "source": [
    "s1= set([1, 2, 3, 4, 5])\n",
    "s2 = set([5, 6, 7, 8])\n",
    "s3={2, 4}\n",
    "print(s2.issuperset(s2))\n",
    "print(s2.issuperset(s1))\n",
    "print(s1>s2)\n",
    "print(s2>s1)\n",
    "print(s1>s3)"
   ]
  },
  {
   "cell_type": "code",
   "execution_count": 5,
   "id": "a5fcc645-0c61-45e5-bff2-8dcaf232cbf3",
   "metadata": {
    "tags": []
   },
   "outputs": [
    {
     "name": "stdout",
     "output_type": "stream",
     "text": [
      "{10}\n",
      "{1, 9}\n",
      "{10}\n",
      "{1, 9}\n"
     ]
    }
   ],
   "source": [
    "s1 = set([5, 6, 7, 8,10])\n",
    "s2 = set([1, 5, 6, 7, 8, 9])\n",
    "print(s1 - s2)\n",
    "print(s2 - s1)\n",
    "print(s1.difference(s2))\n",
    "print(s2.difference(s1))"
   ]
  },
  {
   "cell_type": "code",
   "execution_count": 20,
   "id": "99bd96a5-5c58-4ab7-bfe3-fda736c78c56",
   "metadata": {
    "tags": []
   },
   "outputs": [
    {
     "name": "stdout",
     "output_type": "stream",
     "text": [
      "s1 intersection s2:-\n",
      "{8, 5, 6, 7}\n",
      "s2:-\n",
      "{1, 5, 6, 7, 8, 9}\n",
      "Remove the intersection of a 2nd set from the 1st set using remove():\n",
      "{1, 9}\n"
     ]
    }
   ],
   "source": [
    "s1 = set([5, 6, 7, 8,10])\n",
    "s2 = set([1, 5, 6, 7, 8, 9])\n",
    "print('s1 intersection s2:-\\n',s1 & s2,sep='')\n",
    "print('s2:-\\n',s2,sep='')\n",
    "for i in s1 & s2:\n",
    "    s2.remove(i)\n",
    "print('Remove the intersection of a 2nd set from the 1st set using remove():\\n',s2,sep='')"
   ]
  },
  {
   "cell_type": "code",
   "execution_count": 24,
   "id": "2789428c-20a0-4b57-bf50-e0dd50c0f9f8",
   "metadata": {},
   "outputs": [
    {
     "name": "stdout",
     "output_type": "stream",
     "text": [
      "{'Blue': 1, 'Green': 2, 'Red': 4}\n"
     ]
    }
   ],
   "source": [
    "def word_count(Words):\n",
    "    word_set=set(words)\n",
    "    word_counts={}\n",
    "    for word in word_set:\n",
    "        word_counts[word]=words.count(word)\n",
    "    return word_counts\n",
    "words = ['Red', 'Green', 'Red', 'Blue', 'Red', 'Red', 'Green']\n",
    "print(word_count(words))"
   ]
  },
  {
   "cell_type": "code",
   "execution_count": 2,
   "id": "6a339836-0365-482e-b3d3-df15854d74bb",
   "metadata": {},
   "outputs": [
    {
     "name": "stdout",
     "output_type": "stream",
     "text": [
      "[{20, 15}, {16, 19}, {17, 18}, {17, 18}, {16, 19}, {20, 15}]\n",
      "[{1, 4}, {2, 3}, {2, 3}, {1, 4}]\n"
     ]
    }
   ],
   "source": [
    "def find_pairs(n,t):\n",
    "    x=set(n)\n",
    "    pair=[]\n",
    "    for i in x:\n",
    "        c=t-i\n",
    "        if c in x:\n",
    "            pair.append({i,c})\n",
    "    return pair\n",
    "n=[10, 11, 12, 13, 14, 15, 16, 17, 18, 19, 20]\n",
    "t=35\n",
    "print(find_pairs(n,t))\n",
    "d=[1,2,3,4,5]\n",
    "t=5\n",
    "print(find_pairs(d,t))"
   ]
  },
  {
   "cell_type": "code",
   "execution_count": 19,
   "id": "2fd4cc08-0216-4ba9-b22c-81c570ab2a13",
   "metadata": {
    "tags": []
   },
   "outputs": [
    {
     "name": "stdout",
     "output_type": "stream",
     "text": [
      "pqr\n",
      "w3r\n",
      "P\n",
      "\n"
     ]
    }
   ],
   "source": [
    "def prefix(x):\n",
    "    if not x:\n",
    "        return ''\n",
    "    min_length=min([len(i) for i in x ])\n",
    "    for j in range(min_length):\n",
    "        c=set([i[j] for i in x])\n",
    "        if len(c)>1:\n",
    "            return x[0][:j]\n",
    "    return x[0][:min_length]\n",
    "x=['pqrefgh','pqrsfgh']\n",
    "print(prefix(x))\n",
    "x=['w3r','w3resource']\n",
    "print(prefix(x))\n",
    "x=['Python','PHP','Perl']\n",
    "print(prefix(x))\n",
    "x=['Python','HTML','PHP']\n",
    "print(prefix(x))"
   ]
  },
  {
   "cell_type": "code",
   "execution_count": 26,
   "id": "01896b9c-1b4a-4a7d-90d3-b4e04d2c6a5c",
   "metadata": {
    "tags": []
   },
   "outputs": [
    {
     "name": "stdout",
     "output_type": "stream",
     "text": [
      "(8, 9)\n",
      "(4, 5)\n"
     ]
    }
   ],
   "source": [
    "def max_product(n):\n",
    "    x=set(n)\n",
    "    pair=float('-inf')\n",
    "    n2=None\n",
    "    n3=None\n",
    "    for i in x:\n",
    "        for j in x:\n",
    "            if i != j and i*j>pair:\n",
    "                pair=i*j\n",
    "                n2=i\n",
    "                n3=j\n",
    "    return (n2,n3)\n",
    "n=[1,2,3,4,5,6,7,8,9]\n",
    "print(max_product(n))\n",
    "d=[1,2,3,4,5]\n",
    "print(max_product(d))"
   ]
  },
  {
   "cell_type": "code",
   "execution_count": 31,
   "id": "db03066f-dccc-43c9-ab73-5966f6f87e9c",
   "metadata": {
    "tags": []
   },
   "outputs": [
    {
     "name": "stdout",
     "output_type": "stream",
     "text": [
      "{1, 2}\n",
      "{8, 7}\n",
      "{1, 2, 3, 4, 5}\n",
      "{8, 6, 7}\n"
     ]
    }
   ],
   "source": [
    "x={1, 2, 3, 4, 5, 6}\n",
    "y={3, 4, 5, 6, 7, 8}\n",
    "print(x-y,'\\n',y-x,sep='')\n",
    "a= {1, 2, 3, 4, 5}\n",
    "b= {6, 7, 8}\n",
    "print(a-b,'\\n',b-a,sep='')"
   ]
  },
  {
   "cell_type": "code",
   "execution_count": 35,
   "id": "5133fe22-5fb5-4f4d-9df4-1a6819ce0f30",
   "metadata": {
    "tags": []
   },
   "outputs": [
    {
     "name": "stdout",
     "output_type": "stream",
     "text": [
      "Find and group all anagrams in the said list:\n",
      "[['eat', 'tae'], ['cba', 'abc'], ['xyz']]\n",
      "Find and group all anagrams in the said list:\n",
      "[['restful', 'fluster'], ['forty five', 'over fifty'], ['evil', 'vile']]\n"
     ]
    }
   ],
   "source": [
    "def group_anagrams(strs):\n",
    "    r={}\n",
    "    for i in strs:\n",
    "        x=''.join(sorted(i))\n",
    "        if x in r:\n",
    "            r[x].append(i)\n",
    "        else:\n",
    "            r[x]=[i]\n",
    "    return list(r.values())\n",
    "strs = ['eat', 'cba', 'tae', 'abc', 'xyz']\n",
    "print(\"Find and group all anagrams in the said list:\\n\",group_anagrams(strs),sep='')\n",
    "strs =['restful', 'forty five', 'evil', 'over fifty', 'vile', 'fluster']\n",
    "print(\"Find and group all anagrams in the said list:\\n\",group_anagrams(strs),sep='')"
   ]
  },
  {
   "cell_type": "code",
   "execution_count": 36,
   "id": "5186f8d8-c953-4a4a-b9bf-2c1a4d606a93",
   "metadata": {
    "tags": []
   },
   "outputs": [
    {
     "name": "stdout",
     "output_type": "stream",
     "text": [
      "Find and group all anagrams in the said list:\n",
      "[['eat', 'tae'], ['cba', 'abc'], ['xyz']]\n",
      "Find and group all anagrams in the said list:\n",
      "[['restful', 'fluster'], ['forty five', 'over fifty'], ['evil', 'vile']]\n"
     ]
    }
   ],
   "source": [
    "def group_anagrams(strs):\n",
    "    r={}\n",
    "    for i in strs:\n",
    "        x=''.join(sorted(i))\n",
    "        if x in r:\n",
    "            r[x].append(i)\n",
    "        else:\n",
    "            r[x]=[i]\n",
    "    return list(r.values())\n",
    "strs = ['eat', 'cba', 'tae', 'abc', 'xyz']\n",
    "print(\"Find and group all anagrams in the said list:\\n\",group_anagrams(strs),sep='')\n",
    "strs =['restful', 'forty five', 'evil', 'over fifty', 'vile', 'fluster']\n",
    "print(\"Find and group all anagrams in the said list:\\n\",group_anagrams(strs),sep='')"
   ]
  },
  {
   "cell_type": "code",
   "execution_count": 48,
   "id": "db100d7f-2833-44f2-8cd3-7b0a54770220",
   "metadata": {
    "tags": []
   },
   "outputs": [
    {
     "name": "stdout",
     "output_type": "stream",
     "text": [
      "[(1, 3, 8), (1, 4, 7), (1, 2, 9), (1, 5, 6), (3, 4, 5), (2, 3, 7), (2, 4, 6)]\n",
      "[(4, 5, 8), (2, 6, 9), (3, 5, 9), (2, 7, 8), (4, 6, 7), (3, 6, 8), (1, 7, 9)]\n"
     ]
    }
   ],
   "source": [
    "def find_pairs(n,t):\n",
    "    x=list(set(n))\n",
    "    pair=set()\n",
    "    for i in range(len(x)):\n",
    "        for j in range(i+1,len(x)):\n",
    "            c=t-x[i]-x[j]\n",
    "            if c in x[:i]+x[j+1:]:\n",
    "                pair.add(tuple(sorted((x[i],x[j],c))))\n",
    "    return list(pair)\n",
    "n=[1,2,3,4,5,6,7,8,9]\n",
    "t=12\n",
    "print(find_pairs(n,t))\n",
    "d=[1,2,3,4,5,6,7,8,9]\n",
    "t=17\n",
    "print(find_pairs(d,t))"
   ]
  },
  {
   "cell_type": "code",
   "execution_count": 73,
   "id": "88ab73c9-f88b-4128-9d95-fecf0c869ec4",
   "metadata": {
    "tags": []
   },
   "outputs": [
    {
     "name": "stdout",
     "output_type": "stream",
     "text": [
      "{1, 2, 3, 4, 5, 6, 7, 8, 9, 10}\n",
      "8\n"
     ]
    }
   ],
   "source": [
    "x=[1, 2, 3, 4, 5, 5, 6, 7, 7, 8, 8, 9, 9, 10]\n",
    "x=set(x)\n",
    "print(x)\n",
    "if len(x)<3:\n",
    "    print(None)\n",
    "else:\n",
    "    x=list(x)\n",
    "    x.sort(reverse=True)\n",
    "    print(x[2])"
   ]
  },
  {
   "cell_type": "code",
   "execution_count": 75,
   "id": "9d67157f-fc9e-4ede-a88f-5d1b8b390efc",
   "metadata": {
    "tags": []
   },
   "outputs": [
    {
     "name": "stdout",
     "output_type": "stream",
     "text": [
      "['bar', 'foo', 'abc', 'baz', 'qux']\n"
     ]
    }
   ],
   "source": [
    "x=['foo', 'bar', 'abc', 'foo', 'qux', 'bar', 'baz']\n",
    "print(list(set(x)))"
   ]
  },
  {
   "cell_type": "code",
   "execution_count": null,
   "id": "fbb86be2-9317-4476-8369-e14afdd48e2c",
   "metadata": {},
   "outputs": [],
   "source": []
  }
 ],
 "metadata": {
  "kernelspec": {
   "display_name": "Python 3 (ipykernel)",
   "language": "python",
   "name": "python3"
  },
  "language_info": {
   "codemirror_mode": {
    "name": "ipython",
    "version": 3
   },
   "file_extension": ".py",
   "mimetype": "text/x-python",
   "name": "python",
   "nbconvert_exporter": "python",
   "pygments_lexer": "ipython3",
   "version": "3.11.3"
  }
 },
 "nbformat": 4,
 "nbformat_minor": 5
}
