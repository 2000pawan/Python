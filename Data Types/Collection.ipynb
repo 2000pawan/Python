{
 "cells": [
  {
   "cell_type": "code",
   "execution_count": 1,
   "id": "1bcf73e7-0e59-46eb-b8c0-8c5223f6f40c",
   "metadata": {},
   "outputs": [
    {
     "name": "stdout",
     "output_type": "stream",
     "text": [
      "['p', 'p', 'p', 'p', 'q', 'q']\n"
     ]
    }
   ],
   "source": [
    "from collections import Counter\n",
    "c=Counter(p=4,q=2,r=0,s=-2)\n",
    "print(list(c.elements()))"
   ]
  },
  {
   "cell_type": "code",
   "execution_count": 3,
   "id": "bc25c25e-62b9-4d4b-a1a0-4b34e9184465",
   "metadata": {
    "tags": []
   },
   "outputs": [
    {
     "name": "stdout",
     "output_type": "stream",
     "text": [
      "[('s', 4), ('e', 3), ('f', 3)]\n"
     ]
    }
   ],
   "source": [
    "from collections import Counter\n",
    "x='lkseropewdssafsdfafkpwe'\n",
    "print(Counter(x).most_common(3))"
   ]
  },
  {
   "cell_type": "code",
   "execution_count": 4,
   "id": "30449cdd-63d3-42c8-be08-bbb0b02fa3cd",
   "metadata": {
    "tags": []
   },
   "outputs": [
    {
     "name": "stdout",
     "output_type": "stream",
     "text": [
      "a\n",
      "e\n",
      "i\n",
      "o\n",
      "u\n"
     ]
    }
   ],
   "source": [
    "from collections import deque\n",
    "dq=deque('aeiou')\n",
    "for i in dq:\n",
    "    print(i)"
   ]
  },
  {
   "cell_type": "code",
   "execution_count": 6,
   "id": "aeff9981-00e3-4d9b-87b0-72295f556fc2",
   "metadata": {
    "tags": []
   },
   "outputs": [
    {
     "name": "stdout",
     "output_type": "stream",
     "text": [
      "[('Python', 6), ('the', 6), ('and', 5), ('We', 2), ('with', 2), ('The', 1), ('Software', 1), ('Foundation', 1), ('PSF', 1), ('is', 1)]\n"
     ]
    }
   ],
   "source": [
    "from collections import Counter\n",
    "import re\n",
    "x=\"\"\"The Python Software Foundation (PSF) is a 501(c)(3) non-profit \n",
    "corporation that holds the intellectual property rights behind\n",
    "the Python programming language. We manage the open source licensing \n",
    "for Python version 2.1 and later and own and protect the trademarks \n",
    "associated with Python. We also run the North American PyCon conference \n",
    "annually, support other Python conferences around the world, and \n",
    "fund Python related development with our grants program and by funding \n",
    "special projects.\"\"\"\n",
    "w=re.findall('\\w+',x)\n",
    "print(Counter(w).most_common(10))"
   ]
  },
  {
   "cell_type": "code",
   "execution_count": 9,
   "id": "31bc093b-b5bf-42d2-a7de-ab1798a0cad0",
   "metadata": {
    "tags": []
   },
   "outputs": [
    {
     "name": "stdin",
     "output_type": "stream",
     "text": [
      " 5\n",
      " Red\n",
      " Green\n",
      " Blue\n",
      " Black\n",
      " White\n"
     ]
    },
    {
     "name": "stdout",
     "output_type": "stream",
     "text": [
      "5\n",
      "1 1 1 1 1 "
     ]
    }
   ],
   "source": [
    "from collections import Counter , OrderedDict\n",
    "class OrderCounter(Counter, OrderedDict):\n",
    "    pass\n",
    "w=[]\n",
    "n=int(input())\n",
    "for i in range(n):\n",
    "    w.append(input().strip())\n",
    "ctr=OrderCounter(w)\n",
    "print(len(ctr))\n",
    "for i in ctr:\n",
    "    print(ctr[i], end=' ')"
   ]
  },
  {
   "cell_type": "code",
   "execution_count": 10,
   "id": "c1a30801-ae8d-46c2-b41b-15587b5b9f5d",
   "metadata": {
    "tags": []
   },
   "outputs": [
    {
     "name": "stdin",
     "output_type": "stream",
     "text": [
      " 3\n",
      "Input Subject name and marks:  Physics 58\n",
      "Input Subject name and marks:  Math 48\n",
      "Input Subject name and marks:  chemistry 50\n"
     ]
    },
    {
     "name": "stdout",
     "output_type": "stream",
     "text": [
      "Physics 58\n",
      "Math 48\n",
      "chemistry 50\n"
     ]
    }
   ],
   "source": [
    "import collections, re\n",
    "n=int(input())\n",
    "i=collections.OrderedDict()\n",
    "for j in range(n):\n",
    "    sub_marks_list = re.split(r'(\\d+)$', input(\"Input Subject name and marks: \").strip())\n",
    "    subject_name = sub_marks_list[0]\n",
    "    item_price = int(sub_marks_list[1])\n",
    "    if subject_name not in i:\n",
    "        i[subject_name]=item_price\n",
    "    else:\n",
    "        i[subject_name]=i[subject_name] + item_price\n",
    "for j in i:\n",
    "    print(j + str(i[j]))"
   ]
  },
  {
   "cell_type": "code",
   "execution_count": 11,
   "id": "eafb302f-d5db-4ac4-993b-f874dbbadfd3",
   "metadata": {
    "tags": []
   },
   "outputs": [
    {
     "name": "stdout",
     "output_type": "stream",
     "text": [
      "deque(['Red', 'Green', 'White'])\n",
      "deque(['Pink', 'Red', 'Green', 'White'])\n",
      "deque(['Pink', 'Red', 'Green', 'White', 'orange'])\n",
      "deque(['Pink', 'Red', 'Green', 'White'])\n",
      "deque(['Red', 'Green', 'White'])\n",
      "deque(['White', 'Green', 'Red'])\n",
      "deque(['Red', 'White', 'Green'])\n"
     ]
    }
   ],
   "source": [
    "from collections import deque\n",
    "x=collections.deque(['Red', 'Green', 'White'])\n",
    "print(x)\n",
    "x.appendleft('Pink')\n",
    "print(x)\n",
    "x.append('orange')\n",
    "print(x)\n",
    "x.pop()\n",
    "print(x)\n",
    "x.popleft()\n",
    "print(x)\n",
    "x.reverse()\n",
    "print(x)\n",
    "x.rotate()\n",
    "print(x)"
   ]
  },
  {
   "cell_type": "code",
   "execution_count": 16,
   "id": "ff989d5a-3694-450e-9c38-343ad5737dd3",
   "metadata": {
    "tags": []
   },
   "outputs": [
    {
     "name": "stdout",
     "output_type": "stream",
     "text": [
      "(2, 4, 6) <class 'tuple'>\n",
      "deque([2, 4, 6])\n",
      "deque([2, 2, 4, 6, 8, 10, 12])\n"
     ]
    }
   ],
   "source": [
    "from collections import deque\n",
    "x=(2, 4, 6)\n",
    "print(x,type(x))\n",
    "y=collections.deque(x)\n",
    "print(y)\n",
    "y.append(8)\n",
    "y.append(10)\n",
    "y.append(12)\n",
    "y.appendleft(2)\n",
    "print(y)"
   ]
  },
  {
   "cell_type": "code",
   "execution_count": 19,
   "id": "21fe7682-baff-44a2-b516-482bb6583438",
   "metadata": {
    "tags": []
   },
   "outputs": [
    {
     "name": "stdout",
     "output_type": "stream",
     "text": [
      "(2, 4, 6, 8, 10)\n",
      "deque([2, 4, 6, 8, 10])\n",
      "(12, 14, 16, 18, 20)\n",
      "deque([2, 4, 6, 8, 10, 12, 14, 16, 18, 20])\n"
     ]
    }
   ],
   "source": [
    "from collections import deque\n",
    "e=(2,4,6,8,10)\n",
    "print(e)\n",
    "y=collections.deque(e)\n",
    "print(y)\n",
    "x=(12,14,16,18,20)\n",
    "print(x)\n",
    "y.extend(x)\n",
    "print(y)"
   ]
  },
  {
   "cell_type": "code",
   "execution_count": 24,
   "id": "aa92c2db-9bbb-4f9a-9fba-c102b8f6c9d9",
   "metadata": {
    "tags": []
   },
   "outputs": [
    {
     "name": "stdout",
     "output_type": "stream",
     "text": [
      "deque([1, 3, 5, 7, 9])\n",
      "5\n",
      "deque([])\n",
      "0\n"
     ]
    }
   ],
   "source": [
    "from collections import deque\n",
    "x=deque([1, 3, 5, 7, 9])\n",
    "print(x)\n",
    "print(len(x))\n",
    "x.clear()\n",
    "print(x)\n",
    "print(len(x))"
   ]
  },
  {
   "cell_type": "code",
   "execution_count": 25,
   "id": "1708d6de-54c7-4ed5-ae67-b07fe00676c8",
   "metadata": {
    "tags": []
   },
   "outputs": [
    {
     "name": "stdout",
     "output_type": "stream",
     "text": [
      "(1, 3, 5, 7, 9)\n",
      "deque([1, 3, 5, 7, 9])   :-   3124546798352\n",
      "deque([1, 3, 5, 7, 9])   :-   3124567080480\n",
      "140729575969576  :-  140729575969576\n"
     ]
    }
   ],
   "source": [
    "import collections\n",
    "t=(1,3,5,7,9)\n",
    "print(t)\n",
    "dq1=collections.deque(t)\n",
    "dq2=dq1.copy()\n",
    "print(dq1,'  :-  ',id(dq1))\n",
    "print(dq2,'  :-  ',id(dq2))\n",
    "print(id(dq1[0]),' :- ',id(dq2[0]))"
   ]
  },
  {
   "cell_type": "code",
   "execution_count": 27,
   "id": "02936daa-4568-4677-86fc-15da64fffc43",
   "metadata": {
    "tags": []
   },
   "outputs": [
    {
     "name": "stdout",
     "output_type": "stream",
     "text": [
      "5\n",
      "4\n"
     ]
    }
   ],
   "source": [
    "import collections\n",
    "x=(2, 9, 0, 8, 2, 4, 0, 9, 2, 4, 8, 2, 0, 4, 2, 3, 4, 0)\n",
    "n=collections.deque(x)\n",
    "print(n.count(2))\n",
    "print(n.count(4))"
   ]
  },
  {
   "cell_type": "code",
   "execution_count": 8,
   "id": "558af86b-bd75-4fbb-a65f-279e11032fd9",
   "metadata": {},
   "outputs": [
    {
     "name": "stdout",
     "output_type": "stream",
     "text": [
      "deque([10, 2, 4, 6, 8])\n",
      "deque([6, 8, 10, 2, 4])\n"
     ]
    }
   ],
   "source": [
    "import collections\n",
    "x=([2,4,6,8,10])\n",
    "n=collections.deque(x)\n",
    "n.rotate(1)\n",
    "print(n)\n",
    "n.rotate(2)\n",
    "print(n)"
   ]
  },
  {
   "cell_type": "code",
   "execution_count": 10,
   "id": "4c47c478-b710-4cad-abcc-f6e723e626ef",
   "metadata": {
    "tags": []
   },
   "outputs": [
    {
     "name": "stdout",
     "output_type": "stream",
     "text": [
      "deque([4, 6, 8, 10, 2])\n",
      "deque([8, 10, 2, 4, 6])\n"
     ]
    }
   ],
   "source": [
    "import collections\n",
    "x=([2,4,6,8,10])\n",
    "n=collections.deque(x)\n",
    "n.rotate(-1)\n",
    "print(n)\n",
    "n.rotate(-2)\n",
    "print(n)"
   ]
  },
  {
   "cell_type": "code",
   "execution_count": 13,
   "id": "4472e1af-74fd-4dd3-abbf-da4fdcc99705",
   "metadata": {
    "tags": []
   },
   "outputs": [
    {
     "name": "stdout",
     "output_type": "stream",
     "text": [
      "Python\n"
     ]
    }
   ],
   "source": [
    "from collections import Counter\n",
    "x=['PHP', 'PHP', 'Python', 'PHP', 'Python', 'JS', 'Python', 'Python', 'PHP', 'Python']\n",
    "n=Counter(x)\n",
    "print(n.most_common(1)[0][0])"
   ]
  },
  {
   "cell_type": "code",
   "execution_count": 20,
   "id": "3e348b5b-65ab-4ef9-8acf-f68ae705a8b2",
   "metadata": {
    "tags": []
   },
   "outputs": [
    {
     "name": "stdin",
     "output_type": "stream",
     "text": [
      "Number of students: 3\n",
      "Name:  Pawan Yadav\n",
      "total Percentage: 80\n",
      "Name:  amit\n",
      "total Percentage: 59\n",
      "Name:  rohit\n",
      "total Percentage: 65\n"
     ]
    },
    {
     "name": "stdout",
     "output_type": "stream",
     "text": [
      "\n",
      "Names and Marks of all students:\n",
      "[['Pawan Yadav', 80], ['amit', 59], ['rohit', 65]]\n",
      "\n",
      "Second lowest Marks:  65\n",
      "\n",
      "Names:\n",
      "rohit\n"
     ]
    }
   ],
   "source": [
    "s=[]\n",
    "u=0\n",
    "n=int(input('Number of students:'))\n",
    "for _ in range(n):\n",
    "    w=input('Name: ')\n",
    "    v=eval(input(\"total Percentage:\"))\n",
    "    s.append([w,v])\n",
    "print(\"\\nNames and Marks of all students:\")\n",
    "print(s)\n",
    "o=sorted(s, key=lambda x: int(x[1]))\n",
    "for i in range(n):\n",
    "    if o[i][1] != o[0][1]:\n",
    "        u=o[i][1]\n",
    "        break\n",
    "print(\"\\nSecond lowest Marks: \", u)\n",
    "p=[x[0] for x in o if x[1] == u]\n",
    "p.sort()\n",
    "print(\"\\nNames:\")\n",
    "for w in p:\n",
    "    print(w)"
   ]
  },
  {
   "cell_type": "code",
   "execution_count": 22,
   "id": "d03843cf-04ec-4e59-b139-dd42adde23ca",
   "metadata": {
    "tags": []
   },
   "outputs": [
    {
     "name": "stdout",
     "output_type": "stream",
     "text": [
      "10\n"
     ]
    }
   ],
   "source": [
    "import collections\n",
    "class Soulation(object):\n",
    "    def majority(self,x):\n",
    "        '''\n",
    "        :type x: List[int]\n",
    "        :return type: int\n",
    "        '''\n",
    "        count=collections.Counter(x)\n",
    "        return count.most_common()[0][0]\n",
    "r=Soulation().majority([10,10,20,30,40,10,20,10])\n",
    "print(r)"
   ]
  },
  {
   "cell_type": "code",
   "execution_count": 30,
   "id": "e9775ffa-fb00-41de-82c7-711e17e77543",
   "metadata": {
    "tags": []
   },
   "outputs": [
    {
     "name": "stdout",
     "output_type": "stream",
     "text": [
      "{'R': 'Red', 'B': 'Black', 'P': 'Pink', 'G': 'Green', 'W': 'White'}\n",
      "....................................................................................\n",
      "{'O': 'Orange', 'W': 'White', 'B': 'Black', 'G': 'Green', 'R': 'Red', 'P': 'Pink'}\n"
     ]
    }
   ],
   "source": [
    "from collections import ChainMap\n",
    "x={'R': 'Red', 'B': 'Black', 'P': 'Pink'}\n",
    "y={'G': 'Green', 'W': 'White'}\n",
    "z=dict(ChainMap({},y,x))\n",
    "print(z)\n",
    "############################################################################\n",
    "print('....................................................................................')\n",
    "x={'R': 'Red', 'B': 'Black', 'P': 'Pink'}\n",
    "y={'G': 'Green', 'W': 'White'}\n",
    "z={ \"O\": \"Orange\", \"W\": \"White\", \"B\": \"Black\" }\n",
    "p=dict(ChainMap({},x,y,z))\n",
    "print(p)"
   ]
  },
  {
   "cell_type": "code",
   "execution_count": 52,
   "id": "f64ed886-4da7-4380-9fbc-9faa52384d32",
   "metadata": {
    "tags": []
   },
   "outputs": [
    {
     "name": "stdin",
     "output_type": "stream",
     "text": [
      " 4\n"
     ]
    },
    {
     "name": "stdout",
     "output_type": "stream",
     "text": [
      "True\n",
      "............................................................................\n"
     ]
    },
    {
     "name": "stdin",
     "output_type": "stream",
     "text": [
      " 3\n"
     ]
    },
    {
     "name": "stdout",
     "output_type": "stream",
     "text": [
      "False\n"
     ]
    }
   ],
   "source": [
    "import collections as c\n",
    "x= [1, 2, 3, 4, 5, 6, 7, 8]\n",
    "def check_break_list(x,n):\n",
    "    a=c.Counter(x)\n",
    "    for i in sorted(a.keys()):\n",
    "        for j in range(1,n):\n",
    "            a[i+j]=a[i+j]-a[i]\n",
    "            if a[i+j]<0:\n",
    "                return (False)\n",
    "    return (True)\n",
    "n=int(input())\n",
    "print(check_break_list(x,n))\n",
    "############################################################################\n",
    "print('............................................................................')\n",
    "n=int(input())\n",
    "print(check_break_list(x,n))"
   ]
  },
  {
   "cell_type": "code",
   "execution_count": 53,
   "id": "0fb7cebc-4213-47e8-a37f-8a19854878d2",
   "metadata": {
    "tags": []
   },
   "outputs": [
    {
     "name": "stdout",
     "output_type": "stream",
     "text": [
      "(2, 5)\n",
      "............................................................................\n",
      "Original list:\n",
      "[2, 3, 8, 4, 7, 9, 8, 2, 6, 5, 1, 6, 1, 2, 3, 2, 4, 6, 9, 1, 2]\n",
      "\n",
      "Item with the maximum frequency of the said list:\n",
      "(2, 5)\n"
     ]
    }
   ],
   "source": [
    "from collections import Counter, defaultdict\n",
    "x=[2, 3, 8, 4, 7, 9, 8, 2, 6, 5, 1, 6, 1, 2, 3, 2, 4, 6, 9, 1, 2]\n",
    "n=Counter(x)\n",
    "print(n.most_common(1)[0])\n",
    "############################################################################\n",
    "print('............................................................................')\n",
    "def max_occurrences(nums):\n",
    "    dict = defaultdict(int)\n",
    "    for i in nums:\n",
    "        dict[i] += 1\n",
    "    result = max(dict.items(), key=lambda x: x[1])\n",
    "    return result\n",
    "nums = [2, 3, 8, 4, 7, 9, 8, 2, 6, 5, 1, 6, 1, 2, 3, 2, 4, 6, 9, 1, 2]\n",
    "print(\"Original list:\")\n",
    "print(nums)\n",
    "print(\"\\nItem with the maximum frequency of the said list:\")\n",
    "print(max_occurrences(nums)) "
   ]
  },
  {
   "cell_type": "code",
   "execution_count": 60,
   "id": "0efd627b-dc1f-4be8-97b1-a63ba63bf526",
   "metadata": {
    "tags": []
   },
   "outputs": [
    {
     "name": "stdout",
     "output_type": "stream",
     "text": [
      "Counter({'a': 4, 'p': 1, 'w': 1, 'n': 1, ' ': 1, 'Y': 1, 'd': 1, 'v': 1})\n",
      "a\n",
      "p\n"
     ]
    }
   ],
   "source": [
    "from collections import Counter, defaultdict\n",
    "x='pawan Yadav'\n",
    "n=Counter(x)\n",
    "print(n)\n",
    "print(max(n,key=n.get))\n",
    "print(min(n,key=n.get))"
   ]
  },
  {
   "cell_type": "code",
   "execution_count": 63,
   "id": "42884958-17f3-4084-9183-10b80d45c478",
   "metadata": {
    "tags": []
   },
   "outputs": [
    {
     "name": "stdout",
     "output_type": "stream",
     "text": [
      "OrderedDict([('color1', 'Red'), ('color2', 'Green'), ('color3', 'Blue')])\n",
      "OrderedDict([('color4', 'Orange'), ('color1', 'Red'), ('color2', 'Green'), ('color3', 'Blue')])\n"
     ]
    }
   ],
   "source": [
    "from collections import OrderedDict\n",
    "c= OrderedDict([('color1', 'Red'), ('color2', 'Green'), ('color3', 'Blue')]) \n",
    "print(c)\n",
    "c.update({'color4':'Orange'})\n",
    "c.move_to_end('color4',last=False)\n",
    "print(c)"
   ]
  },
  {
   "cell_type": "code",
   "execution_count": 3,
   "id": "162da5a0-fef1-4530-b4b9-891dfb3f6b1f",
   "metadata": {
    "tags": []
   },
   "outputs": [
    {
     "name": "stdout",
     "output_type": "stream",
     "text": [
      "[(['1', '4'], ['4', '1'], ['3', '4'], ['2', '7'], ['6', '8'], ['5', '8'], ['6', '8'], ['5', '7'], ['2', '7'])]\n",
      "............................................................................\n",
      "('1', '4')   2\n",
      "('3', '4')   1\n",
      "('2', '7')   2\n",
      "('6', '8')   2\n",
      "('5', '8')   1\n",
      "('5', '7')   1\n"
     ]
    }
   ],
   "source": [
    "from collections import Counter\n",
    "x=[(['1', '4'], ['4', '1'], ['3', '4'], ['2', '7'], ['6', '8'], ['5', '8'], ['6', '8'], ['5', '7'], ['2', '7'])]\n",
    "print(x)\n",
    "############################################################################\n",
    "print('............................................................................')\n",
    "n= Counter(tuple(sorted(i)) for i in x[0])\n",
    "for j,k in n.items():\n",
    "    print(j,\" \", k)"
   ]
  },
  {
   "cell_type": "code",
   "execution_count": 7,
   "id": "0cde5aa0-695f-40a1-b482-cf67ba5f66b6",
   "metadata": {
    "tags": []
   },
   "outputs": [
    {
     "name": "stdout",
     "output_type": "stream",
     "text": [
      "[('Juan Whelan', 90), ('Sabah Colley', 88), ('Peter Nichols', 7), ('Juan Whelan', 122), ('Sabah Colley', 84)]\n",
      "............................................................................\n",
      "('Juan Whelan', 212)\n"
     ]
    }
   ],
   "source": [
    "from collections import defaultdict\n",
    "x=[('Juan Whelan', 90), ('Sabah Colley', 88), ('Peter Nichols', 7), ('Juan Whelan', 122), ('Sabah Colley', 84)]\n",
    "def max_aggregate(x):\n",
    "    t=defaultdict(int)\n",
    "    for i, j in x:\n",
    "        t[i]+=j\n",
    "    return max(t.items(), key = lambda z: z[1])\n",
    "print(x)\n",
    "############################################################################\n",
    "print('............................................................................')\n",
    "print(max_aggregate(x))"
   ]
  },
  {
   "cell_type": "code",
   "execution_count": 4,
   "id": "968986a3-42a3-462a-8a81-1f2db475f2f9",
   "metadata": {},
   "outputs": [
    {
     "name": "stdout",
     "output_type": "stream",
     "text": [
      "['a', 'd', 'f']\n",
      ".........................................................\n",
      "['b', 'c', 'i', 'e', 'h', 'l', 's', 'j', 'g', 'k']\n"
     ]
    }
   ],
   "source": [
    "from collections import Counter\n",
    "from itertools import chain\n",
    "def max_aggregate(x,n):\n",
    "    t=(set(i) for i in x)\n",
    "    c=Counter(chain.from_iterable(t))\n",
    "    g=[j for j,count in c.items() if count > n]\n",
    "    h=[j for j,count in c.items() if count < n]\n",
    "    return g,h\n",
    "x=['abcd', 'iabhef', 'dsalsdf', 'sdfsas', 'jlkdfgd']\n",
    "n=3\n",
    "r=max_aggregate(x,n)\n",
    "print(r[0],'\\n.........................................................\\n',r[1],sep='')"
   ]
  },
  {
   "cell_type": "code",
   "execution_count": 6,
   "id": "226e0a82-5e5f-44f6-a14f-e92a4922a976",
   "metadata": {
    "tags": []
   },
   "outputs": [
    {
     "name": "stdout",
     "output_type": "stream",
     "text": [
      "Counter({1: 2, 3: 2, 4: 2, 2: 1, 5: 1, 6: 1, 7: 1})\n",
      "[3, 3, 4, 7]\n"
     ]
    }
   ],
   "source": [
    "from collections import Counter\n",
    "l1 = [1, 1, 2, 3, 3, 4, 4, 5, 6, 7]\n",
    "l2 = [1, 1, 2, 4, 5, 6]\n",
    "c1=Counter(l1)\n",
    "c2=Counter(l2)\n",
    "diff=c1-c2\n",
    "print(list(diff.elements()))"
   ]
  },
  {
   "cell_type": "code",
   "execution_count": 8,
   "id": "b9e37ec3-c19d-44b9-8b5b-b4b254246a16",
   "metadata": {
    "tags": []
   },
   "outputs": [
    {
     "name": "stdout",
     "output_type": "stream",
     "text": [
      "Python Exercises Practice Solution\n"
     ]
    }
   ],
   "source": [
    "from collections import OrderedDict\n",
    "x='Python Exercises Practice Solution Exercises'\n",
    "c1=' '.join(OrderedDict((i,i) for i in x.split()).keys())\n",
    "print(c1)"
   ]
  },
  {
   "cell_type": "code",
   "execution_count": 11,
   "id": "beb9ae3c-9a2c-4db6-bfe5-3a59f43b23e1",
   "metadata": {
    "tags": []
   },
   "outputs": [
    {
     "name": "stdout",
     "output_type": "stream",
     "text": [
      "defaultdict(<class 'list'>, {'yellow': [1, 3], 'blue': [2, 4], 'red': [1]})\n"
     ]
    }
   ],
   "source": [
    "from collections import defaultdict\n",
    "x=[('yellow', 1), ('blue', 2), ('yellow', 3), ('blue', 4), ('red', 1)]\n",
    "c1=defaultdict(list)\n",
    "for i,j in x:\n",
    "    c1[i].append(j)\n",
    "print(c1)"
   ]
  },
  {
   "cell_type": "code",
   "execution_count": 16,
   "id": "a5f6979b-5ee3-4483-8aea-547c11fca744",
   "metadata": {
    "tags": []
   },
   "outputs": [
    {
     "name": "stdout",
     "output_type": "stream",
     "text": [
      "Counter({2: 3, 1: 2, 5: 2, 3: 1, 4: 1, 6: 1, 7: 1, 9: 1})\n",
      ".................................................................\n",
      "Counter({2: 3, 1: 2, 5: 2, 3: 1, 4: 1, 6: 1, 7: 1, 9: 1})\n"
     ]
    }
   ],
   "source": [
    "from collections import Counter\n",
    "x=[[1, 2, 3, 2], [4, 5, 6, 2], [7, 1, 9, 5]]\n",
    "y=x[0]+x[1]+x[2]\n",
    "c=Counter(y)\n",
    "print(c)\n",
    "#########################################################################\n",
    "print('.................................................................')\n",
    "from itertools import chain\n",
    "r=Counter(chain.from_iterable(x))\n",
    "print(r)"
   ]
  },
  {
   "cell_type": "code",
   "execution_count": 18,
   "id": "7d2a791f-c9a6-464a-bd86-033b093b452a",
   "metadata": {
    "tags": []
   },
   "outputs": [
    {
     "name": "stdout",
     "output_type": "stream",
     "text": [
      "Counter({'Red': 2, 'Orange': 2, 'Black': 2, 'Green': 1, 'Blue': 1, 'White': 1})\n",
      ".................................................................\n",
      "Counter({3: 4, 5: 4, 8: 4, 0: 3, 9: 1, 1: 1, 2: 1})\n"
     ]
    }
   ],
   "source": [
    "from collections import Counter\n",
    "def count_items(x):\n",
    "    c=Counter(x)\n",
    "    return c\n",
    "x=['Green', 'Red', 'Blue', 'Red', 'Orange', 'Black', 'Black', 'White', 'Orange']\n",
    "print(count_items(x))\n",
    "#########################################################################\n",
    "print('.................................................................')\n",
    "x=[3, 5, 0, 3, 9, 5, 8, 0, 3, 8, 5, 8, 3, 5, 8, 1, 0, 2]\n",
    "print(count_items(x))"
   ]
  },
  {
   "cell_type": "code",
   "execution_count": 20,
   "id": "b71716ca-8982-4357-a5ea-2f1cf6f827a7",
   "metadata": {
    "tags": []
   },
   "outputs": [
    {
     "name": "stdout",
     "output_type": "stream",
     "text": [
      "[('pink', 6), ('black', 5), ('white', 5), ('red', 4)]\n"
     ]
    }
   ],
   "source": [
    "x = [\n",
    "   'red', 'green', 'black', 'pink', 'black', 'white', 'black', 'eyes',\n",
    "   'white', 'black', 'orange', 'pink', 'pink', 'red', 'red', 'white', 'orange',\n",
    "   'white', \"black\", 'pink', 'green', 'green', 'pink', 'green', 'pink',\n",
    "   'white', 'orange', \"orange\", 'red'\n",
    "]\n",
    "from collections import Counter\n",
    "c=Counter(x)\n",
    "d=c.most_common(4)\n",
    "print(d)"
   ]
  },
  {
   "cell_type": "code",
   "execution_count": 21,
   "id": "cb8a7133-78fd-4e1e-a0ab-47472198bbd1",
   "metadata": {
    "tags": []
   },
   "outputs": [
    {
     "name": "stdout",
     "output_type": "stream",
     "text": [
      "defaultdict(<class 'list'>, {'V': [1, 2], 'VI': [1, 2, 3], 'VII': [1]})\n"
     ]
    }
   ],
   "source": [
    "from collections import defaultdict\n",
    "c=(\n",
    "    ('V', 1),\n",
    "    ('VI', 1),\n",
    "    ('V', 2),\n",
    "    ('VI', 2),\n",
    "    ('VI', 3),\n",
    "    ('VII', 1),\n",
    ")\n",
    "d=defaultdict(list)\n",
    "for i,j in c:\n",
    "    d[i].append(j)\n",
    "print(d)"
   ]
  },
  {
   "cell_type": "code",
   "execution_count": 25,
   "id": "ad8111d6-1df8-44c6-8e41-a0e6090850b7",
   "metadata": {
    "tags": []
   },
   "outputs": [
    {
     "name": "stdout",
     "output_type": "stream",
     "text": [
      "Counter({'VI': 3, 'V': 2, 'VII': 1})\n"
     ]
    }
   ],
   "source": [
    "from collections import Counter\n",
    "x=(\n",
    "    ('V', 1),\n",
    "    ('VI', 1),\n",
    "    ('V', 2),\n",
    "    ('VI', 2),\n",
    "    ('VI', 3),\n",
    "    ('VII', 1),\n",
    ")\n",
    "c=Counter(i for i,j in x)\n",
    "print(c)"
   ]
  },
  {
   "cell_type": "code",
   "execution_count": 28,
   "id": "574afd03-a219-4331-9412-78926aa1040d",
   "metadata": {
    "tags": []
   },
   "outputs": [
    {
     "name": "stdout",
     "output_type": "stream",
     "text": [
      "Afghanistan 93\n",
      "Albania 355\n",
      "Algeria 213\n",
      "Andorra 376\n",
      "Angola 244\n",
      ".................................................................\n",
      "Angola 244\n",
      "Andorra 376\n",
      "Algeria 213\n",
      "Albania 355\n",
      "Afghanistan 93\n"
     ]
    }
   ],
   "source": [
    "from collections import OrderedDict\n",
    "d={'Afghanistan': 93, 'Albania': 355, 'Algeria': 213, 'Andorra': 376, 'Angola': 244}\n",
    "n=OrderedDict(d.items())\n",
    "for i in n:\n",
    "    print(i, n[i])\n",
    "#########################################################################\n",
    "print('.................................................................')\n",
    "for i in reversed(n):\n",
    "    print(i, n[i])"
   ]
  },
  {
   "cell_type": "code",
   "execution_count": 31,
   "id": "82dd693d-80a5-44b6-8fac-6d7f57b85f70",
   "metadata": {
    "tags": []
   },
   "outputs": [
    {
     "name": "stdout",
     "output_type": "stream",
     "text": [
      "[('v', [1, 3]), ('vi', [2, 4]), ('vii', [1])]\n"
     ]
    }
   ],
   "source": [
    "from collections import defaultdict\n",
    "x=[('v', 1), ('vi', 2), ('v', 3), ('vi', 4), ('vii', 1)]\n",
    "d= defaultdict(list)\n",
    "for i,j in x:\n",
    "    d[i].append(j)\n",
    "print(sorted(d.items()))"
   ]
  },
  {
   "cell_type": "code",
   "execution_count": 32,
   "id": "868cb14f-2a0f-4ccf-a316-70fade5bd412",
   "metadata": {
    "tags": []
   },
   "outputs": [
    {
     "name": "stdout",
     "output_type": "stream",
     "text": [
      "False\n"
     ]
    }
   ],
   "source": [
    "from collections import Counter\n",
    "def compare(x,y):\n",
    "    return Counter(x)==Counter(y)\n",
    "x=[20, 10, 30, 10, 20, 30]\n",
    "y=[30, 20, 10, 30, 20, 50]\n",
    "print(compare(x,y))"
   ]
  },
  {
   "cell_type": "code",
   "execution_count": null,
   "id": "9ac19cfb-eed2-430c-9418-ede0d9a4e54e",
   "metadata": {},
   "outputs": [],
   "source": []
  }
 ],
 "metadata": {
  "kernelspec": {
   "display_name": "Python 3 (ipykernel)",
   "language": "python",
   "name": "python3"
  },
  "language_info": {
   "codemirror_mode": {
    "name": "ipython",
    "version": 3
   },
   "file_extension": ".py",
   "mimetype": "text/x-python",
   "name": "python",
   "nbconvert_exporter": "python",
   "pygments_lexer": "ipython3",
   "version": "3.11.3"
  }
 },
 "nbformat": 4,
 "nbformat_minor": 5
}
