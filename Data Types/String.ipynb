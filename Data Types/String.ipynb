{
 "cells": [
  {
   "cell_type": "code",
   "execution_count": 3,
   "id": "782e98b2-0462-4c59-b7c0-71839b89eb26",
   "metadata": {},
   "outputs": [
    {
     "name": "stdout",
     "output_type": "stream",
     "text": [
      "16\n",
      "6\n",
      "11\n"
     ]
    }
   ],
   "source": [
    "a=('i am pawan yadav')\n",
    "b=('c','d','f','w','y','k')\n",
    "print(len(a))\n",
    "print(len(b))\n",
    "def str_count(str1):\n",
    "    count=0\n",
    "    for char in str1:\n",
    "        count+=1\n",
    "    return count\n",
    "print(str_count('Pawan Yadav'))"
   ]
  },
  {
   "cell_type": "code",
   "execution_count": 24,
   "id": "451cc9f0-2b00-4180-b87a-91ded18287ab",
   "metadata": {
    "tags": []
   },
   "outputs": [
    {
     "name": "stdout",
     "output_type": "stream",
     "text": [
      "{'g': 2, 'o': 3, 'l': 1, 'e': 1, '.': 1, 'c': 1, 'm': 1}\n"
     ]
    },
    {
     "name": "stdin",
     "output_type": "stream",
     "text": [
      "Enter somethings: google.in\n"
     ]
    },
    {
     "name": "stdout",
     "output_type": "stream",
     "text": [
      "{'g': 2, 'o': 2, 'l': 1, 'e': 1, '.': 1, 'i': 1, 'n': 1}\n"
     ]
    }
   ],
   "source": [
    "def char_count(str1):\n",
    "    dict={}\n",
    "    for i in str1:\n",
    "        keys=dict.keys()\n",
    "        if i in keys:\n",
    "            dict[i]+=1\n",
    "        else:\n",
    "            dict[i]=1\n",
    "    return dict\n",
    "print(char_count('google.com'))\n",
    "a=input('Enter somethings:')\n",
    "dict={}\n",
    "for i in a:\n",
    "    key=dict.keys()\n",
    "    if i  in key:\n",
    "        dict[i]+=1\n",
    "    else:\n",
    "        dict[i]=1\n",
    "print(dict)"
   ]
  },
  {
   "cell_type": "code",
   "execution_count": 40,
   "id": "1dfd9157-968a-4284-8506-ec9067b9d3f9",
   "metadata": {
    "tags": []
   },
   "outputs": [
    {
     "name": "stdin",
     "output_type": "stream",
     "text": [
      "Enter a string: w3resource\n"
     ]
    },
    {
     "name": "stdout",
     "output_type": "stream",
     "text": [
      "w3ce\n"
     ]
    },
    {
     "name": "stdin",
     "output_type": "stream",
     "text": [
      "Enter a string: w3\n"
     ]
    },
    {
     "name": "stdout",
     "output_type": "stream",
     "text": [
      "w3w3\n"
     ]
    },
    {
     "name": "stdin",
     "output_type": "stream",
     "text": [
      "Enter a string: w\n"
     ]
    },
    {
     "name": "stdout",
     "output_type": "stream",
     "text": [
      "Empty String\n"
     ]
    }
   ],
   "source": [
    "for a in range(3):\n",
    "    a=(input('Enter a string:'))\n",
    "    if len(a)<2:\n",
    "        print('Empty String')\n",
    "    else:\n",
    "        b=a[:2]\n",
    "        c=a[-2:]\n",
    "        print(b+c)"
   ]
  },
  {
   "cell_type": "code",
   "execution_count": 43,
   "id": "d8a3a69c-e0b4-491c-bf7d-48bb5000af8a",
   "metadata": {
    "tags": []
   },
   "outputs": [
    {
     "name": "stdout",
     "output_type": "stream",
     "text": [
      "resta$t\n"
     ]
    }
   ],
   "source": [
    "def char(str1):\n",
    "    ch=str1[0]\n",
    "    str1=str1.replace(ch,'$')\n",
    "    str1=ch+str1[1:]\n",
    "    return str1\n",
    "print(char('restart'))"
   ]
  },
  {
   "cell_type": "code",
   "execution_count": 44,
   "id": "f7faafce-e7cd-46f8-8fc2-caf64f769676",
   "metadata": {
    "tags": []
   },
   "outputs": [
    {
     "name": "stdin",
     "output_type": "stream",
     "text": [
      "Enter a string: restart\n"
     ]
    },
    {
     "name": "stdout",
     "output_type": "stream",
     "text": [
      "resta$t\n"
     ]
    }
   ],
   "source": [
    "str1=input('Enter a string:')\n",
    "ch=str1[0]\n",
    "str1=str1.replace(ch,'$')\n",
    "str1=ch+str1[1:]\n",
    "print(str1)"
   ]
  },
  {
   "cell_type": "code",
   "execution_count": 58,
   "id": "6f53d87a-7e3b-4a7a-b411-1b0b9fd3f1bd",
   "metadata": {
    "tags": []
   },
   "outputs": [
    {
     "name": "stdout",
     "output_type": "stream",
     "text": [
      "xyc abz\n"
     ]
    }
   ],
   "source": [
    "a='abc'\n",
    "b='xyz'\n",
    "c=a.replace(a[:2],b[:2])\n",
    "d=b.replace(b[:2],a[:2])\n",
    "print(c,d)"
   ]
  },
  {
   "cell_type": "code",
   "execution_count": 70,
   "id": "2702b545-3f9a-4094-9d6c-c833bb07c6b0",
   "metadata": {
    "tags": []
   },
   "outputs": [
    {
     "name": "stdin",
     "output_type": "stream",
     "text": [
      "Enter a string: string\n"
     ]
    },
    {
     "name": "stdout",
     "output_type": "stream",
     "text": [
      "stringly\n"
     ]
    }
   ],
   "source": [
    "a=input('Enter a string:')\n",
    "if len(a)<3:\n",
    "    print(a)\n",
    "elif a[-3::1]=='ing':\n",
    "    print(a+'ly')\n",
    "else:\n",
    "    print(a+'ing')"
   ]
  },
  {
   "cell_type": "code",
   "execution_count": 106,
   "id": "b3223c65-bc85-45c3-a4e6-8b8250eecdb5",
   "metadata": {
    "tags": []
   },
   "outputs": [
    {
     "name": "stdin",
     "output_type": "stream",
     "text": [
      "Enter a string: abci\n"
     ]
    },
    {
     "name": "stdout",
     "output_type": "stream",
     "text": [
      "abciing\n"
     ]
    }
   ],
   "source": [
    "def st(a):\n",
    "    if len(a)<3:\n",
    "        return a\n",
    "    elif a[-3::1]=='ing':\n",
    "        return (a+'ly')\n",
    "    else:\n",
    "        return (a+'ing')\n",
    "print((st(input('Enter a string:'))))"
   ]
  },
  {
   "cell_type": "code",
   "execution_count": 120,
   "id": "9e9e5508-eb64-48ee-a8b8-39eeaea66179",
   "metadata": {
    "tags": []
   },
   "outputs": [
    {
     "name": "stdout",
     "output_type": "stream",
     "text": [
      "'The lyrics is good!'\n",
      "'The lyrics is poor!'\n"
     ]
    }
   ],
   "source": [
    "a=\"\"\"'The lyrics is not that poor!'\n",
    "'The lyrics is poor!'\"\"\"\n",
    "if 'not' in a:\n",
    "    print(a.replace('not that poor','good'))\n",
    "else:\n",
    "    print(a)"
   ]
  },
  {
   "cell_type": "code",
   "execution_count": 127,
   "id": "c28e76a1-c76c-480a-892f-b75e281ec988",
   "metadata": {
    "tags": []
   },
   "outputs": [
    {
     "name": "stdout",
     "output_type": "stream",
     "text": [
      "The lyrics is good!\n",
      "The lyrics is poor!\n"
     ]
    }
   ],
   "source": [
    "def not_poor(str1):\n",
    "    snot=str1.find('not')\n",
    "    spoor=str1.find('poor')\n",
    "    if spoor>snot and snot>0 and spoor>0:\n",
    "        str1=str1.replace(str1[snot:(spoor+4)], 'good')\n",
    "        return str1\n",
    "    else:\n",
    "        return str1\n",
    "print(not_poor('The lyrics is not that poor!'))\n",
    "print(not_poor('The lyrics is poor!'))"
   ]
  },
  {
   "cell_type": "code",
   "execution_count": 151,
   "id": "c54705fa-2aa9-4200-b5d9-34544a1e9ebd",
   "metadata": {
    "tags": []
   },
   "outputs": [
    {
     "name": "stdout",
     "output_type": "stream",
     "text": [
      "[(5, 'apple'), (5, 'mango'), (6, 'banana'), (6, 'orange'), (9, 'pineapple')]\n",
      "Longest word:  pineapple\n",
      "Length of the longest word:  9\n",
      "(9, 'pineapple')\n"
     ]
    }
   ],
   "source": [
    "def long(str1):\n",
    "    word_len=[]\n",
    "    for n in str1:\n",
    "        word_len.append((len(n),n))\n",
    "    word_len.sort()\n",
    "    print(word_len)\n",
    "    return word_len[-1][0], word_len[-1][1]\n",
    "result=long(['apple','mango','orange','pineapple','banana'])\n",
    "print('Longest word: ',result[1])\n",
    "print('Length of the longest word: ',result[0])\n",
    "print(result)\n",
    "        "
   ]
  },
  {
   "cell_type": "code",
   "execution_count": 3,
   "id": "c4bf7350-008a-4cc6-a57f-e5b728d50569",
   "metadata": {},
   "outputs": [
    {
     "name": "stdout",
     "output_type": "stream",
     "text": [
      "ython\n",
      "Pyton\n",
      "Pytho\n"
     ]
    }
   ],
   "source": [
    "def remove_char(str1,n):\n",
    "    srem=str1[:n]\n",
    "    srem1=str1[n+1:]\n",
    "    return srem+srem1\n",
    "print(remove_char('Python',0))\n",
    "print(remove_char('Python',3))\n",
    "print(remove_char('Python',5))"
   ]
  },
  {
   "cell_type": "code",
   "execution_count": 19,
   "id": "1a9b0cbc-ceb2-45c6-8ea7-c8cdac10de23",
   "metadata": {
    "tags": []
   },
   "outputs": [
    {
     "name": "stdout",
     "output_type": "stream",
     "text": [
      "pawan   yadav\n",
      "vadav\n"
     ]
    }
   ],
   "source": [
    "def str_char(str1,str2):\n",
    "    print(str1,\" \",str2)\n",
    "    st=str1.replace(str1,str2)\n",
    "    s=st.replace(st[0],st[-1])\n",
    "    return s\n",
    "print(str_char('pawan','yadav'))"
   ]
  },
  {
   "cell_type": "code",
   "execution_count": 38,
   "id": "99d2f621-2ca3-47a5-bed8-28483bfe921e",
   "metadata": {
    "tags": []
   },
   "outputs": [
    {
     "name": "stdout",
     "output_type": "stream",
     "text": [
      "Pawan\n"
     ]
    },
    {
     "name": "stdin",
     "output_type": "stream",
     "text": [
      "Enter another string: yadav\n"
     ]
    },
    {
     "name": "stdout",
     "output_type": "stream",
     "text": [
      "yadav\n"
     ]
    },
    {
     "data": {
      "text/plain": [
       "'vaday'"
      ]
     },
     "execution_count": 38,
     "metadata": {},
     "output_type": "execute_result"
    }
   ],
   "source": [
    "a='Pawan'\n",
    "print(a)\n",
    "b=input('Enter another string:')\n",
    "x=a.replace(a,b)\n",
    "y=x[-1]+x[1:-1]+x[0]\n",
    "print(x)\n",
    "y"
   ]
  },
  {
   "cell_type": "code",
   "execution_count": 36,
   "id": "211f9ff4-aeca-4ced-a0fc-b7e1867e3786",
   "metadata": {
    "tags": []
   },
   "outputs": [
    {
     "name": "stdout",
     "output_type": "stream",
     "text": [
      "nawap\n",
      "52341\n"
     ]
    }
   ],
   "source": [
    "def st(str1):\n",
    "    return str1[-1]+str1[1:-1]+str1[0]\n",
    "print(st('pawan'))\n",
    "print(st('12345'))"
   ]
  },
  {
   "cell_type": "code",
   "execution_count": 39,
   "id": "30d36562-3234-4391-b038-8dd7cb54d028",
   "metadata": {
    "tags": []
   },
   "outputs": [
    {
     "name": "stdout",
     "output_type": "stream",
     "text": [
      "PwnYdv\n"
     ]
    }
   ],
   "source": [
    "def odd(str1):\n",
    "    return str1[0::2]\n",
    "print(odd('Pawan Yadav'))"
   ]
  },
  {
   "cell_type": "code",
   "execution_count": 40,
   "id": "aec70528-f386-4861-9f5f-c6496652c185",
   "metadata": {
    "tags": []
   },
   "outputs": [
    {
     "name": "stdin",
     "output_type": "stream",
     "text": [
      "Enter a string: PAWAN YADAV\n"
     ]
    },
    {
     "name": "stdout",
     "output_type": "stream",
     "text": [
      "PWNYDV\n"
     ]
    }
   ],
   "source": [
    "x=input('Enter a string:')\n",
    "print(x[0::2])"
   ]
  },
  {
   "cell_type": "code",
   "execution_count": 50,
   "id": "1c5e1369-5d08-4308-a2dc-89f094292b2b",
   "metadata": {
    "tags": []
   },
   "outputs": [
    {
     "name": "stdout",
     "output_type": "stream",
     "text": [
      "('the quick brown fox jumps over the lazy dog', ['the', 'quick', 'brown', 'fox', 'jumps', 'over', 'the', 'lazy', 'dog'], {'the': 2, 'quick': 1, 'brown': 1, 'fox': 1, 'jumps': 1, 'over': 1, 'lazy': 1, 'dog': 1})\n"
     ]
    }
   ],
   "source": [
    "def occur(str1):\n",
    "    counts=dict()\n",
    "    words=str1.split()\n",
    "    for word in words:\n",
    "        if word in counts:\n",
    "            counts[word]+=1\n",
    "        else:\n",
    "            counts[word]=1\n",
    "    return str1,words,counts\n",
    "print(occur('the quick brown fox jumps over the lazy dog'))\n",
    "        "
   ]
  },
  {
   "cell_type": "code",
   "execution_count": 53,
   "id": "efeee4d5-4b3c-480e-9b3b-80aefc4c69df",
   "metadata": {
    "tags": []
   },
   "outputs": [
    {
     "name": "stdin",
     "output_type": "stream",
     "text": [
      "Enter your response: the quick brown fox jumps over the lazy dog\n"
     ]
    },
    {
     "name": "stdout",
     "output_type": "stream",
     "text": [
      "THE QUICK BROWN FOX JUMPS OVER THE LAZY DOG\n",
      "the quick brown fox jumps over the lazy dog\n"
     ]
    }
   ],
   "source": [
    "str1=input('Enter your response:')\n",
    "print(str1.upper())\n",
    "print(str1.lower())"
   ]
  },
  {
   "cell_type": "code",
   "execution_count": 68,
   "id": "fd4d4e22-c3e0-4f4d-9b0e-a9313e18a65c",
   "metadata": {
    "tags": []
   },
   "outputs": [
    {
     "name": "stdin",
     "output_type": "stream",
     "text": [
      "Enter comma-separated sequence: red,black,blue,green,white,pink\n"
     ]
    },
    {
     "name": "stdout",
     "output_type": "stream",
     "text": [
      "black,blue,green,pink,red,white\n"
     ]
    }
   ],
   "source": [
    "a=input('Enter comma-separated sequence:')\n",
    "b= [word for word in a.split(',')]\n",
    "print(','.join(sorted(list(set(b)))))"
   ]
  },
  {
   "cell_type": "code",
   "execution_count": 69,
   "id": "3ff7d021-263c-4b05-b017-12d4aabc31ff",
   "metadata": {
    "tags": []
   },
   "outputs": [
    {
     "name": "stdout",
     "output_type": "stream",
     "text": [
      "<i>python</i>\n"
     ]
    }
   ],
   "source": [
    "def html_tag(tags,word):\n",
    "    x='<'+tags+'>'+word+'</'+tags+'>'\n",
    "    return x\n",
    "print(html_tag('i','python'))"
   ]
  },
  {
   "cell_type": "code",
   "execution_count": 71,
   "id": "369c5296-6441-4c5d-b4ba-7628d9abd246",
   "metadata": {
    "tags": []
   },
   "outputs": [
    {
     "name": "stdout",
     "output_type": "stream",
     "text": [
      "<i>python</i>\n"
     ]
    }
   ],
   "source": [
    "def html_tag(tags,word):\n",
    "    return '<%s>%s</%s>'%(tags,word,tags)\n",
    "print(html_tag('i','python'))"
   ]
  },
  {
   "cell_type": "code",
   "execution_count": 77,
   "id": "0c94f891-a317-44af-9d15-319f8fa1881d",
   "metadata": {
    "tags": []
   },
   "outputs": [
    {
     "name": "stdout",
     "output_type": "stream",
     "text": [
      "[[PYTHON]]\n",
      "{{PHP}}\n",
      "<<HTML>>\n"
     ]
    }
   ],
   "source": [
    "def nested_string(str1,str2):\n",
    "    return str1[:2]+str2+str1[2:]\n",
    "print(nested_string('''[[]]''','PYTHON'))\n",
    "print(nested_string('''{{}}''','PHP'))\n",
    "print(nested_string('''<<>>''','HTML'))"
   ]
  },
  {
   "cell_type": "code",
   "execution_count": 79,
   "id": "d116415c-77d7-4226-b08e-0fdb73926481",
   "metadata": {
    "tags": []
   },
   "outputs": [
    {
     "name": "stdout",
     "output_type": "stream",
     "text": [
      "onononon\n",
      "eseseses\n"
     ]
    }
   ],
   "source": [
    "def multiple_char(str1):\n",
    "    return str1[-2::1]*4\n",
    "print(multiple_char('Python'))\n",
    "print(multiple_char('Exercises'))"
   ]
  },
  {
   "cell_type": "code",
   "execution_count": 86,
   "id": "5dc3e416-e264-4d75-aa83-b2bf0adb6b6e",
   "metadata": {
    "tags": []
   },
   "outputs": [
    {
     "name": "stdout",
     "output_type": "stream",
     "text": [
      "py\n",
      "pyt\n",
      "ipy\n"
     ]
    }
   ],
   "source": [
    "def first_three(str1):\n",
    "    if len(str1)<3:\n",
    "        return (str1)\n",
    "    else:\n",
    "        return (str1[:3])\n",
    "print(first_three('py'))\n",
    "print(first_three('python'))\n",
    "print(first_three('ipy'))"
   ]
  },
  {
   "cell_type": "code",
   "execution_count": 97,
   "id": "e12c3d96-953a-428a-aa53-8322e46d17e8",
   "metadata": {
    "tags": []
   },
   "outputs": [
    {
     "name": "stdout",
     "output_type": "stream",
     "text": [
      "https://www.w3resource.com/python-exercises\n",
      "https://www.w3resource.com/python\n"
     ]
    }
   ],
   "source": [
    "str1='https://www.w3resource.com/python-exercises/string'\n",
    "print(str1.rsplit('/',1)[0])\n",
    "print(str1.rsplit('-',1)[0])"
   ]
  },
  {
   "cell_type": "code",
   "execution_count": 107,
   "id": "eee70671-87f6-4a01-a0c8-c8f9e1ec6597",
   "metadata": {
    "tags": []
   },
   "outputs": [
    {
     "name": "stdout",
     "output_type": "stream",
     "text": [
      "sinohtyP\n",
      "htyP\n"
     ]
    }
   ],
   "source": [
    "def reverse_string(str1):\n",
    "    if len(str1)%4==0:\n",
    "        return str1[-1::-1]\n",
    "    else:\n",
    "        return str1\n",
    "print(reverse_string('Pythonis'))\n",
    "print(reverse_string('Pyth'))"
   ]
  },
  {
   "cell_type": "code",
   "execution_count": 108,
   "id": "2a94e2a5-9a76-4cc5-93bb-6936d906b0a7",
   "metadata": {
    "tags": []
   },
   "outputs": [
    {
     "name": "stdout",
     "output_type": "stream",
     "text": [
      "PYTHON\n",
      "pythOn\n"
     ]
    }
   ],
   "source": [
    "def upperc(str1):\n",
    "    num=0\n",
    "    for letter in str1[:4]:\n",
    "        if letter.upper()==letter:\n",
    "            num+=1\n",
    "    if num>=2:\n",
    "        return str1.upper()\n",
    "    return str1\n",
    "print(upperc('PyThon'))\n",
    "print(upperc('pythOn'))"
   ]
  },
  {
   "cell_type": "code",
   "execution_count": 120,
   "id": "12e80c63-600d-4a84-892a-602a7c03b47a",
   "metadata": {
    "tags": []
   },
   "outputs": [
    {
     "name": "stdout",
     "output_type": "stream",
     "text": [
      "['3', 'c', 'e', 'e', 'o', 'r', 'r', 's', 'u', 'W']\n",
      "['b', 'c', 'i', 'k', 'n', 'o', 'q', 'r', 'u', 'w']\n"
     ]
    }
   ],
   "source": [
    "def lexicographically(str1):\n",
    "    return sorted((str1),key=str.upper)\n",
    "print(lexicographically('W3resource'))\n",
    "print(lexicographically('quickbrown'))"
   ]
  },
  {
   "cell_type": "code",
   "execution_count": 123,
   "id": "d00d2b64-e5b2-40c8-99f2-004bf98683c6",
   "metadata": {
    "tags": []
   },
   "outputs": [
    {
     "name": "stdout",
     "output_type": "stream",
     "text": [
      "Python Exercise\n",
      "\n",
      "Python Exercise\n"
     ]
    }
   ],
   "source": [
    "str1='Python Exercise\\n'\n",
    "print(str1)\n",
    "print(str1.rstrip())"
   ]
  },
  {
   "cell_type": "code",
   "execution_count": 124,
   "id": "8d5d7b37-c2ab-4fa1-9c9c-4cdcc6fedc84",
   "metadata": {
    "tags": []
   },
   "outputs": [
    {
     "name": "stdout",
     "output_type": "stream",
     "text": [
      "True\n"
     ]
    }
   ],
   "source": [
    "str1='W3resources'\n",
    "print(str1.startswith('W3r'))"
   ]
  },
  {
   "cell_type": "code",
   "execution_count": 142,
   "id": "cf25c0dc-8b36-468e-be8a-29f60247ea42",
   "metadata": {
    "tags": []
   },
   "outputs": [
    {
     "name": "stdout",
     "output_type": "stream",
     "text": [
      "['d', 'e', 'f']\n"
     ]
    }
   ],
   "source": [
    "def caesar_encryption(str1,step):\n",
    "    outText=[]\n",
    "    crypt=[]\n",
    "    uppercase=['A','B','C','D','E','F','G','H','I','J','K','L','M','N''O','P','Q','R','S','T','U','V','W','X','Y','Z']\n",
    "    lowercase=['a','b','c','d','e','f','g','h','i','j','k','l','m','n''o','p','q','r','s','t','u','v','w','x','y','z']\n",
    "    for eachletter in str1:\n",
    "        if eachletter in uppercase:\n",
    "            index=uppercase.index(eachletter)\n",
    "            crypting=(index+step)%26\n",
    "            crypt.append(crypting)\n",
    "            newletter=uppercase[crypting]\n",
    "            outText.append(newletter)\n",
    "        elif eachletter in lowercase:\n",
    "            index=lowercase.index(eachletter)\n",
    "            crypting=(index+step)%26\n",
    "            crypt.append(crypting)\n",
    "            newletter=lowercase[crypting]\n",
    "            outText.append(newletter)\n",
    "    return outText\n",
    "code=caesar_encryption('abc',3)\n",
    "print(code)"
   ]
  },
  {
   "cell_type": "code",
   "execution_count": 165,
   "id": "2f5f5067-f8eb-4e1b-941a-d95a4f509936",
   "metadata": {
    "tags": []
   },
   "outputs": [
    {
     "name": "stdin",
     "output_type": "stream",
     "text": [
      "Enter Your Personal Details: pawan yadav\n"
     ]
    },
    {
     "name": "stdout",
     "output_type": "stream",
     "text": [
      "The Encrpyt code is: ['s', 'd', 'z', 'd', 'q', 'b', 'd', 'g', 'd', 'y']\n",
      "The Decrpyt code is: ['p', 'a', 'w', 'a', 'n', 'y', 'a', 'd', 'a', 'v']\n"
     ]
    }
   ],
   "source": [
    "def caesar_encryption(str1,step):\n",
    "    o=[]\n",
    "    c=[]\n",
    "    p=[]\n",
    "    m=[]\n",
    "    uppercase=['A','B','C','D','E','F','G','H','I','J','K','L','M','N''O','P','Q','R','S','T','U','V','W','X','Y','Z']\n",
    "    lowercase=['a','b','c','d','e','f','g','h','i','j','k','l','m','n','o','p','q','r','s','t','u','v','w','x','y','z']\n",
    "    for eachletter in str1:\n",
    "        if eachletter in uppercase:\n",
    "            i=uppercase.index(eachletter)\n",
    "            cr=(i+step)%26\n",
    "            c.append(cr)\n",
    "            n=uppercase[cr]\n",
    "            o.append(n)\n",
    "        elif eachletter in lowercase:\n",
    "            i=lowercase.index(eachletter)\n",
    "            cr=(i+step)%26\n",
    "            c.append(cr)\n",
    "            n=lowercase[cr]\n",
    "            o.append(n)\n",
    "    for eachletter in o:\n",
    "        if eachletter in uppercase:\n",
    "            i=uppercase.index(eachletter)\n",
    "            cr=(i-step)%26\n",
    "            m.append(cr)\n",
    "            n=uppercase[cr]\n",
    "            p.append(n)\n",
    "        elif eachletter in lowercase:\n",
    "            i=lowercase.index(eachletter)\n",
    "            cr=(i-step)%26\n",
    "            m.append(cr)\n",
    "            n=lowercase[cr]\n",
    "            p.append(n)\n",
    "    return print('The Encrpyt code is:',o),print('The Decrpyt code is:',p)\n",
    "code=caesar_encryption(input('Enter Your Personal Details:'),3)"
   ]
  },
  {
   "cell_type": "code",
   "execution_count": 179,
   "id": "89007219-c3bf-4c10-87b3-dc7ef29a8f73",
   "metadata": {
    "tags": []
   },
   "outputs": [
    {
     "name": "stdout",
     "output_type": "stream",
     "text": [
      "Python is a widely used high-level, general-\n",
      "purpose, interpreted,   dynamic programming\n",
      "language. Its design philosophy emphasizes   code\n",
      "readability, and its syntax allows programmers to\n",
      "express   concepts in fewer lines of code than\n",
      "possible in languages such   as C++ or Java.\n"
     ]
    }
   ],
   "source": [
    "import textwrap\n",
    "text='''Python is a widely used high-level, general-purpose, interpreted,\n",
    "  dynamic programming language. Its design philosophy emphasizes\n",
    "  code readability, and its syntax allows programmers to express\n",
    "  concepts in fewer lines of code than possible in languages such\n",
    "  as C++ or Java.'''\n",
    "print(textwrap.fill(text,width=50))"
   ]
  },
  {
   "cell_type": "code",
   "execution_count": 183,
   "id": "411334ca-fa37-4842-870a-e6ceb3e24547",
   "metadata": {
    "tags": []
   },
   "outputs": [
    {
     "name": "stdout",
     "output_type": "stream",
     "text": [
      "\n",
      "Python is a widely used high-level, general-purpose, interpreted,\n",
      "dynamic programming language. Its design philosophy emphasizes\n",
      "code readability, and its syntax allows programmers to express\n",
      "concepts in fewer lines of code than possible in languages such\n",
      "as C++ or Java.\n",
      "\n"
     ]
    }
   ],
   "source": [
    "import textwrap\n",
    "text='''\n",
    "  Python is a widely used high-level, general-purpose, interpreted,\n",
    "  dynamic programming language. Its design philosophy emphasizes\n",
    "  code readability, and its syntax allows programmers to express\n",
    "  concepts in fewer lines of code than possible in languages such\n",
    "  as C++ or Java.\n",
    "  '''\n",
    "print(textwrap.dedent(text))"
   ]
  },
  {
   "cell_type": "code",
   "execution_count": 184,
   "id": "15f89261-7673-4fb5-bb54-1276a52c93eb",
   "metadata": {
    "tags": []
   },
   "outputs": [
    {
     "name": "stdout",
     "output_type": "stream",
     "text": [
      "\n",
      ">  Python is a widely used high-level, general-purpose, interpreted,\n",
      ">  dynamic programming language. Its design philosophy emphasizes\n",
      ">  code readability, and its syntax allows programmers to express\n",
      ">  concepts in fewer lines of code than possible in languages such\n",
      ">  as C++ or Java.\n",
      "  \n"
     ]
    }
   ],
   "source": [
    "import textwrap\n",
    "text='''\n",
    "  Python is a widely used high-level, general-purpose, interpreted,\n",
    "  dynamic programming language. Its design philosophy emphasizes\n",
    "  code readability, and its syntax allows programmers to express\n",
    "  concepts in fewer lines of code than possible in languages such\n",
    "  as C++ or Java.\n",
    "  '''\n",
    "print(textwrap.indent(text,'>'))"
   ]
  },
  {
   "cell_type": "code",
   "execution_count": 201,
   "id": "02f95a4a-5697-425f-899d-000cf66a978b",
   "metadata": {
    "tags": []
   },
   "outputs": [
    {
     "name": "stdout",
     "output_type": "stream",
     "text": [
      "Python is a widely used high-level, general-purpose, interpreted,\n",
      "    dynamic programming language. Its design philosophy emphasizes\n",
      "    code readability, and its syntax allows programmers to express\n",
      "    concepts in fewer lines of code than possible in languages such\n",
      "    as C++ or Java.\n"
     ]
    }
   ],
   "source": [
    "import textwrap\n",
    "text='''\n",
    "           Python is a widely used high-level, general-purpose, interpreted,\n",
    "  dynamic programming language. Its design philosophy emphasizes\n",
    "  code readability, and its syntax allows programmers to express\n",
    "  concepts in fewer lines of code than possible in languages such\n",
    "  as C++ or Java.      \n",
    "  '''\n",
    "p=textwrap.dedent(text).strip()\n",
    "print(textwrap.fill(p,initial_indent='',subsequent_indent=' '*4,width=68))"
   ]
  },
  {
   "cell_type": "code",
   "execution_count": 204,
   "id": "0ba96de8-2a1d-4d4e-904b-783f543d2ff7",
   "metadata": {
    "tags": []
   },
   "outputs": [
    {
     "name": "stdin",
     "output_type": "stream",
     "text": [
      "Enter a number: 3.1415926\n"
     ]
    },
    {
     "name": "stdout",
     "output_type": "stream",
     "text": [
      "Original number: 3.1415926\n",
      "Formatted number:3.14\n"
     ]
    },
    {
     "name": "stdin",
     "output_type": "stream",
     "text": [
      "Enter a number: 12.9999\n"
     ]
    },
    {
     "name": "stdout",
     "output_type": "stream",
     "text": [
      "Original number: 12.9999\n",
      "Formatted number:13.00\n"
     ]
    }
   ],
   "source": [
    "for x in range(2):\n",
    "    x=eval(input('Enter a number:'))\n",
    "    print('Original number:',x)\n",
    "    print('Formatted number:'+\"{:.2f}\".format(x))"
   ]
  },
  {
   "cell_type": "code",
   "execution_count": 208,
   "id": "2aa29e9f-fd74-4a4a-8117-79f70b5663a2",
   "metadata": {
    "tags": []
   },
   "outputs": [
    {
     "name": "stdin",
     "output_type": "stream",
     "text": [
      "Enter a number: 3\n"
     ]
    },
    {
     "name": "stdout",
     "output_type": "stream",
     "text": [
      "Original number: 3\n",
      "Formatted number:+3.00\n"
     ]
    },
    {
     "name": "stdin",
     "output_type": "stream",
     "text": [
      "Enter a number: -31.2256\n"
     ]
    },
    {
     "name": "stdout",
     "output_type": "stream",
     "text": [
      "Original number: -31.2256\n",
      "Formatted number:-31.23\n"
     ]
    }
   ],
   "source": [
    "for x in range(2):\n",
    "    x=eval(input('Enter a number:'))\n",
    "    print('Original number:',x)\n",
    "    print('Formatted number:'+\"{:+.2f}\".format(x))"
   ]
  },
  {
   "cell_type": "code",
   "execution_count": 209,
   "id": "450310d3-4e54-4e95-866a-2e6543f21c5a",
   "metadata": {
    "tags": []
   },
   "outputs": [
    {
     "name": "stdin",
     "output_type": "stream",
     "text": [
      "Enter a number: 3.1415926\n"
     ]
    },
    {
     "name": "stdout",
     "output_type": "stream",
     "text": [
      "Original number: 3.1415926\n",
      "Formatted number:+3\n"
     ]
    },
    {
     "name": "stdin",
     "output_type": "stream",
     "text": [
      "Enter a number: -12.9999999\n"
     ]
    },
    {
     "name": "stdout",
     "output_type": "stream",
     "text": [
      "Original number: -12.9999999\n",
      "Formatted number:-13\n"
     ]
    }
   ],
   "source": [
    "for x in range(2):\n",
    "    x=eval(input('Enter a number:'))\n",
    "    print('Original number:',x)\n",
    "    print('Formatted number:'+\"{:+.0f}\".format(x))"
   ]
  },
  {
   "cell_type": "code",
   "execution_count": 217,
   "id": "e1ce86de-fe0c-448d-a997-96acbfaff0b3",
   "metadata": {
    "tags": []
   },
   "outputs": [
    {
     "name": "stdin",
     "output_type": "stream",
     "text": [
      "Enter a number: 3\n"
     ]
    },
    {
     "name": "stdout",
     "output_type": "stream",
     "text": [
      "Original number: 3\n",
      "Formatted number:(left padding, width 2): 03\n"
     ]
    }
   ],
   "source": [
    "for x in range(1):\n",
    "    x=eval(input('Enter a number:'))\n",
    "    print('Original number:',x)\n",
    "    print('Formatted number:(left padding, width 2): '+\"{:0>2d}\".format(x))"
   ]
  },
  {
   "cell_type": "code",
   "execution_count": 218,
   "id": "7e7e8093-78f3-47ac-837d-b4c13d25a391",
   "metadata": {
    "tags": []
   },
   "outputs": [
    {
     "name": "stdin",
     "output_type": "stream",
     "text": [
      "Enter a number: 123\n"
     ]
    },
    {
     "name": "stdout",
     "output_type": "stream",
     "text": [
      "Original number: 123\n",
      "Formatted number:(left padding, width 2): 000123\n"
     ]
    }
   ],
   "source": [
    "for x in range(1):\n",
    "    x=eval(input('Enter a number:'))\n",
    "    print('Original number:',x)\n",
    "    print('Formatted number:(left padding, width 2): '+\"{:0>6d}\".format(x))"
   ]
  },
  {
   "cell_type": "code",
   "execution_count": 220,
   "id": "cef27b54-782b-4018-b176-32bb843fcb86",
   "metadata": {
    "tags": []
   },
   "outputs": [
    {
     "name": "stdin",
     "output_type": "stream",
     "text": [
      "Enter a number: 123\n"
     ]
    },
    {
     "name": "stdout",
     "output_type": "stream",
     "text": [
      "Original number: 123\n",
      "Formatted number:(left padding, width 2): 123***\n"
     ]
    }
   ],
   "source": [
    "for x in range(1):\n",
    "    x=eval(input('Enter a number:'))\n",
    "    print('Original number:',x)\n",
    "    print('Formatted number:(left padding, width 2): '+\"{:*<6d}\".format(x))"
   ]
  },
  {
   "cell_type": "code",
   "execution_count": 222,
   "id": "1a5f805a-00c4-4bda-a2b9-842b66e1afaf",
   "metadata": {
    "tags": []
   },
   "outputs": [
    {
     "name": "stdin",
     "output_type": "stream",
     "text": [
      "Enter a number: 3\n"
     ]
    },
    {
     "name": "stdout",
     "output_type": "stream",
     "text": [
      "Original number: 3\n",
      "Formatted number:(left padding, width 2): 3*\n"
     ]
    }
   ],
   "source": [
    "for x in range(1):\n",
    "    x=eval(input('Enter a number:'))\n",
    "    print('Original number:',x)\n",
    "    print('Formatted number:(left padding, width 2): '+\"{:*<2d}\".format(x))"
   ]
  },
  {
   "cell_type": "code",
   "execution_count": 227,
   "id": "a8769760-c573-4647-8832-c53169aff3d6",
   "metadata": {
    "tags": []
   },
   "outputs": [
    {
     "name": "stdin",
     "output_type": "stream",
     "text": [
      "Enter a number above 1000: 100\n"
     ]
    },
    {
     "name": "stdout",
     "output_type": "stream",
     "text": [
      "Original number: 100\n",
      "Comma Separator number:100\n"
     ]
    }
   ],
   "source": [
    "x=int(input('Enter a number above 1000:'))\n",
    "print('Original number:',x)\n",
    "print('Comma Separator number:'+'{:,}'.format(x))"
   ]
  },
  {
   "cell_type": "code",
   "execution_count": 225,
   "id": "b2291447-66da-49ba-9784-75553aa627e0",
   "metadata": {
    "tags": []
   },
   "outputs": [
    {
     "name": "stdin",
     "output_type": "stream",
     "text": [
      "Enter a number above 1000: 1000\n"
     ]
    },
    {
     "name": "stdout",
     "output_type": "stream",
     "text": [
      "Original number: 1000\n",
      "Comma Separator number:1,000\n"
     ]
    },
    {
     "name": "stdin",
     "output_type": "stream",
     "text": [
      "Enter a number above 1000: 10000\n"
     ]
    },
    {
     "name": "stdout",
     "output_type": "stream",
     "text": [
      "Original number: 10000\n",
      "Comma Separator number:10,000\n"
     ]
    },
    {
     "name": "stdin",
     "output_type": "stream",
     "text": [
      "Enter a number above 1000: 1000000\n"
     ]
    },
    {
     "name": "stdout",
     "output_type": "stream",
     "text": [
      "Original number: 1000000\n",
      "Comma Separator number:1,000,000\n"
     ]
    },
    {
     "name": "stdin",
     "output_type": "stream",
     "text": [
      "Enter a number above 1000: 10000000\n"
     ]
    },
    {
     "name": "stdout",
     "output_type": "stream",
     "text": [
      "Original number: 10000000\n",
      "Comma Separator number:10,000,000\n"
     ]
    },
    {
     "name": "stdin",
     "output_type": "stream",
     "text": [
      "Enter a number above 1000: 100000000\n"
     ]
    },
    {
     "name": "stdout",
     "output_type": "stream",
     "text": [
      "Original number: 100000000\n",
      "Comma Separator number:100,000,000\n"
     ]
    }
   ],
   "source": [
    "for x in range (5):\n",
    "    x=int(input('Enter a number above 1000:'))\n",
    "    print('Original number:',x)\n",
    "    print('Comma Separator number:'+'{:,}'.format(x))"
   ]
  },
  {
   "cell_type": "code",
   "execution_count": 241,
   "id": "2355fa10-f463-4312-90bd-98619b922b32",
   "metadata": {
    "tags": []
   },
   "outputs": [
    {
     "name": "stdin",
     "output_type": "stream",
     "text": [
      "Enter a number : 10\n"
     ]
    },
    {
     "name": "stdout",
     "output_type": "stream",
     "text": [
      "Original number: 10\n",
      "Comma Separator number:1000.00%\n"
     ]
    },
    {
     "name": "stdin",
     "output_type": "stream",
     "text": [
      "Enter a number : 0.1\n"
     ]
    },
    {
     "name": "stdout",
     "output_type": "stream",
     "text": [
      "Original number: 0.1\n",
      "Comma Separator number:10.00%\n"
     ]
    }
   ],
   "source": [
    "for x in range(2):\n",
    "    x=eval(input('Enter a number :'))\n",
    "    print('Original number:',x)\n",
    "    print('Comma Separator number:'+'{:.2%}'.format(x))"
   ]
  },
  {
   "cell_type": "code",
   "execution_count": null,
   "id": "cc0ea0cb-2c65-4214-a7c3-76cce556c2f3",
   "metadata": {},
   "outputs": [],
   "source": []
  }
 ],
 "metadata": {
  "kernelspec": {
   "display_name": "Python 3 (ipykernel)",
   "language": "python",
   "name": "python3"
  },
  "language_info": {
   "codemirror_mode": {
    "name": "ipython",
    "version": 3
   },
   "file_extension": ".py",
   "mimetype": "text/x-python",
   "name": "python",
   "nbconvert_exporter": "python",
   "pygments_lexer": "ipython3",
   "version": "3.11.3"
  }
 },
 "nbformat": 4,
 "nbformat_minor": 5
}
