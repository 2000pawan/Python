{
 "cells": [
  {
   "cell_type": "code",
   "execution_count": 3,
   "id": "782e98b2-0462-4c59-b7c0-71839b89eb26",
   "metadata": {},
   "outputs": [
    {
     "name": "stdout",
     "output_type": "stream",
     "text": [
      "16\n",
      "6\n",
      "11\n"
     ]
    }
   ],
   "source": [
    "a=('i am pawan yadav')\n",
    "b=('c','d','f','w','y','k')\n",
    "print(len(a))\n",
    "print(len(b))\n",
    "def str_count(str1):\n",
    "    count=0\n",
    "    for char in str1:\n",
    "        count+=1\n",
    "    return count\n",
    "print(str_count('Pawan Yadav'))"
   ]
  },
  {
   "cell_type": "code",
   "execution_count": 24,
   "id": "451cc9f0-2b00-4180-b87a-91ded18287ab",
   "metadata": {
    "tags": []
   },
   "outputs": [
    {
     "name": "stdout",
     "output_type": "stream",
     "text": [
      "{'g': 2, 'o': 3, 'l': 1, 'e': 1, '.': 1, 'c': 1, 'm': 1}\n"
     ]
    },
    {
     "name": "stdin",
     "output_type": "stream",
     "text": [
      "Enter somethings: google.in\n"
     ]
    },
    {
     "name": "stdout",
     "output_type": "stream",
     "text": [
      "{'g': 2, 'o': 2, 'l': 1, 'e': 1, '.': 1, 'i': 1, 'n': 1}\n"
     ]
    }
   ],
   "source": [
    "def char_count(str1):\n",
    "    dict={}\n",
    "    for i in str1:\n",
    "        keys=dict.keys()\n",
    "        if i in keys:\n",
    "            dict[i]+=1\n",
    "        else:\n",
    "            dict[i]=1\n",
    "    return dict\n",
    "print(char_count('google.com'))\n",
    "a=input('Enter somethings:')\n",
    "dict={}\n",
    "for i in a:\n",
    "    key=dict.keys()\n",
    "    if i  in key:\n",
    "        dict[i]+=1\n",
    "    else:\n",
    "        dict[i]=1\n",
    "print(dict)"
   ]
  },
  {
   "cell_type": "code",
   "execution_count": 40,
   "id": "1dfd9157-968a-4284-8506-ec9067b9d3f9",
   "metadata": {
    "tags": []
   },
   "outputs": [
    {
     "name": "stdin",
     "output_type": "stream",
     "text": [
      "Enter a string: w3resource\n"
     ]
    },
    {
     "name": "stdout",
     "output_type": "stream",
     "text": [
      "w3ce\n"
     ]
    },
    {
     "name": "stdin",
     "output_type": "stream",
     "text": [
      "Enter a string: w3\n"
     ]
    },
    {
     "name": "stdout",
     "output_type": "stream",
     "text": [
      "w3w3\n"
     ]
    },
    {
     "name": "stdin",
     "output_type": "stream",
     "text": [
      "Enter a string: w\n"
     ]
    },
    {
     "name": "stdout",
     "output_type": "stream",
     "text": [
      "Empty String\n"
     ]
    }
   ],
   "source": [
    "for a in range(3):\n",
    "    a=(input('Enter a string:'))\n",
    "    if len(a)<2:\n",
    "        print('Empty String')\n",
    "    else:\n",
    "        b=a[:2]\n",
    "        c=a[-2:]\n",
    "        print(b+c)"
   ]
  },
  {
   "cell_type": "code",
   "execution_count": 43,
   "id": "d8a3a69c-e0b4-491c-bf7d-48bb5000af8a",
   "metadata": {
    "tags": []
   },
   "outputs": [
    {
     "name": "stdout",
     "output_type": "stream",
     "text": [
      "resta$t\n"
     ]
    }
   ],
   "source": [
    "def char(str1):\n",
    "    ch=str1[0]\n",
    "    str1=str1.replace(ch,'$')\n",
    "    str1=ch+str1[1:]\n",
    "    return str1\n",
    "print(char('restart'))"
   ]
  },
  {
   "cell_type": "code",
   "execution_count": 44,
   "id": "f7faafce-e7cd-46f8-8fc2-caf64f769676",
   "metadata": {
    "tags": []
   },
   "outputs": [
    {
     "name": "stdin",
     "output_type": "stream",
     "text": [
      "Enter a string: restart\n"
     ]
    },
    {
     "name": "stdout",
     "output_type": "stream",
     "text": [
      "resta$t\n"
     ]
    }
   ],
   "source": [
    "str1=input('Enter a string:')\n",
    "ch=str1[0]\n",
    "str1=str1.replace(ch,'$')\n",
    "str1=ch+str1[1:]\n",
    "print(str1)"
   ]
  },
  {
   "cell_type": "code",
   "execution_count": 58,
   "id": "6f53d87a-7e3b-4a7a-b411-1b0b9fd3f1bd",
   "metadata": {
    "tags": []
   },
   "outputs": [
    {
     "name": "stdout",
     "output_type": "stream",
     "text": [
      "xyc abz\n"
     ]
    }
   ],
   "source": [
    "a='abc'\n",
    "b='xyz'\n",
    "c=a.replace(a[:2],b[:2])\n",
    "d=b.replace(b[:2],a[:2])\n",
    "print(c,d)"
   ]
  },
  {
   "cell_type": "code",
   "execution_count": 70,
   "id": "2702b545-3f9a-4094-9d6c-c833bb07c6b0",
   "metadata": {
    "tags": []
   },
   "outputs": [
    {
     "name": "stdin",
     "output_type": "stream",
     "text": [
      "Enter a string: string\n"
     ]
    },
    {
     "name": "stdout",
     "output_type": "stream",
     "text": [
      "stringly\n"
     ]
    }
   ],
   "source": [
    "a=input('Enter a string:')\n",
    "if len(a)<3:\n",
    "    print(a)\n",
    "elif a[-3::1]=='ing':\n",
    "    print(a+'ly')\n",
    "else:\n",
    "    print(a+'ing')"
   ]
  },
  {
   "cell_type": "code",
   "execution_count": 106,
   "id": "b3223c65-bc85-45c3-a4e6-8b8250eecdb5",
   "metadata": {
    "tags": []
   },
   "outputs": [
    {
     "name": "stdin",
     "output_type": "stream",
     "text": [
      "Enter a string: abci\n"
     ]
    },
    {
     "name": "stdout",
     "output_type": "stream",
     "text": [
      "abciing\n"
     ]
    }
   ],
   "source": [
    "def st(a):\n",
    "    if len(a)<3:\n",
    "        return a\n",
    "    elif a[-3::1]=='ing':\n",
    "        return (a+'ly')\n",
    "    else:\n",
    "        return (a+'ing')\n",
    "print((st(input('Enter a string:'))))"
   ]
  },
  {
   "cell_type": "code",
   "execution_count": 120,
   "id": "9e9e5508-eb64-48ee-a8b8-39eeaea66179",
   "metadata": {
    "tags": []
   },
   "outputs": [
    {
     "name": "stdout",
     "output_type": "stream",
     "text": [
      "'The lyrics is good!'\n",
      "'The lyrics is poor!'\n"
     ]
    }
   ],
   "source": [
    "a=\"\"\"'The lyrics is not that poor!'\n",
    "'The lyrics is poor!'\"\"\"\n",
    "if 'not' in a:\n",
    "    print(a.replace('not that poor','good'))\n",
    "else:\n",
    "    print(a)"
   ]
  },
  {
   "cell_type": "code",
   "execution_count": 127,
   "id": "c28e76a1-c76c-480a-892f-b75e281ec988",
   "metadata": {
    "tags": []
   },
   "outputs": [
    {
     "name": "stdout",
     "output_type": "stream",
     "text": [
      "The lyrics is good!\n",
      "The lyrics is poor!\n"
     ]
    }
   ],
   "source": [
    "def not_poor(str1):\n",
    "    snot=str1.find('not')\n",
    "    spoor=str1.find('poor')\n",
    "    if spoor>snot and snot>0 and spoor>0:\n",
    "        str1=str1.replace(str1[snot:(spoor+4)], 'good')\n",
    "        return str1\n",
    "    else:\n",
    "        return str1\n",
    "print(not_poor('The lyrics is not that poor!'))\n",
    "print(not_poor('The lyrics is poor!'))"
   ]
  },
  {
   "cell_type": "code",
   "execution_count": 151,
   "id": "c54705fa-2aa9-4200-b5d9-34544a1e9ebd",
   "metadata": {
    "tags": []
   },
   "outputs": [
    {
     "name": "stdout",
     "output_type": "stream",
     "text": [
      "[(5, 'apple'), (5, 'mango'), (6, 'banana'), (6, 'orange'), (9, 'pineapple')]\n",
      "Longest word:  pineapple\n",
      "Length of the longest word:  9\n",
      "(9, 'pineapple')\n"
     ]
    }
   ],
   "source": [
    "def long(str1):\n",
    "    word_len=[]\n",
    "    for n in str1:\n",
    "        word_len.append((len(n),n))\n",
    "    word_len.sort()\n",
    "    print(word_len)\n",
    "    return word_len[-1][0], word_len[-1][1]\n",
    "result=long(['apple','mango','orange','pineapple','banana'])\n",
    "print('Longest word: ',result[1])\n",
    "print('Length of the longest word: ',result[0])\n",
    "print(result)\n",
    "        "
   ]
  },
  {
   "cell_type": "code",
   "execution_count": 3,
   "id": "c4bf7350-008a-4cc6-a57f-e5b728d50569",
   "metadata": {},
   "outputs": [
    {
     "name": "stdout",
     "output_type": "stream",
     "text": [
      "ython\n",
      "Pyton\n",
      "Pytho\n"
     ]
    }
   ],
   "source": [
    "def remove_char(str1,n):\n",
    "    srem=str1[:n]\n",
    "    srem1=str1[n+1:]\n",
    "    return srem+srem1\n",
    "print(remove_char('Python',0))\n",
    "print(remove_char('Python',3))\n",
    "print(remove_char('Python',5))"
   ]
  },
  {
   "cell_type": "code",
   "execution_count": 19,
   "id": "1a9b0cbc-ceb2-45c6-8ea7-c8cdac10de23",
   "metadata": {
    "tags": []
   },
   "outputs": [
    {
     "name": "stdout",
     "output_type": "stream",
     "text": [
      "pawan   yadav\n",
      "vadav\n"
     ]
    }
   ],
   "source": [
    "def str_char(str1,str2):\n",
    "    print(str1,\" \",str2)\n",
    "    st=str1.replace(str1,str2)\n",
    "    s=st.replace(st[0],st[-1])\n",
    "    return s\n",
    "print(str_char('pawan','yadav'))"
   ]
  },
  {
   "cell_type": "code",
   "execution_count": 38,
   "id": "99d2f621-2ca3-47a5-bed8-28483bfe921e",
   "metadata": {
    "tags": []
   },
   "outputs": [
    {
     "name": "stdout",
     "output_type": "stream",
     "text": [
      "Pawan\n"
     ]
    },
    {
     "name": "stdin",
     "output_type": "stream",
     "text": [
      "Enter another string: yadav\n"
     ]
    },
    {
     "name": "stdout",
     "output_type": "stream",
     "text": [
      "yadav\n"
     ]
    },
    {
     "data": {
      "text/plain": [
       "'vaday'"
      ]
     },
     "execution_count": 38,
     "metadata": {},
     "output_type": "execute_result"
    }
   ],
   "source": [
    "a='Pawan'\n",
    "print(a)\n",
    "b=input('Enter another string:')\n",
    "x=a.replace(a,b)\n",
    "y=x[-1]+x[1:-1]+x[0]\n",
    "print(x)\n",
    "y"
   ]
  },
  {
   "cell_type": "code",
   "execution_count": 36,
   "id": "211f9ff4-aeca-4ced-a0fc-b7e1867e3786",
   "metadata": {
    "tags": []
   },
   "outputs": [
    {
     "name": "stdout",
     "output_type": "stream",
     "text": [
      "nawap\n",
      "52341\n"
     ]
    }
   ],
   "source": [
    "def st(str1):\n",
    "    return str1[-1]+str1[1:-1]+str1[0]\n",
    "print(st('pawan'))\n",
    "print(st('12345'))"
   ]
  },
  {
   "cell_type": "code",
   "execution_count": 39,
   "id": "30d36562-3234-4391-b038-8dd7cb54d028",
   "metadata": {
    "tags": []
   },
   "outputs": [
    {
     "name": "stdout",
     "output_type": "stream",
     "text": [
      "PwnYdv\n"
     ]
    }
   ],
   "source": [
    "def odd(str1):\n",
    "    return str1[0::2]\n",
    "print(odd('Pawan Yadav'))"
   ]
  },
  {
   "cell_type": "code",
   "execution_count": 40,
   "id": "aec70528-f386-4861-9f5f-c6496652c185",
   "metadata": {
    "tags": []
   },
   "outputs": [
    {
     "name": "stdin",
     "output_type": "stream",
     "text": [
      "Enter a string: PAWAN YADAV\n"
     ]
    },
    {
     "name": "stdout",
     "output_type": "stream",
     "text": [
      "PWNYDV\n"
     ]
    }
   ],
   "source": [
    "x=input('Enter a string:')\n",
    "print(x[0::2])"
   ]
  },
  {
   "cell_type": "code",
   "execution_count": 50,
   "id": "1c5e1369-5d08-4308-a2dc-89f094292b2b",
   "metadata": {
    "tags": []
   },
   "outputs": [
    {
     "name": "stdout",
     "output_type": "stream",
     "text": [
      "('the quick brown fox jumps over the lazy dog', ['the', 'quick', 'brown', 'fox', 'jumps', 'over', 'the', 'lazy', 'dog'], {'the': 2, 'quick': 1, 'brown': 1, 'fox': 1, 'jumps': 1, 'over': 1, 'lazy': 1, 'dog': 1})\n"
     ]
    }
   ],
   "source": [
    "def occur(str1):\n",
    "    counts=dict()\n",
    "    words=str1.split()\n",
    "    for word in words:\n",
    "        if word in counts:\n",
    "            counts[word]+=1\n",
    "        else:\n",
    "            counts[word]=1\n",
    "    return str1,words,counts\n",
    "print(occur('the quick brown fox jumps over the lazy dog'))\n",
    "        "
   ]
  },
  {
   "cell_type": "code",
   "execution_count": 53,
   "id": "efeee4d5-4b3c-480e-9b3b-80aefc4c69df",
   "metadata": {
    "tags": []
   },
   "outputs": [
    {
     "name": "stdin",
     "output_type": "stream",
     "text": [
      "Enter your response: the quick brown fox jumps over the lazy dog\n"
     ]
    },
    {
     "name": "stdout",
     "output_type": "stream",
     "text": [
      "THE QUICK BROWN FOX JUMPS OVER THE LAZY DOG\n",
      "the quick brown fox jumps over the lazy dog\n"
     ]
    }
   ],
   "source": [
    "str1=input('Enter your response:')\n",
    "print(str1.upper())\n",
    "print(str1.lower())"
   ]
  },
  {
   "cell_type": "code",
   "execution_count": 68,
   "id": "fd4d4e22-c3e0-4f4d-9b0e-a9313e18a65c",
   "metadata": {
    "tags": []
   },
   "outputs": [
    {
     "name": "stdin",
     "output_type": "stream",
     "text": [
      "Enter comma-separated sequence: red,black,blue,green,white,pink\n"
     ]
    },
    {
     "name": "stdout",
     "output_type": "stream",
     "text": [
      "black,blue,green,pink,red,white\n"
     ]
    }
   ],
   "source": [
    "a=input('Enter comma-separated sequence:')\n",
    "b= [word for word in a.split(',')]\n",
    "print(','.join(sorted(list(set(b)))))"
   ]
  },
  {
   "cell_type": "code",
   "execution_count": 69,
   "id": "3ff7d021-263c-4b05-b017-12d4aabc31ff",
   "metadata": {
    "tags": []
   },
   "outputs": [
    {
     "name": "stdout",
     "output_type": "stream",
     "text": [
      "<i>python</i>\n"
     ]
    }
   ],
   "source": [
    "def html_tag(tags,word):\n",
    "    x='<'+tags+'>'+word+'</'+tags+'>'\n",
    "    return x\n",
    "print(html_tag('i','python'))"
   ]
  },
  {
   "cell_type": "code",
   "execution_count": 71,
   "id": "369c5296-6441-4c5d-b4ba-7628d9abd246",
   "metadata": {
    "tags": []
   },
   "outputs": [
    {
     "name": "stdout",
     "output_type": "stream",
     "text": [
      "<i>python</i>\n"
     ]
    }
   ],
   "source": [
    "def html_tag(tags,word):\n",
    "    return '<%s>%s</%s>'%(tags,word,tags)\n",
    "print(html_tag('i','python'))"
   ]
  },
  {
   "cell_type": "code",
   "execution_count": 77,
   "id": "0c94f891-a317-44af-9d15-319f8fa1881d",
   "metadata": {
    "tags": []
   },
   "outputs": [
    {
     "name": "stdout",
     "output_type": "stream",
     "text": [
      "[[PYTHON]]\n",
      "{{PHP}}\n",
      "<<HTML>>\n"
     ]
    }
   ],
   "source": [
    "def nested_string(str1,str2):\n",
    "    return str1[:2]+str2+str1[2:]\n",
    "print(nested_string('''[[]]''','PYTHON'))\n",
    "print(nested_string('''{{}}''','PHP'))\n",
    "print(nested_string('''<<>>''','HTML'))"
   ]
  },
  {
   "cell_type": "code",
   "execution_count": 79,
   "id": "d116415c-77d7-4226-b08e-0fdb73926481",
   "metadata": {
    "tags": []
   },
   "outputs": [
    {
     "name": "stdout",
     "output_type": "stream",
     "text": [
      "onononon\n",
      "eseseses\n"
     ]
    }
   ],
   "source": [
    "def multiple_char(str1):\n",
    "    return str1[-2::1]*4\n",
    "print(multiple_char('Python'))\n",
    "print(multiple_char('Exercises'))"
   ]
  },
  {
   "cell_type": "code",
   "execution_count": 86,
   "id": "5dc3e416-e264-4d75-aa83-b2bf0adb6b6e",
   "metadata": {
    "tags": []
   },
   "outputs": [
    {
     "name": "stdout",
     "output_type": "stream",
     "text": [
      "py\n",
      "pyt\n",
      "ipy\n"
     ]
    }
   ],
   "source": [
    "def first_three(str1):\n",
    "    if len(str1)<3:\n",
    "        return (str1)\n",
    "    else:\n",
    "        return (str1[:3])\n",
    "print(first_three('py'))\n",
    "print(first_three('python'))\n",
    "print(first_three('ipy'))"
   ]
  },
  {
   "cell_type": "code",
   "execution_count": 97,
   "id": "e12c3d96-953a-428a-aa53-8322e46d17e8",
   "metadata": {
    "tags": []
   },
   "outputs": [
    {
     "name": "stdout",
     "output_type": "stream",
     "text": [
      "https://www.w3resource.com/python-exercises\n",
      "https://www.w3resource.com/python\n"
     ]
    }
   ],
   "source": [
    "str1='https://www.w3resource.com/python-exercises/string'\n",
    "print(str1.rsplit('/',1)[0])\n",
    "print(str1.rsplit('-',1)[0])"
   ]
  },
  {
   "cell_type": "code",
   "execution_count": 107,
   "id": "eee70671-87f6-4a01-a0c8-c8f9e1ec6597",
   "metadata": {
    "tags": []
   },
   "outputs": [
    {
     "name": "stdout",
     "output_type": "stream",
     "text": [
      "sinohtyP\n",
      "htyP\n"
     ]
    }
   ],
   "source": [
    "def reverse_string(str1):\n",
    "    if len(str1)%4==0:\n",
    "        return str1[-1::-1]\n",
    "    else:\n",
    "        return str1\n",
    "print(reverse_string('Pythonis'))\n",
    "print(reverse_string('Pyth'))"
   ]
  },
  {
   "cell_type": "code",
   "execution_count": 108,
   "id": "2a94e2a5-9a76-4cc5-93bb-6936d906b0a7",
   "metadata": {
    "tags": []
   },
   "outputs": [
    {
     "name": "stdout",
     "output_type": "stream",
     "text": [
      "PYTHON\n",
      "pythOn\n"
     ]
    }
   ],
   "source": [
    "def upperc(str1):\n",
    "    num=0\n",
    "    for letter in str1[:4]:\n",
    "        if letter.upper()==letter:\n",
    "            num+=1\n",
    "    if num>=2:\n",
    "        return str1.upper()\n",
    "    return str1\n",
    "print(upperc('PyThon'))\n",
    "print(upperc('pythOn'))"
   ]
  },
  {
   "cell_type": "code",
   "execution_count": 120,
   "id": "12e80c63-600d-4a84-892a-602a7c03b47a",
   "metadata": {
    "tags": []
   },
   "outputs": [
    {
     "name": "stdout",
     "output_type": "stream",
     "text": [
      "['3', 'c', 'e', 'e', 'o', 'r', 'r', 's', 'u', 'W']\n",
      "['b', 'c', 'i', 'k', 'n', 'o', 'q', 'r', 'u', 'w']\n"
     ]
    }
   ],
   "source": [
    "def lexicographically(str1):\n",
    "    return sorted((str1),key=str.upper)\n",
    "print(lexicographically('W3resource'))\n",
    "print(lexicographically('quickbrown'))"
   ]
  },
  {
   "cell_type": "code",
   "execution_count": 123,
   "id": "d00d2b64-e5b2-40c8-99f2-004bf98683c6",
   "metadata": {
    "tags": []
   },
   "outputs": [
    {
     "name": "stdout",
     "output_type": "stream",
     "text": [
      "Python Exercise\n",
      "\n",
      "Python Exercise\n"
     ]
    }
   ],
   "source": [
    "str1='Python Exercise\\n'\n",
    "print(str1)\n",
    "print(str1.rstrip())"
   ]
  },
  {
   "cell_type": "code",
   "execution_count": 124,
   "id": "8d5d7b37-c2ab-4fa1-9c9c-4cdcc6fedc84",
   "metadata": {
    "tags": []
   },
   "outputs": [
    {
     "name": "stdout",
     "output_type": "stream",
     "text": [
      "True\n"
     ]
    }
   ],
   "source": [
    "str1='W3resources'\n",
    "print(str1.startswith('W3r'))"
   ]
  },
  {
   "cell_type": "code",
   "execution_count": 142,
   "id": "cf25c0dc-8b36-468e-be8a-29f60247ea42",
   "metadata": {
    "tags": []
   },
   "outputs": [
    {
     "name": "stdout",
     "output_type": "stream",
     "text": [
      "['d', 'e', 'f']\n"
     ]
    }
   ],
   "source": [
    "def caesar_encryption(str1,step):\n",
    "    outText=[]\n",
    "    crypt=[]\n",
    "    uppercase=['A','B','C','D','E','F','G','H','I','J','K','L','M','N''O','P','Q','R','S','T','U','V','W','X','Y','Z']\n",
    "    lowercase=['a','b','c','d','e','f','g','h','i','j','k','l','m','n''o','p','q','r','s','t','u','v','w','x','y','z']\n",
    "    for eachletter in str1:\n",
    "        if eachletter in uppercase:\n",
    "            index=uppercase.index(eachletter)\n",
    "            crypting=(index+step)%26\n",
    "            crypt.append(crypting)\n",
    "            newletter=uppercase[crypting]\n",
    "            outText.append(newletter)\n",
    "        elif eachletter in lowercase:\n",
    "            index=lowercase.index(eachletter)\n",
    "            crypting=(index+step)%26\n",
    "            crypt.append(crypting)\n",
    "            newletter=lowercase[crypting]\n",
    "            outText.append(newletter)\n",
    "    return outText\n",
    "code=caesar_encryption('abc',3)\n",
    "print(code)"
   ]
  },
  {
   "cell_type": "code",
   "execution_count": 165,
   "id": "2f5f5067-f8eb-4e1b-941a-d95a4f509936",
   "metadata": {
    "tags": []
   },
   "outputs": [
    {
     "name": "stdin",
     "output_type": "stream",
     "text": [
      "Enter Your Personal Details: pawan yadav\n"
     ]
    },
    {
     "name": "stdout",
     "output_type": "stream",
     "text": [
      "The Encrpyt code is: ['s', 'd', 'z', 'd', 'q', 'b', 'd', 'g', 'd', 'y']\n",
      "The Decrpyt code is: ['p', 'a', 'w', 'a', 'n', 'y', 'a', 'd', 'a', 'v']\n"
     ]
    }
   ],
   "source": [
    "def caesar_encryption(str1,step):\n",
    "    o=[]\n",
    "    c=[]\n",
    "    p=[]\n",
    "    m=[]\n",
    "    uppercase=['A','B','C','D','E','F','G','H','I','J','K','L','M','N''O','P','Q','R','S','T','U','V','W','X','Y','Z']\n",
    "    lowercase=['a','b','c','d','e','f','g','h','i','j','k','l','m','n','o','p','q','r','s','t','u','v','w','x','y','z']\n",
    "    for eachletter in str1:\n",
    "        if eachletter in uppercase:\n",
    "            i=uppercase.index(eachletter)\n",
    "            cr=(i+step)%26\n",
    "            c.append(cr)\n",
    "            n=uppercase[cr]\n",
    "            o.append(n)\n",
    "        elif eachletter in lowercase:\n",
    "            i=lowercase.index(eachletter)\n",
    "            cr=(i+step)%26\n",
    "            c.append(cr)\n",
    "            n=lowercase[cr]\n",
    "            o.append(n)\n",
    "    for eachletter in o:\n",
    "        if eachletter in uppercase:\n",
    "            i=uppercase.index(eachletter)\n",
    "            cr=(i-step)%26\n",
    "            m.append(cr)\n",
    "            n=uppercase[cr]\n",
    "            p.append(n)\n",
    "        elif eachletter in lowercase:\n",
    "            i=lowercase.index(eachletter)\n",
    "            cr=(i-step)%26\n",
    "            m.append(cr)\n",
    "            n=lowercase[cr]\n",
    "            p.append(n)\n",
    "    return print('The Encrpyt code is:',o),print('The Decrpyt code is:',p)\n",
    "code=caesar_encryption(input('Enter Your Personal Details:'),3)"
   ]
  },
  {
   "cell_type": "code",
   "execution_count": 179,
   "id": "89007219-c3bf-4c10-87b3-dc7ef29a8f73",
   "metadata": {
    "tags": []
   },
   "outputs": [
    {
     "name": "stdout",
     "output_type": "stream",
     "text": [
      "Python is a widely used high-level, general-\n",
      "purpose, interpreted,   dynamic programming\n",
      "language. Its design philosophy emphasizes   code\n",
      "readability, and its syntax allows programmers to\n",
      "express   concepts in fewer lines of code than\n",
      "possible in languages such   as C++ or Java.\n"
     ]
    }
   ],
   "source": [
    "import textwrap\n",
    "text='''Python is a widely used high-level, general-purpose, interpreted,\n",
    "  dynamic programming language. Its design philosophy emphasizes\n",
    "  code readability, and its syntax allows programmers to express\n",
    "  concepts in fewer lines of code than possible in languages such\n",
    "  as C++ or Java.'''\n",
    "print(textwrap.fill(text,width=50))"
   ]
  },
  {
   "cell_type": "code",
   "execution_count": 183,
   "id": "411334ca-fa37-4842-870a-e6ceb3e24547",
   "metadata": {
    "tags": []
   },
   "outputs": [
    {
     "name": "stdout",
     "output_type": "stream",
     "text": [
      "\n",
      "Python is a widely used high-level, general-purpose, interpreted,\n",
      "dynamic programming language. Its design philosophy emphasizes\n",
      "code readability, and its syntax allows programmers to express\n",
      "concepts in fewer lines of code than possible in languages such\n",
      "as C++ or Java.\n",
      "\n"
     ]
    }
   ],
   "source": [
    "import textwrap\n",
    "text='''\n",
    "  Python is a widely used high-level, general-purpose, interpreted,\n",
    "  dynamic programming language. Its design philosophy emphasizes\n",
    "  code readability, and its syntax allows programmers to express\n",
    "  concepts in fewer lines of code than possible in languages such\n",
    "  as C++ or Java.\n",
    "  '''\n",
    "print(textwrap.dedent(text))"
   ]
  },
  {
   "cell_type": "code",
   "execution_count": 184,
   "id": "15f89261-7673-4fb5-bb54-1276a52c93eb",
   "metadata": {
    "tags": []
   },
   "outputs": [
    {
     "name": "stdout",
     "output_type": "stream",
     "text": [
      "\n",
      ">  Python is a widely used high-level, general-purpose, interpreted,\n",
      ">  dynamic programming language. Its design philosophy emphasizes\n",
      ">  code readability, and its syntax allows programmers to express\n",
      ">  concepts in fewer lines of code than possible in languages such\n",
      ">  as C++ or Java.\n",
      "  \n"
     ]
    }
   ],
   "source": [
    "import textwrap\n",
    "text='''\n",
    "  Python is a widely used high-level, general-purpose, interpreted,\n",
    "  dynamic programming language. Its design philosophy emphasizes\n",
    "  code readability, and its syntax allows programmers to express\n",
    "  concepts in fewer lines of code than possible in languages such\n",
    "  as C++ or Java.\n",
    "  '''\n",
    "print(textwrap.indent(text,'>'))"
   ]
  },
  {
   "cell_type": "code",
   "execution_count": 201,
   "id": "02f95a4a-5697-425f-899d-000cf66a978b",
   "metadata": {
    "tags": []
   },
   "outputs": [
    {
     "name": "stdout",
     "output_type": "stream",
     "text": [
      "Python is a widely used high-level, general-purpose, interpreted,\n",
      "    dynamic programming language. Its design philosophy emphasizes\n",
      "    code readability, and its syntax allows programmers to express\n",
      "    concepts in fewer lines of code than possible in languages such\n",
      "    as C++ or Java.\n"
     ]
    }
   ],
   "source": [
    "import textwrap\n",
    "text='''\n",
    "           Python is a widely used high-level, general-purpose, interpreted,\n",
    "  dynamic programming language. Its design philosophy emphasizes\n",
    "  code readability, and its syntax allows programmers to express\n",
    "  concepts in fewer lines of code than possible in languages such\n",
    "  as C++ or Java.      \n",
    "  '''\n",
    "p=textwrap.dedent(text).strip()\n",
    "print(textwrap.fill(p,initial_indent='',subsequent_indent=' '*4,width=68))"
   ]
  },
  {
   "cell_type": "code",
   "execution_count": 204,
   "id": "0ba96de8-2a1d-4d4e-904b-783f543d2ff7",
   "metadata": {
    "tags": []
   },
   "outputs": [
    {
     "name": "stdin",
     "output_type": "stream",
     "text": [
      "Enter a number: 3.1415926\n"
     ]
    },
    {
     "name": "stdout",
     "output_type": "stream",
     "text": [
      "Original number: 3.1415926\n",
      "Formatted number:3.14\n"
     ]
    },
    {
     "name": "stdin",
     "output_type": "stream",
     "text": [
      "Enter a number: 12.9999\n"
     ]
    },
    {
     "name": "stdout",
     "output_type": "stream",
     "text": [
      "Original number: 12.9999\n",
      "Formatted number:13.00\n"
     ]
    }
   ],
   "source": [
    "for x in range(2):\n",
    "    x=eval(input('Enter a number:'))\n",
    "    print('Original number:',x)\n",
    "    print('Formatted number:'+\"{:.2f}\".format(x))"
   ]
  },
  {
   "cell_type": "code",
   "execution_count": 208,
   "id": "2aa29e9f-fd74-4a4a-8117-79f70b5663a2",
   "metadata": {
    "tags": []
   },
   "outputs": [
    {
     "name": "stdin",
     "output_type": "stream",
     "text": [
      "Enter a number: 3\n"
     ]
    },
    {
     "name": "stdout",
     "output_type": "stream",
     "text": [
      "Original number: 3\n",
      "Formatted number:+3.00\n"
     ]
    },
    {
     "name": "stdin",
     "output_type": "stream",
     "text": [
      "Enter a number: -31.2256\n"
     ]
    },
    {
     "name": "stdout",
     "output_type": "stream",
     "text": [
      "Original number: -31.2256\n",
      "Formatted number:-31.23\n"
     ]
    }
   ],
   "source": [
    "for x in range(2):\n",
    "    x=eval(input('Enter a number:'))\n",
    "    print('Original number:',x)\n",
    "    print('Formatted number:'+\"{:+.2f}\".format(x))"
   ]
  },
  {
   "cell_type": "code",
   "execution_count": 209,
   "id": "450310d3-4e54-4e95-866a-2e6543f21c5a",
   "metadata": {
    "tags": []
   },
   "outputs": [
    {
     "name": "stdin",
     "output_type": "stream",
     "text": [
      "Enter a number: 3.1415926\n"
     ]
    },
    {
     "name": "stdout",
     "output_type": "stream",
     "text": [
      "Original number: 3.1415926\n",
      "Formatted number:+3\n"
     ]
    },
    {
     "name": "stdin",
     "output_type": "stream",
     "text": [
      "Enter a number: -12.9999999\n"
     ]
    },
    {
     "name": "stdout",
     "output_type": "stream",
     "text": [
      "Original number: -12.9999999\n",
      "Formatted number:-13\n"
     ]
    }
   ],
   "source": [
    "for x in range(2):\n",
    "    x=eval(input('Enter a number:'))\n",
    "    print('Original number:',x)\n",
    "    print('Formatted number:'+\"{:+.0f}\".format(x))"
   ]
  },
  {
   "cell_type": "code",
   "execution_count": 217,
   "id": "e1ce86de-fe0c-448d-a997-96acbfaff0b3",
   "metadata": {
    "tags": []
   },
   "outputs": [
    {
     "name": "stdin",
     "output_type": "stream",
     "text": [
      "Enter a number: 3\n"
     ]
    },
    {
     "name": "stdout",
     "output_type": "stream",
     "text": [
      "Original number: 3\n",
      "Formatted number:(left padding, width 2): 03\n"
     ]
    }
   ],
   "source": [
    "for x in range(1):\n",
    "    x=eval(input('Enter a number:'))\n",
    "    print('Original number:',x)\n",
    "    print('Formatted number:(left padding, width 2): '+\"{:0>2d}\".format(x))"
   ]
  },
  {
   "cell_type": "code",
   "execution_count": 218,
   "id": "7e7e8093-78f3-47ac-837d-b4c13d25a391",
   "metadata": {
    "tags": []
   },
   "outputs": [
    {
     "name": "stdin",
     "output_type": "stream",
     "text": [
      "Enter a number: 123\n"
     ]
    },
    {
     "name": "stdout",
     "output_type": "stream",
     "text": [
      "Original number: 123\n",
      "Formatted number:(left padding, width 2): 000123\n"
     ]
    }
   ],
   "source": [
    "for x in range(1):\n",
    "    x=eval(input('Enter a number:'))\n",
    "    print('Original number:',x)\n",
    "    print('Formatted number:(left padding, width 2): '+\"{:0>6d}\".format(x))"
   ]
  },
  {
   "cell_type": "code",
   "execution_count": 220,
   "id": "cef27b54-782b-4018-b176-32bb843fcb86",
   "metadata": {
    "tags": []
   },
   "outputs": [
    {
     "name": "stdin",
     "output_type": "stream",
     "text": [
      "Enter a number: 123\n"
     ]
    },
    {
     "name": "stdout",
     "output_type": "stream",
     "text": [
      "Original number: 123\n",
      "Formatted number:(left padding, width 2): 123***\n"
     ]
    }
   ],
   "source": [
    "for x in range(1):\n",
    "    x=eval(input('Enter a number:'))\n",
    "    print('Original number:',x)\n",
    "    print('Formatted number:(left padding, width 2): '+\"{:*<6d}\".format(x))"
   ]
  },
  {
   "cell_type": "code",
   "execution_count": 222,
   "id": "1a5f805a-00c4-4bda-a2b9-842b66e1afaf",
   "metadata": {
    "tags": []
   },
   "outputs": [
    {
     "name": "stdin",
     "output_type": "stream",
     "text": [
      "Enter a number: 3\n"
     ]
    },
    {
     "name": "stdout",
     "output_type": "stream",
     "text": [
      "Original number: 3\n",
      "Formatted number:(left padding, width 2): 3*\n"
     ]
    }
   ],
   "source": [
    "for x in range(1):\n",
    "    x=eval(input('Enter a number:'))\n",
    "    print('Original number:',x)\n",
    "    print('Formatted number:(left padding, width 2): '+\"{:*<2d}\".format(x))"
   ]
  },
  {
   "cell_type": "code",
   "execution_count": 227,
   "id": "a8769760-c573-4647-8832-c53169aff3d6",
   "metadata": {
    "tags": []
   },
   "outputs": [
    {
     "name": "stdin",
     "output_type": "stream",
     "text": [
      "Enter a number above 1000: 100\n"
     ]
    },
    {
     "name": "stdout",
     "output_type": "stream",
     "text": [
      "Original number: 100\n",
      "Comma Separator number:100\n"
     ]
    }
   ],
   "source": [
    "x=int(input('Enter a number above 1000:'))\n",
    "print('Original number:',x)\n",
    "print('Comma Separator number:'+'{:,}'.format(x))"
   ]
  },
  {
   "cell_type": "code",
   "execution_count": 225,
   "id": "b2291447-66da-49ba-9784-75553aa627e0",
   "metadata": {
    "tags": []
   },
   "outputs": [
    {
     "name": "stdin",
     "output_type": "stream",
     "text": [
      "Enter a number above 1000: 1000\n"
     ]
    },
    {
     "name": "stdout",
     "output_type": "stream",
     "text": [
      "Original number: 1000\n",
      "Comma Separator number:1,000\n"
     ]
    },
    {
     "name": "stdin",
     "output_type": "stream",
     "text": [
      "Enter a number above 1000: 10000\n"
     ]
    },
    {
     "name": "stdout",
     "output_type": "stream",
     "text": [
      "Original number: 10000\n",
      "Comma Separator number:10,000\n"
     ]
    },
    {
     "name": "stdin",
     "output_type": "stream",
     "text": [
      "Enter a number above 1000: 1000000\n"
     ]
    },
    {
     "name": "stdout",
     "output_type": "stream",
     "text": [
      "Original number: 1000000\n",
      "Comma Separator number:1,000,000\n"
     ]
    },
    {
     "name": "stdin",
     "output_type": "stream",
     "text": [
      "Enter a number above 1000: 10000000\n"
     ]
    },
    {
     "name": "stdout",
     "output_type": "stream",
     "text": [
      "Original number: 10000000\n",
      "Comma Separator number:10,000,000\n"
     ]
    },
    {
     "name": "stdin",
     "output_type": "stream",
     "text": [
      "Enter a number above 1000: 100000000\n"
     ]
    },
    {
     "name": "stdout",
     "output_type": "stream",
     "text": [
      "Original number: 100000000\n",
      "Comma Separator number:100,000,000\n"
     ]
    }
   ],
   "source": [
    "for x in range (5):\n",
    "    x=int(input('Enter a number above 1000:'))\n",
    "    print('Original number:',x)\n",
    "    print('Comma Separator number:'+'{:,}'.format(x))"
   ]
  },
  {
   "cell_type": "code",
   "execution_count": 241,
   "id": "2355fa10-f463-4312-90bd-98619b922b32",
   "metadata": {
    "tags": []
   },
   "outputs": [
    {
     "name": "stdin",
     "output_type": "stream",
     "text": [
      "Enter a number : 10\n"
     ]
    },
    {
     "name": "stdout",
     "output_type": "stream",
     "text": [
      "Original number: 10\n",
      "Comma Separator number:1000.00%\n"
     ]
    },
    {
     "name": "stdin",
     "output_type": "stream",
     "text": [
      "Enter a number : 0.1\n"
     ]
    },
    {
     "name": "stdout",
     "output_type": "stream",
     "text": [
      "Original number: 0.1\n",
      "Comma Separator number:10.00%\n"
     ]
    }
   ],
   "source": [
    "for x in range(2):\n",
    "    x=eval(input('Enter a number :'))\n",
    "    print('Original number:',x)\n",
    "    print('Comma Separator number:'+'{:.2%}'.format(x))"
   ]
  },
  {
   "cell_type": "code",
   "execution_count": 2,
   "id": "cc0ea0cb-2c65-4214-a7c3-76cce556c2f3",
   "metadata": {},
   "outputs": [
    {
     "name": "stdout",
     "output_type": "stream",
     "text": [
      "15\n"
     ]
    }
   ],
   "source": [
    "def x(a):\n",
    "    a=a+2\n",
    "    a=a*3\n",
    "    return a\n",
    "print(x(3))"
   ]
  },
  {
   "cell_type": "code",
   "execution_count": 19,
   "id": "5dbe5bd7-ebfb-4fbf-9851-cfd9610e1a2b",
   "metadata": {
    "tags": []
   },
   "outputs": [
    {
     "name": "stdout",
     "output_type": "stream",
     "text": [
      "original number: 22\n",
      "Right aligned (width 10):        22\n",
      "Left aligned (width 10): 22       \n",
      "Center aligned (width 10):    22    \n"
     ]
    }
   ],
   "source": [
    "x=22\n",
    "print('original number:',x)\n",
    "print('Right aligned (width 10):'+'{:> 10d}'.format(x))\n",
    "print('Left aligned (width 10):'+'{:< 10d}'.format(x))\n",
    "print('Center aligned (width 10):'+'{:^ 10d}'.format(x))"
   ]
  },
  {
   "cell_type": "code",
   "execution_count": 32,
   "id": "d367f831-364f-4563-9f1c-064c77d9557f",
   "metadata": {
    "tags": []
   },
   "outputs": [
    {
     "name": "stdin",
     "output_type": "stream",
     "text": [
      "Enter a string: once upon a time a fox live in the jungle with the family. one day a lion came into the jungle and hunt the fox. the fox was died \n",
      "Enter a substring to count no of occurrence: a\n"
     ]
    },
    {
     "name": "stdout",
     "output_type": "stream",
     "text": [
      "8\n"
     ]
    }
   ],
   "source": [
    "def str1(x):\n",
    "    print(x.count(input('Enter a substring to count no of occurrence:')))\n",
    "(str1(input('Enter a string:')))"
   ]
  },
  {
   "cell_type": "code",
   "execution_count": 35,
   "id": "4b83eab5-e5ad-4936-8ded-8cec3d77393b",
   "metadata": {
    "tags": []
   },
   "outputs": [
    {
     "name": "stdin",
     "output_type": "stream",
     "text": [
      "Enter a string: pawan yadav\n"
     ]
    },
    {
     "name": "stdout",
     "output_type": "stream",
     "text": [
      "pawan yadav\n",
      "vaday nawap\n"
     ]
    }
   ],
   "source": [
    "str1=input('Enter a string:')\n",
    "print(str1)\n",
    "print(str1[-1::-1])"
   ]
  },
  {
   "cell_type": "code",
   "execution_count": 39,
   "id": "14edc6e8-a111-4933-a97a-2341e896dd84",
   "metadata": {
    "tags": []
   },
   "outputs": [
    {
     "name": "stdin",
     "output_type": "stream",
     "text": [
      "Enter a string: pawan yadav\n"
     ]
    },
    {
     "name": "stdout",
     "output_type": "stream",
     "text": [
      "pawan yadav\n",
      "vaday nawap\n"
     ]
    },
    {
     "name": "stdin",
     "output_type": "stream",
     "text": [
      "Enter a string: javascript\n"
     ]
    },
    {
     "name": "stdout",
     "output_type": "stream",
     "text": [
      "javascript\n",
      "tpircsavaj\n"
     ]
    }
   ],
   "source": [
    "for str1 in range(2):\n",
    "    str1=input('Enter a string:')\n",
    "    print(str1)\n",
    "    print(''.join(reversed(str1)))"
   ]
  },
  {
   "cell_type": "code",
   "execution_count": 40,
   "id": "f1ecd83e-8ce9-46f6-abb5-d09cab623304",
   "metadata": {
    "tags": []
   },
   "outputs": [
    {
     "name": "stdout",
     "output_type": "stream",
     "text": [
      "vaday nawap\n"
     ]
    }
   ],
   "source": [
    "str1='pawan yadav'\n",
    "print(''.join(reversed(str1)))"
   ]
  },
  {
   "cell_type": "code",
   "execution_count": 46,
   "id": "0b3454e3-5c0a-43fc-8ce9-f76f00f9615d",
   "metadata": {
    "tags": []
   },
   "outputs": [
    {
     "name": "stdin",
     "output_type": "stream",
     "text": [
      "Enter a string: the quick brown fox\n"
     ]
    },
    {
     "name": "stdout",
     "output_type": "stream",
     "text": [
      "fox brown quick the\n"
     ]
    }
   ],
   "source": [
    "def reversed_word(str1):\n",
    "    x=str1.split(' ')\n",
    "    print(' '.join(reversed(x)))\n",
    "reversed_word(input('Enter a string:'))\n"
   ]
  },
  {
   "cell_type": "code",
   "execution_count": 63,
   "id": "3788b0a8-1113-4494-9d5d-3b4ee38f5dbf",
   "metadata": {
    "tags": []
   },
   "outputs": [
    {
     "name": "stdin",
     "output_type": "stream",
     "text": [
      "Enter a string:\n",
      " the quick brown fox jumps over the lazy dog\n"
     ]
    },
    {
     "name": "stdout",
     "output_type": "stream",
     "text": [
      "original string:\n",
      " the quick brown fox jumps over the lazy dog\n",
      "After stripping a,e,i,o,u :\n"
     ]
    },
    {
     "data": {
      "text/plain": [
       "'th qck brwn fx jmps vr th lzy dg'"
      ]
     },
     "execution_count": 63,
     "metadata": {},
     "output_type": "execute_result"
    }
   ],
   "source": [
    "def striping(str1,chars):\n",
    "    print('original string:\\n',str1)\n",
    "    print(\"After stripping a,e,i,o,u :\")\n",
    "    return ''.join(c for c in str1 if c not in chars)\n",
    "striping(input('Enter a string:\\n'),'aeiou')"
   ]
  },
  {
   "cell_type": "code",
   "execution_count": 71,
   "id": "39033d1e-e9ce-4911-9fbe-07c16f4aa8f0",
   "metadata": {
    "tags": []
   },
   "outputs": [
    {
     "name": "stdin",
     "output_type": "stream",
     "text": [
      "Enter a string: thequickbrownfoxjumpsoverthelazydog\n"
     ]
    },
    {
     "name": "stdout",
     "output_type": "stream",
     "text": [
      "o 4\n",
      "e 3\n",
      "t 2\n",
      "h 2\n",
      "u 2\n",
      "r 2\n"
     ]
    }
   ],
   "source": [
    "import collections\n",
    "str1=input('Enter a string:')\n",
    "x=collections.defaultdict(int)\n",
    "for i in str1:\n",
    "    x[i]+=1\n",
    "for i in sorted(x,key=x.get,reverse=True):\n",
    "    if x[i]>1:\n",
    "        print('%s %d'%(i,x[i]))"
   ]
  },
  {
   "cell_type": "code",
   "execution_count": 96,
   "id": "405dd0f1-f1e6-4710-86ab-aff7d98c3424",
   "metadata": {
    "tags": []
   },
   "outputs": [
    {
     "name": "stdin",
     "output_type": "stream",
     "text": [
      "enter length of rectangle: 20*2\n",
      "enter width of rectangle: 25*2\n",
      "enter radius of cylinder: 2*8\n",
      "enter height of cylinder: 8*5\n"
     ]
    },
    {
     "name": "stdout",
     "output_type": "stream",
     "text": [
      "Area of Rectangle: 2000.00cm²\n",
      "Volume of cylinder: 5629.734cm³\n"
     ]
    }
   ],
   "source": [
    "from math import pi\n",
    "x=eval(input('enter length of rectangle:'))\n",
    "y=eval(input('enter width of rectangle:'))\n",
    "a=eval(input('enter radius of cylinder:'))\n",
    "b=eval(input('enter height of cylinder:'))\n",
    "d=2\n",
    "e=3\n",
    "print(\"Area of Rectangle: {0:.{1}f}cm\\u00b2\".format((x*y),d))\n",
    "print('Volume of cylinder: {0:.{1}f}cm\\u00b3'.format(((2*pi*a*b)+(2*pi*a**2)),e))"
   ]
  },
  {
   "cell_type": "code",
   "execution_count": 104,
   "id": "ff2cf3db-9b9d-4f29-92fb-f474349d8ea7",
   "metadata": {
    "tags": []
   },
   "outputs": [
    {
     "name": "stdin",
     "output_type": "stream",
     "text": [
      "enter a string: pawanyadav\n",
      "enter the character to find the index: d\n"
     ]
    },
    {
     "name": "stdout",
     "output_type": "stream",
     "text": [
      "Current Character D Position at: 7\n"
     ]
    }
   ],
   "source": [
    "str1=input('enter a string:')\n",
    "st=input('enter the character to find the index:')\n",
    "x=str1.index(st)\n",
    "print('Current Character',st.upper(),'Position at:',x)"
   ]
  },
  {
   "cell_type": "code",
   "execution_count": 136,
   "id": "e28f6fec-fa75-4cdf-8eeb-5560336eda25",
   "metadata": {
    "tags": []
   },
   "outputs": [
    {
     "name": "stdin",
     "output_type": "stream",
     "text": [
      "ENTER A STRING:\n",
      " PAWANYADAV\n"
     ]
    },
    {
     "name": "stdout",
     "output_type": "stream",
     "text": [
      "Current Character P Position at: 1\n",
      "Current Character A Position at: 2\n",
      "Current Character W Position at: 3\n",
      "Current Character A Position at: 4\n",
      "Current Character N Position at: 5\n",
      "Current Character Y Position at: 6\n",
      "Current Character A Position at: 7\n",
      "Current Character D Position at: 8\n",
      "Current Character A Position at: 9\n",
      "Current Character V Position at: 10\n"
     ]
    }
   ],
   "source": [
    "str1=(input('enter a string:\\n'.upper()))\n",
    "for i,J in enumerate(str1,start=1):\n",
    "    print('Current Character',J.upper(),'Position at:',(i))"
   ]
  },
  {
   "cell_type": "code",
   "execution_count": 162,
   "id": "2d97d5f4-1df0-4738-a9b1-4b7da18c2a8a",
   "metadata": {
    "tags": []
   },
   "outputs": [
    {
     "name": "stdout",
     "output_type": "stream",
     "text": [
      "True\n",
      "False\n"
     ]
    }
   ],
   "source": [
    "import string\n",
    "a=set(string.ascii_lowercase)\n",
    "str1='The quick brown fox jumps over the lazy dog'\n",
    "str2='The quick brown fox jumps over the lazy'\n",
    "print(set(str1.lower())>=a)\n",
    "print(set(str2.lower())>=a)"
   ]
  },
  {
   "cell_type": "code",
   "execution_count": 176,
   "id": "05e84f11-55ae-4d5c-a2f6-4a2eea37c96d",
   "metadata": {
    "tags": []
   },
   "outputs": [
    {
     "name": "stdout",
     "output_type": "stream",
     "text": [
      "['The', 'quick', 'brown', 'fox', 'jumps', 'over', 'the', 'lazy', 'dog']\n",
      "['The', 'quick', 'brown', 'fox', 'jumps', 'over', 'the', 'lazy', 'dog']\n"
     ]
    }
   ],
   "source": [
    "str1='The quick brown fox jumps over the lazy dog'\n",
    "print(str1.rsplit())\n",
    "print(str1.split())"
   ]
  },
  {
   "cell_type": "code",
   "execution_count": 179,
   "id": "7fab63b9-81bb-43ef-9b57-3bdf7c4f383b",
   "metadata": {
    "tags": []
   },
   "outputs": [
    {
     "name": "stdin",
     "output_type": "stream",
     "text": [
      "ENTER A STRING: PAWANYADAV\n"
     ]
    },
    {
     "name": "stdout",
     "output_type": "stream",
     "text": [
      "pawaNYADAV\n"
     ]
    }
   ],
   "source": [
    "str1=input('enter a string:'.upper())\n",
    "print(str1[:4].lower()+str1[4:])"
   ]
  },
  {
   "cell_type": "code",
   "execution_count": 180,
   "id": "679d867e-6744-48f1-bf30-facf87850122",
   "metadata": {
    "tags": []
   },
   "outputs": [
    {
     "name": "stdout",
     "output_type": "stream",
     "text": [
      "32,054.23\n"
     ]
    }
   ],
   "source": [
    "a='32.054,23'\n",
    "print(a[:2]+a[6]+a[3:6]+a[2]+a[7:])"
   ]
  },
  {
   "cell_type": "code",
   "execution_count": 182,
   "id": "12235469-588e-40ef-8c16-3655eb910654",
   "metadata": {
    "tags": []
   },
   "outputs": [
    {
     "name": "stdout",
     "output_type": "stream",
     "text": [
      "32,054.23\n"
     ]
    }
   ],
   "source": [
    "a='32.054,23'\n",
    "m=a.maketrans\n",
    "print(a.translate(m(',.','.,')))"
   ]
  },
  {
   "cell_type": "code",
   "execution_count": 188,
   "id": "089be33d-64c4-4990-88fd-06096e3d33c7",
   "metadata": {
    "tags": []
   },
   "outputs": [
    {
     "name": "stdout",
     "output_type": "stream",
     "text": [
      "4\n",
      "['e', 'o', 'u', 'e']\n",
      "4\n",
      "['a', 'a', 'a', 'a']\n"
     ]
    }
   ],
   "source": [
    "def vowel_count(str1):\n",
    "    vowels='aeiouAEIOU'\n",
    "    print(len([l for l in str1 if l in vowels]))\n",
    "    print([l for l in str1 if l in vowels])\n",
    "vowel_count('w3resource')\n",
    "vowel_count('pawanyadav')"
   ]
  },
  {
   "cell_type": "code",
   "execution_count": 196,
   "id": "882c37d5-1b61-4443-ad8b-86961c90168e",
   "metadata": {
    "tags": []
   },
   "outputs": [
    {
     "name": "stdout",
     "output_type": "stream",
     "text": [
      "['w,3,r,e,s,o,u,r,c', 'e']\n",
      "['w,3,r,e,s,o,u,r', 'c', 'e']\n",
      "['w,3,r,e,s', 'o', 'u', 'r', 'c', 'e']\n"
     ]
    }
   ],
   "source": [
    "str1='''w,3,r,e,s,o,u,r,c,e'''\n",
    "print(str1.rsplit(',',1))\n",
    "print(str1.rsplit(',',2))\n",
    "print(str1.rsplit(',',5))"
   ]
  },
  {
   "cell_type": "code",
   "execution_count": 202,
   "id": "2253bc0b-834c-403f-af44-eae3088699e6",
   "metadata": {
    "tags": []
   },
   "outputs": [
    {
     "name": "stdout",
     "output_type": "stream",
     "text": [
      "a\n",
      "None\n",
      "d\n"
     ]
    }
   ],
   "source": [
    "def no(str1):\n",
    "    i=[]\n",
    "    ctr={}\n",
    "    for c in str1:\n",
    "        if c in ctr:\n",
    "            ctr[c]+=1\n",
    "        else:\n",
    "            ctr[c]=1\n",
    "            i.append(c)\n",
    "    for c in i:\n",
    "        if ctr[c]==1:\n",
    "            return c\n",
    "    return None\n",
    "print(no('abcdef'))\n",
    "print(no('aabbccddee'))\n",
    "print(no('abcabcdef'))"
   ]
  },
  {
   "cell_type": "code",
   "execution_count": 213,
   "id": "4e9fc269-8bb0-4f67-932e-6f131409336b",
   "metadata": {
    "tags": []
   },
   "outputs": [
    {
     "name": "stdout",
     "output_type": "stream",
     "text": [
      "[('x', 'x', 'x'), ('x', 'x', 'y'), ('x', 'x', 'z'), ('x', 'y', 'x'), ('x', 'y', 'y'), ('x', 'y', 'z'), ('x', 'z', 'x'), ('x', 'z', 'y'), ('x', 'z', 'z'), ('y', 'x', 'x'), ('y', 'x', 'y'), ('y', 'x', 'z'), ('y', 'y', 'x'), ('y', 'y', 'y'), ('y', 'y', 'z'), ('y', 'z', 'x'), ('y', 'z', 'y'), ('y', 'z', 'z'), ('z', 'x', 'x'), ('z', 'x', 'y'), ('z', 'x', 'z'), ('z', 'y', 'x'), ('z', 'y', 'y'), ('z', 'y', 'z'), ('z', 'z', 'x'), ('z', 'z', 'y'), ('z', 'z', 'z')]\n",
      "[('x', 'x'), ('x', 'y'), ('x', 'z'), ('y', 'x'), ('y', 'y'), ('y', 'z'), ('z', 'x'), ('z', 'y'), ('z', 'z')]\n",
      "[('a', 'a', 'a', 'a'), ('a', 'a', 'a', 'b'), ('a', 'a', 'a', 'c'), ('a', 'a', 'a', 'd'), ('a', 'a', 'b', 'a'), ('a', 'a', 'b', 'b'), ('a', 'a', 'b', 'c'), ('a', 'a', 'b', 'd'), ('a', 'a', 'c', 'a'), ('a', 'a', 'c', 'b'), ('a', 'a', 'c', 'c'), ('a', 'a', 'c', 'd'), ('a', 'a', 'd', 'a'), ('a', 'a', 'd', 'b'), ('a', 'a', 'd', 'c'), ('a', 'a', 'd', 'd'), ('a', 'b', 'a', 'a'), ('a', 'b', 'a', 'b'), ('a', 'b', 'a', 'c'), ('a', 'b', 'a', 'd'), ('a', 'b', 'b', 'a'), ('a', 'b', 'b', 'b'), ('a', 'b', 'b', 'c'), ('a', 'b', 'b', 'd'), ('a', 'b', 'c', 'a'), ('a', 'b', 'c', 'b'), ('a', 'b', 'c', 'c'), ('a', 'b', 'c', 'd'), ('a', 'b', 'd', 'a'), ('a', 'b', 'd', 'b'), ('a', 'b', 'd', 'c'), ('a', 'b', 'd', 'd'), ('a', 'c', 'a', 'a'), ('a', 'c', 'a', 'b'), ('a', 'c', 'a', 'c'), ('a', 'c', 'a', 'd'), ('a', 'c', 'b', 'a'), ('a', 'c', 'b', 'b'), ('a', 'c', 'b', 'c'), ('a', 'c', 'b', 'd'), ('a', 'c', 'c', 'a'), ('a', 'c', 'c', 'b'), ('a', 'c', 'c', 'c'), ('a', 'c', 'c', 'd'), ('a', 'c', 'd', 'a'), ('a', 'c', 'd', 'b'), ('a', 'c', 'd', 'c'), ('a', 'c', 'd', 'd'), ('a', 'd', 'a', 'a'), ('a', 'd', 'a', 'b'), ('a', 'd', 'a', 'c'), ('a', 'd', 'a', 'd'), ('a', 'd', 'b', 'a'), ('a', 'd', 'b', 'b'), ('a', 'd', 'b', 'c'), ('a', 'd', 'b', 'd'), ('a', 'd', 'c', 'a'), ('a', 'd', 'c', 'b'), ('a', 'd', 'c', 'c'), ('a', 'd', 'c', 'd'), ('a', 'd', 'd', 'a'), ('a', 'd', 'd', 'b'), ('a', 'd', 'd', 'c'), ('a', 'd', 'd', 'd'), ('b', 'a', 'a', 'a'), ('b', 'a', 'a', 'b'), ('b', 'a', 'a', 'c'), ('b', 'a', 'a', 'd'), ('b', 'a', 'b', 'a'), ('b', 'a', 'b', 'b'), ('b', 'a', 'b', 'c'), ('b', 'a', 'b', 'd'), ('b', 'a', 'c', 'a'), ('b', 'a', 'c', 'b'), ('b', 'a', 'c', 'c'), ('b', 'a', 'c', 'd'), ('b', 'a', 'd', 'a'), ('b', 'a', 'd', 'b'), ('b', 'a', 'd', 'c'), ('b', 'a', 'd', 'd'), ('b', 'b', 'a', 'a'), ('b', 'b', 'a', 'b'), ('b', 'b', 'a', 'c'), ('b', 'b', 'a', 'd'), ('b', 'b', 'b', 'a'), ('b', 'b', 'b', 'b'), ('b', 'b', 'b', 'c'), ('b', 'b', 'b', 'd'), ('b', 'b', 'c', 'a'), ('b', 'b', 'c', 'b'), ('b', 'b', 'c', 'c'), ('b', 'b', 'c', 'd'), ('b', 'b', 'd', 'a'), ('b', 'b', 'd', 'b'), ('b', 'b', 'd', 'c'), ('b', 'b', 'd', 'd'), ('b', 'c', 'a', 'a'), ('b', 'c', 'a', 'b'), ('b', 'c', 'a', 'c'), ('b', 'c', 'a', 'd'), ('b', 'c', 'b', 'a'), ('b', 'c', 'b', 'b'), ('b', 'c', 'b', 'c'), ('b', 'c', 'b', 'd'), ('b', 'c', 'c', 'a'), ('b', 'c', 'c', 'b'), ('b', 'c', 'c', 'c'), ('b', 'c', 'c', 'd'), ('b', 'c', 'd', 'a'), ('b', 'c', 'd', 'b'), ('b', 'c', 'd', 'c'), ('b', 'c', 'd', 'd'), ('b', 'd', 'a', 'a'), ('b', 'd', 'a', 'b'), ('b', 'd', 'a', 'c'), ('b', 'd', 'a', 'd'), ('b', 'd', 'b', 'a'), ('b', 'd', 'b', 'b'), ('b', 'd', 'b', 'c'), ('b', 'd', 'b', 'd'), ('b', 'd', 'c', 'a'), ('b', 'd', 'c', 'b'), ('b', 'd', 'c', 'c'), ('b', 'd', 'c', 'd'), ('b', 'd', 'd', 'a'), ('b', 'd', 'd', 'b'), ('b', 'd', 'd', 'c'), ('b', 'd', 'd', 'd'), ('c', 'a', 'a', 'a'), ('c', 'a', 'a', 'b'), ('c', 'a', 'a', 'c'), ('c', 'a', 'a', 'd'), ('c', 'a', 'b', 'a'), ('c', 'a', 'b', 'b'), ('c', 'a', 'b', 'c'), ('c', 'a', 'b', 'd'), ('c', 'a', 'c', 'a'), ('c', 'a', 'c', 'b'), ('c', 'a', 'c', 'c'), ('c', 'a', 'c', 'd'), ('c', 'a', 'd', 'a'), ('c', 'a', 'd', 'b'), ('c', 'a', 'd', 'c'), ('c', 'a', 'd', 'd'), ('c', 'b', 'a', 'a'), ('c', 'b', 'a', 'b'), ('c', 'b', 'a', 'c'), ('c', 'b', 'a', 'd'), ('c', 'b', 'b', 'a'), ('c', 'b', 'b', 'b'), ('c', 'b', 'b', 'c'), ('c', 'b', 'b', 'd'), ('c', 'b', 'c', 'a'), ('c', 'b', 'c', 'b'), ('c', 'b', 'c', 'c'), ('c', 'b', 'c', 'd'), ('c', 'b', 'd', 'a'), ('c', 'b', 'd', 'b'), ('c', 'b', 'd', 'c'), ('c', 'b', 'd', 'd'), ('c', 'c', 'a', 'a'), ('c', 'c', 'a', 'b'), ('c', 'c', 'a', 'c'), ('c', 'c', 'a', 'd'), ('c', 'c', 'b', 'a'), ('c', 'c', 'b', 'b'), ('c', 'c', 'b', 'c'), ('c', 'c', 'b', 'd'), ('c', 'c', 'c', 'a'), ('c', 'c', 'c', 'b'), ('c', 'c', 'c', 'c'), ('c', 'c', 'c', 'd'), ('c', 'c', 'd', 'a'), ('c', 'c', 'd', 'b'), ('c', 'c', 'd', 'c'), ('c', 'c', 'd', 'd'), ('c', 'd', 'a', 'a'), ('c', 'd', 'a', 'b'), ('c', 'd', 'a', 'c'), ('c', 'd', 'a', 'd'), ('c', 'd', 'b', 'a'), ('c', 'd', 'b', 'b'), ('c', 'd', 'b', 'c'), ('c', 'd', 'b', 'd'), ('c', 'd', 'c', 'a'), ('c', 'd', 'c', 'b'), ('c', 'd', 'c', 'c'), ('c', 'd', 'c', 'd'), ('c', 'd', 'd', 'a'), ('c', 'd', 'd', 'b'), ('c', 'd', 'd', 'c'), ('c', 'd', 'd', 'd'), ('d', 'a', 'a', 'a'), ('d', 'a', 'a', 'b'), ('d', 'a', 'a', 'c'), ('d', 'a', 'a', 'd'), ('d', 'a', 'b', 'a'), ('d', 'a', 'b', 'b'), ('d', 'a', 'b', 'c'), ('d', 'a', 'b', 'd'), ('d', 'a', 'c', 'a'), ('d', 'a', 'c', 'b'), ('d', 'a', 'c', 'c'), ('d', 'a', 'c', 'd'), ('d', 'a', 'd', 'a'), ('d', 'a', 'd', 'b'), ('d', 'a', 'd', 'c'), ('d', 'a', 'd', 'd'), ('d', 'b', 'a', 'a'), ('d', 'b', 'a', 'b'), ('d', 'b', 'a', 'c'), ('d', 'b', 'a', 'd'), ('d', 'b', 'b', 'a'), ('d', 'b', 'b', 'b'), ('d', 'b', 'b', 'c'), ('d', 'b', 'b', 'd'), ('d', 'b', 'c', 'a'), ('d', 'b', 'c', 'b'), ('d', 'b', 'c', 'c'), ('d', 'b', 'c', 'd'), ('d', 'b', 'd', 'a'), ('d', 'b', 'd', 'b'), ('d', 'b', 'd', 'c'), ('d', 'b', 'd', 'd'), ('d', 'c', 'a', 'a'), ('d', 'c', 'a', 'b'), ('d', 'c', 'a', 'c'), ('d', 'c', 'a', 'd'), ('d', 'c', 'b', 'a'), ('d', 'c', 'b', 'b'), ('d', 'c', 'b', 'c'), ('d', 'c', 'b', 'd'), ('d', 'c', 'c', 'a'), ('d', 'c', 'c', 'b'), ('d', 'c', 'c', 'c'), ('d', 'c', 'c', 'd'), ('d', 'c', 'd', 'a'), ('d', 'c', 'd', 'b'), ('d', 'c', 'd', 'c'), ('d', 'c', 'd', 'd'), ('d', 'd', 'a', 'a'), ('d', 'd', 'a', 'b'), ('d', 'd', 'a', 'c'), ('d', 'd', 'a', 'd'), ('d', 'd', 'b', 'a'), ('d', 'd', 'b', 'b'), ('d', 'd', 'b', 'c'), ('d', 'd', 'b', 'd'), ('d', 'd', 'c', 'a'), ('d', 'd', 'c', 'b'), ('d', 'd', 'c', 'c'), ('d', 'd', 'c', 'd'), ('d', 'd', 'd', 'a'), ('d', 'd', 'd', 'b'), ('d', 'd', 'd', 'c'), ('d', 'd', 'd', 'd')]\n"
     ]
    }
   ],
   "source": [
    "from itertools import product\n",
    "def all_repeated(str1,rno):\n",
    "    chars=list(str1)\n",
    "    results=[]\n",
    "    for i in product(chars,repeat=rno):\n",
    "        results.append(i)\n",
    "    return results\n",
    "print(all_repeated('xyz',3))\n",
    "print(all_repeated('xyz',2))\n",
    "print(all_repeated('abcd',4))"
   ]
  },
  {
   "cell_type": "code",
   "execution_count": 219,
   "id": "a75d4848-e235-4bb5-b209-fb267ff47702",
   "metadata": {
    "tags": []
   },
   "outputs": [
    {
     "name": "stdout",
     "output_type": "stream",
     "text": [
      "a\n",
      "None\n"
     ]
    }
   ],
   "source": [
    "def first_repetaed(str1):\n",
    "    for index, i in enumerate(str1):\n",
    "        if str1[:index +1].count(i)>1:\n",
    "            return i\n",
    "    return 'None'\n",
    "print(first_repetaed('abcdabcd'))\n",
    "print(first_repetaed('abcd'))"
   ]
  },
  {
   "cell_type": "code",
   "execution_count": 226,
   "id": "a00fac70-b7a7-4990-b8d6-772cb5558fd4",
   "metadata": {
    "tags": []
   },
   "outputs": [
    {
     "name": "stdout",
     "output_type": "stream",
     "text": [
      "('a', 0)\n",
      "('b', 1)\n",
      "('c', 2)\n",
      "('x', 3)\n",
      "None\n"
     ]
    }
   ],
   "source": [
    "def rep(str1):\n",
    "    ch={}\n",
    "    for i in str1:\n",
    "        if i in ch:\n",
    "            return i, str1.index(i)\n",
    "        else:\n",
    "            ch[i]=0\n",
    "    return 'None'\n",
    "print(rep('abcabc'))\n",
    "print(rep('abcb'))\n",
    "print(rep('abcc'))\n",
    "print(rep('abcxxy'))\n",
    "print(rep('abcd'))"
   ]
  },
  {
   "cell_type": "code",
   "execution_count": 235,
   "id": "3203ba4a-f333-40a5-80b0-03c0ec548e38",
   "metadata": {
    "tags": []
   },
   "outputs": [
    {
     "name": "stdout",
     "output_type": "stream",
     "text": [
      "ab\n",
      "None\n",
      "ab\n",
      "ca\n",
      "............................................................\n",
      "ab\n",
      "ab\n",
      "ca\n",
      "None\n"
     ]
    }
   ],
   "source": [
    "def first_repeated(str1):\n",
    "    x=str1.split(' ')\n",
    "    for index, i in enumerate(x):\n",
    "        if x[:index +1].count(i)>1:\n",
    "            return i\n",
    "    return 'None'\n",
    "print(first_repeated('ab ca bc ab'))\n",
    "print(first_repeated('ab ca bc'))\n",
    "print(first_repeated(\"ab ca bc ab ca ab bc\"))\n",
    "print(first_repeated(\"ab ca bc ca ab bc\"))\n",
    "print('............................................................')\n",
    "# Define a function 'first_repeated_word' that takes a string 'str1' as input.\n",
    "def first_repeated_word(str1):\n",
    "    # Create an empty set 'temp' to store unique words encountered.\n",
    "    temp = set()\n",
    "    \n",
    "    # Iterate through each word in the string 'str1' by splitting it using spaces.\n",
    "    for word in str1.split():\n",
    "        # Check if the word is already in the 'temp' set.\n",
    "        if word in temp:\n",
    "            return word  # Return the first repeated word found.\n",
    "        else:\n",
    "            temp.add(word)  # Add the word to the 'temp' set if it's not already there.\n",
    "\n",
    "    return 'None'  # Return 'None' if no repeated word is found.\n",
    "\n",
    "# Call the 'first_repeated_word' function with different input strings and print the results.\n",
    "print(first_repeated_word(\"ab ca bc ab\"))\n",
    "print(first_repeated_word(\"ab ca bc ab ca ab bc\"))\n",
    "print(first_repeated_word(\"ab ca bc ca ab bc\"))\n",
    "print(first_repeated_word(\"ab ca bc\")) \n"
   ]
  },
  {
   "cell_type": "code",
   "execution_count": 240,
   "id": "7283480f-2f23-4d30-b7d7-fd79a595f37d",
   "metadata": {
    "tags": []
   },
   "outputs": [
    {
     "name": "stdout",
     "output_type": "stream",
     "text": [
      "('of', 4)\n"
     ]
    }
   ],
   "source": [
    "def secon_rep(str1):\n",
    "    c=dict()\n",
    "    w=str1.split()\n",
    "    for i in w:\n",
    "        if i in c:\n",
    "            c[i]+=1\n",
    "        else:\n",
    "            c[i]=1\n",
    "    c_x=sorted(c.items(),key=lambda kv:kv[1])\n",
    "    return c_x[-2]\n",
    "print(secon_rep(\"Both of these issues are fixed by postponing the evaluation of annotations. Instead of compiling code which executes expressions in annotations at their definition time, the compiler stores the annotation in a string form equivalent to the AST of the expression in question. If needed, annotations can be resolved at runtime using typing.get_type_hints(). In the common case where this is not required, the annotations are cheaper to store (since short strings are interned by the interpreter) and make startup time faster.\")) "
   ]
  },
  {
   "cell_type": "code",
   "execution_count": 254,
   "id": "59878be0-669c-4b6f-9cdf-fd97cb32be97",
   "metadata": {
    "tags": []
   },
   "outputs": [
    {
     "name": "stdout",
     "output_type": "stream",
     "text": [
      "pawanyadavindianarmy\n",
      "w3school\n"
     ]
    }
   ],
   "source": [
    "def remove_space(str1):\n",
    "    return str1.replace((' '),'')\n",
    "print(remove_space('pawan yadav indian army'))\n",
    "print(remove_space('w 3 s c h o o l'))"
   ]
  },
  {
   "cell_type": "code",
   "execution_count": 259,
   "id": "8ad9de59-aff5-4ed9-bd5d-cbdc04bf5f3d",
   "metadata": {
    "tags": []
   },
   "outputs": [
    {
     "name": "stdout",
     "output_type": "stream",
     "text": [
      "3\n",
      "\"   w3resource.com\"\n",
      "5\n",
      "\"     w3resource.com\"\n"
     ]
    }
   ],
   "source": [
    "def move_space(str1):\n",
    "    no=[c for c in str1 if c !=' ']\n",
    "    sp=len(str1)-len(no)\n",
    "    print(sp)\n",
    "    result=' '*sp\n",
    "    result='\"'+result+''.join(no)+'\"'\n",
    "    return result\n",
    "print(move_space('w3resource . com '))\n",
    "print(move_space('  w3resource.com   '))"
   ]
  },
  {
   "cell_type": "code",
   "execution_count": 265,
   "id": "d3ef703d-1ec2-4b02-8612-0f10901437b1",
   "metadata": {
    "tags": []
   },
   "outputs": [
    {
     "name": "stdout",
     "output_type": "stream",
     "text": [
      "t\n",
      "b\n"
     ]
    }
   ],
   "source": [
    "def max_ch(str1):\n",
    "    a=256\n",
    "    ctr =[0]*a\n",
    "    max=-1\n",
    "    ch=''\n",
    "    for i in str1:\n",
    "        ctr[ord(i)]+=1\n",
    "    for i in str1:\n",
    "        if max <ctr[ord(i)]:\n",
    "            max=ctr[ord(i)]\n",
    "            ch=i\n",
    "    return ch\n",
    "print(max_ch('Python: Get file creation and modification date/times'))\n",
    "print(max_ch(\"abcdefghijkb\"))"
   ]
  },
  {
   "cell_type": "code",
   "execution_count": 268,
   "id": "1cd126e3-8a99-46bf-a7c4-451e7d588b84",
   "metadata": {
    "tags": []
   },
   "outputs": [
    {
     "name": "stdout",
     "output_type": "stream",
     "text": [
      "PawanyadaV\n"
     ]
    }
   ],
   "source": [
    "str1='pawanyadav'\n",
    "print(str1[0].upper()+str1[1:-1:]+str1[-1].upper())"
   ]
  },
  {
   "cell_type": "code",
   "execution_count": 270,
   "id": "aecfbd8f-908b-411d-a158-6560c111c2d8",
   "metadata": {
    "tags": []
   },
   "outputs": [
    {
     "name": "stdout",
     "output_type": "stream",
     "text": [
      "PythoN ExerciseS PracticE SolutioN\n",
      "W3ResourcE\n"
     ]
    }
   ],
   "source": [
    "def cap(str1):\n",
    "    str1=result=str1.title()\n",
    "    result=''\n",
    "    for i in str1.split():\n",
    "        result+=i[:-1]+i[-1].upper()+' '\n",
    "    return result[:-1]\n",
    "print(cap('python exercises practice solution'))\n",
    "print(cap('w3resource'))"
   ]
  },
  {
   "cell_type": "code",
   "execution_count": 272,
   "id": "42163251-ee01-4c58-99e4-a603e48cee2d",
   "metadata": {
    "tags": []
   },
   "outputs": [
    {
     "name": "stdout",
     "output_type": "stream",
     "text": [
      "python exrcisalu\n",
      "w3resouc\n"
     ]
    }
   ],
   "source": [
    "from collections import OrderedDict\n",
    "def remove(str1):\n",
    "    unique=OrderedDict.fromkeys(str1)\n",
    "    return ''.join(unique.keys())\n",
    "print(remove('python exercise practice solution'))\n",
    "print(remove('w3resource'))"
   ]
  },
  {
   "cell_type": "code",
   "execution_count": 286,
   "id": "2301531f-cf99-45f2-9408-88f28a371a57",
   "metadata": {
    "tags": []
   },
   "outputs": [
    {
     "name": "stdin",
     "output_type": "stream",
     "text": [
      "enter a numbers: hbhjb1+2\n"
     ]
    },
    {
     "name": "stdout",
     "output_type": "stream",
     "text": [
      "3\n"
     ]
    }
   ],
   "source": [
    "def sum_1(str1):\n",
    "    s=0\n",
    "    for i in str1:\n",
    "        if i.isdigit():\n",
    "            digit=int(i)\n",
    "            s+=digit\n",
    "    return s\n",
    "print(sum_1((input('enter a numbers:'))))"
   ]
  },
  {
   "cell_type": "code",
   "execution_count": 293,
   "id": "c523161b-37dc-4b1d-be0a-e8289b4c8d6e",
   "metadata": {
    "tags": []
   },
   "outputs": [
    {
     "name": "stdout",
     "output_type": "stream",
     "text": [
      "255.24.1.1\n",
      "127.0.0.1\n"
     ]
    }
   ],
   "source": [
    "def ip(str1):\n",
    "    n='.'.join([str(int(i)) for i in str1.split('.')])\n",
    "    return n\n",
    "print(ip('255.024.01.01'))\n",
    "print(ip('127.0.0.01'))"
   ]
  },
  {
   "cell_type": "code",
   "execution_count": 299,
   "id": "908c7c74-226e-4258-a921-83f38e9afeaf",
   "metadata": {
    "tags": []
   },
   "outputs": [
    {
     "name": "stdin",
     "output_type": "stream",
     "text": [
      "enter a number: 111000010000110\n"
     ]
    },
    {
     "name": "stdout",
     "output_type": "stream",
     "text": [
      "Original string:111000010000110\n",
      "Maximum length of consecutive 0's:\n",
      "4\n"
     ]
    },
    {
     "name": "stdin",
     "output_type": "stream",
     "text": [
      "enter a number: 111000111\n"
     ]
    },
    {
     "name": "stdout",
     "output_type": "stream",
     "text": [
      "Original string:111000111\n",
      "Maximum length of consecutive 0's:\n",
      "3\n"
     ]
    },
    {
     "name": "stdin",
     "output_type": "stream",
     "text": [
      "enter a number: 1001010001000010000000010000000000000010000000000000000\n"
     ]
    },
    {
     "name": "stdout",
     "output_type": "stream",
     "text": [
      "Original string:1001010001000010000000010000000000000010000000000000000\n",
      "Maximum length of consecutive 0's:\n",
      "16\n"
     ]
    }
   ],
   "source": [
    "def max_con(str1):\n",
    "    return max(map(len,str1.split('1')))\n",
    "for str1 in range(3):\n",
    "    str1=input('enter a number:')\n",
    "    print('Original string:'+str1)\n",
    "    print(\"Maximum length of consecutive 0's:\")\n",
    "    print(max_con(str1))\n"
   ]
  },
  {
   "cell_type": "code",
   "execution_count": 355,
   "id": "ed05f94d-4567-461e-a174-daebf6287471",
   "metadata": {
    "tags": []
   },
   "outputs": [
    {
     "name": "stdout",
     "output_type": "stream",
     "text": [
      "Two strings:Python:PhP\n",
      "Ph\n",
      "Two strings:Java:PHP\n",
      "No common Characters.\n"
     ]
    }
   ],
   "source": [
    "from collections import Counter\n",
    "def common_char(str1,str2):\n",
    "    d1=Counter(str1)\n",
    "    d2=Counter(str2)\n",
    "    common_dict=d1 & d2\n",
    "    if len(common_dict)==0:\n",
    "        return 'No common Characters.'\n",
    "    common_chars=list(common_dict.elements())\n",
    "    common_char=sorted(common_chars)\n",
    "    return ''.join(common_chars)\n",
    "str1='Python'\n",
    "str2='PhP'\n",
    "print(\"Two strings:\"+str1+':'+str2)\n",
    "print(common_char(str1,str2))\n",
    "str1='Java'\n",
    "str2='PHP'\n",
    "print('Two strings:'+str1+':'+str2)\n",
    "print(common_char(str1,str2))"
   ]
  },
  {
   "cell_type": "code",
   "execution_count": 3,
   "id": "66d10872-f9ef-4a53-bfd8-e5a188f4791e",
   "metadata": {
    "tags": []
   },
   "outputs": [
    {
     "name": "stdout",
     "output_type": "stream",
     "text": [
      "Two Strings: Python : PhP\n",
      "P\n",
      "Two Strings: Java : PHP\n",
      "No Common Char\n"
     ]
    }
   ],
   "source": [
    "def common(str1,str2):\n",
    "    str3=list(str1)\n",
    "    str4=list(str2)\n",
    "    print('Two Strings:',str1,':',str2)\n",
    "    for i in str3:\n",
    "        if i in str4:\n",
    "            return i\n",
    "    else:\n",
    "        return 'No Common Char'\n",
    "print(common('Python','PhP'))\n",
    "print(common('Java','PHP'))"
   ]
  },
  {
   "cell_type": "code",
   "execution_count": 11,
   "id": "9bfa1a02-2c1d-48c3-9bc3-36acd4961c7b",
   "metadata": {
    "tags": []
   },
   "outputs": [
    {
     "name": "stdout",
     "output_type": "stream",
     "text": [
      "{'p': 1, 'a': 2, 'w': 1, 'n': 1}\n"
     ]
    },
    {
     "name": "stdin",
     "output_type": "stream",
     "text": [
      "Input Str1: pawan\n",
      "Input Str1: yadav\n"
     ]
    },
    {
     "name": "stdout",
     "output_type": "stream",
     "text": [
      "6\n"
     ]
    }
   ],
   "source": [
    "def make_map(s):\n",
    "    temp={}\n",
    "    for i in s:\n",
    "        if i not in temp:\n",
    "            temp[i]=1\n",
    "        else:\n",
    "            temp[i]+=1\n",
    "    return temp\n",
    "print(make_map('pawan'))\n",
    "def make_anagram(str1,str2):\n",
    "    x=make_map(str1)\n",
    "    y=make_map(str2)\n",
    "    c=0\n",
    "    for key in y.keys():\n",
    "        if key not in x:\n",
    "            c+=y[key]\n",
    "        else:\n",
    "            c+=max(0,y[key]-x[key])\n",
    "    for key in x.keys():\n",
    "        if key not in y:\n",
    "            c+=x[key]\n",
    "        else:\n",
    "            c+=max(0,x[key]-y[key])\n",
    "    return c\n",
    "str1=input('Input Str1:')\n",
    "str2=input('Input Str1:')\n",
    "print(make_anagram(str1,str2))"
   ]
  },
  {
   "cell_type": "code",
   "execution_count": 12,
   "id": "c49776b4-5676-43e9-940c-abf5913d018e",
   "metadata": {
    "tags": []
   },
   "outputs": [
    {
     "name": "stdout",
     "output_type": "stream",
     "text": [
      "Original string: xxxxxxxyyyyyyy\n",
      "After removing:\n",
      "xy\n"
     ]
    }
   ],
   "source": [
    "from itertools import groupby\n",
    "def remove(str1):\n",
    "    r=[]\n",
    "    for (key,group) in groupby(str1):\n",
    "        r.append(key)\n",
    "    return ''.join(r)\n",
    "str1='xxxxxxxyyyyyyy'\n",
    "print('Original string:',str1)\n",
    "print('After removing:')\n",
    "print(remove(str1))"
   ]
  },
  {
   "cell_type": "code",
   "execution_count": 28,
   "id": "2defd712-ea00-47e0-8bd0-0f5e7b52deae",
   "metadata": {
    "tags": []
   },
   "outputs": [
    {
     "name": "stdout",
     "output_type": "stream",
     "text": [
      "xy"
     ]
    }
   ],
   "source": [
    "str1='xxxxxxxxyyyyyyyyyyyyxxxxxxxxxxyyyy'\n",
    "str2=set(str1)\n",
    "str3=sorted(list(str2))\n",
    "for i in str3:\n",
    "    print(i,end='')"
   ]
  },
  {
   "cell_type": "code",
   "execution_count": 46,
   "id": "67104f2a-f316-4ed8-b41a-7b4b7e5058b5",
   "metadata": {
    "tags": []
   },
   "outputs": [
    {
     "name": "stdout",
     "output_type": "stream",
     "text": [
      "3cosuw\n",
      "er\n"
     ]
    }
   ],
   "source": [
    "from collections import Counter\n",
    "def generate(str1):\n",
    "    s=Counter(str1)\n",
    "    p=[key for (key,count) in s.items() if count==1]\n",
    "    p1=[key for (key,count) in s.items() if count>1]\n",
    "    p.sort()\n",
    "    p1.sort()\n",
    "    return p,p1\n",
    "str1='w3resource'\n",
    "s1,s2=generate(str1)\n",
    "print(''.join(s1))\n",
    "print(''.join(s2))"
   ]
  },
  {
   "cell_type": "code",
   "execution_count": 6,
   "id": "e4cad1ca-0054-4d00-a779-9fc631b20929",
   "metadata": {},
   "outputs": [
    {
     "name": "stdout",
     "output_type": "stream",
     "text": [
      "Original Substrings:\n",
      " abcdefgh \n",
      " xswerabcdwd\n",
      "\n",
      "Common longest sub_string:\n",
      "abcd\n"
     ]
    }
   ],
   "source": [
    "from difflib import SequenceMatcher\n",
    "def longest(s1,s2):\n",
    "    x=SequenceMatcher(None,s1,s2)\n",
    "    m=x.find_longest_match(0,len(s1),0,len(s2))\n",
    "    if (m.size!=0):\n",
    "        return (s1[m.a:m.a+m.size])\n",
    "    else:\n",
    "        return ('Longest common sub-string not present')\n",
    "\n",
    "s1='abcdefgh'\n",
    "s2='xswerabcdwd'\n",
    "print('Original Substrings:\\n',s1,'\\n',s2)\n",
    "print('\\nCommon longest sub_string:')\n",
    "print(longest(s1,s2))"
   ]
  },
  {
   "cell_type": "code",
   "execution_count": 10,
   "id": "574507da-570f-4bd5-8cb4-b99ce6c97efe",
   "metadata": {
    "tags": []
   },
   "outputs": [
    {
     "name": "stdout",
     "output_type": "stream",
     "text": [
      "original substrings:\n",
      " abcdpqr \n",
      " xyzabcd\n",
      "\n",
      "After concate uncommon char:\n",
      "pqrxyz\n"
     ]
    }
   ],
   "source": [
    "def uncommon(s1,s2):\n",
    "    s=set(s1)\n",
    "    x=set(s2)\n",
    "    common=list(s & x)\n",
    "    result=[i for i in s1 if i not in common]+[i for i in s2 if i not in common]\n",
    "    return (''.join(result))\n",
    "s1='abcdpqr'\n",
    "s2='xyzabcd'\n",
    "print('original substrings:\\n',s1,'\\n',s2)\n",
    "print('\\nAfter concate uncommon char:')\n",
    "print(uncommon(s1,s2))"
   ]
  },
  {
   "cell_type": "code",
   "execution_count": 13,
   "id": "4b3c676a-d1ab-4d04-8466-8f7881d0d25a",
   "metadata": {
    "tags": []
   },
   "outputs": [
    {
     "name": "stdout",
     "output_type": "stream",
     "text": [
      "Original string:\n",
      " Pawan Yadav\n",
      "\n",
      "After moving all spaces to the front :\n",
      " PawanYadav\n"
     ]
    }
   ],
   "source": [
    "def x(s1):\n",
    "    n=[i for i in s1 if i!=' ']\n",
    "    s=len(s1)-len(n)\n",
    "    r=' '*s\n",
    "    return r+''.join(n)\n",
    "s1='Pawan Yadav'\n",
    "print('Original string:\\n',s1)\n",
    "print('\\nAfter moving all spaces to the front :')\n",
    "print(x(s1))"
   ]
  },
  {
   "cell_type": "code",
   "execution_count": 19,
   "id": "99d62a38-5485-4617-90ce-c665e8cf6898",
   "metadata": {
    "tags": []
   },
   "outputs": [
    {
     "name": "stdout",
     "output_type": "stream",
     "text": [
      "eee"
     ]
    }
   ],
   "source": [
    "str1='exercise'\n",
    "s=list(str1)\n",
    "for i in s:\n",
    "    if i=='e':\n",
    "        print(i,end='')"
   ]
  },
  {
   "cell_type": "code",
   "execution_count": 28,
   "id": "3da78242-bf5c-45d8-b4e2-f701f674c414",
   "metadata": {
    "tags": []
   },
   "outputs": [
    {
     "name": "stdin",
     "output_type": "stream",
     "text": [
      "Enter string:\n",
      " python\n",
      "Enter character that not remove: p\n"
     ]
    },
    {
     "name": "stdout",
     "output_type": "stream",
     "text": [
      "p"
     ]
    },
    {
     "name": "stdin",
     "output_type": "stream",
     "text": [
      "Enter string:\n",
      " google\n",
      "Enter character that not remove: g\n"
     ]
    },
    {
     "name": "stdout",
     "output_type": "stream",
     "text": [
      "gg"
     ]
    },
    {
     "name": "stdin",
     "output_type": "stream",
     "text": [
      "Enter string:\n",
      " exercise\n",
      "Enter character that not remove: e\n"
     ]
    },
    {
     "name": "stdout",
     "output_type": "stream",
     "text": [
      "eee"
     ]
    }
   ],
   "source": [
    "def ex(str1,c):\n",
    "    s=list(str1)\n",
    "    for i in s:\n",
    "        if i==c:\n",
    "            print(i,end='')\n",
    "for y in range(3):\n",
    "    y=ex((input('Enter string:\\n')),(input('Enter character that not remove:')))"
   ]
  },
  {
   "cell_type": "code",
   "execution_count": 36,
   "id": "f2417a58-7e1f-48e5-b197-d580d930716e",
   "metadata": {
    "tags": []
   },
   "outputs": [
    {
     "name": "stdin",
     "output_type": "stream",
     "text": [
      "enter string: @w3Resource.Com\n"
     ]
    },
    {
     "name": "stdout",
     "output_type": "stream",
     "text": [
      "\n",
      "Upper case: 2\n",
      "Lower case: 10\n",
      "number case: 1\n",
      "special case: 2\n"
     ]
    },
    {
     "name": "stdin",
     "output_type": "stream",
     "text": [
      "enter string: Pawan__@@@___Yadav.22082000\n"
     ]
    },
    {
     "name": "stdout",
     "output_type": "stream",
     "text": [
      "\n",
      "Upper case: 2\n",
      "Lower case: 8\n",
      "number case: 8\n",
      "special case: 9\n"
     ]
    }
   ],
   "source": [
    "def cc(str1):\n",
    "    uc,lc,nc,sc=0,0,0,0\n",
    "    for i in range(len(str1)):\n",
    "        if str1[i]>='A' and str1[i]<='Z':\n",
    "            uc+=1\n",
    "        elif str1[i]>='a' and str1[i]<='z':\n",
    "            lc+=1\n",
    "        elif str1[i]>='0' and str1[i]<='9':\n",
    "            nc+=1\n",
    "        else:\n",
    "            sc+=1\n",
    "    return uc, lc, nc, sc\n",
    "for str1 in range(2):\n",
    "    str1=input('enter string:')\n",
    "    u,l,n,s=cc(str1)\n",
    "    print('\\nUpper case:',u)\n",
    "    print('Lower case:',l)\n",
    "    print('number case:',n)\n",
    "    print('special case:',s)"
   ]
  },
  {
   "cell_type": "code",
   "execution_count": 47,
   "id": "af86c38e-9310-4134-afc4-a07ded2182a7",
   "metadata": {
    "tags": []
   },
   "outputs": [
    {
     "name": "stdout",
     "output_type": "stream",
     "text": [
      "Original Strings:\n",
      " PRWSOERIUSFK \n",
      " OSU\n",
      "Minimum window:\n",
      "OERIUS\n"
     ]
    }
   ],
   "source": [
    "import collections\n",
    "def min_window(str1,str2):\n",
    "    result,missing=collections.Counter(str2),len(str2)\n",
    "    i=p=q=0\n",
    "    for j,c in enumerate(str1,1):\n",
    "        missing-=result[c]>0\n",
    "        result[c]-=1\n",
    "        if not missing:\n",
    "            while i<q and result[str1[i]]<0:\n",
    "                result[str1[i]]+=1\n",
    "                i+=1\n",
    "            if not q or j-i<=q-p:\n",
    "                p,q=i,j\n",
    "    return str1[p:q]\n",
    "str1='PRWSOERIUSFK'\n",
    "str2='OSU'\n",
    "print(\"Original Strings:\\n\",str1,\"\\n\",str2)\n",
    "print(\"Minimum window:\")\n",
    "print(min_window(str1,str2))"
   ]
  },
  {
   "cell_type": "code",
   "execution_count": 49,
   "id": "1f0274e3-ad6d-4738-8f44-b11cc5e77034",
   "metadata": {
    "tags": []
   },
   "outputs": [
    {
     "name": "stdout",
     "output_type": "stream",
     "text": [
      "Original Strings:\n",
      " asdaewsqgtwwsa\n",
      "\n",
      "Smallest window that contains all characters of the said string:\n",
      "daewsqgt\n"
     ]
    }
   ],
   "source": [
    "from collections import defaultdict\n",
    "def fin(s1):\n",
    "    s=len(s1)\n",
    "    d=len(set([x for x in s1]))\n",
    "    c,x,y,m=0,0,-1,99999999\n",
    "    w=defaultdict(lambda:0)\n",
    "    for i in range(s):\n",
    "        w[s1[i]]+=1\n",
    "        if w[s1[i]]==1:\n",
    "            c+=1\n",
    "        if c==d:\n",
    "            while w[s1[x]]>1:\n",
    "                if w[s1[x]]<1:\n",
    "                    w[s1[x]]-=1\n",
    "                x+=1\n",
    "            l=i-x+1\n",
    "            if m>l:\n",
    "                m=l\n",
    "                y=x\n",
    "    return s1[y:y+m]\n",
    "s1 = \"asdaewsqgtwwsa\"\n",
    "print(\"Original Strings:\\n\",s1)\n",
    "print(\"\\nSmallest window that contains all characters of the said string:\")\n",
    "print(fin(s1))  "
   ]
  },
  {
   "cell_type": "code",
   "execution_count": 62,
   "id": "c135126f-671a-4fe9-b42c-0438615d0f57",
   "metadata": {
    "tags": []
   },
   "outputs": [
    {
     "name": "stdin",
     "output_type": "stream",
     "text": [
      "Input a String (lowercase alphabets): wolf\n",
      "Input k: 4\n"
     ]
    },
    {
     "name": "stdout",
     "output_type": "stream",
     "text": [
      "Number of substrings with exactly 4 distinct characters:\n",
      "1\n"
     ]
    }
   ],
   "source": [
    "def k_dis(s1,k):\n",
    "    s=len(s1)\n",
    "    r=0\n",
    "    c=[0]*27\n",
    "    for i in range(0,s):\n",
    "        d=0\n",
    "        c=[0]*27\n",
    "        for j in range(i,s):\n",
    "            if (c[ord(s1[j])-97]==0):\n",
    "                d+=1\n",
    "            c[ord(s1[j])-97]+=1\n",
    "            if(d==k):\n",
    "                r+= 1\n",
    "            if(d>k):\n",
    "                break\n",
    "    return r\n",
    "s1=input('Input a String (lowercase alphabets):')\n",
    "k=int(input('Input k:'))\n",
    "print('Number of substrings with exactly',k,'distinct characters:')\n",
    "print(k_dis(s1,k))"
   ]
  },
  {
   "cell_type": "code",
   "execution_count": 65,
   "id": "ed40b7ab-a5e8-440b-a659-ea5208bb8819",
   "metadata": {
    "tags": []
   },
   "outputs": [
    {
     "name": "stdin",
     "output_type": "stream",
     "text": [
      "enter a string: wolf\n"
     ]
    },
    {
     "name": "stdout",
     "output_type": "stream",
     "text": [
      "number of substrings:\n",
      "10\n"
     ]
    }
   ],
   "source": [
    "def num(s1):\n",
    "    s=len(s1)\n",
    "    return int(s*(s+1)/2)\n",
    "s1=input('enter a string:')\n",
    "print('number of substrings:')\n",
    "print(num(s1))"
   ]
  },
  {
   "cell_type": "code",
   "execution_count": 4,
   "id": "a5ade2be-bcec-4fdc-9ee8-1eff45856b54",
   "metadata": {},
   "outputs": [
    {
     "name": "stdin",
     "output_type": "stream",
     "text": [
      "Enter a String: xbcefg\n"
     ]
    },
    {
     "name": "stdout",
     "output_type": "stream",
     "text": [
      "2\n"
     ]
    }
   ],
   "source": [
    "x=input('Enter a String:')\n",
    "z=0\n",
    "for i in range(len(x)):\n",
    "    if ((i == ord(x[i]) - ord('A')) or (i == ord(x[i]) - ord('a'))):\n",
    "        z+=1\n",
    "print(z)"
   ]
  },
  {
   "cell_type": "code",
   "execution_count": 20,
   "id": "dd9a4eb1-b62b-4a70-a376-d8651ecaf525",
   "metadata": {
    "tags": []
   },
   "outputs": [
    {
     "name": "stdout",
     "output_type": "stream",
     "text": [
      "Smallest word:  a\n",
      "Largest word:  Algorithm.\n"
     ]
    }
   ],
   "source": [
    "str1 = \"Write a Java program to sort an array of given integers using Quick sort Algorithm.\"\n",
    "x=''\n",
    "y=[]\n",
    "str1=str1+' '\n",
    "for i in range(0,len(str1)):\n",
    "    if (str1[i] != ' '):\n",
    "        x=x+str1[i]\n",
    "    else:\n",
    "        y.append(x)\n",
    "        x=''\n",
    "s=l=y[0]\n",
    "for j in range(0,len(y)):\n",
    "    if(len(s)>len(y[j])):\n",
    "        s=y[j]\n",
    "    if(len(l) < len(y[j])):\n",
    "        l=y[j]\n",
    "print(\"Smallest word: \",s)\n",
    "print(\"Largest word: \" ,l)"
   ]
  },
  {
   "cell_type": "code",
   "execution_count": 24,
   "id": "051ed6b0-07c6-4e06-8d8f-0bacf61137f9",
   "metadata": {
    "tags": []
   },
   "outputs": [
    {
     "name": "stdin",
     "output_type": "stream",
     "text": [
      "Enter a string: nm\n"
     ]
    },
    {
     "name": "stdout",
     "output_type": "stream",
     "text": [
      "2\n"
     ]
    }
   ],
   "source": [
    "x=input('Enter a string:')\n",
    "r=0\n",
    "n=len(x)\n",
    "for i in range(n):\n",
    "    for j in range(i,n):\n",
    "        if (x[i]==x[j]):\n",
    "            r+=1\n",
    "print(r)"
   ]
  },
  {
   "cell_type": "code",
   "execution_count": 25,
   "id": "a543bcc4-90c2-4159-aa84-02e855e8dd23",
   "metadata": {
    "tags": []
   },
   "outputs": [
    {
     "name": "stdout",
     "output_type": "stream",
     "text": [
      "7\n",
      "1\n",
      "Not Found\n"
     ]
    }
   ],
   "source": [
    "def find_index(x,p):\n",
    "    if len(p)>len(x):\n",
    "        return 'Not Found'\n",
    "    for i in range(len(x)):\n",
    "        for j in range(len(p)):\n",
    "            if x[i+j]==p[j] and j==len(p)-1:\n",
    "                return i\n",
    "            elif x[i+j] != p[j]:\n",
    "                break\n",
    "    return 'Not Found'\n",
    "print(find_index('Python Exercise','Ex'))\n",
    "print(find_index('Python Exercise','yt'))\n",
    "print(find_index('Python Exercise','PY'))"
   ]
  },
  {
   "cell_type": "code",
   "execution_count": 33,
   "id": "297f72fa-9fd1-46cd-a77b-4345f7256421",
   "metadata": {
    "tags": []
   },
   "outputs": [
    {
     "name": "stdout",
     "output_type": "stream",
     "text": [
      "The quick\n",
      "brown fox.\n"
     ]
    }
   ],
   "source": [
    "import textwrap\n",
    "i='The quick brown fox.'\n",
    "print(textwrap.fill(i,width=10))"
   ]
  },
  {
   "cell_type": "code",
   "execution_count": 39,
   "id": "8353fbcb-43b5-4c2e-ad89-1c84255ade24",
   "metadata": {
    "tags": []
   },
   "outputs": [
    {
     "name": "stdin",
     "output_type": "stream",
     "text": [
      "Enter a number: 25\n"
     ]
    },
    {
     "name": "stdout",
     "output_type": "stream",
     "text": [
      "25   31   19   11001\n"
     ]
    }
   ],
   "source": [
    "x=int(input('Enter a number:'))\n",
    "o=str(oct(x))[2:]\n",
    "h=str(hex(x))[2:].upper()\n",
    "b=str(bin(x))[2:]\n",
    "d=str(x)\n",
    "print(d,' ',o,' ',h,' ',b)"
   ]
  },
  {
   "cell_type": "code",
   "execution_count": 42,
   "id": "41a2b55b-466b-493d-882b-f8c44a1e28bb",
   "metadata": {
    "tags": []
   },
   "outputs": [
    {
     "name": "stdin",
     "output_type": "stream",
     "text": [
      "Enter a strings: Python Exercise\n"
     ]
    },
    {
     "name": "stdout",
     "output_type": "stream",
     "text": [
      "pYTHON eXERCISE\n"
     ]
    },
    {
     "name": "stdin",
     "output_type": "stream",
     "text": [
      "Enter a strings: Java\n"
     ]
    },
    {
     "name": "stdout",
     "output_type": "stream",
     "text": [
      "jAVA\n"
     ]
    },
    {
     "name": "stdin",
     "output_type": "stream",
     "text": [
      "Enter a strings: NumPy\n"
     ]
    },
    {
     "name": "stdout",
     "output_type": "stream",
     "text": [
      "nUMpY\n"
     ]
    }
   ],
   "source": [
    "def swap_case(x):\n",
    "     return (x.swapcase())\n",
    "for x in range(3):\n",
    "    x=input('Enter a strings:')\n",
    "    print(swap_case(x))"
   ]
  },
  {
   "cell_type": "code",
   "execution_count": 46,
   "id": "7a77f00b-f1d6-40ab-aa2d-a411fd437fd2",
   "metadata": {
    "tags": []
   },
   "outputs": [
    {
     "name": "stdout",
     "output_type": "stream",
     "text": [
      "6f0c2d436d\n"
     ]
    }
   ],
   "source": [
    "def bytearray_to_hexadecimal(z):\n",
    "    return (''.join('{:02x}'.format(x) for x in z))\n",
    "z=[111, 12, 45, 67, 109]\n",
    "print(bytearray_to_hexadecimal(z))"
   ]
  },
  {
   "cell_type": "code",
   "execution_count": 53,
   "id": "3f77de46-9554-4cac-bf69-2ee4a3933983",
   "metadata": {
    "tags": []
   },
   "outputs": [
    {
     "name": "stdout",
     "output_type": "stream",
     "text": [
      "Delete all occurrences of a specified character in a given string\n",
      "Delete ll occurrences of  specified chrcter in  given string\n"
     ]
    }
   ],
   "source": [
    "x='Delete all occurrences of a specified character in a given string'\n",
    "z=x.replace('a','')\n",
    "print(x,'\\n',z,sep='')"
   ]
  },
  {
   "cell_type": "code",
   "execution_count": 59,
   "id": "beef6f9d-d8d7-440f-b6a9-8e42415c2e04",
   "metadata": {
    "tags": []
   },
   "outputs": [
    {
     "name": "stdout",
     "output_type": "stream",
     "text": [
      "Python\n"
     ]
    }
   ],
   "source": [
    "def intersection_of_two_string(x,y):\n",
    "    r=''\n",
    "    for i in x:\n",
    "        if i in y and not i in r:\n",
    "            r+=i\n",
    "    return r\n",
    "x='Python3'\n",
    "y='Python2.7'            \n",
    "print(intersection_of_two_string(x,y))"
   ]
  },
  {
   "cell_type": "code",
   "execution_count": 81,
   "id": "8e450fb8-2356-402e-b6bb-53c5062fdbaa",
   "metadata": {
    "tags": []
   },
   "outputs": [
    {
     "name": "stdin",
     "output_type": "stream",
     "text": [
      "Enter a string: Python3\n"
     ]
    },
    {
     "name": "stdout",
     "output_type": "stream",
     "text": [
      "['2']\n"
     ]
    }
   ],
   "source": [
    "x=input('Enter a string:')\n",
    "r=[]\n",
    "if not any(i.islower() for i in x):\n",
    "    r.append('1')\n",
    "if not any(i.isupper() for i in x):\n",
    "    r.append('4')\n",
    "if not any(i.isdigit() for i in x):\n",
    "    r.append('3')\n",
    "if  len(x)< 8:\n",
    "    r.append('2')\n",
    "if not r:\n",
    "    r.append('vaild String')\n",
    "print(r)"
   ]
  },
  {
   "cell_type": "code",
   "execution_count": 100,
   "id": "9567074f-e8c5-40e6-a123-d14d20a12015",
   "metadata": {
    "tags": []
   },
   "outputs": [
    {
     "name": "stdout",
     "output_type": "stream",
     "text": [
      "Python Exercises \n",
      " ABCD\n"
     ]
    }
   ],
   "source": [
    "x='Pyth*^on Exercis^es \\n A%^!B#*CD'\n",
    "p=[\"#\", \"*\", \"!\", \"^\", \"%\"]\n",
    "for i in p:\n",
    "    x=x.replace(i,'')\n",
    "print(x)"
   ]
  },
  {
   "cell_type": "code",
   "execution_count": 117,
   "id": "c0b36289-5df7-4a9a-b900-3f9016d47710",
   "metadata": {
    "tags": []
   },
   "outputs": [
    {
     "name": "stdout",
     "output_type": "stream",
     "text": [
      "Python Exercises Practice Solution\n"
     ]
    }
   ],
   "source": [
    "x='Python Exercises Practice Solution Exercises'\n",
    "l=x.split()\n",
    "p=[]\n",
    "for i in l:\n",
    "    if i not in p:\n",
    "        p.append(i)\n",
    "print(' '.join(p))"
   ]
  },
  {
   "cell_type": "code",
   "execution_count": 126,
   "id": "33c2f8e1-fdee-4acd-992d-4a1fe862f29c",
   "metadata": {
    "tags": []
   },
   "outputs": [
    {
     "name": "stdout",
     "output_type": "stream",
     "text": [
      "Red,100,-50,green,w,3,r,12.12,False\n"
     ]
    }
   ],
   "source": [
    "z=['Red', 100, -50, 'green', 'w,3,r', 12.12, False]\n",
    "print(','.join(str(x) for x in z))"
   ]
  },
  {
   "cell_type": "code",
   "execution_count": 133,
   "id": "127fc5bd-ecac-4bfb-862e-cac3d4febad8",
   "metadata": {
    "tags": []
   },
   "outputs": [
    {
     "name": "stdout",
     "output_type": "stream",
     "text": [
      "Similarity between two said strings:\n",
      "1.0\n",
      "Similarity between two said strings:\n",
      "0.967741935483871\n",
      "Similarity between two said strings:\n",
      "0.6923076923076923\n",
      "Similarity between two said strings:\n",
      "0.5454545454545454\n",
      "Similarity between two said strings:\n",
      "0.0\n"
     ]
    }
   ],
   "source": [
    "import difflib\n",
    "def string_similarity(x,y):\n",
    "    result=difflib.SequenceMatcher(a=x.lower(),b=y.lower())\n",
    "    return result.ratio()\n",
    "x= 'Python Exercises'\n",
    "y = 'Python Exercises'\n",
    "print(\"Similarity between two said strings:\\n\",string_similarity(x,y),sep='')\n",
    "x= 'Python Exercises'\n",
    "y = 'Python Exercise'\n",
    "print(\"Similarity between two said strings:\\n\",string_similarity(x,y),sep='')\n",
    "x= 'Python Exercises'\n",
    "y = 'Python Ex.'\n",
    "print(\"Similarity between two said strings:\\n\",string_similarity(x,y),sep='')\n",
    "x= 'Python Exercises'\n",
    "y = 'Python'\n",
    "print(\"Similarity between two said strings:\\n\",string_similarity(x,y),sep='')\n",
    "x= 'Python'\n",
    "y = 'Java Exercises'\n",
    "print(\"Similarity between two said strings:\\n\",string_similarity(x,y),sep='')"
   ]
  },
  {
   "cell_type": "code",
   "execution_count": 145,
   "id": "cf869445-bbc3-46db-beec-3284ec6a0d9b",
   "metadata": {
    "tags": []
   },
   "outputs": [
    {
     "name": "stdout",
     "output_type": "stream",
     "text": [
      "[12, 45]\n"
     ]
    }
   ],
   "source": [
    "def extract_number(x):\n",
    "    z=[int(x) for x in x.split() if x.isdigit()]\n",
    "    return z\n",
    "x='red 12 black 45 green'\n",
    "print(extract_number(x))"
   ]
  },
  {
   "cell_type": "code",
   "execution_count": 147,
   "id": "b76fa034-cae9-48ab-89ee-f7761077aedd",
   "metadata": {
    "tags": []
   },
   "outputs": [
    {
     "name": "stdout",
     "output_type": "stream",
     "text": [
      "(255, 165, 1)\n",
      "(255, 255, 255)\n",
      "(0, 0, 0)\n",
      "(255, 0, 0)\n",
      "(0, 0, 128)\n",
      "(192, 192, 192)\n"
     ]
    }
   ],
   "source": [
    "def hex_to_rgb(hex):\n",
    "    return tuple(int(hex[i:i+2], 16) for i in (0,2,4))\n",
    "print(hex_to_rgb('FFA501'))\n",
    "print(hex_to_rgb('FFFFFF'))\n",
    "print(hex_to_rgb('000000'))\n",
    "print(hex_to_rgb('FF0000'))\n",
    "print(hex_to_rgb('000080'))\n",
    "print(hex_to_rgb('C0C0C0')) "
   ]
  },
  {
   "cell_type": "code",
   "execution_count": 148,
   "id": "2ab6b807-f669-4e11-9818-f9b893c3c867",
   "metadata": {
    "tags": []
   },
   "outputs": [
    {
     "name": "stdout",
     "output_type": "stream",
     "text": [
      "ffa501\n",
      "ffffff\n",
      "000000\n",
      "000080\n",
      "c0c0c0\n"
     ]
    }
   ],
   "source": [
    "def rgb_to_hex(r,g,b):\n",
    "    return ('{:02x}' *3).format(r,g,b)\n",
    "print(rgb_to_hex(255, 165, 1))\n",
    "print(rgb_to_hex(255, 255, 255))\n",
    "print(rgb_to_hex(0, 0, 0))\n",
    "print(rgb_to_hex(0, 0, 128))\n",
    "print(rgb_to_hex(192, 192, 192)) "
   ]
  },
  {
   "cell_type": "code",
   "execution_count": 151,
   "id": "e8e0f65d-24ab-4244-9307-3af57d7a83b3",
   "metadata": {
    "tags": []
   },
   "outputs": [
    {
     "name": "stdout",
     "output_type": "stream",
     "text": [
      "javascript\n",
      "fooBar\n",
      "fooBar\n",
      "foo.Bar\n",
      "fooBar\n",
      "foobar\n",
      "fooBar\n"
     ]
    }
   ],
   "source": [
    "from re import sub\n",
    "def camel_case(s):\n",
    "    s=sub(r'(_|-)+', ' ', s).title().replace(' ', '')\n",
    "    return ''.join([s[0].lower(), s[1:]])\n",
    "print(camel_case('JavaScript'))\n",
    "print(camel_case('Foo-Bar'))\n",
    "print(camel_case('foo_bar'))\n",
    "print(camel_case('--foo.bar'))\n",
    "print(camel_case('Foo-BAR'))\n",
    "print(camel_case('fooBAR'))\n",
    "print(camel_case('foo bar')) "
   ]
  },
  {
   "cell_type": "code",
   "execution_count": 186,
   "id": "b67438bc-cb81-4b7e-96e3-261862f7404a",
   "metadata": {
    "tags": []
   },
   "outputs": [
    {
     "name": "stdout",
     "output_type": "stream",
     "text": [
      "java_script\n",
      "foo_bar\n",
      "foo_bar\n",
      "foo.bar\n",
      "foo_bar\n",
      "foo_bar\n",
      "foo_bar\n"
     ]
    }
   ],
   "source": [
    "from re import sub\n",
    "def snake_case(s):\n",
    "    return '_'.join(sub('([A-Z][a-z]+)',r' \\1',sub('([A-Z]+)',r' \\1',s.replace('-', ' '))).split()).lower()\n",
    "print(snake_case('JavaScript'))\n",
    "print(snake_case('Foo-Bar'))\n",
    "print(snake_case('foo_bar'))\n",
    "print(snake_case('--foo.bar'))\n",
    "print(snake_case('Foo-BAR'))\n",
    "print(snake_case('fooBAR'))\n",
    "print(snake_case('foo bar')) "
   ]
  },
  {
   "cell_type": "code",
   "execution_count": 194,
   "id": "5ac2292e-0a7e-480d-867d-1af43869ba21",
   "metadata": {
    "tags": []
   },
   "outputs": [
    {
     "name": "stdout",
     "output_type": "stream",
     "text": [
      "java Script\n",
      "python\n"
     ]
    }
   ],
   "source": [
    "x='Java Script'\n",
    "y='Python'\n",
    "print(x[0].lower()+x[1:])\n",
    "print(y.casefold())"
   ]
  },
  {
   "cell_type": "code",
   "execution_count": 203,
   "id": "97f1b540-8534-461c-980e-16f793860a70",
   "metadata": {
    "tags": []
   },
   "outputs": [
    {
     "data": {
      "text/plain": [
       "['This', 'is a', 'multiline', 'string.']"
      ]
     },
     "execution_count": 203,
     "metadata": {},
     "output_type": "execute_result"
    }
   ],
   "source": [
    "x='''This\n",
    "is a\n",
    "multiline\n",
    "string.'''\n",
    "x.split('\\n')"
   ]
  },
  {
   "cell_type": "code",
   "execution_count": 209,
   "id": "d023e0c0-1486-421d-929d-524ab09ede92",
   "metadata": {
    "tags": []
   },
   "outputs": [
    {
     "name": "stdout",
     "output_type": "stream",
     "text": [
      "False\n",
      "True\n",
      "False\n"
     ]
    }
   ],
   "source": [
    "def duplicates_char(x):\n",
    "    z=x.split()\n",
    "    for i in z:\n",
    "        if len(i) > len(set(i)):\n",
    "            return (False)\n",
    "    return (True)\n",
    "print(duplicates_char('Python Exercise.'))\n",
    "print(duplicates_char('The wait is over.'))\n",
    "print(duplicates_char(\"Filter out the factorials of the said list.\"))"
   ]
  },
  {
   "cell_type": "code",
   "execution_count": 1,
   "id": "6537b73e-b6ea-4acf-9762-bae2f3a64682",
   "metadata": {},
   "outputs": [
    {
     "name": "stdout",
     "output_type": "stream",
     "text": [
      "42\n",
      "Error in input!\n",
      "Error in input!\n"
     ]
    }
   ],
   "source": [
    "def add_twostrings(x,y):\n",
    "    x,y='0' +x, '0' +y\n",
    "    if (x.isnumeric() and y.isnumeric()):\n",
    "        return str(int(x)+int(y))\n",
    "    else:\n",
    "        return 'Error in input!'\n",
    "print(add_twostrings('10','32'))\n",
    "print(add_twostrings('10','22.6'))\n",
    "print(add_twostrings('100','-200'))"
   ]
  },
  {
   "cell_type": "code",
   "execution_count": 17,
   "id": "a3ddb38d-b4e4-4066-b97a-159c3f078f84",
   "metadata": {
    "tags": []
   },
   "outputs": [
    {
     "name": "stdout",
     "output_type": "stream",
     "text": [
      "String With Punctuation\n",
      ".....................................................................\n",
      "String With Punctuation\n"
     ]
    }
   ],
   "source": [
    "x='String! With. Punctuation?'\n",
    "p=[\"#\", \"*\", \"!\", \"^\", \"%\",'?','.']\n",
    "for i in p:\n",
    "    x=x.replace(i,'')\n",
    "print(x)\n",
    "##############################################\n",
    "print('.....................................................................')\n",
    "import string\n",
    "def remove_puncuation(t):\n",
    "    for j in string.punctuation:\n",
    "        t=t.replace(j,'')\n",
    "    return t\n",
    "t='String! With. Punctuation?'\n",
    "print(remove_puncuation(t))"
   ]
  },
  {
   "cell_type": "code",
   "execution_count": 51,
   "id": "ea5e8fa2-1a5a-4e6f-a34a-366c23f97ba7",
   "metadata": {
    "tags": []
   },
   "outputs": [
    {
     "name": "stdout",
     "output_type": "stream",
     "text": [
      "##### the ######### ####### in the said list of #####\n",
      "####### ##### ####### five or ##### with hash ########## in the said #######\n"
     ]
    }
   ],
   "source": [
    "def remove_word(x):\n",
    "    for i in x.split():\n",
    "        if len(i)>=5:\n",
    "            x=x.replace(i,'#'*len(i))\n",
    "    return x\n",
    "x='Count the lowercase letters in the said list of words'\n",
    "print(remove_word(x))\n",
    "x=\"Replace words (length five or more) with hash characters in the said string:\"\n",
    "print(remove_word(x))"
   ]
  },
  {
   "cell_type": "code",
   "execution_count": 19,
   "id": "0ff42890-bcdf-4731-9f5c-0706a250f053",
   "metadata": {
    "tags": []
   },
   "outputs": [
    {
     "name": "stdout",
     "output_type": "stream",
     "text": [
      "Red Green White\n",
      "W3resource\n",
      "Dow Jones Industrial Average\n"
     ]
    }
   ],
   "source": [
    "x=\"Red Green WHITE\"\n",
    "print(' '.join(i.capitalize() for i in x.split()))\n",
    "x=\"w3resource\"\n",
    "print(' '.join(i.capitalize() for i in x.split()))\n",
    "x=\"dow jones industrial average\"\n",
    "print(' '.join(i.capitalize() for i in x.split()))"
   ]
  },
  {
   "cell_type": "code",
   "execution_count": 2,
   "id": "69371d04-9eaa-4f3e-b785-1f4ef093b5fc",
   "metadata": {
    "tags": []
   },
   "outputs": [
    {
     "name": "stdout",
     "output_type": "stream",
     "text": [
      "john\n",
      "johnsmith\n",
      "disposablestyleemailwithsymbol\n",
      "fullyqualifieddomain\n",
      "py\n"
     ]
    }
   ],
   "source": [
    "import string\n",
    "def extract_domain_name(x):\n",
    "    r=x.index('@')\n",
    "    return ''.join(i for i in x[:r] if i.isalpha())\n",
    "x=\"john@example.com\"\n",
    "print(extract_domain_name(x))\n",
    "x=\"john.smith@example.com\"\n",
    "print(extract_domain_name(x))\n",
    "x= \"disposable.style.email.with+symbol@example.com@example.com\"\n",
    "print(extract_domain_name(x))\n",
    "x=\"fully-qualified-domain@example.com\"\n",
    "print(extract_domain_name(x))\n",
    "x='py22082000@gmail.com'\n",
    "print(extract_domain_name(x))"
   ]
  },
  {
   "cell_type": "code",
   "execution_count": 10,
   "id": "bebe2c65-f55f-4fe9-965e-2327d6877196",
   "metadata": {
    "tags": []
   },
   "outputs": [
    {
     "name": "stdout",
     "output_type": "stream",
     "text": [
      "Red Gren White\n",
      "abcdef\n",
      "Yelowodor\n"
     ]
    }
   ],
   "source": [
    "def test(y):\n",
    "    r=[]\n",
    "    for x in y:\n",
    "        if not r or r[-1] != x:\n",
    "            r.append(x)\n",
    "    return ''.join(r)\n",
    "y=\"Red Green White\"\n",
    "print(test(y))\n",
    "y=\"aabbbcdeffff\"\n",
    "print(test(y))\n",
    "y=\"Yellowwooddoor\"\n",
    "print(test(y))"
   ]
  },
  {
   "cell_type": "code",
   "execution_count": 12,
   "id": "dc80c2b5-72db-4691-8452-01de6a1b1b76",
   "metadata": {
    "tags": []
   },
   "outputs": [
    {
     "name": "stdout",
     "output_type": "stream",
     "text": [
      "1\n",
      "0\n",
      "7\n"
     ]
    }
   ],
   "source": [
    "def test(x,y):\n",
    "    c=0\n",
    "    for i in range(len(x)-2):\n",
    "        if x[i:i+3]==y[i:i+3]:\n",
    "            c+=1\n",
    "    return c\n",
    "x= \"Red\"\n",
    "y=\"RedGreen\"\n",
    "print(test(x,y))\n",
    "x= \"Red White\"\n",
    "y=\"White Red\"\n",
    "print(test(x,y))\n",
    "x= \"Red White\"\n",
    "y=\"Red White\"\n",
    "print(test(x,y))"
   ]
  },
  {
   "cell_type": "code",
   "execution_count": 17,
   "id": "92a01199-e087-4fff-8f91-5cc9cd2fe782",
   "metadata": {
    "tags": []
   },
   "outputs": [
    {
     "name": "stdout",
     "output_type": "stream",
     "text": [
      "-G--r-ee-n-\n",
      "aeiou\n",
      "-W--h-i-t-e\n"
     ]
    }
   ],
   "source": [
    "def test3(x):\n",
    "    return ''.join([i, '-'+i+'-'][i not in 'AEIOUaeiou'] for i in x )\n",
    "x= \"Green\"\n",
    "print(test3(x))\n",
    "x= \"aeiou\"\n",
    "print(test3(x))\n",
    "x= \"White\"\n",
    "print(test3(x))"
   ]
  },
  {
   "cell_type": "code",
   "execution_count": 21,
   "id": "3d92b0f5-a917-4909-890a-0cd0a69a7c1c",
   "metadata": {
    "tags": []
   },
   "outputs": [
    {
     "name": "stdout",
     "output_type": "stream",
     "text": [
      "2\n",
      "6\n"
     ]
    }
   ],
   "source": [
    "def test(year):\n",
    "    s,e=map(int,year.split('-'))\n",
    "    return sum(is_leap_year(y) for y in range(s,e+1))\n",
    "def is_leap_year(z):\n",
    "    if z%400==0:\n",
    "        return True\n",
    "    if z%100==0:\n",
    "        return False\n",
    "    if z%4==0:\n",
    "        return True\n",
    "    else:\n",
    "        return False\n",
    "year='1981-1991'\n",
    "print(test(year))\n",
    "year='2000-2020'\n",
    "print(test(year))"
   ]
  },
  {
   "cell_type": "code",
   "execution_count": 43,
   "id": "775eed6f-511b-4c61-866f-3a04c9cb94d0",
   "metadata": {
    "tags": []
   },
   "outputs": [
    {
     "name": "stdout",
     "output_type": "stream",
     "text": [
      "Python Exercise\n",
      "Python\n",
      "Python Exercises Practice Solution\n"
     ]
    }
   ],
   "source": [
    "x='PythonExercise'\n",
    "y=''\n",
    "for i in x:\n",
    "    if i.isupper():\n",
    "        y=y+' '+i.upper()\n",
    "    else:\n",
    "        y=y+i\n",
    "print(y[1:])\n",
    "x=\"Python\"\n",
    "y=''\n",
    "for i in x:\n",
    "    if i.isupper():\n",
    "        y=y+' '+i.upper()\n",
    "    else:\n",
    "        y=y+i\n",
    "print(y[1:])\n",
    "x='PythonExercisesPracticeSolution'\n",
    "y=''\n",
    "for i in x:\n",
    "    if i.isupper():\n",
    "        y=y+' '+i.upper()\n",
    "    else:\n",
    "        y=y+i\n",
    "print(y[1:])"
   ]
  },
  {
   "cell_type": "code",
   "execution_count": 45,
   "id": "a0195eef-5667-4b1d-8808-e10075ae8c4b",
   "metadata": {
    "tags": []
   },
   "outputs": [
    {
     "name": "stdout",
     "output_type": "stream",
     "text": [
      "16 25 20 8 15 14\n",
      "10 1 22 1\n",
      "16 25 20 8 15 14 20 21 20 15 18 9 1 12\n"
     ]
    }
   ],
   "source": [
    "def test(x):\n",
    "    return ' '.join(str(ord(i)-96) for i in x.lower() if i.isalpha())\n",
    "word = \"Python\"\n",
    "print(test(word))\n",
    "word = \"Java\"\n",
    "print(test(word))\n",
    "word = \"Python Tutorial\"\n",
    "print(test(word))"
   ]
  },
  {
   "cell_type": "code",
   "execution_count": 76,
   "id": "ec8d52d3-a01d-4c35-b291-f0c1ed27f479",
   "metadata": {
    "tags": []
   },
   "outputs": [
    {
     "name": "stdout",
     "output_type": "stream",
     "text": [
      "236674684683\n",
      "236674684683\n",
      "False\n",
      "1000\n",
      "1010\n"
     ]
    }
   ],
   "source": [
    "x=('234242342341','2432342342')\n",
    "p=[]\n",
    "for i in x:\n",
    "    p.append(int(i))\n",
    "z=p[0]+p[1]\n",
    "print(str(z))\n",
    "#####################################################################\n",
    "def sum_string_int(x,y):\n",
    "    if (x=='' or y== ''):\n",
    "        return False\n",
    "    m=max(len(x), len(y))\n",
    "    c=0\n",
    "    re=''\n",
    "    for x,y in zip(x.rjust(m,'0')[::-1],y.rjust(m,'0')[::-1]):\n",
    "        s=int(x)+int(y)+c\n",
    "        c==1 if s>9 else 0\n",
    "        re+=str(s)[-1]\n",
    "    re=re+str(c) if c==1 else re\n",
    "    return re[::-1]\n",
    "x='234242342341'\n",
    "y='2432342342'\n",
    "print(sum_string_int(x,y))\n",
    "n1 =\"\"\n",
    "n2 =\"2432342342\"\n",
    "print(sum_string_int(n1,n2))\n",
    "n1 =\"1000\"\n",
    "n2 =\"0\"\n",
    "print(sum_string_int(n1,n2))\n",
    "n1 =\"1000\"\n",
    "n2 =\"10\"\n",
    "print(sum_string_int(n1,n2))"
   ]
  },
  {
   "cell_type": "code",
   "execution_count": 87,
   "id": "0e4a657f-f88a-4c1b-9421-c69264807787",
   "metadata": {
    "tags": []
   },
   "outputs": [
    {
     "name": "stdout",
     "output_type": "stream",
     "text": [
      "Black Green Pink Red White\n",
      "................................................................\n",
      "Calculate as given numbers of said strings. sum the two\n",
      "................................................................\n",
      "The brown dog. fox jumps lazy over quick the\n"
     ]
    }
   ],
   "source": [
    "x=\"Red Green Black White Pink\" \n",
    "print(' '.join(sorted(x.split())))\n",
    "###########################################\n",
    "print('................................................................')\n",
    "x=\"Calculate the sum of two said numbers given as strings.\"\n",
    "print(' '.join(sorted(x.split())))\n",
    "###########################################\n",
    "print('................................................................')\n",
    "x=\"The quick brown fox jumps over the lazy dog.\"\n",
    "print(' '.join(sorted(x.split())))"
   ]
  },
  {
   "cell_type": "code",
   "execution_count": null,
   "id": "cfc5b664-0449-4dc1-8130-0e7472eb805f",
   "metadata": {},
   "outputs": [],
   "source": []
  }
 ],
 "metadata": {
  "kernelspec": {
   "display_name": "Python 3 (ipykernel)",
   "language": "python",
   "name": "python3"
  },
  "language_info": {
   "codemirror_mode": {
    "name": "ipython",
    "version": 3
   },
   "file_extension": ".py",
   "mimetype": "text/x-python",
   "name": "python",
   "nbconvert_exporter": "python",
   "pygments_lexer": "ipython3",
   "version": "3.11.3"
  }
 },
 "nbformat": 4,
 "nbformat_minor": 5
}
