{
 "cells": [
  {
   "cell_type": "code",
   "execution_count": 76,
   "id": "7a6cf7c2-ef56-440e-8647-10d68fb01bee",
   "metadata": {
    "tags": []
   },
   "outputs": [
    {
     "name": "stdout",
     "output_type": "stream",
     "text": [
      "64\n"
     ]
    }
   ],
   "source": [
    "def sum_list(x):\n",
    "    x=[10,12,20,22]\n",
    "    y=0\n",
    "    for i in x:\n",
    "        y=i+y\n",
    "    return y\n",
    "print(sum_list(x))"
   ]
  },
  {
   "cell_type": "code",
   "execution_count": 77,
   "id": "e8a855e6-230a-440e-9253-5af5bec84a95",
   "metadata": {
    "tags": []
   },
   "outputs": [
    {
     "name": "stdout",
     "output_type": "stream",
     "text": [
      "-16\n"
     ]
    }
   ],
   "source": [
    "def multiply(x):\n",
    "    x=[1,2,-8]\n",
    "    y=1\n",
    "    for i in x:\n",
    "        y=i*y\n",
    "    return y\n",
    "print(multiply(x))"
   ]
  },
  {
   "cell_type": "code",
   "execution_count": 78,
   "id": "b395f68d-5e03-4d9d-9275-779cc6b828d5",
   "metadata": {
    "tags": []
   },
   "outputs": [
    {
     "name": "stdout",
     "output_type": "stream",
     "text": [
      "999\n"
     ]
    }
   ],
   "source": [
    "def largest(x):\n",
    "    x=[20,5,50,90,88,99,106,87,88,845,456,999]\n",
    "    m=x[0]\n",
    "    for i in x:\n",
    "        if i>m:\n",
    "            m=i\n",
    "    return m\n",
    "print(largest(x))"
   ]
  },
  {
   "cell_type": "code",
   "execution_count": 79,
   "id": "32ed26ef-acea-4d2e-bb52-90ebfa47a90e",
   "metadata": {
    "tags": []
   },
   "outputs": [
    {
     "name": "stdout",
     "output_type": "stream",
     "text": [
      "5\n"
     ]
    }
   ],
   "source": [
    "def largest(x):\n",
    "    x=[20,5,50,90,88,99,106,87,88,845,456,999]\n",
    "    m=x[0]\n",
    "    for i in x:\n",
    "        if i<m:\n",
    "            m=i\n",
    "    return m\n",
    "print(largest(x))"
   ]
  },
  {
   "cell_type": "code",
   "execution_count": 80,
   "id": "0e65b0f6-bd05-4588-b320-b6b2b0c15ad3",
   "metadata": {
    "tags": []
   },
   "outputs": [
    {
     "name": "stdout",
     "output_type": "stream",
     "text": [
      "3\n"
     ]
    }
   ],
   "source": [
    "def count_str(x):\n",
    "    c=0\n",
    "    for i in x:\n",
    "        if len(i)>1 and i[0] == i[-1]:\n",
    "            c+=1\n",
    "    return c\n",
    "print(count_str(['abc','xyz','aba','1221','3213']))"
   ]
  },
  {
   "cell_type": "code",
   "execution_count": 81,
   "id": "5497ee2d-04bc-4933-863f-595559aa4b7a",
   "metadata": {
    "tags": []
   },
   "outputs": [
    {
     "name": "stdout",
     "output_type": "stream",
     "text": [
      "[(2, 1), (1, 2), (2, 3), (4, 4), (2, 5)]\n"
     ]
    }
   ],
   "source": [
    "def last(x):\n",
    "    return x[-1]\n",
    "def sort_list(y):\n",
    "    return sorted(y,key=last)\n",
    "print(sort_list([(2,5),(1,2),(4,4),(2,3),(2,1)]))"
   ]
  },
  {
   "cell_type": "code",
   "execution_count": 82,
   "id": "51f088f3-72b7-4c0f-8209-60286aedb0bf",
   "metadata": {
    "tags": []
   },
   "outputs": [
    {
     "data": {
      "text/plain": [
       "[(2, 1), (1, 2), (2, 3), (4, 4), (2, 5)]"
      ]
     },
     "execution_count": 82,
     "metadata": {},
     "output_type": "execute_result"
    }
   ],
   "source": [
    "x=[(2,5),(1,2),(4,4),(2,3),(2,1)]\n",
    "x.sort(key=last)\n",
    "x"
   ]
  },
  {
   "cell_type": "code",
   "execution_count": 83,
   "id": "6ca385a0-7d21-46b0-a680-c503743d992e",
   "metadata": {
    "tags": []
   },
   "outputs": [
    {
     "name": "stdout",
     "output_type": "stream",
     "text": [
      "[-27, 45, -12, 20, 60]\n"
     ]
    }
   ],
   "source": [
    "x=[-12,20,-27,20,45,-12,60]\n",
    "x=set(x)\n",
    "print(list(x))"
   ]
  },
  {
   "cell_type": "code",
   "execution_count": 84,
   "id": "7f037148-d2eb-47f3-8ba6-08d1f238b4bb",
   "metadata": {
    "tags": []
   },
   "outputs": [
    {
     "name": "stdout",
     "output_type": "stream",
     "text": [
      "[40, 10, 80, 50, 20, 60, 30]\n"
     ]
    }
   ],
   "source": [
    "a = [10, 20, 30, 20, 10, 50, 60, 40, 80, 50, 40]\n",
    "a=set(a)\n",
    "print(list(a))"
   ]
  },
  {
   "cell_type": "code",
   "execution_count": 1,
   "id": "a80047e4-8b49-4768-aa16-66858b900969",
   "metadata": {
    "tags": []
   },
   "outputs": [
    {
     "name": "stdin",
     "output_type": "stream",
     "text": [
      "enter list: \n"
     ]
    },
    {
     "name": "stdout",
     "output_type": "stream",
     "text": [
      "True\n",
      "False\n"
     ]
    }
   ],
   "source": [
    "def empty(x):\n",
    "    if len(x)==0:\n",
    "        print(False)\n",
    "    else:\n",
    "        print(True)\n",
    "empty([input('enter list:')])\n",
    "empty([])"
   ]
  },
  {
   "cell_type": "code",
   "execution_count": 2,
   "id": "032bdb36-8bd1-4be7-857d-298177b88f75",
   "metadata": {
    "tags": []
   },
   "outputs": [
    {
     "name": "stdout",
     "output_type": "stream",
     "text": [
      "[10, 22, 44, 23, 4]\n",
      "2550839118464\n",
      "<class 'list'>\n",
      "[10, 22, 44, 23, 4]\n",
      "2550839118208\n",
      "<class 'list'>\n",
      "[10, 22, 44, 23, 4]\n",
      "2550838969344\n",
      "<class 'list'>\n"
     ]
    }
   ],
   "source": [
    "x=[10,22, 44, 23, 4]\n",
    "y=x.copy()\n",
    "z=list(x)\n",
    "print(x)\n",
    "print(id(x))\n",
    "print(type(x))\n",
    "print(y)\n",
    "print(id(y))\n",
    "print(type(y))\n",
    "print(z)\n",
    "print(id(z))\n",
    "print(type(z))"
   ]
  },
  {
   "cell_type": "code",
   "execution_count": 4,
   "id": "6b4f17fb-579d-4fb0-8086-c5190fa32b9a",
   "metadata": {
    "tags": []
   },
   "outputs": [
    {
     "name": "stdin",
     "output_type": "stream",
     "text": [
      "enter value of n: 3\n"
     ]
    },
    {
     "name": "stdout",
     "output_type": "stream",
     "text": [
      "['quick', 'brown']\n"
     ]
    }
   ],
   "source": [
    "def longer(x,n):\n",
    "    y=[]\n",
    "    txt=x.split(' ')\n",
    "    for i in txt:\n",
    "        if len(i)>n:\n",
    "            y.append(i)\n",
    "    return y\n",
    "print(longer(('The quick brown fox'),(int(input('enter value of n:')))))"
   ]
  },
  {
   "cell_type": "code",
   "execution_count": 5,
   "id": "147dd333-49b8-40ef-aacb-469958142602",
   "metadata": {
    "tags": []
   },
   "outputs": [
    {
     "name": "stdout",
     "output_type": "stream",
     "text": [
      "True\n",
      "False\n"
     ]
    }
   ],
   "source": [
    "def common(str1,str2):\n",
    "    for i in str1:\n",
    "        if i in str2:\n",
    "            return (True)\n",
    "    else:\n",
    "        return (False)\n",
    "str1=[1,2,3,4,5]\n",
    "str2=[5,6,7,8,9]\n",
    "print(common(str1,str2))\n",
    "str1=[1,2,3,4,5]\n",
    "str2=[6,7,8,9,10]\n",
    "print(common(str1,str2))"
   ]
  },
  {
   "cell_type": "code",
   "execution_count": 6,
   "id": "400d7c59-4536-4318-a183-9965df42f081",
   "metadata": {
    "tags": []
   },
   "outputs": [
    {
     "name": "stdout",
     "output_type": "stream",
     "text": [
      "['Green', 'White', 'Black']\n"
     ]
    }
   ],
   "source": [
    "def remove(str1):\n",
    "    str1=[x for (i,x) in enumerate(str1) if i not in (0,4,5)]\n",
    "    return str1\n",
    "print(remove(['Red', 'Green', 'White', 'Black', 'Pink', 'Yellow']))"
   ]
  },
  {
   "cell_type": "code",
   "execution_count": 7,
   "id": "7fd9fc08-62be-466f-aee3-62a8f16d2710",
   "metadata": {
    "tags": []
   },
   "outputs": [
    {
     "name": "stdout",
     "output_type": "stream",
     "text": [
      "[[['*', '*', '*', '*', '*', '*'], ['*', '*', '*', '*', '*', '*'], ['*', '*', '*', '*', '*', '*'], ['*', '*', '*', '*', '*', '*']], [['*', '*', '*', '*', '*', '*'], ['*', '*', '*', '*', '*', '*'], ['*', '*', '*', '*', '*', '*'], ['*', '*', '*', '*', '*', '*']], [['*', '*', '*', '*', '*', '*'], ['*', '*', '*', '*', '*', '*'], ['*', '*', '*', '*', '*', '*'], ['*', '*', '*', '*', '*', '*']]]\n"
     ]
    }
   ],
   "source": [
    "array=[[['*'for i in range(6)] for i in range(4)] for i in range(3)]\n",
    "print(array)"
   ]
  },
  {
   "cell_type": "code",
   "execution_count": 8,
   "id": "d386a6cd-a045-4457-9991-3b8278a38cd0",
   "metadata": {
    "tags": []
   },
   "outputs": [
    {
     "name": "stdout",
     "output_type": "stream",
     "text": [
      "it contain odd number:\n",
      " [11, 45, 47, 49, 3, 63, 55, 11, 9]\n",
      "it contain even number:\n",
      " [10, 32, 12]\n"
     ]
    }
   ],
   "source": [
    "x=[10,11,45,47,49,3,63,55,32,12,11,9]\n",
    "y=[]\n",
    "z=[]\n",
    "for i in x:\n",
    "    if i%2==0:\n",
    "        y.append(i)\n",
    "    else:\n",
    "        z.append(i)\n",
    "print('it contain odd number:\\n',z)\n",
    "print('it contain even number:\\n',y)        "
   ]
  },
  {
   "cell_type": "code",
   "execution_count": 9,
   "id": "a14b2459-95a9-4957-a257-5c8a3a486c74",
   "metadata": {
    "tags": []
   },
   "outputs": [
    {
     "name": "stdout",
     "output_type": "stream",
     "text": [
      "['Red', 'White', 'Yellow', 'Pink', 'Black', 'Green']\n"
     ]
    }
   ],
   "source": [
    "from random import shuffle\n",
    "color = ['Red', 'Green', 'White', 'Black', 'Pink', 'Yellow']\n",
    "shuffle(color)\n",
    "print(color)"
   ]
  },
  {
   "cell_type": "code",
   "execution_count": 15,
   "id": "b3b4434f-b5eb-4243-a07a-7a213c56a935",
   "metadata": {
    "tags": []
   },
   "outputs": [
    {
     "name": "stdout",
     "output_type": "stream",
     "text": [
      "[1, 4, 9, 16, 25, 676, 729, 784, 841, 900]\n",
      "......................................................................\n",
      "[1, 4, 9, 16, 25]\n",
      "[676, 729, 784, 841, 900]\n"
     ]
    }
   ],
   "source": [
    "y=[]\n",
    "for i in range(1,31):\n",
    "    y.append(i**2)\n",
    "z=(y[0:5])\n",
    "x=y[-5:]\n",
    "print(z+x)\n",
    "######################################################################\n",
    "print('......................................................................')\n",
    "def printvalue():\n",
    "    l=list()\n",
    "    for i in range(1,31):\n",
    "        l.append(i**2)\n",
    "    print(l[:5])\n",
    "    print(l[-5:])\n",
    "printvalue()"
   ]
  },
  {
   "cell_type": "code",
   "execution_count": 26,
   "id": "9d2a7c0b-e188-448a-9096-814d6110c80f",
   "metadata": {
    "tags": []
   },
   "outputs": [
    {
     "name": "stdin",
     "output_type": "stream",
     "text": [
      "Enter a list: 0 3 4 7 9\n"
     ]
    },
    {
     "ename": "TypeError",
     "evalue": "'str' object cannot be interpreted as an integer",
     "output_type": "error",
     "traceback": [
      "\u001b[1;31m---------------------------------------------------------------------------\u001b[0m",
      "\u001b[1;31mTypeError\u001b[0m                                 Traceback (most recent call last)",
      "Cell \u001b[1;32mIn[26], line 15\u001b[0m\n\u001b[0;32m     13\u001b[0m \u001b[38;5;28;01mfor\u001b[39;00m y \u001b[38;5;129;01min\u001b[39;00m \u001b[38;5;28mrange\u001b[39m(\u001b[38;5;241m3\u001b[39m):\n\u001b[0;32m     14\u001b[0m     y\u001b[38;5;241m=\u001b[39m[\u001b[38;5;28minput\u001b[39m(\u001b[38;5;124m'\u001b[39m\u001b[38;5;124mEnter a list:\u001b[39m\u001b[38;5;124m'\u001b[39m)]\n\u001b[1;32m---> 15\u001b[0m     \u001b[38;5;28mprint\u001b[39m(\u001b[43mtest\u001b[49m\u001b[43m(\u001b[49m\u001b[43my\u001b[49m\u001b[43m)\u001b[49m) \n",
      "Cell \u001b[1;32mIn[26], line 2\u001b[0m, in \u001b[0;36mtest\u001b[1;34m(y)\u001b[0m\n\u001b[0;32m      1\u001b[0m \u001b[38;5;28;01mdef\u001b[39;00m \u001b[38;5;21mtest\u001b[39m(y):\n\u001b[1;32m----> 2\u001b[0m     \u001b[38;5;28;01mreturn\u001b[39;00m \u001b[38;5;28;43mall\u001b[39;49m\u001b[43m(\u001b[49m\u001b[43mprime\u001b[49m\u001b[43m(\u001b[49m\u001b[43mi\u001b[49m\u001b[43m)\u001b[49m\u001b[43m \u001b[49m\u001b[38;5;28;43;01mfor\u001b[39;49;00m\u001b[43m \u001b[49m\u001b[43mi\u001b[49m\u001b[43m \u001b[49m\u001b[38;5;129;43;01min\u001b[39;49;00m\u001b[43m \u001b[49m\u001b[43my\u001b[49m\u001b[43m)\u001b[49m\n",
      "Cell \u001b[1;32mIn[26], line 2\u001b[0m, in \u001b[0;36m<genexpr>\u001b[1;34m(.0)\u001b[0m\n\u001b[0;32m      1\u001b[0m \u001b[38;5;28;01mdef\u001b[39;00m \u001b[38;5;21mtest\u001b[39m(y):\n\u001b[1;32m----> 2\u001b[0m     \u001b[38;5;28;01mreturn\u001b[39;00m \u001b[38;5;28mall\u001b[39m(\u001b[43mprime\u001b[49m\u001b[43m(\u001b[49m\u001b[43mi\u001b[49m\u001b[43m)\u001b[49m \u001b[38;5;28;01mfor\u001b[39;00m i \u001b[38;5;129;01min\u001b[39;00m y)\n",
      "Cell \u001b[1;32mIn[26], line 9\u001b[0m, in \u001b[0;36mprime\u001b[1;34m(x)\u001b[0m\n\u001b[0;32m      7\u001b[0m     \u001b[38;5;28;01mreturn\u001b[39;00m \u001b[38;5;28;01mTrue\u001b[39;00m\n\u001b[0;32m      8\u001b[0m \u001b[38;5;28;01melse\u001b[39;00m:\n\u001b[1;32m----> 9\u001b[0m     \u001b[38;5;28;01mfor\u001b[39;00m i \u001b[38;5;129;01min\u001b[39;00m \u001b[38;5;28;43mrange\u001b[39;49m\u001b[43m(\u001b[49m\u001b[38;5;241;43m2\u001b[39;49m\u001b[43m,\u001b[49m\u001b[43mx\u001b[49m\u001b[43m)\u001b[49m:\n\u001b[0;32m     10\u001b[0m         \u001b[38;5;28;01mif\u001b[39;00m n\u001b[38;5;241m%\u001b[39mx\u001b[38;5;241m==\u001b[39m\u001b[38;5;241m0\u001b[39m:\n\u001b[0;32m     11\u001b[0m             \u001b[38;5;28;01mreturn\u001b[39;00m \u001b[38;5;28;01mFalse\u001b[39;00m\n",
      "\u001b[1;31mTypeError\u001b[0m: 'str' object cannot be interpreted as an integer"
     ]
    }
   ],
   "source": [
    "def test(y):\n",
    "    return all(prime(i) for i in y)\n",
    "def prime(x):\n",
    "    if (x==1):\n",
    "        return false\n",
    "    elif (x==2):\n",
    "        return True\n",
    "    else:\n",
    "        for i in range(2,x):\n",
    "            if n%x==0:\n",
    "                return False\n",
    "        return True\n",
    "for y in range(3):\n",
    "    y=[input('Enter a list:')]\n",
    "    print(test(y)) \n"
   ]
  },
  {
   "cell_type": "code",
   "execution_count": 27,
   "id": "85bde29c-0821-41d4-a6ee-a28b65a7cc2d",
   "metadata": {
    "tags": []
   },
   "outputs": [
    {
     "name": "stdout",
     "output_type": "stream",
     "text": [
      "[2, 3, 5, 7, 11]\n"
     ]
    }
   ],
   "source": [
    "x=[1,2,3,5,7,9,4,1,15,81,49,11]\n",
    "y=[2, 3, 5, 7, 11, 13, 17, 19, 23, 29, 31, 37, 41, 43, 47, 53, 59, 61, 67, 71, 73, 79, 83, 89, 97]\n",
    "print([i for i in x if i in y])      "
   ]
  },
  {
   "cell_type": "code",
   "execution_count": 28,
   "id": "fae6ebca-1352-4159-8946-adbdfa76ae4a",
   "metadata": {
    "tags": []
   },
   "outputs": [
    {
     "name": "stdout",
     "output_type": "stream",
     "text": [
      "[(1, 2, 3), (1, 3, 2), (2, 1, 3), (2, 3, 1), (3, 1, 2), (3, 2, 1)]\n"
     ]
    }
   ],
   "source": [
    "import itertools\n",
    "print(list(itertools.permutations([1,2,3])))"
   ]
  },
  {
   "cell_type": "code",
   "execution_count": 29,
   "id": "4a2deec4-ecac-40ff-9f75-207e0590789c",
   "metadata": {
    "tags": []
   },
   "outputs": [
    {
     "name": "stdout",
     "output_type": "stream",
     "text": [
      "[9, 3, 5, 8, 2, 4, 6]\n"
     ]
    }
   ],
   "source": [
    "x=[1,3,5,7,9]\n",
    "y=[1,2,4,6,7,8]\n",
    "print(list(set([i for i in x if i not in y]))+list(set([j for j in y if j not in x])))"
   ]
  },
  {
   "cell_type": "code",
   "execution_count": 30,
   "id": "d20649c4-5234-4a99-a088-21b1ee68fdf1",
   "metadata": {
    "tags": []
   },
   "outputs": [
    {
     "name": "stdout",
     "output_type": "stream",
     "text": [
      "0 5\n",
      "1 15\n",
      "2 35\n",
      "3 8\n",
      "4 98\n"
     ]
    }
   ],
   "source": [
    "x=[5,15,35,8,98]\n",
    "for i ,j in enumerate(x):\n",
    "    print(i,j)"
   ]
  },
  {
   "cell_type": "code",
   "execution_count": 31,
   "id": "4402c04d-c4e2-4fcb-bb6e-6628907fc64b",
   "metadata": {
    "tags": []
   },
   "outputs": [
    {
     "name": "stdout",
     "output_type": "stream",
     "text": [
      "['P', 'Y', 'T', 'H', 'O', 'N'] = PYTHON\n",
      "['J', 'A', 'V', 'A'] = JAVA\n",
      "['S', 'W', 'I', 'F', 'T'] = SWIFT\n"
     ]
    }
   ],
   "source": [
    "x=['P','Y','T','H','O','N']\n",
    "y=''\n",
    "for i in x:\n",
    "    y=y+i\n",
    "print(x,'=',y)\n",
    "x=['J','A','V','A']\n",
    "y=''\n",
    "for i in x:\n",
    "    y=y+i\n",
    "print(x,'=',y)\n",
    "x=['S','W','I','F','T']\n",
    "print(x,'=',''.join(x))"
   ]
  },
  {
   "cell_type": "code",
   "execution_count": 32,
   "id": "56fe95fd-830c-40d5-a995-8bfdd3794d10",
   "metadata": {
    "tags": []
   },
   "outputs": [
    {
     "name": "stdout",
     "output_type": "stream",
     "text": [
      "1\n"
     ]
    }
   ],
   "source": [
    "x=[10,30,4,-6]\n",
    "print(x.index(30))"
   ]
  },
  {
   "cell_type": "code",
   "execution_count": 33,
   "id": "748fd749-c120-4d4f-b47b-ce3caf9df498",
   "metadata": {
    "tags": []
   },
   "outputs": [
    {
     "name": "stdout",
     "output_type": "stream",
     "text": [
      "[2, 4, 3, 1, 5, 6, 9, 7, 9, 0]\n"
     ]
    }
   ],
   "source": [
    "x=[[2,4,3],[1,5,6],[9],[7,9,0]]\n",
    "print([j for i in x for j in i])"
   ]
  },
  {
   "cell_type": "code",
   "execution_count": 34,
   "id": "4a07cbdb-fc51-47a4-9e79-f68a40e89eba",
   "metadata": {
    "tags": []
   },
   "outputs": [
    {
     "name": "stdout",
     "output_type": "stream",
     "text": [
      "[2, 4, 3, 1, 5, 6, 9, 7, 9, 0]\n",
      "[2, 4, 3, 1, 5, 6, 9, 7, 9, 0]\n"
     ]
    }
   ],
   "source": [
    "def flatten(x):\n",
    "    print([j for i in x for j in i])\n",
    "flatten([[2,4,3],[1,5,6],[9],[7,9,0]])\n",
    "#########################################\n",
    "import itertools\n",
    "x=[[2,4,3],[1,5,6],[9],[7,9,0]]\n",
    "print(list(itertools.chain(*x)))"
   ]
  },
  {
   "cell_type": "code",
   "execution_count": 35,
   "id": "0ab6eed8-566d-43fb-8969-d586d9666d5a",
   "metadata": {
    "tags": []
   },
   "outputs": [
    {
     "name": "stdout",
     "output_type": "stream",
     "text": [
      "[1, 2, 3, 0, 'Red', 'Green', 'Black', 'Blue']\n"
     ]
    }
   ],
   "source": [
    "x=[1,2,3,0]\n",
    "y=['Red','Green','Black','Blue']\n",
    "print(x+y)"
   ]
  },
  {
   "cell_type": "code",
   "execution_count": 36,
   "id": "9d38640c-966b-45c5-a4cc-a1cfb54ddc41",
   "metadata": {
    "tags": []
   },
   "outputs": [
    {
     "name": "stdout",
     "output_type": "stream",
     "text": [
      "Black\n",
      "9\n"
     ]
    }
   ],
   "source": [
    "import random\n",
    "x=['Red', 'Blue', 'Green', 'White', 'Black']\n",
    "print(random.choice(x))\n",
    "##################################################\n",
    "from random import choice\n",
    "def random_choice(x):\n",
    "    return (choice(x))\n",
    "print(random_choice([2,8,5,4,7,9,6,3,4,5]))"
   ]
  },
  {
   "cell_type": "code",
   "execution_count": 37,
   "id": "a256a101-62b3-41f7-8fed-8d57952c84e3",
   "metadata": {},
   "outputs": [
    {
     "name": "stdout",
     "output_type": "stream",
     "text": [
      "Compare l1 and l2\n",
      "True\n",
      "compare list1 and list3\n",
      "False\n"
     ]
    }
   ],
   "source": [
    "x=[10,10,10,0,0]\n",
    "y=[10,10,0,0,10]\n",
    "z=[1,10,10,0,0]\n",
    "print('Compare l1 and l2')\n",
    "print(' '.join(map(str,y)) in ' '.join(map(str, x*2)))\n",
    "print('compare list1 and list3')\n",
    "print(' '.join(map(str,z)) in ' '.join(map(str,x*2)))"
   ]
  },
  {
   "cell_type": "code",
   "execution_count": 38,
   "id": "2cb499ce-d073-42b9-9a8b-7687ae8a48df",
   "metadata": {
    "tags": []
   },
   "outputs": [
    {
     "name": "stdout",
     "output_type": "stream",
     "text": [
      "-2\n",
      "0\n",
      "0\n",
      "None\n",
      "None\n"
     ]
    }
   ],
   "source": [
    "def second_smallest(n):\n",
    "    if len(n)<2:\n",
    "        return\n",
    "    if len(n)==2 and n[0]==n[1]:\n",
    "        return\n",
    "    d=set()\n",
    "    u=[]\n",
    "    for x in n:\n",
    "        if x not in d:\n",
    "            u.append(x)\n",
    "            d.add(x)\n",
    "    u.sort()\n",
    "    return u[1]\n",
    "print(second_smallest([1,2,-8,-2,0,-2]))\n",
    "print(second_smallest([1,1,0,0,-2,-2,-2]))\n",
    "print(second_smallest([1,1,1,0,0,0,2,-2,-2]))\n",
    "print(second_smallest([2,2]))\n",
    "print(second_smallest([2]))"
   ]
  },
  {
   "cell_type": "code",
   "execution_count": 39,
   "id": "22e6d6c6-2a42-4e0f-90bf-0cb5143dd6e6",
   "metadata": {
    "tags": []
   },
   "outputs": [
    {
     "name": "stdout",
     "output_type": "stream",
     "text": [
      "1\n",
      "0\n",
      "1\n",
      "None\n",
      "None\n",
      "3\n"
     ]
    }
   ],
   "source": [
    "def second_largest(n):\n",
    "    if len(n)<2:\n",
    "        return\n",
    "    if len(n)==2 and n[0]==n[1]:\n",
    "        return\n",
    "    d=set()\n",
    "    u=[]\n",
    "    for i in n:\n",
    "        if i not in d:\n",
    "            u.append(i)\n",
    "            d.add(i)\n",
    "    u.sort()\n",
    "    return u[-2]\n",
    "print(second_largest([1,2,-8,-2,0,-2]))\n",
    "print(second_largest([1,1,0,0,-2,-2,-2]))\n",
    "print(second_largest([1,1,1,0,0,0,2,-2,-2]))\n",
    "print(second_largest([2,2]))\n",
    "print(second_largest([2]))\n",
    "print(second_largest([1, 2, 3, 4, 4]))"
   ]
  },
  {
   "cell_type": "code",
   "execution_count": 40,
   "id": "6e087354-00e3-4c67-af32-182bef8f50bf",
   "metadata": {
    "tags": []
   },
   "outputs": [
    {
     "name": "stdout",
     "output_type": "stream",
     "text": [
      "[10, 20, 30, 40, 20, 50, 60, 40]\n",
      "[40, 10, 50, 20, 60, 30]\n"
     ]
    }
   ],
   "source": [
    "x=[10,20,30,40,20,50,60,40]\n",
    "print(x)\n",
    "print(list(set(x)))"
   ]
  },
  {
   "cell_type": "code",
   "execution_count": 41,
   "id": "53b0def1-e0b7-47d5-bbc9-e61e70acb22a",
   "metadata": {
    "tags": []
   },
   "outputs": [
    {
     "name": "stdout",
     "output_type": "stream",
     "text": [
      "[10, 10, 10, 10, 20, 20, 20, 20, 40, 40, 50, 30]\n",
      "Counter({10: 4, 20: 4, 40: 2, 50: 1, 30: 1})\n"
     ]
    }
   ],
   "source": [
    "import collections\n",
    "x=[10,10,10,10,20,20,20,20,40,40,50,30]\n",
    "print(x)\n",
    "print(collections.Counter(x))        "
   ]
  },
  {
   "cell_type": "code",
   "execution_count": 42,
   "id": "73a074ca-ea6c-47eb-bcb5-b62d36ab3240",
   "metadata": {
    "tags": []
   },
   "outputs": [
    {
     "name": "stdout",
     "output_type": "stream",
     "text": [
      "6\n",
      "5\n"
     ]
    }
   ],
   "source": [
    "def count(x,min,max):\n",
    "    c=0\n",
    "    for i in x:\n",
    "        if min <= i <= max:\n",
    "            c+=1\n",
    "    return c\n",
    "x=[10,20,30,40,40,40,70,80,99]\n",
    "print(count(x,40,100))\n",
    "x = ['a', 'b', 'c', 'd', 'e', 'f']\n",
    "print(count(x, 'a', 'e')) "
   ]
  },
  {
   "cell_type": "code",
   "execution_count": 43,
   "id": "38d6d7f0-9f7c-4a04-bf4e-e1bdf2180583",
   "metadata": {
    "tags": []
   },
   "outputs": [
    {
     "name": "stdout",
     "output_type": "stream",
     "text": [
      "False\n"
     ]
    }
   ],
   "source": [
    "x=[2,4,3,5,7]\n",
    "y=[3,7]\n",
    "if y==[]:\n",
    "    print(True)\n",
    "elif y==x:\n",
    "    print(True)\n",
    "elif len(y)>len(x):\n",
    "    print(False)\n",
    "else:\n",
    "    for i in range(len(x)):\n",
    "        if x[i]==y[0]:\n",
    "            n=1\n",
    "            while(n<len(y)) and (x[i+n]==y[n]):\n",
    "                n+=1\n",
    "            if n== len(y):\n",
    "                print(True)\n",
    "            else:\n",
    "                print(False)"
   ]
  },
  {
   "cell_type": "code",
   "execution_count": 44,
   "id": "3b4945d4-5b75-4dc7-9a56-b8c3df840aa1",
   "metadata": {
    "tags": []
   },
   "outputs": [
    {
     "name": "stdout",
     "output_type": "stream",
     "text": [
      "[10, 20, 30, 40] \n",
      " [[], [10], [20], [30], [40], [10, 20], [10, 30], [10, 40], [20, 30], [20, 40], [30, 40], [10, 20, 30], [10, 20, 40], [10, 30, 40], [20, 30, 40], [10, 20, 30, 40]]\n",
      "['x', 'y', 'z'] \n",
      " [[], ['x'], ['y'], ['z'], ['x', 'y'], ['x', 'z'], ['y', 'z'], ['x', 'y', 'z']]\n"
     ]
    }
   ],
   "source": [
    "from itertools import combinations\n",
    "def sub_list(str1):\n",
    "    s=[]\n",
    "    for i in range(0,len(str1)+1):\n",
    "        t=[list(x) for x in combinations(str1,i)]\n",
    "        if len(t)>0:\n",
    "            s.extend(t)\n",
    "    return s\n",
    "a=[10,20,30,40]\n",
    "b=['x','y','z']\n",
    "print(a,'\\n',sub_list(a))\n",
    "print(b,'\\n',sub_list(b))"
   ]
  },
  {
   "cell_type": "code",
   "execution_count": 45,
   "id": "1cd302eb-931f-4a70-ba79-fa67f22fb2b8",
   "metadata": {
    "tags": []
   },
   "outputs": [
    {
     "name": "stdout",
     "output_type": "stream",
     "text": [
      "2\n",
      "3\n",
      "5\n",
      "7\n",
      "11\n",
      "13\n",
      "17\n",
      "19\n",
      "23\n",
      "29\n",
      "31\n",
      "37\n",
      "41\n",
      "43\n",
      "47\n",
      "53\n",
      "59\n",
      "61\n",
      "67\n",
      "71\n",
      "73\n",
      "79\n",
      "83\n",
      "89\n",
      "97\n"
     ]
    }
   ],
   "source": [
    "def prime(n):\n",
    "    p=[]\n",
    "    for i in range(2,n+1):\n",
    "        if i not in p:\n",
    "            print(i)\n",
    "            for j in range(i*i, n+1, i):\n",
    "                p.append(j)\n",
    "prime(100)"
   ]
  },
  {
   "cell_type": "code",
   "execution_count": 47,
   "id": "9650129d-e42d-4769-9ed8-014f1722560e",
   "metadata": {
    "tags": []
   },
   "outputs": [
    {
     "name": "stdin",
     "output_type": "stream",
     "text": [
      "enter a number: 2\n"
     ]
    },
    {
     "name": "stdout",
     "output_type": "stream",
     "text": [
      "['p', 'p']\n",
      "['p', 'q', 'p', 'q']\n"
     ]
    }
   ],
   "source": [
    "x=['p','q']\n",
    "n=(int(input('enter a number:')))\n",
    "a=[]\n",
    "for i in x:\n",
    "    a.append(i)\n",
    "    print(a*n)"
   ]
  },
  {
   "cell_type": "code",
   "execution_count": 48,
   "id": "74f3248b-eb1c-479c-88a7-b87a859e4d35",
   "metadata": {
    "tags": []
   },
   "outputs": [
    {
     "name": "stdin",
     "output_type": "stream",
     "text": [
      "enter a number: 3\n"
     ]
    },
    {
     "name": "stdout",
     "output_type": "stream",
     "text": [
      "['p1', 'q1', 'p2', 'q2', 'p3', 'q3']\n"
     ]
    }
   ],
   "source": [
    "x=['p','q']\n",
    "n=(int(input('enter a number:')))\n",
    "print(['{}{}'.format(a,b) for b in range(1,n+1) for a in x])"
   ]
  },
  {
   "cell_type": "code",
   "execution_count": 49,
   "id": "791839c6-3961-4475-91e6-54fd2c77ec8b",
   "metadata": {
    "tags": []
   },
   "outputs": [
    {
     "name": "stdout",
     "output_type": "stream",
     "text": [
      "7ffac1939f88\n",
      "251EA2C5D70\n"
     ]
    }
   ],
   "source": [
    "x=100\n",
    "y='Pawan Yadav'\n",
    "print((format(id(x),'x')),'\\n',(format(id(y),'X')),sep='')"
   ]
  },
  {
   "cell_type": "code",
   "execution_count": 50,
   "id": "3124a14e-6654-430c-acbb-385d1e6f2069",
   "metadata": {
    "tags": []
   },
   "outputs": [
    {
     "name": "stdout",
     "output_type": "stream",
     "text": [
      "['Green', 'White']\n",
      "['Green', 'White']\n"
     ]
    }
   ],
   "source": [
    "x=['Red','Green','Orange','White']\n",
    "y=['Black','Green','White','Pink']\n",
    "z=[]\n",
    "print([i for i in x if i in y])\n",
    "for i in x:\n",
    "    if i in y:\n",
    "        z.append(i)\n",
    "print(z)"
   ]
  },
  {
   "cell_type": "code",
   "execution_count": 51,
   "id": "d59cb6eb-dc68-41fb-8f09-d4b727d83985",
   "metadata": {
    "tags": []
   },
   "outputs": [
    {
     "name": "stdout",
     "output_type": "stream",
     "text": [
      "['Green', 'White']\n"
     ]
    }
   ],
   "source": [
    "x=['Red','Green','Orange','White']\n",
    "y=['Black','Green','White','Pink']\n",
    "print([i for i in x if i in y])"
   ]
  },
  {
   "cell_type": "code",
   "execution_count": 52,
   "id": "9048b06c-130b-4448-8c05-91c4e738f3f6",
   "metadata": {
    "tags": []
   },
   "outputs": [
    {
     "name": "stdout",
     "output_type": "stream",
     "text": [
      "[1, 0, 3, 2, 5, 4]\n"
     ]
    }
   ],
   "source": [
    "from itertools import zip_longest,chain,tee\n",
    "def replace(n):\n",
    "    l1,l2=tee(iter(n),2)\n",
    "    return list(chain.from_iterable(zip_longest(n[1::2],n[::2])))\n",
    "n=[0,1,2,3,4,5]\n",
    "print(replace(n))"
   ]
  },
  {
   "cell_type": "code",
   "execution_count": 53,
   "id": "f44e2346-bfd3-4925-b8c1-ead6e15eaf7d",
   "metadata": {
    "tags": []
   },
   "outputs": [
    {
     "name": "stdout",
     "output_type": "stream",
     "text": [
      "113350\n"
     ]
    }
   ],
   "source": [
    "n=[11,33,50]\n",
    "print(int(''.join(map(str,n))))"
   ]
  },
  {
   "cell_type": "code",
   "execution_count": 54,
   "id": "c3f18bb6-3897-4999-a76c-c7f4caed19bc",
   "metadata": {
    "tags": []
   },
   "outputs": [
    {
     "name": "stdout",
     "output_type": "stream",
     "text": [
      "a\n",
      "ask\n",
      "b\n",
      "be\n",
      "c\n",
      "call\n",
      "come\n",
      "d\n",
      "do\n",
      "f\n",
      "feel\n",
      "find\n",
      "g\n",
      "get\n",
      "give\n",
      "go\n",
      "h\n",
      "have\n",
      "k\n",
      "know\n",
      "l\n",
      "leave\n",
      "look\n",
      "m\n",
      "make\n",
      "s\n",
      "say\n",
      "see\n",
      "seem\n",
      "t\n",
      "take\n",
      "tell\n",
      "think\n",
      "u\n",
      "use\n",
      "w\n",
      "want\n",
      "work\n"
     ]
    }
   ],
   "source": [
    "from itertools import groupby\n",
    "from operator import itemgetter\n",
    "word_list = ['be', 'have', 'do', 'say', 'get', 'make', 'go', 'know', 'take', 'see', 'come', 'think',\n",
    "             'look', 'want', 'give', 'use', 'find', 'tell', 'ask', 'work', 'seem', 'feel', 'leave', 'call']\n",
    "for i,j in groupby(sorted(word_list),key=itemgetter(0)):\n",
    "    print(i)\n",
    "    for w in j:\n",
    "        print(w)"
   ]
  },
  {
   "cell_type": "code",
   "execution_count": 55,
   "id": "7e17874a-9b70-47bf-9729-052a7f2e6ec8",
   "metadata": {
    "tags": []
   },
   "outputs": [
    {
     "name": "stdout",
     "output_type": "stream",
     "text": [
      "[10, 12, 13, 25, [52, 53, 55, 62], [8, 56, 5, 66, 99, 55]]\n"
     ]
    }
   ],
   "source": [
    "x=[10,12,13,25,[52,53,55,62],[8,56,5,66,99,55]]\n",
    "print(x)"
   ]
  },
  {
   "cell_type": "code",
   "execution_count": 56,
   "id": "7dcc4237-7904-4734-af56-a295565a9d24",
   "metadata": {
    "tags": []
   },
   "outputs": [
    {
     "name": "stdout",
     "output_type": "stream",
     "text": [
      "{'1': [], '2': [], '3': [], '4': [], '5': [], '6': [], '7': [], '8': [], '9': [], '10': [], '11': [], '12': [], '13': [], '14': [], '15': [], '16': [], '17': [], '18': [], '19': [], '20': []}\n"
     ]
    }
   ],
   "source": [
    "x={}\n",
    "for i in range(1,21):\n",
    "    x[str(i)]=[]\n",
    "print(x)"
   ]
  },
  {
   "cell_type": "code",
   "execution_count": 57,
   "id": "f90ee944-9204-4f5f-8e58-50792634cd86",
   "metadata": {
    "tags": []
   },
   "outputs": [
    {
     "name": "stdout",
     "output_type": "stream",
     "text": [
      "Missing values in second list: ['a', 'b', 'c']\n",
      "Additional values in second list: ['g', 'h', 'i']\n",
      "  \n",
      "Missing values in second list: ['a', 'b', 'c']\n",
      "Additional values in second list: ['g', 'h', 'i']\n"
     ]
    }
   ],
   "source": [
    "a=['a','b','c','d','e','f']\n",
    "b=['d','e','f','g','h','i']\n",
    "c=list(set(a) & set(b))\n",
    "d=[]\n",
    "e=[]\n",
    "for i in a:\n",
    "    if i not in c:\n",
    "        d.append(i)\n",
    "for i in b:\n",
    "    if i not in c:\n",
    "        e.append(i)\n",
    "print('Missing values in second list:',d)\n",
    "print('Additional values in second list:',e)\n",
    "######################################################################\n",
    "print('  ')\n",
    "a=['a','b','c','d','e','f']\n",
    "b=['d','e','f','g','h','i']\n",
    "print('Missing values in second list:',([i for i in a if i not in list(set(a) & set(b))]))\n",
    "print('Additional values in second list:',[i for i in b if i not in list(set(a) & set(b))])"
   ]
  },
  {
   "cell_type": "code",
   "execution_count": 58,
   "id": "bb43efc1-04b9-4a1a-9a26-1ba9ef79274f",
   "metadata": {
    "tags": []
   },
   "outputs": [
    {
     "name": "stdout",
     "output_type": "stream",
     "text": [
      "('Black', '#000000', 'rgb(0, 0, 0)')\n",
      "('Red', '#FF0000', 'rgb(255, 0, 0)')\n",
      "('Yellow', '#FFFF00', 'rgb(255, 255, 0)')\n"
     ]
    }
   ],
   "source": [
    "color = [\n",
    "    (\"Black\", \"#000000\", \"rgb(0, 0, 0)\"),\n",
    "    (\"Red\", \"#FF0000\", \"rgb(255, 0, 0)\"),\n",
    "    (\"Yellow\", \"#FFFF00\", \"rgb(255, 255, 0)\")\n",
    "]\n",
    "x,y,z=color\n",
    "print(x,'\\n',y,'\\n',z,sep='')"
   ]
  },
  {
   "cell_type": "code",
   "execution_count": 59,
   "id": "015733fa-9621-4e64-a752-a0a06be6a3fd",
   "metadata": {
    "tags": []
   },
   "outputs": [
    {
     "name": "stdout",
     "output_type": "stream",
     "text": [
      "[[1, 2, 3, 4, 5], [6, 7, 8, 9, 10], [11, 12, 13, 14, 15]]\n"
     ]
    }
   ],
   "source": [
    "print([[5*i+j for j in range(1,6)] for i in range(3)])"
   ]
  },
  {
   "cell_type": "code",
   "execution_count": 60,
   "id": "91321bb3-d36d-48be-b736-eb4d8b7e9eb0",
   "metadata": {
    "tags": []
   },
   "outputs": [
    {
     "data": {
      "text/plain": [
       "[(1, 2), (3, 4), (5, 6), (7, 8), (9, 10)]"
      ]
     },
     "execution_count": 60,
     "metadata": {},
     "output_type": "execute_result"
    }
   ],
   "source": [
    "x=[(1,2),(3,4),(1,2),(5,6),(7,8),(1,2),(3,4),(3,4),(7,8),(9,10)]\n",
    "y=set(x)\n",
    "z=list(y)\n",
    "z.sort()\n",
    "z"
   ]
  },
  {
   "cell_type": "code",
   "execution_count": 61,
   "id": "d6966150-eb20-4e74-b5a0-93ce06f3eb00",
   "metadata": {
    "tags": []
   },
   "outputs": [
    {
     "name": "stdout",
     "output_type": "stream",
     "text": [
      "Original List:  [(1, 2), (3, 4), (1, 2), (5, 6), (7, 8), (1, 2), (3, 4), (3, 4), (7, 8), (9, 10)] \n",
      "Sorted Unique Data: [1, 2, 3, 4, 5, 6, 7, 8, 9, 10]\n"
     ]
    }
   ],
   "source": [
    "x=[(1,2),(3,4),(1,2),(5,6),(7,8),(1,2),(3,4),(3,4),(7,8),(9,10)]\n",
    "print(\"Original List: \",x,\"\\nSorted Unique Data:\", sorted(set().union(*x)))"
   ]
  },
  {
   "cell_type": "code",
   "execution_count": 62,
   "id": "af251289-c2e4-43c0-9bbd-4a729103463a",
   "metadata": {
    "tags": []
   },
   "outputs": [
    {
     "name": "stdout",
     "output_type": "stream",
     "text": [
      "[1, 3, 5, 7, 9]\n"
     ]
    }
   ],
   "source": [
    "x=[1, 2, 3, 4, 5, 6, 7, 8, 9, 10]\n",
    "y=[]\n",
    "for i in x:\n",
    "    if i%2==1:\n",
    "        y.append(i)\n",
    "print(y)"
   ]
  },
  {
   "cell_type": "code",
   "execution_count": 63,
   "id": "16abead4-8a15-494f-89d0-84c8a387d23c",
   "metadata": {
    "tags": []
   },
   "outputs": [
    {
     "name": "stdout",
     "output_type": "stream",
     "text": [
      "[1, 3, 5, 7, 9]\n"
     ]
    }
   ],
   "source": [
    "x=[1, 2, 3, 4, 5, 6, 7, 8, 9, 10]\n",
    "print(x[::2])"
   ]
  },
  {
   "cell_type": "code",
   "execution_count": 64,
   "id": "d71f0f15-9d86-410e-8d23-20f3314251e7",
   "metadata": {
    "tags": []
   },
   "outputs": [
    {
     "name": "stdout",
     "output_type": "stream",
     "text": [
      "Updated List: ['c', 'Red', 'c', 'Green', 'c', 'Black']\n"
     ]
    }
   ],
   "source": [
    "color = ['Red', 'Green', 'Black']\n",
    "color=[i for j in color for i in ('c',j)]\n",
    "print('Updated List:',color)"
   ]
  },
  {
   "cell_type": "code",
   "execution_count": 65,
   "id": "a09cc245-0b87-47a6-b0b6-9f3f638bf85a",
   "metadata": {
    "tags": []
   },
   "outputs": [
    {
     "name": "stdout",
     "output_type": "stream",
     "text": [
      "[{'color_name': 'Black', 'color_code': '#000000'}, {'color_name': 'Red', 'color_code': '#FF0000'}, {'color_name': 'Maroon', 'color_code': '#800000'}, {'color_name': 'Yellow', 'color_code': '#FFFF00'}]\n"
     ]
    }
   ],
   "source": [
    "color_name = [\"Black\", \"Red\", \"Maroon\", \"Yellow\"]\n",
    "color_code = [\"#000000\", \"#FF0000\", \"#800000\", \"#FFFF00\"]\n",
    "print([{'color_name':f, 'color_code':c} for f , c in zip(color_name,color_code)])"
   ]
  },
  {
   "cell_type": "code",
   "execution_count": 66,
   "id": "ac610af3-e374-48b0-a761-88899117d353",
   "metadata": {
    "tags": []
   },
   "outputs": [
    {
     "name": "stdout",
     "output_type": "stream",
     "text": [
      "['Red']\n",
      "['Green']\n",
      "['Black']\n",
      "\n",
      "..............................\n",
      "\n",
      "['Red']\n",
      "['Green']\n",
      "['Black']\n"
     ]
    }
   ],
   "source": [
    "c= [['Red'], ['Green'], ['Black']]\n",
    "print(c[0],c[1],c[2],sep='\\n')\n",
    "print('\\n..............................\\n\\n','\\n'.join([str(i) for i in c]),sep='') "
   ]
  },
  {
   "cell_type": "code",
   "execution_count": 67,
   "id": "b381c88d-8f03-411f-874f-1ed6fee236ba",
   "metadata": {
    "tags": []
   },
   "outputs": [
    {
     "name": "stdout",
     "output_type": "stream",
     "text": [
      "[{'key': {'subkey': 1}}, {'key': {'subkey': 10}}, {'key': {'subkey': 5}}]\n",
      "[{'key': {'subkey': 10}}, {'key': {'subkey': 5}}, {'key': {'subkey': 1}}]\n"
     ]
    }
   ],
   "source": [
    "m = [{'key': {'subkey': 1}}, {'key': {'subkey': 10}}, {'key': {'subkey': 5}}]\n",
    "print(m)\n",
    "((m.sort(key=lambda e: e['key']['subkey'], reverse=True)))\n",
    "print(m)"
   ]
  },
  {
   "cell_type": "code",
   "execution_count": 68,
   "id": "1217b98c-f34b-40fa-a4c4-e99a0092e18e",
   "metadata": {
    "tags": []
   },
   "outputs": [
    {
     "name": "stdout",
     "output_type": "stream",
     "text": [
      "[['a', 'd', 'g', 'j', 'm'], ['b', 'e', 'h', 'k', 'n'], ['c', 'f', 'i', 'l']]\n",
      "..................................................................................\n",
      "[['a', 'd', 'g', 'j', 'm'], ['b', 'e', 'h', 'k', 'n'], ['c', 'f', 'i', 'l']]\n"
     ]
    }
   ],
   "source": [
    "x=['a', 'b', 'c', 'd', 'e', 'f', 'g', 'h', 'i', 'j', 'k', 'l', 'm', 'n']\n",
    "y=[x[::3]]+[x[1::3]]+[x[2::3]]\n",
    "print(y)\n",
    "#################################################################\n",
    "print('..................................................................................')\n",
    "def list_slice(x,step):\n",
    "    return [x[i::step] for i in range(step)]\n",
    "print(list_slice(x,3))"
   ]
  },
  {
   "cell_type": "code",
   "execution_count": 69,
   "id": "5a822d77-69b6-4f38-935f-949ac7d1cb7b",
   "metadata": {
    "tags": []
   },
   "outputs": [
    {
     "name": "stdout",
     "output_type": "stream",
     "text": [
      "['red', 'orange', 'white']\n",
      "['black', 'yellow']\n",
      "..................................................................................\n",
      "Color1-Color2:  ['red', 'orange', 'white']\n",
      "Color2-Color1:  ['black', 'yellow']\n"
     ]
    }
   ],
   "source": [
    "x=[\"red\", \"orange\", \"green\", \"blue\", \"white\"]\n",
    "y=[\"black\", \"yellow\", \"green\", \"blue\"]\n",
    "print([i for i in x if i not in y])\n",
    "print([j for j in y if j not in x])\n",
    "#################################################################\n",
    "print('..................................................................................')\n",
    "from collections import Counter\n",
    "color1 = [\"red\", \"orange\", \"green\", \"blue\", \"white\"]\n",
    "color2 = [\"black\", \"yellow\", \"green\", \"blue\"]\n",
    "c1=Counter(color1)\n",
    "c2=Counter(color2)\n",
    "print(\"Color1-Color2: \", list(c1 - c2))\n",
    "print(\"Color2-Color1: \", list(c2 - c1))"
   ]
  },
  {
   "cell_type": "code",
   "execution_count": 70,
   "id": "58b1edca-8a84-4bad-a97e-3bdcf9b14060",
   "metadata": {
    "tags": []
   },
   "outputs": [
    {
     "name": "stdout",
     "output_type": "stream",
     "text": [
      "0\n",
      "1\n",
      "2\n",
      "3\n",
      "4\n",
      "5\n"
     ]
    }
   ],
   "source": [
    "import itertools\n",
    "c=itertools.count()\n",
    "for z in range(6):\n",
    "    z=print(next(c))"
   ]
  },
  {
   "cell_type": "code",
   "execution_count": 71,
   "id": "3bf70493-0df9-4669-80dd-2871126ec27b",
   "metadata": {
    "tags": []
   },
   "outputs": [
    {
     "name": "stdout",
     "output_type": "stream",
     "text": [
      "red-green-orange\n",
      "redgreenorange\n"
     ]
    }
   ],
   "source": [
    "x=['red','green','orange']\n",
    "print('-'.join(x))\n",
    "print(''.join(x))"
   ]
  },
  {
   "cell_type": "code",
   "execution_count": 72,
   "id": "8bfac3c7-fe20-4077-8ad8-99280a002ee9",
   "metadata": {
    "tags": []
   },
   "outputs": [
    {
     "name": "stdout",
     "output_type": "stream",
     "text": [
      "Original List:-\n",
      "[{'key1': 'value1', 'key2': 'value2'}, {'key1': 'value3', 'key2': 'value4'}]\n",
      "[{'key2': 'value2'}, {'key2': 'value4'}]\n",
      "..................................................................................\n",
      "[{'key2': 'value2'}, {'key2': 'value4'}]\n"
     ]
    }
   ],
   "source": [
    "t = [{'key1': 'value1', 'key2': 'value2'}, {'key1': 'value3', 'key2': 'value4'}]\n",
    "print('Original List:-\\n',t,sep='')\n",
    "n=[{k: j for k, j in i.items() if k != 'key1'} for i in t]\n",
    "print(n)\n",
    "######################################################################################\n",
    "print('..................................................................................')\n",
    "q=[]\n",
    "for i in t:\n",
    "    for k,j in i.items():\n",
    "        if k!='key1':\n",
    "            e={k:j}\n",
    "            q.append(e)\n",
    "print(q)"
   ]
  },
  {
   "cell_type": "code",
   "execution_count": 73,
   "id": "8523a766-4ece-453f-bb90-4515d72766a5",
   "metadata": {
    "tags": []
   },
   "outputs": [
    {
     "name": "stdout",
     "output_type": "stream",
     "text": [
      "['Red', 'Green', 'White']\n"
     ]
    }
   ],
   "source": [
    "import ast\n",
    "x=\"['Red','Green','White']\"\n",
    "print(ast.literal_eval(x))"
   ]
  },
  {
   "cell_type": "code",
   "execution_count": 74,
   "id": "501c8893-6494-49f5-87a7-538af7194593",
   "metadata": {
    "tags": []
   },
   "outputs": [
    {
     "name": "stdout",
     "output_type": "stream",
     "text": [
      "False\n",
      "True\n"
     ]
    }
   ],
   "source": [
    "color1 = [\"green\", \"orange\", \"black\", \"white\"]\n",
    "color2 = [\"green\", \"green\", \"green\", \"green\"]\n",
    "print(all(c=='blue' for c in color1))\n",
    "print(all(c=='green' for c in color2))"
   ]
  },
  {
   "cell_type": "code",
   "execution_count": 75,
   "id": "15332a2f-0456-4b7b-a407-38d176d9fa8c",
   "metadata": {
    "tags": []
   },
   "outputs": [
    {
     "name": "stdout",
     "output_type": "stream",
     "text": [
      "[1, 3, 5, 7, 9, [2, 4, 6, 8]]\n",
      "[1, 3, 5, 7, 9, [2, 4, 6, 8]]\n"
     ]
    }
   ],
   "source": [
    "x=[1,3,5,7,9,10]\n",
    "y=[2,4,6,8]\n",
    "x.pop(-1)\n",
    "x.append(y)\n",
    "print(x)\n",
    "#######################################\n",
    "x[-1]=y\n",
    "print(x)"
   ]
  },
  {
   "cell_type": "code",
   "execution_count": 76,
   "id": "b7345c91-42ab-4f3a-9e5f-4c4ca8fc069d",
   "metadata": {
    "tags": []
   },
   "outputs": [
    {
     "name": "stdin",
     "output_type": "stream",
     "text": [
      "Enter the nth element:- 2\n"
     ]
    },
    {
     "name": "stdout",
     "output_type": "stream",
     "text": [
      "5\n"
     ]
    }
   ],
   "source": [
    "f=[1,2,3,4,5,6]\n",
    "u=int(input('Enter the nth element:-'))\n",
    "c=len(f) -u\n",
    "print(f[c])"
   ]
  },
  {
   "cell_type": "code",
   "execution_count": 77,
   "id": "ae328435-f8a8-4057-8c8c-d8973a4faaed",
   "metadata": {
    "tags": []
   },
   "outputs": [
    {
     "name": "stdout",
     "output_type": "stream",
     "text": [
      "(1, 2)\n",
      "(6, 0)\n"
     ]
    }
   ],
   "source": [
    "h=[(4,1),(1,2),(6,0)]\n",
    "print(min(h))\n",
    "print(min(h,key=lambda n: (n[1], -n[0])))"
   ]
  },
  {
   "cell_type": "code",
   "execution_count": 78,
   "id": "551b591e-68a4-4009-855c-e8dae8fa96de",
   "metadata": {
    "tags": []
   },
   "outputs": [
    {
     "name": "stdout",
     "output_type": "stream",
     "text": [
      "[{}, {}, {}]\n",
      "[{}, {}, {}, {}, {}]\n"
     ]
    }
   ],
   "source": [
    "x=[{},{},{}]\n",
    "print(x)\n",
    "n=5\n",
    "k=[{} for _  in range(n)]\n",
    "print(k)"
   ]
  },
  {
   "cell_type": "code",
   "execution_count": 79,
   "id": "735f40b9-b2e3-404b-91d5-c49f205f49c5",
   "metadata": {
    "tags": []
   },
   "outputs": [
    {
     "name": "stdout",
     "output_type": "stream",
     "text": [
      "1 2 3 4 5\n"
     ]
    }
   ],
   "source": [
    "j=[1,2,3,4,5]\n",
    "print(*j)"
   ]
  },
  {
   "cell_type": "code",
   "execution_count": 80,
   "id": "659496e2-c453-4bf1-8422-851636612655",
   "metadata": {
    "tags": []
   },
   "outputs": [
    {
     "name": "stdout",
     "output_type": "stream",
     "text": [
      "['emp1', 'emp2', 'emp3', 'emp4']\n",
      "['emp1', 'emp2', 'emp3', 'emp4']\n"
     ]
    }
   ],
   "source": [
    "e=[1,2,3,4]\n",
    "x='emp'\n",
    "z=[x+str(i) for i in e]\n",
    "print(z)\n",
    "u=['emp{0}'.format(i) for i in e]\n",
    "print(u)"
   ]
  },
  {
   "cell_type": "code",
   "execution_count": 81,
   "id": "39ab7f7e-df85-4b0e-86ef-8cd75cb110df",
   "metadata": {
    "tags": []
   },
   "outputs": [
    {
     "name": "stdout",
     "output_type": "stream",
     "text": [
      "1 Red\n",
      "2 White\n",
      "3 Black\n"
     ]
    }
   ],
   "source": [
    "n=[1,2,3]\n",
    "c=['Red','White','Black']\n",
    "for (i,j) in zip (n,c):\n",
    "    print(i,j)"
   ]
  },
  {
   "cell_type": "code",
   "execution_count": 82,
   "id": "3e9d3f5c-2688-43ff-88b5-6c3c53e4bc9a",
   "metadata": {
    "tags": []
   },
   "outputs": [
    {
     "name": "stdout",
     "output_type": "stream",
     "text": [
      "[3, 4, 6, 2, 6, 7, 6, 9, 10, 7, 4, 4, 5, 3, 2, 9, 7, 1, 0, 0, 0, 0, 0, 0, 0, 0, 0]\n",
      "Original list:\n",
      "[3, 4, 0, 0, 0, 6, 2, 0, 6, 7, 6, 0, 0, 0, 9, 10, 7, 4, 4, 5, 3, 0, 0, 2, 9, 7, 1]\n",
      "Move all zero digits to the end of the said list of numbers:\n",
      "[3, 4, 6, 2, 6, 7, 6, 9, 10, 7, 4, 4, 5, 3, 2, 9, 7, 1, 0, 0, 0, 0, 0, 0, 0, 0, 0]\n"
     ]
    }
   ],
   "source": [
    "b=[3, 4, 0, 0, 0, 6, 2, 0, 6, 7, 6, 0, 0, 0, 9, 10, 7, 4, 4, 5, 3, 0, 0, 2, 9, 7, 1]\n",
    "c=[i for i in b if i==0 ]\n",
    "d=[j for j in b if j!=0]\n",
    "print(d+c)\n",
    "#######################################################################\n",
    "def test(n):\n",
    "    re=sorted(n, key=lambda x: not x)\n",
    "    return re\n",
    "n=[3, 4, 0, 0, 0, 6, 2, 0, 6, 7, 6, 0, 0, 0, 9, 10, 7, 4, 4, 5, 3, 0, 0, 2, 9, 7, 1]\n",
    "print('Original list:\\n',n,sep='')\n",
    "print('Move all zero digits to the end of the said list of numbers:\\n',test(n),sep='')"
   ]
  },
  {
   "cell_type": "code",
   "execution_count": 83,
   "id": "da20306e-ecb4-4723-b238-0e22a9519b6d",
   "metadata": {
    "tags": []
   },
   "outputs": [
    {
     "name": "stdout",
     "output_type": "stream",
     "text": [
      "The sum of all the list of lists:- [6, 15, 33, 24]\n",
      "Index of maximum is:- 2 The sum of Max is:- 33\n",
      "The list that sum is Max:- [10, 11, 12]\n",
      "..............................................................\n",
      "The sum of max list of lists:-\n",
      "[10, 11, 12]\n"
     ]
    }
   ],
   "source": [
    "o= [1,2,3], [4,5,6], [10,11,12], [7,8,9]\n",
    "l=[sum(i) for i in o]\n",
    "print('The sum of all the list of lists:-',l)\n",
    "print('Index of maximum is:-',l.index(max(l)),'The sum of Max is:-',max(l))\n",
    "print('The list that sum is Max:-',o[2])\n",
    "###############################################################\n",
    "print('..............................................................')\n",
    "print('The sum of max list of lists:-')\n",
    "print(max(o,key=sum))"
   ]
  },
  {
   "cell_type": "code",
   "execution_count": 84,
   "id": "56eda85c-44ec-48c3-bf2c-a2016e902b00",
   "metadata": {
    "tags": []
   },
   "outputs": [
    {
     "name": "stdout",
     "output_type": "stream",
     "text": [
      "True\n",
      "False\n"
     ]
    }
   ],
   "source": [
    "a=[220,330,500]\n",
    "n=[12,17,21]\n",
    "print(all(i>=220 for i in a))\n",
    "print(all(i>=25 for i in n))"
   ]
  },
  {
   "cell_type": "code",
   "execution_count": 85,
   "id": "c6323dc4-5707-48c4-945c-92c8e565fc34",
   "metadata": {
    "tags": []
   },
   "outputs": [
    {
     "name": "stdout",
     "output_type": "stream",
     "text": [
      "[40, 50, 60, 10, 20, 30]\n",
      "[40, 50, 60, 10, 20, 30]\n"
     ]
    }
   ],
   "source": [
    "t=[10,20,30]\n",
    "r=[40,50,60]\n",
    "print(r+t)\n",
    "t[:0]=r\n",
    "print(t)"
   ]
  },
  {
   "cell_type": "code",
   "execution_count": 86,
   "id": "d6533a26-e72a-4d95-a519-dce7bb27c5d1",
   "metadata": {
    "tags": []
   },
   "outputs": [
    {
     "name": "stdout",
     "output_type": "stream",
     "text": [
      "[[10, 20], [30, 56, 25], [33], [40]]\n"
     ]
    }
   ],
   "source": [
    "import itertools\n",
    "m=[[10, 20], [40], [30, 56, 25], [10, 20], [33], [40]]\n",
    "m.sort()\n",
    "y=list(m for m,_ in itertools.groupby(m))\n",
    "print(y)"
   ]
  },
  {
   "cell_type": "code",
   "execution_count": 8,
   "id": "fc454aee-cd9b-417e-8d82-7664a67e28be",
   "metadata": {
    "tags": []
   },
   "outputs": [
    {
     "name": "stdin",
     "output_type": "stream",
     "text": [
      "Enter word start with from the list a\n"
     ]
    },
    {
     "name": "stdout",
     "output_type": "stream",
     "text": [
      "['abcd', 'abc', 'acjd']\n",
      ".................................................................................\n"
     ]
    },
    {
     "name": "stdin",
     "output_type": "stream",
     "text": [
      "Enter word start with from the list d\n"
     ]
    },
    {
     "name": "stdout",
     "output_type": "stream",
     "text": [
      "['dagfa']\n"
     ]
    }
   ],
   "source": [
    "f=['abcd', 'abc', 'bcd', 'bkie', 'cder', 'cdsw', 'sdfsd', 'dagfa', 'acjd']\n",
    "g=[]\n",
    "h=input('Enter word start with from the list')\n",
    "for i in f:\n",
    "    if i.startswith(h):\n",
    "        g.append(i)\n",
    "print(g)\n",
    "##################################################################################\n",
    "print('.................................................................................')\n",
    "f=['abcd', 'abc', 'bcd', 'bkie', 'cder', 'cdsw', 'sdfsd', 'dagfa', 'acjd']\n",
    "g=[]\n",
    "h=input('Enter word start with from the list')\n",
    "for i in f:\n",
    "    if i.startswith(h):\n",
    "        g.append(i)\n",
    "print(g)"
   ]
  },
  {
   "cell_type": "code",
   "execution_count": 9,
   "id": "f3564e90-957c-4bd9-8be7-c58c8537616d",
   "metadata": {
    "tags": []
   },
   "outputs": [
    {
     "name": "stdout",
     "output_type": "stream",
     "text": [
      "True\n",
      "False\n"
     ]
    }
   ],
   "source": [
    "s=[{},{},{}]\n",
    "print(all(not i for i in s))\n",
    "d=[{1,2},{},{}]\n",
    "print(all(not i for i in d))"
   ]
  },
  {
   "cell_type": "code",
   "execution_count": 10,
   "id": "af385a7c-15a7-4841-9758-0f5034c6b8be",
   "metadata": {
    "tags": []
   },
   "outputs": [
    {
     "name": "stdout",
     "output_type": "stream",
     "text": [
      "[0, 10, 20, 30, 40, 50, 60, 70, 80, 90, 100, 110, 120]\n"
     ]
    }
   ],
   "source": [
    "def flatten_list(x):\n",
    "    re=[]\n",
    "    if not x:\n",
    "        return re\n",
    "    stack=[(x)]\n",
    "    while stack:\n",
    "        c=stack.pop()\n",
    "        next=c.pop()\n",
    "        if c:\n",
    "            stack.append(c)\n",
    "        if isinstance(next,list):\n",
    "            if next:\n",
    "                stack.append(list(next))\n",
    "        else:\n",
    "            re.append(next)\n",
    "    re.reverse()\n",
    "    return re\n",
    "x=[0, 10, [20, 30], 40, 50, [60, 70, 80], [90, 100, 110, 120]]\n",
    "print(flatten_list(x))"
   ]
  },
  {
   "cell_type": "code",
   "execution_count": 11,
   "id": "eb0bf163-9a0e-4ee5-b143-85b51d96fbb9",
   "metadata": {
    "tags": []
   },
   "outputs": [
    {
     "name": "stdout",
     "output_type": "stream",
     "text": [
      "[0, 0, 1, 2, 3, 4, 4, 5, 6, 6, 6, 7, 8, 9, 4, 4]\n",
      "[0, 1, 2, 3, 4, 5, 6, 7, 8, 9, 4]\n"
     ]
    }
   ],
   "source": [
    "from itertools import groupby\n",
    "def compress(n):\n",
    "    return [key for key, group in groupby(n)]\n",
    "a=[0, 0, 1, 2, 3, 4, 4, 5, 6, 6, 6, 7, 8, 9, 4, 4]\n",
    "print(a)\n",
    "print(compress(a))"
   ]
  },
  {
   "cell_type": "code",
   "execution_count": 12,
   "id": "caa8b14a-e537-46ee-9333-4a39ee7d21ae",
   "metadata": {
    "tags": []
   },
   "outputs": [
    {
     "name": "stdout",
     "output_type": "stream",
     "text": [
      "[[0, 0], [1], [2], [3], [4, 4], [5], [6, 6, 6], [7], [8], [9], [4, 4]]\n"
     ]
    }
   ],
   "source": [
    "from itertools import groupby\n",
    "def con(x):\n",
    "    re=[]\n",
    "    for key, group in groupby(x):\n",
    "        re.append(list(group))\n",
    "    return re\n",
    "x=[0, 0, 1, 2, 3, 4, 4, 5, 6, 6, 6, 7, 8, 9, 4, 4]\n",
    "print(con(x))"
   ]
  },
  {
   "cell_type": "code",
   "execution_count": 13,
   "id": "57942fc0-51a4-461b-badb-3c8c96166b06",
   "metadata": {
    "tags": []
   },
   "outputs": [
    {
     "name": "stdout",
     "output_type": "stream",
     "text": [
      "[[2, 1], [1, 2], [1, 3], [1, 4], [1, 4.3], [1, 5], [1, 1]]\n",
      "[[1, 'a'], [1, 'u'], [1, 't'], [1, 'o'], [1, 'm'], [1, 'a'], [1, 't'], [1, 'i'], [1, 'c'], [1, 'a'], [2, 'l'], [1, 'y']]\n"
     ]
    }
   ],
   "source": [
    "from itertools import groupby\n",
    "def encode(s):\n",
    "    return [[len(list(group)),key] for key, group in groupby(s)]\n",
    "s=[1, 1, 2, 3, 4, 4.3, 5, 1]\n",
    "d='automatically'\n",
    "print(encode(s))\n",
    "print(encode(d))"
   ]
  },
  {
   "cell_type": "code",
   "execution_count": 14,
   "id": "e284b6e1-3493-4d39-aca5-467219901fce",
   "metadata": {},
   "outputs": [
    {
     "name": "stdout",
     "output_type": "stream",
     "text": [
      "[[2, 1], 2, 3, [2, 4], 5, 1]\n"
     ]
    }
   ],
   "source": [
    "from itertools import groupby\n",
    "def encode_int(s):\n",
    "    def oo(e):\n",
    "        if len(e)>1:\n",
    "            return [len(e),e[0]]\n",
    "        else:\n",
    "            return e[0]\n",
    "    return [oo(list(group)) for key, group in groupby(s)]\n",
    "s=[1, 1, 2, 3, 4, 4, 5, 1]\n",
    "print(encode_int(s))"
   ]
  },
  {
   "cell_type": "code",
   "execution_count": 15,
   "id": "98052afb-376b-4f7a-87ea-3a9399e3bde3",
   "metadata": {
    "tags": []
   },
   "outputs": [
    {
     "name": "stdout",
     "output_type": "stream",
     "text": [
      "[1, 1, 2, 3, 4, 4, 5, 1]\n"
     ]
    }
   ],
   "source": [
    "def decode(u):\n",
    "    def aux(g):\n",
    "        if isinstance(g,list):\n",
    "            return [(g[1],range(g[0]))]\n",
    "        else:\n",
    "            return [(g,[0])]\n",
    "    return [x for g in u for x,R in aux(g) for i in R]\n",
    "u=[[2, 1], 2, 3, [2, 4], 5, 1]\n",
    "print(decode(u))"
   ]
  },
  {
   "cell_type": "code",
   "execution_count": 17,
   "id": "9e087be4-947b-42c7-8b31-f15bd29b1ca6",
   "metadata": {
    "tags": []
   },
   "outputs": [
    {
     "name": "stdin",
     "output_type": "stream",
     "text": [
      "Enter a number: 3\n"
     ]
    },
    {
     "name": "stdout",
     "output_type": "stream",
     "text": [
      "[[1, 1, 2], [3, 4, 4, 5, 1]]\n"
     ]
    }
   ],
   "source": [
    "l=[1, 1, 2, 3, 4, 4, 5, 1]\n",
    "p=int(input('Enter a number:'))\n",
    "z=[l[:p]]+[l[p:]]\n",
    "print(z)    "
   ]
  },
  {
   "cell_type": "code",
   "execution_count": 18,
   "id": "f909fe0b-173d-4b08-9271-303beb4fffbb",
   "metadata": {
    "tags": []
   },
   "outputs": [
    {
     "name": "stdin",
     "output_type": "stream",
     "text": [
      "Enter a number: 2\n"
     ]
    },
    {
     "name": "stdout",
     "output_type": "stream",
     "text": [
      "[1, 1, 3, 4, 4, 5, 1]\n"
     ]
    }
   ],
   "source": [
    "l=[1, 1, 2, 3, 4, 4, 5, 1]\n",
    "k=int(input('Enter a number:'))\n",
    "z=l.pop(k)\n",
    "print(l)"
   ]
  },
  {
   "cell_type": "code",
   "execution_count": 19,
   "id": "35aa72f8-28f1-4945-95c1-822eafb600c4",
   "metadata": {
    "tags": []
   },
   "outputs": [
    {
     "name": "stdin",
     "output_type": "stream",
     "text": [
      "Enter a number: 2\n"
     ]
    },
    {
     "name": "stdout",
     "output_type": "stream",
     "text": [
      "[1, 1, 12, 2, 3, 4, 4, 5, 1]\n"
     ]
    }
   ],
   "source": [
    "x=[1, 1, 2, 3, 4, 4, 5, 1]\n",
    "k=int(input('Enter a number:'))\n",
    "x.insert(k,12)\n",
    "print(x)"
   ]
  },
  {
   "cell_type": "code",
   "execution_count": 21,
   "id": "f13319c3-134f-4cb7-8c99-3f452dcf92df",
   "metadata": {
    "tags": []
   },
   "outputs": [
    {
     "name": "stdout",
     "output_type": "stream",
     "text": [
      "8\n"
     ]
    },
    {
     "name": "stdin",
     "output_type": "stream",
     "text": [
      "Enter a number in between (length of x - 1):- 5\n",
      "Enter a number in between (length of x - 1):- 5\n",
      "Enter a number in between (length of x - 1):- 0\n"
     ]
    },
    {
     "name": "stdout",
     "output_type": "stream",
     "text": [
      "[4, 4, 1]\n",
      "[1, 2, 4]\n"
     ]
    }
   ],
   "source": [
    "x=[1, 1, 2, 3, 4, 4, 5, 1]\n",
    "print(len(x))\n",
    "z=[]\n",
    "for k in range(3):\n",
    "    k=int(input('Enter a number in between (length of x - 1):-'))\n",
    "    z.append(k)\n",
    "print([x[z[0]],x[z[1]],x[z[2]]])\n",
    "import random\n",
    "def random_select_num(x,n):\n",
    "    return random.sample(x,n)\n",
    "x=[1, 1, 2, 3, 4, 4, 5, 1]\n",
    "n=3\n",
    "print(random_select_num(x,n))"
   ]
  },
  {
   "cell_type": "code",
   "execution_count": 23,
   "id": "3445dc02-dbb9-4731-a79f-52ff7a8bfdaa",
   "metadata": {
    "tags": []
   },
   "outputs": [
    {
     "name": "stdout",
     "output_type": "stream",
     "text": [
      "[1, 2, 3, 4, 5, 6, 7, 8, 9] \n",
      "\n",
      "[1, 2]\n",
      "[1, 3]\n",
      "[1, 4]\n",
      "[1, 5]\n",
      "[1, 6]\n",
      "[1, 7]\n",
      "[1, 8]\n",
      "[1, 9]\n",
      "[2, 3]\n",
      "[2, 4]\n",
      "[2, 5]\n",
      "[2, 6]\n",
      "[2, 7]\n",
      "[2, 8]\n",
      "[2, 9]\n",
      "[3, 4]\n",
      "[3, 5]\n",
      "[3, 6]\n",
      "[3, 7]\n",
      "[3, 8]\n",
      "[3, 9]\n",
      "[4, 5]\n",
      "[4, 6]\n",
      "[4, 7]\n",
      "[4, 8]\n",
      "[4, 9]\n",
      "[5, 6]\n",
      "[5, 7]\n",
      "[5, 8]\n",
      "[5, 9]\n",
      "[6, 7]\n",
      "[6, 8]\n",
      "[6, 9]\n",
      "[7, 8]\n",
      "[7, 9]\n",
      "[8, 9]\n"
     ]
    }
   ],
   "source": [
    "def combination(n,x):\n",
    "    if n<=0:\n",
    "        yield[]\n",
    "        return\n",
    "    for i in range(len(x)):\n",
    "        c=x[i:i+1]\n",
    "        for a in combination(n-1, x[i+1:]):\n",
    "            yield c+a\n",
    "x=[1, 2, 3, 4, 5, 6, 7, 8, 9]\n",
    "print(x,'\\n')\n",
    "n=2\n",
    "r=combination(n,x)\n",
    "for e in r:\n",
    "    print(e)"
   ]
  },
  {
   "cell_type": "code",
   "execution_count": 24,
   "id": "e38b431a-9176-47bf-b594-82648dd40c40",
   "metadata": {
    "tags": []
   },
   "outputs": [
    {
     "name": "stdout",
     "output_type": "stream",
     "text": [
      "237.24\n",
      "..........................................................\n",
      "243\n"
     ]
    }
   ],
   "source": [
    "x=[22.4, 4.0, -16.22, -9.1, 11.0, -12.22, 14.2, -5.2, 17.5]\n",
    "y=0\n",
    "for i in x:\n",
    "    int(i)\n",
    "    y=i+y    \n",
    "print(y*len(x))\n",
    "print('..........................................................')\n",
    "print(sum(list(map(round,x))*len(x)))"
   ]
  },
  {
   "cell_type": "code",
   "execution_count": 25,
   "id": "24078ee3-d964-4bee-8305-1063e1dd9183",
   "metadata": {
    "tags": []
   },
   "outputs": [
    {
     "name": "stdout",
     "output_type": "stream",
     "text": [
      "Original Lists:-\n",
      "[22.4, 4.0, 16.22, 9.1, 11.0, 12.22, 14.2, 5.2, 17.5]\n",
      "Minimum Value:-> 4\n",
      "Maximum Value:-> 22\n",
      "Result:-\n",
      "[20, 25, 45, 55, 60, 70, 80, 90, 110]\n"
     ]
    }
   ],
   "source": [
    "x=[22.4, 4.0, 16.22, 9.1, 11.0, 12.22, 14.2, 5.2, 17.5]\n",
    "y=list(map(round,x))\n",
    "print('Original Lists:-\\n',x,'\\nMinimum Value:-> ',min(y),'\\nMaximum Value:-> ',max(y),sep='')\n",
    "p=[i*5 for i in y]\n",
    "p.sort()\n",
    "print('Result:-\\n',p,sep='')"
   ]
  },
  {
   "cell_type": "code",
   "execution_count": 26,
   "id": "ca7de07f-c87e-4cd0-9a23-0f61881a8a3e",
   "metadata": {
    "tags": []
   },
   "outputs": [
    {
     "name": "stdout",
     "output_type": "stream",
     "text": [
      "[[0, 0], [0, 0], [0, 0]]\n",
      "Multidimensional lists:-\n",
      "[[0, 0], [0, 0], [0, 0]]\n"
     ]
    }
   ],
   "source": [
    "x=[[0,0],[0,0],[0,0]]\n",
    "print(x)\n",
    "n=[]\n",
    "for i in range(3):\n",
    "    n.append([])\n",
    "    for j in range(2):\n",
    "        n[i].append(0)\n",
    "print('Multidimensional lists:-\\n',n,sep='')"
   ]
  },
  {
   "cell_type": "code",
   "execution_count": 27,
   "id": "edcc407b-b0cd-4ce2-984a-df1f42bc026c",
   "metadata": {
    "tags": []
   },
   "outputs": [
    {
     "name": "stdout",
     "output_type": "stream",
     "text": [
      "3*3 Grid:\n",
      "[[1, 2, 3], [1, 2, 3], [1, 2, 3]]\n"
     ]
    }
   ],
   "source": [
    "x=[]\n",
    "for i in range(3):\n",
    "    x.append([])\n",
    "    for j in range(1,4):\n",
    "        x[i].append(j)\n",
    "print('3*3 Grid:\\n',x,sep='')"
   ]
  },
  {
   "cell_type": "code",
   "execution_count": 30,
   "id": "faf569b7-82d9-4a87-a659-299a5431287c",
   "metadata": {
    "tags": []
   },
   "outputs": [
    {
     "name": "stdin",
     "output_type": "stream",
     "text": [
      "Enter Rows: 2\n",
      "Enter Columns: 2\n",
      " 1 2\n",
      " 3 4\n"
     ]
    },
    {
     "name": "stdout",
     "output_type": "stream",
     "text": [
      "4  6  "
     ]
    }
   ],
   "source": [
    "x=int(input('Enter Rows:'))\n",
    "y=int(input('Enter Columns:'))\n",
    "m=[[0]*y for i in range(x)]\n",
    "for i in range(x):\n",
    "    l=list(map(int,input().split()))\n",
    "    for j in range(y):\n",
    "        m[i][j]=l[j]\n",
    "sum=[0]*y\n",
    "for j in range(y):\n",
    "    for i in range(x):\n",
    "        sum[j]+=m[i][j]\n",
    "    print((sum[j]),' ',end='')"
   ]
  },
  {
   "cell_type": "code",
   "execution_count": 32,
   "id": "095426bf-751d-442a-98d1-05e77185a36e",
   "metadata": {
    "tags": []
   },
   "outputs": [
    {
     "name": "stdin",
     "output_type": "stream",
     "text": [
      " 2 3 4\n",
      " 4 5 6\n",
      " 3 4 7\n"
     ]
    },
    {
     "name": "stdout",
     "output_type": "stream",
     "text": [
      "\n",
      "Matrix:\n",
      "[[2, 3, 4], [4, 5, 6], [3, 4, 7]]\n",
      "Sum of Digonal is:\n",
      "14\n"
     ]
    }
   ],
   "source": [
    "x=3\n",
    "m=[[0] * x for i in range(0,x)]\n",
    "for j in range(0, x):\n",
    "    l=list(map(int, input().split()))\n",
    "    for y in range(0,x):\n",
    "        m[j][y]=l[y]\n",
    "print('\\nMatrix:\\n',m,'\\nSum of Digonal is:\\n',(m[0][0]+m[1][1]+m[2][2]),sep='')"
   ]
  },
  {
   "cell_type": "code",
   "execution_count": 33,
   "id": "44f57ffc-1c12-4d61-8ead-5f2312b7e616",
   "metadata": {
    "tags": []
   },
   "outputs": [
    {
     "name": "stdout",
     "output_type": "stream",
     "text": [
      "[[1, 3, 2, 4], [5, 7, 6, 8], [9, 11, 10, 12, 14]]\n"
     ]
    }
   ],
   "source": [
    "x=[[1, 3], [5, 7], [9, 11]]\n",
    "y=[[2, 4], [6, 8], [10, 12, 14]]\n",
    "z=list(map(list.__add__,x,y))\n",
    "print(str(z))"
   ]
  },
  {
   "cell_type": "code",
   "execution_count": 34,
   "id": "b0f1aef3-5e3b-466a-9832-a8e3adaa7862",
   "metadata": {
    "tags": []
   },
   "outputs": [
    {
     "name": "stdout",
     "output_type": "stream",
     "text": [
      "Original List:\n",
      "[[1, 3], [5, 7], [9, 11], [13, 15, 17]]\n",
      "Number of lists in said list of lists:\n",
      "4\n",
      "Original List:\n",
      "[[2, 4], [[6, 8], [4, 5, 8]], [10, 12, 14]]\n",
      "Number of lists in said list of lists:\n",
      "3\n"
     ]
    }
   ],
   "source": [
    "def count_list(x):\n",
    "    return len(x)\n",
    "x=[[1, 3], [5, 7], [9, 11], [13, 15, 17]]\n",
    "print('Original List:\\n',x,sep='')\n",
    "print('Number of lists in said list of lists:\\n',count_list(x),sep='')\n",
    "x=[[2, 4], [[6, 8], [4, 5, 8]], [10, 12, 14]]\n",
    "print('Original List:\\n',x,sep='')\n",
    "print('Number of lists in said list of lists:\\n',count_list(x),sep='')"
   ]
  },
  {
   "cell_type": "code",
   "execution_count": 35,
   "id": "9f39c129-5371-4c44-8ec7-aa4a2417e33e",
   "metadata": {
    "tags": []
   },
   "outputs": [
    {
     "name": "stdout",
     "output_type": "stream",
     "text": [
      "List with maximum length of lists:\n",
      "(3, [13, 15, 17])\n",
      "List with minimum length of lists:\n",
      "(1, [0])\n"
     ]
    }
   ],
   "source": [
    "x=[[0], [1, 3], [5, 7], [9, 11], [13, 15, 17]]\n",
    "y=max(x)\n",
    "z=min(x)\n",
    "print('List with maximum length of lists:\\n',(len(y),y),sep='')\n",
    "print('List with minimum length of lists:\\n',(len(z),z),sep='')"
   ]
  },
  {
   "cell_type": "code",
   "execution_count": 36,
   "id": "26744651-5a94-4641-b237-2d60afe683da",
   "metadata": {
    "tags": []
   },
   "outputs": [
    {
     "name": "stdout",
     "output_type": "stream",
     "text": [
      "True\n",
      "True\n",
      "False\n"
     ]
    }
   ],
   "source": [
    "def check(x,y):\n",
    "    return all(map(x.__contains__,y))\n",
    "x=[[1, 3], [5, 7], [9, 11], [13, 15, 17]]\n",
    "y=[[1, 3], [13, 15, 17]]\n",
    "print(check(x,y))\n",
    "x=[[[1, 2], [2, 3]], [[3, 4], [5, 6]]]\n",
    "y=[[[3, 4], [5, 6]]]\n",
    "print(check(x,y))\n",
    "x=[[[1, 2], [2, 3]], [[3, 4], [5, 7]]]\n",
    "y=[[[3, 4], [5, 6]]]\n",
    "print(check(x,y))"
   ]
  },
  {
   "cell_type": "code",
   "execution_count": 37,
   "id": "960e5099-df84-4afa-b334-e49a78881ba4",
   "metadata": {
    "tags": []
   },
   "outputs": [
    {
     "name": "stdin",
     "output_type": "stream",
     "text": [
      "Enter a number you want to count in given list of list: 3\n"
     ]
    },
    {
     "name": "stdout",
     "output_type": "stream",
     "text": [
      "1\n"
     ]
    },
    {
     "name": "stdin",
     "output_type": "stream",
     "text": [
      "Enter a number you want to count in given list of list: 7\n"
     ]
    },
    {
     "name": "stdout",
     "output_type": "stream",
     "text": [
      "2\n"
     ]
    },
    {
     "name": "stdin",
     "output_type": "stream",
     "text": [
      "Enter a Character  you want to count in given list of list: a\n"
     ]
    },
    {
     "name": "stdout",
     "output_type": "stream",
     "text": [
      "3\n"
     ]
    },
    {
     "name": "stdin",
     "output_type": "stream",
     "text": [
      "Enter a Character  you want to count in given list of list: e\n"
     ]
    },
    {
     "name": "stdout",
     "output_type": "stream",
     "text": [
      "1\n"
     ]
    }
   ],
   "source": [
    "x=[[1, 3], [5, 7], [1, 11], [1, 15, 7]]\n",
    "for y in range(2):\n",
    "    y=int(input('Enter a number you want to count in given list of list:'))\n",
    "    z=0\n",
    "    for i in x:\n",
    "        p=i.count(y)\n",
    "        z+=p\n",
    "    print(z)\n",
    "u=[['A', 'B'], ['A', 'C'], ['A', 'D', 'E'], ['B', 'C', 'D']]\n",
    "for v in range(2):\n",
    "    v=((input('Enter a Character  you want to count in given list of list:')).upper())\n",
    "    c=0\n",
    "    for i in u:\n",
    "        q=i.count(v)\n",
    "        c+=q\n",
    "    print(c)"
   ]
  },
  {
   "cell_type": "code",
   "execution_count": 3,
   "id": "30cd6672-1ad5-4e5f-b326-0fab4e0d1ad9",
   "metadata": {
    "tags": []
   },
   "outputs": [
    {
     "name": "stdout",
     "output_type": "stream",
     "text": [
      "Original list:\n",
      "[[1, 3], [5, 7], [1, 3], [13, 15, 17], [5, 7], [9, 11]]\n",
      "Number of unique lists of the said list:\n",
      "{(1, 3): 2, (5, 7): 2, (13, 15, 17): 1, (9, 11): 1}\n",
      "Original list:\n",
      "[['green', 'orange'], ['black'], ['green', 'orange'], ['white']]\n",
      "Number of unique lists of the said list:\n",
      "{('green', 'orange'): 2, ('black',): 1, ('white',): 1}\n"
     ]
    }
   ],
   "source": [
    "def unique(x):\n",
    "    r={}\n",
    "    for i in x:\n",
    "        r.setdefault(tuple(i),list()).append(1)\n",
    "    for a,b in r.items():\n",
    "        r[a]=sum(b)\n",
    "    return r\n",
    "x=[[1, 3], [5, 7], [1, 3], [13, 15, 17], [5, 7], [9, 11]]\n",
    "print(\"Original list:\\n\",x,sep='')\n",
    "print('Number of unique lists of the said list:\\n',unique(x),sep='')\n",
    "x=[['green', 'orange'], ['black'], ['green', 'orange'], ['white']]\n",
    "print(\"Original list:\\n\",x,sep='')\n",
    "print('Number of unique lists of the said list:\\n',unique(x),sep='')"
   ]
  },
  {
   "cell_type": "code",
   "execution_count": 61,
   "id": "69ad4d91-edd3-4a40-afb3-ea44de8f278e",
   "metadata": {
    "tags": []
   },
   "outputs": [
    {
     "name": "stdout",
     "output_type": "stream",
     "text": [
      "[[2], [0], [1, 3], [0, 7], [11, 19], [13, 15, 17]]\n",
      "[['green', 'orange'], ['black', 'white'], ['black', 'orange', 'white']]\n"
     ]
    }
   ],
   "source": [
    "def sort_sublist(x):\n",
    "    y=list(map(sorted, x))\n",
    "    return y\n",
    "x=[[2], [0], [1, 3], [0, 7], [19, 11], [13, 15, 17]]\n",
    "print(sort_sublist(x))\n",
    "y=[[\"green\", \"orange\"], [\"black\", \"white\"], [\"white\", \"black\", \"orange\"]]\n",
    "print(sort_sublist(y))"
   ]
  },
  {
   "cell_type": "code",
   "execution_count": 62,
   "id": "d472f2d3-2360-4aad-aef9-b8d0e1e9d75e",
   "metadata": {},
   "outputs": [
    {
     "name": "stdout",
     "output_type": "stream",
     "text": [
      "[[0], [0, 7], [1, 3], [2], [9, 11], [13, 15, 17]]\n",
      "[[0], [2], [0, 7], [1, 3], [9, 11], [13, 15, 17]]\n"
     ]
    }
   ],
   "source": [
    "list1 = [[2], [0], [1, 3], [0, 7], [9, 11], [13, 15, 17]]\n",
    "list1.sort()\n",
    "print(list1)\n",
    "list1.sort(key=len)\n",
    "print(list1)"
   ]
  },
  {
   "cell_type": "code",
   "execution_count": 63,
   "id": "2961fdb1-45a3-4737-897d-d1aa40e9a70d",
   "metadata": {
    "tags": []
   },
   "outputs": [
    {
     "name": "stdout",
     "output_type": "stream",
     "text": [
      "[[13, 14, 15, 17]]\n"
     ]
    }
   ],
   "source": [
    "def remove(i,l,r):\n",
    "    re=[x for x in i if (min(x)>=l and max(x)<=r)]\n",
    "    return re\n",
    "i = [[2], [0], [1, 2, 3], [0, 1, 2, 3, 6, 7], [9, 11], [13, 14, 15, 17]]\n",
    "l=13\n",
    "r=17\n",
    "print(remove(i,l,r))"
   ]
  },
  {
   "cell_type": "code",
   "execution_count": 64,
   "id": "89171053-a093-4ade-9c63-3511ff661fe4",
   "metadata": {
    "tags": []
   },
   "outputs": [
    {
     "name": "stdout",
     "output_type": "stream",
     "text": [
      "['Phyotn', 'slit', 'sxeecesir', 'preaticc', 'nstuooli']\n"
     ]
    }
   ],
   "source": [
    "from random import shuffle\n",
    "def shuffle_word(x):\n",
    "    t=list(x)\n",
    "    shuffle(t)\n",
    "    return ''.join(t)\n",
    "x= ['Python', 'list', 'exercises', 'practice', 'solution']\n",
    "print([shuffle_word(word) for word in x])"
   ]
  },
  {
   "cell_type": "code",
   "execution_count": 65,
   "id": "f0f0e303-83a4-48da-9dd6-9f109480dcbe",
   "metadata": {
    "tags": []
   },
   "outputs": [
    {
     "name": "stdout",
     "output_type": "stream",
     "text": [
      "(5, 2)\n"
     ]
    }
   ],
   "source": [
    "def max_min_val(x):\n",
    "    max_v=max(i for i in x if isinstance(i,int))\n",
    "    min_v=min(i for i in x if isinstance(i,int))\n",
    "    return (max_v,min_v)\n",
    "x=['Python', 3, 2, 4, 5, 'version']\n",
    "print(max_min_val(x))"
   ]
  },
  {
   "cell_type": "code",
   "execution_count": 66,
   "id": "3ca701e6-f84b-40fd-b8b5-feca1042b09b",
   "metadata": {
    "tags": []
   },
   "outputs": [
    {
     "name": "stdout",
     "output_type": "stream",
     "text": [
      "[1, 7]\n"
     ]
    }
   ],
   "source": [
    "def common_Index(x,y,z):\n",
    "    r=[]\n",
    "    for m,n,o in zip(x,y,z):\n",
    "        if (m==n==o):\n",
    "            r.append(m)\n",
    "    return r\n",
    "nums1 = [1, 1, 3, 4, 5, 6, 7]\n",
    "nums2 = [0, 1, 2, 3, 4, 5, 7]\n",
    "nums3 = [0, 1, 2, 3, 4, 5, 7]\n",
    "print(common_Index(nums1,nums2,nums3))"
   ]
  },
  {
   "cell_type": "code",
   "execution_count": 1,
   "id": "ca9ef178-d392-48cc-8679-1c75129f0627",
   "metadata": {
    "tags": []
   },
   "outputs": [
    {
     "name": "stdout",
     "output_type": "stream",
     "text": [
      "[[1, 2, 3], [1, 1, 5], [2, 4, 5]]\n",
      "[[-2, 4, -5], [1, -1, 1], [1, 2, 3]]\n"
     ]
    }
   ],
   "source": [
    "x=[[1, 2, 3], [2, 4, 5], [1, 1, 5]]\n",
    "x.sort(key=sum)\n",
    "print(x)\n",
    "x=[[1, 2, 3], [-2, 4, -5], [1, -1, 1]]\n",
    "x.sort(key=sum)\n",
    "print(x)"
   ]
  },
  {
   "cell_type": "code",
   "execution_count": 4,
   "id": "dd5f46ec-d84c-4ea1-a7d1-c0081ca5004e",
   "metadata": {
    "tags": []
   },
   "outputs": [
    {
     "name": "stdin",
     "output_type": "stream",
     "text": [
      "Enter length value: 8\n"
     ]
    },
    {
     "name": "stdout",
     "output_type": "stream",
     "text": [
      "['practice', 'solution']\n"
     ]
    }
   ],
   "source": [
    "x=['Python', 'list', 'exercises', 'practice', 'solution']\n",
    "y=int(input('Enter length value:'))\n",
    "z=[]\n",
    "for i in x:\n",
    "    if len(i)==y:\n",
    "        z.append(i)\n",
    "print(z)"
   ]
  },
  {
   "cell_type": "code",
   "execution_count": 5,
   "id": "94730112-9321-477e-988a-c1053f12279e",
   "metadata": {
    "tags": []
   },
   "outputs": [
    {
     "name": "stdin",
     "output_type": "stream",
     "text": [
      "Enter a number you want to extract from the list: 2\n"
     ]
    },
    {
     "name": "stdout",
     "output_type": "stream",
     "text": [
      "[1, 4]\n"
     ]
    },
    {
     "name": "stdin",
     "output_type": "stream",
     "text": [
      "Enter a number you want to extract from the list: 4\n"
     ]
    },
    {
     "name": "stdout",
     "output_type": "stream",
     "text": [
      "[4]\n"
     ]
    }
   ],
   "source": [
    "from itertools import groupby\n",
    "def extract_elements(x,y):\n",
    "    r=[i for i,j in groupby(x) if len(list(j))==y]\n",
    "    return r\n",
    "x=[1, 1, 3, 4, 4, 5, 6, 7]\n",
    "y=int(input('Enter a number you want to extract from the list:'))\n",
    "print(extract_elements(x,y))\n",
    "z= [0, 1, 2, 3, 4, 4, 4, 4, 5, 7]\n",
    "y=int(input('Enter a number you want to extract from the list:'))\n",
    "print(extract_elements(z,y))"
   ]
  },
  {
   "cell_type": "code",
   "execution_count": 6,
   "id": "e0188457-7395-42ae-85c5-89d29663291c",
   "metadata": {
    "tags": []
   },
   "outputs": [
    {
     "name": "stdout",
     "output_type": "stream",
     "text": [
      "[0, 2, 1, 0, 1, 1, 1]\n",
      "[1, 3, 1, -3, 4]\n"
     ]
    }
   ],
   "source": [
    "def difference(x):\n",
    "    y=[j-i for i,j in zip(x[:-1],x[1:])]\n",
    "    return y\n",
    "x=[1, 1, 3, 4, 4, 5, 6, 7]\n",
    "print(difference(x))\n",
    "x=[4, 5, 8, 9, 6, 10]\n",
    "print(difference(x))"
   ]
  },
  {
   "cell_type": "code",
   "execution_count": 7,
   "id": "f3d1a4a3-4ea3-466f-a519-688d4cc86f2b",
   "metadata": {
    "tags": []
   },
   "outputs": [
    {
     "name": "stdout",
     "output_type": "stream",
     "text": [
      "Average of Two List is: 3.823529411764706\n"
     ]
    }
   ],
   "source": [
    "x=[1, 1, 3, 4, 4, 5, 6, 7]\n",
    "y=[0, 1, 2, 3, 4, 4, 5, 7, 8]\n",
    "print('Average of Two List is:',(sum(x+y) / len(x+y)))"
   ]
  },
  {
   "cell_type": "code",
   "execution_count": 8,
   "id": "0dfc5833-c99f-4b3a-9ea6-f75fe1276b8f",
   "metadata": {
    "tags": []
   },
   "outputs": [
    {
     "data": {
      "text/plain": [
       "6"
      ]
     },
     "execution_count": 8,
     "metadata": {},
     "output_type": "execute_result"
    }
   ],
   "source": [
    "x=[1, 'abcd', 3, 1.2, 4, 'xyz', 5, 'pqr', 7, -5, -12.22]\n",
    "z=0\n",
    "for i in x:\n",
    "    if isinstance(i,int):\n",
    "        z=z+1\n",
    "z"
   ]
  },
  {
   "cell_type": "code",
   "execution_count": 10,
   "id": "8e4bb98b-c8a7-462d-a98e-6ff62c8e9374",
   "metadata": {
    "tags": []
   },
   "outputs": [
    {
     "name": "stdin",
     "output_type": "stream",
     "text": [
      "Enter column number you want to remove: 1\n"
     ]
    },
    {
     "name": "stdout",
     "output_type": "stream",
     "text": [
      "[[1, 2, 3], [2, 4, 5], [1, 1, 1]]\n",
      "[[1, 3], [2, 5], [1, 1]]\n"
     ]
    },
    {
     "name": "stdin",
     "output_type": "stream",
     "text": [
      "Enter column number you want to remove: 2\n"
     ]
    },
    {
     "name": "stdout",
     "output_type": "stream",
     "text": [
      "[[1, 2, 3], [-2, 4, -5], [1, -1, 1]]\n",
      "[[1, 2], [-2, 4], [1, -1]]\n"
     ]
    }
   ],
   "source": [
    "x=[[1, 2, 3], [2, 4, 5], [1, 1, 1]]\n",
    "y=int(input('Enter column number you want to remove:'))\n",
    "print(x)\n",
    "for i in x:\n",
    "    i.pop(y)\n",
    "print(x)\n",
    "x=[[1, 2, 3], [-2, 4, -5], [1, -1, 1]]\n",
    "y=int(input('Enter column number you want to remove:'))\n",
    "print(x)\n",
    "for i in x:\n",
    "    del i[y]\n",
    "print(x)"
   ]
  },
  {
   "cell_type": "code",
   "execution_count": 11,
   "id": "5c1d8ebd-a1f5-481c-ab2f-af3ee1c60f7b",
   "metadata": {
    "tags": []
   },
   "outputs": [
    {
     "name": "stdin",
     "output_type": "stream",
     "text": [
      "Enter column number you want to extract: 1\n"
     ]
    },
    {
     "name": "stdout",
     "output_type": "stream",
     "text": [
      "[[1, 2, 3], [2, 4, 5], [1, 1, 1]]\n",
      "[2, 4, 1]\n"
     ]
    },
    {
     "name": "stdin",
     "output_type": "stream",
     "text": [
      "Enter column number you want to extract: 2\n"
     ]
    },
    {
     "name": "stdout",
     "output_type": "stream",
     "text": [
      "[[1, 2, 3], [-2, 4, -5], [1, -1, 1]]\n",
      "[3, -5, 1]\n"
     ]
    }
   ],
   "source": [
    "x=[[1, 2, 3], [2, 4, 5], [1, 1, 1]]\n",
    "y=int(input('Enter column number you want to extract:'))\n",
    "print(x)\n",
    "z=[]\n",
    "for i in x:\n",
    "    z.append(i[y])\n",
    "print(z)\n",
    "x=[[1, 2, 3], [-2, 4, -5], [1, -1, 1]]\n",
    "y=int(input('Enter column number you want to extract:'))\n",
    "print(x)\n",
    "z=[]\n",
    "for i in x:\n",
    "    z.append(i[y])\n",
    "print(z)"
   ]
  },
  {
   "cell_type": "code",
   "execution_count": 12,
   "id": "7f591df3-186c-45de-bae8-9e3d9ecb16bb",
   "metadata": {
    "tags": []
   },
   "outputs": [
    {
     "name": "stdout",
     "output_type": "stream",
     "text": [
      "[4, 5, 6, 7, 8, 9, 10, 1, 2, 3, 4]\n",
      "[3, 4, 5, 6, 7, 8, 9, 10, 1, 2]\n",
      "[8, 9, 10, 1, 2, 3, 4, 5, 6]\n",
      "[9, 10, 1, 2, 3, 4, 5, 6, 7, 8]\n"
     ]
    }
   ],
   "source": [
    "x=[1, 2, 3, 4, 5, 6, 7, 8, 9, 10]\n",
    "print(x[3:]+x[:4])\n",
    "print(x[2:]+x[:2])\n",
    "print(x[-3::]+x[:-4])\n",
    "print(x[-2::]+x[:-2])"
   ]
  },
  {
   "cell_type": "code",
   "execution_count": 13,
   "id": "baf70752-2467-4126-9f52-f63291d28bc7",
   "metadata": {
    "tags": []
   },
   "outputs": [
    {
     "name": "stdout",
     "output_type": "stream",
     "text": [
      "2\n"
     ]
    }
   ],
   "source": [
    "x=[2, 3, 8, 4, 7, 9, 8, 2, 6, 5, 1, 6, 1, 2, 3, 4, 6, 9, 9, 1, 2]\n",
    "y=0\n",
    "z=x[0]\n",
    "for i in x:\n",
    "    o=x.count(i)\n",
    "    if o>y:\n",
    "        y=o\n",
    "        z=i\n",
    "print(z)"
   ]
  },
  {
   "cell_type": "code",
   "execution_count": 15,
   "id": "145a8b8a-7884-409b-b3ae-682f1651189e",
   "metadata": {},
   "outputs": [
    {
     "name": "stdin",
     "output_type": "stream",
     "text": [
      "Enter index value you want to extract from given list: 0\n",
      "Enter index value you want to extract from given list: 3\n",
      "Enter index value you want to extract from given list: 5\n",
      "Enter index value you want to extract from given list: 7\n",
      "Enter index value you want to extract from given list: 10\n"
     ]
    },
    {
     "name": "stdout",
     "output_type": "stream",
     "text": [
      "[0, 3, 5, 7, 10]\n",
      "Item with specified index of list:-\n",
      "[2, 4, 9, 2, 1]\n"
     ]
    }
   ],
   "source": [
    "x=[2, 3, 8, 4, 7, 9, 8, 2, 6, 5, 1, 6, 1, 2, 3, 4, 6, 9, 1, 2]\n",
    "z=[]\n",
    "for y in range(5):\n",
    "    y=int(input('Enter index value you want to extract from given list:'))\n",
    "    z.append(y)\n",
    "print(z)\n",
    "p=[(x[i]) for i in z]\n",
    "print('Item with specified index of list:-\\n',p,sep='')"
   ]
  },
  {
   "cell_type": "code",
   "execution_count": 16,
   "id": "69ed1513-99a3-4dce-8609-7dc70c18fcf1",
   "metadata": {
    "tags": []
   },
   "outputs": [
    {
     "name": "stdout",
     "output_type": "stream",
     "text": [
      "True\n",
      "False\n"
     ]
    }
   ],
   "source": [
    "x=[1, 2, 4, 6, 8, 10, 12, 14, 16, 17]\n",
    "y=all(x[i]<=x[i+1] for i in range(len(x)-1))\n",
    "print(y)\n",
    "x= [2,3,8,4,7,9,8,2,6,5,1,6,1,2,3,4,6,9,1,2]\n",
    "y=all(x[i]<=x[i+1] for i in range(len(x)-1))\n",
    "print(y)    "
   ]
  },
  {
   "cell_type": "code",
   "execution_count": 17,
   "id": "e5b81602-70a3-4b02-857f-f30729fac851",
   "metadata": {
    "tags": []
   },
   "outputs": [
    {
     "name": "stdout",
     "output_type": "stream",
     "text": [
      "[{'Blue': '#0000FF'}, {'Black': '#000000'}, {'Green': '#008000'}]\n"
     ]
    }
   ],
   "source": [
    "def remove_duplicate(x):\n",
    "    y=[dict(i) for i in {tuple(d.items()) for d in x}]\n",
    "    return y\n",
    "x=[{'Green': '#008000'}, {'Black': '#000000'}, {'Blue': '#0000FF'}, {'Green': '#008000'}]\n",
    "print(remove_duplicate(x))"
   ]
  },
  {
   "cell_type": "code",
   "execution_count": 18,
   "id": "3ddd5141-0acd-44d9-afa9-7514cd7b38fa",
   "metadata": {
    "tags": []
   },
   "outputs": [
    {
     "name": "stdin",
     "output_type": "stream",
     "text": [
      "Enter a index value you want to extract frm the given list of tuples: 0\n"
     ]
    },
    {
     "name": "stdout",
     "output_type": "stream",
     "text": [
      "['Greyson Fulton', 'Brady Kent', 'Wyatt Knott', 'Beau Turnbull']\n"
     ]
    },
    {
     "name": "stdin",
     "output_type": "stream",
     "text": [
      "Enter a index value you want to extract frm the given list of tuples: 2\n"
     ]
    },
    {
     "name": "stdout",
     "output_type": "stream",
     "text": [
      "[99, 96, 94, 98]\n"
     ]
    },
    {
     "name": "stdin",
     "output_type": "stream",
     "text": [
      "Enter a index value you want to extract frm the given list of tuples: 1\n"
     ]
    },
    {
     "name": "stdout",
     "output_type": "stream",
     "text": [
      "[98, 97, 91, 94]\n"
     ]
    }
   ],
   "source": [
    "def extract_list_tuple(x,y):\n",
    "    p=[i[y] for i in x]\n",
    "    return p\n",
    "x=[('Greyson Fulton', 98, 99), ('Brady Kent', 97, 96), ('Wyatt Knott', 91, 94), ('Beau Turnbull', 94, 98)]\n",
    "for y in range(3):\n",
    "    y=int(input('Enter a index value you want to extract frm the given list of tuples:'))\n",
    "    print(extract_list_tuple(x,y))"
   ]
  },
  {
   "cell_type": "code",
   "execution_count": 19,
   "id": "7c295c9f-c41f-47c0-9493-939fdafade89",
   "metadata": {
    "tags": []
   },
   "outputs": [
    {
     "name": "stdout",
     "output_type": "stream",
     "text": [
      "False\n",
      "True\n"
     ]
    }
   ],
   "source": [
    "def all_unique(x):\n",
    "    if len(x)>len(set(x)):\n",
    "        return (False)\n",
    "    return (True)\n",
    "x=[1, 2, 4, 6, 8, 2, 1, 4, 10, 12, 14, 12, 16, 17]\n",
    "y=[2, 4, 6, 8, 10, 12, 14]\n",
    "print(all_unique(x))\n",
    "print(all_unique(y))"
   ]
  },
  {
   "cell_type": "code",
   "execution_count": 20,
   "id": "e6bd9acc-2756-47ac-9932-507fb2380ec8",
   "metadata": {
    "tags": []
   },
   "outputs": [
    {
     "name": "stdin",
     "output_type": "stream",
     "text": [
      "Enter a number you want to sort the list of list: 0\n"
     ]
    },
    {
     "name": "stdout",
     "output_type": "stream",
     "text": [
      "[('Beau Turnbull', 94, 98), ('Brady Kent', 97, 96), ('Greyson Fulton', 98, 99), ('Wyatt Knott', 91, 94)]\n"
     ]
    }
   ],
   "source": [
    "from operator import itemgetter\n",
    "x=[('Greyson Fulton', 98, 99), ('Brady Kent', 97, 96), ('Wyatt Knott', 91, 94), ('Beau Turnbull', 94, 98)]\n",
    "y=int(input('Enter a number you want to sort the list of list:'))\n",
    "z=sorted(x,key=itemgetter(y))\n",
    "print(z)"
   ]
  },
  {
   "cell_type": "code",
   "execution_count": 21,
   "id": "9c2e532c-934f-4e68-9bfe-1a01dd26234f",
   "metadata": {
    "tags": []
   },
   "outputs": [
    {
     "name": "stdout",
     "output_type": "stream",
     "text": [
      "[1, 3, 5, 7, 9, 10]\n"
     ]
    }
   ],
   "source": [
    "x=[1, 2, 3, 4, 5, 6, 7, 8, 9, 10]\n",
    "y= [2, 4, 6, 8]\n",
    "for i in x:\n",
    "    if i in y:\n",
    "        x.remove(i)\n",
    "print(x)"
   ]
  },
  {
   "cell_type": "code",
   "execution_count": 22,
   "id": "0b33e57d-cd23-48b7-9c1b-3196ce0f203d",
   "metadata": {
    "tags": []
   },
   "outputs": [
    {
     "name": "stdout",
     "output_type": "stream",
     "text": [
      "[1, 3, 5, 7, 9, 10]\n"
     ]
    }
   ],
   "source": [
    "x=[1, 2, 3, 4, 5, 6, 7, 8, 9, 10]\n",
    "y= [2, 4, 6, 8]\n",
    "z=[i for i in x if i not in y]\n",
    "print(z)"
   ]
  },
  {
   "cell_type": "code",
   "execution_count": 23,
   "id": "ca460cfa-cd5d-40fd-8f1f-92d34eb68c28",
   "metadata": {
    "tags": []
   },
   "outputs": [
    {
     "name": "stdout",
     "output_type": "stream",
     "text": [
      "[1, 1, 1, 1, 1, 1, 1, 1, 1]\n",
      "[2, 2, 2]\n",
      "[1, 1, 1, 1, 1, 1, 1, 1, 1]\n"
     ]
    }
   ],
   "source": [
    "x=[1, 2, 3, 4, 5, 6, 7, 8, 9, 10]\n",
    "y=[]\n",
    "for n in range(0,(len(x)-1)):\n",
    "    y.append(x[n+1]-x[n])\n",
    "print(y)\n",
    "x=[2, 4, 6, 8]\n",
    "y=[]\n",
    "for n in range(0,(len(x)-1)):\n",
    "    y.append(x[n+1]-x[n])\n",
    "print(y)\n",
    "x=[1, 2, 3, 4, 5, 6, 7, 8, 9, 10]\n",
    "z=[]\n",
    "for i,j in zip(x[:-1],x[1:]):\n",
    "    z.append(j-i)\n",
    "print(z)"
   ]
  },
  {
   "cell_type": "code",
   "execution_count": 24,
   "id": "181c4dea-1952-4112-b110-d27f660b0998",
   "metadata": {
    "tags": []
   },
   "outputs": [
    {
     "name": "stdin",
     "output_type": "stream",
     "text": [
      "Enter a substrings: ack\n"
     ]
    },
    {
     "name": "stdout",
     "output_type": "stream",
     "text": [
      "True\n"
     ]
    }
   ],
   "source": [
    "x=['red', 'black', 'white', 'green', 'orange']\n",
    "y=input('Enter a substrings:')\n",
    "if any(y in i for i in x):\n",
    "    print(True)\n",
    "else:\n",
    "    print(False)"
   ]
  },
  {
   "cell_type": "code",
   "execution_count": 25,
   "id": "a9fa8ae1-ae68-43c5-97dd-57181aeb50be",
   "metadata": {
    "tags": []
   },
   "outputs": [
    {
     "name": "stdout",
     "output_type": "stream",
     "text": [
      "['red', 'white', 'orange']\n",
      "[2, 3, 0, 8, 4]\n"
     ]
    }
   ],
   "source": [
    "def alternate_list(x):\n",
    "    return x[::2]\n",
    "x=['red', 'black', 'white', 'green', 'orange']\n",
    "print(alternate_list(x))\n",
    "x=[2, 0, 3, 4, 0, 2, 8, 3, 4, 2]\n",
    "print(alternate_list(x))"
   ]
  },
  {
   "cell_type": "code",
   "execution_count": 26,
   "id": "3528eee5-c57f-4592-8a1a-a3b9ad9659c3",
   "metadata": {
    "tags": []
   },
   "outputs": [
    {
     "name": "stdout",
     "output_type": "stream",
     "text": [
      "[[12], [7, 11], [1, 5, 8]]\n"
     ]
    }
   ],
   "source": [
    "x=[1, 2, 3, 4, 5, 6, 7, 8, 9, 10, 11, 12, 13, 14]\n",
    "y=[[12, 18, 23, 25, 45], [7, 11, 19, 24, 28], [1, 5, 8, 18, 15, 16]]\n",
    "def intersection_list(x,y):\n",
    "    z=[[j for j in i if j in x]for i in y]\n",
    "    return z\n",
    "print(intersection_list(x,y))"
   ]
  },
  {
   "cell_type": "code",
   "execution_count": 27,
   "id": "86b154c2-a00c-41fe-b58a-38994f599754",
   "metadata": {
    "tags": []
   },
   "outputs": [
    {
     "name": "stdout",
     "output_type": "stream",
     "text": [
      "[18, 12]\n"
     ]
    }
   ],
   "source": [
    "x=[[12, 18, 23, 25, 45], [7, 12, 18, 24, 28], [1, 5, 8, 12, 15, 16, 18]]\n",
    "def common_in_list(x):\n",
    "    z=list(set.intersection(*map(set,x)))\n",
    "    return z\n",
    "print(common_in_list(x))"
   ]
  },
  {
   "cell_type": "code",
   "execution_count": 28,
   "id": "142dec80-350a-4330-a9aa-aff7fa56844e",
   "metadata": {
    "tags": []
   },
   "outputs": [
    {
     "name": "stdout",
     "output_type": "stream",
     "text": [
      "['deR', 'neerG', 'eulB', 'etihW', 'kcalB']\n",
      ".....................................................................\n",
      "['deR', 'neerG', 'eulB', 'etihW', 'kcalB']\n"
     ]
    }
   ],
   "source": [
    "x=['Red', 'Green', 'Blue', 'White', 'Black']\n",
    "z=[]\n",
    "for i in x:\n",
    "    z.append(i[::-1])\n",
    "print(z)\n",
    "###################################################################\n",
    "print('.....................................................................')\n",
    "x=['Red', 'Green', 'Blue', 'White', 'Black']\n",
    "def reverse_string_list(x):\n",
    "    z=[i[::-1] for i in x]\n",
    "    return z\n",
    "print(reverse_string_list(x))"
   ]
  },
  {
   "cell_type": "code",
   "execution_count": 29,
   "id": "6b1448f4-4e1b-4053-b855-831ee44399e5",
   "metadata": {
    "tags": []
   },
   "outputs": [
    {
     "name": "stdout",
     "output_type": "stream",
     "text": [
      "[36, 8]\n",
      "..................................................................\n",
      "[36, 8]\n"
     ]
    }
   ],
   "source": [
    "x=[(2, 7), (2, 6), (1, 8), (4, 9)]\n",
    "z=[]\n",
    "for i in range(0,len(x)):\n",
    "    for j in range(0,1):\n",
    "        z.append(x[i][j]*x[i][j+1])\n",
    "print([max(z),min(z)])\n",
    "###########################################################################\n",
    "print('..................................................................')\n",
    "x=[(2, 7), (2, 6), (1, 8), (4, 9)]\n",
    "z=[]\n",
    "for i,j in x:\n",
    "    z.append(i*j)\n",
    "print([max(z),min(z)])"
   ]
  },
  {
   "cell_type": "code",
   "execution_count": 30,
   "id": "dac0b7c5-3431-4b1f-b452-fcc3cf6e1e22",
   "metadata": {
    "tags": []
   },
   "outputs": [
    {
     "name": "stdout",
     "output_type": "stream",
     "text": [
      "720000000\n"
     ]
    }
   ],
   "source": [
    "x=[10, 20, 30, 40, 20, 50, 60, 40]\n",
    "z=1\n",
    "for i in set(x):\n",
    "    z*=i\n",
    "print(z)"
   ]
  },
  {
   "cell_type": "code",
   "execution_count": 31,
   "id": "f8988c69-e9de-42fa-aeca-645cf570f0cf",
   "metadata": {
    "tags": []
   },
   "outputs": [
    {
     "name": "stdout",
     "output_type": "stream",
     "text": [
      "[1, 10, 100, 2, 20, 200, 3, 30, 300, 4, 40, 400, 5, 50, 500, 6, 60, 600, 7, 70, 700]\n"
     ]
    }
   ],
   "source": [
    "x=[1, 2, 3, 4, 5, 6, 7]\n",
    "y=[10, 20, 30, 40, 50, 60, 70]\n",
    "z= [100, 200, 300, 400, 500, 600, 700]\n",
    "p=[j for i in zip(x,y,z) for j in i]\n",
    "print(p)"
   ]
  },
  {
   "cell_type": "code",
   "execution_count": 32,
   "id": "d8b2701b-bb14-4e09-9b23-52ef80776960",
   "metadata": {
    "tags": []
   },
   "outputs": [
    {
     "name": "stdout",
     "output_type": "stream",
     "text": [
      "['Red', '', 'Green', 'Orange', 'White']\n"
     ]
    }
   ],
   "source": [
    "x=['Red color', 'Orange#', 'Green', 'Orange @', 'White']\n",
    "y=['#', 'color', '@']\n",
    "z=[]\n",
    "for i in x:\n",
    "    p=''.join([j for j in i.split() if not any([k in j for k in y])])\n",
    "    z.append(p)\n",
    "print(z)"
   ]
  },
  {
   "cell_type": "code",
   "execution_count": 33,
   "id": "d44c4951-99f4-40d0-b393-e04f7f1ef603",
   "metadata": {
    "tags": []
   },
   "outputs": [
    {
     "name": "stdin",
     "output_type": "stream",
     "text": [
      "Enter range you want to calculate the Sum:- 8\n",
      "Enter +1 range you want to calculate the Sum:- 11\n"
     ]
    },
    {
     "name": "stdout",
     "output_type": "stream",
     "text": [
      "29\n"
     ]
    }
   ],
   "source": [
    "x=[2, 1, 5, 6, 8, 3, 4, 9, 10, 11, 8, 12]\n",
    "y=int(input('Enter range you want to calculate the Sum:-'))\n",
    "z=int(input('Enter +1 range you want to calculate the Sum:-'))\n",
    "p=0\n",
    "for i in x[y:z]:\n",
    "    p+=i\n",
    "print(p)"
   ]
  },
  {
   "cell_type": "code",
   "execution_count": 34,
   "id": "214c4452-0678-472d-bcde-bae28e80817d",
   "metadata": {
    "tags": []
   },
   "outputs": [
    {
     "name": "stdout",
     "output_type": "stream",
     "text": [
      "[[4, 3, 2, 1], [8, 7, 6, 5], [12, 11, 10, 9], [16, 15, 14, 13]]\n",
      "............................................................\n",
      "[[4, 3, 2, 1], [8, 7, 6, 5], [12, 11, 10, 9], [16, 15, 14, 13]]\n"
     ]
    }
   ],
   "source": [
    "x=[[1, 2, 3, 4], [5, 6, 7, 8], [9, 10, 11, 12], [13, 14, 15, 16]]\n",
    "z=[i[::-1] for i in x]\n",
    "print(z)\n",
    "#############################################################\n",
    "print('............................................................')\n",
    "x=[[1, 2, 3, 4], [5, 6, 7, 8], [9, 10, 11, 12], [13, 14, 15, 16]]\n",
    "for i in x:\n",
    "    i.sort(reverse=True)\n",
    "print(x)"
   ]
  },
  {
   "cell_type": "code",
   "execution_count": 35,
   "id": "bdc67cd0-3dd6-4a62-ae22-c9bf252c9aae",
   "metadata": {
    "tags": []
   },
   "outputs": [
    {
     "name": "stdout",
     "output_type": "stream",
     "text": [
      "4\n"
     ]
    }
   ],
   "source": [
    "x=[1, 2, 3, 4, 5, 6, 7, 8]\n",
    "y=[2, 2, 3, 1, 2, 6, 7, 9]\n",
    "z=[2, 2, 3, 1, 2, 6, 7, 9]\n",
    "c=0\n",
    "for i in zip(x,y,z):\n",
    "    if i[0]==i[1]==i[2]:\n",
    "        c+=1\n",
    "print(c)"
   ]
  },
  {
   "cell_type": "code",
   "execution_count": 36,
   "id": "5be4b6db-4c4e-46df-b895-28bc7319691a",
   "metadata": {
    "tags": []
   },
   "outputs": [
    {
     "name": "stdout",
     "output_type": "stream",
     "text": [
      "([1, 2, 4, 5], [1, 3, 3, 4])\n"
     ]
    }
   ],
   "source": [
    "x=[1, 2, 2, 2, 4, 4, 4, 5, 5, 5, 5]\n",
    "def cont_dups(x):\n",
    "    e=[]\n",
    "    f=[]\n",
    "    if not x:\n",
    "        return e\n",
    "    r=1\n",
    "    for i in range(len(x)-1):\n",
    "        if x[i]==x[i+1]:\n",
    "            r+=1\n",
    "        else:\n",
    "            f.append(r)\n",
    "            e.append(x[i])\n",
    "            r=1\n",
    "    f.append(r)\n",
    "    e.append(x[i+1])\n",
    "    return e,f\n",
    "print(cont_dups(x))"
   ]
  },
  {
   "cell_type": "code",
   "execution_count": 37,
   "id": "9816acf3-d151-4dcc-8f11-0e350a28d454",
   "metadata": {
    "tags": []
   },
   "outputs": [
    {
     "name": "stdout",
     "output_type": "stream",
     "text": [
      "[7] [3, 11]\n",
      "................................................................\n",
      "0 12\n",
      "1 33\n",
      "2 23\n",
      "3 10\n",
      "4 67\n",
      "5 89\n",
      "6 45\n",
      "7 667\n",
      "8 23\n",
      "9 12\n",
      "10 11\n",
      "11 10\n",
      "12 54\n"
     ]
    }
   ],
   "source": [
    "x=[12, 33, 23, 10, 67, 89, 45, 667, 23, 12, 11, 10, 54]\n",
    "z=max(x)\n",
    "y=min(x)\n",
    "p=[i for i,j in enumerate(x) if j==z]\n",
    "q=[i for i,j in enumerate(x) if j==y]\n",
    "print(p,q)\n",
    "######################################################################\n",
    "print('................................................................')\n",
    "x=[12, 33, 23, 10, 67, 89, 45, 667, 23, 12, 11, 10, 54]\n",
    "for i,j in enumerate(x):\n",
    "    print(i,j)"
   ]
  },
  {
   "cell_type": "code",
   "execution_count": 39,
   "id": "fde54eea-1ce9-4b5d-89d4-b3e9db81d37f",
   "metadata": {
    "tags": []
   },
   "outputs": [
    {
     "name": "stdout",
     "output_type": "stream",
     "text": [
      "True\n",
      "False\n",
      "False\n"
     ]
    }
   ],
   "source": [
    "x=['red', 'green', 'black', 'orange']\n",
    "y=['red', 'pink', 'green', 'white', 'black']\n",
    "z=['white', 'orange', 'pink', 'black']\n",
    "def same_order(m,n):\n",
    "    c=set(x) &set(y)\n",
    "    m=[i for i in m if i in c]\n",
    "    n=[i for i in n if i in c]\n",
    "    return m==n\n",
    "print(same_order(x,y))\n",
    "print(same_order(x,z))\n",
    "print(same_order(y,z))"
   ]
  },
  {
   "cell_type": "code",
   "execution_count": 40,
   "id": "9963038a-3504-48df-a5d7-3f996ba4689b",
   "metadata": {},
   "outputs": [
    {
     "name": "stdout",
     "output_type": "stream",
     "text": [
      "[3, 3, 4, 7]\n"
     ]
    }
   ],
   "source": [
    "l1 = [1, 1, 2, 3, 3, 4, 4, 5, 6, 7]\n",
    "l2 = [1, 1, 2, 4, 5, 6]\n",
    "def list_difference(l1,l2):\n",
    "    r=list(l1)\n",
    "    for i in l2:\n",
    "        r.remove(i)\n",
    "    return r\n",
    "print(list_difference(l1,l2))"
   ]
  },
  {
   "cell_type": "code",
   "execution_count": 45,
   "id": "5f45bcff-f6c6-418a-8130-23b85ef799c7",
   "metadata": {
    "tags": []
   },
   "outputs": [
    {
     "name": "stdout",
     "output_type": "stream",
     "text": [
      "[(1, 1), (1, 2), (2, 3), (3, 3), (3, 4), (4, 4), (4, 5)]\n"
     ]
    }
   ],
   "source": [
    "x=[1, 1, 2, 3, 3, 4, 4, 5]\n",
    "p=[]\n",
    "for i in range(len(x)-1):\n",
    "    j,k=x[i],x[i+1]\n",
    "    y=(j,k)\n",
    "    p.append(y)\n",
    "print(p)"
   ]
  },
  {
   "cell_type": "code",
   "execution_count": 47,
   "id": "1683602f-26be-4d74-bca6-1ea1d0ede7ab",
   "metadata": {
    "tags": []
   },
   "outputs": [
    {
     "name": "stdout",
     "output_type": "stream",
     "text": [
      "['Python', 'Exercise', 'Practice', 'Solution']\n"
     ]
    }
   ],
   "source": [
    "x=['Python', 'Exercise', 'Practice', 'Solution', 'Exercise']\n",
    "p=[]\n",
    "for i in x:\n",
    "    if i not in p:\n",
    "        p.append(i)\n",
    "print(p)"
   ]
  },
  {
   "cell_type": "code",
   "execution_count": 54,
   "id": "30826438-523c-4ee7-b228-41be307cc322",
   "metadata": {
    "tags": []
   },
   "outputs": [
    {
     "name": "stdout",
     "output_type": "stream",
     "text": [
      "First Even Number is:-\n",
      "4\n",
      "First Odd Number is:-\n",
      "1\n",
      "(4, 1)\n"
     ]
    }
   ],
   "source": [
    "x=[1, 3, 5, 7, 4, 1, 6, 8]\n",
    "p=[i for i in x if i%2==0]\n",
    "q=[i for i in x if i%2!=0]\n",
    "print('First Even Number is:-\\n',p[0],'\\n','First Odd Number is:-\\n',q[0],sep='')\n",
    "print((p[0],q[0]))"
   ]
  },
  {
   "cell_type": "code",
   "execution_count": 66,
   "id": "0b5fb524-bf6d-4e07-8e12-fb86119f437b",
   "metadata": {
    "tags": []
   },
   "outputs": [
    {
     "name": "stdout",
     "output_type": "stream",
     "text": [
      "[[1, 10, 12, 19, 'blue', 'green', 'green', 'red', 'white']]\n"
     ]
    }
   ],
   "source": [
    "x=[19, 'red', 12, 'green', 'blue', 10, 'white', 'green', 1]\n",
    "p=sorted([i for i in x if type(i) is int])\n",
    "q=sorted([i for i in x if type(i) is str])\n",
    "print([p+q])"
   ]
  },
  {
   "cell_type": "code",
   "execution_count": 70,
   "id": "4ea695ec-723d-40f6-b3bf-67bc7131e992",
   "metadata": {
    "tags": []
   },
   "outputs": [
    {
     "data": {
      "text/plain": [
       "[-500, -12, 0, 4, 7, 12, 45, 100, 200]"
      ]
     },
     "execution_count": 70,
     "metadata": {},
     "output_type": "execute_result"
    }
   ],
   "source": [
    "x=['4', '12', '45', '7', '0', '100', '200', '-12', '-500']\n",
    "p=[int(i) for i in x]\n",
    "p.sort()\n",
    "p"
   ]
  },
  {
   "cell_type": "code",
   "execution_count": 80,
   "id": "6dc1c423-1c64-4389-ba12-ec599df4723a",
   "metadata": {
    "tags": []
   },
   "outputs": [
    {
     "name": "stdin",
     "output_type": "stream",
     "text": [
      "Enter list number you want to remove 0\n"
     ]
    },
    {
     "name": "stdout",
     "output_type": "stream",
     "text": [
      "[['Maroon', 'Yellow', 'Olive'], ['#800000', '#FFFF00', '#808000'], ['rgb(128,0,0)', 'rgb(255,255,0)', 'rgb(128,128,0)']]\n"
     ]
    },
    {
     "name": "stdin",
     "output_type": "stream",
     "text": [
      "Enter list number you want to remove 1\n"
     ]
    },
    {
     "name": "stdout",
     "output_type": "stream",
     "text": [
      "[['Red', 'Yellow', 'Olive'], ['#FF0000', '#FFFF00', '#808000'], ['rgb(255,0,0)', 'rgb(255,255,0)', 'rgb(128,128,0)']]\n"
     ]
    },
    {
     "name": "stdin",
     "output_type": "stream",
     "text": [
      "Enter list number you want to remove 3\n"
     ]
    },
    {
     "name": "stdout",
     "output_type": "stream",
     "text": [
      "[['Red', 'Maroon', 'Yellow'], ['#FF0000', '#800000', '#FFFF00'], ['rgb(255,0,0)', 'rgb(128,0,0)', 'rgb(255,255,0)']]\n",
      "................................................................................................................................................\n",
      "Original list of lists:\n",
      "[['Red', 'Maroon', 'Yellow', 'Olive'], ['#FF0000', '#800000', '#FFFF00', '#808000'], ['rgb(255,0,0)', 'rgb(128,0,0)', 'rgb(255,255,0)', 'rgb(128,128,0)']]\n",
      "\n",
      "Remove 1st item from the said list of lists:\n",
      "[['Maroon', 'Yellow', 'Olive'], ['#800000', '#FFFF00', '#808000'], ['rgb(128,0,0)', 'rgb(255,255,0)', 'rgb(128,128,0)']]\n",
      "\n",
      "Remove 2nd item from the said list of lists:\n",
      "[['Red', 'Yellow', 'Olive'], ['#FF0000', '#FFFF00', '#808000'], ['rgb(255,0,0)', 'rgb(255,255,0)', 'rgb(128,128,0)']]\n",
      "\n",
      "Remove 4th item from the said list of lists:\n",
      "[['Red', 'Maroon', 'Yellow'], ['#FF0000', '#800000', '#FFFF00'], ['rgb(255,0,0)', 'rgb(128,0,0)', 'rgb(255,255,0)']]\n"
     ]
    }
   ],
   "source": [
    "x=[['Red', 'Maroon', 'Yellow', 'Olive'], ['#FF0000', '#800000', '#FFFF00', '#808000'], ['rgb(255,0,0)', 'rgb(128,0,0)', 'rgb(255,255,0)', 'rgb(128,128,0)']]\n",
    "y=int(input('Enter list number you want to remove'))\n",
    "for i in x:\n",
    "    i.pop(y)\n",
    "print(x)\n",
    "x=[['Red', 'Maroon', 'Yellow', 'Olive'], ['#FF0000', '#800000', '#FFFF00', '#808000'], ['rgb(255,0,0)', 'rgb(128,0,0)', 'rgb(255,255,0)', 'rgb(128,128,0)']]\n",
    "y=int(input('Enter list number you want to remove'))\n",
    "for i in x:\n",
    "    i.pop(y)\n",
    "print(x)\n",
    "x=[['Red', 'Maroon', 'Yellow', 'Olive'], ['#FF0000', '#800000', '#FFFF00', '#808000'], ['rgb(255,0,0)', 'rgb(128,0,0)', 'rgb(255,255,0)', 'rgb(128,128,0)']]\n",
    "y=int(input('Enter list number you want to remove'))\n",
    "for i in x:\n",
    "    i.pop(y)\n",
    "print(x)\n",
    "#################################################################################################################################################################\n",
    "print('................................................................................................................................................')\n",
    "import copy\t\n",
    "def remove_list_of_lists(color, N):\n",
    "    for x in color:\n",
    "        del x[N]\n",
    "    return color\n",
    "nums = [\n",
    "        [\"Red\", \"Maroon\", \"Yellow\", \"Olive\"],\n",
    "        [\"#FF0000\", \"#800000\", \"#FFFF00\", \"#808000\"],\n",
    "        [\"rgb(255,0,0)\", \"rgb(128,0,0)\", \"rgb(255,255,0)\", \"rgb(128,128,0)\"]\n",
    "       ]\n",
    "nums1 = copy.deepcopy(nums)\n",
    "nums2 = copy.deepcopy(nums)\n",
    "nums3 = copy.deepcopy(nums)\n",
    "print(\"Original list of lists:\")\n",
    "print(nums)\n",
    "N = 0\n",
    "print(\"\\nRemove 1st item from the said list of lists:\")\n",
    "print(remove_list_of_lists(nums1, N))\n",
    "N = 1\n",
    "print(\"\\nRemove 2nd item from the said list of lists:\")\n",
    "print(remove_list_of_lists(nums2, N))\n",
    "N = 3\n",
    "print(\"\\nRemove 4th item from the said list of lists:\")\n",
    "print(remove_list_of_lists(nums3, N))"
   ]
  },
  {
   "cell_type": "code",
   "execution_count": 89,
   "id": "26db0732-2b78-47c7-8778-0bc2f4488db9",
   "metadata": {
    "tags": []
   },
   "outputs": [
    {
     "name": "stdout",
     "output_type": "stream",
     "text": [
      "['Red', 'Green', [1, 2], 'Blue']\n",
      ".............................................................\n",
      "['Red', 'Green', [1, 2], 'Blue']\n"
     ]
    }
   ],
   "source": [
    "x=[[], [], [], 'Red', 'Green', [1, 2], 'Blue', [], []]\n",
    "p=[]\n",
    "for i in x:\n",
    "    if i:\n",
    "        p.append(i)\n",
    "print(p)\n",
    "###############################################################\n",
    "print('.............................................................')\n",
    "x=[[], [], [], 'Red', 'Green', [1, 2], 'Blue', [], []]\n",
    "p=[i for i in x if i]\n",
    "print(p)"
   ]
  },
  {
   "cell_type": "code",
   "execution_count": 10,
   "id": "1d33bc3f-2e51-4fd5-b858-562c02225728",
   "metadata": {
    "tags": []
   },
   "outputs": [
    {
     "name": "stdin",
     "output_type": "stream",
     "text": [
      "Enter column number you want to be sum:- 0\n"
     ]
    },
    {
     "name": "stdout",
     "output_type": "stream",
     "text": [
      "Sum: 1st column of the said list of lists:\n",
      "12\n",
      "...............................................................\n"
     ]
    },
    {
     "name": "stdin",
     "output_type": "stream",
     "text": [
      "Enter column number you want to be sum:- 1\n"
     ]
    },
    {
     "name": "stdout",
     "output_type": "stream",
     "text": [
      "Sum: 2nd column of the said list of lists:\n",
      "15\n",
      "...............................................................\n"
     ]
    },
    {
     "name": "stdin",
     "output_type": "stream",
     "text": [
      "Enter column number you want to be sum:- 3\n"
     ]
    },
    {
     "name": "stdout",
     "output_type": "stream",
     "text": [
      "Sum: 4th column of the said list of lists:\n",
      "9\n"
     ]
    }
   ],
   "source": [
    "x=[[1, 2, 3, 2], [4, 5, 6, 2], [7, 8, 9, 5]]\n",
    "y=int(input('Enter column number you want to be sum:-'))\n",
    "p=[i[y] for i in x]\n",
    "print('Sum: 1st column of the said list of lists:\\n',sum(p),sep='')\n",
    "#####################################################################\n",
    "print('...............................................................')\n",
    "y=int(input('Enter column number you want to be sum:-'))\n",
    "p=[i[y] for i in x]\n",
    "print('Sum: 2nd column of the said list of lists:\\n',sum(p),sep='')\n",
    "#####################################################################\n",
    "print('...............................................................')\n",
    "y=int(input('Enter column number you want to be sum:-'))\n",
    "p=[i[y] for i in x]\n",
    "print('Sum: 4th column of the said list of lists:\\n',sum(p),sep='')"
   ]
  },
  {
   "cell_type": "code",
   "execution_count": 11,
   "id": "57a9556b-cd61-4ce6-8426-79da1aa98b55",
   "metadata": {
    "tags": []
   },
   "outputs": [
    {
     "name": "stdout",
     "output_type": "stream",
     "text": [
      "{1: 1, 2: 3, 3: 1, 4: 1, 5: 2, 6: 1, 7: 1, 8: 1, 9: 1}\n"
     ]
    }
   ],
   "source": [
    "def count_fre(n):\n",
    "    n=[i for s in n for i in s]\n",
    "    d={}\n",
    "    for j in n:\n",
    "        if j in d.keys():\n",
    "            d[j]+=1\n",
    "        else:\n",
    "            k=j\n",
    "            v=1\n",
    "            d[k]=v\n",
    "    return d\n",
    "n=[[1, 2, 3, 2],[4, 5, 6, 2],[7, 8, 9, 5]]   \n",
    "print(count_fre(n))"
   ]
  },
  {
   "cell_type": "code",
   "execution_count": 16,
   "id": "59de78d5-7176-432f-92cf-137493e0637c",
   "metadata": {
    "tags": []
   },
   "outputs": [
    {
     "name": "stdin",
     "output_type": "stream",
     "text": [
      "Enter index number you want to be extract:- 0\n"
     ]
    },
    {
     "name": "stdout",
     "output_type": "stream",
     "text": [
      "Extract every first element from the said given two dimensional list:\n",
      "[1, 4, 7]\n",
      "..............................................................................\n"
     ]
    },
    {
     "name": "stdin",
     "output_type": "stream",
     "text": [
      "Enter index number you want to be extract:- 2\n"
     ]
    },
    {
     "name": "stdout",
     "output_type": "stream",
     "text": [
      "Extract every Third element from the said given two dimensional list:\n",
      "[3, 6, 9]\n"
     ]
    }
   ],
   "source": [
    "x=[[1, 2, 3, 2], [4, 5, 6, 2], [7, 1, 9, 5]]\n",
    "y=int(input('Enter index number you want to be extract:-'))\n",
    "p=[i[y] for i in x]\n",
    "print('Extract every first element from the said given two dimensional list:\\n',p,sep='')\n",
    "#########################################################################################\n",
    "print('..............................................................................')\n",
    "y=int(input('Enter index number you want to be extract:-'))\n",
    "p=[i[y] for i in x]\n",
    "print('Extract every Third element from the said given two dimensional list:\\n',p,sep='')"
   ]
  },
  {
   "cell_type": "code",
   "execution_count": 20,
   "id": "27227142-daab-4393-80ed-2475fcd34f7a",
   "metadata": {
    "tags": []
   },
   "outputs": [
    {
     "name": "stdout",
     "output_type": "stream",
     "text": [
      "8\n",
      "-4\n"
     ]
    }
   ],
   "source": [
    "from random import choice\n",
    "def generate_random(s,e,n):\n",
    "    r=choice([i for i in range(s,e) if i not in n])\n",
    "    return r\n",
    "s=1\n",
    "e=10\n",
    "n=[2,9,10]\n",
    "print(generate_random(s,e,n))\n",
    "####################################################\n",
    "s=-5\n",
    "e=5\n",
    "n=[-5,0,4,3,2]\n",
    "print(generate_random(s,e,n))"
   ]
  },
  {
   "cell_type": "code",
   "execution_count": 7,
   "id": "d66f2a8d-8069-476f-903d-8d7a365510c5",
   "metadata": {
    "tags": []
   },
   "outputs": [
    {
     "name": "stdout",
     "output_type": "stream",
     "text": [
      "14\n",
      "..............................................................\n",
      "19\n",
      "..............................................................\n",
      "4\n"
     ]
    }
   ],
   "source": [
    "x=[10, 2, 56]\n",
    "print(sum(int(i) for n in x for i in str(n) if i.isdigit()))\n",
    "###################################################################\n",
    "print('..............................................................')\n",
    "x=[10, 20, 4, 5, 'b', 70, 'a']\n",
    "print(sum(int(i) for n in x for i in str(n) if i.isdigit()))\n",
    "###################################################################\n",
    "print('..............................................................')\n",
    "x=[10, 20, 1]\n",
    "print(sum(int(i) for n in x for i in str(n) if i.isdigit()))"
   ]
  },
  {
   "cell_type": "code",
   "execution_count": 23,
   "id": "9d9c7086-6437-44f3-ad56-9e22a2e0934d",
   "metadata": {
    "tags": []
   },
   "outputs": [
    {
     "name": "stdout",
     "output_type": "stream",
     "text": [
      "[3, 8, 1, 2, 7, 7, 4, 3, 3, 9, 8, 8, 4, 9]\n",
      "..............................................................................\n",
      "[4, 3, 3, 3, 9, 8, 8, 1, 2, 7, 8, 7, 4, 9]\n"
     ]
    }
   ],
   "source": [
    "from random import shuffle\n",
    "x=[1, 2, 7, 8, 3, 7]\n",
    "y=[4, 3, 8, 9, 4, 3, 8, 9]\n",
    "shuffle(x)\n",
    "shuffle(y)\n",
    "print(x+y)\n",
    "########################################################################################\n",
    "print('..............................................................................')\n",
    "import random\n",
    "result = [i.pop(0) for i in random.sample([x] * len(x) + [y] * len(y), len(x) + len(y))]\n",
    "print(result)"
   ]
  },
  {
   "cell_type": "code",
   "execution_count": 31,
   "id": "171b6b73-1936-4856-a13b-fe9aced5751a",
   "metadata": {
    "tags": []
   },
   "outputs": [
    {
     "name": "stdin",
     "output_type": "stream",
     "text": [
      "Enter words you want to remove from list: orange\n",
      "Enter words you want to remove from list: white\n"
     ]
    },
    {
     "name": "stdout",
     "output_type": "stream",
     "text": [
      "After removing the specified words from the said list:-\n",
      "['red', 'green', 'blue', 'black']\n",
      "..............................................................................\n"
     ]
    },
    {
     "name": "stdin",
     "output_type": "stream",
     "text": [
      "Enter words you want to remove from list: blue\n",
      "Enter words you want to remove from list: red\n"
     ]
    },
    {
     "name": "stdout",
     "output_type": "stream",
     "text": [
      "After removing the specified words from the said list:-\n",
      "['green', 'white', 'black', 'orange']\n"
     ]
    }
   ],
   "source": [
    "x=['red', 'green', 'blue', 'white', 'black', 'orange']\n",
    "p=[]\n",
    "for y in range(2):\n",
    "    y=input('Enter words you want to remove from list:')\n",
    "    p.append(y)\n",
    "for i in p:\n",
    "    x.remove(i)\n",
    "print('After removing the specified words from the said list:-\\n',x,sep='')\n",
    "########################################################################################\n",
    "print('..............................................................................')\n",
    "x=['red', 'green', 'blue', 'white', 'black', 'orange']\n",
    "p=[]\n",
    "for y in range(2):\n",
    "    y=input('Enter words you want to remove from list:')\n",
    "    p.append(y)\n",
    "for i in p:\n",
    "    x.remove(i)\n",
    "print('After removing the specified words from the said list:-\\n',x,sep='')"
   ]
  },
  {
   "cell_type": "code",
   "execution_count": 2,
   "id": "b5aa5d9e-a1f0-4b2f-a27c-5005701fa783",
   "metadata": {
    "tags": []
   },
   "outputs": [
    {
     "name": "stdout",
     "output_type": "stream",
     "text": [
      "[[], ['orange'], ['red'], ['red', 'orange'], ['green'], ['green', 'orange'], ['green', 'red'], ['green', 'red', 'orange'], ['blue'], ['blue', 'orange'], ['blue', 'red'], ['blue', 'red', 'orange'], ['blue', 'green'], ['blue', 'green', 'orange'], ['blue', 'green', 'red'], ['blue', 'green', 'red', 'orange']]\n"
     ]
    }
   ],
   "source": [
    "c=['orange', 'red', 'green', 'blue']\n",
    "def combination_list(c):\n",
    "    if len(c)==0:\n",
    "        return [[]]\n",
    "    r=[]\n",
    "    for i in combination_list(c[1:]):\n",
    "        r+=[i, i + [c[0]]]\n",
    "    return r\n",
    "print(combination_list(c))"
   ]
  },
  {
   "cell_type": "code",
   "execution_count": 5,
   "id": "b6bb16d7-50c0-4622-8148-28457c25f991",
   "metadata": {
    "tags": []
   },
   "outputs": [
    {
     "name": "stdout",
     "output_type": "stream",
     "text": [
      "[['white', 'black', 'pink'], ['green', 'blue'], ['orange', 'red']]\n",
      "..............................................................................\n",
      "[[2, 3, 4, 2, 4], [0, 2, 4, 5], [1, 2, 3, 4]]\n"
     ]
    }
   ],
   "source": [
    "x=[['orange', 'red'], ['green', 'blue'], ['white', 'black', 'pink']]\n",
    "print(x[::-1])\n",
    "########################################################################################\n",
    "print('..............................................................................')\n",
    "x=[[1, 2, 3, 4], [0, 2, 4, 5], [2, 3, 4, 2, 4]]\n",
    "print(x[::-1])"
   ]
  },
  {
   "cell_type": "code",
   "execution_count": 1,
   "id": "f430a4c9-a765-432e-9514-3e6b3f196534",
   "metadata": {
    "tags": []
   },
   "outputs": [
    {
     "name": "stdout",
     "output_type": "stream",
     "text": [
      "(5, 0)\n"
     ]
    }
   ],
   "source": [
    "x=[4, 3, 0, 5, 3, 0, 2, 3, 4, 2, 4, 3, 5]\n",
    "print((max(x[3:8]),min(x[3:8])))"
   ]
  },
  {
   "cell_type": "code",
   "execution_count": 12,
   "id": "bdfa489e-4fa3-4238-b299-47d79c0a859d",
   "metadata": {
    "tags": []
   },
   "outputs": [
    {
     "name": "stdout",
     "output_type": "stream",
     "text": [
      "[0, 1, 2, 3, 4, 5, 6, 7, 8, 9, 10, 11]\n",
      ".........................................................................\n",
      "[0, 1, 2, 3, 4, 5, 6, 7, 8, 9, 10, 11]\n"
     ]
    }
   ],
   "source": [
    "x=[1, 3, 5, 7, 9, 11]\n",
    "y=[0, 2, 4, 6, 8, 10]\n",
    "p=[j for i in zip(y,x) for j in i]\n",
    "print(p)\n",
    "##############################################################################\n",
    "print('.........................................................................')\n",
    "from heapq import merge\n",
    "print(list(merge(x,y)))"
   ]
  },
  {
   "cell_type": "code",
   "execution_count": 17,
   "id": "0ceaa475-dd06-45fa-9cd1-875f097f47c6",
   "metadata": {
    "tags": []
   },
   "outputs": [
    {
     "name": "stdin",
     "output_type": "stream",
     "text": [
      "Enter a value you want to count element: 3\n",
      "Enter a value you want to count how many time occur element: 4\n"
     ]
    },
    {
     "name": "stdout",
     "output_type": "stream",
     "text": [
      "True\n",
      ".........................................................................\n"
     ]
    },
    {
     "name": "stdin",
     "output_type": "stream",
     "text": [
      "Enter a value you want to count element: 0\n",
      "Enter a value you want to count how many time occur element: 5\n"
     ]
    },
    {
     "name": "stdout",
     "output_type": "stream",
     "text": [
      "True\n",
      ".........................................................................\n"
     ]
    },
    {
     "name": "stdin",
     "output_type": "stream",
     "text": [
      "Enter a value you want to count element: 8\n",
      "Enter a value you want to count how many time occur element: 4\n"
     ]
    },
    {
     "name": "stdout",
     "output_type": "stream",
     "text": [
      "False\n"
     ]
    }
   ],
   "source": [
    "x=[0, 1, 3, 5, 0, 3, 4, 5, 0, 8, 0, 3, 6, 0, 3, 1, 1, 0]\n",
    "y=int(input('Enter a value you want to count element:'))\n",
    "z=int(input('Enter a value you want to count how many time occur element:'))\n",
    "p=x.count(y)\n",
    "if p>=z:\n",
    "    print(True)\n",
    "else:\n",
    "    print(False)\n",
    "##############################################################################\n",
    "print('.........................................................................')\n",
    "y=int(input('Enter a value you want to count element:'))\n",
    "z=int(input('Enter a value you want to count how many time occur element:'))\n",
    "p=x.count(y)\n",
    "if p>=z:\n",
    "    print(True)\n",
    "else:\n",
    "    print(False)\n",
    "##############################################################################\n",
    "print('.........................................................................')\n",
    "y=int(input('Enter a value you want to count element:'))\n",
    "z=int(input('Enter a value you want to count how many time occur element:'))\n",
    "p=x.count(y)\n",
    "if p>=z:\n",
    "    print(True)\n",
    "else:\n",
    "    print(False)"
   ]
  },
  {
   "cell_type": "code",
   "execution_count": 27,
   "id": "0d808e4a-fa96-4868-a6e6-f237531e2b19",
   "metadata": {
    "tags": []
   },
   "outputs": [
    {
     "name": "stdout",
     "output_type": "stream",
     "text": [
      "[[10, 20, 61], [30, 40, 12, 14, 15], [50, 60, 12, 13, 19, 20], [30, 20, 80, 12]]\n",
      ".........................................................................\n",
      "[['a', 'b', 'p', 'q'], ['b', 'c', 'd', 'p', 's', 't'], ['e', 'f', 'u', 'v', 'w']]\n"
     ]
    }
   ],
   "source": [
    "x=[[10, 20], [30, 40], [50, 60], [30, 20, 80]]\n",
    "y=[[61], [12, 14, 15], [12, 13, 19, 20], [12]]\n",
    "p=[i[0]+i[1] for i in zip(x,y)]\n",
    "print(p)\n",
    "##############################################################################\n",
    "print('.........................................................................')\n",
    "x=[['a', 'b'], ['b', 'c', 'd'], ['e', 'f']]\n",
    "y=[['p', 'q'], ['p', 's', 't'], ['u', 'v', 'w']]\n",
    "p=[i[0]+i[1] for i in zip(x,y)]\n",
    "print(p)"
   ]
  },
  {
   "cell_type": "code",
   "execution_count": 40,
   "id": "fc21a13a-12e8-49e4-8c76-5395bdbe22f6",
   "metadata": {
    "tags": []
   },
   "outputs": [
    {
     "name": "stdout",
     "output_type": "stream",
     "text": [
      "[5, 7, 6, 7, 5, 8]\n",
      ".........................................................................\n",
      "[3, 6, 0, 4, 5, 6]\n"
     ]
    }
   ],
   "source": [
    "x=[2, 4, 7, 0, 5, 8]\n",
    "y=[3, 3, -1, 7]\n",
    "def elementwise_left_join(x,y):\n",
    "    f=len(x)-(len(y)-1)\n",
    "    for i in range(0,len(y),1):\n",
    "        if f-i>=len(x):\n",
    "            break\n",
    "        else:\n",
    "            x[i]=x[i]+y[i]\n",
    "    return x\n",
    "print(elementwise_left_join(x,y))\n",
    "##############################################################################\n",
    "print('.........................................................................')\n",
    "x=[1, 2, 3, 4, 5, 6]\n",
    "y=[2, 4, -3]\n",
    "print(elementwise_left_join(x,y))"
   ]
  },
  {
   "cell_type": "code",
   "execution_count": 46,
   "id": "ce06fc53-c033-41cb-904d-57708cc851f0",
   "metadata": {
    "tags": []
   },
   "outputs": [
    {
     "name": "stdout",
     "output_type": "stream",
     "text": [
      "[2, 4, 10, 3, 4, 15]\n",
      ".........................................................................\n",
      "[1, 2, 3, 6, 9, 3]\n"
     ]
    }
   ],
   "source": [
    "x=[2, 4, 7, 0, 5, 8]\n",
    "y=[3, 3, -1, 7]\n",
    "def elementwise_right_join(x,y):\n",
    "    f=len(x)-(len(y)-1)\n",
    "    for i in range(len(x),0,-1):\n",
    "        if i-f<0:\n",
    "            break\n",
    "        else:\n",
    "            x[i-1]=x[i-1]+y[i-f]\n",
    "    return x\n",
    "print(elementwise_right_join(x,y))\n",
    "##############################################################################\n",
    "print('.........................................................................')\n",
    "x=[1, 2, 3, 4, 5, 6]\n",
    "y=[2, 4, -3]\n",
    "print(elementwise_right_join(x,y))"
   ]
  },
  {
   "cell_type": "code",
   "execution_count": 51,
   "id": "9fd916ad-e08d-4db7-81d7-f4515fb42326",
   "metadata": {
    "tags": []
   },
   "outputs": [
    {
     "name": "stdout",
     "output_type": "stream",
     "text": [
      "Interleave said lists of different lengths:\n",
      "[2, 2, 0, 3, 4, 5, 1, 3, 7, 8, -1, 0, 7, 5, 8]\n"
     ]
    }
   ],
   "source": [
    "x=[2, 4, 7, 0, 5, 8]\n",
    "y=[2, 5, 8]\n",
    "z=[0, 1]\n",
    "p=[3, 3, -1, 7]\n",
    "r=[]\n",
    "l1=len(x)\n",
    "l2=len(y)\n",
    "l3=len(z)\n",
    "l4=len(p)\n",
    "for i in range(max(l1,l2,l3,l4)):\n",
    "    if i<l1:\n",
    "        r.append(x[i])\n",
    "    if i<l2:\n",
    "        r.append(y[i])\n",
    "    if i<l3:\n",
    "        r.append(z[i])\n",
    "    if i<l4:\n",
    "        r.append(p[i])\n",
    "print(\"Interleave said lists of different lengths:\\n\",r,sep='')"
   ]
  },
  {
   "cell_type": "code",
   "execution_count": 58,
   "id": "0fc7af08-26b0-4ee2-be4d-758e87bfb161",
   "metadata": {
    "tags": []
   },
   "outputs": [
    {
     "name": "stdout",
     "output_type": "stream",
     "text": [
      "(78, 60)\n"
     ]
    }
   ],
   "source": [
    "x=[('V', 60), ('VI', 70), ('VII', 75), ('VIII', 72), ('IX', 78), ('X', 70)]\n",
    "p=[]\n",
    "for i in x:\n",
    "    p.append(i[1])\n",
    "print((max(p),min(p)))"
   ]
  },
  {
   "cell_type": "code",
   "execution_count": 68,
   "id": "da2803b6-92cc-4bcd-a6a6-f89c78238327",
   "metadata": {
    "tags": []
   },
   "outputs": [
    {
     "name": "stdin",
     "output_type": "stream",
     "text": [
      "Enter a number you multiply the list: 5\n"
     ]
    },
    {
     "name": "stdout",
     "output_type": "stream",
     "text": [
      "['7', '7', '7', '7', '7']\n"
     ]
    },
    {
     "name": "stdin",
     "output_type": "stream",
     "text": [
      "Enter a number you multiply the list: 6\n"
     ]
    },
    {
     "name": "stdout",
     "output_type": "stream",
     "text": [
      "[1, 2, 3, 4, 5, 5, 5, 5, 5, 5]\n"
     ]
    },
    {
     "name": "stdin",
     "output_type": "stream",
     "text": [
      "Enter a number you multiply the list: 4\n"
     ]
    },
    {
     "name": "stdout",
     "output_type": "stream",
     "text": [
      "[[1, 2, 5], [1, 2, 5], [1, 2, 5], [1, 2, 5]]\n"
     ]
    },
    {
     "name": "stdin",
     "output_type": "stream",
     "text": [
      "Enter a number you multiply the list: 3\n"
     ]
    },
    {
     "name": "stdout",
     "output_type": "stream",
     "text": [
      "[[5, 6, 7], [1, 2, 5], [1, 2, 5], [1, 2, 5], [1, 2, 5]]\n"
     ]
    }
   ],
   "source": [
    "x='7'\n",
    "y=int(input('Enter a number you multiply the list:'))\n",
    "print([x]*y)\n",
    "x=[1,2,3,4]\n",
    "y=int(input('Enter a number you multiply the list:'))\n",
    "p=x+([5]*y)\n",
    "print(p)\n",
    "x=[1,2,5]\n",
    "y=int(input('Enter a number you multiply the list:'))\n",
    "print([x]*y)\n",
    "x=[[5,6,7],[1,2,5]]\n",
    "y=int(input('Enter a number you multiply the list:'))\n",
    "p=x+[x[1]]*y\n",
    "print(p)"
   ]
  },
  {
   "cell_type": "code",
   "execution_count": 17,
   "id": "757d10cb-8791-4257-9bd9-6ff5661985f3",
   "metadata": {
    "tags": []
   },
   "outputs": [
    {
     "name": "stdout",
     "output_type": "stream",
     "text": [
      "[3, 7, 5, 7, 3, 3, 5, 9, 3, 4, 9, 8, 5]\n",
      ".........................................................................\n",
      "[3, 7, 5, 7, 3, 3, 5, 9, 3, 4, 2, 6, 8, 10]\n"
     ]
    }
   ],
   "source": [
    "y=[3,10,4,7,5,7,8,3,3,4,5,9,3,4,9,8,5]\n",
    "p=[i for i in y if i%2==0]\n",
    "for j in p[:4]:\n",
    "    y.remove(j)\n",
    "print(y)\n",
    "##############################################################################\n",
    "print('.........................................................................')\n",
    "y=[3, 10, 4, 7, 5, 7, 8, 3, 3, 4, 5, 9, 3, 4, 2,6,8,10]\n",
    "p=[i for i in y if i%2==0]\n",
    "for j in p[:4]:\n",
    "    y.remove(j)\n",
    "print(y)"
   ]
  },
  {
   "cell_type": "code",
   "execution_count": 5,
   "id": "2a8c2c6a-35f6-4d11-940b-a3d2ac9522b1",
   "metadata": {},
   "outputs": [
    {
     "name": "stdout",
     "output_type": "stream",
     "text": [
      "True\n",
      "True\n",
      "True\n",
      "True\n",
      "True\n",
      "True\n",
      "True\n",
      "True\n",
      "True\n",
      "True\n",
      "True\n",
      "False\n",
      "False\n",
      "False\n",
      "False\n",
      "False\n"
     ]
    }
   ],
   "source": [
    "def almost_increasing_sequence(x):\n",
    "    if len(x)<3:\n",
    "        return True\n",
    "    a,b,*x=x\n",
    "    skipped=0\n",
    "    for c in x:\n",
    "        if a<b<c:\n",
    "            a,b=b,c\n",
    "            continue\n",
    "        elif b<c:\n",
    "            a,b=b,c\n",
    "        elif a<c:\n",
    "            a,b=a,c\n",
    "        skipped+= 1\n",
    "        if skipped == 2:\n",
    "            return False\n",
    "    return a<b\n",
    "print(almost_increasing_sequence([]))\n",
    "print(almost_increasing_sequence([1]))\n",
    "print(almost_increasing_sequence([1, 2]))\n",
    "print(almost_increasing_sequence([1, 2, 3]))\n",
    "print(almost_increasing_sequence([3, 1, 2]))\n",
    "print(almost_increasing_sequence([1, 2, 3, 0, 4, 5, 6]))\n",
    "print(almost_increasing_sequence([1, 2, 3, 0]))\n",
    "print(almost_increasing_sequence([1, 2, 0, 3]))\n",
    "print(almost_increasing_sequence([10, 1, 2, 3, 4, 5]))\n",
    "print(almost_increasing_sequence([1, 2, 10, 3, 4]))\n",
    "print(almost_increasing_sequence([1, 2, 3, 12, 4, 5]))\n",
    "print(almost_increasing_sequence([3, 2, 1]))\n",
    "print(almost_increasing_sequence([1, 2, 0, -1]))\n",
    "print(almost_increasing_sequence([5, 6, 1, 2]))\n",
    "print(almost_increasing_sequence([1, 2, 3, 0, -1]))\n",
    "print(almost_increasing_sequence([10, 11, 12, 2, 3, 4, 5]))"
   ]
  },
  {
   "cell_type": "code",
   "execution_count": 38,
   "id": "1b88a22e-3792-47fc-bdf9-8afe6ba10a1d",
   "metadata": {
    "tags": []
   },
   "outputs": [
    {
     "name": "stdin",
     "output_type": "stream",
     "text": [
      "Enter a ch: f\n"
     ]
    },
    {
     "name": "stdout",
     "output_type": "stream",
     "text": [
      "Last occurrence of f in the said list:\n",
      "7\n",
      ".........................................................................\n"
     ]
    },
    {
     "name": "stdin",
     "output_type": "stream",
     "text": [
      "Enter a ch: c\n"
     ]
    },
    {
     "name": "stdout",
     "output_type": "stream",
     "text": [
      "Last occurrence of c in the said list:\n",
      "15\n",
      ".........................................................................\n"
     ]
    },
    {
     "name": "stdin",
     "output_type": "stream",
     "text": [
      "Enter a ch: k\n"
     ]
    },
    {
     "name": "stdout",
     "output_type": "stream",
     "text": [
      "Last occurrence of k in the said list:\n",
      "14\n",
      ".........................................................................\n"
     ]
    },
    {
     "name": "stdin",
     "output_type": "stream",
     "text": [
      "Enter a ch: w\n"
     ]
    },
    {
     "name": "stdout",
     "output_type": "stream",
     "text": [
      "Last occurrence of w in the said list:\n",
      "12\n"
     ]
    }
   ],
   "source": [
    "x=['s', 'd', 'f', 's', 'd', 'f', 's', 'f', 'k', 'o', 'p', 'i', 'w', 'e', 'k', 'c']\n",
    "y=(input('Enter a ch:'))\n",
    "print('Last occurrence of ', y ,' in the said list:\\n',''.join(x).rindex(y),sep='')\n",
    "##############################################################################\n",
    "print('.........................................................................')\n",
    "y=(input('Enter a ch:'))\n",
    "print('Last occurrence of ', y ,' in the said list:\\n',''.join(x).rindex(y),sep='')\n",
    "##############################################################################\n",
    "print('.........................................................................')\n",
    "y=(input('Enter a ch:'))\n",
    "print('Last occurrence of ', y ,' in the said list:\\n',''.join(x).rindex(y),sep='')\n",
    "############################################################################\n",
    "print('.........................................................................')\n",
    "y=(input('Enter a ch:'))\n",
    "print('Last occurrence of ', y ,' in the said list:\\n',''.join(x).rindex(y),sep='')"
   ]
  },
  {
   "cell_type": "code",
   "execution_count": 37,
   "id": "28dd39e4-e3dd-4dd6-bfcd-a8d3e2261bbe",
   "metadata": {
    "tags": []
   },
   "outputs": [
    {
     "name": "stdin",
     "output_type": "stream",
     "text": [
      "Enter a number you want to find index : 73\n"
     ]
    },
    {
     "name": "stdout",
     "output_type": "stream",
     "text": [
      "Index of the first element which is greater than 73 in the said list:\n",
      "4\n",
      ".........................................................................\n"
     ]
    },
    {
     "name": "stdin",
     "output_type": "stream",
     "text": [
      "Enter a number you want to find index : 21\n"
     ]
    },
    {
     "name": "stdout",
     "output_type": "stream",
     "text": [
      "Index of the first element which is greater than 21 in the said list:\n",
      "1\n",
      ".........................................................................\n"
     ]
    },
    {
     "name": "stdin",
     "output_type": "stream",
     "text": [
      "Enter a number you want to find index : 80\n"
     ]
    },
    {
     "name": "stdout",
     "output_type": "stream",
     "text": [
      "Index of the first element which is greater than 80 in the said list:\n",
      "5\n",
      ".........................................................................\n"
     ]
    },
    {
     "name": "stdin",
     "output_type": "stream",
     "text": [
      "Enter a number you want to find index : 55\n"
     ]
    },
    {
     "name": "stdout",
     "output_type": "stream",
     "text": [
      "Index of the first element which is greater than 55 in the said list:\n",
      "3\n"
     ]
    }
   ],
   "source": [
    "x=[12, 45, 23, 67, 78, 90, 100, 76, 38, 62, 73, 29, 83]\n",
    "y=int(input('Enter a number you want to find index :'))\n",
    "p=[i for i in x if i >y]\n",
    "print('Index of the first element which is greater than ',y,' in the said list:\\n',x.index(p[0]),sep='')\n",
    "##############################################################################\n",
    "print('.........................................................................')\n",
    "y=int(input('Enter a number you want to find index :'))\n",
    "p=[i for i in x if i >y]\n",
    "print('Index of the first element which is greater than ',y,' in the said list:\\n',x.index(p[0]),sep='')\n",
    "##############################################################################\n",
    "print('.........................................................................')\n",
    "y=int(input('Enter a number you want to find index :'))\n",
    "p=[i for i in x if i >y]\n",
    "print('Index of the first element which is greater than ',y,' in the said list:\\n',x.index(p[0]),sep='')\n",
    "##############################################################################\n",
    "print('.........................................................................')\n",
    "y=int(input('Enter a number you want to find index :'))\n",
    "p=[i for i in x if i >y]\n",
    "print('Index of the first element which is greater than ',y,' in the said list:\\n',x.index(p[0]),sep='')"
   ]
  },
  {
   "cell_type": "code",
   "execution_count": 47,
   "id": "070bd785-d490-46c1-9ad2-93a9a80423f2",
   "metadata": {
    "tags": []
   },
   "outputs": [
    {
     "name": "stdin",
     "output_type": "stream",
     "text": [
      "Enter a number: 45\n"
     ]
    },
    {
     "name": "stdout",
     "output_type": "stream",
     "text": [
      "[78, 90, 100, 76, 62]\n",
      "Number of Items of the said list which are even and greater than 45:-\n",
      "5\n"
     ]
    }
   ],
   "source": [
    "x=[12, 45, 23, 67, 78, 90, 45, 32, 100, 76, 38, 62, 73, 29, 83]\n",
    "y=int(input('Enter a number:'))\n",
    "p=[i for i in x if (i>y and i%2==0)]\n",
    "print('Number of Items of the said list which are even and greater than ',y,':-\\n',len(p),sep='')"
   ]
  },
  {
   "cell_type": "code",
   "execution_count": 58,
   "id": "bfd6f40e-637a-4afc-aaf6-d65befbdbf40",
   "metadata": {
    "tags": []
   },
   "outputs": [
    {
     "name": "stdin",
     "output_type": "stream",
     "text": [
      "Enter a number: 3\n"
     ]
    },
    {
     "name": "stdout",
     "output_type": "stream",
     "text": [
      "Split the said list into equal size 3:-\n",
      "[[12, 45, 23], [67, 78, 90], [45, 32, 100], [76, 38, 62], [73, 29, 83]]\n",
      ".........................................................................\n"
     ]
    },
    {
     "name": "stdin",
     "output_type": "stream",
     "text": [
      "Enter a number: 4\n"
     ]
    },
    {
     "name": "stdout",
     "output_type": "stream",
     "text": [
      "Split the said list into equal size 4:-\n",
      "[[12, 45, 23, 67], [78, 90, 45, 32], [100, 76, 38, 62], [73, 29, 83]]\n",
      ".........................................................................\n"
     ]
    },
    {
     "name": "stdin",
     "output_type": "stream",
     "text": [
      "Enter a number: 5\n"
     ]
    },
    {
     "name": "stdout",
     "output_type": "stream",
     "text": [
      "Split the said list into equal size 5:-\n",
      "[[12, 45, 23, 67, 78], [90, 45, 32, 100, 76], [38, 62, 73, 29, 83]]\n"
     ]
    }
   ],
   "source": [
    "x=[12, 45, 23, 67, 78, 90, 45, 32, 100, 76, 38, 62, 73, 29, 83]\n",
    "n=int(input('Enter a number:'))\n",
    "p=list((x[i:i+n] for i in range(0,len(x),n)))\n",
    "print('Split the said list into equal size ',n,':-\\n',p,sep='')\n",
    "##############################################################################\n",
    "print('.........................................................................')\n",
    "n=int(input('Enter a number:'))\n",
    "p=list((x[i:i+n] for i in range(0,len(x),n)))\n",
    "print('Split the said list into equal size ',n,':-\\n',p,sep='')\n",
    "##############################################################################\n",
    "print('.........................................................................')\n",
    "n=int(input('Enter a number:'))\n",
    "p=list((x[i:i+n] for i in range(0,len(x),n)))\n",
    "print('Split the said list into equal size ',n,':-\\n',p,sep='')"
   ]
  },
  {
   "cell_type": "code",
   "execution_count": 12,
   "id": "c7a33845-2fcc-453a-b67f-5f1828e7192e",
   "metadata": {
    "tags": []
   },
   "outputs": [
    {
     "name": "stdout",
     "output_type": "stream",
     "text": [
      "Remove None value from the said list:-\n",
      "[12, 0, 23, -55, 234, 89, 0, 6, -12]\n",
      ".........................................................................\n",
      "Remove None value from the said list:-\n",
      "[12, 0, 23, -55, 234, 89, 0, 6, -12]\n"
     ]
    }
   ],
   "source": [
    "x=[12, 0, None, 23, None, -55, 234, 89, None, 0, 6, -12]\n",
    "p=[i for i in x if not  i is None]\n",
    "print('Remove None value from the said list:-\\n',p,sep='')\n",
    "##############################################################################\n",
    "print('.........................................................................')\n",
    "for i in x:\n",
    "    if i==None:\n",
    "        x.remove(i)\n",
    "print('Remove None value from the said list:-\\n',x,sep='')"
   ]
  },
  {
   "cell_type": "code",
   "execution_count": 25,
   "id": "f36c2b2a-57ad-45a2-8271-ee9a0bf6f726",
   "metadata": {
    "tags": []
   },
   "outputs": [
    {
     "name": "stdout",
     "output_type": "stream",
     "text": [
      "Convert the said list of strings into list of lists:\n",
      "[['R', 'e', 'd'], ['M', 'a', 'r', 'o', 'o', 'n'], ['Y', 'e', 'l', 'l', 'o', 'w'], ['O', 'l', 'i', 'v', 'e']]\n"
     ]
    }
   ],
   "source": [
    "x=['Red', 'Maroon', 'Yellow', 'Olive']\n",
    "p=[list(i) for i in x]\n",
    "print('Convert the said list of strings into list of lists:\\n',p,sep='')"
   ]
  },
  {
   "cell_type": "code",
   "execution_count": 31,
   "id": "69750156-c0fd-46bc-adfc-64517c67d87c",
   "metadata": {
    "tags": []
   },
   "outputs": [
    {
     "name": "stdout",
     "output_type": "stream",
     "text": [
      "a\n",
      "b\n",
      "c\n",
      "d\n",
      "e\n",
      "f\n",
      ".........................................................................\n",
      "1 4 7\n",
      "2 5 3\n",
      "5 8 6\n"
     ]
    }
   ],
   "source": [
    "x=['a', 'b', 'c', 'd', 'e', 'f']\n",
    "for i in x:\n",
    "    print(i)\n",
    "##############################################################################\n",
    "print('.........................................................................')\n",
    "y=[[1, 2, 5], [4, 5, 8], [7, 3, 6]]\n",
    "for i,j,k in zip(*y):\n",
    "    print(i,j,k)"
   ]
  },
  {
   "cell_type": "code",
   "execution_count": 37,
   "id": "3ceac9d9-673f-4341-9d94-929130c21d84",
   "metadata": {
    "tags": []
   },
   "outputs": [
    {
     "name": "stdout",
     "output_type": "stream",
     "text": [
      "Convert the said list of strings and characters to a single list of characters:\n",
      "['r', 'e', 'd', 'w', 'h', 'i', 't', 'e', 'a', 'b', 'b', 'l', 'a', 'c', 'k', 'f']\n"
     ]
    }
   ],
   "source": [
    "x=['red', 'white', 'a', 'b', 'black', 'f']\n",
    "p=[j for i in x for j in i]\n",
    "print('Convert the said list of strings and characters to a single list of characters:\\n',p,sep='')"
   ]
  },
  {
   "cell_type": "code",
   "execution_count": 51,
   "id": "26912b2c-b00a-4d2d-832d-5aa517e66ce8",
   "metadata": {
    "tags": []
   },
   "outputs": [
    {
     "name": "stdin",
     "output_type": "stream",
     "text": [
      "Enter a char you want to insert: a\n",
      "Enter a position you want to be insert char: 2\n"
     ]
    },
    {
     "name": "stdout",
     "output_type": "stream",
     "text": [
      "Insert a in the said list after 2 element:\n",
      "[1, 2, 'a', 3, 4, 'a', 5, 6, 'a', 7, 8, 'a', 9, 0]\n",
      ".........................................................................\n"
     ]
    },
    {
     "name": "stdin",
     "output_type": "stream",
     "text": [
      "Enter a Char you want to insert in list: b\n",
      "Enter a position you want to be insert char: 4\n"
     ]
    },
    {
     "name": "stdout",
     "output_type": "stream",
     "text": [
      "Insert a in the said list after 4 element:\n",
      "[1, 2, 3, 4, 'b', 5, 6, 7, 8, 'b', 9, 0]\n"
     ]
    }
   ],
   "source": [
    "x=[1, 2, 3, 4, 5, 6, 7, 8, 9, 0]\n",
    "y=input('Enter a char you want to insert:')\n",
    "n=int(input('Enter a position you want to be insert char:'))\n",
    "for i in range(n,len(x)+n,n+1):\n",
    "    x.insert(i,y)\n",
    "print('Insert a in the said list after ',n,' element:\\n',x,sep='')\n",
    "##############################################################################\n",
    "print('.........................................................................')\n",
    "x=[1, 2, 3, 4, 5, 6, 7, 8, 9, 0]\n",
    "y=input('Enter a Char you want to insert in list:')\n",
    "n=int(input('Enter a position you want to be insert char:'))\n",
    "for i in range(n,len(x)+n,n+1):\n",
    "    x.insert(i,y)\n",
    "print('Insert a in the said list after ',n,' element:\\n',x,sep='')"
   ]
  },
  {
   "cell_type": "code",
   "execution_count": 54,
   "id": "2c86cc63-3570-4656-a3a8-6b6cc09220dc",
   "metadata": {
    "tags": []
   },
   "outputs": [
    {
     "name": "stdout",
     "output_type": "stream",
     "text": [
      "['0red100', '1green200', '2black300', '3blue400', '4white500']\n"
     ]
    }
   ],
   "source": [
    "x=['0', '1', '2', '3', '4']\n",
    "y=['red', 'green', 'black', 'blue', 'white']\n",
    "z=['100', '200', '300', '400', '500']\n",
    "p=[i+j+k for i,j,k in zip(x,y,z)]\n",
    "print(p)"
   ]
  },
  {
   "cell_type": "code",
   "execution_count": 83,
   "id": "3b22ebd6-ed2f-48e5-981e-2c204a7dc079",
   "metadata": {
    "tags": []
   },
   "outputs": [
    {
     "name": "stdin",
     "output_type": "stream",
     "text": [
      "Enter a number you want to remove from list: 3\n"
     ]
    },
    {
     "name": "stdout",
     "output_type": "stream",
     "text": [
      "[2, 3, 9, 8, 2, 0, 39, 84, 2, 2, 34, 2, 34]\n",
      ".........................................................................\n"
     ]
    },
    {
     "name": "stdin",
     "output_type": "stream",
     "text": [
      "Enter a number you want to remove from list: 5\n"
     ]
    },
    {
     "name": "stdout",
     "output_type": "stream",
     "text": [
      "[2, 3, 9, 8, 2, 0, 39, 84, 2, 2, 34]\n",
      ".........................................................................\n"
     ]
    },
    {
     "name": "stdin",
     "output_type": "stream",
     "text": [
      "Enter a number you want to remove from list: 1\n"
     ]
    },
    {
     "name": "stdout",
     "output_type": "stream",
     "text": [
      "[2, 3, 9, 8, 2, 0, 39, 84, 2, 2, 34, 2, 34, 5, 3]\n"
     ]
    }
   ],
   "source": [
    "x=[2, 3, 9, 8, 2, 0, 39, 84, 2, 2, 34, 2, 34, 5, 3, 5]\n",
    "n=int(input('Enter a number you want to remove from list:'))\n",
    "print(x[:len(x)-n])\n",
    "##############################################################################\n",
    "print('.........................................................................')\n",
    "n=int(input('Enter a number you want to remove from list:'))\n",
    "print(x[:len(x)-n])\n",
    "##############################################################################\n",
    "print('.........................................................................')\n",
    "n=int(input('Enter a number you want to remove from list:'))\n",
    "print(x[:len(x)-n])"
   ]
  },
  {
   "cell_type": "code",
   "execution_count": 118,
   "id": "5069263a-5d0a-4467-befb-e144dddb4e21",
   "metadata": {
    "tags": []
   },
   "outputs": [
    {
     "name": "stdin",
     "output_type": "stream",
     "text": [
      "Enter a number you want to remove from list: 2\n",
      "Enter a number you want to remove from list: 4\n"
     ]
    },
    {
     "name": "stdout",
     "output_type": "stream",
     "text": [
      "Merge items from 2 to 4 in the said List:\n",
      "['a', 'b', 'cd', 'e', 'f', 'g']\n",
      ".........................................................................\n"
     ]
    },
    {
     "name": "stdin",
     "output_type": "stream",
     "text": [
      "Enter a number you want to remove from list: 3\n",
      "Enter a number you want to remove from list: 7\n"
     ]
    },
    {
     "name": "stdout",
     "output_type": "stream",
     "text": [
      "Merge items from 3 to 7 in the said List:\n",
      "['a', 'b', 'c', 'defg']\n"
     ]
    }
   ],
   "source": [
    "x=['a', 'b', 'c', 'd', 'e', 'f', 'g']\n",
    "y=int(input('Enter a number:'))\n",
    "n=int(input('Enter a number:'))\n",
    "p=x\n",
    "p[y:n]=[''.join(p[y:n])]\n",
    "print('Merge items from ',y,' to ',n,' in the said List:\\n',p,sep='')\n",
    "##############################################################################\n",
    "print('.........................................................................')\n",
    "x=['a', 'b', 'c', 'd', 'e', 'f', 'g']\n",
    "y=int(input('Enter a number:'))\n",
    "n=int(input('Enter a number:'))\n",
    "p=x\n",
    "p[y:n]=[''.join(p[y:n])]\n",
    "print('Merge items from ',y,' to ',n,' in the said List:\\n',p,sep='')"
   ]
  },
  {
   "cell_type": "code",
   "execution_count": 124,
   "id": "9f15591e-d56e-4c86-b711-8312bca8bef6",
   "metadata": {
    "tags": []
   },
   "outputs": [
    {
     "name": "stdin",
     "output_type": "stream",
     "text": [
      "Enter a number: 3\n"
     ]
    },
    {
     "name": "stdout",
     "output_type": "stream",
     "text": [
      "[3, 8, 9, 4, 5, 0, 5, 0, 3]\n",
      "Add 3 to each element in the said list:\n",
      "[6, 11, 12, 7, 8, 3, 8, 3, 6]\n",
      ".........................................................................\n"
     ]
    },
    {
     "name": "stdin",
     "output_type": "stream",
     "text": [
      "Enter a number: .51\n"
     ]
    },
    {
     "name": "stdout",
     "output_type": "stream",
     "text": [
      "[3.2, 8, 9.9, 4.2, 5, 0.1, 5, 3.11, 0]\n",
      "Add 0.51 to each element in the said list:\n",
      "[3.71, 8.51, 10.41, 4.71, 5.51, 0.61, 5.51, 3.62, 0.51]\n"
     ]
    }
   ],
   "source": [
    "x=[3, 8, 9, 4, 5, 0, 5, 0, 3]\n",
    "y=eval(input('Enter a number:'))\n",
    "p=[(i+y) for i in x]\n",
    "print(x,'\\nAdd ',y,' to each element in the said list:\\n',p,sep='')\n",
    "##############################################################################\n",
    "print('.........................................................................')\n",
    "x=[3.2, 8, 9.9, 4.2, 5, 0.1, 5, 3.11, 0]\n",
    "y=eval(input('Enter a number:'))\n",
    "p=[(i+y) for i in x]\n",
    "print(x,'\\nAdd ',y,' to each element in the said list:\\n',p,sep='')"
   ]
  },
  {
   "cell_type": "code",
   "execution_count": 151,
   "id": "c665a760-7b46-4338-beaf-389a0132747b",
   "metadata": {
    "tags": []
   },
   "outputs": [
    {
     "name": "stdout",
     "output_type": "stream",
     "text": [
      "Maximum value for each tuple position in the said list of tuples:\n",
      "[7, 6]\n",
      ".........................................................................\n",
      "Minimum value for each tuple position in the said list of tuples:\n",
      "[0, 1]\n",
      ".........................................................................\n",
      "[7, 6]\n",
      ".........................................................................\n",
      "[0, 1]\n"
     ]
    }
   ],
   "source": [
    "x=[(2, 3), (2, 4), (0, 6), (7, 1)]\n",
    "p=[i[0] for i in x]\n",
    "q=[i[1] for i in x]\n",
    "print('Maximum value for each tuple position in the said list of tuples:\\n',[max(p),max(q)],sep='')\n",
    "print('.........................................................................')\n",
    "print('Minimum value for each tuple position in the said list of tuples:\\n',[min(p),min(q)],sep='')\n",
    "##############################################################################\n",
    "print('.........................................................................')\n",
    "zip(*x)\n",
    "y=map(max,zip(*x))\n",
    "z=map(min,zip(*x))\n",
    "print(list(y))\n",
    "print('.........................................................................')\n",
    "print(list(z))"
   ]
  },
  {
   "cell_type": "code",
   "execution_count": 156,
   "id": "2cf76518-90b8-4162-a626-10fbf1a8bb4e",
   "metadata": {
    "tags": []
   },
   "outputs": [
    {
     "data": {
      "text/plain": [
       "[0.7777777777777778, 0.25, 1.5, 1.3333333333333333, 3.0, 2.0, 1.5]"
      ]
     },
     "execution_count": 156,
     "metadata": {},
     "output_type": "execute_result"
    }
   ],
   "source": [
    "x=[7, 2, 3, 4, 9, 2, 3]\n",
    "y=[9, 8, 2, 3, 3, 1, 2]\n",
    "p=[i/j for i,j in zip(x,y)]\n",
    "p"
   ]
  },
  {
   "cell_type": "code",
   "execution_count": 172,
   "id": "b826b0c5-f3c9-4e02-af24-49f4df9a8c64",
   "metadata": {
    "tags": []
   },
   "outputs": [
    {
     "name": "stdout",
     "output_type": "stream",
     "text": [
      "[2, 3]\n",
      ".........................................................................\n",
      "['c']\n"
     ]
    }
   ],
   "source": [
    "x=[[7, 2, 3, 4, 7], [9, 2, 3, 2, 5], [8, 2, 3, 4, 4]]\n",
    "p=set(x[0]).intersection(*x)\n",
    "print(list(p))\n",
    "##############################################################################\n",
    "print('.........................................................................')\n",
    "x=[['a', 'b', 'c'], ['b', 'c', 'd'], ['c', 'd', 'e']]\n",
    "p=set(x[0]).intersection(*x)\n",
    "print(list(p))"
   ]
  },
  {
   "cell_type": "code",
   "execution_count": 174,
   "id": "967fe5e8-f5c7-4a9b-a729-dbc061848b40",
   "metadata": {
    "tags": []
   },
   "outputs": [
    {
     "name": "stdin",
     "output_type": "stream",
     "text": [
      "Enter a char you want to insert: 20\n",
      "Enter a position you want to be insert char: 4\n"
     ]
    },
    {
     "name": "stdout",
     "output_type": "stream",
     "text": [
      "Insert a in the said list after 4 element:\n",
      "[1, 3, 5, 7, '20', 9, 11, 0, 2, '20', 4, 6, 8, 10, '20', 8, 9, 0, 4, '20', 3, 0]\n",
      ".........................................................................\n"
     ]
    },
    {
     "name": "stdin",
     "output_type": "stream",
     "text": [
      "Enter a char you want to insert: Z\n",
      "Enter a position you want to be insert char: 3\n"
     ]
    },
    {
     "name": "stdout",
     "output_type": "stream",
     "text": [
      "Insert a in the said list after 3 element:\n",
      "['s', 'd', 'f', 'Z', 'j', 's', 'a', 'Z', 'j', 'd', 'f', 'Z', 'd']\n"
     ]
    }
   ],
   "source": [
    "x=[1, 3, 5, 7, 9, 11, 0, 2, 4, 6, 8, 10, 8, 9, 0, 4, 3, 0]\n",
    "y=input('Enter a char you want to insert:')\n",
    "n=int(input('Enter a position you want to be insert char:'))\n",
    "for i in range(n,len(x)+n,n+1):\n",
    "    x.insert(i,y)\n",
    "print('Insert a in the said list after ',n,' element:\\n',x,sep='')\n",
    "##############################################################################\n",
    "print('.........................................................................')\n",
    "x=['s', 'd', 'f', 'j', 's', 'a', 'j', 'd', 'f', 'd']\n",
    "y=input('Enter a char you want to insert:')\n",
    "n=int(input('Enter a position you want to be insert char:'))\n",
    "for i in range(n,len(x)+n,n+1):\n",
    "    x.insert(i,y)\n",
    "print('Insert a in the said list after ',n,' element:\\n',x,sep='')"
   ]
  },
  {
   "cell_type": "code",
   "execution_count": 20,
   "id": "575f127c-9f43-450b-a2d9-afdaa396fe3c",
   "metadata": {
    "tags": []
   },
   "outputs": [
    {
     "name": "stdout",
     "output_type": "stream",
     "text": [
      "9744341403\n",
      ".........................................................................\n",
      "605040302010\n",
      ".........................................................................\n",
      "98654210\n"
     ]
    }
   ],
   "source": [
    "x=[3, 40, 41, 43, 74, 9]\n",
    "def create_largest(x):\n",
    "    if all(i==0 for i in x):\n",
    "        return '0'\n",
    "    y=''.join(sorted((str(i) for i in x),reverse=True,key=lambda j: j*(len(str(max(x)))*2//len(j))))\n",
    "    return y\n",
    "print(create_largest(x))\n",
    "##############################################################################\n",
    "print('.........................................................................')\n",
    "x=[10, 40, 20, 30, 50, 60]\n",
    "print(create_largest(x))\n",
    "##############################################################################\n",
    "print('.........................................................................')\n",
    "x=[8, 4, 2, 9, 5, 6, 1, 0]\n",
    "print(create_largest(x))"
   ]
  },
  {
   "cell_type": "code",
   "execution_count": 24,
   "id": "0b6a53e2-c0e3-4077-a8a0-a1a9710f4426",
   "metadata": {
    "tags": []
   },
   "outputs": [
    {
     "name": "stdout",
     "output_type": "stream",
     "text": [
      "3404143749\n",
      ".........................................................................\n",
      "102030405060\n",
      ".........................................................................\n",
      "01245689\n"
     ]
    }
   ],
   "source": [
    "#180\n",
    "x=[3, 40, 41, 43, 74, 9]\n",
    "def create_largest(x):\n",
    "    if all(i==0 for i in x):\n",
    "        return '0'\n",
    "    y=''.join(sorted((str(i) for i in x),key=lambda j: j*(len(str(min(x)))*2//len(j))))\n",
    "    return y\n",
    "print(create_largest(x))\n",
    "##############################################################################\n",
    "print('.........................................................................')\n",
    "x=[10, 40, 20, 30, 50, 60]\n",
    "print(create_largest(x))\n",
    "##############################################################################\n",
    "print('.........................................................................')\n",
    "x=[8, 4, 2, 9, 5, 6, 1, 0]\n",
    "print(create_largest(x))"
   ]
  },
  {
   "cell_type": "code",
   "execution_count": 31,
   "id": "acc9b057-6501-480f-a514-527be985fbb2",
   "metadata": {
    "tags": []
   },
   "outputs": [
    {
     "name": "stdin",
     "output_type": "stream",
     "text": [
      "Enter the position: 3\n"
     ]
    },
    {
     "name": "stdout",
     "output_type": "stream",
     "text": [
      "['d', 'e', 'f', 'g', 'h', 'a', 'b', 'c']\n",
      ".........................................................................\n"
     ]
    },
    {
     "name": "stdin",
     "output_type": "stream",
     "text": [
      "Enter the position: 5\n"
     ]
    },
    {
     "name": "stdout",
     "output_type": "stream",
     "text": [
      "['f', 'g', 'h', 'a', 'b', 'c', 'd', 'e']\n"
     ]
    }
   ],
   "source": [
    "x=['a', 'b', 'c', 'd', 'e', 'f', 'g', 'h']\n",
    "def cyclically(x,y):\n",
    "    p=x[y:]+x[:y]\n",
    "    return p\n",
    "y=int(input('Enter the position:'))\n",
    "print(cyclically(x,y))\n",
    "##############################################################################\n",
    "print('.........................................................................')\n",
    "y=int(input('Enter the position:'))\n",
    "print(cyclically(x,y))"
   ]
  },
  {
   "cell_type": "code",
   "execution_count": 48,
   "id": "47adb0c6-6d36-40b3-85f8-7c1506ced5e0",
   "metadata": {
    "tags": []
   },
   "outputs": [
    {
     "name": "stdout",
     "output_type": "stream",
     "text": [
      "[2, 3, 5, 4]\n",
      "[1, 2, 1, 2]\n",
      ".........................................................................\n",
      "[2, 3, 5, 4]\n",
      "[1, 2, 1, 2]\n"
     ]
    }
   ],
   "source": [
    "x=[[1, 2, 3, 5], [2, 3, 5, 4], [0, 5, 4, 1], [3, 7, 2, 1], [1, 2, 1, 2]]\n",
    "p=[sum(i) for i in x]\n",
    "print(x[(p.index(max(p)))])\n",
    "print(x[(p.index(min(p)))])\n",
    "##############################################################################\n",
    "print('.........................................................................')\n",
    "x=[[1, 2, 3, 5], [2, 3, 5, 4], [0, 5, 4, 1], [3, 7, 2, 1], [1, 2, 1, 2]]\n",
    "max_reult=(max(x,key=sum))\n",
    "min_result=(min(x,key=sum))\n",
    "print(max_reult,'\\n',min_result,sep='')\n"
   ]
  },
  {
   "cell_type": "code",
   "execution_count": 62,
   "id": "2d894afe-af3b-4504-93b7-5f7c88feb78c",
   "metadata": {
    "tags": []
   },
   "outputs": [
    {
     "name": "stdout",
     "output_type": "stream",
     "text": [
      "[0, 1, 2, 3, 4, 5, 7]\n",
      ".........................................................................\n",
      "['v', 'c', 'k', 'l', 'j', 'x', 'z', 'h', 'e', 'd', 'n', 'i', 'y', 'b', 'a', 'g']\n"
     ]
    }
   ],
   "source": [
    "x=[[1, 2, 3, 5], [2, 3, 5, 4], [0, 5, 4, 1], [3, 7, 2, 1], [1, 2, 1, 2]]\n",
    "p=[j for i in x for j in i]\n",
    "print(list(set(p)))\n",
    "##############################################################################\n",
    "print('.........................................................................')\n",
    "x=[['h', 'g', 'l', 'k'], ['a', 'b', 'd', 'e', 'c'], ['j', 'i', 'y'], ['n', 'b', 'v', 'c'], ['x', 'z']]\n",
    "p=[j for i in x for j in i]\n",
    "print(list(set(p)))"
   ]
  },
  {
   "cell_type": "code",
   "execution_count": 75,
   "id": "d7c79237-49eb-41b3-9ef0-76b4ecec220b",
   "metadata": {
    "tags": []
   },
   "outputs": [
    {
     "name": "stdout",
     "output_type": "stream",
     "text": [
      "Original list:\n",
      "['Sum all the items in a list', 'Find the second smallest number in a list']\n",
      "\n",
      "Bigram sequence of the said list:\n",
      "\n",
      "[('Sum', 'all'), ('all', 'the'), ('the', 'items'), ('items', 'in'), ('in', 'a'), ('a', 'list'), ('Find', 'the'), ('the', 'second'), ('second', 'smallest'), ('smallest', 'number'), ('number', 'in'), ('in', 'a'), ('a', 'list')]\n"
     ]
    }
   ],
   "source": [
    "x=['Sum all the items in a list', 'Find the second smallest number in a list']\n",
    "def bigram_sequence(x):\n",
    "    p=[j for i in x for j in zip(i.split(' ')[:-1],i.split(' ')[1:])]\n",
    "    return (p)\n",
    "print(\"Original list:\")\n",
    "print(x)\n",
    "print(\"\\nBigram sequence of the said list:\\n\")\n",
    "print(bigram_sequence(x)) "
   ]
  },
  {
   "cell_type": "code",
   "execution_count": 104,
   "id": "fb183017-8287-48d4-b7c3-b3c4303b0ebe",
   "metadata": {
    "tags": []
   },
   "outputs": [
    {
     "name": "stdin",
     "output_type": "stream",
     "text": [
      "Enter a number: 8\n"
     ]
    },
    {
     "name": "stdout",
     "output_type": "stream",
     "text": [
      "Decimal number(8)to binary list:\n",
      "[1, 0, 0, 0]\n",
      ".........................................................................\n"
     ]
    },
    {
     "name": "stdin",
     "output_type": "stream",
     "text": [
      "Enter a number: 45\n"
     ]
    },
    {
     "name": "stdout",
     "output_type": "stream",
     "text": [
      "Decimal number(45)to binary list:\n",
      "[1, 0, 1, 1, 0, 1]\n",
      ".........................................................................\n"
     ]
    },
    {
     "name": "stdin",
     "output_type": "stream",
     "text": [
      "Enter a number: 100\n"
     ]
    },
    {
     "name": "stdout",
     "output_type": "stream",
     "text": [
      "Decimal number(100)to binary list:\n",
      "[1, 1, 0, 0, 1, 0, 0]\n"
     ]
    }
   ],
   "source": [
    "def decimal_binary(x):\n",
    "    p=[int(i) for i in list('{0:0b}'.format(x))]\n",
    "    return (p)\n",
    "x=int(input('Enter a number:'))\n",
    "print(\"Decimal number(\",x,\")to binary list:\\n\",decimal_binary(x),sep='')\n",
    "##############################################################################\n",
    "print('.........................................................................')\n",
    "x=int(input('Enter a number:'))\n",
    "print(\"Decimal number(\",x,\")to binary list:\\n\",decimal_binary(x),sep='')\n",
    "##############################################################################\n",
    "print('.........................................................................')\n",
    "x=int(input('Enter a number:'))\n",
    "print(\"Decimal number(\",x,\")to binary list:\\n\",decimal_binary(x),sep='')"
   ]
  },
  {
   "cell_type": "code",
   "execution_count": 107,
   "id": "ef5f2daf-aca2-4d7d-8a5c-bb3763e22f98",
   "metadata": {
    "tags": []
   },
   "outputs": [
    {
     "name": "stdout",
     "output_type": "stream",
     "text": [
      "[0, 6, 7, 8, 9, 3, 4, 5, 1, 2, 10, 11, 12, 13, 14, 15]\n",
      "[0, 9, 3, 8, 6, 7, 4, 5, 1, 2, 10, 11, 12, 13, 14, 15]\n"
     ]
    }
   ],
   "source": [
    "x=[0, 1, 2, 3, 4, 5, 6, 7, 8, 9, 10, 11, 12, 13, 14, 15]\n",
    "x[6:10],x[1:3]=x[1:3],x[6:10]\n",
    "print(x)\n",
    "x[1:3],x[4:6]=x[4:6],x[1:3]\n",
    "print(x)"
   ]
  },
  {
   "cell_type": "code",
   "execution_count": 139,
   "id": "9683e1b1-3a74-4502-bded-f1471aa00820",
   "metadata": {
    "tags": []
   },
   "outputs": [
    {
     "name": "stdout",
     "output_type": "stream",
     "text": [
      "['red green', 'black white', 'orange pink']\n",
      ".........................................................................\n",
      "['Laiba Delacruz', 'Mali Stacey Drummond', 'Raja Welch', 'Saarah Stone']\n"
     ]
    }
   ],
   "source": [
    "def tuple_list(x):\n",
    "    y=[('%s ' *len(i)%i).strip() for i in x]\n",
    "    return y\n",
    "x=[('red', 'green'), ('black', 'white'), ('orange', 'pink')]\n",
    "print(tuple_list(x))\n",
    "##############################################################################\n",
    "print('.........................................................................')\n",
    "x=[('Laiba', 'Delacruz'), ('Mali', 'Stacey', 'Drummond'), ('Raja', 'Welch'), ('Saarah', 'Stone')]\n",
    "print(tuple_list(x))"
   ]
  },
  {
   "cell_type": "code",
   "execution_count": 169,
   "id": "5ac32844-7206-4834-9f98-185bdd0ac31e",
   "metadata": {
    "tags": []
   },
   "outputs": [
    {
     "name": "stdin",
     "output_type": "stream",
     "text": [
      "Enter a number: 2\n"
     ]
    },
    {
     "name": "stdout",
     "output_type": "stream",
     "text": [
      "[('item2', 10, 10.12), ('item4', 12, 22.5), ('item1', 11, 24.5), ('item3', 15, 25.1)]\n",
      ".........................................................................\n"
     ]
    },
    {
     "name": "stdin",
     "output_type": "stream",
     "text": [
      "Enter a number: 0\n"
     ]
    },
    {
     "name": "stdout",
     "output_type": "stream",
     "text": [
      "[('item1', 11, 24.5), ('item2', 10, 10.12), ('item3', 15, 25.1), ('item4', 12, 22.5)]\n",
      ".........................................................................\n"
     ]
    },
    {
     "name": "stdin",
     "output_type": "stream",
     "text": [
      "Enter a number: 1\n"
     ]
    },
    {
     "name": "stdout",
     "output_type": "stream",
     "text": [
      "[('item2', 10, 10.12), ('item1', 11, 24.5), ('item4', 12, 22.5), ('item3', 15, 25.1)]\n"
     ]
    }
   ],
   "source": [
    "x=[('item2', 10, 10.12), ('item3', 15, 25.1), ('item1', 11, 24.5), ('item4', 12, 22.5)]\n",
    "def sort_based_item(x,y):\n",
    "    p=sorted(x,key=lambda x:x[y])\n",
    "    return p\n",
    "y=int(input('Enter a number:'))\n",
    "print(sort_based_item(x,y))\n",
    "##############################################################################\n",
    "print('.........................................................................')\n",
    "y=int(input('Enter a number:'))\n",
    "print(sort_based_item(x,y))\n",
    "##############################################################################\n",
    "print('.........................................................................')\n",
    "y=int(input('Enter a number:'))\n",
    "print(sort_based_item(x,y))"
   ]
  },
  {
   "cell_type": "code",
   "execution_count": 174,
   "id": "f33b2cb2-e30e-41fe-ba80-241d166305ba",
   "metadata": {
    "tags": []
   },
   "outputs": [
    {
     "name": "stdout",
     "output_type": "stream",
     "text": [
      "[7, 2, 3, 4, 5, 6, 1]\n",
      ".........................................................................\n",
      "['f', 'd', 'f', 'd', 's', 's', 'd', 's']\n"
     ]
    }
   ],
   "source": [
    "def shift_element(x):\n",
    "    x[0],x[-1]=x[-1],x[0]\n",
    "    return x\n",
    "x=[1, 2, 3, 4, 5, 6, 7]\n",
    "print(shift_element(x))\n",
    "##############################################################################\n",
    "print('.........................................................................')\n",
    "x=['s', 'd', 'f', 'd', 's', 's', 'd', 'f']\n",
    "print(shift_element(x))"
   ]
  },
  {
   "cell_type": "code",
   "execution_count": 198,
   "id": "e9498109-5fde-4c93-bab4-49aa01ab59d1",
   "metadata": {
    "tags": []
   },
   "outputs": [
    {
     "name": "stdin",
     "output_type": "stream",
     "text": [
      "Enter a number: 3\n"
     ]
    },
    {
     "name": "stdout",
     "output_type": "stream",
     "text": [
      "[60, 54, 50]\n",
      ".........................................................................\n"
     ]
    },
    {
     "name": "stdin",
     "output_type": "stream",
     "text": [
      "Enter a number: 4\n"
     ]
    },
    {
     "name": "stdout",
     "output_type": "stream",
     "text": [
      "[60, 54, 50, 48]\n"
     ]
    }
   ],
   "source": [
    "def top_product(x,y,z):\n",
    "    p=[i*j for i in y for j in x]\n",
    "    q=sorted(p,reverse=True)[:z]\n",
    "    return q\n",
    "x=[1, 2, 3, 4, 5, 6]\n",
    "y=[3, 6, 8, 9, 10, 6]\n",
    "z=int(input('Enter a number:'))\n",
    "print(top_product(x,y,z))\n",
    "##############################################################################\n",
    "print('.........................................................................')\n",
    "z=int(input('Enter a number:'))\n",
    "print(top_product(x,y,z))"
   ]
  },
  {
   "cell_type": "code",
   "execution_count": 233,
   "id": "57da475c-7197-48db-9300-a2c5291524cc",
   "metadata": {
    "tags": []
   },
   "outputs": [
    {
     "name": "stdout",
     "output_type": "stream",
     "text": [
      "Maximum value of the said three lists:\n",
      "9\n",
      "Minimum value of the said three lists:\n",
      "0\n"
     ]
    }
   ],
   "source": [
    "x=[2, 3, 5, 8, 7, 2, 3]\n",
    "y=[4, 3, 9, 0, 4, 3, 9]\n",
    "z=[2, 1, 5, 6, 5, 5, 4]\n",
    "q=x+y+z\n",
    "print('Maximum value of the said three lists:\\n',max(q),'\\nMinimum value of the said three lists:\\n',min(q),sep='')"
   ]
  },
  {
   "cell_type": "code",
   "execution_count": 260,
   "id": "a83b9b5a-7d8e-4fd9-ae7d-f9fef70abede",
   "metadata": {
    "tags": []
   },
   "outputs": [
    {
     "name": "stdout",
     "output_type": "stream",
     "text": [
      "[(100,), (80,), (90,), (88, 89), (90, 92)]\n"
     ]
    }
   ],
   "source": [
    "x=[(100, 'Math'), (80, 'Math'), (90, 'Math'), (88, 'Science', 89), (90, 'Science', 92)]\n",
    "def test(x):\n",
    "    p=[tuple(j for j in i if not isinstance(j,str)) for i in x]\n",
    "    return list(p)\n",
    "print(test(x))"
   ]
  },
  {
   "cell_type": "code",
   "execution_count": 265,
   "id": "dc6464f1-30b5-449a-885c-fcab2f69ef4d",
   "metadata": {
    "tags": []
   },
   "outputs": [
    {
     "name": "stdout",
     "output_type": "stream",
     "text": [
      "(2, 2)\n",
      "(2, 3)\n",
      "(3, 3)\n",
      "(3, 2)\n"
     ]
    }
   ],
   "source": [
    "x=[[1, 2], [2, 4]]\n",
    "print((len(x),len(x[0])))\n",
    "x=[[0, 1, 2], [2, 4, 5]]\n",
    "print((len(x),len(x[0])))\n",
    "x=[[0, 1, 2], [2, 4, 5], [2, 3, 4]]\n",
    "print((len(x),len(x[0])))\n",
    "x=[[1, 2], [2, 4],[5,9]]\n",
    "print((len(x),len(x[0])))"
   ]
  },
  {
   "cell_type": "code",
   "execution_count": 280,
   "id": "85793aa9-46d9-4ed2-8362-ed143bbd1364",
   "metadata": {
    "tags": []
   },
   "outputs": [
    {
     "name": "stdout",
     "output_type": "stream",
     "text": [
      "[4, 8, 8]\n",
      ".........................................................................\n",
      "[8, 6, 4]\n"
     ]
    }
   ],
   "source": [
    "def sum_list(test_list):\n",
    "    result = [sum(x) for x in zip(*map(lambda x: x + [0] * max(map(len, test_list)) if len(x) < max(map(len, test_list)) else x, test_list))]\n",
    "    return result\n",
    "test_list=[[1, 2, 4], [2, 4, 4], [1, 2]]\n",
    "print(sum_list(test_list))\n",
    "##############################################################################\n",
    "print('.........................................................................')\n",
    "test_list=[[1], [2, 4, 4], [1, 2], [4]]\n",
    "print(sum_list(test_list))"
   ]
  },
  {
   "cell_type": "code",
   "execution_count": 295,
   "id": "a189ced5-669d-406f-9746-ffc5070d000d",
   "metadata": {
    "tags": []
   },
   "outputs": [
    {
     "name": "stdout",
     "output_type": "stream",
     "text": [
      "black\n",
      "white\n",
      "green\n",
      "red\n",
      ".........................................................................\n",
      "3 black\n",
      "2 white\n",
      "1 green\n",
      "0 red\n",
      ".........................................................................\n"
     ]
    },
    {
     "data": {
      "text/plain": [
       "['black', 'white', 'green', 'red']"
      ]
     },
     "execution_count": 295,
     "metadata": {},
     "output_type": "execute_result"
    }
   ],
   "source": [
    "for i in reversed(x):\n",
    "    print(i)\n",
    "##############################################################################\n",
    "print('.........................................................................')\n",
    "for i,j in reversed(list(enumerate(x))):\n",
    "    print(i,j)\n",
    "##############################################################################\n",
    "print('.........................................................................')\n",
    "x=['red', 'green', 'white', 'black']\n",
    "x[-1::-1]"
   ]
  },
  {
   "cell_type": "code",
   "execution_count": 310,
   "id": "c9874fe0-2ca3-4422-8f26-168aaa6bbd7f",
   "metadata": {
    "tags": []
   },
   "outputs": [
    {
     "name": "stdin",
     "output_type": "stream",
     "text": [
      "Enter a string: white\n"
     ]
    },
    {
     "name": "stdout",
     "output_type": "stream",
     "text": [
      "['red', 'green', 'black', 'orange', 'white']\n",
      ".........................................................................\n"
     ]
    },
    {
     "name": "stdin",
     "output_type": "stream",
     "text": [
      "Enter a string: red\n"
     ]
    },
    {
     "name": "stdout",
     "output_type": "stream",
     "text": [
      "['green', 'black', 'orange', 'white', 'red']\n",
      ".........................................................................\n"
     ]
    },
    {
     "name": "stdin",
     "output_type": "stream",
     "text": [
      "Enter a string: black\n"
     ]
    },
    {
     "name": "stdout",
     "output_type": "stream",
     "text": [
      "['green', 'orange', 'white', 'red', 'black']\n"
     ]
    }
   ],
   "source": [
    "def seq(x,n):\n",
    "    x.append(x.pop(x.index(n)))\n",
    "    return x\n",
    "x=['red', 'green', 'white', 'black', 'orange']\n",
    "n=input('Enter a string:')\n",
    "print(seq(x,n))\n",
    "##############################################################################\n",
    "print('.........................................................................')\n",
    "n=input('Enter a string:')\n",
    "print(seq(x,n))\n",
    "##############################################################################\n",
    "print('.........................................................................')\n",
    "n=input('Enter a string:')\n",
    "print(seq(x,n))"
   ]
  },
  {
   "cell_type": "code",
   "execution_count": 3,
   "id": "ef72e451-b3c8-442c-878d-7927849f6b4c",
   "metadata": {
    "tags": []
   },
   "outputs": [
    {
     "name": "stdout",
     "output_type": "stream",
     "text": [
      "[4.8, 5.8, 6.8, 8.0, 11.0]\n"
     ]
    }
   ],
   "source": [
    "import itertools as it\n",
    "x=[[0, 1, 2], [2, 3, 4], [3, 4, 5, 6], [7, 8, 9, 10, 11], [12, 13, 14]]\n",
    "def average_list(x):\n",
    "    x=[i for i in x if i is not None]\n",
    "    return sum(x, 0.0) /len(x)\n",
    "r=map(average_list, it.zip_longest(*x))\n",
    "print(list(r))"
   ]
  },
  {
   "cell_type": "code",
   "execution_count": 9,
   "id": "957c7a89-fcf1-4f1f-bf0d-ce8b7bdcab3d",
   "metadata": {
    "tags": []
   },
   "outputs": [
    {
     "name": "stdout",
     "output_type": "stream",
     "text": [
      "[1, 4]\n",
      ".........................................................................\n",
      "[4]\n",
      ".........................................................................\n",
      "[]\n"
     ]
    }
   ],
   "source": [
    "def find_index(x,y):\n",
    "    z=list(set(x) & set(y))\n",
    "    p=[x.index(i) for i in z]\n",
    "    return p\n",
    "x=[1, 2, 3, 4, 5, 6]\n",
    "y=[7, 8, 5, 2, 10, 12]\n",
    "print(find_index(x,y))\n",
    "##############################################################################\n",
    "print('.........................................................................')\n",
    "x=[1, 2, 3, 4, 5, 6]\n",
    "y=[7, 8, 5, 7, 10, 12]\n",
    "print(find_index(x,y))\n",
    "##############################################################################\n",
    "print('.........................................................................')\n",
    "x=[1, 2, 3, 4, 15, 6]\n",
    "y=[7, 8, 5, 7, 10, 12]\n",
    "print(find_index(x,y))"
   ]
  },
  {
   "cell_type": "code",
   "execution_count": 11,
   "id": "ad4f634d-c40f-4479-a680-46d9e4d33731",
   "metadata": {
    "tags": []
   },
   "outputs": [
    {
     "name": "stdout",
     "output_type": "stream",
     "text": [
      "['S001', 'S002', 'S003', 'S004']\n"
     ]
    }
   ],
   "source": [
    "s= [u'S001', u'S002', u'S003', u'S004']\n",
    "def unicode_str(s):\n",
    "    r=[str(x) for x in s]\n",
    "    return r\n",
    "print(unicode_str(s))"
   ]
  },
  {
   "cell_type": "code",
   "execution_count": 2,
   "id": "46df67ef-ea23-47b0-b522-eac95c23528c",
   "metadata": {
    "tags": []
   },
   "outputs": [
    {
     "name": "stdout",
     "output_type": "stream",
     "text": [
      "[[1, 2], [2, 3], [3, 4], [4, 5], [5, 6]]\n"
     ]
    }
   ],
   "source": [
    "x=[1, 2, 3, 4, 5, 6]\n",
    "p=[]\n",
    "for i in range(len(x)-1):\n",
    "    p.append([x[i],x[i+1]])\n",
    "print(p)"
   ]
  },
  {
   "cell_type": "code",
   "execution_count": 18,
   "id": "e11da19d-4a23-4302-a1f9-a198978cfc96",
   "metadata": {
    "tags": []
   },
   "outputs": [
    {
     "name": "stdout",
     "output_type": "stream",
     "text": [
      "True\n",
      ".........................................................................\n",
      "False\n"
     ]
    }
   ],
   "source": [
    "x='https://www.w3resource.com/python-exercises/list/'\n",
    "y=['.edu', '.tv','.com']\n",
    "p=[i for i in y if i in x]\n",
    "print(bool(p))\n",
    "##############################################################################\n",
    "print('.........................................................................')\n",
    "x=\"https://www.w3resource.net\"\n",
    "p=[i for i in y if i in x]\n",
    "print(bool(p))"
   ]
  },
  {
   "cell_type": "code",
   "execution_count": 26,
   "id": "c2c45bc5-8aa0-4805-82a8-b36f6e19945b",
   "metadata": {
    "tags": []
   },
   "outputs": [
    {
     "name": "stdout",
     "output_type": "stream",
     "text": [
      "[1, 4, 6, 7]\n"
     ]
    }
   ],
   "source": [
    "x=[1, None, 5, 4, None, 0, None, None]\n",
    "p=[]\n",
    "for i in range(len(x)):\n",
    "    if x[i]==None:\n",
    "        p.append(i)\n",
    "print(p)"
   ]
  },
  {
   "cell_type": "code",
   "execution_count": 31,
   "id": "81f65ae2-86b1-431b-8327-ab6feb810dfe",
   "metadata": {
    "tags": []
   },
   "outputs": [
    {
     "name": "stdout",
     "output_type": "stream",
     "text": [
      "['12', '34', '56', '78']\n",
      ".........................................................................\n",
      "['12']\n",
      ".........................................................................\n",
      "['12', '34']\n"
     ]
    }
   ],
   "source": [
    "x=['1', '2', '3', '4', '5', '6', '7', '8']\n",
    "p=[i+j for i,j in zip(x[::2],x[1::2])]\n",
    "print(p)\n",
    "##############################################################################\n",
    "print('.........................................................................')\n",
    "x=['1', '2', '3']\n",
    "p=[i+j for i,j in zip(x[::2],x[1::2])]\n",
    "print(p)\n",
    "##############################################################################\n",
    "print('.........................................................................')\n",
    "x=['1', '2', '3', '4', '5']\n",
    "p=[i+j for i,j in zip(x[::2],x[1::2])]\n",
    "print(p)"
   ]
  },
  {
   "cell_type": "code",
   "execution_count": 36,
   "id": "d631af7e-f23a-4ac1-a278-3318f7ff5da6",
   "metadata": {
    "tags": []
   },
   "outputs": [
    {
     "name": "stdout",
     "output_type": "stream",
     "text": [
      "False\n",
      ".........................................................................\n",
      "True\n",
      ".........................................................................\n",
      "True\n",
      ".........................................................................\n",
      "False\n"
     ]
    }
   ],
   "source": [
    "def check_first(x):\n",
    "    p=all(str(i)[0]==str(x[0])[0] for i in x)\n",
    "    return p\n",
    "x=[1234, 922, 1984, 19372, 100]\n",
    "print(check_first(x))\n",
    "##############################################################################\n",
    "print('.........................................................................')\n",
    "x=[1234, 122, 1984, 19372, 100]\n",
    "print(check_first(x))\n",
    "##############################################################################\n",
    "print('.........................................................................')\n",
    "x=['aabc', 'abc', 'ab', 'a']\n",
    "print(check_first(x))\n",
    "##############################################################################\n",
    "print('.........................................................................')\n",
    "x=['aabc', 'abc', 'ab', 'ha']\n",
    "print(check_first(x))"
   ]
  },
  {
   "cell_type": "code",
   "execution_count": 44,
   "id": "9052184f-1494-4d79-b261-cf5340e6a2d3",
   "metadata": {
    "tags": []
   },
   "outputs": [
    {
     "name": "stdin",
     "output_type": "stream",
     "text": [
      "Enter a number: 3000\n"
     ]
    },
    {
     "name": "stdout",
     "output_type": "stream",
     "text": [
      "[3, 6]\n",
      ".........................................................................\n"
     ]
    },
    {
     "name": "stdin",
     "output_type": "stream",
     "text": [
      "Enter a number: 20000\n"
     ]
    },
    {
     "name": "stdout",
     "output_type": "stream",
     "text": [
      "[]\n"
     ]
    }
   ],
   "source": [
    "x=[1234, 1522, 1984, 19372, 1000, 2342, 7626]\n",
    "y=int(input('Enter a number:'))\n",
    "p=[x.index(i) for i in x if i>y]\n",
    "print(p)\n",
    "##############################################################################\n",
    "print('.........................................................................')\n",
    "y=int(input('Enter a number:'))\n",
    "p=[x.index(i) for i in x if i>y]\n",
    "print(p)"
   ]
  },
  {
   "cell_type": "code",
   "execution_count": 49,
   "id": "60f2aa76-1c0c-4bd0-80cc-3ed8cc58daf1",
   "metadata": {
    "tags": []
   },
   "outputs": [
    {
     "name": "stdout",
     "output_type": "stream",
     "text": [
      "['abc', '', '', 'sdfds', '', '', 'sdfds', 'huy']\n"
     ]
    }
   ],
   "source": [
    "x=['abc ', ' ', ' ', 'sdfds ', ' ', ' ', 'sdfds ', 'huy']\n",
    "p=[]\n",
    "for i in x:\n",
    "    j=i.replace(' ','')\n",
    "    p.append(j)\n",
    "print(p)"
   ]
  },
  {
   "cell_type": "code",
   "execution_count": 3,
   "id": "bb608114-28d4-4a97-b135-bd47c22dd04e",
   "metadata": {},
   "outputs": [
    {
     "name": "stdout",
     "output_type": "stream",
     "text": [
      "[('red', 'green'), ('orange', 'pink')]\n",
      "[('red', 'green'), ('orange', 'pink')]\n"
     ]
    }
   ],
   "source": [
    "x=[('red', 'green'), ('black', 'white'), ('orange', 'pink')]\n",
    "y=[('red', 'green'), ('orange', 'pink')]\n",
    "p=[i for i in x if i in y]\n",
    "print(p)\n",
    "y=[('red', 'green'), ('black', 'white'), ('orange', 'pink')]\n",
    "x=[('red', 'green'), ('orange', 'pink')]\n",
    "p=[i for i in x if i in y]\n",
    "print(p)"
   ]
  },
  {
   "cell_type": "code",
   "execution_count": 21,
   "id": "0f83dc30-856e-4cfb-8ede-39233016f591",
   "metadata": {
    "tags": []
   },
   "outputs": [
    {
     "name": "stdout",
     "output_type": "stream",
     "text": [
      "[1.5, 2.5, 3.5, 4.5, 5.5, 6.5]\n",
      ".........................................................................\n",
      "[0.5, -1.0, 0.0, 5.0, 1.0, 0.5, 6.5, 9.0]\n"
     ]
    }
   ],
   "source": [
    "x=[1, 2, 3, 4, 5, 6, 7]\n",
    "p=[(x[i]+x[i+1]) for i in range(0,len(x)-1)]\n",
    "q=[j/2 for j in p]\n",
    "print(q)\n",
    "##############################################################################\n",
    "print('.........................................................................')\n",
    "x=[0, 1, -3, 3, 7, -5, 6, 7, 11]\n",
    "p=[(x[i]+x[i+1]) for i in range(0,len(x)-1)]\n",
    "q=[j/2 for j in p]\n",
    "print(q)"
   ]
  },
  {
   "cell_type": "code",
   "execution_count": 23,
   "id": "59b40aa0-91cf-46c6-9ef0-e1b4cf40235f",
   "metadata": {
    "tags": []
   },
   "outputs": [
    {
     "name": "stdout",
     "output_type": "stream",
     "text": [
      "4\n",
      "7\n"
     ]
    }
   ],
   "source": [
    "def test(x):\n",
    "    p_d=0\n",
    "    c=0\n",
    "    for d in x:\n",
    "        if p_d==0 and d!=0:\n",
    "            c+=1\n",
    "        p_d=d\n",
    "    return c\n",
    "x=[3, 4, 6, 2, 0, 0, 0, 0, 0, 0, 6, 7, 6, 9, 10, 0, 0, 0, 0, 0, 5, 9, 9, 7, 4, 4, 0, 0, 0, 0, 0, 0, 5, 3, 2, 9, 7, 1]\n",
    "print(test(x))\n",
    "x=[3, 4, 6, 2, 0, 0, 0, 0, 0, 0, 6, 7, 6, 9, 10, 0, 0, 0, 0, 0, 5, 9, 9, 7, 4, 4, 0, 0, 0, 0, 0, 0, 5, 3, 2, 9, 7, 1,3, 4, 6, 2, 0, 0, 0, 0, 0, 0, 6, 7, 6, 9, 10, 0, 0, 0, 0, 0, 5, 9, 9, 7, 4, 4, 0, 0, 0, 0, 0, 0, 5, 3, 2, 9, 7, 1]\n",
    "print(test(x))"
   ]
  },
  {
   "cell_type": "code",
   "execution_count": 32,
   "id": "da2b43a8-6adf-4a4f-a9af-1ddd7ec548b1",
   "metadata": {
    "tags": []
   },
   "outputs": [
    {
     "name": "stdout",
     "output_type": "stream",
     "text": [
      "[15, 38, 15, 27]\n"
     ]
    }
   ],
   "source": [
    "x=[3, 4, 6, 2, 0, 0, 0, 0, 0, 0, 6, 7, 6, 9, 10, 0, 0, 0, 0, 0, 7, 4, 4, 0, 0, 0, 0, 0, 0, 5, 3, 2, 9, 7, 1, 0, 0, 0]\n",
    "p=[]\n",
    "p_d=0\n",
    "for i in x:\n",
    "    if i==0:\n",
    "        if p_d!=0:\n",
    "            p.append(p_d)\n",
    "            p_d=0\n",
    "    else:\n",
    "        p_d+=i\n",
    "if p_d>0:\n",
    "    p.append(p_d)\n",
    "print(p)"
   ]
  },
  {
   "cell_type": "code",
   "execution_count": 33,
   "id": "64b6df33-aea1-463c-b6be-6394b79c7e36",
   "metadata": {
    "tags": []
   },
   "outputs": [
    {
     "name": "stdout",
     "output_type": "stream",
     "text": [
      "[98, 'Math', 90, 'Science']\n"
     ]
    }
   ],
   "source": [
    "x=['Ricky Rivera', 98, 'Math', 90, 'Science']\n",
    "x.pop(0)\n",
    "print(x)"
   ]
  },
  {
   "cell_type": "code",
   "execution_count": 39,
   "id": "44ec7e28-c729-46d5-85d4-b281743789ed",
   "metadata": {
    "tags": []
   },
   "outputs": [
    {
     "name": "stdout",
     "output_type": "stream",
     "text": [
      "[12, 0]\n"
     ]
    }
   ],
   "source": [
    "x=[34.67, 12, -94.89, 'Python', 0, 'C#']\n",
    "p=[i for i in x if isinstance(i,int)]\n",
    "print(p)"
   ]
  },
  {
   "cell_type": "code",
   "execution_count": 51,
   "id": "72f2d5ab-3e6f-465a-abe2-0f41d8f3e23a",
   "metadata": {
    "tags": []
   },
   "outputs": [
    {
     "name": "stdout",
     "output_type": "stream",
     "text": [
      "Sum of two lowest negative numbers of the said array of integers:\n",
      "-27\n",
      ".........................................................................\n",
      "Sum of two lowest negative numbers of the said array of integers:\n",
      "-6\n"
     ]
    }
   ],
   "source": [
    "def sum_negative(x):\n",
    "    p=0\n",
    "    q=sorted(i for i in x if i<p)\n",
    "    return (q[0]+q[1])\n",
    "x=[-14, 15, -10, -11, -12, -13, 16, 17, 18, 19, 20]\n",
    "print('Sum of two lowest negative numbers of the said array of integers:\\n',sum_negative(x),sep='')\n",
    "##############################################################################\n",
    "print('.........................................................................')\n",
    "x=[-4, 5, -2, 0, 3, -1, 4, 9]\n",
    "print('Sum of two lowest negative numbers of the said array of integers:\\n',sum_negative(x),sep='')"
   ]
  },
  {
   "cell_type": "code",
   "execution_count": 63,
   "id": "92946339-952d-4bc3-86dc-955bba16bc0e",
   "metadata": {
    "tags": []
   },
   "outputs": [
    {
     "name": "stdout",
     "output_type": "stream",
     "text": [
      "Descending order of the said number:\n",
      "544331\n",
      "Ascending order of the said number:\n",
      "133445\n",
      ".........................................................................\n",
      "Descending order of the said number:\n",
      "97754330\n",
      "Ascending order of the said number:\n",
      "3345779\n"
     ]
    }
   ],
   "source": [
    "x=134543\n",
    "def test_dsc(x):\n",
    "    return int(''.join(sorted(str(x), reverse=True)))\n",
    "def test_asc(x):\n",
    "    return int(''.join(sorted(list(str(x)))[::1]))\n",
    "print('Descending order of the said number:\\n',test_dsc(x),sep='')\n",
    "print('Ascending order of the said number:\\n',test_asc(x),sep='')\n",
    "##############################################################################\n",
    "print('.........................................................................')\n",
    "x=43750973\n",
    "print('Descending order of the said number:\\n',test_dsc(x),sep='')\n",
    "print('Ascending order of the said number:\\n',test_asc(x),sep='')"
   ]
  },
  {
   "cell_type": "code",
   "execution_count": 67,
   "id": "143192c8-7681-4b28-a7cc-b7e08a69b0ed",
   "metadata": {
    "tags": []
   },
   "outputs": [
    {
     "name": "stdout",
     "output_type": "stream",
     "text": [
      "[['a', 1, True], ['b', 2, False]]\n",
      "[['a', 1, True], [None, 2, False]]\n",
      "[['a', 1, True], ['_', 2, False]]\n"
     ]
    }
   ],
   "source": [
    "def merge(*x,f=None):\n",
    "    m=max([len(i) for i in x])\n",
    "    r=[]\n",
    "    for j in range(m):\n",
    "        r.append([x[k][j] if j<len(x[k]) else f for k in range(len(x))])\n",
    "    return r\n",
    "print(merge(['a', 'b'], [1, 2], [True, False]))  \n",
    "print(merge(['a'], [1, 2], [True, False]))  \n",
    "print(merge(['a'], [1, 2], [True, False], f='_'))"
   ]
  },
  {
   "cell_type": "code",
   "execution_count": 68,
   "id": "dbdba6e4-36b2-465a-b718-5e9afecde26c",
   "metadata": {
    "tags": []
   },
   "outputs": [
    {
     "name": "stdout",
     "output_type": "stream",
     "text": [
      "{6: 2, 4: 1}\n",
      "{3: 2, 5: 1}\n"
     ]
    }
   ],
   "source": [
    "from collections import defaultdict\n",
    "def group(x,f=lambda y: y):\n",
    "    c=defaultdict(int)\n",
    "    for i in map(f,x):\n",
    "        c[i]+=1\n",
    "    return dict(c)\n",
    "from math import floor\n",
    "print(group([6.1,4.2,6.3],floor))\n",
    "print(group(['one','two','three'],len))"
   ]
  },
  {
   "cell_type": "code",
   "execution_count": 72,
   "id": "51a9811d-4500-42eb-b16c-8b029d954032",
   "metadata": {
    "tags": []
   },
   "outputs": [
    {
     "name": "stdout",
     "output_type": "stream",
     "text": [
      "[['white'], ['red', 'green', 'black']]\n"
     ]
    }
   ],
   "source": [
    "def bi(x,f):\n",
    "    return [[i for i in x if f(i)],[i for i in x if not f(i)]]\n",
    "print(bi(['red', 'green', 'black', 'white'], lambda i: i[0] == 'w'))"
   ]
  },
  {
   "cell_type": "code",
   "execution_count": 73,
   "id": "44ffb0f7-405b-4bc5-8b10-9a87f7b0dbab",
   "metadata": {
    "tags": []
   },
   "outputs": [
    {
     "name": "stdout",
     "output_type": "stream",
     "text": [
      "['apples', 'bread', 'eggs', 'jam', 'milk', 'oranges']\n",
      "['oranges', 'milk', 'jam', 'eggs', 'bread', 'apples']\n"
     ]
    }
   ],
   "source": [
    "def sort_index(x,i,reverse=False):\n",
    "    return [j for (_,j) in sorted(zip(i,x), key=lambda k: k[0], reverse=reverse)]\n",
    "x=['eggs', 'bread', 'oranges', 'jam', 'apples', 'milk']\n",
    "i=[3, 2, 6, 4, 1, 5]\n",
    "print(sort_index(x,i))\n",
    "print(sort_index(x,i,True))"
   ]
  },
  {
   "cell_type": "code",
   "execution_count": 76,
   "id": "37c4a282-2677-4e91-8141-fd4a97879fae",
   "metadata": {
    "tags": []
   },
   "outputs": [
    {
     "name": "stdout",
     "output_type": "stream",
     "text": [
      "[-10, -20, -30, -40]\n"
     ]
    }
   ],
   "source": [
    "def unfold(x,seed):\n",
    "    def fn_ge(y):\n",
    "        while True:\n",
    "            y=x(y[1])\n",
    "            if y ==False:\n",
    "                break\n",
    "            yield y[0]\n",
    "    return [i for i in fn_ge([None,seed])]\n",
    "x=lambda n: False if n>40 else [-n,n + 10]\n",
    "print(unfold(x,10))"
   ]
  },
  {
   "cell_type": "code",
   "execution_count": 78,
   "id": "3814f5ab-3cd0-4812-84cf-b1dce7c3cdf9",
   "metadata": {
    "tags": []
   },
   "outputs": [
    {
     "name": "stdout",
     "output_type": "stream",
     "text": [
      "{1: 1, 2: 4, 3: 9}\n"
     ]
    }
   ],
   "source": [
    "def map_dict(x,f):\n",
    "    return dict(zip(x,map(f,x)))\n",
    "print(map_dict([1,2,3], lambda i: i *i))"
   ]
  },
  {
   "cell_type": "code",
   "execution_count": 92,
   "id": "af924917-4ec4-45f2-82d4-ef43e58d701c",
   "metadata": {
    "tags": []
   },
   "outputs": [
    {
     "name": "stdout",
     "output_type": "stream",
     "text": [
      "[3, 4, 2, 6, 1, 5]\n"
     ]
    }
   ],
   "source": [
    "from random import randint \n",
    "from copy import deepcopy\n",
    "x=[1, 2, 3, 4, 5, 6]\n",
    "y=deepcopy(x)\n",
    "m=len(y)\n",
    "while (m):\n",
    "    m-=1\n",
    "    i=randint(0,m)\n",
    "    y[m],y[i]=y[i],y[m]\n",
    "print(y)"
   ]
  },
  {
   "cell_type": "code",
   "execution_count": 93,
   "id": "dbcab06f-59dc-4894-8d33-0a6f14df6067",
   "metadata": {
    "tags": []
   },
   "outputs": [
    {
     "name": "stdout",
     "output_type": "stream",
     "text": [
      "[1.2]\n",
      "[{'x': 2}]\n"
     ]
    }
   ],
   "source": [
    "from math import floor\n",
    "def diff(x,y,z):\n",
    "    _y=set(map(z,y))\n",
    "    return [i for i in x if z(i) not in _y]\n",
    "print(diff([2.1,1.2],[2.3,3.4],floor))\n",
    "print(diff([{'x' : 2},{'x' :1}],[{'x':1}],lambda v: v['x']))"
   ]
  },
  {
   "cell_type": "code",
   "execution_count": 106,
   "id": "e92fdae8-4182-48e9-bc20-a5e82a1919ce",
   "metadata": {
    "tags": []
   },
   "outputs": [
    {
     "name": "stdout",
     "output_type": "stream",
     "text": [
      "[1, 3, 5]\n"
     ]
    }
   ],
   "source": [
    "from collections import Counter\n",
    "def filter_unique(x):\n",
    "    return [i for i,c in Counter(x).items() if c==1]\n",
    "x=[1,3,5,2,4,6,7,8,9,8,9,7,4,2,6]\n",
    "print(filter_unique(x))"
   ]
  },
  {
   "cell_type": "code",
   "execution_count": 107,
   "id": "1c4eedc9-c7bc-45e5-9b68-ae97637d9b2c",
   "metadata": {
    "tags": []
   },
   "outputs": [
    {
     "name": "stdout",
     "output_type": "stream",
     "text": [
      "[2, 4, 6]\n"
     ]
    }
   ],
   "source": [
    "from collections import Counter\n",
    "def filter_unique(x):\n",
    "    return [i for i,c in Counter(x).items() if c!=1]\n",
    "x=[1,3,5,2,4,6,2,4,6]\n",
    "print(filter_unique(x))"
   ]
  },
  {
   "cell_type": "code",
   "execution_count": 116,
   "id": "9caa44b8-cbb8-4ea1-8d85-4ccd56bb4fb6",
   "metadata": {
    "tags": []
   },
   "outputs": [
    {
     "name": "stdout",
     "output_type": "stream",
     "text": [
      "Pawan\n",
      "3\n"
     ]
    }
   ],
   "source": [
    "from functools import reduce\n",
    "from operator import getitem\n",
    "def get(d,selectors):\n",
    "    return reduce(getitem, selectors, d)\n",
    "users={\n",
    "    'freddy':{\n",
    "        'name':{\n",
    "            'first':'Pawan',\n",
    "            'last':'Yadav'\n",
    "        },\n",
    "        'postid':[1,2,3]\n",
    "    }\n",
    "}\n",
    "print(get(users,['freddy','name','first']))\n",
    "print(get(users,['freddy','postid',2]))"
   ]
  },
  {
   "cell_type": "code",
   "execution_count": 126,
   "id": "64c17698-18ed-410b-a788-108a928f8c64",
   "metadata": {
    "tags": []
   },
   "outputs": [
    {
     "name": "stdout",
     "output_type": "stream",
     "text": [
      "[2.1]\n"
     ]
    }
   ],
   "source": [
    "from math import floor\n",
    "x=[2.1,1.2]\n",
    "y=[2.3,3.4]\n",
    "def uni(x,y,f):\n",
    "    p=set(map(f,y))\n",
    "    return [i for i in x if f(i) in p]\n",
    "print(uni(x,y,floor))"
   ]
  },
  {
   "cell_type": "code",
   "execution_count": 10,
   "id": "060e0063-e4b0-48e8-a406-aa8278c5216e",
   "metadata": {},
   "outputs": [
    {
     "name": "stdout",
     "output_type": "stream",
     "text": [
      "[1.2, 3.4]\n"
     ]
    }
   ],
   "source": [
    "p=[2.1,1.2]\n",
    "q=[2.3,3.4]\n",
    "def uni_diff(p,q,f):\n",
    "    (_p,_q)=(set(map(f,p)),set(map(f,q)))\n",
    "    return [i for i in p if f(i) not in _q] + [i for i in q if f(i) not in _p]\n",
    "from math import floor\n",
    "print(uni_diff(p,q,floor))"
   ]
  },
  {
   "cell_type": "code",
   "execution_count": 13,
   "id": "5ede729b-eb6b-489c-99b3-42998bfcf6b4",
   "metadata": {
    "tags": []
   },
   "outputs": [
    {
     "name": "stdout",
     "output_type": "stream",
     "text": [
      "[2.2, 4.1]\n"
     ]
    }
   ],
   "source": [
    "def union_by(x,y,f):\n",
    "    _x=set(map(f,x))\n",
    "    r=x+[i for i in y if f(i) not in _x]\n",
    "    return list(set(r))\n",
    "from math import floor\n",
    "print(union_by([4.1], [2.2, 4.3], floor))"
   ]
  },
  {
   "cell_type": "code",
   "execution_count": 22,
   "id": "1110bfaf-b550-48c5-9618-041b31093d23",
   "metadata": {
    "tags": []
   },
   "outputs": [
    {
     "name": "stdin",
     "output_type": "stream",
     "text": [
      "Enter a number 1\n"
     ]
    },
    {
     "name": "stdout",
     "output_type": "stream",
     "text": [
      "0\n",
      "...........................................................................\n",
      "0\n"
     ]
    }
   ],
   "source": [
    "x=[1,2,3,4,5,6,7,8]\n",
    "def index_fun(x,n):\n",
    "    return x.index(n)\n",
    "n=int(input('Enter a number'))\n",
    "print(index_fun(x,n))\n",
    "###################################################################################\n",
    "print('...........................................................................')\n",
    "x=[1,2,3,4,5,6,7,8]\n",
    "def index_fun(x,n):\n",
    "    return next(i for i,y in enumerate(x) if n(y))\n",
    "print(index_fun(x, lambda n: n%2==1))"
   ]
  },
  {
   "cell_type": "code",
   "execution_count": 28,
   "id": "e9b273f9-7e0b-4880-9ee5-3e6ac49a5177",
   "metadata": {
    "tags": []
   },
   "outputs": [
    {
     "name": "stdout",
     "output_type": "stream",
     "text": [
      "[0, 2]\n"
     ]
    }
   ],
   "source": [
    "x=[1,2,3,4]\n",
    "def index_fun(x,n):\n",
    "    return [i for i,y in enumerate(x) if n(y)]\n",
    "print(index_fun(x, lambda n: n%2==1))"
   ]
  },
  {
   "cell_type": "code",
   "execution_count": 30,
   "id": "f25276b3-53f7-40ed-a112-4e84c0de561d",
   "metadata": {
    "tags": []
   },
   "outputs": [
    {
     "name": "stdout",
     "output_type": "stream",
     "text": [
      "[['red', 'green', 'pink'], ['blue']]\n"
     ]
    }
   ],
   "source": [
    "def bif(c,filter):\n",
    "    return [[x for x, flag in zip(c,filter) if flag],\n",
    "            [x for x, flag in zip(c,filter) if not flag]\n",
    "           ]\n",
    "print(bif(['red','green','blue','pink'],[True,True,False,True]))"
   ]
  },
  {
   "cell_type": "code",
   "execution_count": 31,
   "id": "26f3dd56-da1f-4e56-b2ee-1a6cae04a7d1",
   "metadata": {
    "tags": []
   },
   "outputs": [
    {
     "name": "stdout",
     "output_type": "stream",
     "text": [
      "[[1, 2, 3], [4, 5, 6], [7, 8]]\n"
     ]
    }
   ],
   "source": [
    "from math import ceil\n",
    "def chunk(x,s):\n",
    "    return list(map(lambda i: x[i * s:i * s + s],\n",
    "                    list(range(ceil(len(x)/s)))))\n",
    "print(chunk([1,2,3,4,5,6,7,8],3))"
   ]
  },
  {
   "cell_type": "code",
   "execution_count": 2,
   "id": "f60409ea-aece-4380-9e77-012957c5b253",
   "metadata": {
    "tags": []
   },
   "outputs": [
    {
     "name": "stdout",
     "output_type": "stream",
     "text": [
      "[[1, 2], [3, 4], [5, 6], [7]]\n"
     ]
    }
   ],
   "source": [
    "from math import ceil\n",
    "def chunk_p(x,s):\n",
    "    n=ceil(len(x)/s)\n",
    "    return list(map(lambda i: x[i * n:i * n + n],\n",
    "                    list(range(s))))\n",
    "print(chunk_p([1,2,3,4,5,6,7],4))"
   ]
  },
  {
   "cell_type": "code",
   "execution_count": 12,
   "id": "5c9347e7-4e75-4ee5-ad30-3d140be88bb8",
   "metadata": {},
   "outputs": [
    {
     "name": "stdout",
     "output_type": "stream",
     "text": [
      "[1, 2, 3]\n",
      "[1, 3, 4, 7, 8, 2, 3]\n",
      "...........................................................................\n",
      "[1, 2, 3]\n",
      "[1, 3, 4, 7, 8, 2, 3]\n"
     ]
    }
   ],
   "source": [
    "def int_list(x):\n",
    "    return [i for i in x]\n",
    "print(int_list((1,2,3)))\n",
    "print(int_list((1,3,4,7,8,2,3)))\n",
    "###################################################################################\n",
    "print('...........................................................................')\n",
    "def digitize(n):\n",
    "    return list(map(int,str(n)))\n",
    "print(digitize(123))\n",
    "print(digitize(1347823))"
   ]
  },
  {
   "cell_type": "code",
   "execution_count": 23,
   "id": "91b27c68-ff1b-4bae-8c32-2a4635ee5fb5",
   "metadata": {
    "tags": []
   },
   "outputs": [
    {
     "name": "stdout",
     "output_type": "stream",
     "text": [
      "2\n"
     ]
    }
   ],
   "source": [
    "x=[1,2,3,4]\n",
    "def index_fun(x,n):\n",
    "    return len(x) - 1 - next(i for i,y in enumerate(x[::-1]) if n(y))\n",
    "print(index_fun(x, lambda n: n%2==1))"
   ]
  },
  {
   "cell_type": "code",
   "execution_count": 25,
   "id": "beee9fa1-da5c-412c-84e9-4542f8758032",
   "metadata": {
    "tags": []
   },
   "outputs": [
    {
     "name": "stdout",
     "output_type": "stream",
     "text": [
      "[1, 3]\n",
      "[2, 4, 6]\n"
     ]
    }
   ],
   "source": [
    "from collections import Counter\n",
    "def find_parity_outliers(x):\n",
    "    return [i for i in x if i%2 != Counter([n%2 for n in x]).most_common()[0][0]]\n",
    "print(find_parity_outliers([1, 2, 3, 4, 6]))\n",
    "print(find_parity_outliers([1, 2, 3, 4, 5, 6, 7])) "
   ]
  },
  {
   "cell_type": "code",
   "execution_count": 26,
   "id": "be0b8125-4bbd-4ca0-8516-c20041f81fc5",
   "metadata": {
    "tags": []
   },
   "outputs": [
    {
     "name": "stdout",
     "output_type": "stream",
     "text": [
      "[8, 36, 34, 10]\n"
     ]
    }
   ],
   "source": [
    "def pluck(x,key):\n",
    "    return [i.get(key) for i in x]\n",
    "pawan=[\n",
    "    { 'name': 'Areeba', 'age': 8 },\n",
    "    { 'name': 'Zachariah', 'age': 36 },\n",
    "    { 'name': 'Caspar', 'age': 34 },\n",
    "    { 'name': 'Presley', 'age': 10 }\n",
    "]\n",
    "print(pluck(pawan,'age'))"
   ]
  },
  {
   "cell_type": "code",
   "execution_count": 30,
   "id": "2932b8b2-4704-4c10-bedf-e57912073d3f",
   "metadata": {
    "tags": []
   },
   "outputs": [
    {
     "name": "stdout",
     "output_type": "stream",
     "text": [
      "5.0\n",
      "15.0\n"
     ]
    }
   ],
   "source": [
    "def average_by(x,fn):\n",
    "    return sum(map(fn,x), 0.0)/len(x)\n",
    "print(average_by([{ 'n': 4 }, { 'n': 2 }, { 'n': 8 }, { 'n': 6 }], lambda x: x['n']))\n",
    "print(average_by([{ 'n': 10 }, { 'n': 20 }, { 'n': -30 }, { 'n': 60 }], lambda x: x['n'])) "
   ]
  },
  {
   "cell_type": "code",
   "execution_count": 32,
   "id": "57ece40c-ddc8-499f-b848-f9d41f278fcc",
   "metadata": {
    "tags": []
   },
   "outputs": [
    {
     "name": "stdout",
     "output_type": "stream",
     "text": [
      "1\n",
      "2\n"
     ]
    }
   ],
   "source": [
    "def find(x,n):\n",
    "    return next(i for i in x if n(i))\n",
    "print(find([1,2,3,4], lambda y: y%2 == 1))\n",
    "print(find([1,2,3,4], lambda y: y%2 == 0))"
   ]
  },
  {
   "cell_type": "code",
   "execution_count": 35,
   "id": "a360e32d-ae0f-4d85-94e0-ab7368d03ef4",
   "metadata": {
    "tags": []
   },
   "outputs": [
    {
     "name": "stdout",
     "output_type": "stream",
     "text": [
      "3\n",
      "4\n"
     ]
    }
   ],
   "source": [
    "def find_last(x,n):\n",
    "    return next(i for i in x[::-1] if n(i))\n",
    "print(find_last([1,2,3,4], lambda y: y%2 == 1))\n",
    "print(find_last([1,2,3,4], lambda y: y%2 == 0))"
   ]
  },
  {
   "cell_type": "code",
   "execution_count": 40,
   "id": "2ab56ec9-1cf2-45c6-8f6b-6622947e4f4d",
   "metadata": {
    "tags": []
   },
   "outputs": [
    {
     "name": "stdout",
     "output_type": "stream",
     "text": [
      "{'a': 4, 'b': 2, 'f': 2, 'c': 1, 'e': 2}\n",
      "{3: 4, 4: 2, 7: 1, 5: 2, 9: 1, 0: 1, 2: 1}\n"
     ]
    }
   ],
   "source": [
    "from collections import defaultdict\n",
    "def frequency(x):\n",
    "    freq=defaultdict(int)\n",
    "    for i in x:\n",
    "        freq[i]+=1\n",
    "    return dict(freq)\n",
    "print(frequency(['a', 'b', 'f', 'a', 'c', 'e', 'a', 'a', 'b', 'e', 'f']))\n",
    "print(frequency([3, 4, 7, 5, 9, 3, 4, 5, 0, 3, 2, 3]))"
   ]
  },
  {
   "cell_type": "code",
   "execution_count": 42,
   "id": "b6216457-bf57-430a-8faf-4a5744eb671e",
   "metadata": {
    "tags": []
   },
   "outputs": [
    {
     "name": "stdout",
     "output_type": "stream",
     "text": [
      "[30, 40]\n"
     ]
    }
   ],
   "source": [
    "def symmetric(x,y):\n",
    "    p,q=set(x), set(y)\n",
    "    symmetric_diff=[i for i in x if i not in q] +[i for i in y if i not in p]\n",
    "    return symmetric_diff\n",
    "print(symmetric([10,20,30],[10,20,40]))"
   ]
  },
  {
   "cell_type": "code",
   "execution_count": 43,
   "id": "d8acbec1-e385-46ca-b9df-0e231a8b9c81",
   "metadata": {
    "tags": []
   },
   "outputs": [
    {
     "name": "stdout",
     "output_type": "stream",
     "text": [
      "True\n",
      "False\n",
      "False\n"
     ]
    }
   ],
   "source": [
    "def every(x,n):\n",
    "    return all(map(n,x))\n",
    "print(every([4, 2, 3], lambda x: x > 1))\n",
    "print(every([4, 2, 3], lambda x: x < 1))\n",
    "print(every([4, 2, 3], lambda x: x == 1)) "
   ]
  },
  {
   "cell_type": "code",
   "execution_count": 46,
   "id": "aa2ef98b-bbee-42be-ab00-1fbb8b3c37d7",
   "metadata": {
    "tags": []
   },
   "outputs": [
    {
     "name": "stdout",
     "output_type": "stream",
     "text": [
      "[1, 2, 4, 8, 16, 32, 64, 128, 256]\n",
      "[3, 6, 12, 24, 48, 96, 192]\n",
      "[1, 4, 16, 64, 256]\n"
     ]
    }
   ],
   "source": [
    "from math import floor, log\n",
    "def gp(end, start=1, step=2):\n",
    "    n=floor(log(end/start) / log(step) + 1)\n",
    "    p=[start * step ** i for i in range(n)]\n",
    "    return p\n",
    "print(gp(256))\n",
    "print(gp(256, 3))\n",
    "print(gp(256, 1, 4)) "
   ]
  },
  {
   "cell_type": "code",
   "execution_count": 47,
   "id": "51f30433-7ba5-4a4d-8f37-bd83d4b97cb7",
   "metadata": {
    "tags": []
   },
   "outputs": [
    {
     "name": "stdout",
     "output_type": "stream",
     "text": [
      "Green\n",
      "[1, 2, 3, 4, 5]\n",
      "[1, 2, 3, 4]\n"
     ]
    }
   ],
   "source": [
    "def longest(*args):\n",
    "    return max(args, key=len)\n",
    "print(longest('this', 'is', 'a', 'Green'))\n",
    "print(longest([1, 2, 3], [1, 2], [1, 2, 3, 4, 5]))\n",
    "print(longest([1, 2, 3, 4], 'Red'))"
   ]
  },
  {
   "cell_type": "code",
   "execution_count": 49,
   "id": "4efef10d-fa05-4044-868d-4bec5b819a9b",
   "metadata": {
    "tags": []
   },
   "outputs": [
    {
     "name": "stdout",
     "output_type": "stream",
     "text": [
      "True\n",
      "False\n"
     ]
    }
   ],
   "source": [
    "def atleast(x,n):\n",
    "    return any(map(n,x))\n",
    "print(atleast([0,1,2,0], lambda x: x >= 2))\n",
    "print(atleast([5,10,15,10], lambda x: x < 2)) "
   ]
  },
  {
   "cell_type": "code",
   "execution_count": 51,
   "id": "cf44ed77-babb-4af7-9847-60ae4278dab4",
   "metadata": {
    "tags": []
   },
   "outputs": [
    {
     "name": "stdout",
     "output_type": "stream",
     "text": [
      "[3]\n"
     ]
    }
   ],
   "source": [
    "def difff(x,y):\n",
    "    p=set(y)\n",
    "    return [i for i in x if i not in p]\n",
    "print(difff([1,2,3],[1,2,4]))"
   ]
  },
  {
   "cell_type": "code",
   "execution_count": 56,
   "id": "8b8bd750-f16f-4f47-b573-a5e5e2720009",
   "metadata": {
    "tags": []
   },
   "outputs": [
    {
     "name": "stdout",
     "output_type": "stream",
     "text": [
      "Max:-\n",
      "8\n"
     ]
    }
   ],
   "source": [
    "def max_by(x,n):\n",
    "    return max(map(n,x))\n",
    "print('Max:-')\n",
    "print(max_by([{'n':4},{'n':2},{'n':8},{\"n\":6}], lambda z: z['n']))"
   ]
  },
  {
   "cell_type": "code",
   "execution_count": 55,
   "id": "e7048e17-ebfc-4cec-9af6-03c4041ecc35",
   "metadata": {
    "tags": []
   },
   "outputs": [
    {
     "name": "stdout",
     "output_type": "stream",
     "text": [
      "Min:-\n",
      "2\n"
     ]
    }
   ],
   "source": [
    "def min_by(x,n):\n",
    "    return min(map(n,x))\n",
    "print('Min:-')\n",
    "print(min_by([{'n':4},{'n':2},{'n':8},{\"n\":6}], lambda z: z['n']))"
   ]
  },
  {
   "cell_type": "code",
   "execution_count": 58,
   "id": "f001d4c1-62e3-4e67-848b-e5da20207386",
   "metadata": {
    "tags": []
   },
   "outputs": [
    {
     "name": "stdout",
     "output_type": "stream",
     "text": [
      "Sum:-\n",
      "20\n"
     ]
    }
   ],
   "source": [
    "def min_by(x,n):\n",
    "    return sum(map(n,x))\n",
    "print('Sum:-')\n",
    "print(min_by([{'n':4},{'n':2},{'n':8},{\"n\":6}], lambda z: z['n']))"
   ]
  },
  {
   "cell_type": "code",
   "execution_count": 60,
   "id": "014a3e45-fd6c-4dfd-8cd1-3a4f544d7cb3",
   "metadata": {
    "tags": []
   },
   "outputs": [
    {
     "name": "stdout",
     "output_type": "stream",
     "text": [
      "[0, 0, 0, 0, 0, 0, 0]\n",
      "[3, 3, 3, 3, 3, 3, 3, 3]\n",
      "[-2, -2, -2, -2, -2]\n",
      "[-1, -1, -1, -1, -1, -1, -1]\n",
      "[3.2, 3.2, 3.2, 3.2, 3.2, 3.2]\n"
     ]
    }
   ],
   "source": [
    "def initialize(x,n=0):\n",
    "    return [n for i in range(x)]\n",
    "print(initialize(7))\n",
    "print(initialize(8,3))\n",
    "print(initialize(5,-2))\n",
    "print(initialize(7,-1))\n",
    "print(initialize(6,3.2))"
   ]
  },
  {
   "cell_type": "code",
   "execution_count": 72,
   "id": "ea06ed27-8bd2-4393-b5b6-5ff794fbb9af",
   "metadata": {
    "tags": []
   },
   "outputs": [
    {
     "name": "stdout",
     "output_type": "stream",
     "text": [
      "[3]\n",
      "...................................................................\n",
      "[3, 2]\n",
      "...................................................................\n",
      "[0, -1, -2]\n",
      "...................................................................\n",
      "[5.2, 4.6]\n"
     ]
    }
   ],
   "source": [
    "def n_max(x,n=1):\n",
    "    return sorted(x,reverse=True)[:n]\n",
    "x=[1,2,3]\n",
    "print(n_max(x))\n",
    "#####################################################################\n",
    "print('...................................................................')\n",
    "print(n_max(x,2))\n",
    "#####################################################################\n",
    "print('...................................................................')\n",
    "x=[-2, -3, -1, -2, -4, 0, -5]\n",
    "print(n_max(x,3))\n",
    "#####################################################################\n",
    "print('...................................................................')\n",
    "x=[2.2, 2, 3.2, 4.5, 4.6, 5.2, 2.9]\n",
    "print(n_max(x,2))"
   ]
  },
  {
   "cell_type": "code",
   "execution_count": 74,
   "id": "a3e47037-7d6a-4b79-a01c-fba95626f24e",
   "metadata": {
    "tags": []
   },
   "outputs": [
    {
     "name": "stdout",
     "output_type": "stream",
     "text": [
      "[1]\n",
      "...................................................................\n",
      "[1, 2]\n",
      "...................................................................\n",
      "[-5, -4, -3]\n",
      "...................................................................\n",
      "[2, 2.2]\n"
     ]
    }
   ],
   "source": [
    "def n_min(x,n=1):\n",
    "    return sorted(x)[:n]\n",
    "x=[1,2,3]\n",
    "print(n_min(x))\n",
    "#####################################################################\n",
    "print('...................................................................')\n",
    "print(n_min(x,2))\n",
    "#####################################################################\n",
    "print('...................................................................')\n",
    "x=[-2, -3, -1, -2, -4, 0, -5]\n",
    "print(n_min(x,3))\n",
    "#####################################################################\n",
    "print('...................................................................')\n",
    "x=[2.2, 2, 3.2, 4.5, 4.6, 5.2, 2.9]\n",
    "print(n_min(x,2))"
   ]
  },
  {
   "cell_type": "code",
   "execution_count": 76,
   "id": "42b539a1-ff59-4424-85af-dd191353b21f",
   "metadata": {
    "tags": []
   },
   "outputs": [
    {
     "name": "stdout",
     "output_type": "stream",
     "text": [
      "39.0\n",
      "...................................................................\n",
      "82.97272727272727\n"
     ]
    }
   ],
   "source": [
    "def w_average(x,w):\n",
    "    return sum(i * j for i,j in zip(x,w))/ sum(w)\n",
    "x=[10,50,40]\n",
    "w=[2,5,3]\n",
    "print(w_average(x,w))\n",
    "#####################################################################\n",
    "print('...................................................................')\n",
    "x=[82, 90, 76, 83]\n",
    "w=[.2, .35, .45, 32]\n",
    "print(w_average(x,w))"
   ]
  },
  {
   "cell_type": "code",
   "execution_count": 80,
   "id": "6c776815-4a81-434f-b908-2d71c971bca3",
   "metadata": {
    "tags": []
   },
   "outputs": [
    {
     "name": "stdout",
     "output_type": "stream",
     "text": [
      "[1, 2, 3, 4, 5, 6]\n",
      "...................................................................\n",
      "[1, 2, 3, 4, 5, 6]\n"
     ]
    }
   ],
   "source": [
    "from collections.abc import Iterable\n",
    "def deep_flatten(x):\n",
    "    if isinstance(x,Iterable):\n",
    "        return [i for i in x for i in deep_flatten(i)]\n",
    "    else:\n",
    "        return [x]\n",
    "x=[1, [2], [[3], [4], 5], 6]\n",
    "print(deep_flatten(x))\n",
    "#####################################################################\n",
    "print('...................................................................')\n",
    "x=[[[1, 2, 3], [4, 5]], 6]\n",
    "print(deep_flatten(x))"
   ]
  },
  {
   "cell_type": "code",
   "execution_count": 82,
   "id": "d9aad379-fd72-4343-a593-7e5b72b280a3",
   "metadata": {
    "tags": []
   },
   "outputs": [
    {
     "name": "stdout",
     "output_type": "stream",
     "text": [
      "[(), (1,), (2,), (1, 2)]\n",
      ".......................................................................\n",
      "[(), (1,), (2,), (3,), (4,), (1, 2), (1, 3), (1, 4), (2, 3), (2, 4), (3, 4), (1, 2, 3), (1, 2, 4), (1, 3, 4), (2, 3, 4), (1, 2, 3, 4)]\n"
     ]
    }
   ],
   "source": [
    "from itertools import chain, combinations\n",
    "def powerset(x):\n",
    "    s=list(x)\n",
    "    return list(chain.from_iterable(combinations(s,r) for r in range(len(s) + 1)))\n",
    "x=[1,2]\n",
    "print(powerset(x))\n",
    "#######################################################################\n",
    "print(\".......................................................................\")\n",
    "x=[1,2,3,4]\n",
    "print(powerset(x))"
   ]
  },
  {
   "cell_type": "code",
   "execution_count": 6,
   "id": "1e54d0a9-f102-43f4-8f3c-2208718a82b8",
   "metadata": {},
   "outputs": [
    {
     "name": "stdout",
     "output_type": "stream",
     "text": [
      "False\n",
      ".......................................................................\n",
      "True\n",
      ".......................................................................\n",
      "True\n",
      ".......................................................................\n",
      "False\n"
     ]
    }
   ],
   "source": [
    "x=[1, 2, 4]\n",
    "y=[3,5,6]\n",
    "if any(x) in y:\n",
    "    print(True)\n",
    "else:\n",
    "    print(False)\n",
    "#######################################################################\n",
    "print(\".......................................................................\")\n",
    "def check_same_content(x,y):\n",
    "    for i in set(x+y):\n",
    "        if x.count(i) != y.count(i):\n",
    "            return False\n",
    "    return True\n",
    "x=[1, 2, 4]\n",
    "y=[2, 4, 1]\n",
    "print(check_same_content(x,y))\n",
    "#######################################################################\n",
    "print(\".......................................................................\")\n",
    "x=[1, 2, 3]\n",
    "y=[1, 2, 3]\n",
    "print(check_same_content(x,y))\n",
    "#######################################################################\n",
    "print(\".......................................................................\")\n",
    "x=[1, 2, 3]\n",
    "y=[1, 2, 4]\n",
    "print(check_same_content(x,y))"
   ]
  },
  {
   "cell_type": "code",
   "execution_count": 10,
   "id": "d125f4fd-46b9-44ff-820c-64fd4f1e207a",
   "metadata": {
    "tags": []
   },
   "outputs": [
    {
     "name": "stdout",
     "output_type": "stream",
     "text": [
      "['Laura', 'Spencer', 'Bridget', 'Howard ']\n"
     ]
    }
   ],
   "source": [
    "x={'Laura': 10, 'Spencer': 11, 'Bridget': 9, 'Howard ': 10}\n",
    "p=[i for i in x.keys()]\n",
    "print(p)"
   ]
  },
  {
   "cell_type": "code",
   "execution_count": 13,
   "id": "1344d1a4-c4c3-4d4d-b090-4ae9012f6b90",
   "metadata": {
    "tags": []
   },
   "outputs": [
    {
     "name": "stdout",
     "output_type": "stream",
     "text": [
      "False\n",
      ".......................................................................\n",
      "True\n",
      ".......................................................................\n",
      "False\n"
     ]
    }
   ],
   "source": [
    "def test(x,n):\n",
    "    return all(not n(i) for i in x)\n",
    "print(test([1,0,2,3], lambda i: i>=3))\n",
    "#######################################################################\n",
    "print(\".......................................................................\")\n",
    "print(test([1,0,2,3], lambda i: i<0))\n",
    "#######################################################################\n",
    "print(\".......................................................................\")\n",
    "print(test([1,0,2,3], lambda i: i))"
   ]
  },
  {
   "cell_type": "code",
   "execution_count": 19,
   "id": "fd37c3f9-4734-489b-9c28-a5fc4c48fc99",
   "metadata": {
    "tags": []
   },
   "outputs": [
    {
     "name": "stdout",
     "output_type": "stream",
     "text": [
      "True\n",
      "False\n"
     ]
    }
   ],
   "source": [
    "def all_elements(x,y):\n",
    "    for i in y:\n",
    "        if i not in x:\n",
    "            return (False)\n",
    "    return (True)\n",
    "x=[10, 20, 30, 40, 50, 60]\n",
    "y=[20, 40]\n",
    "print(all_elements(x,y))\n",
    "#######################################################################\n",
    "print(\".......................................................................\")\n",
    "x=[10, 20, 30, 40, 50, 60]\n",
    "y=[20, 80]\n",
    "print(all_elements(x,y))"
   ]
  },
  {
   "cell_type": "code",
   "execution_count": 27,
   "id": "fd187cfa-a79a-44ea-9447-82dce0281bd8",
   "metadata": {
    "tags": []
   },
   "outputs": [
    {
     "name": "stdout",
     "output_type": "stream",
     "text": [
      "2\n",
      ".......................................................................\n",
      "3\n"
     ]
    }
   ],
   "source": [
    "x=[2, 3, 8, 4, 7, 9, 8, 2, 6, 5, 1, 6, 1, 2, 3, 2, 4, 6, 9, 1, 2]\n",
    "def most_frequent(x):\n",
    "    return max(set(x),key=x.count)\n",
    "print(most_frequent(x))\n",
    "#######################################################################\n",
    "print(\".......................................................................\")\n",
    "x=[1, 2, 3, 1, 2, 3, 2, 1, 4, 3, 3]\n",
    "print(most_frequent(x))"
   ]
  },
  {
   "cell_type": "code",
   "execution_count": 29,
   "id": "08bd6cf6-1f07-4819-8e9e-331bda4d933f",
   "metadata": {
    "tags": []
   },
   "outputs": [
    {
     "name": "stdout",
     "output_type": "stream",
     "text": [
      "[4, 5, 6, 7, 8, 1, 2, 3]\n",
      ".......................................................................\n",
      "[6, 7, 8, 1, 2, 3, 4, 5]\n",
      ".......................................................................\n",
      "[1, 2, 3, 4, 5, 6, 7, 8]\n",
      ".......................................................................\n",
      "[1, 2, 3, 4, 5, 6, 7, 8]\n",
      ".......................................................................\n",
      "[8, 1, 2, 3, 4, 5, 6, 7]\n",
      ".......................................................................\n",
      "[2, 3, 4, 5, 6, 7, 8, 1]\n"
     ]
    }
   ],
   "source": [
    "def move_end(x,n):\n",
    "    return x[n:]+x[:n]\n",
    "print(move_end([1, 2, 3, 4, 5, 6, 7, 8], 3))\n",
    "#######################################################################\n",
    "print(\".......................................................................\")\n",
    "print(move_end([1, 2, 3, 4, 5, 6, 7, 8], -3))\n",
    "#######################################################################\n",
    "print(\".......................................................................\")\n",
    "print(move_end([1, 2, 3, 4, 5, 6, 7, 8], 8))\n",
    "#######################################################################\n",
    "print(\".......................................................................\")\n",
    "print(move_end([1, 2, 3, 4, 5, 6, 7, 8], -8))\n",
    "#######################################################################\n",
    "print(\".......................................................................\")\n",
    "print(move_end([1, 2, 3, 4, 5, 6, 7, 8], 7))\n",
    "#######################################################################\n",
    "print(\".......................................................................\")\n",
    "print(move_end([1, 2, 3, 4, 5, 6, 7, 8], -7))"
   ]
  },
  {
   "cell_type": "code",
   "execution_count": 31,
   "id": "27ad6a90-98df-4bb0-93f0-59bfb01449df",
   "metadata": {
    "tags": []
   },
   "outputs": [
    {
     "name": "stdout",
     "output_type": "stream",
     "text": [
      "[6, 7, 8, 1, 2, 3, 4, 5]\n",
      ".......................................................................\n",
      "[4, 5, 6, 7, 8, 1, 2, 3]\n",
      ".......................................................................\n",
      "[1, 2, 3, 4, 5, 6, 7, 8]\n",
      ".......................................................................\n",
      "[1, 2, 3, 4, 5, 6, 7, 8]\n",
      ".......................................................................\n",
      "[2, 3, 4, 5, 6, 7, 8, 1]\n",
      ".......................................................................\n",
      "[8, 1, 2, 3, 4, 5, 6, 7]\n"
     ]
    }
   ],
   "source": [
    "def move_end(x,n):\n",
    "    return x[-n:]+x[:-n]\n",
    "print(move_end([1, 2, 3, 4, 5, 6, 7, 8], 3))\n",
    "#######################################################################\n",
    "print(\".......................................................................\")\n",
    "print(move_end([1, 2, 3, 4, 5, 6, 7, 8], -3))\n",
    "#######################################################################\n",
    "print(\".......................................................................\")\n",
    "print(move_end([1, 2, 3, 4, 5, 6, 7, 8], 8))\n",
    "#######################################################################\n",
    "print(\".......................................................................\")\n",
    "print(move_end([1, 2, 3, 4, 5, 6, 7, 8], -8))\n",
    "#######################################################################\n",
    "print(\".......................................................................\")\n",
    "print(move_end([1, 2, 3, 4, 5, 6, 7, 8], 7))\n",
    "#######################################################################\n",
    "print(\".......................................................................\")\n",
    "print(move_end([1, 2, 3, 4, 5, 6, 7, 8], -7))"
   ]
  },
  {
   "cell_type": "code",
   "execution_count": 36,
   "id": "18ce5341-b710-4b67-adf2-c93a2c499412",
   "metadata": {
    "tags": []
   },
   "outputs": [
    {
     "name": "stdout",
     "output_type": "stream",
     "text": [
      "[(1, 4), (2, 5)]\n",
      ".......................................................................\n",
      "[(1, 4, 7, 10), (2, 5, 8, 11), (3, 6, 9, 12)]\n"
     ]
    }
   ],
   "source": [
    "def two_d(x):\n",
    "    return (list(zip(*x)))\n",
    "print(two_d([[1, 2], [4, 5]]))\n",
    "#######################################################################\n",
    "print(\".......................................................................\")\n",
    "print(two_d([[1, 2, 3], [4, 5, 6], [7, 8, 9], [10, 11, 12]]))"
   ]
  },
  {
   "cell_type": "code",
   "execution_count": 39,
   "id": "85b157e3-1410-4749-be62-836ad25d71b3",
   "metadata": {
    "tags": []
   },
   "outputs": [
    {
     "name": "stdout",
     "output_type": "stream",
     "text": [
      "[0, 1, 1, 2, 3, 5, 8, 13]\n",
      ".......................................................................\n",
      "[0, 1, 1, 2, 3, 5, 8, 13, 21, 34, 55, 89, 144, 233, 377, 610]\n",
      ".......................................................................\n",
      "[0, 1, 1, 2, 3, 5, 8, 13, 21, 34, 55, 89, 144, 233, 377, 610, 987, 1597, 2584, 4181, 6765, 10946, 17711, 28657, 46368, 75025, 121393, 196418, 317811, 514229, 832040, 1346269, 2178309, 3524578, 5702887, 9227465, 14930352, 24157817, 39088169, 63245986, 102334155, 165580141, 267914296, 433494437, 701408733, 1134903170, 1836311903, 2971215073, 4807526976, 7778742049, 12586269025]\n"
     ]
    }
   ],
   "source": [
    "def fibonacci_nums(x):\n",
    "    if x<=0:\n",
    "        return [0]\n",
    "    sequence=[0,1]\n",
    "    while len(sequence) <=x:\n",
    "        n_value=sequence[len(sequence)-1]+sequence[len(sequence)-2]\n",
    "        sequence.append(n_value)\n",
    "    return sequence\n",
    "print(fibonacci_nums(7))\n",
    "#######################################################################\n",
    "print(\".......................................................................\")\n",
    "print(fibonacci_nums(15))\n",
    "#######################################################################\n",
    "print(\".......................................................................\")\n",
    "print(fibonacci_nums(50))"
   ]
  },
  {
   "cell_type": "code",
   "execution_count": 43,
   "id": "e97591dd-6423-4096-b153-7868e2c6ce3c",
   "metadata": {
    "tags": []
   },
   "outputs": [
    {
     "name": "stdout",
     "output_type": "stream",
     "text": [
      "<class 'list'>\n",
      "[1]\n",
      ".......................................................................\n",
      "<class 'tuple'>\n",
      "['Red', 'Green']\n",
      ".......................................................................\n",
      "<class 'set'>\n",
      "['Red', 'Green']\n",
      ".......................................................................\n",
      "<class 'dict'>\n",
      "[1, 2, 3]\n"
     ]
    }
   ],
   "source": [
    "def cast_list(x):\n",
    "    if isinstance(x, (tuple, list, set, dict)):\n",
    "        return list(x)\n",
    "    else:\n",
    "        return [x]\n",
    "x=[1]\n",
    "print(type(x))\n",
    "print(cast_list(x))\n",
    "#######################################################################\n",
    "print(\".......................................................................\")\n",
    "d2 = ('Red', 'Green')\n",
    "print(type(d2))\n",
    "print(cast_list(d2))\n",
    "#######################################################################\n",
    "print(\".......................................................................\")\n",
    "d3 = {'Red', 'Green'}\n",
    "print(type(d3))\n",
    "print(cast_list(d3))\n",
    "#######################################################################\n",
    "print(\".......................................................................\")\n",
    "d4 = {1: 'Red', 2: 'Green', 3: 'Black'}\n",
    "print(type(d4))\n",
    "print(cast_list(d4)) "
   ]
  },
  {
   "cell_type": "code",
   "execution_count": 54,
   "id": "370e42d5-3988-4a49-8757-dcae941d0b1a",
   "metadata": {
    "tags": []
   },
   "outputs": [
    {
     "name": "stdout",
     "output_type": "stream",
     "text": [
      "[1, 3, 6, 10]\n",
      ".......................................................................\n",
      "[-1, -3, -6, -2]\n"
     ]
    }
   ],
   "source": [
    "from itertools import accumulate\n",
    "def cumsum(x):\n",
    "    return list(accumulate(x))\n",
    "x=[1, 2, 3, 4]\n",
    "print(cumsum(x))\n",
    "#######################################################################\n",
    "print(\".......................................................................\")\n",
    "x=[-1, -2, -3, 4]\n",
    "print(cumsum(x))"
   ]
  },
  {
   "cell_type": "code",
   "execution_count": 64,
   "id": "d8fcf63a-c984-483f-81d0-fd7ae0904195",
   "metadata": {
    "tags": []
   },
   "outputs": [
    {
     "name": "stdout",
     "output_type": "stream",
     "text": [
      "[2, 3]\n",
      "[1, 2]\n",
      ".......................................................................\n",
      "[3, 4]\n",
      "[1, 2]\n",
      ".......................................................................\n",
      "[2, 3, 4, 5, 6]\n",
      "[1, 2, 3, 4, 5]\n"
     ]
    }
   ],
   "source": [
    "def remove_elements(x,n=1):\n",
    "    return x[n:], x[:-n]\n",
    "x=[1, 2, 3]\n",
    "r=remove_elements(x)\n",
    "print(r[0])\n",
    "print(r[1])\n",
    "#######################################################################\n",
    "print(\".......................................................................\")\n",
    "x=[1, 2, 3, 4]\n",
    "r=remove_elements(x,2)\n",
    "print(r[0])\n",
    "print(r[1])\n",
    "#######################################################################\n",
    "print(\".......................................................................\")\n",
    "x=[1, 2, 3, 4, 5, 6]\n",
    "r=remove_elements(x)\n",
    "print(r[0])\n",
    "print(r[1])"
   ]
  },
  {
   "cell_type": "code",
   "execution_count": 67,
   "id": "4659bfe4-b7c5-4307-95f6-7804879d3fc1",
   "metadata": {
    "tags": []
   },
   "outputs": [
    {
     "name": "stdin",
     "output_type": "stream",
     "text": [
      " 1\n"
     ]
    },
    {
     "name": "stdout",
     "output_type": "stream",
     "text": [
      "[1, 2, 3, 4, 5, 6, 7, 8, 9, 10]\n",
      ".......................................................................\n"
     ]
    },
    {
     "name": "stdin",
     "output_type": "stream",
     "text": [
      " 2\n"
     ]
    },
    {
     "name": "stdout",
     "output_type": "stream",
     "text": [
      "[2, 4, 6, 8, 10]\n",
      ".......................................................................\n"
     ]
    },
    {
     "name": "stdin",
     "output_type": "stream",
     "text": [
      " 5\n"
     ]
    },
    {
     "name": "stdout",
     "output_type": "stream",
     "text": [
      "[5, 10]\n",
      ".......................................................................\n"
     ]
    },
    {
     "name": "stdin",
     "output_type": "stream",
     "text": [
      " 6\n"
     ]
    },
    {
     "name": "stdout",
     "output_type": "stream",
     "text": [
      "[6]\n"
     ]
    }
   ],
   "source": [
    "def every_nth(x,n):\n",
    "    return x[n-1::n]\n",
    "x=[1, 2, 3, 4, 5, 6, 7, 8, 9, 10]\n",
    "n=int(input())\n",
    "print(every_nth(x,n))\n",
    "#######################################################################\n",
    "print(\".......................................................................\")\n",
    "n=int(input())\n",
    "print(every_nth(x,n))\n",
    "#######################################################################\n",
    "print(\".......................................................................\")\n",
    "n=int(input())\n",
    "print(every_nth(x,n))\n",
    "#######################################################################\n",
    "print(\".......................................................................\")\n",
    "n=int(input())\n",
    "print(every_nth(x,n))"
   ]
  },
  {
   "cell_type": "code",
   "execution_count": 69,
   "id": "ab520426-bd41-41a7-b52c-900e25aa0c73",
   "metadata": {
    "tags": []
   },
   "outputs": [
    {
     "name": "stdout",
     "output_type": "stream",
     "text": [
      "True\n",
      ".......................................................................\n",
      "True\n",
      ".......................................................................\n",
      "False\n",
      ".......................................................................\n",
      "True\n"
     ]
    }
   ],
   "source": [
    "def is_contained_in(x,y):\n",
    "    for i in set(x):\n",
    "        if x.count(i)>y.count(i):\n",
    "            return False\n",
    "    return True\n",
    "print(is_contained_in([1, 2], [2, 4, 1])) \n",
    "#######################################################################\n",
    "print(\".......................................................................\")\n",
    "print(is_contained_in([1], [2, 4, 1]))  \n",
    "#######################################################################\n",
    "print(\".......................................................................\")\n",
    "print(is_contained_in([1, 1], [4, 2, 1]))  \n",
    "#######################################################################\n",
    "print(\".......................................................................\")\n",
    "print(is_contained_in([1, 1], [3, 2, 4, 1, 5, 1]))  "
   ]
  },
  {
   "cell_type": "code",
   "execution_count": 72,
   "id": "ac622dbc-e9cc-4bd5-b7d0-e299f91955d8",
   "metadata": {
    "tags": []
   },
   "outputs": [
    {
     "name": "stdout",
     "output_type": "stream",
     "text": [
      "False\n",
      ".......................................................................\n",
      "True\n"
     ]
    }
   ],
   "source": [
    "def check_duplicate(x):\n",
    "    y=set(x)\n",
    "    if len(x)!=len(y):\n",
    "        return True\n",
    "    return False\n",
    "x=[1, 2, 3, 4, 5, 6, 7]\n",
    "print(check_duplicate(x))\n",
    "#######################################################################\n",
    "print(\".......................................................................\")\n",
    "x=[1, 2, 3, 3, 4, 5, 5, 6, 7]\n",
    "print(check_duplicate(x))"
   ]
  },
  {
   "cell_type": "code",
   "execution_count": 75,
   "id": "29869a8a-e1ce-4c1c-92dd-bea82219a841",
   "metadata": {
    "tags": []
   },
   "outputs": [
    {
     "name": "stdout",
     "output_type": "stream",
     "text": [
      "[1, 2, 3, 4, 5, 6, 7, 8, 9, 10, 11, 12, 13, 14, 15]\n",
      ".......................................................................\n",
      "[3, 6, 9, 12, 15, 18, 21, 24, 27, 30, 33, 36]\n",
      ".......................................................................\n",
      "[5, 10, 15, 20, 25]\n"
     ]
    }
   ],
   "source": [
    "def ap(x,n):\n",
    "    return list(range(x,n+1,x))\n",
    "print(ap(1,15))\n",
    "#######################################################################\n",
    "print(\".......................................................................\")\n",
    "print(ap(3,37))\n",
    "#######################################################################\n",
    "print(\".......................................................................\")\n",
    "print(ap(5,25))"
   ]
  },
  {
   "cell_type": "code",
   "execution_count": 82,
   "id": "d0007b2b-d4aa-45e4-bc05-8a6edf45d0e7",
   "metadata": {
    "tags": []
   },
   "outputs": [
    {
     "name": "stdout",
     "output_type": "stream",
     "text": [
      "4\n",
      ".......................................................................\n",
      "1\n",
      ".......................................................................\n",
      "No such elements!\n",
      ".......................................................................\n",
      "1\n"
     ]
    }
   ],
   "source": [
    "def test(x):\n",
    "    for i,j in enumerate(x[1:-1]):\n",
    "        if sum(x[:i+1]) == sum(x[i+2:]):\n",
    "               return x[i+1]\n",
    "    return 'No such elements!'\n",
    "x=[0, 9, 2, 4, 5, 6]\n",
    "print(test(x))\n",
    "#######################################################################\n",
    "print(\".......................................................................\")\n",
    "x=[-4, 0, 6, 1, 0, 2]\n",
    "print(test(x))\n",
    "#######################################################################\n",
    "print(\".......................................................................\")\n",
    "x= [1, 2, 3, 4]\n",
    "print(test(x))\n",
    "#######################################################################\n",
    "print(\".......................................................................\")\n",
    "x=[-4, 0, 5, 1, 0, 1]\n",
    "print(test(x))"
   ]
  },
  {
   "cell_type": "code",
   "execution_count": 92,
   "id": "a7a6eb66-cc80-47bb-88b1-ef23c541b5d7",
   "metadata": {
    "tags": []
   },
   "outputs": [
    {
     "name": "stdout",
     "output_type": "stream",
     "text": [
      "13\n",
      ".......................................................................\n",
      "0\n"
     ]
    }
   ],
   "source": [
    "def test(x):\n",
    "    return sum([i.islower() for j in x for i in j])\n",
    "x=[\"Red\", \"Green\", \"Blue\", \"White\"]\n",
    "print(test(x))\n",
    "#######################################################################\n",
    "print(\".......................................................................\")\n",
    "x=[\"SQL\", \"C++\", \"C\"]\n",
    "print(test(x))"
   ]
  },
  {
   "cell_type": "code",
   "execution_count": 95,
   "id": "b4c10d90-145f-479f-b45c-53cbf395ca5d",
   "metadata": {
    "tags": []
   },
   "outputs": [
    {
     "name": "stdout",
     "output_type": "stream",
     "text": [
      "[26, 17, 24, 22, 21, 20]\n",
      ".......................................................................\n",
      "[9, 5, -1, 4, 5, 3]\n",
      ".......................................................................\n",
      "[5, 4, 3]\n",
      ".......................................................................\n",
      "[7, 3, -2, 2, 3, 2]\n"
     ]
    }
   ],
   "source": [
    "def test(x):\n",
    "    return [sum(x) -i for i in x]\n",
    "x=[0, 9, 2, 4, 5, 6]\n",
    "print(test(x))\n",
    "#######################################################################\n",
    "print(\".......................................................................\")\n",
    "x=[-4, 0, 6, 1, 0, 2]\n",
    "print(test(x))\n",
    "#######################################################################\n",
    "print(\".......................................................................\")\n",
    "x=[1, 2, 3]\n",
    "print(test(x))\n",
    "#######################################################################\n",
    "print(\".......................................................................\")\n",
    "x=[-4, 0, 5, 1, 0, 1]\n",
    "print(test(x))"
   ]
  },
  {
   "cell_type": "code",
   "execution_count": 99,
   "id": "a4569c3e-0485-45d1-83e0-417979ed115c",
   "metadata": {
    "tags": []
   },
   "outputs": [
    {
     "name": "stdout",
     "output_type": "stream",
     "text": [
      "9\n",
      ".......................................................................\n",
      "1\n",
      ".......................................................................\n",
      "3\n",
      ".......................................................................\n",
      "5\n"
     ]
    }
   ],
   "source": [
    "def odd_largest(x):\n",
    "    p=[i for i in x if i%2==1]\n",
    "    return max(p)\n",
    "x=[0, 9, 2, 4, 5, 6]\n",
    "print(odd_largest(x))\n",
    "#######################################################################\n",
    "print(\".......................................................................\")\n",
    "x=[-4, 0, 6, 1, 0, 2]\n",
    "print(odd_largest(x))\n",
    "#######################################################################\n",
    "print(\".......................................................................\")\n",
    "x=[1, 2, 3]\n",
    "print(odd_largest(x))\n",
    "#######################################################################\n",
    "print(\".......................................................................\")\n",
    "x=[-4, 0, 5, 1, 0, 1]\n",
    "print(odd_largest(x))"
   ]
  },
  {
   "cell_type": "code",
   "execution_count": 103,
   "id": "b1c15577-ca2a-4960-869b-73976737f467",
   "metadata": {
    "tags": []
   },
   "outputs": [
    {
     "name": "stdout",
     "output_type": "stream",
     "text": [
      "(3, 1)\n",
      ".......................................................................\n",
      "(15, 2)\n",
      ".......................................................................\n",
      "(10, 1)\n",
      ".......................................................................\n",
      "(1, 1)\n"
     ]
    }
   ],
   "source": [
    "def test(x):\n",
    "    x.sort()\n",
    "    max_gap=max(b-a for a,b in zip(x,x[1:]))\n",
    "    min_gap=min(b-a for a,b in zip(x,x[1:]))\n",
    "    return max_gap , min_gap\n",
    "x=[0, 9, 2, 4, 5, 6]\n",
    "print(test(x))\n",
    "#######################################################################\n",
    "print(\".......................................................................\")\n",
    "x=[23, -2, 45, 38, 12, 4, 6]\n",
    "print(test(x))\n",
    "#######################################################################\n",
    "print(\".......................................................................\")\n",
    "x=[-4, -3, 5, 20, 10, 1]\n",
    "print(test(x))\n",
    "#######################################################################\n",
    "print(\".......................................................................\")\n",
    "x=[1, 2, 3]\n",
    "print(test(x))"
   ]
  },
  {
   "cell_type": "code",
   "execution_count": 104,
   "id": "234ee52b-6d90-4ab7-8cf8-a62032d971a6",
   "metadata": {
    "tags": []
   },
   "outputs": [
    {
     "name": "stdout",
     "output_type": "stream",
     "text": [
      "22\n",
      ".......................................................................\n",
      "93\n",
      ".......................................................................\n",
      "-12\n"
     ]
    }
   ],
   "source": [
    "def test(x):\n",
    "    n=max(x)\n",
    "    m=min(x)\n",
    "    return (n+m)*(n-m+1)//2-sum(x)\n",
    "x=[0, 3, 4, 7, 9]\n",
    "print(test(x))\n",
    "#######################################################################\n",
    "print(\".......................................................................\")\n",
    "x=[44, 45, 48]\n",
    "print(test(x))\n",
    "#######################################################################\n",
    "print(\".......................................................................\")\n",
    "x=[-7, -5, -4, 0]\n",
    "print(test(x))"
   ]
  },
  {
   "cell_type": "code",
   "execution_count": 107,
   "id": "1ddf0d2a-69db-4bd6-9274-3bd88ff359f0",
   "metadata": {
    "tags": []
   },
   "outputs": [
    {
     "name": "stdout",
     "output_type": "stream",
     "text": [
      "n is less than the number of vowels present in the string.\n",
      ".......................................................................\n",
      "oEe\n",
      ".......................................................................\n",
      "AEI\n"
     ]
    }
   ],
   "source": [
    "def test(x,n):\n",
    "    r=''\n",
    "    for i in x:\n",
    "        if i in 'aeiouAEIOU':\n",
    "            r+=i\n",
    "    return r[:n] if len(r)>=n else 'n is less than the number of vowels present in the string.'\n",
    "x='Python'\n",
    "n=2\n",
    "print(test(x,n))\n",
    "#######################################################################\n",
    "print(\".......................................................................\")\n",
    "x='Python Exercises'\n",
    "n=3\n",
    "print(test(x,n))\n",
    "#######################################################################\n",
    "print(\".......................................................................\")\n",
    "x='AEIOU'\n",
    "n=3\n",
    "print(test(x,n))"
   ]
  },
  {
   "cell_type": "code",
   "execution_count": 112,
   "id": "466cac3e-3e00-4dd9-84ee-151d1ea21464",
   "metadata": {
    "tags": []
   },
   "outputs": [
    {
     "name": "stdout",
     "output_type": "stream",
     "text": [
      "[[0, 3], [4, 7]]\n",
      ".......................................................................\n",
      "[[-8, -5]]\n",
      ".......................................................................\n",
      "[[1, 4], [2, 5]]\n",
      ".......................................................................\n",
      "[[100, 103]]\n"
     ]
    }
   ],
   "source": [
    "def test(x):\n",
    "    r=[]\n",
    "    for i,j in enumerate(sorted(x)):\n",
    "        for y in x[i+1:]:\n",
    "            if y==j+3:\n",
    "                r.append([j,y])\n",
    "    return r\n",
    "x=[0,3,4,7,9]\n",
    "print(test(x))\n",
    "#######################################################################\n",
    "print(\".......................................................................\")\n",
    "x=[0, -3, -5, -7, -8]\n",
    "print(test(x))\n",
    "#######################################################################\n",
    "print(\".......................................................................\")\n",
    "x=[1, 2, 3, 4, 5]\n",
    "print(test(x))\n",
    "#######################################################################\n",
    "print(\".......................................................................\")\n",
    "x=[100, 102, 103, 114, 115]\n",
    "print(test(x))"
   ]
  },
  {
   "cell_type": "code",
   "execution_count": null,
   "id": "3591d805-0f7d-4d05-84ae-c11c66e5abd4",
   "metadata": {},
   "outputs": [],
   "source": []
  }
 ],
 "metadata": {
  "kernelspec": {
   "display_name": "Python 3 (ipykernel)",
   "language": "python",
   "name": "python3"
  },
  "language_info": {
   "codemirror_mode": {
    "name": "ipython",
    "version": 3
   },
   "file_extension": ".py",
   "mimetype": "text/x-python",
   "name": "python",
   "nbconvert_exporter": "python",
   "pygments_lexer": "ipython3",
   "version": "3.11.3"
  }
 },
 "nbformat": 4,
 "nbformat_minor": 5
}
