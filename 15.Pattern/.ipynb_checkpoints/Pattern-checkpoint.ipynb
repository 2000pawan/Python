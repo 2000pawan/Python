{
 "cells": [
  {
   "cell_type": "code",
   "execution_count": 1,
   "id": "18789e6e-cb25-4bd5-8bc4-c68e8a33c675",
   "metadata": {
    "tags": []
   },
   "outputs": [
    {
     "name": "stdout",
     "output_type": "stream",
     "text": [
      "93571\n",
      "9357\n",
      "935\n",
      "93\n",
      "9\n"
     ]
    }
   ],
   "source": [
    "n,p,q=9,3,1\n",
    "for i in range(1,6):\n",
    "    print(n,end='')\n",
    "    for j in range(1,6):\n",
    "        if i<=2 and j<=3 or i<=3 and j<=2 or i==4 and j<=1:\n",
    "            print(p,end='')\n",
    "            p=p+2\n",
    "        elif i==1 and j==5:\n",
    "            print(q,end='')\n",
    "    else:\n",
    "        print('')\n",
    "    p=3"
   ]
  },
  {
   "cell_type": "code",
   "execution_count": null,
   "id": "cf0d82ca-acbd-46c8-b020-40db84145faa",
   "metadata": {},
   "outputs": [],
   "source": []
  }
 ],
 "metadata": {
  "kernelspec": {
   "display_name": "Python 3 (ipykernel)",
   "language": "python",
   "name": "python3"
  },
  "language_info": {
   "codemirror_mode": {
    "name": "ipython",
    "version": 3
   },
   "file_extension": ".py",
   "mimetype": "text/x-python",
   "name": "python",
   "nbconvert_exporter": "python",
   "pygments_lexer": "ipython3",
   "version": "3.11.3"
  }
 },
 "nbformat": 4,
 "nbformat_minor": 5
}
