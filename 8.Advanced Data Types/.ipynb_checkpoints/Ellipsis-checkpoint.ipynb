{
 "cells": [
  {
   "cell_type": "code",
   "execution_count": 5,
   "id": "bd2795fd-f08e-422c-bf7d-cbb4790c495e",
   "metadata": {},
   "outputs": [
    {
     "name": "stdout",
     "output_type": "stream",
     "text": [
      "Argument 1:1\n",
      "Argument 2:2\n",
      "Argument 3:3\n",
      "Argument 4:Pawan Yadav\n",
      "Argument 1:22\n",
      "Argument 2:[1, 2, 3, 4]\n",
      "Argument 3:Pawan\n",
      "Argument 4:Yadav\n",
      "\n",
      "Unspecified arguments: Ellipsis\n"
     ]
    }
   ],
   "source": [
    "x=...\n",
    "def main(*args):\n",
    "    for i,arg in enumerate(args):\n",
    "        print(f'Argument {i+1}:{arg}')\n",
    "    if not args:\n",
    "        print(f\"\\nUnspecified arguments: {x}\")\n",
    "main(1,2,3,'Pawan Yadav')\n",
    "main(22,[1,2,3,4],'Pawan','Yadav')\n",
    "main()"
   ]
  },
  {
   "cell_type": "code",
   "execution_count": 6,
   "id": "d32791ba-fbc1-4f22-b507-81f371c3becc",
   "metadata": {
    "tags": []
   },
   "outputs": [
    {
     "name": "stdout",
     "output_type": "stream",
     "text": [
      "32\n",
      "Pawan,Ellipsis!\n"
     ]
    }
   ],
   "source": [
    "def call_function(x,*args,**kwargs):\n",
    "    return x(*args,**kwargs)\n",
    "def add(x,y):\n",
    "    return x+y\n",
    "r=call_function(add,10,22)\n",
    "print(r)\n",
    "def message(name,text='Good Evening!'):\n",
    "    return f'{name},{text}!'\n",
    "r=call_function(message,'Pawan',text=...)\n",
    "print(r)"
   ]
  },
  {
   "cell_type": "code",
   "execution_count": 7,
   "id": "735d7699-9975-4048-b68e-41d71187c407",
   "metadata": {
    "tags": []
   },
   "outputs": [
    {
     "name": "stdout",
     "output_type": "stream",
     "text": [
      "Original Multidimensional array:\n",
      "[[[ 1  2  3]\n",
      "  [ 4  5  6]]\n",
      "\n",
      " [[ 7  8  9]\n",
      "  [10 11 12]]\n",
      "\n",
      " [[13 14 15]\n",
      "  [16 17 18]]]\n",
      "\n",
      "Slices the first two elements from the said array:\n",
      "[[[ 1  2]\n",
      "  [ 4  5]]\n",
      "\n",
      " [[ 7  8]\n",
      "  [10 11]]\n",
      "\n",
      " [[13 14]\n",
      "  [16 17]]]\n"
     ]
    }
   ],
   "source": [
    "import numpy as np\n",
    "def slice_3D(arr):\n",
    "    return arr[...,:2]\n",
    "nums = np.array([[[1, 2, 3], [4, 5, 6]],\n",
    "                           [[7, 8, 9], [10, 11, 12]],\n",
    "                           [[13, 14, 15], [16, 17, 18]]])\n",
    "print('Original Multidimensional array:')\n",
    "print(nums)\n",
    "slice=slice_3D(nums)\n",
    "print(\"\\nSlices the first two elements from the said array:\")\n",
    "print(slice)"
   ]
  },
  {
   "cell_type": "code",
   "execution_count": 8,
   "id": "d0c7a94c-0d2e-411e-bd82-cfbc909c431a",
   "metadata": {
    "tags": []
   },
   "outputs": [
    {
     "name": "stdout",
     "output_type": "stream",
     "text": [
      "\n",
      "Containing numbers from 10 to 20, but leaves a gap at odd positions:\n",
      "[1, Ellipsis, 3, Ellipsis, 5, Ellipsis, 7, Ellipsis, 9, Ellipsis]\n",
      "\n",
      "Containing numbers from 10 to 20, but leaves a gap at odd positions:\n",
      "[10, Ellipsis, 12, Ellipsis, 14, Ellipsis, 16, Ellipsis, 18, Ellipsis, 20]\n"
     ]
    }
   ],
   "source": [
    "print(\"\\nContaining numbers from 10 to 20, but leaves a gap at odd positions:\")\n",
    "x=[i if i%2!=0 else ... for i in range(1,11)]\n",
    "print(x)\n",
    "print(\"\\nContaining numbers from 10 to 20, but leaves a gap at odd positions:\")\n",
    "x=[i if i%2==0 else ... for i in range(10,21)]\n",
    "print(x)"
   ]
  },
  {
   "cell_type": "code",
   "execution_count": 9,
   "id": "babe7773-8f55-4256-9025-e8661df4dbd4",
   "metadata": {
    "tags": []
   },
   "outputs": [
    {
     "name": "stdout",
     "output_type": "stream",
     "text": [
      "Ellipsis is Present in Given List!\n",
      ".............................................\n",
      "Ellipsis not Present in Given List!\n",
      ".............................................\n",
      "Reading item:1\n",
      "Reading item:2\n",
      "Reading item:3\n",
      "Reading item:5\n",
      "Reading item:7\n",
      "Reading item:8\n",
      "Skipping...\n",
      "Reading item:pawan\n",
      "Reading item:yadav\n",
      ".............................................\n"
     ]
    }
   ],
   "source": [
    "x=[1,2,3,5,7,8,...,'pawan','yadav']\n",
    "y=...\n",
    "if y in x:\n",
    "    print('Ellipsis is Present in Given List!')\n",
    "else:\n",
    "    print('Ellipsis not Present in Given List!')\n",
    "print('.............................................')\n",
    "x=[1,2,3,5,7,8,'pawan','yadav']\n",
    "y=...\n",
    "if y in x:\n",
    "    print('Ellipsis is Present in Given List!')\n",
    "else:\n",
    "    print('Ellipsis not Present in Given List!')\n",
    "print('.............................................')\n",
    "x=[1,2,3,5,7,8,...,'pawan','yadav']\n",
    "y=...\n",
    "for i in x:\n",
    "    if i is y:\n",
    "        print('Skipping...')\n",
    "        continue\n",
    "    print(f'Reading item:{i}')\n",
    "print('.............................................')"
   ]
  },
  {
   "cell_type": "code",
   "execution_count": 10,
   "id": "90e885c9-184f-47bc-9fda-2ea3f5b98270",
   "metadata": {
    "tags": []
   },
   "outputs": [
    {
     "name": "stdout",
     "output_type": "stream",
     "text": [
      "setting an array element with a sequence. The requested array has an inhomogeneous shape after 2 dimensions. The detected shape was (3, 2) + inhomogeneous part.\n"
     ]
    }
   ],
   "source": [
    "#Used online compiler for run this code\n",
    "import numpy as np\n",
    "try:\n",
    "    x=np.array([[[1,2],[3,4]], [..., ...] , [[5,6],[7,8]]])\n",
    "    print(x)\n",
    "except Exception as e:\n",
    "    print(e)"
   ]
  },
  {
   "cell_type": "code",
   "execution_count": 11,
   "id": "04c3200b-4e25-4763-a392-0b808fe2e148",
   "metadata": {
    "tags": []
   },
   "outputs": [
    {
     "name": "stdout",
     "output_type": "stream",
     "text": [
      "1, 3, 5, 7, ..., 11, ..., 15, ..., 19, ..., 23, ..., 27, ..., "
     ]
    }
   ],
   "source": [
    "def main(s,e,st,sk):\n",
    "    for i in range(s,e,st):\n",
    "        if sk>0:\n",
    "            yield i\n",
    "            sk-=1\n",
    "        else:\n",
    "            yield '...'\n",
    "            sk=sk+st-1\n",
    "gen=main(1,30,2,4)\n",
    "for i in gen:\n",
    "    print(i,end=', ')"
   ]
  },
  {
   "cell_type": "code",
   "execution_count": 12,
   "id": "43aa1a56-0acf-47be-972f-77e584e21dc6",
   "metadata": {},
   "outputs": [
    {
     "name": "stdout",
     "output_type": "stream",
     "text": [
      "[1, 2, 3, Ellipsis, 4, 5, 6, Ellipsis, 7, 8, 9]\n"
     ]
    }
   ],
   "source": [
    "x=[1,2,3]\n",
    "y=[4,5,6]\n",
    "z=[7,8,9]\n",
    "a=x+[...]+y+[...]+z\n",
    "print(a)"
   ]
  },
  {
   "cell_type": "code",
   "execution_count": 13,
   "id": "a0b6a174-0d42-4e30-af5d-92fa99535ade",
   "metadata": {
    "tags": []
   },
   "outputs": [
    {
     "name": "stdout",
     "output_type": "stream",
     "text": [
      "Attribute 1: Pawan\n",
      "Attribute 2: Yadav\n",
      "Attribute 3: Yaduvanshi\n",
      "Attribute 4: Ellipsis\n",
      "Modified Attribute: AI Developer!\n"
     ]
    }
   ],
   "source": [
    "class ellipsis:\n",
    "    def __init__(self,ellipsis1,ellipsis2,ellipsis3,ellipsis4=...):\n",
    "        self.ellipsis1=ellipsis1\n",
    "        self.ellipsis2=ellipsis2\n",
    "        self.ellipsis3=ellipsis3\n",
    "        self.ellipsis4=ellipsis4\n",
    "    def set_attributes(self,value):\n",
    "        self.ellipsis4=value\n",
    "obj=ellipsis('Pawan','Yadav','Yaduvanshi')\n",
    "print(\"Attribute 1:\", obj.ellipsis1)\n",
    "print(\"Attribute 2:\", obj.ellipsis2)\n",
    "print(\"Attribute 3:\", obj.ellipsis3)\n",
    "print(\"Attribute 4:\", obj.ellipsis4) \n",
    "obj.set_attributes('AI Developer!')\n",
    "print('Modified Attribute:',obj.ellipsis4)"
   ]
  },
  {
   "cell_type": "code",
   "execution_count": null,
   "id": "763a41a4-8311-4a2a-94a1-bc643baf3dba",
   "metadata": {},
   "outputs": [],
   "source": []
  }
 ],
 "metadata": {
  "kernelspec": {
   "display_name": "Python 3 (ipykernel)",
   "language": "python",
   "name": "python3"
  },
  "language_info": {
   "codemirror_mode": {
    "name": "ipython",
    "version": 3
   },
   "file_extension": ".py",
   "mimetype": "text/x-python",
   "name": "python",
   "nbconvert_exporter": "python",
   "pygments_lexer": "ipython3",
   "version": "3.11.3"
  }
 },
 "nbformat": 4,
 "nbformat_minor": 5
}
