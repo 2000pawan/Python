{
 "cells": [
  {
   "cell_type": "code",
   "execution_count": 16,
   "id": "2cfa2bc6-1fce-4f07-b9f4-0319aa3b292c",
   "metadata": {},
   "outputs": [
    {
     "name": "stdin",
     "output_type": "stream",
     "text": [
      "Enter a number: 1\n"
     ]
    },
    {
     "name": "stdout",
     "output_type": "stream",
     "text": [
      "Number is Odd\n"
     ]
    }
   ],
   "source": [
    "def check_even_odd(x):\n",
    "    if x%2==0:\n",
    "        return True\n",
    "    else:\n",
    "        return False\n",
    "try:\n",
    "    x=int(input('Enter a number:'))\n",
    "    if check_even_odd(x)==True:\n",
    "        print('Number is Even')\n",
    "    else:\n",
    "        print('Number is Odd')\n",
    "except ValueError:\n",
    "    print(\"Invalid input. Please enter a valid number.\")"
   ]
  },
  {
   "cell_type": "code",
   "execution_count": 31,
   "id": "ff7119f4-ce03-4856-9904-c4a2614d9235",
   "metadata": {
    "tags": []
   },
   "outputs": [
    {
     "name": "stdin",
     "output_type": "stream",
     "text": [
      "Input first boolean value (True/False): true\n",
      "Input second boolean value (True/False):  false\n"
     ]
    },
    {
     "name": "stdout",
     "output_type": "stream",
     "text": [
      "Logical AND: False\n",
      "Logical OR: True\n"
     ]
    }
   ],
   "source": [
    "def logical(x,y):\n",
    "    l= x and y\n",
    "    o= x or y\n",
    "    return l,o\n",
    "def main():\n",
    "    try:\n",
    "        a=input('Input first boolean value (True/False):').lower()\n",
    "        b=input(\"Input second boolean value (True/False): \").lower()\n",
    "        if a=='true':\n",
    "            bool1=True\n",
    "        elif a=='false':\n",
    "            bool1=False\n",
    "        else:\n",
    "            print('Invaild input for first boolean value.')\n",
    "            return\n",
    "        if b=='true':\n",
    "            bool2=True\n",
    "        elif b=='false':\n",
    "            bool2=False\n",
    "        else:\n",
    "            print('Invaild input for first boolean value.')\n",
    "            return\n",
    "        l,o=logical(bool1,bool2)\n",
    "        print(f\"Logical AND: {l}\")\n",
    "        print(f\"Logical OR: {o}\")\n",
    "    except ValueError:\n",
    "        print(\"Invalid input. Please input either 'True' or 'False'.\")\n",
    "main()"
   ]
  },
  {
   "cell_type": "code",
   "execution_count": 45,
   "id": "eedd072d-e714-4184-90f8-205ae044cd01",
   "metadata": {
    "tags": []
   },
   "outputs": [
    {
     "name": "stdin",
     "output_type": "stream",
     "text": [
      "Enter Your Age: 14\n"
     ]
    },
    {
     "name": "stdout",
     "output_type": "stream",
     "text": [
      "Person is not Eligible for Vote!\n"
     ]
    }
   ],
   "source": [
    "def check_electrol_age(x):\n",
    "    if x>=18:\n",
    "        return True\n",
    "    elif x<=0:\n",
    "        return None\n",
    "    else:\n",
    "        return False\n",
    "try:\n",
    "    x=int(input('Enter Your Age:'))\n",
    "    if check_electrol_age(x)==True:\n",
    "        print('Person is Eligible for Vote!')\n",
    "    elif check_electrol_age(x)==None:\n",
    "        print('Age cannot be negative!')\n",
    "    else:\n",
    "        print('Person is not Eligible for Vote!')\n",
    "except ValueError:\n",
    "    print(\"Invalid input. Please enter a valid age.\")"
   ]
  },
  {
   "cell_type": "code",
   "execution_count": 74,
   "id": "719b10c7-ee65-4245-8085-ebf4ad93680a",
   "metadata": {
    "tags": []
   },
   "outputs": [
    {
     "name": "stdout",
     "output_type": "stream",
     "text": [
      "Given List is an Empty List!\n"
     ]
    }
   ],
   "source": [
    "def list_check(x):\n",
    "    if x==[]:\n",
    "        return False\n",
    "    else:\n",
    "        return True\n",
    "try:\n",
    "    if list_check(x)==False:\n",
    "        print('Given List is an Empty List!')\n",
    "    else:\n",
    "        print('Given List is not an Empty List!')\n",
    "except ValueError:\n",
    "    print(\"Invalid input.\")\n",
    "x=[]\n",
    "# x=[22]"
   ]
  },
  {
   "cell_type": "code",
   "execution_count": 79,
   "id": "e440d174-b10c-4764-a76d-089c2e213df3",
   "metadata": {
    "tags": []
   },
   "outputs": [
    {
     "name": "stdin",
     "output_type": "stream",
     "text": [
      "Enter a year you want to check: 2021\n"
     ]
    },
    {
     "name": "stdout",
     "output_type": "stream",
     "text": [
      "Year is not a Leap Year!\n"
     ]
    }
   ],
   "source": [
    "def check_leap_year(x):\n",
    "    if (x%4==0 and x%100!=0) or x%400==0:\n",
    "        return True\n",
    "    else:\n",
    "        return False\n",
    "try:\n",
    "    x=int(input('Enter a year you want to check:'))\n",
    "    if check_leap_year(x)==True:\n",
    "        print('Year is a Leap Year!')\n",
    "    else:\n",
    "        print('Year is not a Leap Year!')\n",
    "except ValueError:\n",
    "    print('Invaild Input!')"
   ]
  },
  {
   "cell_type": "code",
   "execution_count": 105,
   "id": "1dfff8fb-625e-4071-905b-d7b590774935",
   "metadata": {
    "tags": []
   },
   "outputs": [
    {
     "name": "stdin",
     "output_type": "stream",
     "text": [
      "Enter a String: madam\n"
     ]
    },
    {
     "name": "stdout",
     "output_type": "stream",
     "text": [
      "Given String is Palindrome!\n"
     ]
    }
   ],
   "source": [
    "def check_palindrome(x):\n",
    "    if x.isalnum():\n",
    "        if x[::-1]==x[0::]:\n",
    "            return True\n",
    "        else:\n",
    "            return False\n",
    "try:\n",
    "    x=input('Enter a String:')\n",
    "    if check_palindrome(x)==True:\n",
    "        print('Given String is Palindrome!')\n",
    "    else:\n",
    "        print('Given String is not Palindrome!')\n",
    "except Exception as e:\n",
    "    print(e)"
   ]
  },
  {
   "cell_type": "code",
   "execution_count": 116,
   "id": "a705ea06-09bf-4c69-b5ba-8b884e987934",
   "metadata": {
    "tags": []
   },
   "outputs": [
    {
     "name": "stdin",
     "output_type": "stream",
     "text": [
      "Enter Your Password (length betwee 8 and 16): afr12@hK$\n"
     ]
    },
    {
     "name": "stdout",
     "output_type": "stream",
     "text": [
      "Your Password is Validate! Strong Password\n"
     ]
    }
   ],
   "source": [
    "def password_validate(x):\n",
    "    if len(x)<8 and len(x)>16:\n",
    "        return False\n",
    "    a=any(i.isdigit() for i in x)\n",
    "    b=\"!@#$%^&*()_+[]{}|;:,.<>?/\"\n",
    "    c=any(i in b for i in x)\n",
    "    d=any(i.isupper() for i in x)\n",
    "    e=any(i.islower() for i in x)\n",
    "    return a and c and d and e\n",
    "x=(input(\"Enter Your Password (length betwee 8 and 16):\"))\n",
    "if password_validate(x):\n",
    "    print('Your Password is Validate! Strong Password')\n",
    "else:\n",
    "    print('Your Password is not Validate! Wrong Password')"
   ]
  },
  {
   "cell_type": "code",
   "execution_count": 130,
   "id": "05998aa2-be98-4b99-a787-72d4d397c9b9",
   "metadata": {
    "tags": []
   },
   "outputs": [
    {
     "name": "stdin",
     "output_type": "stream",
     "text": [
      "Enter Your Mail: abc@gmail.in\n"
     ]
    },
    {
     "name": "stdout",
     "output_type": "stream",
     "text": [
      "Your Mail is Valid!\n"
     ]
    }
   ],
   "source": [
    "import re\n",
    "def password_validate(x):  \n",
    "    y= r'^[a-zA-Z0-9._%+-]+@[a-zA-Z0-9.-]+\\.[a-zA-Z]{2,}$'\n",
    "    return re.match(y,x)\n",
    "try:\n",
    "    x=(input(\"Enter Your Mail:\"))\n",
    "    if password_validate(x):\n",
    "        print('Your Mail is Valid!')\n",
    "    else:\n",
    "        print('Your Mail Address is not Valid! Wrong Mail')\n",
    "except Exception as e:\n",
    "    print(\"An error occurred:\", e)"
   ]
  },
  {
   "cell_type": "code",
   "execution_count": 147,
   "id": "1a4a6d4f-ca85-4e55-8521-98fdc81a098e",
   "metadata": {
    "tags": []
   },
   "outputs": [
    {
     "name": "stdin",
     "output_type": "stream",
     "text": [
      "Input x-coordinate of the circle center:  5\n",
      "Input y-coordinate of the circle center:  4\n",
      "Input the radius of the circle:  3\n",
      "Input x-coordinate of the point:  8\n",
      "Input y-coordinate of the point:  9\n"
     ]
    },
    {
     "name": "stdout",
     "output_type": "stream",
     "text": [
      "The point is not within the circle area.\n"
     ]
    }
   ],
   "source": [
    "import math\n",
    "def check_point_in_circle(x, y, center_x, center_y, radius):\n",
    "    distance = math.sqrt((x - center_x)**2 + (y - center_y)**2)\n",
    "    return distance <= radius\n",
    "try:\n",
    "    center_x = float(input(\"Input x-coordinate of the circle center: \"))\n",
    "    center_y = float(input(\"Input y-coordinate of the circle center: \"))\n",
    "    radius = float(input(\"Input the radius of the circle: \"))\n",
    "    point_x = float(input(\"Input x-coordinate of the point: \"))\n",
    "    point_y = float(input(\"Input y-coordinate of the point: \"))\n",
    "    if check_point_in_circle(point_x, point_y, center_x, center_y, radius):\n",
    "        print(\"The point is within the circle area.\")\n",
    "    else:\n",
    "        print(\"The point is not within the circle area.\")\n",
    "except ValueError:\n",
    "    print(\"Invalid input. Please Input valid coordinates and radius.\")"
   ]
  },
  {
   "cell_type": "code",
   "execution_count": 152,
   "id": "a211fc14-565f-4b99-965e-01ff8b296469",
   "metadata": {
    "tags": []
   },
   "outputs": [
    {
     "name": "stdin",
     "output_type": "stream",
     "text": [
      "Enter UserName: pawan22\n",
      "Enter Password: Pawan2208\n"
     ]
    },
    {
     "name": "stdout",
     "output_type": "stream",
     "text": [
      "Authentication is Sucessful. Welcome!👍👍👍👍\n"
     ]
    }
   ],
   "source": [
    "def check_authentication(x,y):\n",
    "    a={\n",
    "        'pawan22':'Pawan2208',\n",
    "        'pawan2742':'pawan2@',\n",
    "        'pawan22yadav':'Pa2!Pa2!'\n",
    "      }\n",
    "    if x in a and a[x]==y:\n",
    "        return True\n",
    "    else:\n",
    "        return False\n",
    "x=input('Enter UserName:')\n",
    "y=input('Enter Password:')\n",
    "if check_authentication(x,y)==True:\n",
    "    print('Authentication is Sucessful. Welcome!👍👍👍👍')\n",
    "else:\n",
    "    print('Enter Valid Username & Password! 😞😞😞😞')"
   ]
  },
  {
   "cell_type": "code",
   "execution_count": null,
   "id": "8f1d5155-3859-46fb-8aca-d4eb2495c35d",
   "metadata": {},
   "outputs": [],
   "source": []
  }
 ],
 "metadata": {
  "kernelspec": {
   "display_name": "Python 3 (ipykernel)",
   "language": "python",
   "name": "python3"
  },
  "language_info": {
   "codemirror_mode": {
    "name": "ipython",
    "version": 3
   },
   "file_extension": ".py",
   "mimetype": "text/x-python",
   "name": "python",
   "nbconvert_exporter": "python",
   "pygments_lexer": "ipython3",
   "version": "3.11.3"
  }
 },
 "nbformat": 4,
 "nbformat_minor": 5
}
