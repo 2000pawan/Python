{
 "cells": [
  {
   "cell_type": "code",
   "execution_count": 7,
   "id": "0a26c9f4-542b-4f12-8a31-f662e81f1ca5",
   "metadata": {},
   "outputs": [
    {
     "name": "stdout",
     "output_type": "stream",
     "text": [
      "Employee Name:  Pawan Yadav\n",
      "Employee Country:  India\n",
      "\n",
      "Employee Name:  Pankaj Yadav\n",
      "Employee Country:  India\n",
      "\n",
      "Employee Name:  Prince Yadav\n",
      "Employee Country:  India\n",
      "\n",
      "Employee Name:  Ayush Thakur\n",
      "Employee Country:  India\n",
      "\n"
     ]
    }
   ],
   "source": [
    "from collections import namedtuple\n",
    "Employee=namedtuple('Employee',['name','age','country'])\n",
    "def main():\n",
    "    try:\n",
    "        employees=[\n",
    "            Employee('Pawan Yadav',23,'India'),\n",
    "            Employee('Pankaj Yadav',25,'India'),\n",
    "            Employee('Prince Yadav',4,'India'),\n",
    "            Employee('Ayush Thakur',22,'India')\n",
    "        ]\n",
    "        for i in employees:\n",
    "            print('Employee Name: ',i.name)\n",
    "            print('Employee Country: ',i.country)\n",
    "            print()\n",
    "    except Exception as e:\n",
    "        print('An error Occured:',e)\n",
    "main()"
   ]
  },
  {
   "cell_type": "code",
   "execution_count": 18,
   "id": "a5cb2dc6-e1f9-4337-af3c-45978646177a",
   "metadata": {
    "tags": []
   },
   "outputs": [
    {
     "name": "stdout",
     "output_type": "stream",
     "text": [
      "X:  22\n",
      "Y:  35\n",
      "Z:  45\n",
      "X:  15\n",
      "Y:  14\n",
      "Z:  19\n"
     ]
    }
   ],
   "source": [
    "from collections import namedtuple\n",
    "points=namedtuple('points',['x','y','z'])\n",
    "def main():\n",
    "    try:\n",
    "        point=[\n",
    "            points(22,35,45),\n",
    "            points(15,14,19)\n",
    "        ]\n",
    "        for i in point:\n",
    "            print('X: ',i.x),\n",
    "            print('Y: ',i.y),\n",
    "            print('Z: ',i.z)\n",
    "    except Exception as e:\n",
    "        print('An error Occured:',e)\n",
    "main()"
   ]
  },
  {
   "cell_type": "code",
   "execution_count": 39,
   "id": "22f194bd-4efc-448c-94d0-124bdd3c6a89",
   "metadata": {
    "tags": []
   },
   "outputs": [
    {
     "name": "stdout",
     "output_type": "stream",
     "text": [
      "Food: Momos, Price: $90.00\n",
      "Food: Gazar Ka Halwa, Price: $520.00\n",
      "Food: Gulab Jamun, Price: $280.00\n",
      "Food: Kala Jamun, Price: $300.00\n",
      "Food: Veg Biryani, Price: $100.00\n",
      "Food: Mountain Due, Price: $100.00\n",
      "...........................................................\n",
      "Food: Pizza, Price: $11.90\n",
      "Food: Burger, Price: $7.45\n",
      "Food: Salad, Price: $5.45\n"
     ]
    }
   ],
   "source": [
    "from collections import namedtuple as n\n",
    "Prices=n('Prices',['x','y','z','a','b','c'])\n",
    "def main():\n",
    "    try:\n",
    "        price=[Prices(280,300,520,100,90,100)]\n",
    "        for i in price:\n",
    "            pass\n",
    "        food={\n",
    "            'Momos':i.b,\n",
    "            'Gazar Ka Halwa':i.z,\n",
    "            'Gulab Jamun':i.x,\n",
    "            'Kala Jamun':i.y,\n",
    "            'Veg Biryani':i.a,\n",
    "            'Mountain Due':i.c\n",
    "            }\n",
    "        for f,j in food.items():\n",
    "            print(f\"Food: {f}, Price: ${j:.2f}\")\n",
    "    except Exception as e:\n",
    "        print('An error Occured:',e)\n",
    "main()\n",
    "#################################################################\n",
    "print('...........................................................')\n",
    "from collections import namedtuple\n",
    "Food = namedtuple(\"Food\", [\"name\", \"price\"])\n",
    "food1 = Food(\"Pizza\", 11.90)\n",
    "food2 = Food(\"Burger\", 7.45)\n",
    "food3 = Food(\"Salad\", 5.45)\n",
    "food_dict = {\n",
    "    food1.name: food1,\n",
    "    food2.name: food2,\n",
    "    food3.name: food3\n",
    "}\n",
    "for food_name, food_info in food_dict.items():\n",
    "    print(f\"Food: {food_name}, Price: ${food_info.price:.2f}\")"
   ]
  },
  {
   "cell_type": "code",
   "execution_count": 79,
   "id": "9b328977-8f32-4336-9158-83301e50f06b",
   "metadata": {
    "tags": []
   },
   "outputs": [
    {
     "name": "stdout",
     "output_type": "stream",
     "text": [
      ".......................................\n",
      "Name: Pawan Yadav\n",
      "Age: 16\n",
      "Class: 10th\n",
      "Marks: ['English:', 76, 'Hindi:', 76, 'Social Science:', 76, 'Maths:', 85, 'Science:', 85]\n",
      "Total Marks: 398\n",
      "Percentage: 79.6 %\n",
      ".......................................\n",
      ".......................................\n",
      "Name: Pawan Yadav\n",
      "Age: 19\n",
      "Class: 12th\n",
      "Marks: ['English:', 67, 'Hindi:', 64, 'Physics:', 58, 'Maths:', 48, 'Chemistry:', 50]\n",
      "Total Marks: 287\n",
      "Percentage: 57.4 %\n",
      ".......................................\n",
      ".......................................\n",
      "Name: Pawan Yadav\n",
      "Age: 23\n",
      "Class: B-Tech\n",
      "Marks: ['Sem 1:', 61.7, 'Sem 2:', 70.3, 'Sem 3:', 82.5, 'Sem 4:', 85, 'Sem 5:', 82.1, 'Sem 6:', 81.3, 'Sem 7:', 73.8, 'Sem 8:', 78.3]\n",
      "Total Marks: 615.0\n",
      "Percentage: 123.0 %\n",
      ".......................................\n"
     ]
    }
   ],
   "source": [
    "from collections import namedtuple as n\n",
    "Students=n('Students',['name','age','Class','marks'])\n",
    "i=[Students('Pawan Yadav',16,'10th',['English:',76,'Hindi:',76,'Social Science:',76,'Maths:',85,'Science:',85]),\n",
    "   Students('Pawan Yadav',19,'12th',['English:',67,'Hindi:',64,'Physics:',58,'Maths:',48,'Chemistry:',50]),\n",
    "   Students('Pawan Yadav',23,'B-Tech',['Sem 1:',61.7,'Sem 2:',70.3,'Sem 3:',82.5,'Sem 4:',85,'Sem 5:',82.1,'Sem 6:',81.3,'Sem 7:',73.8,'Sem 8:',78.3])\n",
    "  ]\n",
    "for s in i:\n",
    "    print('.......................................')\n",
    "    print('Name:',s.name)\n",
    "    print('Age:',s.age)\n",
    "    print('Class:',s.Class)\n",
    "    print(\"Marks:\",s.marks)\n",
    "    print(\"Total Marks:\",sum(s.marks[1::2]))\n",
    "    print('Percentage:',(sum(s.marks[1::2])*100)/500,'%')\n",
    "    print('.......................................')"
   ]
  },
  {
   "cell_type": "code",
   "execution_count": 69,
   "id": "f661cb9d-db37-47ba-8c55-fb3ffc606329",
   "metadata": {
    "tags": []
   },
   "outputs": [
    {
     "name": "stdout",
     "output_type": "stream",
     "text": [
      "Item Name: Mobile\n",
      "Item Price: 300.0\n",
      "\n",
      "Item Name: Desktop\n",
      "Item Price: 1500.0\n",
      "\n",
      "Item Name: Laptop\n",
      "Item Price: 1200.0\n",
      "\n"
     ]
    }
   ],
   "source": [
    "from collections import namedtuple\n",
    "Item = namedtuple(\"Item\", [\"name\", \"price\"])\n",
    "def get_item_info(item):\n",
    "    return item.name, item.price\n",
    "items = [\n",
    "    Item(name=\"Mobile\", price=300.00),\n",
    "    Item(name=\"Desktop\", price=1500.00),\n",
    "    Item(name=\"Laptop\", price=1200.00)\n",
    "]\n",
    "for item in items:\n",
    "    item_name, item_price = get_item_info(item)\n",
    "    print(\"Item Name:\", item_name)\n",
    "    print(\"Item Price:\", item_price)\n",
    "    print()"
   ]
  },
  {
   "cell_type": "code",
   "execution_count": 82,
   "id": "b6fd25e1-a860-423d-a345-7e367cc33357",
   "metadata": {
    "tags": []
   },
   "outputs": [
    {
     "name": "stdout",
     "output_type": "stream",
     "text": [
      ".......................................\n",
      "Name: Pawan Yadav\n",
      "Age: 16\n",
      "Class: 10th\n",
      "Marks: ['English:', 76, 'Hindi:', 76, 'Social Science:', 76, 'Maths:', 85, 'Science:', 85]\n",
      "Average Grade: 79.6\n",
      ".......................................\n",
      ".......................................\n",
      "Name: Pawan Yadav\n",
      "Age: 19\n",
      "Class: 12th\n",
      "Marks: ['English:', 67, 'Hindi:', 64, 'Physics:', 58, 'Maths:', 48, 'Chemistry:', 50]\n",
      "Average Grade: 57.4\n",
      ".......................................\n"
     ]
    }
   ],
   "source": [
    "from collections import namedtuple as n\n",
    "Students=n('Students',['name','age','Class','marks'])\n",
    "i=[Students('Pawan Yadav',16,'10th',['English:',76,'Hindi:',76,'Social Science:',76,'Maths:',85,'Science:',85]),\n",
    "   Students('Pawan Yadav',19,'12th',['English:',67,'Hindi:',64,'Physics:',58,'Maths:',48,'Chemistry:',50]),\n",
    "  ]\n",
    "for s in i:\n",
    "    print('.......................................')\n",
    "    print('Name:',s.name)\n",
    "    print('Age:',s.age)\n",
    "    print('Class:',s.Class)\n",
    "    print(\"Marks:\",s.marks)\n",
    "    print(\"Average Grade:\",sum(s.marks[1::2])/len(s.marks[1::2]))\n",
    "    print('.......................................')"
   ]
  },
  {
   "cell_type": "code",
   "execution_count": 85,
   "id": "50fb87c0-fdb3-4167-9783-1d293fa495ed",
   "metadata": {
    "tags": []
   },
   "outputs": [
    {
     "name": "stdout",
     "output_type": "stream",
     "text": [
      "Circle:-\n",
      "Radius: 5\n",
      "Center: Point(x=4, y=4)\n",
      "Value of x-coordinate: 4\n",
      "Value of y-coordinate 4\n"
     ]
    }
   ],
   "source": [
    "from collections import namedtuple\n",
    "Point = namedtuple('Point', ['x', 'y'])\n",
    "Circle = namedtuple('Circle', ['radius', 'center'])\n",
    "center = Point(x=4, y=4)  # Center at (0, 0)\n",
    "circle_instance = Circle(radius=5, center=center)\n",
    "print(\"Circle:-\")\n",
    "print(\"Radius:\", circle_instance.radius)\n",
    "print(\"Center:\", circle_instance.center)\n",
    "print(\"Value of x-coordinate:\", circle_instance.center.x)\n",
    "print(\"Value of y-coordinate\", circle_instance.center.y)"
   ]
  },
  {
   "cell_type": "code",
   "execution_count": 86,
   "id": "359e4957-3d77-4665-8360-61d5819450e9",
   "metadata": {
    "tags": []
   },
   "outputs": [
    {
     "name": "stdout",
     "output_type": "stream",
     "text": [
      "Sides of the triangle: 4 , 5 , 7\n",
      "Triangle Area: 9.797958971132712\n"
     ]
    }
   ],
   "source": [
    "from collections import namedtuple\n",
    "import math\n",
    "Triangle = namedtuple('Triangle', ['side1', 'side2', 'side3'])\n",
    "def triangle_area(triangle):\n",
    "    print(\"Sides of the triangle:\",triangle.side1,',',triangle.side2,',',triangle.side3)\n",
    "    s = (triangle.side1 + triangle.side2 + triangle.side3) / 2\n",
    "    area = math.sqrt(s * (s - triangle.side1) * (s - triangle.side2) * (s - triangle.side3))\n",
    "    return area\n",
    "triangle_instance = Triangle(side1=4, side2=5, side3=7)\n",
    "area = triangle_area(triangle_instance)\n",
    "print(\"Triangle Area:\", area)"
   ]
  },
  {
   "cell_type": "code",
   "execution_count": 87,
   "id": "7e27582a-1089-4f23-b3f1-a87d80c7c44f",
   "metadata": {
    "tags": []
   },
   "outputs": [
    {
     "name": "stdout",
     "output_type": "stream",
     "text": [
      "Car Make: Honda\n",
      "Car Model: City\n",
      "Car Year: 2020\n",
      "Car Engine Type: 1.5L\n",
      "Car Engine Cylinders: 4\n"
     ]
    }
   ],
   "source": [
    "from collections import namedtuple\n",
    "Engine = namedtuple('Engine', ['type', 'cylinders'])\n",
    "Car = namedtuple('Car', ['make', 'model', 'year', 'engine'])\n",
    "engine_instance = Engine(type='1.5L', cylinders=4)\n",
    "car_instance = Car(make='Honda', model='City', year=2020, engine=engine_instance)\n",
    "print(\"Car Make:\", car_instance.make)\n",
    "print(\"Car Model:\", car_instance.model)\n",
    "print(\"Car Year:\", car_instance.year)\n",
    "print(\"Car Engine Type:\", car_instance.engine.type)\n",
    "print(\"Car Engine Cylinders:\", car_instance.engine.cylinders)"
   ]
  },
  {
   "cell_type": "code",
   "execution_count": null,
   "id": "8761bfcc-c52d-4bdd-adc2-f7029e7b08c8",
   "metadata": {},
   "outputs": [],
   "source": []
  }
 ],
 "metadata": {
  "kernelspec": {
   "display_name": "Python 3 (ipykernel)",
   "language": "python",
   "name": "python3"
  },
  "language_info": {
   "codemirror_mode": {
    "name": "ipython",
    "version": 3
   },
   "file_extension": ".py",
   "mimetype": "text/x-python",
   "name": "python",
   "nbconvert_exporter": "python",
   "pygments_lexer": "ipython3",
   "version": "3.11.3"
  }
 },
 "nbformat": 4,
 "nbformat_minor": 5
}
