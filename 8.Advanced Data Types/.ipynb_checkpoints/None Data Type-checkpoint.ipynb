{
 "cells": [
  {
   "cell_type": "code",
   "execution_count": 23,
   "id": "cf739ee2-aa88-4f87-9a3f-f287fd80dedd",
   "metadata": {},
   "outputs": [
    {
     "name": "stdin",
     "output_type": "stream",
     "text": [
      "Enter a string: python\n"
     ]
    },
    {
     "name": "stdout",
     "output_type": "stream",
     "text": [
      "python\n"
     ]
    }
   ],
   "source": [
    "def check_str(x):\n",
    "    if x=='':\n",
    "        return None\n",
    "    else:\n",
    "        return x\n",
    "x=input('Enter a string:')\n",
    "print(check_str(x))"
   ]
  },
  {
   "cell_type": "code",
   "execution_count": 25,
   "id": "e649eac1-a4ee-44bf-bea3-b86c2023c026",
   "metadata": {
    "tags": []
   },
   "outputs": [
    {
     "name": "stdin",
     "output_type": "stream",
     "text": [
      "Enter a String: abcde\n"
     ]
    },
    {
     "name": "stdout",
     "output_type": "stream",
     "text": [
      "Middle character:\n",
      "c\n"
     ]
    }
   ],
   "source": [
    "def main(x):\n",
    "    y=len(x)//2\n",
    "    if len(x)%2==0:\n",
    "        print(\"String length is even, no middle character.\")\n",
    "        return None\n",
    "    else:\n",
    "        print(\"Middle character:\")\n",
    "        return (x[y])\n",
    "x=input('Enter a String:')\n",
    "print(main(x))"
   ]
  },
  {
   "cell_type": "code",
   "execution_count": 32,
   "id": "c5dea6c4-a974-4963-9e77-c19b0198ab36",
   "metadata": {
    "tags": []
   },
   "outputs": [
    {
     "name": "stdout",
     "output_type": "stream",
     "text": [
      "Pawan\n",
      "Yadav\n",
      "Empty String!\n",
      "Python\n",
      "Developer\n",
      "Empty String!\n"
     ]
    }
   ],
   "source": [
    "l=['Pawan','Yadav','','Python','Developer','']\n",
    "for i in l:\n",
    "    if i:\n",
    "        print(i)\n",
    "    else:\n",
    "        print('Empty String!')"
   ]
  },
  {
   "cell_type": "code",
   "execution_count": 44,
   "id": "5f84fd70-6486-4bb1-a77a-d8b4d484907d",
   "metadata": {
    "tags": []
   },
   "outputs": [
    {
     "name": "stdout",
     "output_type": "stream",
     "text": [
      "List is sorted in descending order.\n"
     ]
    }
   ],
   "source": [
    "def main(x):\n",
    "    if x==[]:\n",
    "        return None\n",
    "    else:\n",
    "        l=all(x[i]>=x[i+1] for i in range(len(x)-1))\n",
    "        return l\n",
    "try:\n",
    "    x=[8,5,4,3,1,0]\n",
    "    # x=[1,4,8,9]\n",
    "    # x=[]\n",
    "    if main(x)==None:\n",
    "        print(\"List is empty.\")\n",
    "    elif main(x):\n",
    "        print(\"List is sorted in descending order.\")\n",
    "    else:\n",
    "        print(\"List is not sorted in descending order.\")\n",
    "except Exception as e:\n",
    "    print(\"An error occurred:\", e)"
   ]
  },
  {
   "cell_type": "code",
   "execution_count": 47,
   "id": "7b85c908-e3cd-49c0-a48f-bb5c8604c7f6",
   "metadata": {
    "tags": []
   },
   "outputs": [
    {
     "name": "stdin",
     "output_type": "stream",
     "text": [
      "Enter a string: \n"
     ]
    },
    {
     "name": "stdout",
     "output_type": "stream",
     "text": [
      "None\n"
     ]
    },
    {
     "name": "stdin",
     "output_type": "stream",
     "text": [
      "Enter a string: pawan yadav\n"
     ]
    },
    {
     "name": "stdout",
     "output_type": "stream",
     "text": [
      "PAWAN YADAV\n"
     ]
    }
   ],
   "source": [
    "def main(x):\n",
    "    if x=='':\n",
    "        return None\n",
    "    else:\n",
    "        return x.upper()\n",
    "x=input('Enter a string:')\n",
    "print(main(x))\n",
    "x=input('Enter a string:')\n",
    "print(main(x))"
   ]
  },
  {
   "cell_type": "code",
   "execution_count": 62,
   "id": "dfe786a9-c8eb-4847-8f78-0a05adc11840",
   "metadata": {
    "tags": []
   },
   "outputs": [
    {
     "name": "stdin",
     "output_type": "stream",
     "text": [
      "Enter a Key: pawan\n"
     ]
    },
    {
     "name": "stdout",
     "output_type": "stream",
     "text": [
      "The value for key 'Pawan' is:\n",
      "Yadav\n"
     ]
    }
   ],
   "source": [
    "def retrive_value(x,y):\n",
    "    if not y in x.keys():\n",
    "        return (f\"Key '{y}' not found.\")\n",
    "    else:\n",
    "        print(f\"The value for key '{y}' is:\")\n",
    "        return x[y]\n",
    "x={\n",
    "    'Pawan':'Yadav',\n",
    "    \"Age\":'23',\n",
    "    \"B_tech\":'2023'\n",
    "}\n",
    "y=input('Enter a Key:').capitalize()\n",
    "print(retrive_value(x,y))"
   ]
  },
  {
   "cell_type": "code",
   "execution_count": 76,
   "id": "c9a2193c-1273-47ed-b6d6-314dc49083e0",
   "metadata": {
    "tags": []
   },
   "outputs": [
    {
     "name": "stdout",
     "output_type": "stream",
     "text": [
      "Number of None values: 3\n",
      "0\n"
     ]
    }
   ],
   "source": [
    "def count_none(x):\n",
    "    if x==[]:\n",
    "        return 0\n",
    "    else:\n",
    "        print(\"Number of None values:\",end=' ')\n",
    "        return x.count(None)\n",
    "x=['Pawan',None,'Yadav',22,8,274,24,232,200,None,2000,None]\n",
    "print(count_none(x))\n",
    "x=[]\n",
    "print(count_none(x))"
   ]
  },
  {
   "cell_type": "code",
   "execution_count": 94,
   "id": "21a65eda-0258-4a39-9846-fe34c3117b9a",
   "metadata": {
    "tags": []
   },
   "outputs": [
    {
     "name": "stdin",
     "output_type": "stream",
     "text": [
      "Enter a number: 5\n",
      "Enter a number: None\n"
     ]
    },
    {
     "name": "stdout",
     "output_type": "stream",
     "text": [
      "None\n"
     ]
    }
   ],
   "source": [
    "def sum_two(x,y):\n",
    "    if x is not None and y is not None:\n",
    "        return x+y\n",
    "    else:\n",
    "        return None\n",
    "x=eval(input('Enter a number:'))\n",
    "y=eval(input('Enter a number:'))\n",
    "print(sum_two(x,y))"
   ]
  },
  {
   "cell_type": "code",
   "execution_count": 105,
   "id": "2c7761d0-786a-449c-a575-14493c4ada06",
   "metadata": {
    "tags": []
   },
   "outputs": [
    {
     "name": "stdout",
     "output_type": "stream",
     "text": [
      "[1, None, 2, None, 3, None, 4, None, 5, None, 6, None, 7]\n"
     ]
    }
   ],
   "source": [
    "def main(x):\n",
    "    y=x \n",
    "    for i in range(1,len(x)*2-1,2):\n",
    "        y.insert(i,None)\n",
    "    return y\n",
    "x=[1,2,3,4,5,6,7]\n",
    "print(main(x))"
   ]
  },
  {
   "cell_type": "code",
   "execution_count": 108,
   "id": "67057ff7-42b8-43ac-830f-5601ed2d4a50",
   "metadata": {
    "tags": []
   },
   "outputs": [
    {
     "name": "stdout",
     "output_type": "stream",
     "text": [
      "Original String: Java Exercises!\n",
      "New String: Python Exercises!\n"
     ]
    }
   ],
   "source": [
    "def replace_substr(original_string, old_substring, new_substring):\n",
    "    if original_string:\n",
    "        return original_string.replace(old_substring, new_substring)\n",
    "    else:\n",
    "        return None\n",
    "def main():\n",
    "    try:\n",
    "        input_string = \"Java Exercises!\"\n",
    "        old_substr = \"Java\"\n",
    "        new_substr = \"Python\"\n",
    "        # input_string = ''\n",
    "        result = replace_substr(input_string, old_substr, new_substr)\n",
    "        if result is None:\n",
    "            print(\"Original string is empty.\")\n",
    "        else:\n",
    "            print(\"Original String:\", input_string)\n",
    "            print(\"New String:\", result)\n",
    "    except Exception as e:\n",
    "        print(\"An error occurred:\", e)\n",
    "main()"
   ]
  },
  {
   "cell_type": "code",
   "execution_count": null,
   "id": "a7b77f47-acc6-4bb6-a12d-1f41ec904487",
   "metadata": {},
   "outputs": [],
   "source": []
  }
 ],
 "metadata": {
  "kernelspec": {
   "display_name": "Python 3 (ipykernel)",
   "language": "python",
   "name": "python3"
  },
  "language_info": {
   "codemirror_mode": {
    "name": "ipython",
    "version": 3
   },
   "file_extension": ".py",
   "mimetype": "text/x-python",
   "name": "python",
   "nbconvert_exporter": "python",
   "pygments_lexer": "ipython3",
   "version": "3.11.3"
  }
 },
 "nbformat": 4,
 "nbformat_minor": 5
}
