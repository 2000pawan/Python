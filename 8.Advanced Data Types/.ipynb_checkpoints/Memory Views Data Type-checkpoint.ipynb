{
 "cells": [
  {
   "cell_type": "code",
   "execution_count": 8,
   "id": "6cc1f861-05e4-4170-a526-e8970e3c1f61",
   "metadata": {},
   "outputs": [
    {
     "name": "stdout",
     "output_type": "stream",
     "text": [
      "17\n",
      "Memory View Length: 17\n",
      "First 8 Bytes: <memory at 0x0000019701A15780>\n"
     ]
    }
   ],
   "source": [
    "def main():\n",
    "    try:\n",
    "        data = b\"Python Exercises!\"\n",
    "        mem_data  = memoryview(data)        \n",
    "        print(\"Memory View Length:\", len(mem_data))\n",
    "        print(\"First 8 Bytes:\", mem_data[:10])\n",
    "    except Exception as e:\n",
    "        print(\"An error occurred:\", e)\n",
    "if __name__ == \"__main__\":\n",
    "    main()"
   ]
  },
  {
   "cell_type": "code",
   "execution_count": 19,
   "id": "70bd9f5c-a4aa-4873-a956-77f16edb88b4",
   "metadata": {
    "tags": []
   },
   "outputs": [
    {
     "name": "stdout",
     "output_type": "stream",
     "text": [
      "Memory views:  <memory at 0x0000019702567100>\n",
      "Bytes Object: b'Pawan Yadav'\n",
      ".......................................................\n",
      "Memory views:  <memory at 0x0000019702567340>\n",
      "Bytes Object: b'Python Exercises!'\n"
     ]
    }
   ],
   "source": [
    "x=b'Pawan Yadav'\n",
    "y  = memoryview(x) \n",
    "z=bytes(y)\n",
    "print(\"Memory views: \",y)\n",
    "print(\"Bytes Object:\",z)\n",
    "#############################################################\n",
    "print('.......................................................')\n",
    "def memoryview_to_bytes(mem_view):\n",
    "    try:\n",
    "        bytes_data = bytes(mem_view)\n",
    "        return bytes_data\n",
    "    except Exception as e:\n",
    "        print(\"An error occurred:\", e)\n",
    "        return None\n",
    "def main():\n",
    "    try:\n",
    "        data = b\"Python Exercises!\"\n",
    "        mem_view = memoryview(data)\n",
    "        print(\"Memory views: \",mem_view)\n",
    "        bytes_data = memoryview_to_bytes(mem_view)\n",
    "        if bytes_data is not None:\n",
    "            print(\"Bytes Object:\", bytes_data)\n",
    "    except Exception as e:\n",
    "        print(\"An error occurred:\", e)\n",
    "if __name__ == \"__main__\":\n",
    "    main()"
   ]
  },
  {
   "cell_type": "code",
   "execution_count": 33,
   "id": "9eaa3556-bd50-43b3-945f-5421e4a4de88",
   "metadata": {
    "tags": []
   },
   "outputs": [
    {
     "name": "stdout",
     "output_type": "stream",
     "text": [
      "Memory views:\n",
      "<memory at 0x0000019702567580>\n",
      "Memory views:\n",
      "<memory at 0x0000019701E43100>\n",
      "\n",
      "1-D Memory View:\n",
      "[1, 2, 3, 4, 5, 6]\n",
      "\n",
      "3-D Memory View:\n",
      "[[[1, 2, 3], [4, 5, 6]], [[7, 8, 9], [10, 11, 12]]]\n",
      ".......................................................\n",
      "Memory views:\n",
      "<memory at 0x0000019702567640>\n",
      "<memory at 0x0000019701B648B0>\n",
      "\n",
      "1-D Memory View:\n",
      "[1, 2, 3, 4, 5, 6]\n",
      "\n",
      "3-D Memory View:\n",
      "[[[1, 2, 3], [4, 5, 6]], [[7, 8, 9], [10, 11, 12]]]\n"
     ]
    }
   ],
   "source": [
    "import numpy as np\n",
    "x=np.array([1, 2, 3, 4, 5, 6])\n",
    "y=np.array([[[1, 2, 3], [4, 5, 6]], [[7, 8, 9], [10, 11, 12]]])\n",
    "z=memoryview(x)\n",
    "p=memoryview(y)\n",
    "print(\"Memory views:\\n\",z,sep='')\n",
    "print(\"Memory views:\\n\",p,sep='')\n",
    "print(\"\\n1-D Memory View:\\n\",x.tolist(),sep='')\n",
    "print(\"\\n3-D Memory View:\\n\",y.tolist(),sep='')\n",
    "#############################################################\n",
    "print('.......................................................')\n",
    "def main():\n",
    "    try:\n",
    "        array_1_d = np.array([1, 2, 3, 4, 5, 6])\n",
    "        array_3_d = np.array([[[1, 2, 3], [4, 5, 6]], [[7, 8, 9], [10, 11, 12]]])\n",
    "        print(\"Memory views:\")\n",
    "        mem_view_1_d = memoryview(array_1_d)\n",
    "        print(mem_view_1_d)\n",
    "        mem_view_3_d = memoryview(array_3_d)\n",
    "        print(mem_view_3_d)\n",
    "        print(\"\\n1-D Memory View:\")\n",
    "        print(mem_view_1_d.tolist())\n",
    "        print(\"\\n3-D Memory View:\")\n",
    "        print(mem_view_3_d.tolist())\n",
    "    except Exception as e:\n",
    "        print(\"An error occurred:\", e)\n",
    "if __name__ == \"__main__\":\n",
    "    main()"
   ]
  },
  {
   "cell_type": "code",
   "execution_count": 34,
   "id": "4f224d6c-6548-4134-8b30-a47b34b4c568",
   "metadata": {
    "tags": []
   },
   "outputs": [
    {
     "name": "stdout",
     "output_type": "stream",
     "text": [
      "NumPy Array: [1 2 3 4 5 6]\n",
      "Memory View: <memory at 0x000001970325D900>\n",
      "Average: 3.5\n"
     ]
    }
   ],
   "source": [
    "import numpy as np\n",
    "x=np.array([1, 2, 3, 4, 5, 6])\n",
    "y=memoryview(x)\n",
    "z=0\n",
    "for i in y:\n",
    "    z+=i\n",
    "avg=z/len(y)\n",
    "print(\"NumPy Array:\", x)\n",
    "print(\"Memory View:\", y)\n",
    "print(\"Average:\", avg)"
   ]
  },
  {
   "cell_type": "code",
   "execution_count": 43,
   "id": "5d6d5c94-c4df-4ed5-a059-b8dfa9075fba",
   "metadata": {
    "tags": []
   },
   "outputs": [
    {
     "name": "stdout",
     "output_type": "stream",
     "text": [
      "File modification complete.\n"
     ]
    }
   ],
   "source": [
    "def modify_file_data(data):\n",
    "    for i in range(len(data)):\n",
    "        data[i] = (data[i] + 10) % 256\n",
    "def main():\n",
    "    input_file_path = \"radha.jpg\"\n",
    "    output_file_path = \"out.bin\"\n",
    "    with open(input_file_path, \"rb\") as input_file:\n",
    "        input_data = input_file.read()\n",
    "        input_bytearray = bytearray(input_data)\n",
    "    memory_view = memoryview(input_bytearray)\n",
    "    modify_file_data(memory_view)\n",
    "    with open(output_file_path, \"wb\") as output_file:\n",
    "        output_file.write(memory_view)\n",
    "    print(\"File modification complete.\")\n",
    "if __name__ == \"__main__\":\n",
    "    main()"
   ]
  },
  {
   "cell_type": "code",
   "execution_count": 61,
   "id": "cf762b4a-881e-4377-9162-c1a0e697cb37",
   "metadata": {
    "tags": []
   },
   "outputs": [
    {
     "name": "stdout",
     "output_type": "stream",
     "text": [
      "Original Data:\n",
      "b'Pawan Yadav '\n",
      "b'Python Developer!.....'\n",
      "\n",
      "Memory views:\n",
      "<memory at 0x0000019704F52080>\n",
      "<memory at 0x0000019704F50F40>\n",
      "\n",
      "Memory views of concatenated bytearray:\n",
      "<memory at 0x0000019704F510C0>\n",
      "\n",
      "Concatenated Memory View: Pawan Yadav Python Developer!.....\n"
     ]
    }
   ],
   "source": [
    "x=b'Pawan Yadav '\n",
    "y=b'Python Developer!.....'\n",
    "a=memoryview(x)\n",
    "b=memoryview(y)\n",
    "z=memoryview(bytearray(a) + bytearray(b))\n",
    "print('Original Data:\\n',x,'\\n',y,sep='')\n",
    "print(\"\\nMemory views:\\n\",a,'\\n',b,sep='')\n",
    "print(\"\\nMemory views of concatenated bytearray:\\n\",z,sep='')\n",
    "print(\"\\nConcatenated Memory View:\", z.tobytes().decode())"
   ]
  },
  {
   "cell_type": "code",
   "execution_count": 77,
   "id": "a160d3b8-6b1a-44ca-8612-cc389f9a09ae",
   "metadata": {
    "tags": []
   },
   "outputs": [
    {
     "name": "stdout",
     "output_type": "stream",
     "text": [
      "Original Memory View: [100, 200, 150, 200, 50]\n",
      "Modified Memory View: [110, 210, 160, 210, 60]\n"
     ]
    }
   ],
   "source": [
    "def test(memory_view):\n",
    "    for i in range(len(memory_view)):\n",
    "        memory_view[i] = (memory_view[i] + 10) % 256\n",
    "def main():\n",
    "    data = bytearray([100, 200, 150, 200, 50])\n",
    "    memory_view = memoryview(data)\n",
    "    print(\"Original Memory View:\", memory_view.tolist())\n",
    "    test(memory_view)\n",
    "    print(\"Modified Memory View:\", memory_view.tolist())\n",
    "if __name__ == \"__main__\":\n",
    "    main()"
   ]
  },
  {
   "cell_type": "code",
   "execution_count": 86,
   "id": "780d3360-c891-431c-a274-d9f9de5d277b",
   "metadata": {
    "tags": []
   },
   "outputs": [
    {
     "name": "stdout",
     "output_type": "stream",
     "text": [
      "bytearray(b'\\n\\x14\\x1e(2')\n",
      "bytearray(b'2(\\x1e\\x14\\n')\n",
      "[50, 40, 30, 20, 10]\n",
      ".......................................................\n",
      "Original Data: bytearray(b'\\n\\x14\\x1e(2')\n",
      "Original Memory View: [10, 20, 30, 40, 50]\n",
      "Reversed Bytearray: bytearray(b'2(\\x1e\\x14\\n')\n",
      "Original Memory View: [50, 40, 30, 20, 10]\n"
     ]
    }
   ],
   "source": [
    "x=bytearray([10, 20, 30, 40, 50])\n",
    "print(x)\n",
    "print(x[::-1])\n",
    "y=(memoryview(x[::-1]))\n",
    "print(y.tolist())\n",
    "#############################################################\n",
    "print('.......................................................')\n",
    "def test(memory_view):\n",
    "    reversed_memory_view = memory_view[::-1]\n",
    "    return bytearray(reversed_memory_view)\n",
    "def main():\n",
    "    original_data = bytearray([10, 20, 30, 40, 50])\n",
    "    original_memory_view = memoryview(original_data)\n",
    "    print(\"Original Data:\", original_data)\n",
    "    print(\"Original Memory View:\", original_memory_view.tolist())\n",
    "    reversed_bytearray = test(original_memory_view)\n",
    "    print(\"Reversed Bytearray:\", reversed_bytearray)\n",
    "    view = memoryview(reversed_bytearray)\n",
    "    print(\"Original Memory View:\", view.tolist())\n",
    "if __name__ == \"__main__\":\n",
    "    main()"
   ]
  },
  {
   "cell_type": "code",
   "execution_count": 88,
   "id": "fef5f6bb-dad2-47ec-a3cd-1b3b4824aad8",
   "metadata": {
    "tags": []
   },
   "outputs": [
    {
     "name": "stdout",
     "output_type": "stream",
     "text": [
      "Original Data: bytearray(b'\\x01\\x02\\x03\\x04\\x05\\x06\\x07\\x08\\t\\n')\n",
      "Sliced Memory View:\n",
      "bytearray(b'\\x04\\x05\\x06\\x07\\x08')\n",
      "[4, 5, 6, 7, 8]\n"
     ]
    }
   ],
   "source": [
    "def main():\n",
    "    original_data = bytearray([1, 2, 3, 4, 5, 6, 7, 8, 9, 10])\n",
    "    memory_view = memoryview(original_data)\n",
    "    start_index = 3\n",
    "    end_index = 8\n",
    "    sliced_memory_view = memory_view[start_index:end_index]\n",
    "    print(\"Original Data:\", original_data)\n",
    "    print(\"Sliced Memory View:\")\n",
    "    print(bytearray(sliced_memory_view))\n",
    "    print(sliced_memory_view.tolist())\n",
    "if __name__ == \"__main__\":\n",
    "    main()"
   ]
  },
  {
   "cell_type": "code",
   "execution_count": 94,
   "id": "281fb95e-c3d7-477d-a0fe-b0ed38388403",
   "metadata": {
    "tags": []
   },
   "outputs": [
    {
     "name": "stdout",
     "output_type": "stream",
     "text": [
      "Original list values: [8, 16, 42, 92, 128]\n",
      "<memory at 0x0000019704F52380>\n",
      "Hex Values of said list elements:\n",
      "0x8\n",
      "0x10\n",
      "0x2a\n",
      "0x5c\n",
      "0x80\n"
     ]
    }
   ],
   "source": [
    "def test(memory_view):\n",
    "    for element in memory_view:\n",
    "        print(hex(element))\n",
    "def main():\n",
    "    nums = [8, 16, 42, 92, 128]\n",
    "    print(\"Original list values:\",nums)\n",
    "    memory_view = memoryview(bytearray(nums))\n",
    "    print(memory_view)\n",
    "    print(\"Hex Values of said list elements:\")\n",
    "    test(memory_view)\n",
    "if __name__ == \"__main__\":\n",
    "    main()"
   ]
  },
  {
   "cell_type": "code",
   "execution_count": null,
   "id": "2cd9f5b2-5fdf-45a2-8275-2bb246468ac1",
   "metadata": {},
   "outputs": [],
   "source": []
  }
 ],
 "metadata": {
  "kernelspec": {
   "display_name": "Python 3 (ipykernel)",
   "language": "python",
   "name": "python3"
  },
  "language_info": {
   "codemirror_mode": {
    "name": "ipython",
    "version": 3
   },
   "file_extension": ".py",
   "mimetype": "text/x-python",
   "name": "python",
   "nbconvert_exporter": "python",
   "pygments_lexer": "ipython3",
   "version": "3.11.3"
  }
 },
 "nbformat": 4,
 "nbformat_minor": 5
}
