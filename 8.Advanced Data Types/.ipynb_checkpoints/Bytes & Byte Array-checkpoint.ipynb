{
 "cells": [
  {
   "cell_type": "code",
   "execution_count": 19,
   "id": "300b48ac-6c50-4474-b72f-e539a37595d1",
   "metadata": {},
   "outputs": [
    {
     "name": "stdout",
     "output_type": "stream",
     "text": [
      "Encoding: UTF-8\n",
      "Original String: Python Exercises!\n",
      "Encoded Bytes: b'Python Exercises!'\n",
      "Decoded String: Python Exercises!\n",
      "========================================\n",
      "Encoding: UTF-16\n",
      "Original String: Python Exercises!\n",
      "Encoded Bytes: b'\\xff\\xfeP\\x00y\\x00t\\x00h\\x00o\\x00n\\x00 \\x00E\\x00x\\x00e\\x00r\\x00c\\x00i\\x00s\\x00e\\x00s\\x00!\\x00'\n",
      "Decoded String: Python Exercises!\n",
      "========================================\n",
      "Encoding: ASCII\n",
      "Original String: Python Exercises!\n",
      "Encoded Bytes: b'Python Exercises!'\n",
      "Decoded String: Python Exercises!\n",
      "========================================\n"
     ]
    }
   ],
   "source": [
    "def convert_to_bytes(input_string, encoding):\n",
    "    try:\n",
    "        encoded_bytes = input_string.encode(encoding)\n",
    "        return encoded_bytes\n",
    "    except Exception as e:\n",
    "        print(\"Error:\", e)\n",
    "        return None\n",
    "def main():\n",
    "    try:\n",
    "        input_string = \"Python Exercises!\"\n",
    "        \n",
    "        encodings = [\"utf-8\", \"utf-16\", \"ascii\"]\n",
    "        for encoding in encodings:\n",
    "            encoded_bytes = convert_to_bytes(input_string, encoding)\n",
    "            if encoded_bytes is not None:\n",
    "                print(f\"Encoding: {encoding.upper()}\")\n",
    "                print(\"Original String:\", input_string)\n",
    "                print(\"Encoded Bytes:\", encoded_bytes)\n",
    "                print(\"Decoded String:\", encoded_bytes.decode(encoding))\n",
    "                print(\"=\" * 40)\n",
    "    except Exception as e:\n",
    "        print(\"An error occurred:\", e)\n",
    "main()"
   ]
  },
  {
   "cell_type": "code",
   "execution_count": 20,
   "id": "c7794904-a80e-49be-9b4c-9ddd41424f50",
   "metadata": {
    "tags": []
   },
   "outputs": [
    {
     "name": "stdout",
     "output_type": "stream",
     "text": [
      "Bytes 1:b'Python'\n",
      "Bytes 2:b'Developer'\n",
      "Concatenated Bytes:b'PythonDeveloper'\n",
      "Concatenated String: PythonDeveloper\n",
      ".................................................\n",
      "Bytes 1: b'Python '\n",
      "Bytes 2: b'Exercises!'\n",
      "Concatenated Bytes: b'Python Exercises!'\n",
      "Concatenated String: Python Exercises!\n"
     ]
    }
   ],
   "source": [
    "x=b'Python'\n",
    "y=b'Developer'\n",
    "p=x+y\n",
    "z=(x.decode('utf-8'))+y.decode('utf-8')\n",
    "print(\"Bytes 1:\",x,\"\\nBytes 2:\",y,\"\\nConcatenated Bytes:\",p,sep='')\n",
    "print(\"Concatenated String:\",z)\n",
    "####################################################\n",
    "print('.................................................')\n",
    "def concatenate_bytes(byte_obj1, byte_obj2):\n",
    "    concatenated_bytes = byte_obj1 + byte_obj2\n",
    "    return concatenated_bytes\n",
    "def main():\n",
    "    try:\n",
    "        str_bytes1 = b\"Python \"\n",
    "        str_bytes2 = b\"Exercises!\"        \n",
    "        concatenated_result = concatenate_bytes(str_bytes1, str_bytes2)        \n",
    "        print(\"Bytes 1:\", str_bytes1)\n",
    "        print(\"Bytes 2:\", str_bytes2)\n",
    "        print(\"Concatenated Bytes:\", concatenated_result)\n",
    "        print(\"Concatenated String:\", concatenated_result.decode(\"utf-8\"))\n",
    "    except Exception as e:\n",
    "        print(\"An error occurred:\", e)\n",
    "if __name__ == \"__main__\":\n",
    "    main()"
   ]
  },
  {
   "cell_type": "code",
   "execution_count": 35,
   "id": "4839cd59-9b4d-4aee-8fc0-528118c92e67",
   "metadata": {
    "tags": []
   },
   "outputs": [
    {
     "name": "stdout",
     "output_type": "stream",
     "text": [
      "Integer List: [11, 13, 15, 17, 19, 25, 28, 68, 37, 22]\n",
      "Bytearray: bytearray(b'\\x0b\\r\\x0f\\x11\\x13\\x19\\x1cD%\\x16')\n",
      "\u000f\u0011\u0013\u0019\u001c",
      "D%\u0016String: \u000b",
      "\n",
      "Integer List: [72, 123, 21, 108, 222, 67, 44, 38, 10]\n",
      "Bytearray: bytearray(b'H{\\x15l\\xdeC,&\\n')\n",
      "An error occurred: 'utf-8' codec can't decode byte 0xde in position 4: invalid continuation byte\n"
     ]
    }
   ],
   "source": [
    "l=[11,13,15,17,19,25,28,68,37, 22]\n",
    "p=[72, 123, 21, 108, 222, 67, 44, 38, 10]\n",
    "def convert_bytearray(l):\n",
    "    return bytearray(l)\n",
    "try:\n",
    "    q=(convert_bytearray(l))\n",
    "    print(\"Integer List:\", l)\n",
    "    print(\"Bytearray:\", q)\n",
    "    print(\"Decoded String:\", q.decode(\"utf-8\"))\n",
    "except Exception as e:\n",
    "    print(\"An error occurred:\", e)\n",
    "try:\n",
    "    y=(convert_bytearray(p))\n",
    "    print(\"Integer List:\", p)\n",
    "    print(\"Bytearray:\", y)\n",
    "    print(\"Decoded String:\", y.decode(\"utf-8\"))\n",
    "except Exception as e:\n",
    "    print(\"An error occurred:\", e)"
   ]
  },
  {
   "cell_type": "code",
   "execution_count": 39,
   "id": "e9b4040a-ec9b-4c16-80e8-e899e0223c37",
   "metadata": {
    "tags": []
   },
   "outputs": [
    {
     "name": "stdout",
     "output_type": "stream",
     "text": [
      "Image read and modified successfully.\n"
     ]
    }
   ],
   "source": [
    "def read_image(file_path):\n",
    "    with open(file_path, \"rb\") as file:\n",
    "        image_bytes = file.read()\n",
    "    return image_bytes\n",
    "def save_modified_image(file_path, modified_bytes):\n",
    "    with open(file_path, \"wb\") as file:\n",
    "        file.write(modified_bytes)\n",
    "def main():\n",
    "    try:\n",
    "        input_image_path = \"radha.jpg\"\n",
    "        output_image_path = \"output_image.png\"\n",
    "        original_image_bytes = read_image(input_image_path)\n",
    "        modified_image_bytes = original_image_bytes + b\"Greayscale\"\n",
    "        save_modified_image(output_image_path, modified_image_bytes)\n",
    "        print(\"Image read and modified successfully.\")\n",
    "    except Exception as e:\n",
    "        print(\"An error occurred:\", e)\n",
    "if __name__ == \"__main__\":\n",
    "    main()"
   ]
  },
  {
   "cell_type": "code",
   "execution_count": 58,
   "id": "ba083ded-e0db-4b81-854c-ffb221febfee",
   "metadata": {
    "tags": []
   },
   "outputs": [
    {
     "name": "stdout",
     "output_type": "stream",
     "text": [
      "Hexadecimal String: 506177616e205961646176\n",
      "Bytes Sequence: b'Pawan Yadav'\n",
      "Decoded String: Pawan Yadav\n",
      ".................................................\n",
      "Hexadecimal String: 4861636b657220436f6465\n",
      "Bytes Sequence: b'Hacker Code'\n",
      "Decoded String: Hacker Code\n"
     ]
    }
   ],
   "source": [
    "text = 'Pawan Yadav'\n",
    "z= ''.join([hex(ord(char))[2:] for char in text])\n",
    "y=bytes.fromhex(x)\n",
    "print(\"Hexadecimal String:\",z)\n",
    "print(\"Bytes Sequence:\",y)\n",
    "print(\"Decoded String:\", y.decode(\"utf-8\"))\n",
    "####################################################\n",
    "print('.................................................')\n",
    "def hex_str_to_bytes(hex_string):\n",
    "    try:\n",
    "        bytes_sequence = bytes.fromhex(hex_string)\n",
    "        return bytes_sequence\n",
    "    except ValueError as ve:\n",
    "        print(\"Error:\", ve)\n",
    "        return None\n",
    "def main():\n",
    "    try:\n",
    "        hex_string = \"4861636b657220436f6465\" \n",
    "        bytes_result = hex_str_to_bytes(hex_string)\n",
    "        if bytes_result is not None:\n",
    "            print(\"Hexadecimal String:\", hex_string)\n",
    "            print(\"Bytes Sequence:\", bytes_result)\n",
    "            print(\"Decoded String:\", bytes_result.decode(\"utf-8\"))\n",
    "    except Exception as e:\n",
    "        print(\"An error occurred:\", e)\n",
    "if __name__ == \"__main__\":\n",
    "    main()"
   ]
  },
  {
   "cell_type": "code",
   "execution_count": 62,
   "id": "271e2171-8a69-476d-bee3-17c0ab05c1bc",
   "metadata": {
    "tags": []
   },
   "outputs": [
    {
     "name": "stdout",
     "output_type": "stream",
     "text": [
      "Original Bytes: b'Pawan Yadav'\n",
      "Reversed Bytes: b'vadaY nawaP'\n",
      "Reversed String: vadaY nawaP\n",
      ".................................................\n",
      "Original Bytes: b'Python Exercises!'\n",
      "Reversed Bytes: b'!sesicrexE nohtyP'\n",
      "Reversed String: !sesicrexE nohtyP\n"
     ]
    }
   ],
   "source": [
    "x=b'Pawan Yadav'\n",
    "y=x[::-1]\n",
    "print(\"Original Bytes:\",x)\n",
    "print(\"Reversed Bytes:\",y)\n",
    "print(\"Reversed String:\",y.decode('utf-8'))\n",
    "####################################################\n",
    "print('.................................................')\n",
    "def reverse_bytes(byte_obj):\n",
    "    reversed_bytes = byte_obj[::-1]\n",
    "    return reversed_bytes\n",
    "def main():\n",
    "    try:\n",
    "        original_bytes = b\"Python Exercises!\"\n",
    "        reversed_result = reverse_bytes(original_bytes)\n",
    "        print(\"Original Bytes:\", original_bytes)\n",
    "        print(\"Reversed Bytes:\", reversed_result)\n",
    "        print(\"Reversed String:\", reversed_result.decode(\"utf-8\"))\n",
    "    except Exception as e:\n",
    "        print(\"An error occurred:\", e)\n",
    "if __name__ == \"__main__\":\n",
    "    main()"
   ]
  },
  {
   "cell_type": "code",
   "execution_count": 73,
   "id": "c27499a6-e6a0-4a2a-afb9-9563471c803d",
   "metadata": {
    "tags": []
   },
   "outputs": [
    {
     "name": "stdout",
     "output_type": "stream",
     "text": [
      "Bytes Object-1: b'Pawan Yadav'\n",
      "Bytes Object-2: b'Python Exercises!'\n",
      "Bytes Object-3: b'Pawan Yadav'\n",
      "Bytes Object-4: b'Python'\n",
      "Bytes Object-5: b'Java'\n",
      "Bytes Object-6: b'Exercises'\n",
      "Bytes Object-7: b'Python'\n",
      "Are Bytes x and y equal? False\n",
      "Are Bytes x and z equal? True\n",
      "Are Bytes a and b equal? False\n",
      "Are Bytes a and c equal? False\n",
      "Are Bytes a and d equal? True\n"
     ]
    }
   ],
   "source": [
    "def are_bytes_equal(x,y):\n",
    "    if x==y:\n",
    "        return (True)\n",
    "    else:\n",
    "        return (False)\n",
    "x=b'Pawan Yadav'\n",
    "y=b\"Python Exercises!\"\n",
    "z=b'Pawan Yadav'\n",
    "a= b\"Python\"\n",
    "b= b\"Java\"\n",
    "c= b\"Exercises\"\n",
    "d= b\"Python\"\n",
    "print(\"Bytes Object-1: \",x,\"\\nBytes Object-2: \",y,\"\\nBytes Object-3: \",z,\"\\nBytes Object-4: \",a,\"\\nBytes Object-5: \",b,\"\\nBytes Object-6: \",c,\"\\nBytes Object-7: \",d,sep='')\n",
    "print(\"Are Bytes x and y equal?\",are_bytes_equal(x,y))\n",
    "print(\"Are Bytes x and z equal?\",are_bytes_equal(x,z))\n",
    "print(\"Are Bytes a and b equal?\",are_bytes_equal(a,b))\n",
    "print(\"Are Bytes a and c equal?\",are_bytes_equal(a,c))\n",
    "print(\"Are Bytes a and d equal?\",are_bytes_equal(a,d))"
   ]
  },
  {
   "cell_type": "code",
   "execution_count": 76,
   "id": "9a6ff862-6c67-4ea4-98f5-feb938c3d4d1",
   "metadata": {
    "tags": []
   },
   "outputs": [
    {
     "name": "stdout",
     "output_type": "stream",
     "text": [
      "Original Bytes: b'Pawan Yadav'\n",
      "\n",
      "Compressed Bytes: b'x\\x9c\\x0bH,O\\xccS\\x88LLI,\\x03\\x00\\x17\\xe3\\x04\\r'\n",
      "\n",
      "Decompressed Bytes: b'Pawan Yadav'\n",
      "\n",
      "Decompressed String: Pawan Yadav\n"
     ]
    }
   ],
   "source": [
    "import zlib\n",
    "def compress_bytes(x):\n",
    "    y=zlib.compress(x)\n",
    "    return y\n",
    "def decompress_bytes(a):\n",
    "    b=zlib.decompress(a)\n",
    "    return b\n",
    "x=b'Pawan Yadav'\n",
    "a=compress_bytes(x)\n",
    "c=decompress_bytes(a)\n",
    "print(\"Original Bytes:\", x)\n",
    "print(\"\\nCompressed Bytes:\", a)\n",
    "print(\"\\nDecompressed Bytes:\", c)\n",
    "print(\"\\nDecompressed String:\", c.decode(\"utf-8\"))"
   ]
  },
  {
   "cell_type": "code",
   "execution_count": 85,
   "id": "411bcbdb-50b0-4565-8202-d5d64514d141",
   "metadata": {
    "tags": []
   },
   "outputs": [
    {
     "name": "stdout",
     "output_type": "stream",
     "text": [
      "No Match\n"
     ]
    }
   ],
   "source": [
    "import io\n",
    "def search_bytes_file(x,y):\n",
    "    with io.open(x,mode='rb') as f:\n",
    "        for l in f:\n",
    "            if y in l:\n",
    "                print(f\"Match found in file {x}\")\n",
    "                return True\n",
    "        else:\n",
    "            return False\n",
    "m=b'foobar'\n",
    "r=search_bytes_file('radha.jpg', m)\n",
    "if r:\n",
    "    print('Match Found')\n",
    "else:\n",
    "    print('No Match')"
   ]
  },
  {
   "cell_type": "code",
   "execution_count": 98,
   "id": "37445fcf-01e6-478c-bd04-b08f1bff94e1",
   "metadata": {
    "tags": []
   },
   "outputs": [
    {
     "name": "stdout",
     "output_type": "stream",
     "text": [
      "Original Bytearray: bytearray(b'\\x0b\\r\\x0f\\x11\\x13\\x19\\x84\\x1cD%\\x16')\n",
      "Bytes Object: b'\\x0b\\r\\x0f\\x11\\x13\\x19\\x84\\x1cD%\\x16'\n",
      "An error occurred: 'utf-8' codec can't decode byte 0x84 in position 6: invalid start byte\n",
      ".................................................\n",
      "Original Bytearray: bytearray(b'\\x0c3\\n\\x0f_f\\x84u')\n",
      "Bytes Object: b'\\x0c3\\n\\x0f_f\\x84u'\n",
      "An error occurred: 'utf-8' codec can't decode byte 0x84 in position 6: invalid start byte\n"
     ]
    }
   ],
   "source": [
    "x=bytearray([11,13,15,17,19,25,132,28,68,37, 22])\n",
    "y=bytes(x)\n",
    "try:\n",
    "    print(\"Original Bytearray:\",x)\n",
    "    print(\"Bytes Object:\",y)\n",
    "    print(\"Decoded String:\", y.decode(\"utf-8\"))\n",
    "except Exception as e:\n",
    "    print(\"An error occurred:\",e)\n",
    "####################################################\n",
    "print('.................................................')\n",
    "def bytearray_to_bytes(bytearray_obj):\n",
    "    bytes_obj = bytes(bytearray_obj)\n",
    "    return bytes_obj\n",
    "def main():\n",
    "    try:\n",
    "        original_bytearray = bytearray([12, 51, 10, 15, 95, 102, 132, 117])\n",
    "        bytes_result = bytearray_to_bytes(original_bytearray)\n",
    "        print(\"Original Bytearray:\", original_bytearray)\n",
    "        print(\"Bytes Object:\", bytes_result)\n",
    "        print(\"Decoded String:\", bytes_result.decode(\"utf-8\"))\n",
    "    except Exception as e:\n",
    "        print(\"An error occurred:\", e)\n",
    "if __name__ == \"__main__\":\n",
    "    main()"
   ]
  },
  {
   "cell_type": "code",
   "execution_count": null,
   "id": "04a2bb3e-5d78-48ea-8221-c1ef62044902",
   "metadata": {},
   "outputs": [],
   "source": []
  }
 ],
 "metadata": {
  "kernelspec": {
   "display_name": "Python 3 (ipykernel)",
   "language": "python",
   "name": "python3"
  },
  "language_info": {
   "codemirror_mode": {
    "name": "ipython",
    "version": 3
   },
   "file_extension": ".py",
   "mimetype": "text/x-python",
   "name": "python",
   "nbconvert_exporter": "python",
   "pygments_lexer": "ipython3",
   "version": "3.11.3"
  }
 },
 "nbformat": 4,
 "nbformat_minor": 5
}
