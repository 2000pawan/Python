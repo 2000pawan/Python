{
 "cells": [
  {
   "cell_type": "code",
   "execution_count": 19,
   "id": "33a9366a-93c5-4d10-8f48-915df76ec538",
   "metadata": {},
   "outputs": [
    {
     "name": "stdout",
     "output_type": "stream",
     "text": [
      "frozenset({1, 2, 3, 4, 5, 6, 7, 8, 9, 10, 15, 16})\n",
      "frozenset({1, 2, 3, 4, 5, 6, 7, 8, 9, 10, 15, 16})\n",
      "frozenset({6, 7})\n",
      "frozenset({6, 7})\n",
      "frozenset({1, 2, 3, 4, 5})\n",
      "frozenset({1, 2, 3, 4, 5})\n"
     ]
    }
   ],
   "source": [
    "a=frozenset([1,2,3,4,5,6,7])\n",
    "b=frozenset([9,7,8,6,10,15,16])\n",
    "x,y=a | b,a.union(b)\n",
    "p,q=a & b,a.intersection(b)\n",
    "c,d=a-b,a.difference(b)\n",
    "print(x)\n",
    "print(y)\n",
    "print(p)\n",
    "print(q)\n",
    "print(c)\n",
    "print(d)"
   ]
  },
  {
   "cell_type": "code",
   "execution_count": 20,
   "id": "f8b701bf-393e-4aa4-a905-36dfd9ea383f",
   "metadata": {
    "tags": []
   },
   "outputs": [
    {
     "name": "stdout",
     "output_type": "stream",
     "text": [
      "<class 'frozenset'>\n",
      "<class 'set'>\n",
      "<class 'frozenset'>\n",
      "....................................................................\n",
      "Frozen Set: frozenset({1, 2, 3, 4, 5})\n",
      "Type of Frozen Set: <class 'frozenset'>\n",
      "\n",
      "Converted to Set: {1, 2, 3, 4, 5}\n",
      "Type of Converted Set: <class 'set'>\n",
      "\n",
      "Regular Set: {3, 4, 5, 6, 7}\n",
      "Type of Regular Set: <class 'set'>\n",
      "\n",
      "Converted to Frozen Set: frozenset({3, 4, 5, 6, 7})\n",
      "Type of Converted Frozen Set: <class 'frozenset'>\n"
     ]
    }
   ],
   "source": [
    "x=frozenset([1,2,3,4,5,6,7,8,9])\n",
    "y=set(x)\n",
    "z=frozenset(y)\n",
    "print(type(x))\n",
    "print(type(y))\n",
    "print(type(z))\n",
    "###########################################################################\n",
    "print('....................................................................')\n",
    "frozen_set = frozenset([1, 2, 3, 4, 5])\n",
    "regular_set = set([3, 4, 5, 6, 7])\n",
    "converted_to_set = set(frozen_set)\n",
    "converted_to_frozenset = frozenset(regular_set)\n",
    "print(\"Frozen Set:\", frozen_set)\n",
    "print(\"Type of Frozen Set:\", type(frozen_set))\n",
    "print(\"\\nConverted to Set:\", converted_to_set)\n",
    "print(\"Type of Converted Set:\", type(converted_to_set))\n",
    "print(\"\\nRegular Set:\", regular_set)\n",
    "print(\"Type of Regular Set:\", type(regular_set))\n",
    "print(\"\\nConverted to Frozen Set:\", converted_to_frozenset)\n",
    "print(\"Type of Converted Frozen Set:\", type(converted_to_frozenset))"
   ]
  },
  {
   "cell_type": "code",
   "execution_count": 23,
   "id": "399291b9-28a9-42e1-981c-5655b79b3a5d",
   "metadata": {
    "tags": []
   },
   "outputs": [
    {
     "name": "stdout",
     "output_type": "stream",
     "text": [
      "Original frozensets:\n",
      "frozenset({1, 2, 3, 4, 5, 6, 7})\n",
      "frozenset({6, 7, 8, 9, 10, 15, 16})\n",
      "\n",
      "Symmetric Difference of said two frozenset: frozenset({1, 2, 3, 4, 5, 8, 9, 10, 15, 16})\n"
     ]
    }
   ],
   "source": [
    "a=frozenset([1,2,3,4,5,6,7])\n",
    "b=frozenset([9,7,8,6,10,15,16])\n",
    "c=a.symmetric_difference(b)\n",
    "print(\"Original frozensets:\")\n",
    "print(a)\n",
    "print(b)\n",
    "print(\"\\nSymmetric Difference of said two frozenset:\", c)"
   ]
  },
  {
   "cell_type": "code",
   "execution_count": 25,
   "id": "fa7535cf-67bb-4ff5-bffc-cfbca7d59af7",
   "metadata": {
    "tags": []
   },
   "outputs": [
    {
     "name": "stdout",
     "output_type": "stream",
     "text": [
      "Original Power set\n",
      "Power Set:\n",
      "frozenset()\n",
      "frozenset({1})\n",
      "frozenset({2})\n",
      "frozenset({1, 2})\n",
      "frozenset({3})\n",
      "frozenset({1, 3})\n",
      "frozenset({2, 3})\n",
      "frozenset({1, 2, 3})\n",
      "frozenset({4})\n",
      "frozenset({1, 4})\n",
      "frozenset({2, 4})\n",
      "frozenset({1, 2, 4})\n",
      "frozenset({3, 4})\n",
      "frozenset({1, 3, 4})\n",
      "frozenset({2, 3, 4})\n",
      "frozenset({1, 2, 3, 4})\n"
     ]
    }
   ],
   "source": [
    "def powerset(x):\n",
    "    z=[[]]\n",
    "    for i in x:\n",
    "        y=[]\n",
    "        for j in z:\n",
    "            p=j+[i]\n",
    "            y.append(p)\n",
    "        z.extend(y)\n",
    "    return [frozenset(j) for j in z]\n",
    "def main():\n",
    "    x = frozenset([1, 2, 3, 4])\n",
    "    print(\"Original Power set\")\n",
    "    power_set_result = powerset(x)\n",
    "    print(\"Power Set:\")\n",
    "    for subset in power_set_result:\n",
    "        print(subset)\n",
    "main()"
   ]
  },
  {
   "cell_type": "code",
   "execution_count": 29,
   "id": "dab3c0a0-0f96-449e-8b3b-7ab28e42907a",
   "metadata": {
    "tags": []
   },
   "outputs": [
    {
     "name": "stdout",
     "output_type": "stream",
     "text": [
      "Original List: [1, 2, 3, 4, 5, 6, 4, 5, 2, 3, 6]\n",
      "Unique Frozenset: frozenset({1, 2, 3, 4, 5, 6})\n"
     ]
    }
   ],
   "source": [
    "a=[1,2,3,4,5,6,4,5,2,3,6]\n",
    "b=frozenset(a)\n",
    "print(\"Original List:\",a)\n",
    "print(\"Unique Frozenset:\",b)"
   ]
  },
  {
   "cell_type": "code",
   "execution_count": 31,
   "id": "c4c6280b-ea6e-4907-845d-e812a83fa9b6",
   "metadata": {
    "tags": []
   },
   "outputs": [
    {
     "name": "stdout",
     "output_type": "stream",
     "text": [
      "Original List: [1, 2, 3, 4, 5, 6, 4, 5, 2, 3, 6]\n",
      "Unique Frozenset: frozenset({1, 2, 3, 4, 5, 6})\n",
      "Original List: [1, 1, 3, 3, 2, 5, 5, -7, -7, 6, 0]\n",
      "Unique Frozenset: frozenset({0, 1, 2, 3, 5, 6, -7})\n"
     ]
    }
   ],
   "source": [
    "a=[1,2,3,4,5,6,4,5,2,3,6]\n",
    "b=frozenset(a)\n",
    "print(\"Original List:\",a)\n",
    "print(\"Unique Frozenset:\",b)\n",
    "a=[1, 1, 3, 3, 2, 5, 5, -7, -7, 6, 0]\n",
    "b=frozenset(a)\n",
    "print(\"Original List:\",a)\n",
    "print(\"Unique Frozenset:\",b)"
   ]
  },
  {
   "cell_type": "code",
   "execution_count": 40,
   "id": "65034e0a-c25e-4a96-a0a8-8cef70d79fce",
   "metadata": {
    "tags": []
   },
   "outputs": [
    {
     "name": "stdout",
     "output_type": "stream",
     "text": [
      "True\n",
      "False\n"
     ]
    }
   ],
   "source": [
    "def check_disjoint(x,y):\n",
    "    if x.isdisjoint(y):\n",
    "        return True\n",
    "    else:\n",
    "        return False\n",
    "a=frozenset([1,2,3,4,5,6,7])\n",
    "b=frozenset([9,8,10,15,16])\n",
    "print(check_disjoint(a,b))\n",
    "a=frozenset([1,2,3,4,5,6,7])\n",
    "b=frozenset([1,2,3,4,5,6,7])\n",
    "print(check_disjoint(a,b))"
   ]
  },
  {
   "cell_type": "code",
   "execution_count": 42,
   "id": "9abcc826-e55d-4255-bdf6-21ab6c3cd59b",
   "metadata": {
    "tags": []
   },
   "outputs": [
    {
     "name": "stdout",
     "output_type": "stream",
     "text": [
      "It is not possible to add an element to a frozenset!\n",
      "It is not possible to remove an element from a frozenset!\n"
     ]
    }
   ],
   "source": [
    "def main():\n",
    "    a=frozenset([1,2,3,4,5,6,7])\n",
    "    try:\n",
    "        b=a.add(7)\n",
    "    except AttributeError:\n",
    "        print(\"It is not possible to add an element to a frozenset!\")\n",
    "    try:\n",
    "        c=a.remove(2)\n",
    "    except AttributeError:\n",
    "        print(\"It is not possible to remove an element from a frozenset!\")\n",
    "main()"
   ]
  },
  {
   "cell_type": "code",
   "execution_count": 43,
   "id": "31d506ba-a9f7-441b-846c-ecbb7ba06e17",
   "metadata": {
    "tags": []
   },
   "outputs": [
    {
     "name": "stdout",
     "output_type": "stream",
     "text": [
      "Key: frozenset({('age', 20), ('country', 'Spain'), ('name', 'Bernardetta Frigg')})\n",
      "Value: {'name': 'Bernardetta Frigg', 'age': 20, 'country': 'Spain'}\n",
      "\n",
      "Key: frozenset({('name', 'Fadhili Lilah'), ('age', 22), ('country', 'France')})\n",
      "Value: {'name': 'Fadhili Lilah', 'age': 22, 'country': 'France'}\n",
      "\n",
      "Key: frozenset({('country', 'USA'), ('age', 21), ('name', 'Abbe Ivan')})\n",
      "Value: {'name': 'Abbe Ivan', 'age': 21, 'country': 'USA'}\n",
      "\n"
     ]
    }
   ],
   "source": [
    "def main():\n",
    "    emp1 = {\"name\": \"Bernardetta Frigg\", \"age\": 20, \"country\": \"Spain\"}\n",
    "    emp2 = {\"name\": \"Fadhili Lilah\", \"age\": 22, \"country\": \"France\"}\n",
    "    emp3 = {\"name\": \"Abbe Ivan\", \"age\": 21, \"country\": \"USA\"}\n",
    "    employees_data = {\n",
    "        frozenset(emp1.items()): emp1,\n",
    "        frozenset(emp2.items()): emp2,\n",
    "        frozenset(emp3.items()): emp3\n",
    "    }\n",
    "    for key, value in employees_data.items():\n",
    "        print(\"Key:\", key)\n",
    "        print(\"Value:\", value)\n",
    "        print()\n",
    "if __name__ == \"__main__\":\n",
    "    main()"
   ]
  },
  {
   "cell_type": "code",
   "execution_count": 8,
   "id": "b5cedbc3-a323-4203-a7e5-870a603cbd87",
   "metadata": {},
   "outputs": [
    {
     "name": "stdout",
     "output_type": "stream",
     "text": [
      "{1, 121, 225, 9, 169, 81, 49, 25}   <class 'set'>\n",
      "frozenset({1, 121, 225, 9, 169, 81, 49, 25})   <class 'frozenset'>\n"
     ]
    }
   ],
   "source": [
    "x={i**2 for i in range(1,16) if i%2  !=0}\n",
    "y=frozenset(x)\n",
    "print(x,' ',type(x))\n",
    "print(y,' ',type(y))"
   ]
  },
  {
   "cell_type": "code",
   "execution_count": null,
   "id": "a42a1250-2a4f-4e3a-b6c2-ca290a05e9a2",
   "metadata": {},
   "outputs": [],
   "source": []
  }
 ],
 "metadata": {
  "kernelspec": {
   "display_name": "Python 3 (ipykernel)",
   "language": "python",
   "name": "python3"
  },
  "language_info": {
   "codemirror_mode": {
    "name": "ipython",
    "version": 3
   },
   "file_extension": ".py",
   "mimetype": "text/x-python",
   "name": "python",
   "nbconvert_exporter": "python",
   "pygments_lexer": "ipython3",
   "version": "3.11.3"
  }
 },
 "nbformat": 4,
 "nbformat_minor": 5
}
