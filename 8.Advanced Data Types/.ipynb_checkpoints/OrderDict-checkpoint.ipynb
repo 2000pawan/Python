{
 "cells": [
  {
   "cell_type": "code",
   "execution_count": 2,
   "id": "f05e0241-98fc-4aea-aa30-0407753c83ea",
   "metadata": {},
   "outputs": [
    {
     "name": "stdout",
     "output_type": "stream",
     "text": [
      "Name:Pawan,Last Name:Yadav\n",
      "Name:B-Tech,Last Name:CSE\n",
      "Name:Mobile,Last Name:8882293337\n"
     ]
    }
   ],
   "source": [
    "from collections import OrderedDict\n",
    "x=OrderedDict()\n",
    "x['Pawan']='Yadav'\n",
    "x['B-Tech']='CSE'\n",
    "x['Mobile']=8882293337\n",
    "for i,j in x.items():\n",
    "    print(f'Name:{i},Last Name:{j}')"
   ]
  },
  {
   "cell_type": "code",
   "execution_count": 6,
   "id": "96bab757-7618-4bf2-a1c2-80763795756f",
   "metadata": {
    "tags": []
   },
   "outputs": [
    {
     "name": "stdout",
     "output_type": "stream",
     "text": [
      "OrderedDict contents:\n",
      "Itemt: Y, Quantity: 6\n",
      "Itemt: X, Quantity: 80\n",
      "Itemt: A, Quantity: 65\n",
      "\n",
      "Sorted by keys:\n",
      "Item: A, Quantity: 65\n",
      "Item: X, Quantity: 80\n",
      "Item: Y, Quantity: 6\n",
      "\n",
      "Sorted by values:\n",
      "Item: Y, Quantity: 6\n",
      "Item: A, Quantity: 65\n",
      "Item: X, Quantity: 80\n"
     ]
    }
   ],
   "source": [
    "from collections import OrderedDict\n",
    "x=OrderedDict()\n",
    "x['Y']=6\n",
    "x['X']=80\n",
    "x['A']=65\n",
    "print(\"OrderedDict contents:\")\n",
    "for i,j in x.items():\n",
    "    print(f\"Itemt: {i}, Quantity: {j}\")\n",
    "y=OrderedDict(sorted(x.items(),key=lambda i: i[0]))\n",
    "z=OrderedDict(sorted(x.items(),key=lambda i: i[1]))\n",
    "print(\"\\nSorted by keys:\")\n",
    "for i,j in y.items():\n",
    "    print(f\"Item: {i}, Quantity: {j}\")\n",
    "print(\"\\nSorted by values:\")\n",
    "for i,j in z.items():\n",
    "    print(f\"Item: {i}, Quantity: {j}\")"
   ]
  },
  {
   "cell_type": "code",
   "execution_count": 28,
   "id": "c46fd73e-61cc-4868-9471-7afe3b697b4d",
   "metadata": {
    "tags": []
   },
   "outputs": [
    {
     "name": "stdout",
     "output_type": "stream",
     "text": [
      "OrderedDict contents:\n",
      "Itemt: a, Quantity: 24\n",
      "Itemt: b, Quantity: 52\n",
      "Itemt: d, Quantity: 14\n",
      "Itemt: s, Quantity: 30\n"
     ]
    },
    {
     "name": "stdin",
     "output_type": "stream",
     "text": [
      "Enter Key: z\n"
     ]
    },
    {
     "name": "stdout",
     "output_type": "stream",
     "text": [
      "An Error Occured: Key Not in Dictionary. \n"
     ]
    }
   ],
   "source": [
    "from collections import OrderedDict as od\n",
    "x=od()\n",
    "x['a']=24\n",
    "x['b']=52\n",
    "x['d']=14\n",
    "x['s']=30\n",
    "try:\n",
    "    print(\"OrderedDict contents:\")\n",
    "    for i,j in x.items():\n",
    "        print(f\"Itemt: {i}, Quantity: {j}\")\n",
    "    y=input('Enter Key:')\n",
    "    print(x[y])\n",
    "    if y in x.keys():\n",
    "        print(True)\n",
    "except Exception:\n",
    "    print('An Error Occured: Key Not in Dictionary. ')"
   ]
  },
  {
   "cell_type": "code",
   "execution_count": 46,
   "id": "5543e31a-0fb7-4766-9e2c-607f81d55f86",
   "metadata": {
    "tags": []
   },
   "outputs": [
    {
     "name": "stdout",
     "output_type": "stream",
     "text": [
      "OrderedDict([('a', 24), ('b', 52), ('d', 14), ('s', 30)])\n",
      "OrderedDict([('s', 30), ('d', 14), ('b', 52), ('a', 24)])\n"
     ]
    }
   ],
   "source": [
    "from collections import OrderedDict as od\n",
    "x=od()\n",
    "x['a']=24\n",
    "x['b']=52\n",
    "x['d']=14\n",
    "x['s']=30\n",
    "print(OrderedDict(x.items()))\n",
    "y=OrderedDict(reversed(list(x.items())))\n",
    "print(y)"
   ]
  },
  {
   "cell_type": "code",
   "execution_count": 51,
   "id": "7d8b6788-8433-4ca2-ae6d-3b6638fe6e15",
   "metadata": {
    "tags": []
   },
   "outputs": [
    {
     "name": "stdout",
     "output_type": "stream",
     "text": [
      "Original OrderedDict:\n",
      "odict_items([('Laptop', 40), ('Desktop', 45), ('Mobile', 35), ('Charger', 25)])\n",
      "\n",
      "Move the 'Desktop' key to the end\n",
      "odict_items([('Laptop', 40), ('Mobile', 35), ('Charger', 25), ('Desktop', 45)])\n"
     ]
    }
   ],
   "source": [
    "from collections import OrderedDict as od\n",
    "x=od()\n",
    "x['Laptop']= 40\n",
    "x['Desktop']= 45\n",
    "x['Mobile'] = 35\n",
    "x['Charger'] = 25\n",
    "print(\"Original OrderedDict:\")\n",
    "print(x.items())\n",
    "x.move_to_end('Desktop')\n",
    "print(\"\\nMove the 'Desktop' key to the end\")\n",
    "print(x.items())"
   ]
  },
  {
   "cell_type": "code",
   "execution_count": 54,
   "id": "4a00f7b2-cbef-41bb-a528-be01c8014ee1",
   "metadata": {
    "tags": []
   },
   "outputs": [
    {
     "name": "stdout",
     "output_type": "stream",
     "text": [
      "Original OrderedDict:\n",
      "odict_items([('Laptop', 40), ('Desktop', 45), ('Mobile', 35), ('Charger', 25)])\n",
      "\n",
      "Remove the first key-value pair of the said OrderedDict:\n",
      "odict_items([('Desktop', 45), ('Mobile', 35), ('Charger', 25)])\n"
     ]
    }
   ],
   "source": [
    "from collections import OrderedDict as od\n",
    "x=od()\n",
    "x['Laptop']= 40\n",
    "x['Desktop']= 45\n",
    "x['Mobile'] = 35\n",
    "x['Charger'] = 25\n",
    "print(\"Original OrderedDict:\")\n",
    "print(x.items())\n",
    "x.popitem(last=False)\n",
    "print(\"\\nRemove the first key-value pair of the said OrderedDict:\")\n",
    "print(x.items())"
   ]
  },
  {
   "cell_type": "code",
   "execution_count": 57,
   "id": "7c784b10-ed29-49d3-8736-0a72a2af26b7",
   "metadata": {
    "tags": []
   },
   "outputs": [
    {
     "name": "stdout",
     "output_type": "stream",
     "text": [
      "\n",
      "Merged Dictionary:  OrderedDict([('Laptop', 100), ('Desktop', 93), ('Mobile', 35), ('Charger', 25)])\n"
     ]
    }
   ],
   "source": [
    "from collections import OrderedDict as od\n",
    "x=od()\n",
    "x['Laptop']= 40\n",
    "x['Desktop']= 45\n",
    "x['Mobile'] = 35\n",
    "x['Charger'] = 25\n",
    "y=od()\n",
    "y['Laptop']= 60\n",
    "y['Desktop']= 48\n",
    "def merge_ordered_dicts(dict1, dict2):\n",
    "    merged_dict = OrderedDict()\n",
    "\n",
    "    for key, value in dict1.items():\n",
    "        if key in merged_dict:\n",
    "            merged_dict[key] += value\n",
    "        else:\n",
    "            merged_dict[key] = value\n",
    "\n",
    "    for key, value in dict2.items():\n",
    "        if key in merged_dict:\n",
    "            merged_dict[key] += value\n",
    "        else:\n",
    "            merged_dict[key] = value\n",
    "    return merged_dict\n",
    "merged_ordered_dict = merge_ordered_dicts(x,y)\n",
    "print(\"\\nMerged Dictionary: \",merged_ordered_dict)"
   ]
  },
  {
   "cell_type": "code",
   "execution_count": 70,
   "id": "ed48f1c0-1c66-47e0-974e-3036c7825c8c",
   "metadata": {
    "tags": []
   },
   "outputs": [
    {
     "name": "stdin",
     "output_type": "stream",
     "text": [
      "Enter a Key: laptop\n"
     ]
    },
    {
     "name": "stdout",
     "output_type": "stream",
     "text": [
      "\n",
      "Key to remove: Laptop\n",
      "Key 'Laptop' removed successfully.\n",
      "Updated OrderedDict:\n",
      "OrderedDict([('Desktop', 45), ('Mobile', 35), ('Charger', 25)])\n"
     ]
    }
   ],
   "source": [
    "from collections import OrderedDict as od\n",
    "x=od()\n",
    "x['Laptop']= 40\n",
    "x['Desktop']= 45\n",
    "x['Mobile'] = 35\n",
    "x['Charger'] = 25\n",
    "try:\n",
    "    y=input('Enter a Key:').capitalize()\n",
    "    del (x[y])\n",
    "    print(\"\\nKey to remove:\",y)\n",
    "    print(f\"Key '{y}' removed successfully.\")\n",
    "    print(\"Updated OrderedDict:\\n\",x,sep='')\n",
    "except Exception:\n",
    "    print('An Error occured Key not present in x')"
   ]
  },
  {
   "cell_type": "code",
   "execution_count": 71,
   "id": "3d3fc324-9fd3-41b3-9e6a-975273f0b690",
   "metadata": {
    "tags": []
   },
   "outputs": [
    {
     "name": "stdout",
     "output_type": "stream",
     "text": [
      "OrderedDict: OrderedDict([('N', 2), ('J', 6), ('I', 48), ('S', 11), ('L', 38), ('U', 40), ('G', 35), ('B', 24), ('Z', 16)])\n"
     ]
    }
   ],
   "source": [
    "import random\n",
    "from collections import OrderedDict\n",
    "def  random_ascii():\n",
    "    return chr(random.randint(65, 90))\n",
    "def main():\n",
    "    ordered_dict = OrderedDict()\n",
    "    for _ in range(10):\n",
    "        key = random_ascii()\n",
    "        value = random.randint(1, 50)\n",
    "        ordered_dict[key] = value\n",
    "    print(\"OrderedDict:\", ordered_dict)\n",
    "if __name__ == \"__main__\":\n",
    "    main()"
   ]
  },
  {
   "cell_type": "code",
   "execution_count": 72,
   "id": "7b9568b5-3144-4b87-a756-0a2ee169fb62",
   "metadata": {
    "tags": []
   },
   "outputs": [
    {
     "name": "stdout",
     "output_type": "stream",
     "text": [
      "Red: 3\n",
      "Green: 5\n",
      "Pink: 4\n",
      "White: 5\n",
      "Orange: 6\n"
     ]
    }
   ],
   "source": [
    "from collections import OrderedDict\n",
    "def word_lengths_ordered_dict(words):\n",
    "    ordered_dict = OrderedDict()  \n",
    "    for word in words:\n",
    "        ordered_dict[word] = len(word)\n",
    "    return ordered_dict\n",
    "def main():\n",
    "    words = [\"Red\", \"Green\", \"Pink\", \"White\", \"Orange\"]\n",
    "    result = word_lengths_ordered_dict(words)\n",
    "    for word, length in result.items():\n",
    "        print(f\"{word}: {length}\")\n",
    "if __name__ == \"__main__\":\n",
    "    main()"
   ]
  },
  {
   "cell_type": "code",
   "execution_count": null,
   "id": "68676f23-61b4-475c-8edf-1da48fc96472",
   "metadata": {},
   "outputs": [],
   "source": []
  }
 ],
 "metadata": {
  "kernelspec": {
   "display_name": "Python 3 (ipykernel)",
   "language": "python",
   "name": "python3"
  },
  "language_info": {
   "codemirror_mode": {
    "name": "ipython",
    "version": 3
   },
   "file_extension": ".py",
   "mimetype": "text/x-python",
   "name": "python",
   "nbconvert_exporter": "python",
   "pygments_lexer": "ipython3",
   "version": "3.11.3"
  }
 },
 "nbformat": 4,
 "nbformat_minor": 5
}
