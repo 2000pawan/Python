{
 "cells": [
  {
   "cell_type": "code",
   "execution_count": 1,
   "id": "f4d5bd5a-2346-4901-b9e3-d4cfa5a4f72b",
   "metadata": {},
   "outputs": [
    {
     "name": "stdout",
     "output_type": "stream",
     "text": [
      "Letter Counter:\n",
      "P:1\n",
      "a:4\n",
      "w:1\n",
      "n:1\n",
      "Y:1\n",
      "d:1\n",
      "v:1\n"
     ]
    }
   ],
   "source": [
    "from collections import Counter as c\n",
    "t='Pawan Yadav!'\n",
    "x=c(t)\n",
    "print('Letter Counter:')\n",
    "for i,j in x.items():\n",
    "    if i.isalpha():\n",
    "        print(f'{i}:{j}') "
   ]
  },
  {
   "cell_type": "code",
   "execution_count": 17,
   "id": "0f9b9740-8829-4946-9961-88778d569efd",
   "metadata": {
    "tags": []
   },
   "outputs": [
    {
     "name": "stdout",
     "output_type": "stream",
     "text": [
      "1 4\n",
      "4 4\n",
      "2 3\n",
      "5 3\n",
      "41 1\n",
      "36 1\n",
      "9 1\n",
      "7 1\n",
      "6 1\n",
      "20 1\n"
     ]
    }
   ],
   "source": [
    "from collections import Counter as c\n",
    "x=c([1,2,5,41,1,2,36,9,4,1,5,2,4,7,1,4,4,5,6,20])\n",
    "for i,j in x.most_common():\n",
    "    print(i,j)"
   ]
  },
  {
   "cell_type": "code",
   "execution_count": 21,
   "id": "94afb820-518a-4c66-807f-1920ca157d7d",
   "metadata": {
    "tags": []
   },
   "outputs": [
    {
     "name": "stdout",
     "output_type": "stream",
     "text": [
      "Vowels Counts!\n",
      "o : 1\n",
      "E : 1\n",
      "e : 2\n",
      "i : 1\n"
     ]
    }
   ],
   "source": [
    "from collections import Counter as c\n",
    "x='Python Exercises'\n",
    "y='aeiouAEIOU'\n",
    "z=c(i for i in x if i in y)\n",
    "print('Vowels Counts!')\n",
    "for i,j in z.items():\n",
    "    print(f'{i} : {j}')"
   ]
  },
  {
   "cell_type": "code",
   "execution_count": 25,
   "id": "c8edc059-96ea-4a9c-93ee-9746773c2e04",
   "metadata": {
    "tags": []
   },
   "outputs": [
    {
     "name": "stdout",
     "output_type": "stream",
     "text": [
      "..................................\n",
      "Counter({1: 2, 2: 2, 5: 1, 41: 1, 36: 1, 9: 1, 4: 1})\n",
      "..................................\n",
      "Counter({4: 4, 1: 2, 5: 2, 2: 1, 7: 1, 6: 1, 20: 1})\n",
      "..................................\n",
      "Counter({4: 5, 1: 4, 2: 3, 5: 3, 41: 1, 36: 1, 9: 1, 7: 1, 6: 1, 20: 1})\n",
      "..................................\n",
      "Counter({1: 2, 2: 1, 5: 1, 4: 1})\n",
      "..................................\n",
      "Counter({2: 1, 41: 1, 36: 1, 9: 1})\n",
      "..................................\n",
      "Union Counter: Counter({'z': 13, 'x': 4, 'y': 4})\n",
      "\n",
      "Intersection Counter: Counter({'z': 3, 'y': 2, 'x': 1})\n",
      "\n",
      "Difference Counter: Counter({'z': 7, 'x': 2})\n"
     ]
    }
   ],
   "source": [
    "from collections import Counter as c\n",
    "x=c([1,2,5,41,1,2,36,9,4])\n",
    "y=c([4,1,5,2,4,7,1,4,4,5,6,20])\n",
    "z=x + y\n",
    "a=x & y\n",
    "b=x - y\n",
    "print('..................................')\n",
    "print(x)\n",
    "print('..................................')\n",
    "print(y)\n",
    "print('..................................')\n",
    "print(z)\n",
    "print('..................................')\n",
    "print(a)\n",
    "print('..................................')\n",
    "print(b)\n",
    "print('..................................')\n",
    "ctr1 = c(x=3, y=2, z=10)\n",
    "ctr2 = c(x=1, y=2, z=3)\n",
    "union_counter = ctr1 + ctr2\n",
    "print(\"Union Counter:\", union_counter)\n",
    "intersection_counter = ctr1 & ctr2\n",
    "print(\"\\nIntersection Counter:\", intersection_counter)\n",
    "difference_counter = ctr1 - ctr2\n",
    "print(\"\\nDifference Counter:\", difference_counter)"
   ]
  },
  {
   "cell_type": "code",
   "execution_count": 28,
   "id": "2b695b28-d274-4dce-a22a-a466084876ee",
   "metadata": {
    "tags": []
   },
   "outputs": [
    {
     "name": "stdout",
     "output_type": "stream",
     "text": [
      "Words in Ascending Order!\n",
      "Green : 1\n",
      "red : 1\n",
      "Orange : 1\n",
      "White. : 1\n",
      "Black : 2\n",
      "Pink : 2\n",
      "Red : 3\n",
      "\n",
      "Words in Descending Order!\n",
      "Red : 3\n",
      "Black : 2\n",
      "Pink : 2\n",
      "Green : 1\n",
      "red : 1\n",
      "Orange : 1\n",
      "White. : 1\n"
     ]
    }
   ],
   "source": [
    "from collections import Counter as c\n",
    "def main():\n",
    "    x= \"Red Green Black Black Red red Orange Pink Pink Red White.\"\n",
    "    y=x.split()\n",
    "    z=c(y)\n",
    "    print('Words in Ascending Order!')\n",
    "    a=sorted(z.items(),key=lambda i: i[1])\n",
    "    for i,j in a:\n",
    "        print(f'{i} : {j}')\n",
    "    print()\n",
    "    print('Words in Descending Order!')\n",
    "    b=sorted(z.items(),key=lambda i: i[1],reverse=True)\n",
    "    for i,j in b:\n",
    "        print(f'{i} : {j}')  \n",
    "main()"
   ]
  },
  {
   "cell_type": "code",
   "execution_count": 49,
   "id": "79cd3c35-6ea0-499c-be81-ff3d986ac624",
   "metadata": {
    "tags": []
   },
   "outputs": [
    {
     "name": "stdout",
     "output_type": "stream",
     "text": [
      "Counter 1: Counter({'item2': 34, 'item3': 22, 'item1': 10})\n",
      "Counter 2: Counter({'item2': 20, 'item1': 12, 'item3': 10})\n",
      "Sum Counter: Counter({'item2': 54, 'item3': 32, 'item1': 22})\n"
     ]
    }
   ],
   "source": [
    "from collections import Counter\n",
    "def add_counters(ctr1, ctr2):\n",
    "    return ctr1 + ctr2\n",
    "def main():\n",
    "    counter1 = Counter({'item1': 10, 'item2': 34, 'item3': 22})\n",
    "    counter2 = Counter({'item1': 12, 'item2': 20, 'item3': 10})\n",
    "    result_counter = add_counters(counter1, counter2)\n",
    "    print(\"Counter 1:\", counter1)\n",
    "    print(\"Counter 2:\", counter2)\n",
    "    print(\"Sum Counter:\", result_counter)\n",
    "if __name__ == \"__main__\":\n",
    "    main()"
   ]
  },
  {
   "cell_type": "code",
   "execution_count": 50,
   "id": "ee1a4afa-1095-4b36-b7d7-4b3991878146",
   "metadata": {
    "tags": []
   },
   "outputs": [
    {
     "name": "stdout",
     "output_type": "stream",
     "text": [
      "Original List: ['Red', 'Green', 'Black', 'Black', 'Red', 'red', 'Orange', 'Pink', 'Pink', 'Red', 'White']\n",
      "Counter: Counter({'Red': 3, 'Black': 2, 'Pink': 2, 'Green': 1, 'red': 1, 'Orange': 1, 'White': 1})\n",
      "Unique Items with Counts: [('Red', 3), ('Green', 1), ('Black', 2), ('red', 1), ('Orange', 1), ('Pink', 2), ('White', 1)]\n"
     ]
    }
   ],
   "source": [
    "from collections import Counter\n",
    "def main():\n",
    "    items = [\"Red\", \"Green\", \"Black\", \"Black\", \"Red\", \"red\", \"Orange\", \"Pink\", \"Pink\", \"Red\", \"White\"]\n",
    "    x=Counter(items)\n",
    "    y=list(x.items())\n",
    "    print(\"Original List:\", items)\n",
    "    print(\"Counter:\", x)\n",
    "    print(\"Unique Items with Counts:\", y)\n",
    "main()"
   ]
  },
  {
   "cell_type": "code",
   "execution_count": 54,
   "id": "723a3c78-394a-4ad7-bf8f-a96f52ff1ffd",
   "metadata": {
    "tags": []
   },
   "outputs": [
    {
     "name": "stdin",
     "output_type": "stream",
     "text": [
      " 2\n"
     ]
    },
    {
     "name": "stdout",
     "output_type": "stream",
     "text": [
      "Original List: ['Red', 'Green', 'Black', 'Black', 'Red', 'red', 'Orange', 'Pink', 'Pink', 'Red', 'White']\n",
      "Counter: Counter({'Red': 3, 'Black': 2, 'Pink': 2, 'Green': 1, 'red': 1, 'Orange': 1, 'White': 1})\n",
      "Items with Count >= 2: {'Red': 3, 'Black': 2, 'Pink': 2}\n"
     ]
    }
   ],
   "source": [
    "from collections import Counter as c\n",
    "x= [\"Red\", \"Green\", \"Black\", \"Black\", \"Red\", \"red\", \"Orange\", \"Pink\", \"Pink\", \"Red\", \"White\"]\n",
    "y=int(input())\n",
    "z=c(x)\n",
    "a={i: j for i,j in z.items() if j>=y}\n",
    "print(\"Original List:\", x)\n",
    "print(\"Counter:\", z)\n",
    "print(f\"Items with Count >= {y}:\", a)"
   ]
  },
  {
   "cell_type": "code",
   "execution_count": 58,
   "id": "65070151-cca1-464c-904d-14c90ee51cb8",
   "metadata": {
    "tags": []
   },
   "outputs": [
    {
     "name": "stdout",
     "output_type": "stream",
     "text": [
      "0.4\n",
      "List 1: ['Red', 'Green', 'Blue', 'Orange']\n",
      "List 2: ['Green', 'Pink', 'Blue']\n",
      "Jaccard Similarity Coefficient: 0.4\n"
     ]
    }
   ],
   "source": [
    "##Important\n",
    "from collections import Counter\n",
    "def jaccard_similarity(list1, list2):\n",
    "    counter1 = Counter(list1)\n",
    "    counter2 = Counter(list2)\n",
    "    intersection_count = sum((counter1 & counter2).values())\n",
    "    union_count = sum((counter1 | counter2).values())\n",
    "    jaccard_coefficient = intersection_count / union_count\n",
    "    return jaccard_coefficient\n",
    "def main():\n",
    "    list1 = ['Red', 'Green', 'Blue', 'Orange']\n",
    "    list2 = ['Green', 'Pink', 'Blue']\n",
    "    jaccard_coefficient = jaccard_similarity(list1, list2)\n",
    "    print(\"List 1:\", list1)\n",
    "    print(\"List 2:\", list2)\n",
    "    print(\"Jaccard Similarity Coefficient:\", jaccard_coefficient)\n",
    "if __name__ == \"__main__\":\n",
    "    main()"
   ]
  },
  {
   "cell_type": "code",
   "execution_count": 59,
   "id": "cf34ac65-3f12-46c9-9cab-46d106d8b0ff",
   "metadata": {
    "tags": []
   },
   "outputs": [
    {
     "name": "stdout",
     "output_type": "stream",
     "text": [
      "Original Counter:\n",
      "Counter({'Red': 4, 'Black': 2, 'Pink': 2, 'Green': 1, 'Orange': 1, 'White': 1})\n",
      "\n",
      "Updated Counter:\n",
      "Counter({'Red': 6, 'Black': 2, 'Pink': 2, 'Green': 1, 'White': 1, 'Orange': 0})\n"
     ]
    }
   ],
   "source": [
    "from collections import Counter\n",
    "def main():\n",
    "    items = ['Red', 'Green', 'Black', 'Black', 'Red', 'Red', 'Orange', 'Pink', 'Pink', 'Red', 'White']\n",
    "    counter = Counter(items)\n",
    "    print(\"Original Counter:\")\n",
    "    print(counter)\n",
    "    counter['Red'] += 2\n",
    "    counter['Orange'] -= 1\n",
    "    print(\"\\nUpdated Counter:\")\n",
    "    print(counter)\n",
    "if __name__ == \"__main__\":\n",
    "    main()"
   ]
  },
  {
   "cell_type": "code",
   "execution_count": null,
   "id": "582c81a4-e35f-4710-b7ff-8285b65480d3",
   "metadata": {},
   "outputs": [],
   "source": []
  }
 ],
 "metadata": {
  "kernelspec": {
   "display_name": "Python 3 (ipykernel)",
   "language": "python",
   "name": "python3"
  },
  "language_info": {
   "codemirror_mode": {
    "name": "ipython",
    "version": 3
   },
   "file_extension": ".py",
   "mimetype": "text/x-python",
   "name": "python",
   "nbconvert_exporter": "python",
   "pygments_lexer": "ipython3",
   "version": "3.11.3"
  }
 },
 "nbformat": 4,
 "nbformat_minor": 5
}
