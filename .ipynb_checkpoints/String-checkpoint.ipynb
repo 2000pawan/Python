{
 "cells": [
  {
   "cell_type": "code",
   "execution_count": 48,
   "id": "81c5ac33-ba63-4ce4-b441-2f3a8e2903cc",
   "metadata": {
    "tags": []
   },
   "outputs": [
    {
     "data": {
      "text/plain": [
       "34"
      ]
     },
     "execution_count": 48,
     "metadata": {},
     "output_type": "execute_result"
    }
   ],
   "source": [
    "#finding length of string\n",
    "x='Lieutenant Pawan Yadav Indian Army'\n",
    "len(x)"
   ]
  },
  {
   "cell_type": "code",
   "execution_count": 51,
   "id": "efbceece-307c-44c0-829c-400ffd30c89d",
   "metadata": {
    "tags": []
   },
   "outputs": [
    {
     "name": "stdout",
     "output_type": "stream",
     "text": [
      "P\n"
     ]
    }
   ],
   "source": [
    "#finding value store in a particular string using +ve indexing\n",
    "x='Lieutenant Pawan Yadav Indian Army'\n",
    "print(x[11])"
   ]
  },
  {
   "cell_type": "code",
   "execution_count": 52,
   "id": "96778c08-b840-45ac-a7fe-6d6bae3ed065",
   "metadata": {
    "tags": []
   },
   "outputs": [
    {
     "name": "stdout",
     "output_type": "stream",
     "text": [
      "I\n"
     ]
    }
   ],
   "source": [
    "#finding value store in a particular string using -ve indexing\n",
    "x='Lieutenant Pawan Yadav Indian Army'\n",
    "print(x[-11])"
   ]
  },
  {
   "cell_type": "code",
   "execution_count": 53,
   "id": "e60e12df-4862-43fd-b5f3-45580d6755f6",
   "metadata": {
    "tags": []
   },
   "outputs": [
    {
     "name": "stdout",
     "output_type": "stream",
     "text": [
      "Pawan Yadav\n"
     ]
    }
   ],
   "source": [
    "#finding value through +ve slicing\n",
    "x='Lieutenant Pawan Yadav Indian Army'\n",
    "print(x[11:22])"
   ]
  },
  {
   "cell_type": "code",
   "execution_count": 54,
   "id": "8ea11ea8-3256-4012-a19b-7acfa4032ce7",
   "metadata": {
    "tags": []
   },
   "outputs": [
    {
     "name": "stdout",
     "output_type": "stream",
     "text": [
      "Lieutenant \n"
     ]
    }
   ],
   "source": [
    "x='Lieutenant Pawan Yadav Indian Army'\n",
    "print(x[:11])"
   ]
  },
  {
   "cell_type": "code",
   "execution_count": 55,
   "id": "5ebfdfc3-f13e-433d-835c-4c0f5fe6bf95",
   "metadata": {
    "tags": []
   },
   "outputs": [
    {
     "name": "stdout",
     "output_type": "stream",
     "text": [
      "Pawan Yadav Indian Army\n"
     ]
    }
   ],
   "source": [
    "x='Lieutenant Pawan Yadav Indian Army'\n",
    "print(x[11:])"
   ]
  },
  {
   "cell_type": "code",
   "execution_count": 57,
   "id": "4e0f1370-6874-49b6-89ec-cf91d70c779a",
   "metadata": {
    "tags": []
   },
   "outputs": [
    {
     "name": "stdout",
     "output_type": "stream",
     "text": [
      "Lieutenant Pawan Yadav Indian Arm\n"
     ]
    }
   ],
   "source": [
    "#finding value through -ve slicing\n",
    "x='Lieutenant Pawan Yadav Indian Army'\n",
    "print(x[-34:-1])"
   ]
  },
  {
   "cell_type": "code",
   "execution_count": 58,
   "id": "544fbe14-c2cc-4902-ac0b-81a744dfb6a0",
   "metadata": {
    "tags": []
   },
   "outputs": [
    {
     "name": "stdout",
     "output_type": "stream",
     "text": [
      "PaYa\n"
     ]
    }
   ],
   "source": [
    "x='Lieutenant Pawan Yadav Indian Army'\n",
    "print(x[11:22:3])"
   ]
  },
  {
   "cell_type": "code",
   "execution_count": 59,
   "id": "de66dee1-4fd7-4ce8-96bf-b1f53ce6bf32",
   "metadata": {
    "tags": []
   },
   "outputs": [
    {
     "name": "stdout",
     "output_type": "stream",
     "text": [
      "Lieutenant Pawan Yadav Indian Arm\n"
     ]
    }
   ],
   "source": [
    "x='Lieutenant Pawan Yadav Indian Army'\n",
    "print(x[-34:-1:1])"
   ]
  },
  {
   "cell_type": "code",
   "execution_count": 60,
   "id": "e9177adc-2bc6-424e-9c7e-822d6e5c2af2",
   "metadata": {
    "tags": []
   },
   "outputs": [
    {
     "name": "stdout",
     "output_type": "stream",
     "text": [
      "ymrA naidnI vadaY nawaP tnanetueiL\n"
     ]
    }
   ],
   "source": [
    "x='Lieutenant Pawan Yadav Indian Army'\n",
    "print(x[-1::-1])"
   ]
  },
  {
   "cell_type": "code",
   "execution_count": 61,
   "id": "e87b8018-29f9-4df0-908e-d22488708e55",
   "metadata": {
    "tags": []
   },
   "outputs": [
    {
     "name": "stdout",
     "output_type": "stream",
     "text": [
      "Lieutenant Pawan Yadav Indian Army officer and Pawan Yadav also an Engineer \n"
     ]
    },
    {
     "data": {
      "text/plain": [
       "42"
      ]
     },
     "execution_count": 61,
     "metadata": {},
     "output_type": "execute_result"
    }
   ],
   "source": [
    "y=' officer and Pawan Yadav also an Engineer '\n",
    "a=x+y\n",
    "print(a)\n",
    "len(y)"
   ]
  },
  {
   "cell_type": "code",
   "execution_count": 62,
   "id": "606bd22f-7054-472f-ab1e-ea13ebe89478",
   "metadata": {
    "tags": []
   },
   "outputs": [
    {
     "name": "stdout",
     "output_type": "stream",
     "text": [
      " officer and Pawan Yadav also an Engineer Lieutenant Pawan Yadav Indian Army\n"
     ]
    }
   ],
   "source": [
    "b=y+x\n",
    "print(b)"
   ]
  },
  {
   "cell_type": "code",
   "execution_count": 63,
   "id": "f6139340-1401-41e7-b6de-60ccf224a733",
   "metadata": {
    "tags": []
   },
   "outputs": [
    {
     "name": "stdout",
     "output_type": "stream",
     "text": [
      "Pawan Yadav also an Engineer and Lieutenant Pawan Yadav Indian Army officer\n"
     ]
    }
   ],
   "source": [
    "b=y[13:]+y[9:13]+x+y[:8]\n",
    "print(b)"
   ]
  },
  {
   "cell_type": "code",
   "execution_count": 64,
   "id": "935b539e-2388-4bc1-95d3-e0d02dc071da",
   "metadata": {
    "tags": []
   },
   "outputs": [],
   "source": [
    "# String methods\n"
   ]
  },
  {
   "cell_type": "code",
   "execution_count": 74,
   "id": "9b8b8e9f-f7ad-461f-8ea3-79633d3cc08e",
   "metadata": {
    "tags": []
   },
   "outputs": [],
   "source": [
    "x='lieutenant Pawan Yadav Indian Army'"
   ]
  },
  {
   "cell_type": "code",
   "execution_count": 75,
   "id": "de67f0e1-54d3-4572-b238-1c5b2e10c89c",
   "metadata": {
    "tags": []
   },
   "outputs": [
    {
     "data": {
      "text/plain": [
       "'Lieutenant pawan yadav indian army'"
      ]
     },
     "execution_count": 75,
     "metadata": {},
     "output_type": "execute_result"
    }
   ],
   "source": [
    "x.capitalize()"
   ]
  },
  {
   "cell_type": "code",
   "execution_count": null,
   "id": "febdf8ff-0d93-4292-9cbe-4ec4b65e9352",
   "metadata": {},
   "outputs": [],
   "source": []
  }
 ],
 "metadata": {
  "kernelspec": {
   "display_name": "Python 3 (ipykernel)",
   "language": "python",
   "name": "python3"
  },
  "language_info": {
   "codemirror_mode": {
    "name": "ipython",
    "version": 3
   },
   "file_extension": ".py",
   "mimetype": "text/x-python",
   "name": "python",
   "nbconvert_exporter": "python",
   "pygments_lexer": "ipython3",
   "version": "3.11.3"
  }
 },
 "nbformat": 4,
 "nbformat_minor": 5
}
