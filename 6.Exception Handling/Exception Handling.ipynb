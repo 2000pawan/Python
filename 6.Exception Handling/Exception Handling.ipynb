{
 "cells": [
  {
   "cell_type": "code",
   "execution_count": 4,
   "id": "7b9bf360-8b87-4a4f-a5e2-959dd9dbb876",
   "metadata": {
    "tags": []
   },
   "outputs": [
    {
     "name": "stdin",
     "output_type": "stream",
     "text": [
      "Enter a number: 25\n",
      "Enter a number: 0\n"
     ]
    },
    {
     "name": "stdout",
     "output_type": "stream",
     "text": [
      "The division by zero operation is not allowed.\n",
      "division by zero\n"
     ]
    }
   ],
   "source": [
    "x=int(input('Enter a number:'))\n",
    "y=int(input('Enter a number:'))\n",
    "try:\n",
    "    z=x/y\n",
    "    print(z)\n",
    "except Exception as e:\n",
    "    print(\"The division by zero operation is not allowed.\\n\",e,sep='')"
   ]
  },
  {
   "cell_type": "code",
   "execution_count": 6,
   "id": "08181010-d6a7-466c-b89b-f3a0bb5505df",
   "metadata": {
    "tags": []
   },
   "outputs": [
    {
     "name": "stdin",
     "output_type": "stream",
     "text": [
      "Enter a number: 4.0\n"
     ]
    },
    {
     "name": "stdout",
     "output_type": "stream",
     "text": [
      "Error: Invalid input, input a valid integer.\n"
     ]
    }
   ],
   "source": [
    "try:\n",
    "    x=int(input('Enter a number:'))\n",
    "    print(x)\n",
    "except ValueError:\n",
    "    print('Error: Invalid input, input a valid integer.')"
   ]
  },
  {
   "cell_type": "code",
   "execution_count": 7,
   "id": "0523d497-9cdb-4613-9721-0fca536e5d63",
   "metadata": {
    "tags": []
   },
   "outputs": [],
   "source": [
    "a=open('abc.txt','w')\n",
    "b='I am Pawan Yadav \\nAI & ML Engineer! Data Scientist! & Python Developer.'\n",
    "a.writelines(b)"
   ]
  },
  {
   "cell_type": "code",
   "execution_count": 8,
   "id": "21b4e589-247c-419f-8f0b-68634210a061",
   "metadata": {
    "tags": []
   },
   "outputs": [
    {
     "name": "stdout",
     "output_type": "stream",
     "text": [
      "I am Pawan Yadav \n",
      "AI & ML Engineer! Data Scientist! & Python Developer.\n",
      "..............................................................................\n",
      "Error: File not found.\n"
     ]
    }
   ],
   "source": [
    "try:\n",
    "    a=open('abc.txt','r')\n",
    "    print(a.read())\n",
    "except FileNotFoundError:\n",
    "    print('File Not Found!')\n",
    "#############################################################################\n",
    "print('..............................................................................')\n",
    "try:\n",
    "    a=open('bc.txt','r')\n",
    "    print(a.read())\n",
    "except FileNotFoundError:\n",
    "    print(\"Error: File not found.\")"
   ]
  },
  {
   "cell_type": "code",
   "execution_count": 9,
   "id": "c6bbb692-c37e-4e3c-b954-953a5b8df85a",
   "metadata": {
    "tags": []
   },
   "outputs": [
    {
     "name": "stdin",
     "output_type": "stream",
     "text": [
      "Enter a number: 11\n",
      "Enter a number: 4\n"
     ]
    },
    {
     "name": "stdout",
     "output_type": "stream",
     "text": [
      "15\n"
     ]
    },
    {
     "name": "stdin",
     "output_type": "stream",
     "text": [
      "Enter a number: 111\n",
      "Enter a number: 10.0\n"
     ]
    },
    {
     "name": "stdout",
     "output_type": "stream",
     "text": [
      "TypeError Found! invalid literal for int() with base 10: '10.0'\n"
     ]
    },
    {
     "name": "stdin",
     "output_type": "stream",
     "text": [
      "Enter a number: 12\n",
      "Enter a number: k\n"
     ]
    },
    {
     "name": "stdout",
     "output_type": "stream",
     "text": [
      "TypeError Found! invalid literal for int() with base 10: 'k'\n"
     ]
    },
    {
     "name": "stdin",
     "output_type": "stream",
     "text": [
      "Enter a number: 2\n",
      "Enter a number: 2\n"
     ]
    },
    {
     "name": "stdout",
     "output_type": "stream",
     "text": [
      "4\n"
     ]
    }
   ],
   "source": [
    "for i in range(4):\n",
    "    try:\n",
    "        x=int(input('Enter a number:'))\n",
    "        y=int(input('Enter a number:'))\n",
    "        print(x+y)\n",
    "    except Exception as e:\n",
    "        print('TypeError Found!',e)"
   ]
  },
  {
   "cell_type": "code",
   "execution_count": 10,
   "id": "a000314e-5b6c-42b8-b105-0abab431ffa0",
   "metadata": {
    "tags": []
   },
   "outputs": [
    {
     "name": "stdin",
     "output_type": "stream",
     "text": [
      "Enter a File name: a.txt\n"
     ]
    },
    {
     "name": "stdout",
     "output_type": "stream",
     "text": [
      "Error: Permission denied to open the file. not readable\n"
     ]
    }
   ],
   "source": [
    "def open_file(filename):\n",
    "    try:\n",
    "        with open(filename,'w') as file:\n",
    "            contents=file.read()\n",
    "            print(contents)\n",
    "    except Exception as e:\n",
    "        print(\"Error: Permission denied to open the file.\",e)\n",
    "file_name=input('Enter a File name:')\n",
    "open_file(file_name)"
   ]
  },
  {
   "cell_type": "code",
   "execution_count": 11,
   "id": "c2e5cc5e-0f14-409c-8397-5baaa2a6c2d0",
   "metadata": {
    "tags": []
   },
   "outputs": [
    {
     "name": "stdin",
     "output_type": "stream",
     "text": [
      "Enter index: 4\n"
     ]
    },
    {
     "name": "stdout",
     "output_type": "stream",
     "text": [
      "17\n"
     ]
    },
    {
     "name": "stdin",
     "output_type": "stream",
     "text": [
      "Enter index: 3\n"
     ]
    },
    {
     "name": "stdout",
     "output_type": "stream",
     "text": [
      "19\n"
     ]
    },
    {
     "name": "stdin",
     "output_type": "stream",
     "text": [
      "Enter index: 5\n"
     ]
    },
    {
     "name": "stdout",
     "output_type": "stream",
     "text": [
      "Error: Index out of range\n"
     ]
    }
   ],
   "source": [
    "for i in range(3):\n",
    "    try:\n",
    "        x=[10,12,15,19,17]\n",
    "        n=int(input('Enter index:'))\n",
    "        print(x[n])\n",
    "    except IndexError:\n",
    "        print('Error: Index out of range')"
   ]
  },
  {
   "cell_type": "code",
   "execution_count": 12,
   "id": "bc79439a-3708-43db-afdf-d29bf0bdb6c1",
   "metadata": {
    "tags": []
   },
   "outputs": [
    {
     "name": "stdin",
     "output_type": "stream",
     "text": [
      "Enter a number: 5\n"
     ]
    },
    {
     "name": "stdout",
     "output_type": "stream",
     "text": [
      "5\n"
     ]
    }
   ],
   "source": [
    "try:\n",
    "    n=int(input('Enter a number:'))\n",
    "    print(n)\n",
    "except KeyboardInterrupt:\n",
    "    print(\"Input canceled by the user.\")\n",
    "### This program run on idle or .py extension only jupyter lab does not support it."
   ]
  },
  {
   "cell_type": "code",
   "execution_count": 13,
   "id": "08f71745-b572-4289-85c9-c0907e0e6bae",
   "metadata": {
    "tags": []
   },
   "outputs": [
    {
     "name": "stdin",
     "output_type": "stream",
     "text": [
      "Enter a number: 10\n",
      "Enter a number: 0\n"
     ]
    },
    {
     "name": "stdout",
     "output_type": "stream",
     "text": [
      "Error: Arithmetic error occurred!\n"
     ]
    }
   ],
   "source": [
    "try:\n",
    "    x=int(input('Enter a number:'))\n",
    "    y=int(input('Enter a number:'))\n",
    "    print(x/y)\n",
    "except ArithmeticError:\n",
    "    print(\"Error: Arithmetic error occurred!\")"
   ]
  },
  {
   "cell_type": "code",
   "execution_count": 16,
   "id": "28f5ff7c-8119-4e7a-bfc2-3700784dcbd0",
   "metadata": {
    "tags": []
   },
   "outputs": [
    {
     "name": "stdout",
     "output_type": "stream",
     "text": [
      "Error: Encoding issue occurred while reading the file.\n"
     ]
    }
   ],
   "source": [
    "try:\n",
    "    with open('unicode.txt','r') as file:\n",
    "        print(file.read())\n",
    "except UnicodeDecodeError:\n",
    "    print(\"Error: Encoding issue occurred while reading the file.\")"
   ]
  },
  {
   "cell_type": "code",
   "execution_count": 27,
   "id": "04553615-f684-43ce-81e6-318d9f54301b",
   "metadata": {
    "tags": []
   },
   "outputs": [
    {
     "name": "stdout",
     "output_type": "stream",
     "text": [
      "Error: The list does not have a 'length' attribute.\n"
     ]
    }
   ],
   "source": [
    "try:\n",
    "    x=[10,20,41,1,5,7]\n",
    "    r=x.length\n",
    "    print(r)\n",
    "except AttributeError:\n",
    "    print(\"Error: The list does not have a 'length' attribute.\")"
   ]
  },
  {
   "cell_type": "code",
   "execution_count": 26,
   "id": "707950a1-d888-46a9-873a-4f32609ce524",
   "metadata": {
    "tags": []
   },
   "outputs": [
    {
     "name": "stdout",
     "output_type": "stream",
     "text": [
      "'list' object has no attribute 'length'\n"
     ]
    }
   ],
   "source": [
    "try:\n",
    "    x=[10,20,41,1,5,7]\n",
    "    r=x.length\n",
    "    print(r)\n",
    "except Exception as e:\n",
    "    print(e)"
   ]
  },
  {
   "cell_type": "code",
   "execution_count": null,
   "id": "61c1fcd3-6c9e-4e05-88f9-6fec793a3412",
   "metadata": {},
   "outputs": [],
   "source": []
  }
 ],
 "metadata": {
  "kernelspec": {
   "display_name": "Python 3 (ipykernel)",
   "language": "python",
   "name": "python3"
  },
  "language_info": {
   "codemirror_mode": {
    "name": "ipython",
    "version": 3
   },
   "file_extension": ".py",
   "mimetype": "text/x-python",
   "name": "python",
   "nbconvert_exporter": "python",
   "pygments_lexer": "ipython3",
   "version": "3.11.3"
  }
 },
 "nbformat": 4,
 "nbformat_minor": 5
}
