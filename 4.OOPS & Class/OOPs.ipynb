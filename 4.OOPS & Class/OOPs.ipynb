{
 "cells": [
  {
   "cell_type": "code",
   "execution_count": 6,
   "id": "4bf56b37-f27a-4ff0-97ea-1543f34214d3",
   "metadata": {},
   "outputs": [
    {
     "name": "stdin",
     "output_type": "stream",
     "text": [
      "Enter Radius of circle: 4\n"
     ]
    },
    {
     "name": "stdout",
     "output_type": "stream",
     "text": [
      "50.26548245743669\n",
      "25.132741228718345\n"
     ]
    },
    {
     "name": "stdin",
     "output_type": "stream",
     "text": [
      "Enter Radius of circle: 5.7\n"
     ]
    },
    {
     "name": "stdout",
     "output_type": "stream",
     "text": [
      "102.07034531513239\n",
      "35.814156250923645\n"
     ]
    }
   ],
   "source": [
    "import math\n",
    "class circle:\n",
    "    def __init__(self,r):\n",
    "        self.radius=r\n",
    "    def area_circle(self):\n",
    "        return math.pi * self.radius**2\n",
    "    def perimeter_circle(self):\n",
    "        return 2*math.pi*self.radius\n",
    "Circle=circle(eval(input('Enter Radius of circle:')))\n",
    "print(Circle.area_circle())\n",
    "print(Circle.perimeter_circle())\n",
    "\n",
    "Circle=circle(eval(input('Enter Radius of circle:')))\n",
    "print(Circle.area_circle())\n",
    "print(Circle.perimeter_circle())"
   ]
  },
  {
   "cell_type": "code",
   "execution_count": 25,
   "id": "a123501c-0d0d-4cd7-933a-5ae2d3fbbd0a",
   "metadata": {
    "tags": []
   },
   "outputs": [
    {
     "name": "stdout",
     "output_type": "stream",
     "text": [
      "Name:  PAWAN YADAV\n",
      "Country:  INDIA\n",
      "DOB:  2000-08-22\n",
      "AGE:  23 \n",
      "\n",
      "Name:  PANKAJ YADAV\n",
      "Country:  INDIA\n",
      "DOB:  2002-10-14\n",
      "AGE:  21 \n",
      "\n",
      "Name:  MEERA YADAV\n",
      "Country:  INDIA\n",
      "DOB:  1975-10-20\n",
      "AGE:  48 \n",
      "\n",
      "Name:  MAN SURAT YADAV\n",
      "Country:  INDIA\n",
      "DOB:  1970-01-14\n",
      "AGE:  53 \n",
      "\n",
      "Name:  SEEMA YADAV\n",
      "Country:  INDIA\n",
      "DOB:  1995-12-25\n",
      "AGE:  27 \n",
      "\n"
     ]
    }
   ],
   "source": [
    "from datetime import date\n",
    "class Person:\n",
    "    def __init__(self,name,country,dob):\n",
    "        self.name=name\n",
    "        self.country=country\n",
    "        self.DOB=dob\n",
    "    \n",
    "    def person_age(self):\n",
    "        today=date.today()\n",
    "        age=today.year-self.DOB.year\n",
    "        if today<date(today.year,self.DOB.month,self.DOB.day):\n",
    "            age-=1\n",
    "        return age\n",
    "    \n",
    "    def print_person_details(self):\n",
    "        age = self.person_age()\n",
    "        print('Name: ',self.name)\n",
    "        print('Country: ',self.country)\n",
    "        print('DOB: ',self.DOB)\n",
    "        print('AGE: ', age,'\\n')\n",
    "    \n",
    "person1=Person('PAWAN YADAV', \"INDIA\", date(2000,8,22))\n",
    "person2=Person('PANKAJ YADAV', \"INDIA\", date(2002,10,14))\n",
    "person3=Person('MEERA YADAV', \"INDIA\", date(1975, 10, 20))\n",
    "person4=Person('MAN SURAT YADAV', \"INDIA\", date(1970, 1, 14))\n",
    "person5=Person('SEEMA YADAV', \"INDIA\", date(1995, 12, 25))\n",
    "\n",
    "person1.print_person_details()\n",
    "person2.print_person_details()\n",
    "person3.print_person_details()\n",
    "person4.print_person_details()\n",
    "person5.print_person_details()"
   ]
  },
  {
   "cell_type": "code",
   "execution_count": 5,
   "id": "5ca258ed-d597-4ac8-9ff3-b379fd47b8ea",
   "metadata": {
    "tags": []
   },
   "outputs": [
    {
     "name": "stdin",
     "output_type": "stream",
     "text": [
      "Enter First Number 373\n",
      "Enter Second Number 687\n"
     ]
    },
    {
     "name": "stdout",
     "output_type": "stream",
     "text": [
      "Sum of Two Number is: 1060\n",
      "\n"
     ]
    },
    {
     "name": "stdin",
     "output_type": "stream",
     "text": [
      "Enter First Number 963\n",
      "Enter Second Number 541\n"
     ]
    },
    {
     "name": "stdout",
     "output_type": "stream",
     "text": [
      "Diffence of Two Number is: 422\n",
      "\n"
     ]
    },
    {
     "name": "stdin",
     "output_type": "stream",
     "text": [
      "Enter First Number 248\n",
      "Enter Second Number 67\n"
     ]
    },
    {
     "name": "stdout",
     "output_type": "stream",
     "text": [
      "Multiply of Two Number is: 16616\n",
      "\n"
     ]
    },
    {
     "name": "stdin",
     "output_type": "stream",
     "text": [
      "Enter First Number 54\n",
      "Enter Second Number 6.39\n"
     ]
    },
    {
     "name": "stdout",
     "output_type": "stream",
     "text": [
      "Divide of Two Number is: 8.450704225352114\n",
      "\n"
     ]
    },
    {
     "name": "stdin",
     "output_type": "stream",
     "text": [
      "Enter First Number 87\n",
      "Enter Second Number 0\n"
     ]
    },
    {
     "name": "stdout",
     "output_type": "stream",
     "text": [
      "Divide of Two Number is: Please Enter number Greater Than Zero!\n",
      "\n"
     ]
    },
    {
     "name": "stdin",
     "output_type": "stream",
     "text": [
      "Enter a Number 53\n"
     ]
    },
    {
     "name": "stdout",
     "output_type": "stream",
     "text": [
      "Square of a Number is: 2809\n",
      "\n"
     ]
    },
    {
     "name": "stdin",
     "output_type": "stream",
     "text": [
      "Enter First Number 399\n",
      "Enter Second Number 500\n"
     ]
    },
    {
     "name": "stdout",
     "output_type": "stream",
     "text": [
      "Percentage of Two Number is: 79.80000000000001\n",
      "\n"
     ]
    },
    {
     "name": "stdin",
     "output_type": "stream",
     "text": [
      "Enter First Number 693\n",
      "Enter Second Number 0\n"
     ]
    },
    {
     "name": "stdout",
     "output_type": "stream",
     "text": [
      "Percentage of Two Number is: Please Enter number Greater Than Zero!\n",
      "\n"
     ]
    }
   ],
   "source": [
    "class Calculator:\n",
    "    def add_num(self,a,b):\n",
    "        return a+b   \n",
    "    \n",
    "    def sub_num(self,a,b):\n",
    "        return a-b\n",
    "        \n",
    "    def multiply_num(self,a,b):\n",
    "        return a*b\n",
    "        \n",
    "    def divide_num(self,a,b):\n",
    "        try:\n",
    "            return(a/b)\n",
    "        except ZeroDivisionError:\n",
    "            return ('Please Enter number Greater Than Zero!')\n",
    "        \n",
    "    def square_num(self,a):\n",
    "        return a**2\n",
    "        \n",
    "    def percent_num(self,a,b):\n",
    "        try:\n",
    "            return (a/b)*100\n",
    "        except ZeroDivisionError:\n",
    "            return ('Please Enter number Greater Than Zero!') \n",
    "        \n",
    "calculate=Calculator()\n",
    "print('Sum of Two Number is: ',calculate.add_num(eval(input('Enter First Number')),eval(input('Enter Second Number'))),'\\n',sep='')\n",
    "print('Diffence of Two Number is: ',calculate.sub_num(eval(input('Enter First Number')),eval(input('Enter Second Number'))),'\\n',sep='')\n",
    "print('Multiply of Two Number is: ',calculate.multiply_num(eval(input('Enter First Number')),eval(input('Enter Second Number'))),'\\n',sep='')\n",
    "print('Divide of Two Number is: ',calculate.divide_num(eval(input('Enter First Number')),eval(input('Enter Second Number'))),'\\n',sep='')\n",
    "print('Divide of Two Number is: ',calculate.divide_num(eval(input('Enter First Number')),eval(input('Enter Second Number'))),'\\n',sep='')\n",
    "print('Square of a Number is: ',calculate.square_num(eval(input('Enter a Number'))),'\\n',sep='')\n",
    "print('Percentage of Two Number is: ',calculate.percent_num(eval(input('Enter First Number')),eval(input('Enter Second Number'))),'\\n',sep='')\n",
    "print('Percentage of Two Number is: ',calculate.percent_num(eval(input('Enter First Number')),eval(input('Enter Second Number'))),'\\n',sep='')"
   ]
  },
  {
   "cell_type": "code",
   "execution_count": 15,
   "id": "7aec4804-c41b-41bf-a955-13bcf55c771b",
   "metadata": {
    "tags": []
   },
   "outputs": [
    {
     "name": "stdout",
     "output_type": "stream",
     "text": [
      "Radius of the circle: 8\n",
      "Circle Area: 201.06192982974676\n",
      "Circle Perimeter: 50.26548245743669\n",
      "\n",
      "Rectangle: Length = 5  Width = 7\n",
      "Rectangle Area: 35\n",
      "Rectangle Perimeter: 12\n",
      "\n",
      "Square:  Side = 4\n",
      "Square Area: 16\n",
      "\n",
      "Triangle: Base = 5  Height = 4  side1 = 4  side2 = 3  side3 = 5\n",
      "Triangle Area: 10.0\n",
      "Triangle Perimeter: 12\n"
     ]
    }
   ],
   "source": [
    "import math\n",
    "class Shape:\n",
    "    def calculate_area(self):\n",
    "        pass\n",
    "    def calculate_perimeter(self):\n",
    "        pass\n",
    "\n",
    "class Circle(Shape):\n",
    "    def __init__(self,radius):\n",
    "        self.radius=radius\n",
    "    def calculate_area(self):\n",
    "        return math.pi*self.radius**2\n",
    "    def calculate_perimeter(self):\n",
    "        return 2*math.pi*self.radius\n",
    "\n",
    "class Rectangle(Shape):\n",
    "    def __init__(self,length,width):\n",
    "        self.length=length\n",
    "        self.width=width\n",
    "    def calculate_area(self):\n",
    "        return self.length*self.width\n",
    "    def calculate_perimeter(self):\n",
    "        return self.length+self.width\n",
    "    \n",
    "class Square(Shape):\n",
    "    def __init__(self,side):\n",
    "        self.side=side\n",
    "    def calculate_area(self):\n",
    "        return self.side**2\n",
    "\n",
    "class Triangle(Shape):\n",
    "    def __init__(self,base,height,s1,s2,s3):\n",
    "        self.base=base\n",
    "        self.height=height\n",
    "        self.s1=s1\n",
    "        self.s2=s2\n",
    "        self.s3=s3\n",
    "    def calculate_area(self):\n",
    "        return 0.5*self.base*self.height\n",
    "    def calculate_perimeter(self):\n",
    "        return self.s1+self.s2+self.s3\n",
    "\n",
    "r=8\n",
    "circle=Circle(r)\n",
    "circle_area=circle.calculate_area()\n",
    "circle_perimeter=circle.calculate_perimeter()\n",
    "print(\"Radius of the circle:\", r)\n",
    "print(\"Circle Area:\", circle_area)\n",
    "print(\"Circle Perimeter:\", circle_perimeter)\n",
    "\n",
    "l = 5\n",
    "w = 7\n",
    "rectangle = Rectangle(l, w)\n",
    "rectangle_area = rectangle.calculate_area()\n",
    "rectangle_perimeter = rectangle.calculate_perimeter()\n",
    "print(\"\\nRectangle: Length =\", l, \" Width =\", w)\n",
    "print(\"Rectangle Area:\", rectangle_area)\n",
    "print(\"Rectangle Perimeter:\", rectangle_perimeter)\n",
    "\n",
    "s=4\n",
    "square=Square(s)\n",
    "square_area=square.calculate_area()\n",
    "print(\"\\nSquare:  Side =\", s)\n",
    "print(\"Square Area:\", square_area)\n",
    "\n",
    "base = 5\n",
    "height = 4\n",
    "s1 = 4\n",
    "s2 = 3\n",
    "s3 = 5\n",
    "print(\"\\nTriangle: Base =\", base, \" Height =\", height, \" side1 =\", s1, \" side2 =\", s2, \" side3 =\", s3)\n",
    "triangle = Triangle(base, height, s1, s2, s3)\n",
    "triangle_area = triangle.calculate_area()\n",
    "triangle_perimeter = triangle.calculate_perimeter()\n",
    "print(\"Triangle Area:\", triangle_area)\n",
    "print(\"Triangle Perimeter:\", triangle_perimeter)"
   ]
  },
  {
   "cell_type": "code",
   "execution_count": null,
   "id": "5d7f5d36-2874-4dfe-8637-f1969b83c9d6",
   "metadata": {},
   "outputs": [],
   "source": []
  }
 ],
 "metadata": {
  "kernelspec": {
   "display_name": "Python 3 (ipykernel)",
   "language": "python",
   "name": "python3"
  },
  "language_info": {
   "codemirror_mode": {
    "name": "ipython",
    "version": 3
   },
   "file_extension": ".py",
   "mimetype": "text/x-python",
   "name": "python",
   "nbconvert_exporter": "python",
   "pygments_lexer": "ipython3",
   "version": "3.11.3"
  }
 },
 "nbformat": 4,
 "nbformat_minor": 5
}
