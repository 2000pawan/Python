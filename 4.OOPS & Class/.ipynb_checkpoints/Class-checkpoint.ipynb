{
 "cells": [
  {
   "cell_type": "markdown",
   "id": "f113c82d-c88d-4c18-9cf8-01939db86a45",
   "metadata": {},
   "source": [
    "Python Class Basic Exercise!..................."
   ]
  },
  {
   "cell_type": "code",
   "execution_count": 127,
   "id": "e6c70017-646d-491b-91bb-b8188692ec85",
   "metadata": {},
   "outputs": [
    {
     "name": "stdout",
     "output_type": "stream",
     "text": [
      "__name__\n",
      "__doc__\n",
      "__package__\n",
      "__loader__\n",
      "__spec__\n",
      "_array_reconstructor\n",
      "ArrayType\n",
      "array\n",
      "typecodes\n"
     ]
    }
   ],
   "source": [
    "import array\n",
    "for name in array.__dict__:\n",
    "    print(name)"
   ]
  },
  {
   "cell_type": "code",
   "execution_count": 128,
   "id": "4d7ef31c-3dba-45e7-a034-30f6fd97b7d4",
   "metadata": {
    "tags": []
   },
   "outputs": [
    {
     "name": "stdout",
     "output_type": "stream",
     "text": [
      "__name__\n",
      "__doc__\n",
      "__package__\n",
      "__loader__\n",
      "__spec__\n",
      "_array_reconstructor\n",
      "ArrayType\n",
      "array\n",
      "typecodes\n",
      "..................................................\n",
      "__module__\n",
      "subsets\n",
      "subsetsRecur\n",
      "__dict__\n",
      "__weakref__\n",
      "__doc__\n"
     ]
    }
   ],
   "source": [
    "import array\n",
    "class Array:\n",
    "    def __init__(self):\n",
    "        for name in array.__dict__:\n",
    "            print(name)\n",
    "\n",
    "namespace=Array()\n",
    "################################################################\n",
    "print('..................................................')\n",
    "class Py_solution:\n",
    "    def subsets(self,sset):\n",
    "        return self.subsetsRecur([],sorted(sset))\n",
    "    def subsetsRecur(self, current,sset):\n",
    "        if sset:\n",
    "            return self.subsetsRecur(current,sset[1:])+self.subsetsRecur(current+[sset[0]],sset[1:])\n",
    "        return [current]\n",
    "for name in Py_solution.__dict__:\n",
    "    print(name)"
   ]
  },
  {
   "cell_type": "code",
   "execution_count": 129,
   "id": "eb94dab1-69c5-45f1-b634-6528e6919e71",
   "metadata": {
    "tags": []
   },
   "outputs": [
    {
     "name": "stdout",
     "output_type": "stream",
     "text": [
      "{'student_id': 19001129, 'student_name': 'Pawan Yadav', 'class_name': 'B-Tech'}\n"
     ]
    }
   ],
   "source": [
    "class Student:\n",
    "    def __init__(self,student_id,student_name,class_name):\n",
    "        self.student_id=student_id\n",
    "        self.student_name=student_name\n",
    "        self.class_name=class_name\n",
    "student=Student(19001129,'Pawan Yadav','B-Tech')\n",
    "print(student.__dict__)"
   ]
  },
  {
   "cell_type": "code",
   "execution_count": 130,
   "id": "e8f7143d-ee5a-4f2e-9650-7e859a2409d8",
   "metadata": {
    "tags": []
   },
   "outputs": [
    {
     "name": "stdout",
     "output_type": "stream",
     "text": [
      "Help on built-in function abs in module builtins:\n",
      "\n",
      "abs(x, /)\n",
      "    Return the absolute value of the argument.\n",
      "\n",
      "155\n"
     ]
    }
   ],
   "source": [
    "import builtins\n",
    "help(builtins.abs)\n",
    "print(builtins.abs(-155))"
   ]
  },
  {
   "cell_type": "code",
   "execution_count": 131,
   "id": "976bde33-6a8e-467e-b471-26285967f484",
   "metadata": {
    "tags": []
   },
   "outputs": [
    {
     "name": "stdout",
     "output_type": "stream",
     "text": [
      "Student ID: 19001129\n",
      "Student Name: Pawan Yadav\n",
      "Class: B-Tech\n"
     ]
    }
   ],
   "source": [
    "def student(student_id,student_name,class_name):\n",
    "    return f'Student ID: {student_id}\\nStudent Name: {student_name}\\nClass: {class_name}'\n",
    "print(student(19001129,'Pawan Yadav','B-Tech'))"
   ]
  },
  {
   "cell_type": "code",
   "execution_count": 132,
   "id": "eec53a0e-8640-4604-bfc3-6ec3c54eb8f4",
   "metadata": {
    "tags": []
   },
   "outputs": [
    {
     "name": "stdout",
     "output_type": "stream",
     "text": [
      "Student ID: 190011129\n",
      "Student Name: & Pawan Yadav\n",
      "Student ID: 190011129\n",
      "Student Name: & Pawan Yadav\n",
      "Student Name:& Pawan Yadav\n",
      "Student Class:& B-Tech\n"
     ]
    }
   ],
   "source": [
    "def student_data(student_id,**kwargs):\n",
    "    print(f'Student ID: {student_id}')\n",
    "    if 'student_name' in kwargs:\n",
    "        print(f\"Student Name: & {kwargs['student_name']}\")\n",
    "    if 'student_name' and 'student_class' in kwargs:\n",
    "        print(f\"Student Name:& {kwargs['student_name']}\")\n",
    "        print(f\"Student Class:& {kwargs['student_class']}\")\n",
    "student_data(student_id=190011129, student_name='Pawan Yadav')\n",
    "student_data(student_id=190011129,student_name='Pawan Yadav',student_class='B-Tech')"
   ]
  },
  {
   "cell_type": "code",
   "execution_count": 133,
   "id": "b944699b-65cd-4238-aa1d-9c432b638bc3",
   "metadata": {
    "tags": []
   },
   "outputs": [
    {
     "name": "stdout",
     "output_type": "stream",
     "text": [
      "<class 'type'>\n",
      "dict_keys(['__module__', '__dict__', '__weakref__', '__doc__'])\n",
      "__main__\n"
     ]
    }
   ],
   "source": [
    "class Student():\n",
    "    pass\n",
    "print(type(Student))\n",
    "print(Student.__dict__.keys())\n",
    "print(Student.__module__)"
   ]
  },
  {
   "cell_type": "code",
   "execution_count": 134,
   "id": "68473191-2b4f-443e-842c-d2e9b9e3706b",
   "metadata": {
    "tags": []
   },
   "outputs": [
    {
     "name": "stdout",
     "output_type": "stream",
     "text": [
      "True\n",
      "False\n",
      "True\n",
      "False\n",
      "\n",
      "Check whether the said classes are subclasses of the built-in object class or not.\n",
      "True\n",
      "True\n"
     ]
    }
   ],
   "source": [
    "class Student:\n",
    "    pass\n",
    "class Marks:\n",
    "    pass\n",
    "student1=Student()\n",
    "marks1=Marks()\n",
    "print(isinstance(student1, Student))\n",
    "print(isinstance(marks1, Student))\n",
    "print(isinstance(marks1, Marks)) \n",
    "print(isinstance(student1, Marks))\n",
    "print(\"\\nCheck whether the said classes are subclasses of the built-in object class or not.\")\n",
    "print(issubclass(Student, object))\n",
    "print(issubclass(Marks, object)) "
   ]
  },
  {
   "cell_type": "code",
   "execution_count": 135,
   "id": "6dd73a89-ffed-4883-ba56-e6af49610c8e",
   "metadata": {
    "tags": []
   },
   "outputs": [
    {
     "name": "stdout",
     "output_type": "stream",
     "text": [
      "Student Name: Pawan\n",
      "Student Marks: 57.4\n",
      "Student Name: Pawan Yadav\n",
      "Student Marks: 80.4\n"
     ]
    }
   ],
   "source": [
    "class Student:\n",
    "    student_name='Pawan'\n",
    "    marks=57.4\n",
    "print(f\"Student Name: {getattr(Student,'student_name')}\")\n",
    "print(f\"Student Marks: {getattr(Student,'marks')}\")\n",
    "setattr(Student,'student_name','Pawan Yadav')\n",
    "setattr(Student,'marks',80.4)\n",
    "print(f\"Student Name: {getattr(Student,'student_name')}\")\n",
    "print(f\"Student Marks: {getattr(Student,'marks')}\")"
   ]
  },
  {
   "cell_type": "code",
   "execution_count": 136,
   "id": "8221ec10-e6b5-4d9d-9143-122a3953e19f",
   "metadata": {
    "tags": []
   },
   "outputs": [
    {
     "name": "stdout",
     "output_type": "stream",
     "text": [
      "Student Name: Pawan\n",
      "Student Marks: 57.4\n",
      "Student Class: B-Tech\n",
      "Student Marks: 57.4\n",
      "Student Class: B-Tech\n",
      "...............................................................\n",
      "Original attributes and their values of the Student class:\n",
      "student_id -> V10\n",
      "student_name -> Jacqueline Barnett\n",
      "\n",
      "After adding the student_class, attributes and their values with the said class:\n",
      "student_id -> V10\n",
      "student_name -> Jacqueline Barnett\n",
      "student_class -> V\n",
      "\n",
      "After removing the student_name, attributes and their values from the said class:\n",
      "student_id -> V10\n",
      "student_class -> V\n"
     ]
    }
   ],
   "source": [
    "class Student:\n",
    "    student_name='Pawan'\n",
    "    marks=57.4\n",
    "    student_class='B-Tech'\n",
    "print(f\"Student Name: {getattr(Student,'student_name')}\")\n",
    "print(f\"Student Marks: {getattr(Student,'marks')}\")\n",
    "print(f\"Student Class: {getattr(Student,'student_class')}\")\n",
    "delattr(Student,'student_name')\n",
    "print(f\"Student Marks: {getattr(Student,'marks')}\")\n",
    "print(f\"Student Class: {getattr(Student,'student_class')}\")\n",
    "################################################################\n",
    "print('...............................................................')\n",
    "class Student:\n",
    "    student_id = 'V10'\n",
    "    student_name = 'Jacqueline Barnett'  \n",
    "print(\"Original attributes and their values of the Student class:\")\n",
    "for attr, value in Student.__dict__.items():\n",
    "    if not attr.startswith('_'):\n",
    "        print(f'{attr} -> {value}')\n",
    "print(\"\\nAfter adding the student_class, attributes and their values with the said class:\")\n",
    "Student.student_class  = 'V'\n",
    "for attr, value in Student.__dict__.items():\n",
    "    if not attr.startswith('_'):\n",
    "        print(f'{attr} -> {value}')\n",
    "print(\"\\nAfter removing the student_name, attributes and their values from the said class:\")\n",
    "del Student.student_name\n",
    "#delattr(Student, 'student_name')\n",
    "for attr, value in Student.__dict__.items():\n",
    "    if not attr.startswith('_'):\n",
    "        print(f'{attr} -> {value}')"
   ]
  },
  {
   "cell_type": "code",
   "execution_count": 137,
   "id": "cab3cd1a-549b-4b5e-8eea-39ed07d12c69",
   "metadata": {
    "tags": []
   },
   "outputs": [
    {
     "name": "stdout",
     "output_type": "stream",
     "text": [
      "Original attributes and their values of the Student class:\n",
      "Student Name: Pawan\n",
      "Student Marks: 57.4\n",
      "Student Class: B-Tech\n"
     ]
    }
   ],
   "source": [
    "class Student:\n",
    "    student_name='Pawan'\n",
    "    marks=57.4\n",
    "    student_class='B-Tech'\n",
    "    def display():\n",
    "        print(f\"Student Name: {getattr(Student,'student_name')}\")\n",
    "        print(f\"Student Marks: {getattr(Student,'marks')}\")\n",
    "        print(f\"Student Class: {getattr(Student,'student_class')}\")\n",
    "print(\"Original attributes and their values of the Student class:\")\n",
    "Student.display()       "
   ]
  },
  {
   "cell_type": "code",
   "execution_count": 138,
   "id": "31116019-2b92-4e72-936b-652a064a70fe",
   "metadata": {
    "tags": []
   },
   "outputs": [
    {
     "name": "stdout",
     "output_type": "stream",
     "text": [
      "\n",
      "student_id->19001129\n",
      "student_name->Pawan Yadav\n",
      "\n",
      "student_id->19001129\n",
      "student_name->Pawan Yadav\n",
      "marks_language->88\n",
      "marks_science->98\n",
      "marks_math->100\n"
     ]
    }
   ],
   "source": [
    "class Student:\n",
    "    school='IIT'\n",
    "    address='Delhi'\n",
    "student1=Student()\n",
    "student2=Student()\n",
    "student1.student_id=19001129\n",
    "student1.student_name='Pawan Yadav'\n",
    "student2.student_id=19001129\n",
    "student2.student_name='Pawan Yadav'\n",
    "student2.marks_language=88\n",
    "student2.marks_science=98\n",
    "student2.marks_math=100\n",
    "students=[student1,student2]\n",
    "for student in students:\n",
    "    print('\\n',end='')\n",
    "    for attr in student.__dict__:\n",
    "        print((f'{attr}->{getattr(student,attr)}'))"
   ]
  },
  {
   "cell_type": "markdown",
   "id": "501321b5-f015-47b1-990f-ca734265b35b",
   "metadata": {},
   "source": [
    "Python Class Basic Application!........................"
   ]
  },
  {
   "cell_type": "code",
   "execution_count": 139,
   "id": "9912cda8-2052-49b1-891f-1ca166900b78",
   "metadata": {
    "tags": []
   },
   "outputs": [
    {
     "name": "stdout",
     "output_type": "stream",
     "text": [
      "I\n",
      "MMMM\n",
      "XI\n",
      "D\n"
     ]
    }
   ],
   "source": [
    "class Convert:\n",
    "    def int_to_roman(self,num):\n",
    "        val=[1000,900,500,400,100,90,50,40,10,9,5,4,1]\n",
    "        syb=['M','CM','D','CD','C','XC','L','XL','X','IX','V','IV','I']\n",
    "        roman_num=''\n",
    "        i=0\n",
    "        while num>0:\n",
    "            for _ in range(num//val[i]):\n",
    "                roman_num+=syb[i]\n",
    "                num-=val[i]\n",
    "            i+=1\n",
    "        return roman_num\n",
    "print(Convert().int_to_roman(1))\n",
    "print(Convert().int_to_roman(4000))\n",
    "print(Convert().int_to_roman(11))\n",
    "print(Convert().int_to_roman(500))"
   ]
  },
  {
   "cell_type": "code",
   "execution_count": 140,
   "id": "51ec9cf4-f332-4924-b95d-7d95cf0e8f0b",
   "metadata": {
    "tags": []
   },
   "outputs": [
    {
     "name": "stdout",
     "output_type": "stream",
     "text": [
      "3986\n",
      "4000\n",
      "100\n"
     ]
    }
   ],
   "source": [
    "class convert:\n",
    "    def roman_to_int(self,s):\n",
    "        rom_val={'I':1,'V':5,'X':10,'L':50,'C':100,'D':500,'M':1000}\n",
    "        int_val=0\n",
    "        for i in range(len(s)):\n",
    "            if i>0 and rom_val[s[i]]>rom_val[s[i-1]]:\n",
    "                int_val+=rom_val[s[i]]-2*rom_val[s[i-1]]\n",
    "            else:\n",
    "                int_val+=rom_val[s[i]]\n",
    "        return int_val\n",
    "print(convert().roman_to_int('MMMCMLXXXVI'))\n",
    "print(convert().roman_to_int(\"MMMM\"))\n",
    "print(convert().roman_to_int(\"C\"))"
   ]
  },
  {
   "cell_type": "code",
   "execution_count": 141,
   "id": "f4d48e11-a561-47dc-a5cb-45a3651db684",
   "metadata": {
    "tags": []
   },
   "outputs": [
    {
     "name": "stdout",
     "output_type": "stream",
     "text": [
      "True\n",
      "False\n",
      "True\n"
     ]
    }
   ],
   "source": [
    "class py_solution:\n",
    "    def is_valid_parenthese(self,str1):\n",
    "        stack,pchar=[],{\"(\":\")\",\"{\": \"}\", \"[\": \"]\"}\n",
    "        for parentheses in str1:\n",
    "            if parentheses in pchar:\n",
    "                stack.append(parentheses)\n",
    "            elif len(stack) == 0 or pchar[stack.pop()] !=parentheses:\n",
    "                return False\n",
    "        return len(stack)==0\n",
    "print(py_solution().is_valid_parenthese(\"(){}[]\"))\n",
    "print(py_solution().is_valid_parenthese(\"()[{)}\"))\n",
    "print(py_solution().is_valid_parenthese(\"()\"))"
   ]
  },
  {
   "cell_type": "code",
   "execution_count": 142,
   "id": "34ab28ff-42bc-46de-8e86-b8b9e04f427c",
   "metadata": {
    "tags": []
   },
   "outputs": [
    {
     "name": "stdout",
     "output_type": "stream",
     "text": [
      "[[], [6], [5], [5, 6], [4], [4, 6], [4, 5], [4, 5, 6]]\n"
     ]
    }
   ],
   "source": [
    "class py_solutions:\n",
    "    def sub_sets(self,sset):\n",
    "        return self.subsetsRecur([],sorted(sset))\n",
    "    def subsetsRecur(self,current,sset):\n",
    "        if sset:\n",
    "            return self.subsetsRecur(current,sset[1:])+self.subsetsRecur(current+[sset[0]],sset[1:])\n",
    "        return [current]\n",
    "print(py_solutions().sub_sets([4,5,6]))"
   ]
  },
  {
   "cell_type": "code",
   "execution_count": 143,
   "id": "1a2d56d0-4315-4d37-ba10-e270dacee758",
   "metadata": {
    "tags": []
   },
   "outputs": [
    {
     "name": "stdout",
     "output_type": "stream",
     "text": [
      "index1=2, index2=3\n",
      "...................................................................\n",
      "[2, 3]\n",
      "None\n"
     ]
    }
   ],
   "source": [
    "# Important\n",
    "class pair:\n",
    "    def pair_two(self,x,t):\n",
    "        l={}\n",
    "        for i,j in enumerate(x):\n",
    "            if t-j in l:\n",
    "                return (l[t-j],i)\n",
    "            l[j]=i\n",
    "print(\"index1=%d, index2=%d\"%pair().pair_two((10,20,10,40,50,60,70),50))\n",
    "##########################################################################\n",
    "print('...................................................................')\n",
    "class py_solution(object):\n",
    "    def twoSum(self, nums, target_num):      \n",
    "        result_dict = dict()\n",
    "        pos = 0\n",
    "        while pos < len(nums):\n",
    "            if (target_num - nums[pos]) not in result_dict:\n",
    "                result_dict[nums[pos]] = pos\n",
    "                pos += 1\n",
    "            else:\n",
    "                return [result_dict[target_num - nums[pos]], pos]\n",
    "print(py_solution().twoSum([10,20,10,40,50,60,70],50))\n",
    "print(py_solution().twoSum([10,20,10,40,50,60,70],52))"
   ]
  },
  {
   "cell_type": "code",
   "execution_count": 144,
   "id": "3db64656-96eb-40e3-ae19-85664c28e5ed",
   "metadata": {
    "tags": []
   },
   "outputs": [
    {
     "name": "stdout",
     "output_type": "stream",
     "text": [
      "[[-10, 2, 8], [-7, -3, 10]]\n"
     ]
    }
   ],
   "source": [
    "class pysolution:\n",
    "    def three_sum(self,nums):\n",
    "        nums,result,i=sorted(nums),[],0\n",
    "        while i<len(nums)-2:\n",
    "            j,k=i+1,len(nums)-1\n",
    "            while j<k:\n",
    "                if nums[i] +nums[j]+nums[k]<0:\n",
    "                    j+=1\n",
    "                elif nums[i] +nums[j]+nums[k]>0:\n",
    "                    k-=1\n",
    "                else:\n",
    "                    result.append([nums[i],nums[j],nums[k]])\n",
    "                    j,k=j+1,k-1\n",
    "                    while j<k and nums[j]==nums[j-1]:\n",
    "                        j+=1\n",
    "                    while j<k and nums[k]==nums[k+1]:\n",
    "                        k-=1\n",
    "            i+=1\n",
    "            while i<len(nums)-2 and nums[i]==nums[i-1]:\n",
    "                i+=1\n",
    "        return result\n",
    "print(pysolution().three_sum([-25, -10, -7, -3, 2, 4, 8, 10]))"
   ]
  },
  {
   "cell_type": "code",
   "execution_count": 145,
   "id": "71124b59-1433-4fa5-91dd-3a0b4879e26e",
   "metadata": {
    "tags": []
   },
   "outputs": [
    {
     "name": "stdout",
     "output_type": "stream",
     "text": [
      "0.125\n",
      "243\n",
      "1\n",
      "0\n",
      "-1\n",
      "1\n",
      "256\n"
     ]
    }
   ],
   "source": [
    "class pysolution:\n",
    "    def pow(self,x,n):\n",
    "        if x==0 or x==1 or n==1:\n",
    "            return x\n",
    "        if x==-1:\n",
    "            if n%2==0:\n",
    "                return 1\n",
    "            else:\n",
    "                return -1\n",
    "        if n==0:\n",
    "            return 1\n",
    "        if n<0:\n",
    "            return 1/self.pow(x,-n)\n",
    "        val= self.pow(x,n//2)\n",
    "        if n%2==0:\n",
    "            return val*val\n",
    "        return val*val*x\n",
    "print(pysolution().pow(2,-3))\n",
    "print(pysolution().pow(3,5))\n",
    "print(pysolution().pow(100,0))\n",
    "print(pysolution().pow(0,1))\n",
    "print(pysolution().pow(-1,1))\n",
    "print(pysolution().pow(2,0))\n",
    "print(pysolution().pow(4,4))"
   ]
  },
  {
   "cell_type": "code",
   "execution_count": 146,
   "id": "8b1144f7-4643-4457-8038-27c6aeb347e9",
   "metadata": {
    "tags": []
   },
   "outputs": [
    {
     "name": "stdout",
     "output_type": "stream",
     "text": [
      ".py.hello\n"
     ]
    }
   ],
   "source": [
    "class reverse:\n",
    "    def string_reverse(self,x):\n",
    "        return '.'.join(reversed(x.split()))\n",
    "print(reverse().string_reverse('hello .py'))"
   ]
  },
  {
   "cell_type": "code",
   "execution_count": 148,
   "id": "9288b773-c4bd-44aa-8e06-3340d3902ebd",
   "metadata": {
    "tags": []
   },
   "outputs": [
    {
     "name": "stdin",
     "output_type": "stream",
     "text": [
      " pawan yadav\n"
     ]
    },
    {
     "name": "stdout",
     "output_type": "stream",
     "text": [
      "PAWAN YADAV\n",
      "..................................................................\n"
     ]
    },
    {
     "name": "stdin",
     "output_type": "stream",
     "text": [
      " w3resource\n"
     ]
    },
    {
     "name": "stdout",
     "output_type": "stream",
     "text": [
      "W3RESOURCE\n"
     ]
    }
   ],
   "source": [
    "class pysolution:\n",
    "    def get_strings(self,x):\n",
    "        self.x=x\n",
    "    def print_string(get_strings):\n",
    "        return get_strings.upper()\n",
    "print(pysolution.print_string(input()))\n",
    "##################################################################\n",
    "print('..................................................................')\n",
    "class IOString():\n",
    "    def __init__(self):\n",
    "        self.str1 = \"\"\n",
    "\n",
    "    def get_String(self):\n",
    "        self.str1 = input()\n",
    "\n",
    "    def print_String(self):\n",
    "        print(self.str1.upper())\n",
    "\n",
    "str1 = IOString()\n",
    "str1.get_String()\n",
    "str1.print_String()\n"
   ]
  },
  {
   "cell_type": "code",
   "execution_count": 149,
   "id": "698f7ee2-92af-4d75-90a9-05ea15e32bbc",
   "metadata": {
    "tags": []
   },
   "outputs": [
    {
     "name": "stdout",
     "output_type": "stream",
     "text": [
      "120\n",
      "..................................................................\n",
      "120\n"
     ]
    }
   ],
   "source": [
    "class rectangle:\n",
    "    def area(self,l,w):\n",
    "        return l*w\n",
    "print(rectangle().area(12,10))\n",
    "##################################################################\n",
    "print('..................................................................')\n",
    "class Rectangle():\n",
    "    def __init__(self, l, w):\n",
    "        self.length = l\n",
    "        self.width  = w\n",
    "\n",
    "    def rectangle_area(self):\n",
    "        return self.length*self.width\n",
    "\n",
    "newRectangle = Rectangle(12, 10)\n",
    "print(newRectangle.rectangle_area())"
   ]
  },
  {
   "cell_type": "code",
   "execution_count": 150,
   "id": "54be76c7-28af-465c-af79-d14004fbb579",
   "metadata": {
    "tags": []
   },
   "outputs": [
    {
     "name": "stdout",
     "output_type": "stream",
     "text": [
      "50.24\n",
      "25.12\n"
     ]
    }
   ],
   "source": [
    "class circle:\n",
    "    def __init__(self,r):\n",
    "        self.radius=r\n",
    "        self.pi=3.14\n",
    "    def area_circle(self):\n",
    "        return self.pi * self.radius**2\n",
    "    def perimeter_circle(self):\n",
    "        return 2*self.pi*self.radius\n",
    "Circle=circle(4)\n",
    "print(Circle.area_circle())\n",
    "print(Circle.perimeter_circle())"
   ]
  },
  {
   "cell_type": "code",
   "execution_count": 151,
   "id": "1e450995-e240-4c67-8f15-d5f7f22f2fd4",
   "metadata": {
    "tags": []
   },
   "outputs": [
    {
     "name": "stdout",
     "output_type": "stream",
     "text": [
      "cycle\n"
     ]
    }
   ],
   "source": [
    "import itertools\n",
    "x=itertools.cycle('Pawan yadav')\n",
    "print(type(x).__name__)"
   ]
  },
  {
   "cell_type": "markdown",
   "id": "e428bcdf-0f1e-4508-8966-1b9c539a128e",
   "metadata": {},
   "source": [
    "Python Class Real-life Problems!....................................."
   ]
  },
  {
   "cell_type": "code",
   "execution_count": 15,
   "id": "16190303-f9e1-4278-b332-144055c1206f",
   "metadata": {
    "tags": []
   },
   "outputs": [
    {
     "name": "stdout",
     "output_type": "stream",
     "text": [
      "Name:  Pawan Yadav\n",
      "Id:  19001129\n",
      "Salary:  2500000\n",
      "Deparetment:  AI Engineer\n",
      "----------------------------------------------\n",
      "Name:  Ayush Thakur\n",
      "Id:  19001185\n",
      "Salary:  500000\n",
      "Deparetment:  Web Developer\n",
      "----------------------------------------------\n",
      "Name:  Himanshu Singh\n",
      "Id:  19001186\n",
      "Salary:  200000\n",
      "Deparetment:  Web Developer\n",
      "----------------------------------------------\n",
      "Name:  Aman\n",
      "Id:  19001105\n",
      "Salary:  250000\n",
      "Deparetment:  Web Developer\n",
      "----------------------------------------------\n",
      "Name:  Shail Gupta\n",
      "Id:  19001096\n",
      "Salary:  2000000\n",
      "Deparetment:  Cyber Security\n",
      "----------------------------------------------\n",
      "Name:  Pawan Yadav\n",
      "Id:  19001129\n",
      "Salary:  10000000.0\n",
      "Deparetment:  AI Engineer\n",
      "----------------------------------------------\n",
      "Name:  Ayush Thakur\n",
      "Id:  19001185\n",
      "Salary:  980000.0\n",
      "Deparetment:  Java Developer\n",
      "----------------------------------------------\n",
      "Name:  Himanshu Singh\n",
      "Id:  19001186\n",
      "Salary:  700000.0\n",
      "Deparetment:  PHP Developer\n",
      "----------------------------------------------\n",
      "Name:  Aman\n",
      "Id:  19001105\n",
      "Salary:  4500000.0\n",
      "Deparetment:  Web Developer\n",
      "----------------------------------------------\n",
      "Name:  Shail Gupta\n",
      "Id:  19001096\n",
      "Salary:  360000.0\n",
      "Deparetment:  Cyber Security\n",
      "----------------------------------------------\n"
     ]
    }
   ],
   "source": [
    "class Employee:\n",
    "    def __init__(self,Id,name,salary,department):\n",
    "        self.emp_id=Id\n",
    "        self.emp_name=name\n",
    "        self.salary=salary\n",
    "        self.emp_department=department\n",
    "        \n",
    "    def calculate_emp_salary(self,salary,hour_worked):\n",
    "        overtime=0\n",
    "        if hour_worked > 50:\n",
    "            overtime=hour_worked-50\n",
    "        self.salary = salary + (overtime * (salary / 50))\n",
    "\n",
    "    def emp_assign_department(self,emp_department):\n",
    "        self.emp_department=emp_department\n",
    "        \n",
    "    def print_employee_details(self):\n",
    "        print('Name: ',self.emp_name)\n",
    "        print('Id: ',self.emp_id)\n",
    "        print('Salary: ',self.salary)\n",
    "        print('Deparetment: ',self.emp_department)\n",
    "        print('----------------------------------------------')\n",
    "        \n",
    "employee1=Employee(19001129,'Pawan Yadav',2500000,'AI Engineer')\n",
    "employee2=Employee(19001185,'Ayush Thakur',500000,'Web Developer')\n",
    "employee3=Employee(19001186,'Himanshu Singh',200000,'Web Developer')\n",
    "employee4=Employee(19001105,'Aman',250000,'Web Developer')\n",
    "employee5=Employee(19001096,'Shail Gupta',2000000,'Cyber Security')\n",
    "\n",
    "employee1.print_employee_details()\n",
    "employee2.print_employee_details()\n",
    "employee3.print_employee_details()\n",
    "employee4.print_employee_details()\n",
    "employee5.print_employee_details()\n",
    "\n",
    "employee2.emp_assign_department('Java Developer')\n",
    "employee3.emp_assign_department('PHP Developer')\n",
    "\n",
    "employee1.calculate_emp_salary(5000000, 100)\n",
    "employee2.calculate_emp_salary(700000, 70)\n",
    "employee3.calculate_emp_salary(500000, 70)\n",
    "employee4.calculate_emp_salary(3000000, 75)\n",
    "employee5.calculate_emp_salary(300000, 60)\n",
    "\n",
    "employee1.print_employee_details()\n",
    "employee2.print_employee_details()\n",
    "employee3.print_employee_details()\n",
    "employee4.print_employee_details()\n",
    "employee5.print_employee_details()"
   ]
  },
  {
   "cell_type": "code",
   "execution_count": 33,
   "id": "580ca6f6-ae45-41f9-8ebc-373e249fe2f0",
   "metadata": {
    "tags": []
   },
   "outputs": [
    {
     "name": "stdout",
     "output_type": "stream",
     "text": [
      "\n",
      "Popular dishes in the restaurant along with their prices:\n",
      "Cheeseburger - 60\n",
      "Caesar Salad - 30\n",
      "Grilled Salmon - 70\n",
      "French Fries - 100\n",
      "Fish & Chips: - 200\n",
      "\n",
      "Table reserved in the Restaurant:\n",
      "Table 1\n",
      "Table 2\n",
      "Table 3\n",
      "\n",
      "Print customer orders:\n",
      "Table 1 - Cheeseburger -  60\n",
      "Table 1 - Grilled Salmon -  70\n",
      "Table 2 - Fish & Chips -  200\n",
      "Table 2 - Grilled Salmon -  70\n",
      "\n",
      "Total Bill for Table 1: 130\n",
      "Total Bill for Table 2: 270\n"
     ]
    }
   ],
   "source": [
    "class Resturant:\n",
    "    def __init__(self):\n",
    "        self.menu_items={}\n",
    "        self.book_table=[]\n",
    "        self.customer_orders=[]\n",
    "    \n",
    "    def add_item_to_menu(self,item,price):\n",
    "        self.menu_items[item]=price\n",
    "        \n",
    "    def book_tables(self,table_numbers):\n",
    "        self.book_table.append(table_numbers)\n",
    "        \n",
    "    def customer_order(self,table_numbers,order,price):\n",
    "        order_details={'table_number':table_numbers,'order':order,'price':price}\n",
    "        self.customer_orders.append(order_details)\n",
    "    \n",
    "    def print_menu_items(self):\n",
    "        for item,price in self.menu_items.items():\n",
    "            print('{} - {}'.format(item,price))\n",
    "    def print_table_reservations(self):\n",
    "        for table in self.book_table:\n",
    "            print('Table {}'.format(table))\n",
    "    def print_customer_orders(self):\n",
    "        for order in self.customer_orders:\n",
    "            print('Table {} - {} -  {}'.format(order['table_number'],order['order'],order['price']))\n",
    "        \n",
    "    def calculate_bill(self, table_number):\n",
    "        total_bill = 0\n",
    "        for order in self.customer_orders:\n",
    "            if order['table_number'] == table_number:\n",
    "                total_bill += order['price']\n",
    "        return total_bill\n",
    "    \n",
    "restaurant=Resturant()\n",
    "\n",
    "restaurant.add_item_to_menu(\"Cheeseburger\", 60)\n",
    "restaurant.add_item_to_menu(\"Caesar Salad\", 30)\n",
    "restaurant.add_item_to_menu(\"Grilled Salmon\", 70)\n",
    "restaurant.add_item_to_menu(\"French Fries\", 100)\n",
    "restaurant.add_item_to_menu(\"Fish & Chips:\", 200)\n",
    "\n",
    "restaurant.book_tables(1)\n",
    "restaurant.book_tables(2)\n",
    "restaurant.book_tables(3)\n",
    "\n",
    "restaurant.customer_order(1, \"Cheeseburger\", 60)\n",
    "restaurant.customer_order(1, \"Grilled Salmon\", 70)\n",
    "restaurant.customer_order(2, \"Fish & Chips\", 200)\n",
    "restaurant.customer_order(2, \"Grilled Salmon\", 70)\n",
    "\n",
    "print(\"\\nPopular dishes in the restaurant along with their prices:\")\n",
    "restaurant.print_menu_items()\n",
    "print(\"\\nTable reserved in the Restaurant:\")\n",
    "restaurant.print_table_reservations()\n",
    "print(\"\\nPrint customer orders:\")\n",
    "restaurant.print_customer_orders()\n",
    "\n",
    "print()\n",
    "table_number = 1\n",
    "bill = restaurant.calculate_bill(table_number)\n",
    "print(f\"Total Bill for Table {table_number}: {bill}\")\n",
    "\n",
    "table_number = 2\n",
    "bill = restaurant.calculate_bill(table_number)\n",
    "print(f\"Total Bill for Table {table_number}: {bill}\")"
   ]
  },
  {
   "cell_type": "code",
   "execution_count": 51,
   "id": "6d3ae3fc-585d-415b-82b7-52b7c2ad16ac",
   "metadata": {
    "tags": []
   },
   "outputs": [
    {
     "name": "stdout",
     "output_type": "stream",
     "text": [
      "Customer Details:\n",
      "Name:  Pawan Yadav\n",
      "Account Number:  60441\n",
      "Date of Opening:  20-10-2019\n",
      "Balance: $2500\n",
      "\n",
      "Name:  Pankaj Yadav\n",
      "Account Number:  36773\n",
      "Date of Opening:  25-10-2019\n",
      "Balance: $2500\n",
      "\n",
      "Name:  Meera Yadav\n",
      "Account Number:  40095\n",
      "Date of Opening:  10-10-2019\n",
      "Balance: $2500\n",
      "\n",
      "Name:  Man Surat Yadav\n",
      "Account Number:  98247\n",
      "Date of Opening:  26-10-2019\n",
      "Balance: $2500\n",
      "\n",
      "Name:  Seema Yadav\n",
      "Account Number:  48054\n",
      "Date of Opening:  01-10-2019\n",
      "Balance: $2500\n",
      "\n"
     ]
    }
   ],
   "source": [
    "import random\n",
    "class BankAccount:\n",
    "    def __init__(self,name,opening,bal):\n",
    "        self.account_number=random.randint(10000, 99999)\n",
    "        self.balance=bal\n",
    "        self.date_of_opening=opening\n",
    "        self.customer_name=name\n",
    "    \n",
    "    def deposit(self,amount):\n",
    "        self.balance+=amount\n",
    "        print(f'${amount} has been deposited in your account.\\n')\n",
    "    \n",
    "    def withdraw(self,amount):\n",
    "        if amount>self.balance:\n",
    "            print('Insufficient Balance in your account!\\n')\n",
    "        else:\n",
    "            self.balance-=amount\n",
    "            print(f'${amount} has been withdraw from your account.\\n')\n",
    "            \n",
    "    def check_balance(self):\n",
    "        print(f'Current Balance is ${self.balance}.\\n')\n",
    "        \n",
    "    def print_customer_details(self):\n",
    "        print('Name: ',self.customer_name)\n",
    "        print('Account Number: ',self.account_number)\n",
    "        print('Date of Opening: ',self.date_of_opening)\n",
    "        print(f'Balance: ${self.balance}\\n')\n",
    "        \n",
    "ac_no_1=BankAccount('Pawan Yadav','20-10-2019',2500)\n",
    "ac_no_2=BankAccount('Pankaj Yadav','25-10-2019',2500)\n",
    "ac_no_3=BankAccount('Meera Yadav','10-10-2019',2500)\n",
    "ac_no_4=BankAccount('Man Surat Yadav','26-10-2019',2500)\n",
    "ac_no_5=BankAccount('Seema Yadav','01-10-2019',2500)\n",
    "\n",
    "print(\"Customer Details:\")\n",
    "ac_no_1.print_customer_details()\n",
    "ac_no_2.print_customer_details()\n",
    "ac_no_3.print_customer_details()\n",
    "ac_no_4.print_customer_details()\n",
    "ac_no_5.print_customer_details()\n"
   ]
  },
  {
   "cell_type": "code",
   "execution_count": 53,
   "id": "0b21c4ba-f253-4592-8f6b-688bc4086d2a",
   "metadata": {
    "tags": []
   },
   "outputs": [
    {
     "name": "stdout",
     "output_type": "stream",
     "text": [
      "=============================\n",
      "Name:  Pawan Yadav\n",
      "Account Number:  60441\n",
      "Date of Opening:  20-10-2019\n",
      "Balance: $6000\n",
      "\n",
      "$5000 has been deposited in your account.\n",
      "\n",
      "Current Balance is $11000.\n",
      "\n",
      "$1000 has been withdraw from your account.\n",
      "\n",
      "$500 has been withdraw from your account.\n",
      "\n",
      "Current Balance is $9500.\n",
      "\n",
      "Name:  Pawan Yadav\n",
      "Account Number:  60441\n",
      "Date of Opening:  20-10-2019\n",
      "Balance: $9500\n",
      "\n",
      "$9000 has been withdraw from your account.\n",
      "\n",
      "Current Balance is $500.\n",
      "\n"
     ]
    }
   ],
   "source": [
    "ac_no_1.print_customer_details()\n",
    "ac_no_1.deposit(5000)\n",
    "ac_no_1.check_balance()\n",
    "ac_no_1.withdraw(1000)\n",
    "ac_no_1.withdraw(500)\n",
    "ac_no_1.check_balance()\n",
    "ac_no_1.print_customer_details()\n",
    "ac_no_1.withdraw(9000)\n",
    "ac_no_1.check_balance()"
   ]
  },
  {
   "cell_type": "code",
   "execution_count": 60,
   "id": "f533d0c8-e15d-4d09-810c-e3878464936a",
   "metadata": {
    "tags": []
   },
   "outputs": [
    {
     "name": "stdout",
     "output_type": "stream",
     "text": [
      "Item Details\n",
      "Product Name: Laptop Stock Count: 100, Price: 500.0\n",
      "Product Name: Mobile Stock Count: 110, Price: 450.0\n",
      "Product Name: Desktop Stock Count: 120, Price: 500.0\n",
      "Product Name: Tablet Stock Count: 90, Price: 550.0\n",
      "\n",
      "Update the price of item code - 'I001':\n",
      "Product Name: Laptop Stock Count: 100, Price: 505.0\n",
      "\n",
      "Update the stock of item code - 'I003':\n",
      "Product Name: Desktop Stock Count: 115, Price: 500.0\n"
     ]
    }
   ],
   "source": [
    "class Inventory:\n",
    "    def __init__(self):\n",
    "        self.inventory={}\n",
    "        \n",
    "    def add_item(self,item_id,item_name,stock_count,price):\n",
    "        self.inventory[item_id]={'item_name':item_name,'stock_count':stock_count,'price':price}\n",
    "        \n",
    "    def update_item(self,item_id,stock_count,price):\n",
    "        if item_id in self.inventory:\n",
    "            self.inventory[item_id]['stock_count']=stock_count\n",
    "            self.inventory[item_id]['price']=price\n",
    "        else:\n",
    "            print('Item not found in inventory.')\n",
    "    \n",
    "    def check_item_details(self,item_id):\n",
    "        if item_id in self.inventory:\n",
    "            item=self.inventory[item_id]\n",
    "            return f\"Product Name: {item['item_name']} Stock Count: {item['stock_count']}, Price: {item['price']}\"\n",
    "        else:\n",
    "            return 'Item not found in inventory.'\n",
    "        \n",
    "inventory=Inventory()\n",
    "\n",
    "inventory.add_item(\"I001\", \"Laptop\", 100, 500.00)\n",
    "inventory.add_item(\"I002\", \"Mobile\", 110, 450.00)\n",
    "inventory.add_item(\"I003\", \"Desktop\", 120, 500.00)\n",
    "inventory.add_item(\"I004\", \"Tablet\", 90, 550.00)\n",
    "\n",
    "print(\"Item Details\")\n",
    "print(inventory.check_item_details(\"I001\"))\n",
    "print(inventory.check_item_details(\"I002\"))\n",
    "print(inventory.check_item_details(\"I003\"))\n",
    "print(inventory.check_item_details(\"I004\"))\n",
    "print(\"\\nUpdate the price of item code - 'I001':\")\n",
    "inventory.update_item(\"I001\", 100, 505.00)\n",
    "print(inventory.check_item_details(\"I001\"))\n",
    "print(\"\\nUpdate the stock of item code - 'I003':\")\n",
    "inventory.update_item(\"I003\", 115, 500.00)\n",
    "print(inventory.check_item_details(\"I003\"))"
   ]
  },
  {
   "cell_type": "code",
   "execution_count": null,
   "id": "2a7fca73-bb9a-42a0-97d0-ca7619f94f6f",
   "metadata": {},
   "outputs": [],
   "source": []
  }
 ],
 "metadata": {
  "kernelspec": {
   "display_name": "Python 3 (ipykernel)",
   "language": "python",
   "name": "python3"
  },
  "language_info": {
   "codemirror_mode": {
    "name": "ipython",
    "version": 3
   },
   "file_extension": ".py",
   "mimetype": "text/x-python",
   "name": "python",
   "nbconvert_exporter": "python",
   "pygments_lexer": "ipython3",
   "version": "3.11.3"
  }
 },
 "nbformat": 4,
 "nbformat_minor": 5
}
