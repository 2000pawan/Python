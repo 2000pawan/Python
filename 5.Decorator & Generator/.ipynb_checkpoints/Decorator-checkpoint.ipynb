{
 "cells": [
  {
   "cell_type": "code",
   "execution_count": 1,
   "id": "2cd2e75e-433c-44f5-95fc-8d046ebfb65b",
   "metadata": {
    "tags": []
   },
   "outputs": [
    {
     "name": "stdout",
     "output_type": "stream",
     "text": [
      "callingmultiply_numbers with args:(10, 20),kwargs:{}\n",
      "multiply_numbers returned:200\n",
      "Result: 200\n"
     ]
    }
   ],
   "source": [
    "def decorator(func):\n",
    "    def wrap(*args,**kwargs):\n",
    "        print(f'calling{func.__name__} with args:{args},kwargs:{kwargs}')\n",
    "        result=func(*args,**kwargs)\n",
    "        print(f'{func.__name__} returned:{result}')\n",
    "        return result\n",
    "    return wrap\n",
    "@decorator\n",
    "def multiply_numbers(x,y):\n",
    "    return x*y\n",
    "result= multiply_numbers(10,20)\n",
    "print('Result:',result)"
   ]
  },
  {
   "cell_type": "code",
   "execution_count": 4,
   "id": "84c1e58d-4d34-40d3-b646-91be263d0af6",
   "metadata": {
    "tags": []
   },
   "outputs": [
    {
     "name": "stdout",
     "output_type": "stream",
     "text": [
      "Function calculate_multiply took 0.0000 seconds to execute\n",
      "Result: 120\n"
     ]
    }
   ],
   "source": [
    "import time\n",
    "def measure_execution_time(func):\n",
    "    def wrapper(*args,**kwargs):\n",
    "        start_time=time.time()\n",
    "        result=func(*args,**kwargs)\n",
    "        end_time=time.time()\n",
    "        execution_time=end_time-start_time\n",
    "        print(f'Function {func.__name__} took {execution_time:.4f} seconds to execute')\n",
    "        return result\n",
    "    return wrapper\n",
    "@measure_execution_time\n",
    "def calculate_multiply(numbers):\n",
    "    tot=1\n",
    "    for x in numbers:\n",
    "        tot*=x\n",
    "    return tot\n",
    "result= calculate_multiply([1,2,3,4,5])\n",
    "print('Result:',result)"
   ]
  },
  {
   "cell_type": "code",
   "execution_count": 6,
   "id": "a7bf7da2-bafc-479e-92c2-be087f2b2986",
   "metadata": {
    "tags": []
   },
   "outputs": [
    {
     "name": "stdout",
     "output_type": "stream",
     "text": [
      "Result: 30 <class 'int'>\n",
      "Result: PythonDecorator <class 'str'>\n"
     ]
    }
   ],
   "source": [
    "def convert_to_data_type(data_type):\n",
    "    def decorator(func):\n",
    "        def wrapper(*args,**kwargs):\n",
    "            result=func(*args,**kwargs)\n",
    "            return data_type(result)\n",
    "        return wrapper\n",
    "    return decorator\n",
    "@convert_to_data_type(int)\n",
    "def add_numbers(x,y):\n",
    "    return x+y\n",
    "result= add_numbers(10,20)\n",
    "print('Result:',result,type(result))\n",
    "@convert_to_data_type(str)\n",
    "def concatenate_strings(x,y):\n",
    "    return x+y\n",
    "result=concatenate_strings('Python','Decorator')\n",
    "print('Result:',result,type(result))"
   ]
  },
  {
   "cell_type": "code",
   "execution_count": 2,
   "id": "557d02e8-c584-4fb7-8129-9a5a18b39005",
   "metadata": {},
   "outputs": [
    {
     "name": "stdout",
     "output_type": "stream",
     "text": [
      "Calculating the product of two numbers...\n",
      "20\n",
      "Retrieving result from cache...\n",
      "20\n",
      "Calculating the product of two numbers...\n",
      "35\n",
      "Retrieving result from cache...\n",
      "35\n",
      "Calculating the product of two numbers...\n",
      "-21\n",
      "Retrieving result from cache...\n",
      "-21\n"
     ]
    }
   ],
   "source": [
    "def cache_result(func):\n",
    "    cache={}\n",
    "    def wrapper(*args,**kwargs):\n",
    "        key=(*args,*kwargs.items())\n",
    "        if key in cache:\n",
    "            print('Retrieving result from cache...')\n",
    "            return cache[key]\n",
    "        result=func(*args,**kwargs)\n",
    "        cache[key]=result\n",
    "        return result\n",
    "    return wrapper\n",
    "@cache_result\n",
    "def calculate_multiply(x,y):\n",
    "    print('Calculating the product of two numbers...')\n",
    "    return x*y\n",
    "print(calculate_multiply(4, 5))  # Calculation is performed\n",
    "print(calculate_multiply(4, 5))  # Result is retrieved from cache\n",
    "print(calculate_multiply(5, 7))  # Calculation is performed\n",
    "print(calculate_multiply(5, 7))  # Result is retrieved from cache\n",
    "print(calculate_multiply(-3, 7))  # Calculation is performed\n",
    "print(calculate_multiply(-3, 7))  # Result is retrieved from cache"
   ]
  },
  {
   "cell_type": "code",
   "execution_count": 3,
   "id": "1ab70c5a-1930-4604-bf99-fc63d5f33aa7",
   "metadata": {
    "tags": []
   },
   "outputs": [
    {
     "name": "stdout",
     "output_type": "stream",
     "text": [
      "125\n"
     ]
    },
    {
     "ename": "ValueError",
     "evalue": "Invalid arguments passed to the function",
     "output_type": "error",
     "traceback": [
      "\u001b[1;31m---------------------------------------------------------------------------\u001b[0m",
      "\u001b[1;31mValueError\u001b[0m                                Traceback (most recent call last)",
      "Cell \u001b[1;32mIn[3], line 14\u001b[0m\n\u001b[0;32m     12\u001b[0m     \u001b[38;5;28;01mreturn\u001b[39;00m x\u001b[38;5;241m*\u001b[39m\u001b[38;5;241m*\u001b[39m\u001b[38;5;241m3\u001b[39m\n\u001b[0;32m     13\u001b[0m \u001b[38;5;28mprint\u001b[39m(calculate_cube(\u001b[38;5;241m5\u001b[39m))\n\u001b[1;32m---> 14\u001b[0m \u001b[38;5;28mprint\u001b[39m(\u001b[43mcalculate_cube\u001b[49m\u001b[43m(\u001b[49m\u001b[38;5;241;43m-\u001b[39;49m\u001b[38;5;241;43m2\u001b[39;49m\u001b[43m)\u001b[49m)\n",
      "Cell \u001b[1;32mIn[3], line 7\u001b[0m, in \u001b[0;36mvalidate_arguments.<locals>.decorato.<locals>.wrapper\u001b[1;34m(*args, **kwargs)\u001b[0m\n\u001b[0;32m      5\u001b[0m     \u001b[38;5;28;01mreturn\u001b[39;00m func(\u001b[38;5;241m*\u001b[39margs,\u001b[38;5;241m*\u001b[39m\u001b[38;5;241m*\u001b[39mkwargs)\n\u001b[0;32m      6\u001b[0m \u001b[38;5;28;01melse\u001b[39;00m:\n\u001b[1;32m----> 7\u001b[0m     \u001b[38;5;28;01mraise\u001b[39;00m \u001b[38;5;167;01mValueError\u001b[39;00m(\u001b[38;5;124m'\u001b[39m\u001b[38;5;124mInvalid arguments passed to the function\u001b[39m\u001b[38;5;124m'\u001b[39m)\n",
      "\u001b[1;31mValueError\u001b[0m: Invalid arguments passed to the function"
     ]
    }
   ],
   "source": [
    "def validate_arguments(condition):\n",
    "    def decorato(func):\n",
    "        def wrapper(*args,**kwargs):\n",
    "            if condition(*args,**kwargs):\n",
    "                return func(*args,**kwargs)\n",
    "            else:\n",
    "                raise ValueError('Invalid arguments passed to the function')\n",
    "        return wrapper\n",
    "    return decorato\n",
    "@validate_arguments(lambda x: x>0)\n",
    "def calculate_cube(x):\n",
    "    return x**3\n",
    "print(calculate_cube(5))\n",
    "print(calculate_cube(-2))"
   ]
  },
  {
   "cell_type": "code",
   "execution_count": 9,
   "id": "f5c42ea2-6d2d-4113-abaa-ceaa7b4db9ed",
   "metadata": {},
   "outputs": [
    {
     "name": "stdout",
     "output_type": "stream",
     "text": [
      "Error occurred:no such table: users.Retrying....\n",
      "Error occurred:no such table: users.Retrying....\n",
      "Error occurred:no such table: users.Retrying....\n",
      "Error occurred:no such table: users.Retrying....\n",
      "Error occurred:no such table: users.Retrying....\n",
      "Failed to connect to the database: Maximum retries exceeded. Function Failed.\n"
     ]
    }
   ],
   "source": [
    "import sqlite3\n",
    "import time\n",
    "def retry_on_faliure(max_retries,delay=1):\n",
    "    def decorator(func):\n",
    "        def wrapper(*args,**kwargs):\n",
    "            for _ in range(max_retries):\n",
    "                try:\n",
    "                    result=func(*args,**kwargs)\n",
    "                    return result\n",
    "                except Exception as e:\n",
    "                    print(f'Error occurred:{e}.Retrying....')\n",
    "                    time.sleep(delay)\n",
    "            raise Exception('Maximum retries exceeded. Function Failed.')\n",
    "        return wrapper\n",
    "    return decorator\n",
    "@retry_on_faliure(max_retries=5,delay=1)\n",
    "def connect_to_database():\n",
    "    conn = sqlite3.connect(\"example.db\")\n",
    "    cursor = conn.cursor()\n",
    "    cursor.execute(\"SELECT * FROM users\")\n",
    "    result = cursor.fetchall()\n",
    "    cursor.close()\n",
    "    conn.close()\n",
    "    return result\n",
    "try:\n",
    "    data = connect_to_database()\n",
    "    print(\"Data retrieved successfully:\", data)\n",
    "except Exception as e:\n",
    "    print(f\"Failed to connect to the database: {e}\")"
   ]
  },
  {
   "cell_type": "code",
   "execution_count": 11,
   "id": "c0cb878f-cb1b-4f7a-a341-11765eeaa150",
   "metadata": {
    "tags": []
   },
   "outputs": [
    {
     "name": "stdout",
     "output_type": "stream",
     "text": [
      "API call executed successfully...\n",
      "API call executed successfully...\n",
      "API call executed successfully...\n",
      "API call executed successfully...\n",
      "API call executed successfully...\n",
      "API call executed successfully...\n",
      "Error occurred: Rate limit exceeded. Please try again later.\n",
      "Error occurred: Rate limit exceeded. Please try again later.\n"
     ]
    }
   ],
   "source": [
    "import time\n",
    "def rate_limits(max_calls, period):\n",
    "    def decorator(func):\n",
    "        calls = 0\n",
    "        last_reset = time.time()\n",
    "        def wrapper(*args, **kwargs):\n",
    "            nonlocal calls, last_reset\n",
    "            elapsed = time.time() - last_reset\n",
    "            if elapsed > period:\n",
    "                calls = 0\n",
    "                last_reset = time.time()\n",
    "            if calls >= max_calls:\n",
    "                raise Exception(\"Rate limit exceeded. Please try again later.\")\n",
    "            calls += 1\n",
    "            return func(*args, **kwargs)\n",
    "        return wrapper\n",
    "    return decorator\n",
    "@rate_limits(max_calls=6, period=10)\n",
    "def api_call():\n",
    "    print(\"API call executed successfully...\")\n",
    "for _ in range(8):\n",
    "    try:\n",
    "        api_call()\n",
    "    except Exception as e:\n",
    "        print(f\"Error occurred: {e}\")"
   ]
  },
  {
   "cell_type": "code",
   "execution_count": 12,
   "id": "995997e6-16ff-438a-b1a9-e56c76e33fb5",
   "metadata": {
    "tags": []
   },
   "outputs": [
    {
     "name": "stdout",
     "output_type": "stream",
     "text": [
      "Calling add_numbers with args: (200, 300), kwargs: {}\n",
      "add_numbers returned: 500\n",
      "Result: 500\n"
     ]
    }
   ],
   "source": [
    "def add_logging(func):\n",
    "    def wrapper(*args, **kwargs):\n",
    "        print(f\"Calling {func.__name__} with args: {args}, kwargs: {kwargs}\")\n",
    "        result = func(*args, **kwargs)\n",
    "        print(f\"{func.__name__} returned: {result}\")\n",
    "        return result\n",
    "    return wrapper\n",
    "@add_logging\n",
    "def add_numbers(x, y):\n",
    "    return x + y\n",
    "result = add_numbers(200, 300)\n",
    "print(\"Result:\", result)"
   ]
  },
  {
   "cell_type": "code",
   "execution_count": 15,
   "id": "989ab61f-fb77-4473-9ea6-d7015b13b670",
   "metadata": {
    "tags": []
   },
   "outputs": [
    {
     "name": "stdout",
     "output_type": "stream",
     "text": [
      "Exception occurred: division by zero\n",
      "Result: An error occurred!\n"
     ]
    }
   ],
   "source": [
    "def handle_exceptions(default_response):\n",
    "    def decorator(func):\n",
    "        def wrapper(*args, **kwargs):\n",
    "            try:\n",
    "                return func(*args, **kwargs)\n",
    "            except Exception as e:\n",
    "                print(f\"Exception occurred: {e}\")\n",
    "                return default_response\n",
    "        return wrapper\n",
    "    return decorator\n",
    "@handle_exceptions(default_response=\"An error occurred!\")\n",
    "def divide_numbers(x, y):\n",
    "    return x / y\n",
    "result = divide_numbers(7, 0)  # This will raise a ZeroDivisionError\n",
    "print(\"Result:\", result)"
   ]
  },
  {
   "cell_type": "code",
   "execution_count": 17,
   "id": "3f0b943a-47da-4a1e-a962-aa60268c08ca",
   "metadata": {
    "tags": []
   },
   "outputs": [
    {
     "name": "stdout",
     "output_type": "stream",
     "text": [
      "Result: 35\n"
     ]
    },
    {
     "ename": "TypeError",
     "evalue": "Argument 'x' must be of type 'int'",
     "output_type": "error",
     "traceback": [
      "\u001b[1;31m---------------------------------------------------------------------------\u001b[0m",
      "\u001b[1;31mTypeError\u001b[0m                                 Traceback (most recent call last)",
      "Cell \u001b[1;32mIn[17], line 22\u001b[0m\n\u001b[0;32m     20\u001b[0m result \u001b[38;5;241m=\u001b[39m multiply_numbers(\u001b[38;5;241m5\u001b[39m, \u001b[38;5;241m7\u001b[39m)  \u001b[38;5;66;03m# No type errors, returns 30\u001b[39;00m\n\u001b[0;32m     21\u001b[0m \u001b[38;5;28mprint\u001b[39m(\u001b[38;5;124m\"\u001b[39m\u001b[38;5;124mResult:\u001b[39m\u001b[38;5;124m\"\u001b[39m, result)\n\u001b[1;32m---> 22\u001b[0m result \u001b[38;5;241m=\u001b[39m \u001b[43mmultiply_numbers\u001b[49m\u001b[43m(\u001b[49m\u001b[38;5;124;43m\"\u001b[39;49m\u001b[38;5;124;43m5\u001b[39;49m\u001b[38;5;124;43m\"\u001b[39;49m\u001b[43m,\u001b[49m\u001b[43m \u001b[49m\u001b[38;5;241;43m7\u001b[39;49m\u001b[43m)\u001b[49m  \u001b[38;5;66;03m# Type error: 'x' must be of type 'int'\u001b[39;00m\n",
      "Cell \u001b[1;32mIn[17], line 10\u001b[0m, in \u001b[0;36menforce_type_checking.<locals>.wrapper\u001b[1;34m(*args, **kwargs)\u001b[0m\n\u001b[0;32m      8\u001b[0m     param_type \u001b[38;5;241m=\u001b[39m parameters[param_name]\u001b[38;5;241m.\u001b[39mannotation\n\u001b[0;32m      9\u001b[0m     \u001b[38;5;28;01mif\u001b[39;00m \u001b[38;5;129;01mnot\u001b[39;00m \u001b[38;5;28misinstance\u001b[39m(arg, param_type):\n\u001b[1;32m---> 10\u001b[0m         \u001b[38;5;28;01mraise\u001b[39;00m \u001b[38;5;167;01mTypeError\u001b[39;00m(\u001b[38;5;124mf\u001b[39m\u001b[38;5;124m\"\u001b[39m\u001b[38;5;124mArgument \u001b[39m\u001b[38;5;124m'\u001b[39m\u001b[38;5;132;01m{\u001b[39;00mparam_name\u001b[38;5;132;01m}\u001b[39;00m\u001b[38;5;124m'\u001b[39m\u001b[38;5;124m must be of type \u001b[39m\u001b[38;5;124m'\u001b[39m\u001b[38;5;132;01m{\u001b[39;00mparam_type\u001b[38;5;241m.\u001b[39m\u001b[38;5;18m__name__\u001b[39m\u001b[38;5;132;01m}\u001b[39;00m\u001b[38;5;124m'\u001b[39m\u001b[38;5;124m\"\u001b[39m)\n\u001b[0;32m     11\u001b[0m \u001b[38;5;28;01mfor\u001b[39;00m param_name, arg \u001b[38;5;129;01min\u001b[39;00m kwargs\u001b[38;5;241m.\u001b[39mitems():\n\u001b[0;32m     12\u001b[0m     param_type \u001b[38;5;241m=\u001b[39m parameters[param_name]\u001b[38;5;241m.\u001b[39mannotation\n",
      "\u001b[1;31mTypeError\u001b[0m: Argument 'x' must be of type 'int'"
     ]
    }
   ],
   "source": [
    "import inspect\n",
    "def enforce_type_checking(func):\n",
    "    def wrapper(*args, **kwargs):\n",
    "        signature = inspect.signature(func)\n",
    "        parameters = signature.parameters\n",
    "        for i, arg in enumerate(args):\n",
    "            param_name = list(parameters.keys())[i]\n",
    "            param_type = parameters[param_name].annotation\n",
    "            if not isinstance(arg, param_type):\n",
    "                raise TypeError(f\"Argument '{param_name}' must be of type '{param_type.__name__}'\")\n",
    "        for param_name, arg in kwargs.items():\n",
    "            param_type = parameters[param_name].annotation\n",
    "            if not isinstance(arg, param_type):\n",
    "                raise TypeError(f\"Argument '{param_name}' must be of type '{param_type.__name__}'\")\n",
    "        return func(*args, **kwargs)\n",
    "    return wrapper\n",
    "@enforce_type_checking\n",
    "def multiply_numbers(x: int, y: int) -> int:\n",
    "    return x * y\n",
    "result = multiply_numbers(5, 7)  # No type errors, returns 30\n",
    "print(\"Result:\", result)\n",
    "result = multiply_numbers(\"5\", 7)  # Type error: 'x' must be of type 'int'"
   ]
  },
  {
   "cell_type": "code",
   "execution_count": 18,
   "id": "c614858d-cc8a-4aa9-a9e0-7bb88995dcc4",
   "metadata": {
    "tags": []
   },
   "outputs": [
    {
     "name": "stdout",
     "output_type": "stream",
     "text": [
      "Memory usage of calculate_factorial:\n",
      "Memory usage of calculate_factorial:\n",
      "C:\\Users\\panka\\anaconda3\\Lib\\selectors.py:314: size=144 KiB, count=3, average=48.0 KiB\n",
      "C:\\Users\\panka\\anaconda3\\Lib\\asyncio\\base_events.py:744: size=112 B, count=1, average=112 B\n",
      "C:\\Users\\panka\\AppData\\Roaming\\Python\\Python311\\site-packages\\zmq\\sugar\\attrsettr.py:44: size=110 B, count=2, average=55 B\n",
      "C:\\Users\\panka\\AppData\\Local\\Temp\\ipykernel_8136\\3102669201.py:8: size=85 B, count=1, average=85 B\n",
      "C:\\Users\\panka\\AppData\\Roaming\\Python\\Python311\\site-packages\\tornado\\platform\\asyncio.py:231: size=80 B, count=1, average=80 B\n",
      "Memory usage of calculate_factorial:\n",
      "C:\\Users\\panka\\anaconda3\\Lib\\selectors.py:314: size=144 KiB, count=3, average=48.0 KiB\n",
      "C:\\Users\\panka\\anaconda3\\Lib\\tracemalloc.py:59: size=769 B, count=5, average=154 B\n",
      "C:\\Users\\panka\\AppData\\Local\\Temp\\ipykernel_8136\\3102669201.py:8: size=170 B, count=2, average=85 B\n",
      "C:\\Users\\panka\\AppData\\Roaming\\Python\\Python311\\site-packages\\ipykernel\\iostream.py:563: size=128 B, count=1, average=128 B\n",
      "C:\\Users\\panka\\anaconda3\\Lib\\tracemalloc.py:558: size=112 B, count=2, average=56 B\n",
      "Memory usage of calculate_factorial:\n",
      "C:\\Users\\panka\\anaconda3\\Lib\\selectors.py:314: size=144 KiB, count=3, average=48.0 KiB\n",
      "C:\\Users\\panka\\anaconda3\\Lib\\tracemalloc.py:59: size=1486 B, count=10, average=149 B\n",
      "C:\\Users\\panka\\AppData\\Roaming\\Python\\Python311\\site-packages\\ipykernel\\iostream.py:563: size=256 B, count=1, average=256 B\n",
      "C:\\Users\\panka\\AppData\\Local\\Temp\\ipykernel_8136\\3102669201.py:8: size=255 B, count=3, average=85 B\n",
      "C:\\Users\\panka\\anaconda3\\Lib\\tracemalloc.py:558: size=112 B, count=2, average=56 B\n",
      "Memory usage of calculate_factorial:\n",
      "C:\\Users\\panka\\anaconda3\\Lib\\selectors.py:314: size=144 KiB, count=3, average=48.0 KiB\n",
      "C:\\Users\\panka\\anaconda3\\Lib\\tracemalloc.py:59: size=2205 B, count=15, average=147 B\n",
      "C:\\Users\\panka\\AppData\\Local\\Temp\\ipykernel_8136\\3102669201.py:8: size=340 B, count=4, average=85 B\n",
      "C:\\Users\\panka\\AppData\\Roaming\\Python\\Python311\\site-packages\\ipykernel\\iostream.py:563: size=320 B, count=1, average=320 B\n",
      "C:\\Users\\panka\\anaconda3\\Lib\\tracemalloc.py:558: size=112 B, count=2, average=56 B\n",
      "Memory usage of calculate_factorial:\n",
      "C:\\Users\\panka\\anaconda3\\Lib\\selectors.py:314: size=144 KiB, count=3, average=48.0 KiB\n",
      "C:\\Users\\panka\\anaconda3\\Lib\\tracemalloc.py:59: size=2924 B, count=20, average=146 B\n",
      "C:\\Users\\panka\\AppData\\Local\\Temp\\ipykernel_8136\\3102669201.py:8: size=425 B, count=5, average=85 B\n",
      "C:\\Users\\panka\\AppData\\Roaming\\Python\\Python311\\site-packages\\ipykernel\\iostream.py:563: size=416 B, count=1, average=416 B\n",
      "C:\\Users\\panka\\AppData\\Local\\Temp\\ipykernel_8136\\3102669201.py:9: size=168 B, count=3, average=56 B\n",
      "Factorial: 120\n"
     ]
    }
   ],
   "source": [
    "import tracemalloc\n",
    "def measure_memory_usage(func):\n",
    "    def wrapper(*args, **kwargs):\n",
    "        tracemalloc.start()\n",
    "        result = func(*args, **kwargs)\n",
    "        snapshot = tracemalloc.take_snapshot()\n",
    "        top_stats = snapshot.statistics(\"lineno\")\n",
    "        print(f\"Memory usage of {func.__name__}:\")\n",
    "        for stat in top_stats[:5]:\n",
    "            print(stat)\n",
    "        return result\n",
    "    return wrapper\n",
    "@measure_memory_usage\n",
    "def calculate_factorial(n):\n",
    "    if n == 0:\n",
    "        return 1\n",
    "    else:\n",
    "        return n * calculate_factorial(n - 1)\n",
    "result = calculate_factorial(5)\n",
    "print(\"Factorial:\", result)"
   ]
  },
  {
   "cell_type": "code",
   "execution_count": 19,
   "id": "52058839-55e1-438f-8093-68606d467f9d",
   "metadata": {
    "tags": []
   },
   "outputs": [
    {
     "name": "stdout",
     "output_type": "stream",
     "text": [
      "Calculating product of two numbers...\n",
      "115\n",
      "Retrieving result from cache...\n",
      "115\n",
      "Calculating product of two numbers...\n",
      "115\n"
     ]
    }
   ],
   "source": [
    "import time\n",
    "def cache_with_expiry(expiry_time):\n",
    "    def decorator(func):\n",
    "        cache = {}\n",
    "        def wrapper(*args, **kwargs):\n",
    "            key = (*args, *kwargs.items())\n",
    "            if key in cache:\n",
    "                value, timestamp = cache[key]\n",
    "                if time.time() - timestamp < expiry_time:\n",
    "                    print(\"Retrieving result from cache...\")\n",
    "                    return value\n",
    "            result = func(*args, **kwargs)\n",
    "            cache[key] = (result, time.time())\n",
    "            return result\n",
    "        return wrapper\n",
    "    return decorator\n",
    "@cache_with_expiry(expiry_time=5)  # Cache expiry time set to 5 seconds\n",
    "def calculate_multiply(x, y):\n",
    "    print(\"Calculating product of two numbers...\")\n",
    "    return x * y\n",
    "print(calculate_multiply(23, 5))  # Calculation is performed\n",
    "print(calculate_multiply(23, 5))  # Result is retrieved from cache\n",
    "time.sleep(5)\n",
    "print(calculate_multiply(23, 5))  # Calculation is performed (cache expired)"
   ]
  },
  {
   "cell_type": "code",
   "execution_count": null,
   "id": "a347f850-d1ba-4786-9afb-b057a2937c62",
   "metadata": {},
   "outputs": [],
   "source": []
  }
 ],
 "metadata": {
  "kernelspec": {
   "display_name": "Python 3 (ipykernel)",
   "language": "python",
   "name": "python3"
  },
  "language_info": {
   "codemirror_mode": {
    "name": "ipython",
    "version": 3
   },
   "file_extension": ".py",
   "mimetype": "text/x-python",
   "name": "python",
   "nbconvert_exporter": "python",
   "pygments_lexer": "ipython3",
   "version": "3.11.3"
  }
 },
 "nbformat": 4,
 "nbformat_minor": 5
}
