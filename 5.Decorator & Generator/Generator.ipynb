{
 "cells": [
  {
   "cell_type": "code",
   "execution_count": 1,
   "id": "3e394ff6-ef79-495d-a912-dbcdafb144c7",
   "metadata": {},
   "outputs": [
    {
     "name": "stdin",
     "output_type": "stream",
     "text": [
      "Input a number 10\n"
     ]
    },
    {
     "name": "stdout",
     "output_type": "stream",
     "text": [
      "Cubes of numbers from 1 to 10\n",
      "1\n",
      "8\n",
      "27\n",
      "64\n",
      "125\n",
      "216\n",
      "343\n",
      "512\n",
      "729\n",
      "1000\n"
     ]
    }
   ],
   "source": [
    "def cube(n):\n",
    "    for i in range(1,n+1):\n",
    "        yield i**3\n",
    "n=int(input('Input a number'))\n",
    "cubes=cube(n)\n",
    "print('Cubes of numbers from 1 to',n)\n",
    "for j in cubes:\n",
    "    print(j)"
   ]
  },
  {
   "cell_type": "code",
   "execution_count": 6,
   "id": "2385c7bb-c46d-4564-9912-b8ce63b8c3f1",
   "metadata": {
    "tags": []
   },
   "outputs": [
    {
     "name": "stdin",
     "output_type": "stream",
     "text": [
      "Input a number: 1000\n",
      "Input a number: 9999\n"
     ]
    },
    {
     "name": "stdout",
     "output_type": "stream",
     "text": [
      "2249\n",
      "4659\n",
      "4801\n",
      "9420\n",
      "8089\n",
      "4172\n",
      "4964\n",
      "9772\n",
      "5581\n",
      "1436\n"
     ]
    }
   ],
   "source": [
    "import random\n",
    "def random_number(x,n):\n",
    "    while True:\n",
    "        yield random.randint(x,n)\n",
    "x=int(input('Input a number:'))\n",
    "n=int(input('Input a number:'))\n",
    "num=random_number(x,n)\n",
    "for _ in range(10):\n",
    "    print(next(num))"
   ]
  },
  {
   "cell_type": "code",
   "execution_count": 24,
   "id": "25b5dc89-f755-4bb3-80e2-7c7c930cdae6",
   "metadata": {
    "tags": []
   },
   "outputs": [
    {
     "name": "stdin",
     "output_type": "stream",
     "text": [
      "Input a number: 5\n"
     ]
    },
    {
     "name": "stdout",
     "output_type": "stream",
     "text": [
      "2\n",
      "3\n",
      "5\n",
      "7\n",
      "11\n"
     ]
    }
   ],
   "source": [
    "def is_prime(x):\n",
    "    if x<=1:\n",
    "        return False\n",
    "    for i in range(2,int(x**0.5)+1):\n",
    "        if x%i==0:\n",
    "            return False\n",
    "    return True\n",
    "def prime_num():\n",
    "    x=2\n",
    "    while True:\n",
    "        if is_prime(x):\n",
    "            yield x\n",
    "        x+=1\n",
    "num=prime_num()\n",
    "x=int(input('Input a number:'))\n",
    "for _ in range(x):\n",
    "    print(next(num))"
   ]
  },
  {
   "cell_type": "code",
   "execution_count": 30,
   "id": "e99e8c8d-3139-4d35-b41c-3790fbeeb09c",
   "metadata": {
    "tags": []
   },
   "outputs": [
    {
     "name": "stdin",
     "output_type": "stream",
     "text": [
      "Input the number of Fibonacci numbers you want to generate?  10\n"
     ]
    },
    {
     "name": "stdout",
     "output_type": "stream",
     "text": [
      "0 1 1 2 3 5 8 13 21 34 "
     ]
    }
   ],
   "source": [
    "def fibonacci():\n",
    "    x,y=0,1\n",
    "    while True:\n",
    "        yield x\n",
    "        x,y=y,x+y\n",
    "n=int(input(\"Input the number of Fibonacci numbers you want to generate? \"))\n",
    "fib=fibonacci()\n",
    "for _ in range(n):\n",
    "    print(next(fib),end=' ')"
   ]
  },
  {
   "cell_type": "code",
   "execution_count": 34,
   "id": "b2d22c91-0248-4373-b9d3-eeb6c9169917",
   "metadata": {
    "tags": []
   },
   "outputs": [
    {
     "name": "stdout",
     "output_type": "stream",
     "text": [
      "All permutations:\n",
      "[1, 2]\n",
      "[2, 1]\n",
      "All permutations:\n",
      "[1, 2, 3]\n",
      "[2, 1, 3]\n",
      "[2, 3, 1]\n",
      "[1, 3, 2]\n",
      "[3, 1, 2]\n",
      "[3, 2, 1]\n",
      "All permutations:\n",
      "[1, 2, 3, 4]\n",
      "[2, 1, 3, 4]\n",
      "[2, 3, 1, 4]\n",
      "[2, 3, 4, 1]\n",
      "[1, 3, 2, 4]\n",
      "[3, 1, 2, 4]\n",
      "[3, 2, 1, 4]\n",
      "[3, 2, 4, 1]\n",
      "[1, 3, 4, 2]\n",
      "[3, 1, 4, 2]\n",
      "[3, 4, 1, 2]\n",
      "[3, 4, 2, 1]\n",
      "[1, 2, 4, 3]\n",
      "[2, 1, 4, 3]\n",
      "[2, 4, 1, 3]\n",
      "[2, 4, 3, 1]\n",
      "[1, 4, 2, 3]\n",
      "[4, 1, 2, 3]\n",
      "[4, 2, 1, 3]\n",
      "[4, 2, 3, 1]\n",
      "[1, 4, 3, 2]\n",
      "[4, 1, 3, 2]\n",
      "[4, 3, 1, 2]\n",
      "[4, 3, 2, 1]\n"
     ]
    }
   ],
   "source": [
    "def list_permutation(x):\n",
    "    if len(x)<=1:\n",
    "        yield x\n",
    "    else:\n",
    "        for p in list_permutation(x[1:]):\n",
    "            for i in range(len(x)):\n",
    "                yield p[:i] +x[0:1]+p[i:]\n",
    "nums=[1,2]\n",
    "print(\"All permutations:\")\n",
    "for p in list_permutation(nums):\n",
    "    print(p)\n",
    "nums=[1,2,3]\n",
    "print(\"All permutations:\")\n",
    "for p in list_permutation(nums):\n",
    "    print(p)\n",
    "nums=[1,2,3,4]\n",
    "print(\"All permutations:\")\n",
    "for p in list_permutation(nums):\n",
    "    print(p)"
   ]
  },
  {
   "cell_type": "code",
   "execution_count": 44,
   "id": "ef739fd8-c9db-48d5-8554-2e565c7cc763",
   "metadata": {
    "tags": []
   },
   "outputs": [
    {
     "name": "stdin",
     "output_type": "stream",
     "text": [
      "input len of each combinagtion: 3\n"
     ]
    },
    {
     "name": "stdout",
     "output_type": "stream",
     "text": [
      "[1, 2, 3]\n",
      "[1, 2, 4]\n",
      "[1, 3, 4]\n",
      "[2, 3, 4]\n"
     ]
    }
   ],
   "source": [
    "def list_combination(x,r):\n",
    "    if r==0:\n",
    "        yield []\n",
    "    elif r>len(x):\n",
    "        return\n",
    "    else:\n",
    "        for i in range(len(x)):\n",
    "            c=x[i]\n",
    "            r_x=x[i+1:]\n",
    "            for combination in list_combination(r_x,r-1):\n",
    "                yield [c]+combination\n",
    "nums=[1,2,3,4]\n",
    "r=int(input('input len of each combinagtion:'))\n",
    "for combination in list_combination(nums,r):\n",
    "    print(combination)"
   ]
  },
  {
   "cell_type": "code",
   "execution_count": 57,
   "id": "3d3b44ae-981c-4e81-b011-f10d329938ca",
   "metadata": {
    "tags": []
   },
   "outputs": [
    {
     "name": "stdin",
     "output_type": "stream",
     "text": [
      "Input a Positive integer(n): 12\n"
     ]
    },
    {
     "name": "stdout",
     "output_type": "stream",
     "text": [
      "Collatz sequence:\n",
      "12 ,6 ,3 ,10 ,5 ,16 ,8 ,4 ,2 ,1 ,"
     ]
    }
   ],
   "source": [
    "## Q7. Write a Python program to implement a generator that generates the Collatz sequence for a given number.\n",
    "'''The Collatz sequence, also known as the Collatz conjecture or 3n+1 problem, is a sequence of numbers defined by the following rules:\n",
    "Start with any positive integer n.\n",
    "If n is even, divide it by 2 to get n/2.\n",
    "If n is odd, multiply it by 3 and add 1 to get 3n+1.\n",
    "Repeat the process, using the resulting number, until you reach the number 1.\n",
    "For instance, starting with n = 12 and applying the function f without \"shortcut\", one gets the sequence 12, 6, 3, 10, 5, 16, 8, 4, 2, 1.\n",
    "The number n = 19 takes longer to reach 1: 19, 58, 29, 88, 44, 22, 11, 34, 17, 52, 26, 13, 40, 20, 10, 5, 16, 8, 4, 2, 1.'''\n",
    "\n",
    "def collatz_sequence(n):\n",
    "    while n!=1:\n",
    "        yield n\n",
    "        if n%2==0:\n",
    "            n=n//2\n",
    "        else:\n",
    "            n=3*n+1\n",
    "    yield 1\n",
    "n=int(input('Input a Positive integer(n):'))\n",
    "print(\"Collatz sequence:\")\n",
    "for num in collatz_sequence(n):\n",
    "    print(num,end=' ,')"
   ]
  },
  {
   "cell_type": "code",
   "execution_count": 61,
   "id": "c3ea3a88-ade0-46a0-8212-a69db631e350",
   "metadata": {
    "tags": []
   },
   "outputs": [
    {
     "name": "stdin",
     "output_type": "stream",
     "text": [
      "Input a number:  11\n"
     ]
    },
    {
     "name": "stdout",
     "output_type": "stream",
     "text": [
      "Next palindrome number after 11 is: 22\n"
     ]
    }
   ],
   "source": [
    "##Q8. Write a Python program that creates a generator function that generates the next palindrome number after a given number.\n",
    "'''A palindromic number (also known as a numeral palindrome or a numeric palindrome) is\n",
    "a number(such as 16461) that remains the same when its digits are reversed. \n",
    "The first 30 palindromic numbers (in decimal) are: 0, 1, 2, 3, 4, 5, 6, 7, 8, 9, 11, 22, \n",
    "33, 44, 55, 66, 77, 88, 99, 101, 111, 121, 131, 141, 151, 161, 171, 181, 191, 202, ...'''\n",
    "\n",
    "def is_palindrome(n):\n",
    "    return str(n) == str(n)[::-1]\n",
    "def next_palindrome(start):\n",
    "    num= start +1\n",
    "    while True:\n",
    "        if is_palindrome(num):\n",
    "            yield num\n",
    "        num+= 1\n",
    "n = int(input(\"Input a number: \"))\n",
    "palindrome_gen = next_palindrome(n)\n",
    "next_palindrome_num = next(palindrome_gen)\n",
    "print(\"Next palindrome number after\", n, \"is:\", next_palindrome_num)"
   ]
  },
  {
   "cell_type": "code",
   "execution_count": 74,
   "id": "1b2a2948-7ba4-4207-8715-e27520d44ca9",
   "metadata": {
    "tags": []
   },
   "outputs": [
    {
     "name": "stdin",
     "output_type": "stream",
     "text": [
      "Input a number: 1729\n"
     ]
    },
    {
     "name": "stdout",
     "output_type": "stream",
     "text": [
      "Prime factors of 1729 are:\n",
      "7\n",
      "13\n",
      "19\n"
     ]
    }
   ],
   "source": [
    "# Q9. Write a Python program that creates a generator that generates all prime factors of a given number.\n",
    "'''Prime factorization of any given number is to breakdown the number into its factors\n",
    "until all of its factors are prime numbers. \n",
    "This can be achieved by dividing the given number from smallest prime number and \n",
    "continue it until all its factors are prime.'''\n",
    "\n",
    "def is_prime(n):\n",
    "    if n<2:\n",
    "        return False\n",
    "    for i in range(2,int(n**0.5)+1):\n",
    "        if n%i==0:\n",
    "            return False\n",
    "    return True\n",
    "def prime_factors(n):\n",
    "    if n<2:\n",
    "        return \n",
    "    for i in range(2,n+1):\n",
    "        if n%i==0 and is_prime(i):\n",
    "            yield i\n",
    "n=int(input('Input a number:'))\n",
    "factors_gen = prime_factors(n)\n",
    "print(\"Prime factors of\", n, \"are:\")\n",
    "for factor in factors_gen:\n",
    "    print(factor)"
   ]
  },
  {
   "cell_type": "code",
   "execution_count": 82,
   "id": "94abb817-c75b-4eb3-96e0-e323c9599b4f",
   "metadata": {
    "tags": []
   },
   "outputs": [
    {
     "name": "stdin",
     "output_type": "stream",
     "text": [
      "Input the starting number:  100\n",
      "Input the ending number:  200\n"
     ]
    },
    {
     "name": "stdout",
     "output_type": "stream",
     "text": [
      "Prime numbers between 100 and 200 are:\n",
      "101,103,107,109,113,127,131,137,139,149,151,157,163,167,173,179,181,191,193,197,199,"
     ]
    }
   ],
   "source": [
    "def is_prime(x):\n",
    "    if x<=2:\n",
    "        return False\n",
    "    for i in range(2,int(x**0.5)+1):\n",
    "        if x%i==0:\n",
    "            return False\n",
    "    return True\n",
    "def prime_num(start,end):\n",
    "    for num in range(start, end + 1):\n",
    "        if is_prime(num):\n",
    "            yield num\n",
    "start = int(input(\"Input the starting number: \"))\n",
    "end = int(input(\"Input the ending number: \"))\n",
    "nums=prime_num(start,end)\n",
    "print(\"Prime numbers between\", start, \"and\", end, \"are:\")\n",
    "for prime in nums:\n",
    "    print(prime, end=\",\")"
   ]
  },
  {
   "cell_type": "code",
   "execution_count": 83,
   "id": "c3c38779-77e6-4b62-a624-eedf3561591f",
   "metadata": {
    "tags": []
   },
   "outputs": [
    {
     "name": "stdin",
     "output_type": "stream",
     "text": [
      "Input a string:  abc\n"
     ]
    },
    {
     "name": "stdout",
     "output_type": "stream",
     "text": [
      "All permutations of abc:\n",
      "abc, acb, bac, bca, cab, cba, "
     ]
    }
   ],
   "source": [
    "def string_permutations(string):\n",
    "    if len(string) <= 1:\n",
    "        yield string\n",
    "    else:\n",
    "        for i in range(len(string)):\n",
    "            current_char = string[i]\n",
    "            remaining_chars = string[:i] + string[i+1:]\n",
    "            for permutation in string_permutations(remaining_chars):\n",
    "                yield current_char + permutation\n",
    "input_string = input(\"Input a string: \")\n",
    "permutations_gen = string_permutations(input_string)\n",
    "print(\"All permutations of\", input_string + \":\")\n",
    "for permutation in permutations_gen:\n",
    "    print(permutation, end = \", \")"
   ]
  },
  {
   "cell_type": "code",
   "execution_count": 85,
   "id": "e60c045d-2cfc-4fb4-9278-c51e891413a7",
   "metadata": {
    "tags": []
   },
   "outputs": [
    {
     "name": "stdin",
     "output_type": "stream",
     "text": [
      "Input a number(positive):  33\n"
     ]
    },
    {
     "name": "stdout",
     "output_type": "stream",
     "text": [
      "Next happy number after 33 is:\n",
      "44\n"
     ]
    }
   ],
   "source": [
    "def is_happy_number(num):\n",
    "    visited = set()\n",
    "    while True:\n",
    "        if num == 1:\n",
    "            return True\n",
    "        elif num in visited:\n",
    "            return False\n",
    "        visited.add(num)\n",
    "        num = sum(int(digit) ** 2 for digit in str(num))\n",
    "def next_happy_number(start):\n",
    "    num = start + 1\n",
    "    while True:\n",
    "        if is_happy_number(num):\n",
    "            yield num\n",
    "        num += 1\n",
    "start_num = int(input(\"Input a number(positive): \"))\n",
    "happy_num_gen = next_happy_number(start_num)\n",
    "print(\"Next happy number after\", start_num, \"is:\")\n",
    "print(next(happy_num_gen))"
   ]
  },
  {
   "cell_type": "code",
   "execution_count": 93,
   "id": "0bdea7db-c0d1-4873-9b4e-b0084c6f48eb",
   "metadata": {
    "tags": []
   },
   "outputs": [
    {
     "name": "stdin",
     "output_type": "stream",
     "text": [
      "Input a number 4\n"
     ]
    },
    {
     "name": "stdout",
     "output_type": "stream",
     "text": [
      "Square roots and cube roots of numbers from 1 to 4\n",
      "Number: 1\n",
      "Square root: 1.0\n",
      "Cube root: 1.0\n",
      "\n",
      "Number: 2\n",
      "Square root: 1.4142135623730951\n",
      "Cube root: 1.2599210498948732\n",
      "\n",
      "Number: 3\n",
      "Square root: 1.7320508075688772\n",
      "Cube root: 1.4422495703074083\n",
      "\n",
      "Number: 4\n",
      "Square root: 2.0\n",
      "Cube root: 1.5874010519681994\n",
      "\n"
     ]
    }
   ],
   "source": [
    "import math\n",
    "def roots_generator(n):\n",
    "    for i in range(1,n+1):\n",
    "        yield math.sqrt(i), i**(1/3)\n",
    "n=int(input('Input a number'))\n",
    "roots_gen=roots_generator(n)\n",
    "print(\"Square roots and cube roots of numbers from 1 to\", n)\n",
    "for i, (square_root, cube_root) in enumerate(roots_gen, start=1):\n",
    "    print(\"Number:\", i)\n",
    "    print(\"Square root:\", square_root)\n",
    "    print(\"Cube root:\", cube_root)\n",
    "    print()"
   ]
  },
  {
   "cell_type": "code",
   "execution_count": 97,
   "id": "ad646924-7b82-419b-8f13-6793559c680a",
   "metadata": {
    "tags": []
   },
   "outputs": [
    {
     "name": "stdin",
     "output_type": "stream",
     "text": [
      "Input a number:  371\n"
     ]
    },
    {
     "name": "stdout",
     "output_type": "stream",
     "text": [
      "Next Armstrong number:\n",
      "407\n"
     ]
    }
   ],
   "source": [
    "##Q14.Write a Python program to implement a generator that generates the next Armstrong number after a given number.\n",
    "'''When the sum of the cube of the individual digits of a number is equal to that number,\n",
    "the number is called Armstrong number. For Example 153 is an Armstrong number because 153 = 13+53+33.\n",
    "'''\n",
    "\n",
    "def is_armstron_number(n):\n",
    "    x=str(n)\n",
    "    x_len=len(x)\n",
    "    s=sum(int(digit)**x_len for digit in x)\n",
    "    return n==s\n",
    "def next_armstrong_number(start):\n",
    "    while True:\n",
    "        start+=1\n",
    "        if is_armstron_number(start):\n",
    "            yield start\n",
    "n = int(input(\"Input a number: \"))\n",
    "armstrong_gen = next_armstrong_number(n)\n",
    "print(\"Next Armstrong number:\")\n",
    "for _ in range(1):\n",
    "    print(next(armstrong_gen))"
   ]
  },
  {
   "cell_type": "code",
   "execution_count": 106,
   "id": "7834bcf1-3f6c-4d5f-9d29-be74cb684d9f",
   "metadata": {
    "tags": []
   },
   "outputs": [
    {
     "name": "stdin",
     "output_type": "stream",
     "text": [
      " 56\n"
     ]
    },
    {
     "name": "stdout",
     "output_type": "stream",
     "text": [
      "Factors of 56\n",
      "1, 2, 4, 7, 8, 14, 28, 56, "
     ]
    }
   ],
   "source": [
    "def create_factors(n):\n",
    "    for i in range(1,n+1):\n",
    "        if n%i==0:\n",
    "            yield i\n",
    "n=int(input())\n",
    "factors_gen=create_factors(n)\n",
    "print('Factors of',n)\n",
    "for factor in factors_gen:\n",
    "    print(factor,end=', ')"
   ]
  },
  {
   "cell_type": "code",
   "execution_count": 110,
   "id": "6c5f6bfa-1eb3-4b38-aac3-1f007894eff6",
   "metadata": {
    "tags": []
   },
   "outputs": [
    {
     "name": "stdout",
     "output_type": "stream",
     "text": [
      "Input a sequence of numbers (Press Enter & 'e' to quit):\n"
     ]
    },
    {
     "name": "stdin",
     "output_type": "stream",
     "text": [
      ">  5\n"
     ]
    },
    {
     "name": "stdout",
     "output_type": "stream",
     "text": [
      "Running Average: 5.0\n"
     ]
    },
    {
     "name": "stdin",
     "output_type": "stream",
     "text": [
      ">  6\n"
     ]
    },
    {
     "name": "stdout",
     "output_type": "stream",
     "text": [
      "Running Average: 5.5\n"
     ]
    },
    {
     "name": "stdin",
     "output_type": "stream",
     "text": [
      ">  7\n"
     ]
    },
    {
     "name": "stdout",
     "output_type": "stream",
     "text": [
      "Running Average: 6.0\n"
     ]
    },
    {
     "name": "stdin",
     "output_type": "stream",
     "text": [
      ">  e\n"
     ]
    }
   ],
   "source": [
    "def running_average_generator():\n",
    "    t=0\n",
    "    c=0\n",
    "    while True:\n",
    "        v=yield t/c if c>0 else 0\n",
    "        t+=v\n",
    "        c+=1\n",
    "running_avg_gen = running_average_generator()\n",
    "next(running_avg_gen)\n",
    "print(\"Input a sequence of numbers (Press Enter & 'e' to quit):\")\n",
    "while True:\n",
    "    num = input(\"> \")\n",
    "    if num.lower() == 'e':\n",
    "        break\n",
    "    value = float(num)\n",
    "    average = running_avg_gen.send(value)\n",
    "    print(\"Running Average:\", average)"
   ]
  },
  {
   "cell_type": "code",
   "execution_count": 111,
   "id": "69dada3f-a9a0-4842-b802-e0c8ec279f72",
   "metadata": {
    "tags": []
   },
   "outputs": [
    {
     "name": "stdin",
     "output_type": "stream",
     "text": [
      "Input the base number:  2\n",
      "Input the exponent:  3\n"
     ]
    },
    {
     "name": "stdout",
     "output_type": "stream",
     "text": [
      "Powers of 2 up to exponent 3:\n",
      "1\n",
      "2\n",
      "4\n",
      "8\n"
     ]
    }
   ],
   "source": [
    "def power_generator(base, exponent):\n",
    "    result = 1\n",
    "    for i in range(exponent + 1):\n",
    "        yield result\n",
    "        result *= base\n",
    "base = int(input(\"Input the base number: \"))\n",
    "exponent = int(input(\"Input the exponent: \"))\n",
    "power_gen = power_generator(base, exponent)\n",
    "print(f\"Powers of {base} up to exponent {exponent}:\")\n",
    "for power in power_gen:\n",
    "    print(power)"
   ]
  },
  {
   "cell_type": "code",
   "execution_count": null,
   "id": "3ea072fd-313e-4239-8593-7b67d700cb14",
   "metadata": {},
   "outputs": [],
   "source": []
  }
 ],
 "metadata": {
  "kernelspec": {
   "display_name": "Python 3 (ipykernel)",
   "language": "python",
   "name": "python3"
  },
  "language_info": {
   "codemirror_mode": {
    "name": "ipython",
    "version": 3
   },
   "file_extension": ".py",
   "mimetype": "text/x-python",
   "name": "python",
   "nbconvert_exporter": "python",
   "pygments_lexer": "ipython3",
   "version": "3.11.3"
  }
 },
 "nbformat": 4,
 "nbformat_minor": 5
}
