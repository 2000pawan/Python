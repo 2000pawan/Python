{
 "cells": [
  {
   "cell_type": "code",
   "execution_count": 33,
   "id": "fc9fb87e-a728-4a25-9c24-b441a7712fab",
   "metadata": {
    "tags": []
   },
   "outputs": [
    {
     "name": "stdout",
     "output_type": "stream",
     "text": [
      "Twinkle, twinkle, little star,\n",
      "\tHow I wonder what you are! \n",
      "\t\tUp above the word so high, \n",
      "\t\tLike a diamond in the sky. \n",
      "Twinkle, twinkle, little star, \n",
      "\tHow I wonder what you are\n"
     ]
    }
   ],
   "source": [
    "a='Twinkle, twinkle, little star,\\n\\tHow I wonder what you are! \\n\\t\\tUp above the word so high, \\n\\t\\tLike a diamond in the sky. \\nTwinkle, twinkle, little star, \\n\\tHow I wonder what you are'\n",
    "print(a)"
   ]
  },
  {
   "cell_type": "code",
   "execution_count": 34,
   "id": "a24cf1fc-d495-4357-ac64-bbd7efa9d9cb",
   "metadata": {
    "tags": []
   },
   "outputs": [
    {
     "name": "stdout",
     "output_type": "stream",
     "text": [
      "Python Version\n",
      "3.11.3 | packaged by Anaconda, Inc. | (main, Apr 19 2023, 23:46:34) [MSC v.1916 64 bit (AMD64)]\n",
      "Version info\n",
      "sys.version_info(major=3, minor=11, micro=3, releaselevel='final', serial=0)\n"
     ]
    }
   ],
   "source": [
    "import sys\n",
    "print(\"Python Version\")\n",
    "print(sys.version)\n",
    "print(\"Version info\")\n",
    "print(sys.version_info)"
   ]
  },
  {
   "cell_type": "code",
   "execution_count": 35,
   "id": "bd3dfd4b-e148-49b6-a96f-df732a3e288f",
   "metadata": {
    "tags": []
   },
   "outputs": [
    {
     "name": "stdout",
     "output_type": "stream",
     "text": [
      "Current date and time\n",
      "2023-11-19 16:43:35\n"
     ]
    }
   ],
   "source": [
    "import datetime\n",
    "now=datetime.datetime.now()\n",
    "print(\"Current date and time\")\n",
    "print(now.strftime(\"%Y-%m-%d %H:%M:%S\"))"
   ]
  },
  {
   "cell_type": "code",
   "execution_count": 38,
   "id": "4fdb34f4-31f9-447c-8c64-469843ebaf9b",
   "metadata": {
    "tags": []
   },
   "outputs": [
    {
     "name": "stdin",
     "output_type": "stream",
     "text": [
      "Enter the Radius of circle:  5\n"
     ]
    },
    {
     "name": "stdout",
     "output_type": "stream",
     "text": [
      "Area of Circle is:  78.5\n"
     ]
    }
   ],
   "source": [
    "r=eval(input(\"Enter the Radius of circle: \"))\n",
    "Pi=3.14\n",
    "Area=Pi*r**2\n",
    "print('Area of Circle is: ',Area)"
   ]
  },
  {
   "cell_type": "code",
   "execution_count": 39,
   "id": "50010c2e-fd77-4563-b332-09dd04a5adcc",
   "metadata": {
    "tags": []
   },
   "outputs": [
    {
     "name": "stdin",
     "output_type": "stream",
     "text": [
      "Enter the Radius of circle:  5\n"
     ]
    },
    {
     "name": "stdout",
     "output_type": "stream",
     "text": [
      "Area of Circle is:  78.5\n",
      "3.141592653589793\n"
     ]
    }
   ],
   "source": [
    "from math import pi\n",
    "r=eval(input(\"Enter the Radius of circle: \"))\n",
    "Area=Pi*r**2\n",
    "print('Area of Circle is: ',Area)\n",
    "print(pi)"
   ]
  },
  {
   "cell_type": "code",
   "execution_count": 42,
   "id": "02693c75-0ac0-49f9-85fa-e32387237595",
   "metadata": {
    "tags": []
   },
   "outputs": [
    {
     "name": "stdin",
     "output_type": "stream",
     "text": [
      "Enter Your First Name:  pawan\n",
      "Enter Your last Name:  yadav\n"
     ]
    },
    {
     "name": "stdout",
     "output_type": "stream",
     "text": [
      "Hello  yadav  pawan\n"
     ]
    }
   ],
   "source": [
    "fname=(input(\"Enter Your First Name: \"))\n",
    "lname=(input(\"Enter Your last Name: \"))\n",
    "print(\"Hello \",lname,\"\",fname)"
   ]
  },
  {
   "cell_type": "code",
   "execution_count": 59,
   "id": "1871c72c-7601-40a6-930d-1d564abfba83",
   "metadata": {
    "tags": []
   },
   "outputs": [
    {
     "name": "stdin",
     "output_type": "stream",
     "text": [
      "Enter numbers: 2,4,5,6,3,9,7,1,8\n"
     ]
    },
    {
     "name": "stdout",
     "output_type": "stream",
     "text": [
      "List: ['2', '4', '5', '6', '3', '9', '7', '1', '8']\n",
      "Tuple: ('2', '4', '5', '6', '3', '9', '7', '1', '8')\n"
     ]
    }
   ],
   "source": [
    "a=(input('Enter numbers:'))\n",
    "b=a.split(',')\n",
    "c=tuple(b)\n",
    "print('List:',b)\n",
    "print('Tuple:',c)"
   ]
  },
  {
   "cell_type": "code",
   "execution_count": 75,
   "id": "d4def576-e161-4660-924d-b93550bd195c",
   "metadata": {
    "tags": []
   },
   "outputs": [
    {
     "name": "stdin",
     "output_type": "stream",
     "text": [
      "Enter File name with extension: abc.java\n"
     ]
    },
    {
     "data": {
      "text/plain": [
       "'java'"
      ]
     },
     "execution_count": 75,
     "metadata": {},
     "output_type": "execute_result"
    }
   ],
   "source": [
    "a=(input('Enter File name with extension:'))\n",
    "b=a.split('.')\n",
    "d=b[-1]\n",
    "d"
   ]
  },
  {
   "cell_type": "code",
   "execution_count": 82,
   "id": "ae575caf-629e-4a56-b254-598bc4d6c5c7",
   "metadata": {
    "tags": []
   },
   "outputs": [
    {
     "name": "stdout",
     "output_type": "stream",
     "text": [
      "['Red', 'Black']\n",
      "Red Black\n"
     ]
    }
   ],
   "source": [
    "color_list=['Red','Green','White','Black']\n",
    "print(color_list[::3])\n",
    "print(\"%s %s\" % (color_list[0], color_list[-1]))"
   ]
  },
  {
   "cell_type": "code",
   "execution_count": 89,
   "id": "5e8fa82c-70d3-4a33-a275-c5bb89e9da23",
   "metadata": {
    "tags": []
   },
   "outputs": [
    {
     "name": "stdout",
     "output_type": "stream",
     "text": [
      "The examination will start from: 11 / 12 / 2014\n"
     ]
    }
   ],
   "source": [
    "a=(11,12,2014)\n",
    "print('The examination will start from: %i / %i / %i'%a)"
   ]
  },
  {
   "cell_type": "code",
   "execution_count": 8,
   "id": "264699d4-db21-4559-9b99-1e63ff2e8c16",
   "metadata": {},
   "outputs": [
    {
     "name": "stdin",
     "output_type": "stream",
     "text": [
      "Enter an Integer: 5\n"
     ]
    },
    {
     "name": "stdout",
     "output_type": "stream",
     "text": [
      "The value of n+nn+nnn is: 615\n"
     ]
    }
   ],
   "source": [
    "n=(input('Enter an Integer:'))\n",
    "b=(n)\n",
    "c=n+n\n",
    "d=n+n+n\n",
    "print('The value of n+nn+nnn is:',int(b)+int(c)+int(d))"
   ]
  },
  {
   "cell_type": "code",
   "execution_count": 11,
   "id": "ff8003be-03ab-4c01-8765-579b5e2ec303",
   "metadata": {
    "tags": []
   },
   "outputs": [
    {
     "name": "stdout",
     "output_type": "stream",
     "text": [
      "Return the absolute value of the argument.\n"
     ]
    }
   ],
   "source": [
    "print(abs.__doc__)"
   ]
  },
  {
   "cell_type": "code",
   "execution_count": 19,
   "id": "5e0cb76b-3537-4e28-b598-2f2d04830cfa",
   "metadata": {
    "tags": []
   },
   "outputs": [
    {
     "name": "stdout",
     "output_type": "stream",
     "text": [
      "Current Dtae & Time:\n",
      "2023-11-20 13:33:52\n",
      "Calander of Year 2023:\n",
      "                                  2023\n",
      "\n",
      "      January                   February                   March\n",
      "Mo Tu We Th Fr Sa Su      Mo Tu We Th Fr Sa Su      Mo Tu We Th Fr Sa Su\n",
      "                   1             1  2  3  4  5             1  2  3  4  5\n",
      " 2  3  4  5  6  7  8       6  7  8  9 10 11 12       6  7  8  9 10 11 12\n",
      " 9 10 11 12 13 14 15      13 14 15 16 17 18 19      13 14 15 16 17 18 19\n",
      "16 17 18 19 20 21 22      20 21 22 23 24 25 26      20 21 22 23 24 25 26\n",
      "23 24 25 26 27 28 29      27 28                     27 28 29 30 31\n",
      "30 31\n",
      "\n",
      "       April                      May                       June\n",
      "Mo Tu We Th Fr Sa Su      Mo Tu We Th Fr Sa Su      Mo Tu We Th Fr Sa Su\n",
      "                1  2       1  2  3  4  5  6  7                1  2  3  4\n",
      " 3  4  5  6  7  8  9       8  9 10 11 12 13 14       5  6  7  8  9 10 11\n",
      "10 11 12 13 14 15 16      15 16 17 18 19 20 21      12 13 14 15 16 17 18\n",
      "17 18 19 20 21 22 23      22 23 24 25 26 27 28      19 20 21 22 23 24 25\n",
      "24 25 26 27 28 29 30      29 30 31                  26 27 28 29 30\n",
      "\n",
      "        July                     August                  September\n",
      "Mo Tu We Th Fr Sa Su      Mo Tu We Th Fr Sa Su      Mo Tu We Th Fr Sa Su\n",
      "                1  2          1  2  3  4  5  6                   1  2  3\n",
      " 3  4  5  6  7  8  9       7  8  9 10 11 12 13       4  5  6  7  8  9 10\n",
      "10 11 12 13 14 15 16      14 15 16 17 18 19 20      11 12 13 14 15 16 17\n",
      "17 18 19 20 21 22 23      21 22 23 24 25 26 27      18 19 20 21 22 23 24\n",
      "24 25 26 27 28 29 30      28 29 30 31               25 26 27 28 29 30\n",
      "31\n",
      "\n",
      "      October                   November                  December\n",
      "Mo Tu We Th Fr Sa Su      Mo Tu We Th Fr Sa Su      Mo Tu We Th Fr Sa Su\n",
      "                   1             1  2  3  4  5                   1  2  3\n",
      " 2  3  4  5  6  7  8       6  7  8  9 10 11 12       4  5  6  7  8  9 10\n",
      " 9 10 11 12 13 14 15      13 14 15 16 17 18 19      11 12 13 14 15 16 17\n",
      "16 17 18 19 20 21 22      20 21 22 23 24 25 26      18 19 20 21 22 23 24\n",
      "23 24 25 26 27 28 29      27 28 29 30               25 26 27 28 29 30 31\n",
      "30 31\n"
     ]
    }
   ],
   "source": [
    "import calendar\n",
    "import datetime\n",
    "now=datetime.datetime.now()\n",
    "print('Current Dtae & Time:')\n",
    "print(now.strftime(\"%Y-%m-%d %H:%M:%S\"))\n",
    "print('Calander of Year 2023:')\n",
    "year=calendar.prcal(2023)"
   ]
  },
  {
   "cell_type": "code",
   "execution_count": 22,
   "id": "1db16dff-602c-4e0f-a88d-8527ae6a2f21",
   "metadata": {
    "tags": []
   },
   "outputs": [
    {
     "name": "stdin",
     "output_type": "stream",
     "text": [
      "Enter the Year: 2024\n",
      "Enter the Month: 8\n"
     ]
    },
    {
     "name": "stdout",
     "output_type": "stream",
     "text": [
      "    August 2024\n",
      "Mo Tu We Th Fr Sa Su\n",
      "          1  2  3  4\n",
      " 5  6  7  8  9 10 11\n",
      "12 13 14 15 16 17 18\n",
      "19 20 21 22 23 24 25\n",
      "26 27 28 29 30 31\n",
      "\n"
     ]
    }
   ],
   "source": [
    "import calendar\n",
    "a=int(input(\"Enter the Year:\"))\n",
    "b=int(input('Enter the Month:'))\n",
    "print(calendar.month(a,b))"
   ]
  },
  {
   "cell_type": "code",
   "execution_count": 29,
   "id": "1d5bebdf-8c7b-49ea-8746-a53d5fc7df27",
   "metadata": {
    "tags": []
   },
   "outputs": [
    {
     "name": "stdout",
     "output_type": "stream",
     "text": [
      "a string that you \"don't\" have to escape \n",
      "This \n",
      "is a  ....... multi-line \n",
      "heredoc string --------> example\n"
     ]
    }
   ],
   "source": [
    "a='''a string that you \"don't\" have to escape \n",
    "This \n",
    "is a  ....... multi-line \n",
    "heredoc string --------> example'''\n",
    "print(a)"
   ]
  },
  {
   "cell_type": "code",
   "execution_count": 31,
   "id": "46f19f3d-5a4d-45d0-ad19-daaa5741d0aa",
   "metadata": {
    "tags": []
   },
   "outputs": [
    {
     "name": "stdout",
     "output_type": "stream",
     "text": [
      "9\n"
     ]
    }
   ],
   "source": [
    "from datetime import date\n",
    "date1=date(2023, 11, 20)\n",
    "date2=date(2023, 11, 29)\n",
    "delta=date2-date1\n",
    "print(delta.days)"
   ]
  },
  {
   "cell_type": "code",
   "execution_count": 36,
   "id": "f89f0dd5-c6d2-49e8-b66d-5519db5e2228",
   "metadata": {
    "tags": []
   },
   "outputs": [
    {
     "name": "stdin",
     "output_type": "stream",
     "text": [
      "Enter a radius of sphere: 6\n"
     ]
    },
    {
     "name": "stdout",
     "output_type": "stream",
     "text": [
      "Volume of Sphere is: 904.7786842338604\n"
     ]
    }
   ],
   "source": [
    "from math import pi\n",
    "r=int(input('Enter a radius of sphere:'))\n",
    "print('Volume of Sphere is:',((4*pi*r**3)/3))"
   ]
  },
  {
   "cell_type": "code",
   "execution_count": 50,
   "id": "1d6ff60f-42fd-486e-b2b5-e6a56fa9e740",
   "metadata": {
    "tags": []
   },
   "outputs": [
    {
     "name": "stdin",
     "output_type": "stream",
     "text": [
      "Enter a number: 22\n"
     ]
    },
    {
     "name": "stdout",
     "output_type": "stream",
     "text": [
      "10\n"
     ]
    }
   ],
   "source": [
    "a=int(input('Enter a number:'))\n",
    "b=17\n",
    "c=a-b\n",
    "if a>17:\n",
    "    print(2*c)\n",
    "else:\n",
    "    print(abs(c))"
   ]
  },
  {
   "cell_type": "code",
   "execution_count": 41,
   "id": "b7137fae-0c4d-42db-856d-ca92d18766d9",
   "metadata": {
    "tags": []
   },
   "outputs": [
    {
     "name": "stdout",
     "output_type": "stream",
     "text": [
      "10\n",
      "3\n"
     ]
    }
   ],
   "source": [
    "def diff(n):\n",
    "    if n<=17:\n",
    "        return 17-n\n",
    "    else:\n",
    "        return (n-17)*2\n",
    "print(diff(22))\n",
    "print(diff(14))"
   ]
  },
  {
   "cell_type": "code",
   "execution_count": 65,
   "id": "ada25486-814a-4f62-9b5e-4d63266bbe9e",
   "metadata": {
    "tags": []
   },
   "outputs": [
    {
     "name": "stdin",
     "output_type": "stream",
     "text": [
      "Enter a Value: 1100\n"
     ]
    },
    {
     "name": "stdout",
     "output_type": "stream",
     "text": [
      "True\n"
     ]
    }
   ],
   "source": [
    "a=int(input('Enter a Value:'))\n",
    "if abs(1000-a)<=100 or abs(2000-a)<=100:\n",
    "    print(True)\n",
    "else:\n",
    "    print(False)"
   ]
  },
  {
   "cell_type": "code",
   "execution_count": 67,
   "id": "f1d578e1-74b2-42ed-b2b1-ad5b24d307bd",
   "metadata": {
    "tags": []
   },
   "outputs": [
    {
     "name": "stdin",
     "output_type": "stream",
     "text": [
      "Enter 1st number: 3\n",
      "Enter 2nd number: 3\n",
      "Enter 3rd number: 3\n"
     ]
    },
    {
     "name": "stdout",
     "output_type": "stream",
     "text": [
      "27\n"
     ]
    }
   ],
   "source": [
    "a=int(input('Enter 1st number:'))\n",
    "b=int(input('Enter 2nd number:'))\n",
    "c=int(input('Enter 3rd number:'))\n",
    "d=a+b+c\n",
    "if a==b==c:\n",
    "    print((a+b+c)*3)\n",
    "else:\n",
    "    print(d)\n"
   ]
  },
  {
   "cell_type": "code",
   "execution_count": 76,
   "id": "06a2d97f-b4aa-42f1-a6b1-5d942dbfe42c",
   "metadata": {
    "tags": []
   },
   "outputs": [
    {
     "name": "stdin",
     "output_type": "stream",
     "text": [
      "Enter a string: IsEmpty\n"
     ]
    },
    {
     "name": "stdout",
     "output_type": "stream",
     "text": [
      "IsEmpty\n"
     ]
    }
   ],
   "source": [
    "def st(a):\n",
    "    if len(a)>=2 and a[:2]== \"Is\":\n",
    "        return a\n",
    "    else:\n",
    "        return \"Is\" + a\n",
    "print(st(input('Enter a string:')))"
   ]
  },
  {
   "cell_type": "code",
   "execution_count": 6,
   "id": "f2fde639-b8f7-4cb2-873d-56d5b0e6fb30",
   "metadata": {
    "tags": []
   },
   "outputs": [
    {
     "name": "stdin",
     "output_type": "stream",
     "text": [
      "Enter a String: abc\n",
      "Enter how many time you print that string: 0\n"
     ]
    },
    {
     "name": "stdout",
     "output_type": "stream",
     "text": [
      "Please Enter Number greater than 0 and non-negative \n",
      "Thank You\n"
     ]
    },
    {
     "name": "stdin",
     "output_type": "stream",
     "text": [
      "Enter how many time you print that string: -1\n"
     ]
    },
    {
     "name": "stdout",
     "output_type": "stream",
     "text": [
      "Please Enter Number greater than 0 and non-negative \n",
      "Thank You\n"
     ]
    },
    {
     "name": "stdin",
     "output_type": "stream",
     "text": [
      "Enter how many time you print that string: 3\n"
     ]
    },
    {
     "name": "stdout",
     "output_type": "stream",
     "text": [
      "abcabcabc\n"
     ]
    }
   ],
   "source": [
    "a=input('Enter a String:')\n",
    "n=int(input('Enter how many time you print that string:'))\n",
    "while n<=0:\n",
    "    print('Please Enter Number greater than 0 and non-negative \\nThank You')\n",
    "    n=int(input('Enter how many time you print that string:'))\n",
    "else:\n",
    "    print(n*a)"
   ]
  },
  {
   "cell_type": "code",
   "execution_count": 14,
   "id": "8a7faee7-6106-409d-a65f-8a5f13fc6d0f",
   "metadata": {
    "tags": []
   },
   "outputs": [
    {
     "name": "stdin",
     "output_type": "stream",
     "text": [
      "Enter a number: 87\n"
     ]
    },
    {
     "name": "stdout",
     "output_type": "stream",
     "text": [
      "Given number is Odd....\n"
     ]
    }
   ],
   "source": [
    "a=(int(input('Enter a number:')))\n",
    "if a%2==0:\n",
    "    print('Given Number is Even....')\n",
    "else:\n",
    "    print('Given number is Odd....')"
   ]
  },
  {
   "cell_type": "code",
   "execution_count": 38,
   "id": "1b5cc70e-de0d-4a3e-ab57-1c61a1bca6dd",
   "metadata": {
    "tags": []
   },
   "outputs": [
    {
     "name": "stdout",
     "output_type": "stream",
     "text": [
      "2\n",
      "1\n",
      "0\n"
     ]
    }
   ],
   "source": [
    "def list_count_4(nums):\n",
    "    count=0\n",
    "    for num in nums:\n",
    "        if num==4:\n",
    "            count+=1\n",
    "    return count\n",
    "print(list_count_4([1,2,3,4,5,7,4]))\n",
    "print(list_count_4([1,2,3,4,5,7]))\n",
    "print(list_count_4([1,2,3,5,7]))"
   ]
  },
  {
   "cell_type": "code",
   "execution_count": 48,
   "id": "b79ccb2e-21ef-4076-97a2-5a7b614de32e",
   "metadata": {
    "tags": []
   },
   "outputs": [
    {
     "name": "stdin",
     "output_type": "stream",
     "text": [
      "Enter a string: abcd\n",
      "Enter number of time string print: 3\n"
     ]
    },
    {
     "name": "stdout",
     "output_type": "stream",
     "text": [
      "ababab\n"
     ]
    }
   ],
   "source": [
    "a=input('Enter a string:')\n",
    "n=int(input('Enter number of time string print:'))\n",
    "if len(a)>=2:\n",
    "    print((a[:2])*n)\n",
    "\n",
    "else:\n",
    "    print((a*n))\n"
   ]
  },
  {
   "cell_type": "code",
   "execution_count": 58,
   "id": "c4b765bb-e799-49af-9c72-dee4dc6a4304",
   "metadata": {
    "tags": []
   },
   "outputs": [
    {
     "name": "stdin",
     "output_type": "stream",
     "text": [
      "Enter a letters: o\n"
     ]
    },
    {
     "name": "stdout",
     "output_type": "stream",
     "text": [
      "Given letters is Vowel...\n"
     ]
    }
   ],
   "source": [
    "a=(input('Enter a letters:'))\n",
    "b=('a','e','i','o','u')\n",
    "if a in b:\n",
    "    print('Given letters is Vowel...')\n",
    "else:\n",
    "    print('Given letters is constant...')"
   ]
  },
  {
   "cell_type": "code",
   "execution_count": null,
   "id": "f921da82-0d7a-4b3d-9be2-506c590451ff",
   "metadata": {},
   "outputs": [],
   "source": []
  }
 ],
 "metadata": {
  "kernelspec": {
   "display_name": "Python 3 (ipykernel)",
   "language": "python",
   "name": "python3"
  },
  "language_info": {
   "codemirror_mode": {
    "name": "ipython",
    "version": 3
   },
   "file_extension": ".py",
   "mimetype": "text/x-python",
   "name": "python",
   "nbconvert_exporter": "python",
   "pygments_lexer": "ipython3",
   "version": "3.11.3"
  }
 },
 "nbformat": 4,
 "nbformat_minor": 5
}
