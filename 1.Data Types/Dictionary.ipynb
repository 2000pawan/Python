{
 "cells": [
  {
   "cell_type": "code",
   "execution_count": 2,
   "id": "bff5af66-89d5-43fd-9790-9ee744943604",
   "metadata": {},
   "outputs": [
    {
     "name": "stdout",
     "output_type": "stream",
     "text": [
      "[(0, 0), (2, 1), (1, 2), (4, 3), (3, 4)]\n",
      "[(3, 4), (4, 3), (1, 2), (2, 1), (0, 0)]\n"
     ]
    }
   ],
   "source": [
    "import operator\n",
    "d={1:2,3:4,4:3,2:1,0:0}\n",
    "s=sorted(d.items(),key=operator.itemgetter(1))\n",
    "print(s)\n",
    "s=sorted(d.items(),key=operator.itemgetter(1),reverse=True)\n",
    "print(s)"
   ]
  },
  {
   "cell_type": "code",
   "execution_count": 3,
   "id": "1459d2a1-84ad-48a2-853e-94f1ccccac34",
   "metadata": {
    "tags": []
   },
   "outputs": [
    {
     "name": "stdout",
     "output_type": "stream",
     "text": [
      "{0: 10, 1: 20, 2: 30}\n"
     ]
    }
   ],
   "source": [
    "s={0:10,1:20}\n",
    "s.update({2:30})\n",
    "print(s)"
   ]
  },
  {
   "cell_type": "code",
   "execution_count": 9,
   "id": "0bc1454f-1aa4-4286-95af-42ec3f98af27",
   "metadata": {
    "tags": []
   },
   "outputs": [
    {
     "name": "stdout",
     "output_type": "stream",
     "text": [
      "{1: 10, 2: 20, 3: 30, 4: 40, 5: 50, 6: 60}\n",
      "...................................................\n",
      "{1: 10, 2: 20, 3: 30, 4: 40, 5: 50, 6: 60}\n"
     ]
    }
   ],
   "source": [
    "d1={1:10, 2:20}\n",
    "d2={3:30, 4:40}\n",
    "d3={5:50,6:60}\n",
    "d1.update(d2)\n",
    "d1.update(d3)\n",
    "print(d1)\n",
    "###########################################################\n",
    "print('...................................................')\n",
    "d4={}\n",
    "for i in (d1,d2,d3):\n",
    "    d4.update(i)\n",
    "print(d4)"
   ]
  },
  {
   "cell_type": "code",
   "execution_count": 24,
   "id": "b06fe1db-38d9-4bce-bd22-9d149d43ab84",
   "metadata": {
    "tags": []
   },
   "outputs": [
    {
     "name": "stdin",
     "output_type": "stream",
     "text": [
      " 5\n"
     ]
    },
    {
     "name": "stdout",
     "output_type": "stream",
     "text": [
      "Key is present in the dictionary\n",
      ".....................................................\n"
     ]
    },
    {
     "name": "stdin",
     "output_type": "stream",
     "text": [
      " 9\n"
     ]
    },
    {
     "name": "stdout",
     "output_type": "stream",
     "text": [
      "Key is not present in the dictionary\n",
      ".....................................................\n"
     ]
    }
   ],
   "source": [
    "d1={1: 10, 2: 20, 3: 30, 4: 40, 5: 50, 6: 60}\n",
    "def key_present(n):\n",
    "    if n in d1:\n",
    "        print('Key is present in the dictionary')\n",
    "    else:\n",
    "        print('Key is not present in the dictionary')\n",
    "for n in range(2):\n",
    "    n=int(input())\n",
    "    key_present(n)\n",
    "    print('.....................................................')"
   ]
  },
  {
   "cell_type": "code",
   "execution_count": 28,
   "id": "b10fd03a-c576-4541-9584-61a22ba3a14b",
   "metadata": {
    "tags": []
   },
   "outputs": [
    {
     "name": "stdout",
     "output_type": "stream",
     "text": [
      "a :-  10\n",
      "b :-  20\n",
      "c :-  30\n",
      "d :-  40\n",
      "e :-  50\n",
      "f :-  60\n"
     ]
    }
   ],
   "source": [
    "d1={'a': 10, 'b': 20, 'c': 30, 'd': 40, 'e': 50, 'f': 60}\n",
    "for i,j in d1.items():\n",
    "    print(i,':- ',j)"
   ]
  },
  {
   "cell_type": "code",
   "execution_count": 40,
   "id": "24a632be-4702-4229-b390-c7aacded55d6",
   "metadata": {
    "tags": []
   },
   "outputs": [
    {
     "name": "stdout",
     "output_type": "stream",
     "text": [
      "{1: 1, 2: 4, 3: 9, 4: 16, 5: 25}\n"
     ]
    }
   ],
   "source": [
    "d1=dict()\n",
    "for i in range(1,6):\n",
    "    d1[i]=(i*i)\n",
    "print(d1)"
   ]
  },
  {
   "cell_type": "code",
   "execution_count": 41,
   "id": "af8acd61-6a6c-4bc5-8f42-a0a2a28e630a",
   "metadata": {
    "tags": []
   },
   "outputs": [
    {
     "name": "stdout",
     "output_type": "stream",
     "text": [
      "{1: 1, 2: 4, 3: 9, 4: 16, 5: 25, 6: 36, 7: 49, 8: 64, 9: 81, 10: 100, 11: 121, 12: 144, 13: 169, 14: 196, 15: 225}\n"
     ]
    }
   ],
   "source": [
    "d1=dict()\n",
    "for i in range(1,16):\n",
    "    d1[i]=(i*i)\n",
    "print(d1)"
   ]
  },
  {
   "cell_type": "code",
   "execution_count": 46,
   "id": "45c1e784-9c68-4862-a08a-d0027b148091",
   "metadata": {
    "tags": []
   },
   "outputs": [
    {
     "name": "stdout",
     "output_type": "stream",
     "text": [
      "{1: 10, 2: 20, 3: 30, 4: 40}\n",
      "..................................................\n",
      "{1: 10, 2: 20, 3: 30, 4: 40}\n"
     ]
    }
   ],
   "source": [
    "d1={1:10, 2:20}\n",
    "d2={3:30, 4:40}\n",
    "d=d1.copy()\n",
    "d.update(d2)\n",
    "print(d)\n",
    "################################################\n",
    "print('..................................................')\n",
    "d1.update(d2)\n",
    "print(d1)"
   ]
  },
  {
   "cell_type": "code",
   "execution_count": 50,
   "id": "1af6c974-a362-4d12-8527-adfd691b47d1",
   "metadata": {
    "tags": []
   },
   "outputs": [
    {
     "name": "stdout",
     "output_type": "stream",
     "text": [
      "Red corresponds to  1\n",
      "Green corresponds to  2\n",
      "Blue corresponds to  3\n"
     ]
    }
   ],
   "source": [
    "d1={'Red': 1, 'Green': 2, 'Blue': 3}\n",
    "for i,j in d1.items():\n",
    "    print(i, 'corresponds to ',j)"
   ]
  },
  {
   "cell_type": "code",
   "execution_count": 53,
   "id": "1f07ed8c-8173-41da-a342-c354c88481fc",
   "metadata": {
    "tags": []
   },
   "outputs": [
    {
     "name": "stdout",
     "output_type": "stream",
     "text": [
      "100\n"
     ]
    }
   ],
   "source": [
    "d1={1: 10, 2: 20, 3: 30, 4: 40}\n",
    "r=sum(d1.values())\n",
    "print(r)"
   ]
  },
  {
   "cell_type": "code",
   "execution_count": 54,
   "id": "629e4487-ecb4-417a-a9f7-9694f2a46e0c",
   "metadata": {
    "tags": []
   },
   "outputs": [
    {
     "name": "stdout",
     "output_type": "stream",
     "text": [
      "240000\n"
     ]
    }
   ],
   "source": [
    "d1={1: 10, 2: 20, 3: 30, 4: 40}\n",
    "r=1\n",
    "for i in d1.values():\n",
    "    r=r*i\n",
    "print(r)"
   ]
  },
  {
   "cell_type": "code",
   "execution_count": 60,
   "id": "0ede7121-fa53-454b-83de-3adbe40f24e8",
   "metadata": {
    "tags": []
   },
   "outputs": [
    {
     "name": "stdout",
     "output_type": "stream",
     "text": [
      "{1: 10, 2: 20, 3: 30, 4: 40}\n",
      "{2: 20, 3: 30, 4: 40}\n",
      "..................................................\n",
      "{'a': 1, 'b': 2, 'c': 3, 'd': 4}\n",
      "{'b': 2, 'c': 3, 'd': 4}\n"
     ]
    }
   ],
   "source": [
    "d1={1: 10, 2: 20, 3: 30, 4: 40}\n",
    "print(d1)\n",
    "d1.pop(1)\n",
    "print(d1)\n",
    "################################################\n",
    "print('..................................................')\n",
    "d2={'a': 1, 'b': 2, 'c': 3, 'd': 4}\n",
    "print(d2)\n",
    "if 'a' in d2:\n",
    "    del d2['a']\n",
    "print(d2)"
   ]
  },
  {
   "cell_type": "code",
   "execution_count": 62,
   "id": "6f8301ab-2580-445a-a2f9-1f38ca49df56",
   "metadata": {
    "tags": []
   },
   "outputs": [
    {
     "name": "stdout",
     "output_type": "stream",
     "text": [
      "{'a': 1, 'b': 2, 'c': 3, 'd': 4, 'e': 5}\n"
     ]
    }
   ],
   "source": [
    "x=['a','b','c','d','e']\n",
    "y=[1,2,3,4,5]\n",
    "d=dict(zip(x,y))\n",
    "print(d)"
   ]
  },
  {
   "cell_type": "code",
   "execution_count": 64,
   "id": "230f63cd-5442-4a42-b536-d987a8213c99",
   "metadata": {
    "tags": []
   },
   "outputs": [
    {
     "name": "stdout",
     "output_type": "stream",
     "text": [
      "Blue:3\n",
      "Green:2\n",
      "Red:1\n"
     ]
    }
   ],
   "source": [
    "d1={'Red': 1, 'Green': 2, 'Blue': 3}\n",
    "for i in sorted(d1):\n",
    "    print(\"%s:%s\"%(i,d1[i]))"
   ]
  },
  {
   "cell_type": "code",
   "execution_count": 68,
   "id": "9980bad1-8876-4f63-9785-053f63c854f3",
   "metadata": {
    "tags": []
   },
   "outputs": [
    {
     "name": "stdout",
     "output_type": "stream",
     "text": [
      "225\n",
      "1\n",
      "..................................................\n",
      "5874\n",
      "500\n"
     ]
    }
   ],
   "source": [
    "d1={1: 1, 2: 4, 3: 9, 4: 16, 5: 25, 6: 36, 7: 49, 8: 64, 9: 81, 10: 100, 11: 121, 12: 144, 13: 169, 14: 196, 15: 225}\n",
    "print(max(d1.values()))\n",
    "print(min(d1.values()))\n",
    "################################################\n",
    "print('..................................................')\n",
    "my_dict = {'x': 500, 'y': 5874, 'z': 560}\n",
    "print(max(my_dict.values()))\n",
    "print(min(my_dict.values()))"
   ]
  },
  {
   "cell_type": "code",
   "execution_count": 69,
   "id": "63018ff3-e8c1-4d5d-b814-29cf49c276c3",
   "metadata": {
    "tags": []
   },
   "outputs": [
    {
     "name": "stdout",
     "output_type": "stream",
     "text": [
      "{'x': 'Red', 'y': 'Yellow', 'z': 'Green'}\n"
     ]
    }
   ],
   "source": [
    "class dictObj(object):\n",
    "    def __init__(self):\n",
    "        self.x='Red'\n",
    "        self.y='Yellow'\n",
    "        self.z='Green'\n",
    "    def do_nothing(self):\n",
    "        pass\n",
    "test=dictObj()\n",
    "print(test.__dict__)"
   ]
  },
  {
   "cell_type": "code",
   "execution_count": 73,
   "id": "9462d7ea-1469-4236-a48b-535127b48ffa",
   "metadata": {
    "tags": []
   },
   "outputs": [
    {
     "name": "stdout",
     "output_type": "stream",
     "text": [
      "{'id1': {'name': ['Sara'], 'class': ['V'], 'subject_integration': ['english, math, science']}, 'id2': {'name': ['David'], 'class': ['V'], 'subject_integration': ['english, math, science']}, 'id4': {'name': ['Surya'], 'class': ['V'], 'subject_integration': ['english, math, science']}}\n"
     ]
    }
   ],
   "source": [
    "d1={\n",
    "    'id1': {\n",
    "        'name': ['Sara'],\n",
    "        'class': ['V'],\n",
    "        'subject_integration': ['english, math, science']\n",
    "    },\n",
    "    'id2': {\n",
    "        'name': ['David'],\n",
    "        'class': ['V'],\n",
    "        'subject_integration': ['english, math, science']\n",
    "    },\n",
    "    'id3': {\n",
    "        'name': ['Sara'],\n",
    "        'class': ['V'],\n",
    "        'subject_integration': ['english, math, science']\n",
    "    },\n",
    "    'id4': {\n",
    "        'name': ['Surya'],\n",
    "        'class': ['V'],\n",
    "        'subject_integration': ['english, math, science']\n",
    "    }\n",
    "}\n",
    "r={}\n",
    "for i,j in d1.items():\n",
    "    if j not in r.values():\n",
    "        r[i]=j\n",
    "print(r)"
   ]
  },
  {
   "cell_type": "code",
   "execution_count": 79,
   "id": "2e7f2526-a2d5-4827-9607-d243a38ab984",
   "metadata": {
    "tags": []
   },
   "outputs": [
    {
     "name": "stdout",
     "output_type": "stream",
     "text": [
      "Dictionary is empty\n",
      "..................................................\n",
      "Dictionary is not empty\n"
     ]
    }
   ],
   "source": [
    "d1={}\n",
    "if not bool(d1):\n",
    "    print(\"Dictionary is empty\")\n",
    "else:\n",
    "    print('Dictionary is not empty')\n",
    "################################################\n",
    "print('..................................................')\n",
    "d1={'x': 'Red', 'y': 'Yellow', 'z': 'Green'}\n",
    "if not bool(d1):\n",
    "    print(\"Dictionary is empty\")\n",
    "else:\n",
    "    print('Dictionary is not empty')"
   ]
  },
  {
   "cell_type": "code",
   "execution_count": 80,
   "id": "bb5b3d7a-3637-4cd0-addc-0924973c8964",
   "metadata": {
    "tags": []
   },
   "outputs": [
    {
     "name": "stdout",
     "output_type": "stream",
     "text": [
      "Counter({'a': 400, 'b': 400, 'd': 400, 'c': 300})\n"
     ]
    }
   ],
   "source": [
    "from collections import Counter\n",
    "d1 = {'a': 100, 'b': 200, 'c':300}\n",
    "d2 = {'a': 300, 'b': 200, 'd':400}\n",
    "d=Counter(d1) + Counter(d2)\n",
    "print(d)"
   ]
  },
  {
   "cell_type": "code",
   "execution_count": 84,
   "id": "99acdebd-6ac4-4f1b-8c99-fdd57bc07c8e",
   "metadata": {
    "tags": []
   },
   "outputs": [
    {
     "name": "stdout",
     "output_type": "stream",
     "text": [
      "{'S002', 'S001', 'S005', 'S007', 'S009'}\n"
     ]
    }
   ],
   "source": [
    "d1=[{\"V\":\"S001\"}, {\"V\": \"S002\"}, {\"VI\": \"S001\"}, {\"VI\": \"S005\"}, {\"VII\":\"S005\"}, {\"V\":\"S009\"},{\"VIII\":\"S007\"}]\n",
    "r=set(j for i in d1 for j in i.values())\n",
    "print(r)"
   ]
  },
  {
   "cell_type": "code",
   "execution_count": 85,
   "id": "5a5ded8e-039f-414a-8969-bb9216f84568",
   "metadata": {
    "tags": []
   },
   "outputs": [
    {
     "name": "stdout",
     "output_type": "stream",
     "text": [
      "ac\n",
      "ad\n",
      "bc\n",
      "bd\n"
     ]
    }
   ],
   "source": [
    "import itertools\n",
    "d = {'1': ['a', 'b'], '2': ['c', 'd']}\n",
    "for i in itertools.product(*[d[k] for k in sorted(d.keys())]):\n",
    "    print(''.join(i))"
   ]
  },
  {
   "cell_type": "code",
   "execution_count": 110,
   "id": "af73bddb-6683-41fa-807f-7a224991eafb",
   "metadata": {
    "tags": []
   },
   "outputs": [
    {
     "name": "stdout",
     "output_type": "stream",
     "text": [
      "['b', 'e', 'c']\n"
     ]
    }
   ],
   "source": [
    "from heapq import nlargest\n",
    "d1={'a': 500, 'b': 5874, 'c': 560, 'd': 400, 'e': 5874, 'f': 20}\n",
    "d2=nlargest(3,d1,key=d1.get)\n",
    "print(d2)"
   ]
  },
  {
   "cell_type": "code",
   "execution_count": 113,
   "id": "14f00f96-c41b-4d72-a3be-7646eaa4cde4",
   "metadata": {
    "tags": []
   },
   "outputs": [
    {
     "name": "stdout",
     "output_type": "stream",
     "text": [
      "{'w': 1, '3': 1, 'r': 2, 'e': 2, 's': 1, 'o': 1, 'u': 1, 'c': 1}\n"
     ]
    }
   ],
   "source": [
    "d='w3resource'\n",
    "d1={}\n",
    "for i in d:\n",
    "    d1[i]=d1.get(i,0)+1\n",
    "print(d1)"
   ]
  },
  {
   "cell_type": "code",
   "execution_count": 116,
   "id": "dda9a084-46ef-413e-a3a9-41ab394c3988",
   "metadata": {
    "tags": []
   },
   "outputs": [
    {
     "name": "stdout",
     "output_type": "stream",
     "text": [
      "C1 C2 C3\n",
      "1 5 9\n",
      "2 6 10\n",
      "3 7 11\n"
     ]
    }
   ],
   "source": [
    "d1={'C1': [1, 2, 3], 'C2': [5, 6, 7], 'C3': [9, 10, 11]}\n",
    "for i in zip(*([j]+ (k) for j,k in sorted(d1.items()))):\n",
    "    print(*i)"
   ]
  },
  {
   "cell_type": "code",
   "execution_count": 119,
   "id": "81c863d6-1020-40fc-8cfe-37c84d6f0c46",
   "metadata": {
    "tags": []
   },
   "outputs": [
    {
     "name": "stdout",
     "output_type": "stream",
     "text": [
      "6\n",
      "2\n"
     ]
    }
   ],
   "source": [
    "d1= [{'id': 1, 'success': True, 'name': 'Lary'},\n",
    " {'id': 2, 'success': False, 'name': 'Rabi'},\n",
    " {'id': 3, 'success': True, 'name': 'Alex'}]\n",
    "print(sum(i['id']for i in d1))\n",
    "print(sum(i['success']for i in d1))"
   ]
  },
  {
   "cell_type": "code",
   "execution_count": 124,
   "id": "d4fb2c71-56c4-435c-8d37-20ce8af8aedb",
   "metadata": {
    "tags": []
   },
   "outputs": [
    {
     "name": "stdout",
     "output_type": "stream",
     "text": [
      "{1: {2: {3: {4: {}}}}}\n"
     ]
    }
   ],
   "source": [
    "x=[1, 2, 3, 4]\n",
    "d1=d2={}\n",
    "for i in x:\n",
    "    d2[i]={}\n",
    "    d2=d2[i]\n",
    "print(d1)"
   ]
  },
  {
   "cell_type": "code",
   "execution_count": 125,
   "id": "014c8e96-fe91-4727-88ad-8a566f6630f2",
   "metadata": {
    "tags": []
   },
   "outputs": [
    {
     "name": "stdout",
     "output_type": "stream",
     "text": [
      "{'n1': [1, 2, 3], 'n2': [1, 2, 5], 'n3': [2, 3, 4]}\n"
     ]
    }
   ],
   "source": [
    "n= {'n1': [2, 3, 1], 'n2': [5, 1, 2], 'n3': [3, 2, 4]}\n",
    "d1={i:sorted(j) for i,j in n.items()}\n",
    "print(d1)"
   ]
  },
  {
   "cell_type": "code",
   "execution_count": 128,
   "id": "7158d487-bc79-4f64-99b6-5829d0f4b2f6",
   "metadata": {
    "tags": []
   },
   "outputs": [
    {
     "name": "stdout",
     "output_type": "stream",
     "text": [
      "{'S001': ['Math', 'Science'], 'S002': ['Math', 'English']}\n"
     ]
    }
   ],
   "source": [
    "s={'S  001': ['Math', 'Science'], 'S    002': ['Math', 'English']}\n",
    "d1={x.translate({32: None}): y for x,y in s.items()}\n",
    "print(d1)"
   ]
  },
  {
   "cell_type": "code",
   "execution_count": 1,
   "id": "39859de3-32f8-4c82-9b98-31bd79872be4",
   "metadata": {
    "tags": []
   },
   "outputs": [
    {
     "name": "stdout",
     "output_type": "stream",
     "text": [
      "item4 55\n",
      "item1 45.5\n",
      "item3 41.3\n",
      "...........................................................................\n",
      "item5 24\n",
      "item2 35\n"
     ]
    }
   ],
   "source": [
    "from heapq import nlargest\n",
    "from operator import itemgetter\n",
    "x={'item1': 45.50, 'item2':35, 'item3': 41.30, 'item4':55, 'item5': 24}\n",
    "for i,j in nlargest(3,x.items(),key=itemgetter(1)):\n",
    "    print(i,j)\n",
    "###############################################################################\n",
    "print('...........................................................................')\n",
    "from heapq import nsmallest\n",
    "from operator import itemgetter\n",
    "x={'item1': 45.50, 'item2':35, 'item3': 41.30, 'item4':55, 'item5': 24}\n",
    "for i,j in nsmallest(2,x.items(),key=itemgetter(1)):\n",
    "    print(i,j)"
   ]
  },
  {
   "cell_type": "code",
   "execution_count": 4,
   "id": "87e7684a-2335-44bd-8877-bf3f15864f2f",
   "metadata": {},
   "outputs": [
    {
     "name": "stdout",
     "output_type": "stream",
     "text": [
      "dict_keys(['item1', 'item2', 'item3', 'item4', 'item5'])\n",
      "dict_values([45.5, 35, 41.3, 55, 24])\n",
      "dict_items([('item1', 45.5), ('item2', 35), ('item3', 41.3), ('item4', 55), ('item5', 24)])\n",
      "...........................................................................\n",
      "key  value  count\n",
      "1    10    1\n",
      "2    20    2\n",
      "3    30    3\n",
      "4    40    4\n",
      "5    50    5\n",
      "6    60    6\n"
     ]
    }
   ],
   "source": [
    "x={'item1': 45.50, 'item2':35, 'item3': 41.30, 'item4':55, 'item5': 24}\n",
    "print(x.keys())\n",
    "print(x.values())\n",
    "print(x.items())\n",
    "###############################################################################\n",
    "print('...........................................................................')\n",
    "x={1: 10, 2: 20, 3: 30, 4: 40, 5: 50, 6: 60}\n",
    "print('key  value  count')\n",
    "for count, (key,value) in enumerate(x.items(),1):\n",
    "    print(key, '  ',value,'  ',count)"
   ]
  },
  {
   "cell_type": "code",
   "execution_count": 8,
   "id": "07774348-cf23-4bb9-9c80-40fd05433e71",
   "metadata": {
    "tags": []
   },
   "outputs": [
    {
     "name": "stdout",
     "output_type": "stream",
     "text": [
      "Aex\n",
      "class : V\n",
      "roll_id : 2\n",
      "Puja\n",
      "class : V\n",
      "roll_id : 3\n"
     ]
    }
   ],
   "source": [
    "x={'Aex': {'class': 'V', 'roll_id': 2}, 'Puja': {'class': 'V', 'roll_id': 3}}\n",
    "for i in x:\n",
    "    print(i)\n",
    "    for j in x[i]:\n",
    "        print(j, ':', x[i][j])"
   ]
  },
  {
   "cell_type": "code",
   "execution_count": 9,
   "id": "3e3b2135-e49c-46ae-b538-42f87187309e",
   "metadata": {
    "tags": []
   },
   "outputs": [
    {
     "name": "stdout",
     "output_type": "stream",
     "text": [
      "True\n",
      "False\n",
      "True\n"
     ]
    }
   ],
   "source": [
    "x={\n",
    "  'name': 'Alex',\n",
    "  'class': 'V',\n",
    "  'roll_id': '2'\n",
    "}\n",
    "print(x.keys() >= {'class', 'name'})\n",
    "print(x.keys() >= {'name','Alex'})\n",
    "print(x.keys() >= {'roll_id', 'name'})"
   ]
  },
  {
   "cell_type": "code",
   "execution_count": 1,
   "id": "bd68c157-2470-4289-8c53-92971ed23229",
   "metadata": {
    "tags": []
   },
   "outputs": [
    {
     "name": "stdout",
     "output_type": "stream",
     "text": [
      "['a', 'b', 'c', 'd', 'e']\n"
     ]
    }
   ],
   "source": [
    "#pistol *_, is used. \n",
    "*_,='abcde'\n",
    "print(_)"
   ]
  },
  {
   "cell_type": "code",
   "execution_count": 2,
   "id": "6cf81358-04f7-4ad5-88d7-a6af895cf001",
   "metadata": {},
   "outputs": [
    {
     "name": "stdout",
     "output_type": "stream",
     "text": [
      "5\n"
     ]
    }
   ],
   "source": [
    "x={'Alex': ['subj1', 'subj2', 'subj3'], 'David': ['subj1', 'subj2']}\n",
    "c=sum(map(len,x.values()))\n",
    "print(c)"
   ]
  },
  {
   "cell_type": "code",
   "execution_count": 9,
   "id": "43e89e44-fe98-4467-bb44-b76b43288a3e",
   "metadata": {
    "tags": []
   },
   "outputs": [
    {
     "name": "stdout",
     "output_type": "stream",
     "text": [
      "[('Chemistry', 87), ('Math', 81), ('Physics', 83)]\n",
      ".............................................\n",
      "[('Chemistry', 87), ('Physics', 83), ('Math', 81)]\n"
     ]
    }
   ],
   "source": [
    "x={'Math':81, 'Physics':83, 'Chemistry':87}\n",
    "c=sorted(x.items())\n",
    "print(c)\n",
    "####################################################\n",
    "print('.............................................')\n",
    "from collections import Counter\n",
    "x=Counter({'Math':81, 'Physics':83, 'Chemistry':87})\n",
    "print(x.most_common())"
   ]
  },
  {
   "cell_type": "code",
   "execution_count": 13,
   "id": "63d2f94a-6d38-4e46-9f4e-ecd6702cc3cf",
   "metadata": {
    "tags": []
   },
   "outputs": [
    {
     "name": "stdout",
     "output_type": "stream",
     "text": [
      "defaultdict(<class 'set'>, {'Class-V': {1}, 'Class-VI': {2}, 'Class-VII': {2}, 'Class-VIII': {3}})\n"
     ]
    }
   ],
   "source": [
    "from collections import defaultdict\n",
    "x=['Class-V', 'Class-VI', 'Class-VII', 'Class-VIII']\n",
    "y=[1, 2, 2, 3]\n",
    "c=defaultdict(set)\n",
    "for i,j in zip(x,y):\n",
    "    c[i].add(j)\n",
    "print(c)"
   ]
  },
  {
   "cell_type": "code",
   "execution_count": 14,
   "id": "98cf4a4b-f4ca-4278-9a18-4bdf779fd2ad",
   "metadata": {
    "tags": []
   },
   "outputs": [
    {
     "name": "stdout",
     "output_type": "stream",
     "text": [
      "[{'id': 1, 'subject': 'math', 'VvI': 76.0}, {'id': 2, 'subject': 'math', 'VvI': 73.5}, {'id': 3, 'subject': 'math', 'VvI': 80.5}]\n"
     ]
    }
   ],
   "source": [
    "def sum_math_average(x):\n",
    "    for i in x:\n",
    "        n1=i.pop('V')\n",
    "        n2=i.pop('VI')\n",
    "        i['V'+'vI']=(n1+n2)/2\n",
    "    return x\n",
    "x=[\n",
    "  {'id': 1, 'subject': 'math', 'V': 70, 'VI': 82},\n",
    "  {'id': 2, 'subject': 'math', 'V': 73, 'VI': 74},\n",
    "  {'id': 3, 'subject': 'math', 'V': 75, 'VI': 86}\n",
    "]\n",
    "print(sum_math_average(x))"
   ]
  },
  {
   "cell_type": "code",
   "execution_count": 17,
   "id": "3dc42f5a-8e68-4594-b03e-04a00fdc006d",
   "metadata": {
    "tags": []
   },
   "outputs": [
    {
     "name": "stdout",
     "output_type": "stream",
     "text": [
      "key1: 1 is present in both x and y\n"
     ]
    }
   ],
   "source": [
    "x={'key1': 1, 'key2': 3, 'key3': 2}\n",
    "y={'key1': 1, 'key2': 2}\n",
    "for i,j in set(x.items()) & set(y.items()):\n",
    "    print('%s: %s is present in both x and y' % (i,j))"
   ]
  },
  {
   "cell_type": "code",
   "execution_count": 23,
   "id": "d5bd4081-05b0-49e4-bbbd-f03f187fd00f",
   "metadata": {
    "tags": []
   },
   "outputs": [
    {
     "name": "stdout",
     "output_type": "stream",
     "text": [
      "{'students': [{'firstName': 'Nikki', 'lastName': 'Roysden'}, {'firstName': 'Mervin', 'lastName': 'Friedland'}, {'firstName': 'Aron', 'lastName': 'Wilkins'}], 'teachers': [{'firstName': 'Amberly', 'lastName': 'Calico'}, {'firstName': 'Regine', 'lastName': 'Agtarap'}]}\n",
      ".......................................................\n",
      "<class 'dict'>\n",
      "\n",
      "Json file to dictionary:\n",
      "{'students': [{'firstName': 'Nikki', 'lastName': 'Roysden'}, {'firstName': 'Mervin', 'lastName': 'Friedland'}, {'firstName': 'Aron', 'lastName': 'Wilkins'}], 'teachers': [{'firstName': 'Amberly', 'lastName': 'Calico'}, {'firstName': 'Regine', 'lastName': 'Agtarap'}]}\n"
     ]
    }
   ],
   "source": [
    "d = {\n",
    "    \"students\": [\n",
    "        {\"firstName\": \"Nikki\", \"lastName\": \"Roysden\"},\n",
    "        {\"firstName\": \"Mervin\", \"lastName\": \"Friedland\"},\n",
    "        {\"firstName\": \"Aron\", \"lastName\": \"Wilkins\"}\n",
    "    ],\n",
    "    \"teachers\": [\n",
    "        {\"firstName\": \"Amberly\", \"lastName\": \"Calico\"},\n",
    "        {\"firstName\": \"Regine\", \"lastName\": \"Agtarap\"}\n",
    "    ]\n",
    "}\n",
    "print(d,'\\n.......................................................\\n',type(d),sep='')\n",
    "import json\n",
    "with open('dictionary','w')as f:\n",
    "    json.dump(d,f,indent=4,sort_keys=True)\n",
    "print('\\nJson file to dictionary:')\n",
    "with open('dictionary')as f:\n",
    "    data=json.load(f)\n",
    "print(data)"
   ]
  },
  {
   "cell_type": "code",
   "execution_count": 39,
   "id": "0ab9cc2b-e582-4a15-a29d-2740a76fdd5f",
   "metadata": {
    "tags": []
   },
   "outputs": [
    {
     "name": "stdout",
     "output_type": "stream",
     "text": [
      "{'x': [11, 12, 13, 14, 15, 16, 17, 18, 19],\n",
      " 'y': [21, 22, 23, 24, 25, 26, 27, 28, 29],\n",
      " 'z': [31, 32, 33, 34, 35, 36, 37, 38, 39]}\n",
      "15\n",
      "25\n",
      "35\n",
      "x has value [11, 12, 13, 14, 15, 16, 17, 18, 19]\n",
      "y has value [21, 22, 23, 24, 25, 26, 27, 28, 29]\n",
      "z has value [31, 32, 33, 34, 35, 36, 37, 38, 39]\n"
     ]
    }
   ],
   "source": [
    "from pprint import pprint\n",
    "d=dict(x=list(range(11,20)),y=list(range(21,30)),z=list(range(31,40)))\n",
    "pprint(d)\n",
    "print(d['x'][4])\n",
    "print(d['y'][4])\n",
    "print(d['z'][4])\n",
    "\n",
    "for i,j in d.items():\n",
    "    print(i,'has value',j)"
   ]
  },
  {
   "cell_type": "code",
   "execution_count": 7,
   "id": "32ef7245-5e47-4b27-8553-05d723a93732",
   "metadata": {
    "tags": []
   },
   "outputs": [
    {
     "name": "stdout",
     "output_type": "stream",
     "text": [
      "Original Dictionary:\n",
      "{'c1': 'Red', 'c2': 'Green', 'c3': None}\n",
      "New Dictionary after dropping empty items:\n",
      "{'c1': 'Red', 'c2': 'Green'}\n"
     ]
    }
   ],
   "source": [
    "x={'c1': 'Red', 'c2': 'Green', 'c3': None}\n",
    "print(\"Original Dictionary:\")\n",
    "print(x)\n",
    "x={i:j for i,j in x.items() if j is not None}\n",
    "print(\"New Dictionary after dropping empty items:\")\n",
    "print(x)"
   ]
  },
  {
   "cell_type": "code",
   "execution_count": 10,
   "id": "151c8a13-38b0-4520-8f14-24bf438b10b4",
   "metadata": {
    "tags": []
   },
   "outputs": [
    {
     "name": "stdout",
     "output_type": "stream",
     "text": [
      "Original Dictionary:\n",
      "{'Cierra Vega': 175, 'Alden Cantrell': 180, 'Kierra Gentry': 165, 'Pierre Cox': 190}\n",
      "New Dictionary after dropping empty items:\n",
      "{'Cierra Vega': 175, 'Alden Cantrell': 180, 'Pierre Cox': 190}\n"
     ]
    }
   ],
   "source": [
    "x={'Cierra Vega': 175, 'Alden Cantrell': 180, 'Kierra Gentry': 165, 'Pierre Cox': 190}\n",
    "print(\"Original Dictionary:\")\n",
    "print(x)\n",
    "x={i:j for i,j in x.items() if j>=170}\n",
    "print(\"New Dictionary after dropping empty items:\")\n",
    "print(x)"
   ]
  },
  {
   "cell_type": "code",
   "execution_count": 15,
   "id": "df28664b-64af-47d3-b5aa-40b4f72943b2",
   "metadata": {
    "tags": []
   },
   "outputs": [
    {
     "name": "stdout",
     "output_type": "stream",
     "text": [
      "Original strings:\n",
      "['S001', 'S002', 'S003', 'S004']\n",
      "['Adina Park', 'Leyton Marsh', 'Duncan Boyle', 'Saim Richards']\n",
      "[85, 98, 89, 92]\n",
      "\n",
      "Nested dictionary:\n",
      "[{'S001': {'Adina Park': 85}}, {'S002': {'Leyton Marsh': 98}}, {'S003': {'Duncan Boyle': 89}}, {'S004': {'Saim Richards': 92}}]\n"
     ]
    }
   ],
   "source": [
    "x=['S001', 'S002', 'S003', 'S004']\n",
    "y=['Adina Park', 'Leyton Marsh', 'Duncan Boyle', 'Saim Richards']\n",
    "z=[85, 98, 89, 92]\n",
    "def nested_dictionary(x,y,z):\n",
    "    r=[{i:{j:k}} for (i,j,k) in zip(x,y,z)]\n",
    "    return r\n",
    "print(\"Original strings:\")\n",
    "print(x)\n",
    "print(y)\n",
    "print(z)\n",
    "print(\"\\nNested dictionary:\")\n",
    "print(nested_dictionary(x,y,z))"
   ]
  },
  {
   "cell_type": "code",
   "execution_count": 21,
   "id": "1f2778f9-70b0-478e-96ed-3aa5772b539f",
   "metadata": {
    "tags": []
   },
   "outputs": [
    {
     "name": "stdout",
     "output_type": "stream",
     "text": [
      "Original Dictionary:\n",
      "{'Cierra Vega': (6.2, 70), 'Alden Cantrell': (5.9, 65), 'Kierra Gentry': (6.0, 68), 'Pierre Cox': (5.8, 66)}\n",
      "\n",
      "Height > 6ft and Weight > 70kg:\n",
      "{'Cierra Vega': (6.2, 70)}\n"
     ]
    }
   ],
   "source": [
    "x={'Cierra Vega': (6.2, 70), 'Alden Cantrell': (5.9, 65), 'Kierra Gentry': (6.0, 68), 'Pierre Cox': (5.8, 66)}\n",
    "print(\"Original Dictionary:\")\n",
    "print(x)\n",
    "x={i:j for i,j in x.items() if j[0]>=6 and j[1]>=70}\n",
    "print(\"\\nHeight > 6ft and Weight > 70kg:\")\n",
    "print(x)"
   ]
  },
  {
   "cell_type": "code",
   "execution_count": 32,
   "id": "b688924c-7d53-4967-afd8-f174d4d6ce3d",
   "metadata": {
    "tags": []
   },
   "outputs": [
    {
     "name": "stdout",
     "output_type": "stream",
     "text": [
      "True\n",
      ".............................................\n",
      "False\n"
     ]
    }
   ],
   "source": [
    "x={'Cierra Vega': 12, 'Alden Cantrell': 12, 'Kierra Gentry': 12, 'Pierre Cox': 12}\n",
    "n=12\n",
    "r=all(i==n for i in x.values())\n",
    "print(r)\n",
    "####################################################\n",
    "print('.............................................')\n",
    "n=10\n",
    "r=all(i==n for i in x.values())\n",
    "print(r)"
   ]
  },
  {
   "cell_type": "code",
   "execution_count": 34,
   "id": "fff9e55d-30b4-4934-9a1b-760e55b0a03c",
   "metadata": {
    "tags": []
   },
   "outputs": [
    {
     "name": "stdout",
     "output_type": "stream",
     "text": [
      "defaultdict(<class 'list'>, {'yellow': [1, 3], 'blue': [2, 4], 'red': [1]})\n",
      ".............................................\n",
      "Original list:\n",
      "[('yellow', 1), ('blue', 2), ('yellow', 3), ('blue', 4), ('red', 1)]\n",
      "\n",
      "Grouping a sequence of key-value pairs into a dictionary of lists:\n",
      "{'yellow': [1, 3], 'blue': [2, 4], 'red': [1]}\n"
     ]
    }
   ],
   "source": [
    "from collections import defaultdict\n",
    "x=[('yellow', 1), ('blue', 2), ('yellow', 3), ('blue', 4), ('red', 1)]\n",
    "c1=defaultdict(list)\n",
    "for i,j in x:\n",
    "    c1[i].append(j)\n",
    "print(c1)\n",
    "####################################################\n",
    "print('.............................................')\n",
    "def grouping_dict(x):\n",
    "    r={}\n",
    "    for i,j in x:\n",
    "        r.setdefault(i,[]).append(j)\n",
    "    return r\n",
    "print(\"Original list:\")\n",
    "print(x)\n",
    "print(\"\\nGrouping a sequence of key-value pairs into a dictionary of lists:\")\n",
    "print(grouping_dict(x))"
   ]
  },
  {
   "cell_type": "code",
   "execution_count": 46,
   "id": "fa5a499b-fda1-47c1-9818-aa131a07da99",
   "metadata": {
    "tags": []
   },
   "outputs": [
    {
     "name": "stdout",
     "output_type": "stream",
     "text": [
      "[{'Science': 88, 'Language': 77}, {'Science': 89, 'Language': 78}, {'Science': 62, 'Language': 84}, {'Science': 95, 'Language': 80}]\n"
     ]
    }
   ],
   "source": [
    "x={'Science': [88, 89, 62, 95], 'Language': [77, 78, 84, 80]}\n",
    "k=x.keys()\n",
    "v=zip(*[x[i] for i in k])\n",
    "r= [dict(zip(k,j)) for j in v]\n",
    "print(r)"
   ]
  },
  {
   "cell_type": "code",
   "execution_count": 63,
   "id": "0e903c86-0249-4d6c-84d6-24e09e3bb6d6",
   "metadata": {
    "tags": []
   },
   "outputs": [
    {
     "name": "stdout",
     "output_type": "stream",
     "text": [
      "Original list of dictionary:\n",
      "\n",
      "[{'id': '#FF0000', 'color': 'Red'}, {'id': '#800000', 'color': 'Maroon'}, {'id': '#FFFF00', 'color': 'Yellow'}, {'id': '#808000', 'color': 'Olive'}]\n",
      "\n",
      "Remove id #FF0000 from the said list of dictionary:\n",
      "\n",
      "[{'id': '#800000', 'color': 'Maroon'}, {'id': '#FFFF00', 'color': 'Yellow'}, {'id': '#808000', 'color': 'Olive'}]\n"
     ]
    }
   ],
   "source": [
    "x=[{'id': '#FF0000', 'color': 'Red'}, {'id': '#800000', 'color': 'Maroon'}, {'id': '#FFFF00', 'color': 'Yellow'}, {'id': '#808000', 'color': 'Olive'}]\n",
    "n='#FF0000'\n",
    "print('Original list of dictionary:\\n')\n",
    "print(x)\n",
    "x=[d for d in x if d.get('id') != n]\n",
    "print(\"\\nRemove id\", n, \"from the said list of dictionary:\\n\")\n",
    "print(x)"
   ]
  },
  {
   "cell_type": "code",
   "execution_count": 17,
   "id": "b35061b3-6425-4dff-b684-dd107fd34256",
   "metadata": {},
   "outputs": [
    {
     "name": "stdout",
     "output_type": "stream",
     "text": [
      "Original list:\n",
      "[{'x': '10', 'y': '20', 'z': '30'}, {'p': '40', 'q': '50', 'r': '60'}]\n",
      "\n",
      "String values of a given dictionary, into integer types:\n",
      "[{'x': 10, 'y': 20, 'z': 30}, {'p': 40, 'q': 50, 'r': 60}]\n",
      "Original list:\n",
      "[{'x': '10.12', 'y': '20.23', 'z': '30'}, {'p': '40.00', 'q': '50.19', 'r': '60.99'}]\n",
      "\n",
      "String values of a given dictionary, into integer types:\n",
      "[{'x': 10.12, 'y': 20.23, 'z': 30.0}, {'p': 40.0, 'q': 50.19, 'r': 60.99}]\n"
     ]
    }
   ],
   "source": [
    "x=[{'x': '10', 'y': '20', 'z': '30'}, {'p': '40', 'q': '50', 'r': '60'}]\n",
    "def convert_int(x):\n",
    "    r=[dict([a,int(i)] for a,i in b.items()) for b in x]\n",
    "    return r\n",
    "def convert_float(x):\n",
    "    r=[dict([a,float(i)] for a,i in b.items()) for b in x]\n",
    "    return r\n",
    "print(\"Original list:\")\n",
    "print(x)\n",
    "print(\"\\nString values of a given dictionary, into integer types:\")\n",
    "print(convert_int(x))\n",
    "x=[\n",
    "    {'x': '10.12', 'y': '20.23', 'z': '30'},\n",
    "    {'p': '40.00', 'q': '50.19', 'r': '60.99'}\n",
    "]\n",
    "print(\"Original list:\")\n",
    "print(x)\n",
    "print(\"\\nString values of a given dictionary, into integer types:\")\n",
    "print(convert_float(x))"
   ]
  },
  {
   "cell_type": "code",
   "execution_count": 26,
   "id": "4fecd70f-111e-415c-8c22-29a988445c21",
   "metadata": {
    "tags": []
   },
   "outputs": [
    {
     "name": "stdout",
     "output_type": "stream",
     "text": [
      "{'C1': [], 'C2': [], 'C3': []}\n"
     ]
    }
   ],
   "source": [
    "x={'C1': [10, 20, 30], 'C2': [20, 30, 40], 'C3': [12, 34]}\n",
    "for i in x:\n",
    "    x[i].clear()\n",
    "print(x)"
   ]
  },
  {
   "cell_type": "code",
   "execution_count": 39,
   "id": "1f1e7963-029c-41fb-b9f4-61fa750131da",
   "metadata": {
    "tags": []
   },
   "outputs": [
    {
     "name": "stdout",
     "output_type": "stream",
     "text": [
      "{'Math': [89, 90, 91], 'Physics': [90, 92, 87], 'Chemistry': [90, 87, 93]}\n"
     ]
    }
   ],
   "source": [
    "x={'Math': [88, 89, 90], 'Physics': [92, 94, 89], 'Chemistry': [90, 87, 93]}\n",
    "x['Math']=[i+1 for i in x['Math']]\n",
    "x['Physics']=[j-2 for j in x['Physics']]\n",
    "print(x)"
   ]
  },
  {
   "cell_type": "code",
   "execution_count": 48,
   "id": "5ce6a487-32f5-4fcb-b3bb-ace25fdf83aa",
   "metadata": {
    "tags": []
   },
   "outputs": [
    {
     "name": "stdin",
     "output_type": "stream",
     "text": [
      " Math\n"
     ]
    },
    {
     "name": "stdout",
     "output_type": "stream",
     "text": [
      "[90, 89, 92]\n",
      "........................................................................\n"
     ]
    },
    {
     "name": "stdin",
     "output_type": "stream",
     "text": [
      " Science\n"
     ]
    },
    {
     "name": "stdout",
     "output_type": "stream",
     "text": [
      "[92, 94, 88]\n",
      "........................................................................\n"
     ]
    }
   ],
   "source": [
    "x=[{'Math': 90, 'Science': 92}, {'Math': 89, 'Science': 94}, {'Math': 92, 'Science': 88}]\n",
    "for y in range(2):\n",
    "    y=input()\n",
    "    c=[i[y] for i in x if y in i]\n",
    "    print(c)\n",
    "    print('........................................................................')"
   ]
  },
  {
   "cell_type": "code",
   "execution_count": 68,
   "id": "84d62d0c-440f-4947-a79e-04e55c2d24a8",
   "metadata": {
    "tags": []
   },
   "outputs": [
    {
     "name": "stdout",
     "output_type": "stream",
     "text": [
      "{'red': 3, 'green': 5, 'black': 5, 'white': 5}\n",
      "........................................................................\n",
      "{'Austin Little': 13, 'Natasha Howard': 14, 'Alfred Mullins': 14, 'Jamie Rowe': 10}\n"
     ]
    }
   ],
   "source": [
    "x= {1: 'red', 2: 'green', 3: 'black', 4: 'white', 5: 'black'}\n",
    "c={i:len(i) for i in x.values()}\n",
    "print(c)\n",
    "###################################################################################\n",
    "print('........................................................................')\n",
    "x= {'1': 'Austin Little', '2': 'Natasha Howard', '3': 'Alfred Mullins', '4': 'Jamie Rowe'}\n",
    "c={i:len(i) for i in x.values()}\n",
    "print(c)"
   ]
  },
  {
   "cell_type": "code",
   "execution_count": 73,
   "id": "0b67d643-2ba3-4082-b04f-8f9b323aed42",
   "metadata": {
    "tags": []
   },
   "outputs": [
    {
     "name": "stdout",
     "output_type": "stream",
     "text": [
      "Original Dictionary:\n",
      "{'a': 1, 'b': {'c': {'d': {}}}}\n",
      "4\n"
     ]
    }
   ],
   "source": [
    "dic = {'a': 1, 'b': {'c': {'d': {}}}}\n",
    "def dict_depth(d):\n",
    "    if isinstance(d,dict):\n",
    "        return 1 + (max(map(dict_depth, d.values())) if d else 0)\n",
    "    return 0\n",
    "print(\"Original Dictionary:\")\n",
    "print(dic)\n",
    "print(dict_depth(dic))"
   ]
  },
  {
   "cell_type": "code",
   "execution_count": 77,
   "id": "88a64a56-921b-439c-b353-630bc828b532",
   "metadata": {
    "tags": []
   },
   "outputs": [
    {
     "name": "stdout",
     "output_type": "stream",
     "text": [
      "Access the keys of the dictionary as a list:\n",
      "physics\n",
      "math\n",
      "chemistry\n"
     ]
    }
   ],
   "source": [
    "num = {'physics': 80, 'math': 90, 'chemistry': 86}\n",
    "print(\"Access the keys of the dictionary as a list:\")\n",
    "print(list(num)[0])\n",
    "print(list(num)[1])\n",
    "print(list(num)[2])"
   ]
  },
  {
   "cell_type": "code",
   "execution_count": 90,
   "id": "d8bbc4da-a9b9-4499-a6ec-9376cc42ee91",
   "metadata": {
    "tags": []
   },
   "outputs": [
    {
     "name": "stdout",
     "output_type": "stream",
     "text": [
      "[[1, 'red'], [2, 'green'], [3, 'black'], [4, 'white'], [5, 'black']]\n",
      "........................................................................\n",
      "[['1', 'Austin Little'], ['2', 'Natasha Howard'], ['3', 'Alfred Mullins'], ['4', 'Jamie Rowe']]\n"
     ]
    }
   ],
   "source": [
    "x={1: 'red', 2: 'green', 3: 'black', 4: 'white', 5: 'black'}\n",
    "y=list(map(list,x.items()))\n",
    "print(y)\n",
    "###################################################################################\n",
    "print('........................................................................')\n",
    "x={'1' : 'Austin Little', '2' : 'Natasha Howard', '3' : 'Alfred Mullins', '4' : 'Jamie Rowe'}\n",
    "y=list(map(list,x.items()))\n",
    "print(y)"
   ]
  },
  {
   "cell_type": "code",
   "execution_count": 104,
   "id": "ec0358be-b6d3-4612-9503-0b0631236bdc",
   "metadata": {
    "tags": []
   },
   "outputs": [
    {
     "name": "stdout",
     "output_type": "stream",
     "text": [
      "{'V': [4, 6, 10], 'VI': [4, 12], 'VII': [8]}\n",
      "{'V': [], 'VI': [], 'VII': [2]}\n"
     ]
    }
   ],
   "source": [
    "x={'V': [1, 4, 6, 10], 'VI': [1, 4, 12], 'VII': [1, 3, 8]}\n",
    "r={key:[i for i in v if not i%2] for key,v in x.items()}\n",
    "print(r)\n",
    "x= {'V' : [1, 3, 5], 'VI' : [1, 5], 'VII' : [2, 7, 9]} \n",
    "r={key:[i for i in v if not i%2] for key,v in x.items()}\n",
    "print(r)"
   ]
  },
  {
   "cell_type": "code",
   "execution_count": 116,
   "id": "435cd518-8955-4551-aa8b-4d24287e662e",
   "metadata": {
    "tags": []
   },
   "outputs": [
    {
     "name": "stdout",
     "output_type": "stream",
     "text": [
      "[{'V': [1, 4, 6, 10], 'VI': [1, 4, 12]}, {'V': [1, 4, 6, 10], 'VII': [1, 3, 8]}, {'VI': [1, 4, 12], 'VII': [1, 3, 8]}]\n",
      "........................................................................\n",
      "[{'V': [1, 3, 5], 'VI': [1, 5]}]\n"
     ]
    }
   ],
   "source": [
    "from itertools import combinations\n",
    "x={'V': [1, 4, 6, 10], 'VI': [1, 4, 12], 'VII': [1, 3, 8]}\n",
    "c=list(map(dict,combinations(x.items(),2)))\n",
    "print(c)\n",
    "###################################################################################\n",
    "print('........................................................................')\n",
    "x={'V': [1, 3, 5], 'VI': [1, 5]}\n",
    "c=list(map(dict,combinations(x.items(),2)))\n",
    "print(c)"
   ]
  },
  {
   "cell_type": "code",
   "execution_count": 129,
   "id": "b713eaca-cbd3-4a6c-abac-a0d4594cd312",
   "metadata": {
    "tags": []
   },
   "outputs": [
    {
     "name": "stdout",
     "output_type": "stream",
     "text": [
      "['f']\n",
      "['f', 'i']\n",
      "['f', 'i', 'g', 'd', 'c']\n"
     ]
    }
   ],
   "source": [
    "x={'a': 5, 'b': 14, 'c': 32, 'd': 35, 'e': 24, 'f': 100, 'g': 57, 'h': 8, 'i': 100}\n",
    "n=1\n",
    "c=sorted(x, key=x.get, reverse=True)[:n]\n",
    "print(c)\n",
    "n=2\n",
    "c=sorted(x, key=x.get, reverse=True)[:n]\n",
    "print(c)\n",
    "n=5\n",
    "c=sorted(x, key=x.get, reverse=True)[:n]\n",
    "print(c)"
   ]
  },
  {
   "cell_type": "code",
   "execution_count": 136,
   "id": "4b5ec76a-4b39-4c3c-8f83-fb45e0d13613",
   "metadata": {
    "tags": []
   },
   "outputs": [
    {
     "name": "stdout",
     "output_type": "stream",
     "text": [
      "['VI', 'VIII', 'X']\n"
     ]
    }
   ],
   "source": [
    "x={'V': [10, 12], 'VI': [10], 'VII': [10, 20, 30, 40], 'VIII': [20], 'IX': [10, 30, 50, 70], 'X': [80]}\n",
    "m=1\n",
    "r=[i for i,j in x.items() if len(j)==m]\n",
    "print(r)"
   ]
  },
  {
   "cell_type": "code",
   "execution_count": 140,
   "id": "62601252-f96a-498e-8b30-595c32a746c6",
   "metadata": {
    "tags": []
   },
   "outputs": [
    {
     "data": {
      "text/plain": [
       "Counter({10: 2, 40: 2, 20: 2, 70: 1, 80: 1})"
      ]
     },
     "execution_count": 140,
     "metadata": {},
     "output_type": "execute_result"
    }
   ],
   "source": [
    "from collections import Counter\n",
    "x={'V': 10, 'VI': 10, 'VII': 40, 'VIII': 20, 'IX': 70, 'X': 80, 'XI': 40, 'XII': 20}\n",
    "c=Counter(x.values())\n",
    "c"
   ]
  },
  {
   "cell_type": "code",
   "execution_count": 154,
   "id": "1e2b4023-6c94-4241-844d-7dbad22f2c25",
   "metadata": {
    "tags": []
   },
   "outputs": [
    {
     "name": "stdout",
     "output_type": "stream",
     "text": [
      "[[1, 'Jean Castro', 'V'], [2, 'Lula Powell', 'V'], [3, 'Brian Howell', 'VI'], [4, 'Lynne Foster', 'VI'], [5, 'Zachary Simon', 'VII']]\n",
      "........................................................................\n",
      "\n",
      "Original Dictionary:\n",
      "[{'student_id': 1, 'name': 'Jean Castro', 'class': 'V'}, {'student_id': 2, 'name': 'Lula Powell', 'class': 'V'}, {'student_id': 3, 'name': 'Brian Howell', 'class': 'VI'}, {'student_id': 4, 'name': 'Lynne Foster', 'class': 'VI'}, {'student_id': 5, 'name': 'Zachary Simon', 'class': 'VII'}]\n",
      "\n",
      "Extract values from the said dictionaries and create a list of lists using those values:\n",
      "\n",
      " [[1, 'Jean Castro', 'V'], [2, 'Lula Powell', 'V'], [3, 'Brian Howell', 'VI'], [4, 'Lynne Foster', 'VI'], [5, 'Zachary Simon', 'VII']]\n",
      "\n",
      " [[1, 'Jean Castro'], [2, 'Lula Powell'], [3, 'Brian Howell'], [4, 'Lynne Foster'], [5, 'Zachary Simon']]\n",
      "\n",
      " [['Jean Castro', 'V'], ['Lula Powell', 'V'], ['Brian Howell', 'VI'], ['Lynne Foster', 'VI'], ['Zachary Simon', 'VII']]\n"
     ]
    }
   ],
   "source": [
    "x=[{'student_id': 1, 'name': 'Jean Castro', 'class': 'V'}, {'student_id': 2, 'name': 'Lula Powell', 'class': 'V'}, {'student_id': 3, 'name': 'Brian Howell', 'class': 'VI'}, {'student_id': 4, 'name': 'Lynne Foster', 'class': 'VI'}, {'student_id': 5, 'name': 'Zachary Simon', 'class': 'VII'}]\n",
    "c=list(map(list,(i.values() for i in x)))\n",
    "print(c)\n",
    "###################################################################################\n",
    "print('........................................................................')\n",
    "def test(dictt, keys):\n",
    "        return [list(d[k] for k in keys) for d in dictt]\n",
    "students = [\n",
    "    {'student_id': 1, 'name': 'Jean Castro', 'class': 'V'},\n",
    "    {'student_id': 2, 'name': 'Lula Powell', 'class': 'V'},\n",
    "    {'student_id': 3, 'name': 'Brian Howell', 'class': 'VI'},\n",
    "    {'student_id': 4, 'name': 'Lynne Foster', 'class': 'VI'},\n",
    "    {'student_id': 5, 'name': 'Zachary Simon', 'class': 'VII'}\n",
    "]\n",
    "print(\"\\nOriginal Dictionary:\")\n",
    "print(students)\n",
    "print(\"\\nExtract values from the said dictionaries and create a list of lists using those values:\")\n",
    "print(\"\\n\", test(students, ('student_id', 'name', 'class')))\n",
    "print(\"\\n\", test(students, ('student_id', 'name')))\n",
    "print(\"\\n\", test(students, ('name', 'class')))"
   ]
  },
  {
   "cell_type": "code",
   "execution_count": 170,
   "id": "5ac30908-2b9e-40df-ace0-e2c4ee1890db",
   "metadata": {
    "tags": []
   },
   "outputs": [
    {
     "name": "stdout",
     "output_type": "stream",
     "text": [
      "{1: ['Jean Castro', 'V'], 2: ['Lula Powell', 'V'], 3: ['Brian Howell', 'VI'], 4: ['Lynne Foster', 'VI'], 5: ['Zachary Simon', 'VII']}\n"
     ]
    }
   ],
   "source": [
    "x=[[1, 'Jean Castro', 'V'], [2, 'Lula Powell', 'V'], [3, 'Brian Howell', 'VI'], [4, 'Lynne Foster', 'VI'], [5, 'Zachary Simon', 'VII']]\n",
    "j=[i[0] for i in x]\n",
    "k=[l[1:] for l in x]\n",
    "d={a:b for a,b in zip(j,k) }\n",
    "print(d)"
   ]
  },
  {
   "cell_type": "code",
   "execution_count": 206,
   "id": "cbf6b049-fc38-454a-b583-ea6f09ed732c",
   "metadata": {
    "tags": []
   },
   "outputs": [
    {
     "name": "stdout",
     "output_type": "stream",
     "text": [
      "[{1: 'Jean Castro', 2: 'Lula Powell', 3: 'Brian Howell', 4: 'Lynne Foster', 5: 'Zachary Simon'}]\n"
     ]
    }
   ],
   "source": [
    "x={1: ['Jean Castro'], 2: ['Lula Powell'], 3: ['Brian Howell'], 4: ['Lynne Foster'], 5: ['Zachary Simon']}\n",
    "c=[j for i in x.values() for j in i]\n",
    "a=[m for m in x.keys() ]\n",
    "d=[{n:k for n,k in zip(a,c)}]\n",
    "print(d)"
   ]
  },
  {
   "cell_type": "code",
   "execution_count": 220,
   "id": "924e8ccf-f551-4faa-8ff4-12bb4a181c56",
   "metadata": {
    "tags": []
   },
   "outputs": [
    {
     "name": "stdout",
     "output_type": "stream",
     "text": [
      "Original dictionary:\n",
      "{'#FF0000': 'Red', '#800000': 'Maroon', '#FFFF00': 'Yellow', '#808000': 'Olive'}\n",
      "...............................................................................\n",
      "Total length of all values of the said dictionary with string values:\n",
      "20\n"
     ]
    }
   ],
   "source": [
    "x={'#FF0000': 'Red', '#800000': 'Maroon', '#FFFF00': 'Yellow', '#808000': 'Olive'}\n",
    "c=sum(len(i) for i in x.values())\n",
    "print(\"Original dictionary:\")\n",
    "print(x)\n",
    "print('...............................................................................')\n",
    "print('Total length of all values of the said dictionary with string values:\\n',c,sep='')"
   ]
  },
  {
   "cell_type": "code",
   "execution_count": 223,
   "id": "4a20be76-f27a-48a7-83ac-26d6b96fbd29",
   "metadata": {
    "tags": []
   },
   "outputs": [
    {
     "name": "stdout",
     "output_type": "stream",
     "text": [
      "Original dictionary:\n",
      "\n",
      "[{'student_id': 1, 'name': 'Jean Castro', 'class': 'V'}, {'student_id': 2, 'name': 'Lula Powell', 'class': 'V'}, {'student_id': 3, 'name': 'Brian Howell', 'class': 'VI'}, {'student_id': 4, 'name': 'Lynne Foster', 'class': 'VI'}, {'student_id': 5, 'name': 'Zachary Simon', 'class': 'VII'}]\n",
      "...............................................................................\n",
      "Check if a specific Key and a value exist in the said dictionary:\n",
      "True\n",
      "True\n",
      "True\n",
      "False\n",
      "False\n",
      "False\n"
     ]
    }
   ],
   "source": [
    "x=[{'student_id': 1, 'name': 'Jean Castro', 'class': 'V'}, {'student_id': 2, 'name': 'Lula Powell', 'class': 'V'}, {'student_id': 3, 'name': 'Brian Howell', 'class': 'VI'}, {'student_id': 4, 'name': 'Lynne Foster', 'class': 'VI'}, {'student_id': 5, 'name': 'Zachary Simon', 'class': 'VII'}]\n",
    "def test(x,i,j):\n",
    "    if any(a[i]==j for a in x):\n",
    "        return True\n",
    "    return False\n",
    "print(\"Original dictionary:\\n\")\n",
    "print(students)\n",
    "print('...............................................................................')\n",
    "print(\"Check if a specific Key and a value exist in the said dictionary:\")\n",
    "print(test(students, 'student_id', 1))\n",
    "print(test(students, 'name', 'Brian Howell'))\n",
    "print(test(students, 'class', 'VII'))\n",
    "print(test(students, 'class', 'I'))\n",
    "print(test(students, 'name', 'Brian Howelll'))\n",
    "print(test(students, 'student_id', 11)) "
   ]
  },
  {
   "cell_type": "code",
   "execution_count": 224,
   "id": "69f26642-b3f6-40ae-8b16-1374ada0fddf",
   "metadata": {
    "tags": []
   },
   "outputs": [
    {
     "name": "stdout",
     "output_type": "stream",
     "text": [
      "{8: ['Ora Mckinney', 'Mathew Gilbert'], 7: ['Theodore Hollandl', 'Mae Fleming', 'Ivan Little']}\n"
     ]
    }
   ],
   "source": [
    "from collections import defaultdict\n",
    "def test(x):\n",
    "    o=defaultdict(list)\n",
    "    for i,j in x.items():\n",
    "        o[j].append(i)\n",
    "    return dict(o)\n",
    "x={\n",
    "  'Ora Mckinney': 8,\n",
    "  'Theodore Hollandl': 7,\n",
    "  'Mae Fleming': 7,\n",
    "  'Mathew Gilbert': 8,\n",
    "  'Ivan Little': 7,\n",
    "}\n",
    "print(test(x))"
   ]
  },
  {
   "cell_type": "code",
   "execution_count": 231,
   "id": "768175c3-d0f4-411a-bb81-919576bcb870",
   "metadata": {
    "tags": []
   },
   "outputs": [
    {
     "name": "stdout",
     "output_type": "stream",
     "text": [
      "{'w': [50], 'x': [100, 300], 'y': ['Green', 'Red'], 'z': [400, 600]}\n"
     ]
    }
   ],
   "source": [
    "from collections import defaultdict\n",
    "x={'w': 50, 'x': 100, 'y': 'Green', 'z': 400}\n",
    "y={'x': 300, 'y': 'Red', 'z': 600}\n",
    "def test(*d):\n",
    "    z=defaultdict(list)\n",
    "    for i in d:\n",
    "        for j in i:\n",
    "            z[j].append(i[j])\n",
    "    return dict(z)\n",
    "print(test(x,y)) "
   ]
  },
  {
   "cell_type": "code",
   "execution_count": 238,
   "id": "7d6d3f00-e24d-49a2-aff8-1ef2bf3275b1",
   "metadata": {
    "tags": []
   },
   "outputs": [
    {
     "name": "stdout",
     "output_type": "stream",
     "text": [
      "{7: [7], 23: [23], 3: [3.2, 3.3], 8: [8.4]}\n",
      "{3: ['Red'], 5: ['Green', 'Black', 'White'], 4: ['Pink']}\n"
     ]
    }
   ],
   "source": [
    "from collections import defaultdict\n",
    "from math import floor\n",
    "def test(x,n):\n",
    "    d=defaultdict(list)\n",
    "    for i in x:\n",
    "        k=n(i)\n",
    "        d[k].append(i)\n",
    "    return dict(d)\n",
    "x=[7, 23, 3.2, 3.3, 8.4]\n",
    "print(test(x,floor))\n",
    "x=['Red', 'Green', 'Black', 'White', 'Pink']\n",
    "print(test(x,len))"
   ]
  },
  {
   "cell_type": "code",
   "execution_count": 239,
   "id": "782f91bf-a4e9-4e73-bb6a-0b40ec5642d2",
   "metadata": {
    "tags": []
   },
   "outputs": [
    {
     "name": "stdout",
     "output_type": "stream",
     "text": [
      "{1: 1, 2: 4, 3: 9, 4: 16}\n"
     ]
    }
   ],
   "source": [
    "def test(x,n):\n",
    "    return dict(zip(x,map(n,x)))\n",
    "r=test([1,2,3,4], lambda i: i*i)\n",
    "print(r)"
   ]
  },
  {
   "cell_type": "code",
   "execution_count": 244,
   "id": "e50632a3-36b3-44d1-b018-dc3eac9c716a",
   "metadata": {
    "tags": []
   },
   "outputs": [
    {
     "name": "stdout",
     "output_type": "stream",
     "text": [
      "Russell\n",
      "2\n"
     ]
    }
   ],
   "source": [
    "from functools import reduce\n",
    "from operator import getitem\n",
    "def test(d,s):\n",
    "    return reduce(getitem,s,d)\n",
    "users = {\n",
    "    'Carla ': {\n",
    "        'name': {\n",
    "            'first': 'Carla ',\n",
    "            'last': 'Russell'\n",
    "        },\n",
    "        'postIds': [1, 2, 3, 4, 5]\n",
    "    }\n",
    "}\n",
    "print(test(users, ['Carla ', 'name', 'last']))\n",
    "print(test(users, ['Carla ', 'postIds', 1])) "
   ]
  },
  {
   "cell_type": "code",
   "execution_count": 246,
   "id": "9be36555-318e-416e-ad4a-8c88436ad615",
   "metadata": {
    "tags": []
   },
   "outputs": [
    {
     "name": "stdout",
     "output_type": "stream",
     "text": [
      "{10: 'Theodore', 11: 'Mathew', 9: 'Roxanne'}\n"
     ]
    }
   ],
   "source": [
    "def test(x):\n",
    "    return {j:i for i, j in x.items()}\n",
    "x={\n",
    "    'Theodore': 10,\n",
    "    'Mathew': 11,\n",
    "    'Roxanne': 9,\n",
    "}\n",
    "print(test(x))"
   ]
  },
  {
   "cell_type": "code",
   "execution_count": 260,
   "id": "2f5f12ab-087f-429a-9de8-82c0aa63c4d6",
   "metadata": {
    "tags": []
   },
   "outputs": [
    {
     "name": "stdout",
     "output_type": "stream",
     "text": [
      "[18, 22, 20, 18]\n",
      ".....................................................\n",
      "['Theodore', 'Mathew', 'Roxanne', 'David']\n"
     ]
    }
   ],
   "source": [
    "x=[{'name': 'Theodore', 'age': 18}, {'name': 'Mathew', 'age': 22}, {'name': 'Roxanne', 'age': 20}, {'name': 'David', 'age': 18}]\n",
    "c=[i.get('age') for i in x]\n",
    "print(c)\n",
    "print('.....................................................')\n",
    "c=[i.get('name') for i in x]\n",
    "print(c)"
   ]
  },
  {
   "cell_type": "code",
   "execution_count": 261,
   "id": "82f40417-2d53-43cc-98ff-ad4abb2b0fe6",
   "metadata": {
    "tags": []
   },
   "outputs": [
    {
     "name": "stdout",
     "output_type": "stream",
     "text": [
      "{'Theodore': 45, 'Roxanne': 15, 'Mathew': 21}\n"
     ]
    }
   ],
   "source": [
    "def test (x,n):\n",
    "    return dict((k,n(v)) for k,v in x.items())\n",
    "x={\n",
    "    'Theodore': {'user': 'Theodore', 'age': 45},\n",
    "    'Roxanne': {'user': 'Roxanne', 'age': 15},\n",
    "    'Mathew': {'user': 'Mathew', 'age': 21},\n",
    "}\n",
    "\n",
    "print(test(x, lambda i:i['age']))"
   ]
  },
  {
   "cell_type": "code",
   "execution_count": 267,
   "id": "8470b550-d6e9-418a-abe4-933e12243fe6",
   "metadata": {
    "tags": []
   },
   "outputs": [
    {
     "name": "stdout",
     "output_type": "stream",
     "text": [
      "['Roxanne', 'Betty']\n"
     ]
    }
   ],
   "source": [
    "x={'Theodore': 19, 'Roxanne': 20, 'Mathew': 21, 'Betty': 20}\n",
    "n=20\n",
    "z=[i for i,j in x.items() if j==n]\n",
    "print(z)"
   ]
  },
  {
   "cell_type": "code",
   "execution_count": 278,
   "id": "2ef421ef-c7fc-4bef-9559-3918da6c9d0d",
   "metadata": {
    "tags": []
   },
   "outputs": [
    {
     "name": "stdout",
     "output_type": "stream",
     "text": [
      "{'a': 1, 'b': 2, 'c': 3, 'd': 4, 'e': 5}\n",
      ".....................................................................\n",
      "{'a': 1, 'b': 2, 'c': 3, 'd': 4, 'e': 5}\n"
     ]
    }
   ],
   "source": [
    "x=['a', 'b', 'c', 'd', 'e', 'f']\n",
    "y=[1, 2, 3, 4, 5]\n",
    "z={i:j for i,j in zip(x,y)}\n",
    "print(z)\n",
    "print('.....................................................................')\n",
    "p=dict(zip(x,y))\n",
    "print(p)"
   ]
  },
  {
   "cell_type": "code",
   "execution_count": 281,
   "id": "b9afa6bf-9951-4eda-ae66-08e5af1633a9",
   "metadata": {
    "tags": []
   },
   "outputs": [
    {
     "name": "stdout",
     "output_type": "stream",
     "text": [
      "[('Red', 1), ('Green', 3), ('White', 5), ('Black', 2), ('Pink', 4)]\n"
     ]
    }
   ],
   "source": [
    "x={'Red': 1, 'Green': 3, 'White': 5, 'Black': 2, 'Pink': 4}\n",
    "z=[]\n",
    "for i in x.items():\n",
    "    z.append(i)\n",
    "print(z)"
   ]
  },
  {
   "cell_type": "code",
   "execution_count": 285,
   "id": "b4e76997-05bb-4d68-981c-c08640157605",
   "metadata": {
    "tags": []
   },
   "outputs": [
    {
     "name": "stdout",
     "output_type": "stream",
     "text": [
      "['Theodore', 'Roxanne', 'Mathew', 'Betty']\n"
     ]
    }
   ],
   "source": [
    "x={'Theodore': 19, 'Roxanne': 20, 'Mathew': 21, 'Betty': 20}\n",
    "z=list(x.keys())\n",
    "print(z)"
   ]
  },
  {
   "cell_type": "code",
   "execution_count": 286,
   "id": "3b5003cb-4cc4-4589-9a7a-f0756227a759",
   "metadata": {
    "tags": []
   },
   "outputs": [
    {
     "name": "stdout",
     "output_type": "stream",
     "text": [
      "[19, 20, 21, 20]\n"
     ]
    }
   ],
   "source": [
    "x={'Theodore': 19, 'Roxanne': 20, 'Mathew': 21, 'Betty': 20}\n",
    "z=list(x.values())\n",
    "print(z)"
   ]
  },
  {
   "cell_type": "code",
   "execution_count": 294,
   "id": "b3e575da-689a-4998-88d4-398068d30694",
   "metadata": {
    "tags": []
   },
   "outputs": [
    {
     "name": "stdout",
     "output_type": "stream",
     "text": [
      "('Roxanne', 'Theodore')\n"
     ]
    }
   ],
   "source": [
    "x={'Theodore': 19, 'Roxanne': 22, 'Mathew': 21, 'Betty': 20}\n",
    "print((max(x,key=x.get), min(x,key=x.get)))"
   ]
  },
  {
   "cell_type": "code",
   "execution_count": null,
   "id": "3547b08f-f788-4649-afd8-a392331037c6",
   "metadata": {},
   "outputs": [],
   "source": []
  }
 ],
 "metadata": {
  "kernelspec": {
   "display_name": "Python 3 (ipykernel)",
   "language": "python",
   "name": "python3"
  },
  "language_info": {
   "codemirror_mode": {
    "name": "ipython",
    "version": 3
   },
   "file_extension": ".py",
   "mimetype": "text/x-python",
   "name": "python",
   "nbconvert_exporter": "python",
   "pygments_lexer": "ipython3",
   "version": "3.11.3"
  }
 },
 "nbformat": 4,
 "nbformat_minor": 5
}
