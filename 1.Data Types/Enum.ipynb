{
 "cells": [
  {
   "cell_type": "code",
   "execution_count": 4,
   "id": "786da110-ff8f-4cb9-919d-e201cb5714fe",
   "metadata": {},
   "outputs": [
    {
     "name": "stdout",
     "output_type": "stream",
     "text": [
      "Member name: Albania\n",
      "Member value: 355\n"
     ]
    }
   ],
   "source": [
    "##Q1.Write a Python program to create an Enum object and display a member name and value.\n",
    "from enum import Enum\n",
    "class Country(Enum):\n",
    "    Afghanistan = 93\n",
    "    Albania = 355\n",
    "    Algeria = 213\n",
    "    Andorra = 376\n",
    "    Angola = 244\n",
    "    Antarctica = 672\n",
    "print('Member name: {}'.format(Country.Albania.name))\n",
    "print('Member value: {}'.format(Country.Albania.value))"
   ]
  },
  {
   "cell_type": "code",
   "execution_count": 13,
   "id": "c2482da3-32fd-41d2-a804-009c0e4ef991",
   "metadata": {
    "tags": []
   },
   "outputs": [
    {
     "name": "stdout",
     "output_type": "stream",
     "text": [
      "Afghanistan= 93\n",
      "Albania    = 355\n",
      "Algeria    = 213\n",
      "Andorra    = 376\n",
      "Angola     = 244\n",
      "Antarctica = 672\n"
     ]
    }
   ],
   "source": [
    "##Q2. Write a Python program that iterates over an enum class and displays each member and their value.\n",
    "from enum import Enum\n",
    "class Country(Enum):\n",
    "    Afghanistan = 93\n",
    "    Albania = 355\n",
    "    Algeria = 213\n",
    "    Andorra = 376\n",
    "    Angola = 244\n",
    "    Antarctica = 672\n",
    "for i in Country:\n",
    "    print('{:11}= {}'.format(i.name,i.value))"
   ]
  },
  {
   "cell_type": "code",
   "execution_count": 22,
   "id": "24fc4da3-333d-4871-8bfa-154ed5a82c05",
   "metadata": {
    "tags": []
   },
   "outputs": [
    {
     "name": "stdout",
     "output_type": "stream",
     "text": [
      "  Afghanistan\n",
      "  Algeria\n",
      "  Angola\n",
      "  Albania\n",
      "  Andorra\n",
      "  Antarctica\n"
     ]
    }
   ],
   "source": [
    "##Q3.Write a Python program to display all the member names of an enum class ordered by their values.\n",
    "import enum\n",
    "class Country(enum.IntEnum):\n",
    "    Afghanistan = 93\n",
    "    Albania = 355\n",
    "    Algeria = 213\n",
    "    Andorra = 376\n",
    "    Angola = 244\n",
    "    Antarctica = 672\n",
    "print('\\n'.join('  '+ i.name for i in sorted(Country)))"
   ]
  },
  {
   "cell_type": "code",
   "execution_count": 31,
   "id": "18ad91ac-c6f1-427c-9caf-02bd25f1cbe2",
   "metadata": {
    "tags": []
   },
   "outputs": [
    {
     "name": "stdout",
     "output_type": "stream",
     "text": [
      "[93, 355, 213, 376, 244, 672]\n",
      "...................................................................\n",
      "[93, 355, 213, 376, 244, 672]\n"
     ]
    }
   ],
   "source": [
    "##Q4. Write a Python program to get all values from an enum class.\n",
    "from enum import Enum\n",
    "class Country(Enum):\n",
    "    Afghanistan = 93\n",
    "    Albania = 355\n",
    "    Algeria = 213\n",
    "    Andorra = 376\n",
    "    Angola = 244\n",
    "    Antarctica = 672\n",
    "p=[]\n",
    "for i in Country:\n",
    "    p.append(int('{}'.format(i.value)))\n",
    "print(p)\n",
    "###########################################################################\n",
    "print('...................................................................')\n",
    "from enum import IntEnum\n",
    "class Country(IntEnum):\n",
    "    Afghanistan = 93\n",
    "    Albania = 355\n",
    "    Algeria = 213\n",
    "    Andorra = 376\n",
    "    Angola = 244\n",
    "    Antarctica = 672\n",
    "country_code_list = list(map(int, Country))\n",
    "print(country_code_list)"
   ]
  },
  {
   "cell_type": "code",
   "execution_count": 33,
   "id": "24e19043-a579-42fb-9430-e11c5b36a94b",
   "metadata": {
    "tags": []
   },
   "outputs": [
    {
     "name": "stdout",
     "output_type": "stream",
     "text": [
      "Afghanistan = 93\n",
      "Albania     = 355\n",
      "Algeria     = 213\n",
      "Andorra     = 376\n",
      "Angola      = 244\n"
     ]
    }
   ],
   "source": [
    "##Q5.Write a Python program to get unique enumeration values.\n",
    "import enum\n",
    "class Country(enum.Enum):\n",
    "    Afghanistan = 93\n",
    "    Albania = 355\n",
    "    Algeria = 213\n",
    "    Andorra = 376\n",
    "    Angola = 244\n",
    "    India = 355\n",
    "    USA = 213\n",
    "for i in Country:\n",
    "    print('{:11} = {}'.format(i.name,i.value))"
   ]
  }
 ],
 "metadata": {
  "kernelspec": {
   "display_name": "Python 3 (ipykernel)",
   "language": "python",
   "name": "python3"
  },
  "language_info": {
   "codemirror_mode": {
    "name": "ipython",
    "version": 3
   },
   "file_extension": ".py",
   "mimetype": "text/x-python",
   "name": "python",
   "nbconvert_exporter": "python",
   "pygments_lexer": "ipython3",
   "version": "3.11.3"
  }
 },
 "nbformat": 4,
 "nbformat_minor": 5
}
