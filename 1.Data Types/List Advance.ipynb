{
 "cells": [
  {
   "cell_type": "code",
   "execution_count": 7,
   "id": "a9655500-b09f-4eb4-8bc5-f36a3a4d8dd1",
   "metadata": {
    "tags": []
   },
   "outputs": [
    {
     "name": "stdin",
     "output_type": "stream",
     "text": [
      " 2\n",
      " 4\n"
     ]
    },
    {
     "name": "stdout",
     "output_type": "stream",
     "text": [
      "[1, 2, 7, 5, 3, 8, 9, 4, 6]\n",
      "......................................................................\n"
     ]
    },
    {
     "name": "stdin",
     "output_type": "stream",
     "text": [
      " 6\n",
      " 8\n"
     ]
    },
    {
     "name": "stdout",
     "output_type": "stream",
     "text": [
      "[1, 2, 3, 5, 7, 8, 6, 4, 9]\n",
      "......................................................................\n"
     ]
    },
    {
     "name": "stdin",
     "output_type": "stream",
     "text": [
      " 0\n",
      " 8\n"
     ]
    },
    {
     "name": "stdout",
     "output_type": "stream",
     "text": [
      "[6, 4, 9, 8, 7, 5, 3, 2, 1]\n"
     ]
    }
   ],
   "source": [
    "def reverse_list(x,m,n):\n",
    "    while m<n:\n",
    "        x[m],x[n]=x[n],x[m]\n",
    "        m+=1\n",
    "        n-=1\n",
    "    return x\n",
    "x=[1,2,3,5,7,8,9,4,6]\n",
    "m=int(input())\n",
    "n=int(input())\n",
    "print(reverse_list(x,m,n))\n",
    "#############################################################################\n",
    "print('......................................................................')\n",
    "x=[1,2,3,5,7,8,9,4,6]\n",
    "m=int(input())\n",
    "n=int(input())\n",
    "print(reverse_list(x,m,n))\n",
    "#############################################################################\n",
    "print('......................................................................')\n",
    "x=[1,2,3,5,7,8,9,4,6]\n",
    "m=int(input())\n",
    "n=int(input())\n",
    "print(reverse_list(x,m,n))"
   ]
  },
  {
   "cell_type": "code",
   "execution_count": 13,
   "id": "13c68e42-68f1-4b6e-a542-24525c6af199",
   "metadata": {
    "tags": []
   },
   "outputs": [
    {
     "name": "stdout",
     "output_type": "stream",
     "text": [
      "8\n",
      "......................................................................\n",
      "5\n",
      "......................................................................\n",
      "1\n"
     ]
    }
   ],
   "source": [
    "def longest_sub(x):\n",
    "    n=len(x)\n",
    "    a=[1] * n\n",
    "    for i in range(1,n):\n",
    "        for j in range(i):\n",
    "            if x[i]>x[j]:\n",
    "                a[i]=max(a[i],a[j] +1)\n",
    "    return max(a)\n",
    "x=[10, 20, 30, 40, 50, 60, 70, 80]\n",
    "print(longest_sub(x))\n",
    "#############################################################################\n",
    "print('......................................................................')\n",
    "y=[10, 20, 30, 40, 50, 30, 30, 20]\n",
    "print(longest_sub(y))\n",
    "#############################################################################\n",
    "print('......................................................................')\n",
    "x=[-1, -2, -3, -4, -5, -11, -12, -13]\n",
    "print(longest_sub(x))"
   ]
  },
  {
   "cell_type": "code",
   "execution_count": 19,
   "id": "edfea039-7862-4b2f-a8cb-95185fa8577f",
   "metadata": {
    "tags": []
   },
   "outputs": [
    {
     "name": "stdout",
     "output_type": "stream",
     "text": [
      "[[1, 2, 3, 4], [1, 2, 4, 3], [1, 3, 2, 4], [1, 3, 4, 2], [1, 4, 2, 3], [1, 4, 3, 2], [2, 1, 3, 4], [2, 1, 4, 3], [2, 3, 1, 4], [2, 3, 4, 1], [2, 4, 1, 3], [2, 4, 3, 1], [3, 1, 2, 4], [3, 1, 4, 2], [3, 2, 1, 4], [3, 2, 4, 1], [3, 4, 1, 2], [3, 4, 2, 1], [4, 1, 2, 3], [4, 1, 3, 2], [4, 2, 1, 3], [4, 2, 3, 1], [4, 3, 1, 2], [4, 3, 2, 1]]\n",
      "......................................................................\n",
      "[[-100, -300, 0], [-100, 0, -300], [-300, -100, 0], [-300, 0, -100], [0, -100, -300], [0, -300, -100]]\n"
     ]
    }
   ],
   "source": [
    "def permutation(x):\n",
    "    if len(x) ==0:\n",
    "        return []\n",
    "    if len(x) ==1:\n",
    "        return[x]\n",
    "    p=[]\n",
    "    for i in range(len(x)):\n",
    "        m=x[i]\n",
    "        r=x[:i] + x[i+1:]\n",
    "        for j in permutation(r):\n",
    "            p.append([m] +j)\n",
    "    return p\n",
    "x=[1,2,3,4]\n",
    "print(permutation(x))\n",
    "#############################################################################\n",
    "print('......................................................................')\n",
    "x=[-100, -300, 0]\n",
    "print(permutation(x))"
   ]
  },
  {
   "cell_type": "code",
   "execution_count": 24,
   "id": "2f2ac085-0abc-4abf-962a-d2552e436004",
   "metadata": {
    "tags": []
   },
   "outputs": [
    {
     "name": "stdout",
     "output_type": "stream",
     "text": [
      "kth smallest element in the said list, when k = 1\n",
      "1\n",
      "kth smallest element in the said list, when k = 2\n",
      "1\n",
      "kth smallest element in the said list, when k = 3\n",
      "2\n",
      "kth smallest element in the said list, when k = 4\n",
      "2\n",
      "kth smallest element in the said list, when k = 5\n",
      "3\n",
      "kth smallest element in the said list, when k = 6\n",
      "4\n",
      "kth smallest element in the said list, when k = 7\n",
      "4\n",
      "kth smallest element in the said list, when k = 8\n",
      "5\n",
      "kth smallest element in the said list, when k = 9\n",
      "6\n",
      "kth smallest element in the said list, when k = 10\n",
      "9\n"
     ]
    }
   ],
   "source": [
    "def k_smallest(x,k):\n",
    "    x.sort()\n",
    "    return x[k-1]\n",
    "x=[1, 2, 4, 3, 5, 4, 6, 9, 2, 1]\n",
    "k=1\n",
    "for i in range(1,11):\n",
    "    print(\"kth smallest element in the said list, when k =\", k)\n",
    "    print(k_smallest(x,k))\n",
    "    k+=1"
   ]
  },
  {
   "cell_type": "code",
   "execution_count": 25,
   "id": "c64a22a2-7cf2-446c-b6f3-e721e8e8a66a",
   "metadata": {
    "tags": []
   },
   "outputs": [
    {
     "name": "stdout",
     "output_type": "stream",
     "text": [
      "kth smallest element in the said list, when k = 1\n",
      "9\n",
      "kth smallest element in the said list, when k = 2\n",
      "6\n",
      "kth smallest element in the said list, when k = 3\n",
      "5\n",
      "kth smallest element in the said list, when k = 4\n",
      "4\n",
      "kth smallest element in the said list, when k = 5\n",
      "4\n",
      "kth smallest element in the said list, when k = 6\n",
      "3\n",
      "kth smallest element in the said list, when k = 7\n",
      "2\n",
      "kth smallest element in the said list, when k = 8\n",
      "2\n",
      "kth smallest element in the said list, when k = 9\n",
      "1\n",
      "kth smallest element in the said list, when k = 10\n",
      "1\n"
     ]
    }
   ],
   "source": [
    "def k_largest(x,k):\n",
    "    x.sort(reverse=True)\n",
    "    return x[k-1]\n",
    "x=[1, 2, 4, 3, 5, 4, 6, 9, 2, 1]\n",
    "k=1\n",
    "for i in range(1,11):\n",
    "    print(\"kth smallest element in the said list, when k =\", k)\n",
    "    print(k_largest(x,k))\n",
    "    k+=1"
   ]
  },
  {
   "cell_type": "code",
   "execution_count": 28,
   "id": "7519c99e-31c2-47bb-b0a4-39dc65915e16",
   "metadata": {
    "tags": []
   },
   "outputs": [
    {
     "name": "stdout",
     "output_type": "stream",
     "text": [
      "False\n",
      "......................................................................\n",
      "True\n",
      "......................................................................\n",
      "False\n",
      "......................................................................\n",
      "True\n"
     ]
    }
   ],
   "source": [
    "\n",
    "'''Following solution uses the slicing method [::-1] to reverse the list. \n",
    "If the reversed list is equal to the original list, then the list is a palindrome.'''\n",
    "def is_palindrome(x):\n",
    "    return x==x[::-1]\n",
    "x=[1, 2, 4, 3, 5, 4, 6, 9, 2, 1]\n",
    "print(is_palindrome(x))\n",
    "#############################################################################\n",
    "print('......................................................................')\n",
    "x=[1, 2, 4, 3, 3,4,2,1]\n",
    "print(is_palindrome(x))\n",
    "#############################################################################\n",
    "print('......................................................................')\n",
    "x=[\"Red\", \"Green\", \"Blue\"]\n",
    "print(is_palindrome(x))\n",
    "#############################################################################\n",
    "print('......................................................................')\n",
    "x=[\"Red\", \"Green\", \"Red\"]\n",
    "print(is_palindrome(x))"
   ]
  },
  {
   "cell_type": "code",
   "execution_count": 41,
   "id": "b3f1904d-4e7d-4f8e-97b1-7369452d7e7e",
   "metadata": {
    "tags": []
   },
   "outputs": [
    {
     "name": "stdout",
     "output_type": "stream",
     "text": [
      "[5, 9]\n",
      "[0, 1, 2, 3, 4, 5, 6, 7, 8, 9]\n"
     ]
    }
   ],
   "source": [
    "x=[1,2,3,4,5,9]\n",
    "y=[6,5,9,8,7,0]\n",
    "def union_intersection(x,y):\n",
    "    m=[i for i in x if i in y]\n",
    "    n=list(set(x) | set(y))\n",
    "    return m,n\n",
    "p=(union_intersection(x,y))\n",
    "print(p[0])\n",
    "print(p[1])"
   ]
  },
  {
   "cell_type": "code",
   "execution_count": 45,
   "id": "584b55ea-ae33-4476-ae19-721b15327ecc",
   "metadata": {
    "tags": []
   },
   "outputs": [
    {
     "name": "stdout",
     "output_type": "stream",
     "text": [
      "[0, 1, 2, 3, 4, 5, 6, 7, 8, 9]\n",
      "......................................................................\n",
      "[1, 2, 4, 3, 5, 6, 9]\n",
      "......................................................................\n",
      "['a', 'b', 'c', 'd', 'e']\n"
     ]
    }
   ],
   "source": [
    "x=[1,2,3,4,5,9,6,5,9,8,7,0]\n",
    "def remove_duplicate(x):\n",
    "    return list(set(x))\n",
    "print(remove_duplicate(x))\n",
    "#############################################################################\n",
    "print('......................................................................')\n",
    "from collections import OrderedDict\n",
    "def remove_duplicate(x):\n",
    "    return list(OrderedDict.fromkeys(x))\n",
    "x=[1, 2, 4, 3, 5, 4, 6, 9, 2, 1]\n",
    "print(remove_duplicate(x))\n",
    "#############################################################################\n",
    "print('......................................................................')\n",
    "x=['a', 'a', 'b', 'a', 'a', 'c', 'c', 'c', 'd', 'e', 'a', 'b', 'b', 'b']\n",
    "print(remove_duplicate(x))"
   ]
  },
  {
   "cell_type": "code",
   "execution_count": 47,
   "id": "14447f54-ab1d-4f97-a746-d2c8c22dfd0c",
   "metadata": {
    "tags": []
   },
   "outputs": [
    {
     "name": "stdout",
     "output_type": "stream",
     "text": [
      "6\n",
      "......................................................................\n",
      "36\n",
      "......................................................................\n",
      "29\n",
      "......................................................................\n",
      "15\n"
     ]
    }
   ],
   "source": [
    "def max_sum_subsequence(a):\n",
    "    n=len(a)\n",
    "    d=[0 for i in range(n)]\n",
    "    d[0]=a[0]\n",
    "    for i in range(1,n):\n",
    "        d[i]=max(a[i],d[i-1]+a[i])\n",
    "    return max(d)\n",
    "x=[1, 2, 3]\n",
    "print(max_sum_subsequence(x))\n",
    "#############################################################################\n",
    "print('......................................................................')\n",
    "x=[1, 2, 4, 3, 5, 4, 6, 9, 2, -10]\n",
    "print(max_sum_subsequence(x))\n",
    "#############################################################################\n",
    "print('......................................................................')\n",
    "x=[1, 2, -4, 3, 5, 4, 6, 9, 2, -10]\n",
    "print(max_sum_subsequence(x))\n",
    "#############################################################################\n",
    "print('......................................................................')\n",
    "x=[1, 2, 4, 3, 5, -24, 6, 9, -2]\n",
    "print(max_sum_subsequence(x))"
   ]
  },
  {
   "cell_type": "code",
   "execution_count": 55,
   "id": "710ee307-3c4e-4685-9b5b-1e4e67418f25",
   "metadata": {
    "tags": []
   },
   "outputs": [
    {
     "name": "stdout",
     "output_type": "stream",
     "text": [
      "[1]\n",
      "......................................................................\n",
      "[-10]\n",
      "......................................................................\n",
      "[-3, -5, -4]\n",
      "......................................................................\n",
      "[-24, 4, 9, -22]\n"
     ]
    }
   ],
   "source": [
    "def min_sum_subsequence(a):\n",
    "    n=float('inf')\n",
    "    s,e=0, 0\n",
    "    cs,cd=0,0\n",
    "    for i in range(len(a)):\n",
    "        cs += a[i]\n",
    "        if cs<n:\n",
    "            n=cs\n",
    "            s=cd \n",
    "            e=i \n",
    "        if cs>0:\n",
    "            cs=0\n",
    "            cd=i+1\n",
    "    return a[s:e+1]\n",
    "x=[1, 2, 3]\n",
    "print(min_sum_subsequence(x))\n",
    "#############################################################################\n",
    "print('......................................................................')\n",
    "x=[1, -2, 4, 3, 5, 4, 6, 9, 2, -10]\n",
    "print(min_sum_subsequence(x))\n",
    "#############################################################################\n",
    "print('......................................................................')\n",
    "x=[2, 4, -3, -5, -4, 6, 9, 2]\n",
    "print(min_sum_subsequence(x))\n",
    "#############################################################################\n",
    "print('......................................................................')\n",
    "x=[1, 2, 4, 3, 5, -24, 4, 9, -22]\n",
    "print(min_sum_subsequence(x))"
   ]
  },
  {
   "cell_type": "code",
   "execution_count": 6,
   "id": "7270cff2-b5f2-4453-98db-48a98d1a13c8",
   "metadata": {},
   "outputs": [
    {
     "name": "stdout",
     "output_type": "stream",
     "text": [
      "[5, 6, 7, 8]\n",
      "......................................................................\n",
      "[]\n",
      "......................................................................\n",
      "[1]\n",
      "......................................................................\n",
      "[3, 5, 8]\n"
     ]
    }
   ],
   "source": [
    "def longest_common_subsequence(x,y):\n",
    "    m,n = len(x),len(y)\n",
    "    jh=[[0 for j in range(n+1)] for i in range(m+1)]\n",
    "    for i in range(1,m+1):\n",
    "        for j in range(1,n+1):\n",
    "            if x[i-1]==y[j-1]:\n",
    "                jh[i][j]=1+jh[i-1][j-1]\n",
    "            else:\n",
    "                jh[i][j]=max(jh[i-1][j],jh[i][j-1])\n",
    "    r=[]\n",
    "    i,j=m,n\n",
    "    while i>0 and j>0:\n",
    "        if x[i-1]==y[j-1]:\n",
    "            r.append(x[i-1])\n",
    "            i-=1\n",
    "            j-=1\n",
    "        elif jh[i-1][j]>jh[i][j-1]:\n",
    "            i-=1\n",
    "        else: j-=1\n",
    "    return r[::-1]\n",
    "nums1 =  [1, 2, 3, 4, 5, 6, 7, 8]\n",
    "nums2 =  [6, 7, 5, 6, 7, 8]\n",
    "result = longest_common_subsequence(nums1, nums2)\n",
    "print(result)\n",
    "#############################################################################\n",
    "print('......................................................................')\n",
    "nums1 =  [1, 3, 5, 7]\n",
    "nums2 =  [2, 4, 6, 8]\n",
    "result = longest_common_subsequence(nums1, nums2)\n",
    "print(result)\n",
    "#############################################################################\n",
    "print('......................................................................')\n",
    "nums1 =  [1, 3, 5, 7]\n",
    "nums2 =  [1, 2, 4, 6, 8]\n",
    "result = longest_common_subsequence(nums1, nums2)\n",
    "print(result)\n",
    "#############################################################################\n",
    "print('......................................................................')\n",
    "nums1 =  [3, 5, 1, 8, 8]\n",
    "nums2 =  [3, 3, 5, 3, 8]\n",
    "result = longest_common_subsequence(nums1, nums2)\n",
    "print(result)"
   ]
  },
  {
   "cell_type": "code",
   "execution_count": 10,
   "id": "8ba29f79-6100-48a0-803a-8edfd395ed21",
   "metadata": {
    "tags": []
   },
   "outputs": [
    {
     "name": "stdout",
     "output_type": "stream",
     "text": [
      "1\n",
      "......................................................................\n",
      "3\n",
      "......................................................................\n",
      "None\n"
     ]
    }
   ],
   "source": [
    "def first_non_repeated(x):\n",
    "    c={}\n",
    "    for i in x:\n",
    "        if i in c:\n",
    "            c[i]+=1\n",
    "        else:\n",
    "            c[i]=1\n",
    "    for i in x:\n",
    "        if c[i]==1:\n",
    "            return i\n",
    "x=[1,2,3,4,5,6,7,8]\n",
    "print(first_non_repeated(x))\n",
    "#############################################################################\n",
    "print('......................................................................')\n",
    "x=[1, 2, 3, 1, 2, 4, 5, 6, 7, 8]\n",
    "print(first_non_repeated(x))\n",
    "#############################################################################\n",
    "print('......................................................................')\n",
    "x=[1, 1, 2, 3, 1, 2, 3, 8, 8]\n",
    "print(first_non_repeated(x))"
   ]
  },
  {
   "cell_type": "code",
   "execution_count": 20,
   "id": "4762c390-ada3-44cc-bf1a-d296f8c5f52e",
   "metadata": {
    "tags": []
   },
   "outputs": [
    {
     "name": "stdout",
     "output_type": "stream",
     "text": [
      "10\n",
      "-1\n",
      "-1\n",
      "30\n",
      "40\n"
     ]
    }
   ],
   "source": [
    "from collections import OrderedDict\n",
    "class LRUCache:\n",
    "    def __init__(self,capacity:int):\n",
    "        self.cache=OrderedDict()\n",
    "        self.capacity=capacity\n",
    "    def get(self,key:int):\n",
    "        if key not in self.cache:\n",
    "            return -1\n",
    "        else:\n",
    "            self.cache.move_to_end(key)\n",
    "            return self.cache[key]\n",
    "    def put(self,key: int, value: int):\n",
    "        self.cache[key]=value\n",
    "        self.cache.move_to_end(key)\n",
    "        if len(self.cache)>self.capacity:\n",
    "            self.cache.popitem(last=False)\n",
    "cache=LRUCache(2)\n",
    "cache.put(10,10)\n",
    "cache.put(20,20)\n",
    "print(cache.get(10))\n",
    "cache.put(30,30)\n",
    "print(cache.get(20))\n",
    "cache.put(40,40)\n",
    "print(cache.get(10))\n",
    "print(cache.get(30)) \n",
    "print(cache.get(40)) "
   ]
  },
  {
   "cell_type": "code",
   "execution_count": 22,
   "id": "07ee894a-8ac7-47a8-80f2-74161108f104",
   "metadata": {
    "tags": []
   },
   "outputs": [
    {
     "name": "stdout",
     "output_type": "stream",
     "text": [
      "[1, 1, 2, 3, 4, 4, 5, 6, 7, 8]\n",
      "[-3, -2, -1, 0, 1, 2]\n"
     ]
    }
   ],
   "source": [
    "from heapq import heapify, heappop, heappush\n",
    "def merge_k(x):\n",
    "    heap_x=[]\n",
    "    heapify(heap_x)\n",
    "    for i in x:\n",
    "        for j in i:\n",
    "            heappush(heap_x, j)\n",
    "    return [heappop(heap_x) for _ in range(len(heap_x))]\n",
    "x=[[1, 4, 5], [1, 3, 4], [2, 6, 7, 8]]\n",
    "r=merge_k(x)\n",
    "print(r)\n",
    "nums = [[1, 2], [-1, -2, -3], [0]]\n",
    "r=merge_k(nums)\n",
    "print(r)"
   ]
  },
  {
   "cell_type": "code",
   "execution_count": 26,
   "id": "06c70792-c434-466b-a082-5792fe23956d",
   "metadata": {
    "tags": []
   },
   "outputs": [
    {
     "name": "stdout",
     "output_type": "stream",
     "text": [
      "[(6, 4), (7, 3), (8, 2), (9, 1)]\n",
      "[]\n",
      "[(3, 2), (4, 1)]\n"
     ]
    }
   ],
   "source": [
    "def pair_sum(x,n):\n",
    "    c={}\n",
    "    pairs=[]\n",
    "    for i in x:\n",
    "        w=n-i\n",
    "        if w in c:\n",
    "            pairs.append((i,w))\n",
    "        else:\n",
    "            c[i]=w\n",
    "    return pairs\n",
    "x=[1, 2, 3, 4, 5, 6, 7, 8, 9]\n",
    "n=10\n",
    "r=pair_sum(x,n)\n",
    "print(r)\n",
    "n=35\n",
    "r=pair_sum(x,n)\n",
    "print(r)\n",
    "n=5\n",
    "r=pair_sum(x,n)\n",
    "print(r)"
   ]
  },
  {
   "cell_type": "code",
   "execution_count": null,
   "id": "fe2a29b1-5160-494b-af2d-127efd803198",
   "metadata": {},
   "outputs": [],
   "source": []
  }
 ],
 "metadata": {
  "kernelspec": {
   "display_name": "Python 3 (ipykernel)",
   "language": "python",
   "name": "python3"
  },
  "language_info": {
   "codemirror_mode": {
    "name": "ipython",
    "version": 3
   },
   "file_extension": ".py",
   "mimetype": "text/x-python",
   "name": "python",
   "nbconvert_exporter": "python",
   "pygments_lexer": "ipython3",
   "version": "3.11.3"
  }
 },
 "nbformat": 4,
 "nbformat_minor": 5
}
