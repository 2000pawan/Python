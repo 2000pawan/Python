{
 "cells": [
  {
   "cell_type": "code",
   "execution_count": 29,
   "id": "2e135f75-d74f-4e00-8139-5e50a39b91b5",
   "metadata": {
    "tags": []
   },
   "outputs": [
    {
     "name": "stdout",
     "output_type": "stream",
     "text": [
      "()\n",
      "()\n"
     ]
    }
   ],
   "source": [
    "#Q1.Write a Python program to create a tuple.\n",
    "x=()\n",
    "print(x)\n",
    "x=tuple(x)\n",
    "print(x)"
   ]
  },
  {
   "cell_type": "code",
   "execution_count": 5,
   "id": "7b421740-8f1d-442d-8444-7978ec761a35",
   "metadata": {
    "tags": []
   },
   "outputs": [
    {
     "name": "stdout",
     "output_type": "stream",
     "text": [
      "(0, 1, 2, 3, 'pawan yadav', 79.8, True, False, (22+3j)) = <class 'tuple'>\n"
     ]
    }
   ],
   "source": [
    "#Q2.Write a Python program to create a tuple with different data types.\n",
    "x=(0,1,2,3,'pawan yadav',79.8,True,False,22+3j)\n",
    "print(x,'=',type(x))"
   ]
  },
  {
   "cell_type": "code",
   "execution_count": 8,
   "id": "c62cefc1-fbe2-4c39-b3df-010d2f115c2e",
   "metadata": {
    "tags": []
   },
   "outputs": [
    {
     "name": "stdout",
     "output_type": "stream",
     "text": [
      "(5, 10, 15, 20, 25) \n",
      " (5,)\n"
     ]
    }
   ],
   "source": [
    "#Q3.Write a Python program to create a tuple of numbers and print one item.\n",
    "x=5,10,15,20,25\n",
    "y=5,\n",
    "print(x,'\\n',y)"
   ]
  },
  {
   "cell_type": "code",
   "execution_count": 22,
   "id": "4fdaf445-7ae9-4fd9-b3a6-3309518695dc",
   "metadata": {
    "tags": []
   },
   "outputs": [
    {
     "name": "stdout",
     "output_type": "stream",
     "text": [
      "('Red', 'Black', 'Blue', 'Green')\n"
     ]
    }
   ],
   "source": [
    "#Q4. Write a Python program to unpack a tuple into several variables.\n",
    "x='Red','Black','Blue','Green'\n",
    "a,b,*c=x\n",
    "print(x,sep=',')"
   ]
  },
  {
   "cell_type": "code",
   "execution_count": 71,
   "id": "ae7fcbe8-3f07-46f8-8a86-87360fbb2f46",
   "metadata": {
    "tags": []
   },
   "outputs": [
    {
     "name": "stdout",
     "output_type": "stream",
     "text": [
      "(4, 6, 2, 8, 3, 1)\n",
      "(4, 6, 2, 8, 3, 1, 9)\n",
      "(4, 6, 2, 8, 3, 15, 20, 25, 4, 6, 2, 8, 3)\n"
     ]
    },
    {
     "data": {
      "text/plain": [
       "(4, 6, 2, 8, 3, 15, 20, 25, 4, 6, 2, 8, 3, 30)"
      ]
     },
     "execution_count": 71,
     "metadata": {},
     "output_type": "execute_result"
    }
   ],
   "source": [
    "#Q5.Write a Python program to add an item to a tuple.\n",
    "x=(4,6,2,8,3,1)\n",
    "print(x)\n",
    "y=x+(9,)\n",
    "print(y)\n",
    "y=x[:5]+(15,20,25)+x[:5]\n",
    "print(y)\n",
    "y=y+(30,)\n",
    "y"
   ]
  },
  {
   "cell_type": "code",
   "execution_count": 91,
   "id": "fc8386b8-c02e-419e-8cc8-1d0f805f0d99",
   "metadata": {
    "tags": []
   },
   "outputs": [
    {
     "name": "stdout",
     "output_type": "stream",
     "text": [
      "('e', 'x', 'e', 'r', 'c', 'i', 's', 'e')\n",
      "exercise\n"
     ]
    }
   ],
   "source": [
    "#Q6.Write a Python program to convert a tuple to a string.\n",
    "x=('e','x','e','r','c','i','s','e')\n",
    "print(x)\n",
    "print(''.join(x))"
   ]
  },
  {
   "cell_type": "code",
   "execution_count": 93,
   "id": "33ff8982-29f2-40df-aad2-9c241b2afc20",
   "metadata": {
    "tags": []
   },
   "outputs": [
    {
     "name": "stdout",
     "output_type": "stream",
     "text": [
      "('w', 3, 'r', 'e', 's', 'o', 'u', 'r', 'c', 'e')\n",
      "e\n",
      "u\n"
     ]
    }
   ],
   "source": [
    "#Q7.Write a Python program to get the 4th element from the last element of a tuple.\n",
    "x=('w',3,'r','e','s','o','u','r','c','e')\n",
    "print(x)\n",
    "print(x[3])\n",
    "print(x[-4])"
   ]
  },
  {
   "cell_type": "code",
   "execution_count": 96,
   "id": "236190af-03c2-49c6-833c-4066209ac96d",
   "metadata": {
    "tags": []
   },
   "outputs": [
    {
     "name": "stdout",
     "output_type": "stream",
     "text": [
      "('Hello', 5, [], True) 3115363062608\n",
      "('Hello', 5, [], True) 3115363066128\n",
      "('Hello', 5, [50], True) 3115363066128\n",
      "('Hello', 5, [], True) 3115363062608\n"
     ]
    }
   ],
   "source": [
    "#Q8.Write a Python program to create the colon of a tuple.\n",
    "from copy import deepcopy\n",
    "x=('Hello',5,[],True)\n",
    "print(x,id(x))\n",
    "x_copy=deepcopy(x)\n",
    "print(x_copy,id(x_copy))\n",
    "x_copy[2].append(50)\n",
    "print(x_copy,id(x_copy))\n",
    "print(x,id(x))"
   ]
  },
  {
   "cell_type": "code",
   "execution_count": 106,
   "id": "ed63d54c-2b56-4120-b0eb-244b7685d21f",
   "metadata": {
    "tags": []
   },
   "outputs": [
    {
     "name": "stdout",
     "output_type": "stream",
     "text": [
      "(1, 2, 5, 7, 8, 9, 7, 4, 3, 5, 1, 4, 2, 6, 1)\n",
      "3\n"
     ]
    }
   ],
   "source": [
    "#Q9. Write a Python program to find repeated items in a tuple.\n",
    "x=(1,2,5,7,8,9,7,4,3,5,1,4,2,6,1)\n",
    "print(x)\n",
    "print(x.count(1))"
   ]
  },
  {
   "cell_type": "code",
   "execution_count": 124,
   "id": "c8d741b6-d975-4141-bf11-0c1c02d3cb28",
   "metadata": {
    "tags": []
   },
   "outputs": [
    {
     "name": "stdin",
     "output_type": "stream",
     "text": [
      "enter char: r\n"
     ]
    },
    {
     "name": "stdout",
     "output_type": "stream",
     "text": [
      "True\n"
     ]
    },
    {
     "name": "stdin",
     "output_type": "stream",
     "text": [
      "enter char: 5\n"
     ]
    },
    {
     "name": "stdout",
     "output_type": "stream",
     "text": [
      "False\n"
     ]
    }
   ],
   "source": [
    "#Q10. Write a Python program to check whether an element exists within a tuple.\n",
    "x=('w',3,'r','e','s','o','u','r','c','e')\n",
    "for y in range(2):\n",
    "    y=(input('enter char:'))\n",
    "    if y in x:\n",
    "        print(True)\n",
    "    else:\n",
    "        print(False)"
   ]
  },
  {
   "cell_type": "code",
   "execution_count": 126,
   "id": "05a2b7d6-468a-4c8c-904e-d92b0b402497",
   "metadata": {
    "tags": []
   },
   "outputs": [
    {
     "name": "stdout",
     "output_type": "stream",
     "text": [
      "['w', 3, 'r', 'e', 's', 'o', 'u', 'r', 'c', 'e']\n",
      "('w', 3, 'r', 'e', 's', 'o', 'u', 'r', 'c', 'e')\n"
     ]
    }
   ],
   "source": [
    "#Q11. Write a Python program to convert a list to a tuple.\n",
    "x=['w',3,'r','e','s','o','u','r','c','e']\n",
    "print(x)\n",
    "print(tuple(x))"
   ]
  },
  {
   "cell_type": "code",
   "execution_count": 6,
   "id": "10e35e7c-4eb4-4fa0-9b61-54fb6ec82feb",
   "metadata": {},
   "outputs": [
    {
     "name": "stdout",
     "output_type": "stream",
     "text": [
      "('w', 3, 'e', 's', 'o', 'u', 'r', 'c', 'e')\n"
     ]
    }
   ],
   "source": [
    "#Q12.Write a Python program to remove an item from a tuple.\n",
    "x=('w',3,'r','e','s','o','u','r','c','e')\n",
    "y=list(x)\n",
    "y.remove('r')\n",
    "print(tuple(y))"
   ]
  },
  {
   "cell_type": "code",
   "execution_count": 7,
   "id": "22ef7ca6-9c13-4332-a623-d273522cea1a",
   "metadata": {
    "tags": []
   },
   "outputs": [
    {
     "data": {
      "text/plain": [
       "('w', 3, 'e', 's', 'o', 'u', 'r', 'c', 'e')"
      ]
     },
     "execution_count": 7,
     "metadata": {},
     "output_type": "execute_result"
    }
   ],
   "source": [
    "#Q13.Write a Python program to slice a tuple.\n",
    "x=('w',3,'r','e','s','o','u','r','c','e')\n",
    "y=x[:2]+x[3:]\n",
    "y"
   ]
  },
  {
   "cell_type": "code",
   "execution_count": 30,
   "id": "925cc116-4be9-4b4b-9aed-3fead2679f57",
   "metadata": {
    "tags": []
   },
   "outputs": [
    {
     "name": "stdout",
     "output_type": "stream",
     "text": [
      "(5, 4)\n",
      "(2, 4, 3, 5, 4, 6)\n",
      "(6, 7, 8, 6, 1)\n",
      ".................................................................\n"
     ]
    },
    {
     "data": {
      "text/plain": [
       "3"
      ]
     },
     "execution_count": 30,
     "metadata": {},
     "output_type": "execute_result"
    }
   ],
   "source": [
    "#Q14.Write a Python program to find the index of an item in a tuple.\n",
    "n=(2,4,3,5,4,6,7,8,6,1)\n",
    "print(n[3:5])\n",
    "print(n[:6])\n",
    "print(n[5:])\n",
    "##########################################################################\n",
    "print('.................................................................')\n",
    "n=(2,4,3,5,4,6,7,8,6,1)\n",
    "# Define a segment of the 'tuplex' tuple (from index 3 to 6) within which you want to search for the character 5\n",
    "n.index(5,3,6)"
   ]
  },
  {
   "cell_type": "code",
   "execution_count": 16,
   "id": "f0123c76-a9a3-4a5f-924e-899562edee9a",
   "metadata": {
    "tags": []
   },
   "outputs": [
    {
     "name": "stdout",
     "output_type": "stream",
     "text": [
      "10\n"
     ]
    }
   ],
   "source": [
    "#Q15.Write a Python program to find the length of a tuple.\n",
    "n=(2,4,3,5,4,6,7,8,6,1)\n",
    "print(len(n))"
   ]
  },
  {
   "cell_type": "code",
   "execution_count": 31,
   "id": "a824d89e-6ee5-4b79-8ddb-19f14dd5feae",
   "metadata": {
    "tags": []
   },
   "outputs": [
    {
     "name": "stdout",
     "output_type": "stream",
     "text": [
      "{'w': 2, 'r': 3}\n"
     ]
    }
   ],
   "source": [
    "#Q16. Write a Python program to convert a tuple to a dictionary.\n",
    "t=((2,'w'),(3,'r'))\n",
    "r=dict((y,x) for x, y in t)\n",
    "print(r)"
   ]
  },
  {
   "cell_type": "code",
   "execution_count": 32,
   "id": "938e448e-20a6-481e-bd4e-5a9a20a7d0b3",
   "metadata": {
    "tags": []
   },
   "outputs": [
    {
     "data": {
      "text/plain": [
       "[(1, 3, 8), (2, 4, 9)]"
      ]
     },
     "execution_count": 32,
     "metadata": {},
     "output_type": "execute_result"
    }
   ],
   "source": [
    "#Q17.Write a Python program to unzip a list of tuples into individual lists.\n",
    "l = [(1, 2), (3, 4), (8, 9)]\n",
    "p=list(zip(*l))\n",
    "p"
   ]
  },
  {
   "cell_type": "code",
   "execution_count": 22,
   "id": "f73f33ad-da36-43b7-a697-32c9364ac10d",
   "metadata": {
    "tags": []
   },
   "outputs": [
    {
     "name": "stdout",
     "output_type": "stream",
     "text": [
      "(1, 6, 8, 7, 6, 4, 5, 3, 4, 2)\n",
      "(1, 6, 8, 7, 6, 4, 5, 3, 4, 2)\n"
     ]
    }
   ],
   "source": [
    "#Q18.Write a Python program to reverse a tuple.\n",
    "n=(2,4,3,5,4,6,7,8,6,1)\n",
    "x=reversed(n)\n",
    "print(tuple(x))\n",
    "print(n[-1::-1])"
   ]
  },
  {
   "cell_type": "code",
   "execution_count": 24,
   "id": "ec7794c8-fa69-41dc-9d82-88e5895bd58a",
   "metadata": {
    "tags": []
   },
   "outputs": [
    {
     "name": "stdout",
     "output_type": "stream",
     "text": [
      "{'x': [1, 2, 3], 'y': [1, 2], 'z': [1]}\n"
     ]
    }
   ],
   "source": [
    "#Q19.Write a Python program to convert a list of tuples into a dictionary.\n",
    "l = [(\"x\", 1), (\"x\", 2), (\"x\", 3), (\"y\", 1), (\"y\", 2), (\"z\", 1)]\n",
    "m={}\n",
    "for i,j in l:\n",
    "    m.setdefault(i,[]).append(j)\n",
    "print(m)"
   ]
  },
  {
   "cell_type": "code",
   "execution_count": 29,
   "id": "ed825cc7-5f1c-4330-9aaf-4072159dde9b",
   "metadata": {
    "tags": []
   },
   "outputs": [
    {
     "name": "stdout",
     "output_type": "stream",
     "text": [
      "This is a tuple (100, 200, 300)\n"
     ]
    },
    {
     "data": {
      "text/plain": [
       "tuple"
      ]
     },
     "execution_count": 29,
     "metadata": {},
     "output_type": "execute_result"
    }
   ],
   "source": [
    "#Q20.Write a Python program to print a tuple with string formatting.\n",
    "n=(100,200,300)\n",
    "print(('This is a tuple {0}'.format(n)))\n",
    "type(n)"
   ]
  },
  {
   "cell_type": "code",
   "execution_count": 63,
   "id": "cf82dc37-1693-4c1a-840a-13f6e19db967",
   "metadata": {
    "tags": []
   },
   "outputs": [
    {
     "name": "stdout",
     "output_type": "stream",
     "text": [
      "[(10, 20, 100), (40, 50, 100), (70, 80, 100)]\n",
      "\n",
      "[(10, 20, 100), (40, 50, 100), (70, 80, 100)]\n"
     ]
    }
   ],
   "source": [
    "#Q21.Write a Python program to replace the last value of tuples in a list.\n",
    "x=[(10, 20, 40), (40, 50, 60), (70, 80, 90)]\n",
    "y=[]\n",
    "for i in x:\n",
    "    j=list(i)\n",
    "    j[2]=100\n",
    "    y.append(tuple(j))\n",
    "print(y)\n",
    "######################################################################\n",
    "######################################################################\n",
    "print('')\n",
    "print([t[:-1] + (100,) for t in x]) "
   ]
  },
  {
   "cell_type": "code",
   "execution_count": 1,
   "id": "320c2d55-2af4-417e-bf91-1084af0bbe0f",
   "metadata": {
    "tags": []
   },
   "outputs": [
    {
     "name": "stdout",
     "output_type": "stream",
     "text": [
      "[('',), ('a', 'b'), ('a', 'b', 'c'), 'd']\n",
      "\n",
      "[('',), ('a', 'b'), ('a', 'b', 'c'), 'd']\n"
     ]
    }
   ],
   "source": [
    "#Q22. Write a Python program to remove an empty tuple(s) from a list of tuples.\n",
    "x= [(), (), ('',), ('a', 'b'), ('a', 'b', 'c'), ('d')]\n",
    "for i in range(2):\n",
    "    x.remove(())\n",
    "print(x)\n",
    "###################################################\n",
    "print('')\n",
    "for i in x:\n",
    "    i\n",
    "print(x)"
   ]
  },
  {
   "cell_type": "code",
   "execution_count": 7,
   "id": "fe6836a9-f364-4e22-b079-77eb60dee2cb",
   "metadata": {
    "tags": []
   },
   "outputs": [
    {
     "data": {
      "text/plain": [
       "[('item3', '24.5'), ('item2', '15.10'), ('item1', '12.20')]"
      ]
     },
     "execution_count": 7,
     "metadata": {},
     "output_type": "execute_result"
    }
   ],
   "source": [
    "#Q23. Write a Python program to sort a tuple by its float element.\n",
    "x=[('item1', '12.20'), ('item2', '15.10'), ('item3', '24.5')]\n",
    "y=sorted(x,key=lambda x: float(x[1]),reverse=True)\n",
    "y"
   ]
  },
  {
   "cell_type": "code",
   "execution_count": 11,
   "id": "8704bc72-f7a6-481a-b727-49c053f856dd",
   "metadata": {
    "tags": []
   },
   "outputs": [
    {
     "name": "stdout",
     "output_type": "stream",
     "text": [
      "3\n"
     ]
    }
   ],
   "source": [
    "#Q24.Write a Python program to count the elements in a list until an element is a tuple.\n",
    "num = [10, 20, 30, (10, 20), 40]\n",
    "x=0\n",
    "for i in num:\n",
    "    if isinstance(i,tuple):\n",
    "        break\n",
    "    x+=1\n",
    "print(x)"
   ]
  },
  {
   "cell_type": "code",
   "execution_count": 27,
   "id": "4881dd41-89a8-43e5-8ff4-fe5b44efb4f4",
   "metadata": {
    "tags": []
   },
   "outputs": [
    {
     "name": "stdout",
     "output_type": "stream",
     "text": [
      "Python3.0 ----> <class 'str'>\n",
      "('P', 'y', 't', 'h', 'o', 'n', '3', '.', '0') -----> <class 'tuple'>\n",
      "\n",
      "..........................................................................\n",
      "\n",
      "pawan yadav\n",
      "('p', 'a', 'w', 'a', 'n', 'y', 'a', 'd', 'a', 'v')\n"
     ]
    }
   ],
   "source": [
    "#Q25.Write a Python program to convert a given string list to a tuple.\n",
    "x='Python3.0'\n",
    "print(x,'---->',type(x))\n",
    "y=tuple(x)\n",
    "print(y,'----->',type(y))\n",
    "##########################################\n",
    "print('\\n..........................................................................\\n')\n",
    "a='pawan yadav'\n",
    "print(a)\n",
    "print(tuple(i for i in a if not i.isspace()))"
   ]
  },
  {
   "cell_type": "code",
   "execution_count": 40,
   "id": "ec5682a9-b114-4be5-ad8a-01adf64677c2",
   "metadata": {
    "tags": []
   },
   "outputs": [
    {
     "name": "stdout",
     "output_type": "stream",
     "text": [
      "multiplying all the numbers of the said tuple:\n",
      "-864\n",
      "..........................................................................\n",
      "multiplying all the numbers of the said tuple:\n",
      "27648\n",
      "..........................................................................\n",
      "-864\n",
      "27648\n"
     ]
    }
   ],
   "source": [
    "#Q26.Write a Python program to calculate the product, multiplying all the numbers in a given tuple.\n",
    "a=(4, 3, 2, 2, -1, 18)\n",
    "x=1\n",
    "for i in a:\n",
    "    x*=i\n",
    "print('multiplying all the numbers of the said tuple:\\n',x,sep='')\n",
    "##########################################\n",
    "print('..........................................................................')\n",
    "b=(2, 4, 8, 8, 3, 2, 9)\n",
    "y=1\n",
    "for i in b:\n",
    "    y*=i\n",
    "print('multiplying all the numbers of the said tuple:\\n',y,sep='')\n",
    "##########################################\n",
    "print('..........................................................................')\n",
    "def multiply(p):\n",
    "    q=1\n",
    "    for i in p:\n",
    "        q*=i\n",
    "    return q\n",
    "print(multiply((4, 3, 2, 2, -1, 18)))\n",
    "print(multiply((2, 4, 8, 8, 3, 2, 9)))"
   ]
  },
  {
   "cell_type": "code",
   "execution_count": 33,
   "id": "8dfaf290-3686-4099-a754-75036ba34f81",
   "metadata": {
    "tags": []
   },
   "outputs": [
    {
     "name": "stdout",
     "output_type": "stream",
     "text": [
      "[-1, 23, -6, -2]\n",
      "[10, 44, 58, 2]\n",
      "........................................................................\n",
      "[30.5, 34.25, 27.0, 23.25]\n",
      "[25.5, -18.0, 3.75]\n"
     ]
    }
   ],
   "source": [
    "#Q27.Write a Python program to calculate the average value of the numbers in a given tuple of tuples.\n",
    "def average(x):\n",
    "    p=[]\n",
    "    for i in x:\n",
    "        q=0\n",
    "        for j in i:\n",
    "            q+=j\n",
    "        q=q//len(i)\n",
    "        p.append(q)\n",
    "    return p\n",
    "print(average(((1, 1, -5), (30, -15, 56), (81, -60, -39), (-10, 2, 3))))\n",
    "print(average(((10, 10, 10, 12), (30, 45, 56, 45), (81, 80, 39, 32), (1, 2, 3, 4))))\n",
    "####################################################################################\n",
    "print('........................................................................')\n",
    "x=((10, 10, 10, 12), (30, 45, 56, 45), (81, 80, 39, 32), (1, 2, 3, 4))\n",
    "y=((1, 1, -5), (30, -15, 56), (81, -60, -39), (-10, 2, 3))\n",
    "def average(x):\n",
    "    p=[]\n",
    "    for i in zip(*x):\n",
    "        q=sum(i)/len(i)\n",
    "        p.append(q)\n",
    "    return p\n",
    "print(average(((10, 10, 10, 12), (30, 45, 56, 45), (81, 80, 39, 32), (1, 2, 3, 4))))\n",
    "print(average(((1, 1, -5), (30, -15, 56), (81, -60, -39), (-10, 2, 3))))"
   ]
  },
  {
   "cell_type": "code",
   "execution_count": 65,
   "id": "c264a56d-4feb-4d61-9059-7951839bd76a",
   "metadata": {
    "tags": []
   },
   "outputs": [
    {
     "name": "stdout",
     "output_type": "stream",
     "text": [
      "[30.5, 34.25, 27.0, 23.25]\n",
      "[25.5, -18.0, 3.75]\n"
     ]
    }
   ],
   "source": []
  },
  {
   "cell_type": "code",
   "execution_count": 102,
   "id": "d0c51f60-c93d-462f-a223-42a1d8645667",
   "metadata": {
    "tags": []
   },
   "outputs": [
    {
     "name": "stdout",
     "output_type": "stream",
     "text": [
      "(('333', '33'), ('1416', '55'))\n",
      "((333, 33), (1416, 55))\n"
     ]
    }
   ],
   "source": [
    "#Q28. Write a Python program to convert a tuple of string values to a tuple of integer values.\n",
    "x=(('333', '33'), ('1416', '55'))\n",
    "p=[]\n",
    "for i in x:\n",
    "    a=[]\n",
    "    for j in i:\n",
    "        a.append(int(j))\n",
    "    p.append(tuple(a))\n",
    "print(x)\n",
    "print(tuple(p))"
   ]
  },
  {
   "cell_type": "code",
   "execution_count": 132,
   "id": "342fcb46-3b55-433d-99b0-0b245e4c1b80",
   "metadata": {
    "tags": []
   },
   "outputs": [
    {
     "name": "stdout",
     "output_type": "stream",
     "text": [
      "Original tuple:\n",
      "(1,2,3)\n",
      "Convert the said tuple of positive integers into an integer:\n",
      "123\n",
      "Original tuple:\n",
      "(10,20,40,5,70)\n",
      "Convert the said tuple of positive integers into an integer:\n",
      "102040570\n"
     ]
    }
   ],
   "source": [
    "#Q29. Write a Python program to convert a given tuple of positive integers into an integer.\n",
    "def tuple_to_int(n):\n",
    "    x=int(''.join(map(str,n)))\n",
    "    return x\n",
    "print('Original tuple:\\n(1,2,3)\\n','Convert the said tuple of positive integers into an integer:\\n',tuple_to_int((1,2,3)),sep='')\n",
    "print('Original tuple:\\n(10,20,40,5,70)\\n','Convert the said tuple of positive integers into an integer:\\n',tuple_to_int((10,20,40,5,70)),sep='')"
   ]
  },
  {
   "cell_type": "code",
   "execution_count": 3,
   "id": "9c918bac-55ad-493d-a98a-a293ecb0f6b0",
   "metadata": {
    "tags": []
   },
   "outputs": [
    {
     "name": "stdin",
     "output_type": "stream",
     "text": [
      "Enter Color name To check it present or not!:-  red\n"
     ]
    },
    {
     "name": "stdout",
     "output_type": "stream",
     "text": [
      "Check if Red present in said tuple of tuples!\n",
      "True\n"
     ]
    },
    {
     "name": "stdin",
     "output_type": "stream",
     "text": [
      "Enter Color name To check it present or not!:-  brown\n"
     ]
    },
    {
     "name": "stdout",
     "output_type": "stream",
     "text": [
      "Check if Brown present in said tuple of tuples!\n",
      "False\n"
     ]
    },
    {
     "name": "stdin",
     "output_type": "stream",
     "text": [
      "Enter Color name To check it present or not!:-  blue\n"
     ]
    },
    {
     "name": "stdout",
     "output_type": "stream",
     "text": [
      "Check if Blue present in said tuple of tuples!\n",
      "True\n"
     ]
    }
   ],
   "source": [
    "#Q30.Write a Python program to check if a specified element appears in a tuple of tuples.\n",
    "x=(('Red', 'White', 'Blue'), ('Green', 'Pink', 'Purple'), ('Orange', 'Yellow', 'Lime'))\n",
    "for j in range(3):\n",
    "    j=((input('Enter Color name To check it present or not!:- ')).capitalize())\n",
    "    y=any(j in x for x in x)\n",
    "    print('Check if ',j,' present in said tuple of tuples!\\n',y,sep='')"
   ]
  },
  {
   "cell_type": "code",
   "execution_count": 9,
   "id": "e4ef8463-f5a2-48cf-9854-4c8f8a85402b",
   "metadata": {
    "tags": []
   },
   "outputs": [
    {
     "name": "stdout",
     "output_type": "stream",
     "text": [
      "Original lists:\n",
      "(1, 2, 3, 4)\n",
      "(3, 5, 2, 1)\n",
      "(2, 2, 3, 1)\n",
      "Element-wise sum of the said tuples:\n",
      "(6, 9, 8, 6)\n",
      ".........................................................\n",
      "Original lists:\n",
      "(1, 2, 3, 4)\n",
      "(3, 5, 2, 1)\n",
      "(2, 2, 3, 1)\n",
      "Element-wise sum of the said tuples:\n",
      "[6, 9, 8, 6]\n"
     ]
    }
   ],
   "source": [
    "#Q31. Write a Python program to compute the element-wise sum of given tuples.\n",
    "x=(1, 2, 3, 4)\n",
    "y=(3, 5, 2, 1)\n",
    "z=(2, 2, 3, 1)\n",
    "p=[]\n",
    "for i in zip(*(x,y,z)):\n",
    "    q=sum(i)\n",
    "    p.append(q)\n",
    "print(\"Original lists:\\n\",x,'\\n',y,'\\n',z,sep='')\n",
    "print(\"Element-wise sum of the said tuples:\\n\",tuple(p),sep='')\n",
    "#########################################################\n",
    "print('.........................................................')\n",
    "def sum_tuple(x,y,z):\n",
    "    p=[]\n",
    "    for i in zip(*(x,y,z)):\n",
    "        q=sum(i)\n",
    "        p.append(q)\n",
    "    return p\n",
    "x=(1, 2, 3, 4)\n",
    "y=(3, 5, 2, 1)\n",
    "z=(2, 2, 3, 1)\n",
    "print(\"Original lists:\\n\",x,'\\n',y,'\\n',z,sep='')\n",
    "print(\"Element-wise sum of the said tuples:\\n\",(sum_tuple(x,y,z)),sep='')"
   ]
  },
  {
   "cell_type": "code",
   "execution_count": 16,
   "id": "f92067a0-42ca-4518-8801-6c7477b7228b",
   "metadata": {
    "tags": []
   },
   "outputs": [
    {
     "name": "stdout",
     "output_type": "stream",
     "text": [
      "Original list of tuples..\n",
      "[(1, 2), (2, 3), (3, 4)]\n",
      "Sum of all the elements of each tuple stored inside the said list of tuples..\n",
      "[3, 5, 7]\n",
      ".......................................................................................\n",
      "Original list of tuples..\n",
      "[(1, 2, 6), (2, 3, -6), (3, 4), (2, 2, 2, 2)]\n",
      "Sum of all the elements of each tuple stored inside the said list of tuples..\n",
      "[9, -1, 7, 8]\n"
     ]
    }
   ],
   "source": [
    "#Q32.Write a Python program to compute the sum of all the elements of each tuple stored inside a list of tuples.\n",
    "def sum_list_tuple(x):\n",
    "    p=[]\n",
    "    for i in x:\n",
    "        q=0\n",
    "        for j in i:\n",
    "            q+=j\n",
    "        p.append(q)\n",
    "    return p\n",
    "print(\"Original list of tuples..\\n[(1, 2), (2, 3), (3, 4)]\",'\\nSum of all the elements of each tuple stored inside the said list of tuples..\\n',sum_list_tuple([(1, 2), (2, 3), (3, 4)]),sep='')\n",
    "print('.......................................................................................')\n",
    "print(\"Original list of tuples..\\n[(1, 2, 6), (2, 3, -6), (3, 4), (2, 2, 2, 2)]\",'\\nSum of all the elements of each tuple stored inside the said list of tuples..\\n',sum_list_tuple([(1, 2, 6), (2, 3, -6), (3, 4), (2, 2, 2, 2)]),sep='')"
   ]
  },
  {
   "cell_type": "code",
   "execution_count": 19,
   "id": "2d3b0e3d-7c60-4a20-8345-7d63b57af9e9",
   "metadata": {
    "tags": []
   },
   "outputs": [
    {
     "name": "stdout",
     "output_type": "stream",
     "text": [
      "Original list of tuples..\n",
      "[(1, 2), (2, 3), (3, 4)]\n",
      "Sum of all the elements of each tuple stored inside the said list of tuples..\n",
      "[3, 5, 7]\n",
      ".......................................................................................\n",
      "Original list of tuples..\n",
      "[(1, 2, 6), (2, 3, -6), (3, 4), (2, 2, 2, 2)]\n",
      "Sum of all the elements of each tuple stored inside the said list of tuples..\n",
      "[9, -1, 7, 8]\n"
     ]
    }
   ],
   "source": [
    "#Q32.Write a Python program to compute the sum of all the elements of each tuple stored inside a list of tuples.\n",
    "def sum_map(x):\n",
    "    p=map(sum,x)\n",
    "    return list(p)\n",
    "print(\"Original list of tuples..\\n[(1, 2), (2, 3), (3, 4)]\",'\\nSum of all the elements of each tuple stored inside the said list of tuples..\\n',sum_map([(1, 2), (2, 3), (3, 4)]),sep='')\n",
    "print('.......................................................................................')\n",
    "print(\"Original list of tuples..\\n[(1, 2, 6), (2, 3, -6), (3, 4), (2, 2, 2, 2)]\",'\\nSum of all the elements of each tuple stored inside the said list of tuples..\\n',sum_map([(1, 2, 6), (2, 3, -6), (3, 4), (2, 2, 2, 2)]),sep='')"
   ]
  },
  {
   "cell_type": "code",
   "execution_count": 28,
   "id": "6465b15d-1feb-4b76-a167-a7f5fcce1cb6",
   "metadata": {
    "tags": []
   },
   "outputs": [
    {
     "name": "stdout",
     "output_type": "stream",
     "text": [
      "Original list of tuples:\n",
      "[(1, 2), (2, 3), (3, 4)]\n",
      "Convert the said list of tuples to a list of lists:\n",
      "[[1, 2], [2, 3], [3, 4]]\n",
      "Original list of tuples:\n",
      "[(1, 2), (2, 3, 5), (3, 4), (2, 3, 4, 2)]\n",
      "Convert the said list of tuples to a list of lists:\n",
      "[[1, 2], [2, 3, 5], [3, 4], [2, 3, 4, 2]]\n"
     ]
    }
   ],
   "source": [
    "#Q33. Write a Python program to convert a given list of tuples to a list of lists.\n",
    "def list_list(x):\n",
    "    y=[list(i) for i in x]\n",
    "    return y\n",
    "print('Original list of tuples:\\n[(1, 2), (2, 3), (3, 4)]\\n','Convert the said list of tuples to a list of lists:\\n',list_list([(1, 2), (2, 3), (3, 4)]),sep='')\n",
    "print('Original list of tuples:\\n[(1, 2), (2, 3, 5), (3, 4), (2, 3, 4, 2)]\\n','Convert the said list of tuples to a list of lists:\\n',list_list([(1, 2), (2, 3, 5), (3, 4), (2, 3, 4, 2)]),sep='')"
   ]
  },
  {
   "cell_type": "code",
   "execution_count": null,
   "id": "1f70afd3-e6a5-475f-b287-6ad9c3dd43b6",
   "metadata": {},
   "outputs": [],
   "source": []
  }
 ],
 "metadata": {
  "kernelspec": {
   "display_name": "Python 3 (ipykernel)",
   "language": "python",
   "name": "python3"
  },
  "language_info": {
   "codemirror_mode": {
    "name": "ipython",
    "version": 3
   },
   "file_extension": ".py",
   "mimetype": "text/x-python",
   "name": "python",
   "nbconvert_exporter": "python",
   "pygments_lexer": "ipython3",
   "version": "3.11.3"
  }
 },
 "nbformat": 4,
 "nbformat_minor": 5
}
