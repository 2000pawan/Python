{
 "cells": [
  {
   "cell_type": "code",
   "execution_count": 2,
   "id": "4dd9512d-86c6-417e-9aa8-14213f58b96f",
   "metadata": {},
   "outputs": [
    {
     "name": "stdout",
     "output_type": "stream",
     "text": [
      "1\n",
      "3\n",
      "5\n",
      "7\n",
      "9\n",
      "Access first three items individually\n",
      "1\n",
      "3\n",
      "5\n"
     ]
    }
   ],
   "source": [
    "from array import *\n",
    "a=array('i',[1,3,5,7,9])\n",
    "for i in a:\n",
    "    print(i)\n",
    "print(\"Access first three items individually\")\n",
    "print(a[0],'\\n',a[1],'\\n',a[2],sep='')"
   ]
  },
  {
   "cell_type": "code",
   "execution_count": 7,
   "id": "21694942-acd7-43cf-b581-45b2f0d33be3",
   "metadata": {
    "tags": []
   },
   "outputs": [
    {
     "name": "stdout",
     "output_type": "stream",
     "text": [
      "array('i', [1, 3, 5, 7, 9])\n",
      "array('i', [1, 3, 5, 7, 11])\n",
      "array('i', [1, 3, 5, 7, 11, 12])\n"
     ]
    }
   ],
   "source": [
    "from array import *\n",
    "a=array('i',[1,3,5,7,9])\n",
    "print(a)\n",
    "a[-1]=11\n",
    "print(a)\n",
    "a.append(12)\n",
    "print(a)"
   ]
  },
  {
   "cell_type": "code",
   "execution_count": 8,
   "id": "c4f801ce-d432-483d-8fd7-8c85585b4417",
   "metadata": {
    "tags": []
   },
   "outputs": [
    {
     "name": "stdout",
     "output_type": "stream",
     "text": [
      "array('i', [3, 9, 7, 1, 7, 3, 5, 3, 1])\n",
      "array('i', [3, 9, 7, 1, 7, 3, 5, 3, 1])\n"
     ]
    }
   ],
   "source": [
    "from array import *\n",
    "a=array('i',[1,3,5,3,7,1,7,9,3])\n",
    "print(a[::-1])\n",
    "a.reverse()\n",
    "print(a)"
   ]
  },
  {
   "cell_type": "code",
   "execution_count": 12,
   "id": "43602cc1-81c2-4cfa-aa70-7735d179ce90",
   "metadata": {
    "tags": []
   },
   "outputs": [
    {
     "name": "stdout",
     "output_type": "stream",
     "text": [
      "4\n"
     ]
    }
   ],
   "source": [
    "from array import *\n",
    "a=array('i',[1,3,5,7,9])\n",
    "print((a.itemsize))"
   ]
  },
  {
   "cell_type": "code",
   "execution_count": 24,
   "id": "15727ede-20a1-41cc-a157-30edf86a519d",
   "metadata": {
    "tags": []
   },
   "outputs": [
    {
     "name": "stdout",
     "output_type": "stream",
     "text": [
      "(1937823039696, 5)\n",
      "20\n"
     ]
    }
   ],
   "source": [
    "from array import *\n",
    "a=array('i',[1,3,5,7,9])\n",
    "print(a.buffer_info())\n",
    "print(a.buffer_info()[1]*a.itemsize)"
   ]
  },
  {
   "cell_type": "code",
   "execution_count": 26,
   "id": "a34d8a4f-352c-4670-973c-8762ff03a80f",
   "metadata": {
    "tags": []
   },
   "outputs": [
    {
     "data": {
      "text/plain": [
       "3"
      ]
     },
     "execution_count": 26,
     "metadata": {},
     "output_type": "execute_result"
    }
   ],
   "source": [
    "from array import *\n",
    "a=array('i',[1,3,5,7,3,9,3])\n",
    "a.count(3)"
   ]
  },
  {
   "cell_type": "code",
   "execution_count": 28,
   "id": "9e02f60d-f1dc-4c2d-9f07-854bdfd7c922",
   "metadata": {
    "tags": []
   },
   "outputs": [
    {
     "name": "stdout",
     "output_type": "stream",
     "text": [
      "array('i', [1, 3, 5, 7, 9, 1, 3, 5, 7, 9])\n"
     ]
    }
   ],
   "source": [
    "from array import *\n",
    "a=array('i',[1,3,5,7,9])\n",
    "a.extend(a)\n",
    "print(a)"
   ]
  },
  {
   "cell_type": "code",
   "execution_count": 30,
   "id": "701a34fb-0ee3-4fe7-9463-c1d7a56a6576",
   "metadata": {
    "tags": []
   },
   "outputs": [
    {
     "name": "stdout",
     "output_type": "stream",
     "text": [
      "b'w3resource'\n"
     ]
    }
   ],
   "source": [
    "from array import *\n",
    "a=array('b',[119, 51, 114, 101,  115, 111, 117, 114, 99, 101])\n",
    "b=a.tobytes()\n",
    "print(b)"
   ]
  },
  {
   "cell_type": "code",
   "execution_count": 35,
   "id": "cf638704-161f-43a0-9b0c-09aafc63e539",
   "metadata": {
    "tags": []
   },
   "outputs": [
    {
     "name": "stdout",
     "output_type": "stream",
     "text": [
      "array('i', [1, 3, 5, 7, 3, 9, 3])\n"
     ]
    }
   ],
   "source": [
    "from array import *\n",
    "l=[1,3,5,7,3,9,3]\n",
    "a=array('i',[])\n",
    "a.fromlist(l)\n",
    "print(a)"
   ]
  },
  {
   "cell_type": "code",
   "execution_count": 37,
   "id": "f5d3ee1c-374d-4a2e-95c8-b9e792ef26d8",
   "metadata": {
    "tags": []
   },
   "outputs": [
    {
     "data": {
      "text/plain": [
       "array('i', [1, 4, 3, 5, 7, 9])"
      ]
     },
     "execution_count": 37,
     "metadata": {},
     "output_type": "execute_result"
    }
   ],
   "source": [
    "from array import *\n",
    "a=array('i',[1,3,5,7,9])\n",
    "a.insert(1,4)\n",
    "a"
   ]
  },
  {
   "cell_type": "code",
   "execution_count": 39,
   "id": "aaf8e1ea-a683-4708-92b4-cb3ea0651ea3",
   "metadata": {
    "tags": []
   },
   "outputs": [
    {
     "data": {
      "text/plain": [
       "array('i', [1, 3, 7, 9])"
      ]
     },
     "execution_count": 39,
     "metadata": {},
     "output_type": "execute_result"
    }
   ],
   "source": [
    "from array import *\n",
    "a=array('i',[1,3,5,7,9])\n",
    "a.pop(2)\n",
    "a"
   ]
  },
  {
   "cell_type": "code",
   "execution_count": 40,
   "id": "fd5a062a-69a1-458e-a5c7-00e6e7767222",
   "metadata": {
    "tags": []
   },
   "outputs": [
    {
     "data": {
      "text/plain": [
       "array('i', [1, 5, 3, 7, 1, 9, 3])"
      ]
     },
     "execution_count": 40,
     "metadata": {},
     "output_type": "execute_result"
    }
   ],
   "source": [
    "from array import *\n",
    "a=array('i',[1, 3, 5, 3, 7, 1, 9, 3])\n",
    "a.remove(3)\n",
    "a"
   ]
  },
  {
   "cell_type": "code",
   "execution_count": 43,
   "id": "6f98badd-1918-4e5f-a0c1-1a2220d9fb92",
   "metadata": {
    "tags": []
   },
   "outputs": [
    {
     "data": {
      "text/plain": [
       "[1, 3, 5, 3, 7, 1, 9, 3]"
      ]
     },
     "execution_count": 43,
     "metadata": {},
     "output_type": "execute_result"
    }
   ],
   "source": [
    "from array import *\n",
    "a=array('i',[1, 3, 5, 3, 7, 1, 9, 3])\n",
    "p=a.tolist()\n",
    "p"
   ]
  },
  {
   "cell_type": "code",
   "execution_count": 44,
   "id": "05f5b32a-ddc2-406a-929c-8a3dd56e8155",
   "metadata": {
    "tags": []
   },
   "outputs": [
    {
     "name": "stdout",
     "output_type": "stream",
     "text": [
      "False\n",
      "True\n",
      "True\n"
     ]
    }
   ],
   "source": [
    "def test_duplicate(x):\n",
    "    n=set(x)\n",
    "    return len(x)!=len(n)\n",
    "print(test_duplicate([1,2,3,4,5]))\n",
    "print(test_duplicate([1,2,3,4, 4]))\n",
    "print(test_duplicate([1,1,2,2,3,3,4,4,5]))"
   ]
  },
  {
   "cell_type": "code",
   "execution_count": 50,
   "id": "457f814a-8389-4d6e-8862-0e70c7736a59",
   "metadata": {
    "tags": []
   },
   "outputs": [
    {
     "name": "stdout",
     "output_type": "stream",
     "text": [
      "4\n",
      "4\n",
      "-1\n",
      "1\n"
     ]
    }
   ],
   "source": [
    "def find_duplicate(x):\n",
    "    n=set()\n",
    "    n_d=-1\n",
    "    for i in range(len(x)):\n",
    "        if x[i] in n:\n",
    "            return x[i]\n",
    "        else:\n",
    "            n.add(x[i])\n",
    "    return n_d\n",
    "print(find_duplicate([1,2,3,4, 4]))\n",
    "print(find_duplicate([1, 2, 3, 4, 4, 5]))\n",
    "print(find_duplicate([1, 2, 3, 4]))\n",
    "print(find_duplicate([1, 1, 2, 3, 3, 2, 2]))"
   ]
  },
  {
   "cell_type": "code",
   "execution_count": 4,
   "id": "e3e16d50-bd27-40b2-8ad0-0761b73ab122",
   "metadata": {},
   "outputs": [
    {
     "name": "stdout",
     "output_type": "stream",
     "text": [
      "True\n",
      "False\n"
     ]
    }
   ],
   "source": [
    "def is_samePatterns(x,y):\n",
    "    if len(x)!=len(y):\n",
    "        return False\n",
    "    sdict={}\n",
    "    p=set()\n",
    "    s=set()\n",
    "    for i in range(len(y)):\n",
    "        p.add(y[i])\n",
    "        s.add(x[i])\n",
    "        if y[i] not in sdict.keys():\n",
    "            sdict[y[i]]=[]\n",
    "        keys=sdict[y[i]]\n",
    "        keys.append(x[i])\n",
    "        sdict[y[i]]=keys\n",
    "    if len(p)!=len(s):\n",
    "        return False\n",
    "    for j in sdict.values():\n",
    "        for i in range(len(j)-1):\n",
    "            if j[i]!=j[i+1]:\n",
    "                return False\n",
    "    return True\n",
    "print(is_samePatterns([\"red\", \n",
    " \"green\", \n",
    " \"green\"], [\"a\", \n",
    " \"b\", \n",
    " \"b\"])) \n",
    "\n",
    "print(is_samePatterns([\"red\", \n",
    " \"green\", \n",
    " \"greenn\"], [\"a\", \n",
    " \"b\", \n",
    " \"b\"])) "
   ]
  },
  {
   "cell_type": "code",
   "execution_count": 5,
   "id": "5d7fbebe-4dbf-4756-b725-5367905f0700",
   "metadata": {
    "tags": []
   },
   "outputs": [
    {
     "name": "stdout",
     "output_type": "stream",
     "text": [
      "Original array: [1, 2, 3, 4, 7, 0, 8, 4]\n",
      "Maximum product pair is: (7, 8)\n",
      "\n",
      "Original array: [0, -1, -2, -4, 5, 0, -6]\n",
      "Maximum product pair is: (-4, -6)\n"
     ]
    }
   ],
   "source": [
    "def max_Product(arr):\n",
    "    arr_len=len(arr)\n",
    "    if (arr_len)<2:\n",
    "        print('No pairs exists')\n",
    "        return\n",
    "    x=arr[0]\n",
    "    y=arr[1]\n",
    "    for i in range(0,arr_len):\n",
    "        for j in range(i+1,arr_len):\n",
    "            if (arr[i]*arr[j]>x*y):\n",
    "                x=arr[i]\n",
    "                y=arr[j]\n",
    "    return x,y\n",
    "nums = [1, 2, 3, 4, 7, 0, 8, 4] \n",
    "print(\"Original array:\", nums)\n",
    "print(\"Maximum product pair is:\", max_Product(nums))\n",
    "\n",
    "nums = [0, -1, -2, -4, 5, 0, -6] \n",
    "print(\"\\nOriginal array:\", nums)\n",
    "print(\"Maximum product pair is:\", max_Product(nums))"
   ]
  },
  {
   "cell_type": "code",
   "execution_count": 7,
   "id": "9860e7ff-8f9f-42dc-9dea-5a4ba813e6bc",
   "metadata": {
    "tags": []
   },
   "outputs": [
    {
     "name": "stdout",
     "output_type": "stream",
     "text": [
      "10\n",
      "20\n",
      "30\n",
      "40\n",
      "50\n",
      "60\n"
     ]
    }
   ],
   "source": [
    "from array import *\n",
    "a=array('i',[10,20,30,40,50,60])\n",
    "for i in a:\n",
    "    print(i)"
   ]
  },
  {
   "cell_type": "code",
   "execution_count": 10,
   "id": "d7174b4f-c795-4635-809f-ed3ddbab3cbb",
   "metadata": {
    "tags": []
   },
   "outputs": [
    {
     "name": "stdout",
     "output_type": "stream",
     "text": [
      "(2921693334576, 6)\n",
      ".............................................................................\n"
     ]
    },
    {
     "data": {
      "text/plain": [
       "(2921692708528, 2)"
      ]
     },
     "execution_count": 10,
     "metadata": {},
     "output_type": "execute_result"
    }
   ],
   "source": [
    "from array import *\n",
    "a=array('i',[10,20,30,40,50,60])\n",
    "print(a.buffer_info())\n",
    "###################################################################################\n",
    "print('.............................................................................')\n",
    "from array import *\n",
    "a=array('i',(12,25))\n",
    "a.buffer_info()"
   ]
  },
  {
   "cell_type": "code",
   "execution_count": 11,
   "id": "8306ab08-8f4b-4a70-9bdb-6ec3866a0c85",
   "metadata": {
    "tags": []
   },
   "outputs": [
    {
     "name": "stdout",
     "output_type": "stream",
     "text": [
      "6\n"
     ]
    }
   ],
   "source": [
    "from array import *\n",
    "a=array('i',[10,20,30,40,50,60])\n",
    "print(len(a))"
   ]
  },
  {
   "cell_type": "code",
   "execution_count": 13,
   "id": "a17595f5-b4bc-4382-8b0c-27fbd17c4273",
   "metadata": {
    "tags": []
   },
   "outputs": [
    {
     "name": "stdout",
     "output_type": "stream",
     "text": [
      "4\n",
      "4\n"
     ]
    }
   ],
   "source": [
    "from array import *\n",
    "a=array('i',[10,20,30,40,50,60])\n",
    "print(a.itemsize)\n",
    "a=array(\"f\",(12.236,36.36))\n",
    "print(a.itemsize)"
   ]
  },
  {
   "cell_type": "code",
   "execution_count": 18,
   "id": "1f4e1d9d-8437-404a-8dbf-e1c5ef4785cb",
   "metadata": {
    "tags": []
   },
   "outputs": [
    {
     "name": "stdout",
     "output_type": "stream",
     "text": [
      "array('i', [7, 8, 9, 10])\n",
      "b'0700000008000000090000000a000000'\n",
      "array('i', [7, 8, 9, 10])\n"
     ]
    }
   ],
   "source": [
    "from array import *\n",
    "import binascii\n",
    "a=array('i', [7, 8, 9, 10])\n",
    "print(a)\n",
    "b=a.tobytes()\n",
    "print(binascii.hexlify(b))\n",
    "c=array('i')\n",
    "c.frombytes(b)\n",
    "print(c)"
   ]
  },
  {
   "cell_type": "code",
   "execution_count": 28,
   "id": "0afa093c-7c53-4374-bef1-3cfb6e6a6326",
   "metadata": {
    "tags": []
   },
   "outputs": [
    {
     "name": "stdout",
     "output_type": "stream",
     "text": [
      "{1, 3, 5, 7, 9}\n",
      ".............................................................................\n",
      "1 3 5 1 3 7 9 \n",
      "After removing duplicate elements from the said array:\n",
      "1 3 5 7 9 \n",
      ".............................................................................\n",
      "2 4 2 6 4 8 \n",
      "After removing duplicate elements from the said array:\n",
      "2 4 6 8 "
     ]
    }
   ],
   "source": [
    "from array import *\n",
    "a=array('i',(1, 3, 5, 1, 3, 7, 9))\n",
    "b=set(a)\n",
    "print(b)\n",
    "###################################################################################\n",
    "print('.............................................................................')\n",
    "import array as a\n",
    "def test(x):\n",
    "    return sorted(set(x),key=x.index)\n",
    "b=a.array('i',[1,3,5,1,3,7,9])\n",
    "for i in range(len(b)):\n",
    "    print(b[i],end=' ')\n",
    "print(\"\\nAfter removing duplicate elements from the said array:\")\n",
    "r=a.array('i',test(b))\n",
    "for i in range(len(r)):\n",
    "    print(r[i],end=' ')\n",
    "print()\n",
    "###################################################################################\n",
    "print('.............................................................................')\n",
    "b=a.array('i', [2, 4, 2, 6, 4, 8])\n",
    "for i in range(len(b)):\n",
    "    print(b[i],end=' ')\n",
    "print(\"\\nAfter removing duplicate elements from the said array:\")\n",
    "r=a.array('i',test(b))\n",
    "for i in range(len(r)):\n",
    "    print(r[i],end=' ')"
   ]
  },
  {
   "cell_type": "code",
   "execution_count": 35,
   "id": "fb06058f-09e4-4ea4-9082-b069b060e656",
   "metadata": {
    "tags": []
   },
   "outputs": [
    {
     "name": "stdout",
     "output_type": "stream",
     "text": [
      "15\n",
      ".............................................................................\n",
      "20\n",
      ".............................................................................\n",
      "Original array:\n",
      "10 11 12 13 14 16 17 18 19 20 \n",
      "Missing number in the said array (10-20):  15\n",
      ".............................................................................\n",
      "\n",
      "Original array:\n",
      "10 11 12 13 14 15 16 17 18 19 \n",
      "Missing number in the said array (10-20):  20\n"
     ]
    }
   ],
   "source": [
    "from array import *\n",
    "a=array('i',(10,11,12,13,14,16,17,18,19,20))\n",
    "for i in range(10,21):\n",
    "    if i not in a:\n",
    "        print(i)\n",
    "###################################################################################\n",
    "print('.............................................................................')\n",
    "a=array('i',(10,11,12,13,14,15,16,17,18,19))\n",
    "for i in range(10,21):\n",
    "    if i not in a:\n",
    "        print(i)\n",
    "###################################################################################\n",
    "print('.............................................................................')\n",
    "import array as arr\n",
    "def test(nums):\n",
    "    return sum(range(10, 21)) - sum(list(nums))\n",
    "\n",
    "array_num = arr.array('i', [10, 11, 12, 13, 14, 16, 17, 18, 19, 20])\n",
    "print(\"Original array:\")\n",
    "for i in range(len(array_num)):    \n",
    "    print(array_num[i], end=' ')\n",
    "print(\"\\nMissing number in the said array (10-20): \",test(array_num))\n",
    " ###################################################################################\n",
    "print('.............................................................................')\n",
    "array_num = arr.array('i', [10, 11, 12, 13, 14, 15, 16, 17, 18, 19])\n",
    "print(\"\\nOriginal array:\")\n",
    "for i in range(len(array_num)):    \n",
    "    print(array_num[i], end=' ')\n",
    "print(\"\\nMissing number in the said array (10-20): \",test(array_num))"
   ]
  },
  {
   "cell_type": "code",
   "execution_count": null,
   "id": "43423fee-a392-407c-91aa-fc7aef7f6af0",
   "metadata": {},
   "outputs": [],
   "source": []
  }
 ],
 "metadata": {
  "kernelspec": {
   "display_name": "Python 3 (ipykernel)",
   "language": "python",
   "name": "python3"
  },
  "language_info": {
   "codemirror_mode": {
    "name": "ipython",
    "version": 3
   },
   "file_extension": ".py",
   "mimetype": "text/x-python",
   "name": "python",
   "nbconvert_exporter": "python",
   "pygments_lexer": "ipython3",
   "version": "3.11.3"
  }
 },
 "nbformat": 4,
 "nbformat_minor": 5
}
